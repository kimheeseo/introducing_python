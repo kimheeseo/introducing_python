{
  "nbformat": 4,
  "nbformat_minor": 0,
  "metadata": {
    "colab": {
      "provenance": [],
      "authorship_tag": "ABX9TyPtqHhAvLCjE4O4e3HTRnHT",
      "include_colab_link": true
    },
    "kernelspec": {
      "name": "python3",
      "display_name": "Python 3"
    },
    "language_info": {
      "name": "python"
    }
  },
  "cells": [
    {
      "cell_type": "markdown",
      "metadata": {
        "id": "view-in-github",
        "colab_type": "text"
      },
      "source": [
        "<a href=\"https://colab.research.google.com/github/kimheeseo/python/blob/main/cha3_(3_5_4~).ipynb\" target=\"_parent\"><img src=\"https://colab.research.google.com/assets/colab-badge.svg\" alt=\"Open In Colab\"/></a>"
      ]
    },
    {
      "cell_type": "code",
      "execution_count": 2,
      "metadata": {
        "colab": {
          "base_uri": "https://localhost:8080/"
        },
        "id": "MfRTjmoCOQn2",
        "outputId": "33313150-4e34-47a6-b24d-d8d4d914517b"
      },
      "outputs": [
        {
          "output_type": "stream",
          "name": "stdout",
          "text": [
            "a>=b값:super set True\n",
            "a>b값:proper superset False\n"
          ]
        }
      ],
      "source": [
        "# 3.5.4 콤비네이션과 연산자\n",
        "a={1,2}\n",
        "b={1,2}\n",
        "\n",
        "print('a>=b값:super set',a>=b)\n",
        "print('a>b값:proper superset',a>b)"
      ]
    },
    {
      "cell_type": "code",
      "source": [
        "# 3.7 자료구조를 더 크게\n",
        "marxes=['Groucho','Chico','Harpo']\n",
        "pythons=['chapman','cleese','gilliam','jones','palin']\n",
        "stooges=['moe','curly','larry']\n",
        "\n",
        "tuple_of_lists=marxes, pythons, stooges\n",
        "print('tuple_of_lists 값:', tuple_of_lists)\n",
        "print('type(tuple_of_lists):',type(tuple_of_lists))\n",
        "print('\\n')\n",
        "list_of_lists=[marxes, pythons, stooges]\n",
        "print('list_of_lists 값:', list_of_lists)\n",
        "print('type(list_of_lists):',type(list_of_lists))"
      ],
      "metadata": {
        "colab": {
          "base_uri": "https://localhost:8080/"
        },
        "id": "ADzog9rkPTCT",
        "outputId": "16e8ba56-2620-41bb-e56c-f3e69efce617"
      },
      "execution_count": 5,
      "outputs": [
        {
          "output_type": "stream",
          "name": "stdout",
          "text": [
            "tuple_of_lists 값: (['Groucho', 'Chico', 'Harpo'], ['chapman', 'cleese', 'gilliam', 'jones', 'palin'], ['moe', 'curly', 'larry'])\n",
            "type(tuple_of_lists): <class 'tuple'>\n",
            "\n",
            "\n",
            "list_of_lists 값: [['Groucho', 'Chico', 'Harpo'], ['chapman', 'cleese', 'gilliam', 'jones', 'palin'], ['moe', 'curly', 'larry']]\n",
            "type(list_of_lists): <class 'list'>\n"
          ]
        }
      ]
    }
  ]
}