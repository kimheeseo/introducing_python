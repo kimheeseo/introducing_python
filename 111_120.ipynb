{
  "nbformat": 4,
  "nbformat_minor": 0,
  "metadata": {
    "colab": {
      "provenance": [],
      "authorship_tag": "ABX9TyNAtJVAETfQMgWrQAuvbWWz",
      "include_colab_link": true
    },
    "kernelspec": {
      "name": "python3",
      "display_name": "Python 3"
    },
    "language_info": {
      "name": "python"
    }
  },
  "cells": [
    {
      "cell_type": "markdown",
      "metadata": {
        "id": "view-in-github",
        "colab_type": "text"
      },
      "source": [
        "<a href=\"https://colab.research.google.com/github/kimheeseo/python/blob/main/111_120.ipynb\" target=\"_parent\"><img src=\"https://colab.research.google.com/assets/colab-badge.svg\" alt=\"Open In Colab\"/></a>"
      ]
    },
    {
      "cell_type": "code",
      "execution_count": 1,
      "metadata": {
        "colab": {
          "base_uri": "https://localhost:8080/"
        },
        "id": "bP5cBjEfUHqU",
        "outputId": "f63aa2ba-6566-4ef1-94d3-41959ab8faa8"
      },
      "outputs": [
        {
          "output_type": "stream",
          "name": "stdout",
          "text": [
            "solarsys값: ['태양', '수성', '금성', '지구', '화성', '목성', '토성', '천왕성', '해왕성']\n",
            "solarsys값: ['수성', '금성', '지구', '화성', '목성', '토성', '천왕성', '해왕성']\n"
          ]
        }
      ],
      "source": [
        "# 중급 111. 리스트의 특정 위치의 요소 제거하기(del)\n",
        "solarsys=['태양','수성','금성','지구','화성','목성','토성','천왕성','해왕성']\n",
        "print('solarsys값:',solarsys)\n",
        "del solarsys[0]\n",
        "print('solarsys값:',solarsys)"
      ]
    },
    {
      "cell_type": "code",
      "source": [
        "# 중급 112. 리스트에서 특정 요소 제거하기(remove)\n",
        "solarsys=['태양','수성','금성','지구','화성','목성','토성','천왕성','해왕성']\n",
        "solarsys.remove('태양')\n",
        "print('solarsys값:',solarsys)\n",
        "# 리스트에서 특정 요소의 값을 알고 있을 때, 그 요소를 제거하는 방법은 리스트 객체의 remove() 메소드를 이용하면 됩니다."
      ],
      "metadata": {
        "colab": {
          "base_uri": "https://localhost:8080/"
        },
        "id": "fnU8jbn_USdL",
        "outputId": "97b23c82-74f4-431a-c65c-a902922ad8b1"
      },
      "execution_count": 2,
      "outputs": [
        {
          "output_type": "stream",
          "name": "stdout",
          "text": [
            "solarsys값: ['수성', '금성', '지구', '화성', '목성', '토성', '천왕성', '해왕성']\n"
          ]
        }
      ]
    },
    {
      "cell_type": "code",
      "source": [
        "# 중급 113. 리스트에서 특정 구간에 있는 모든 요소 제거하기\n",
        "solarsys=['태양','수성','금성','지구','화성','목성','토성','천왕성','해왕성']\n",
        "print('solarsys값:',solarsys)\n",
        "del solarsys[1:3]\n",
        "print('solarsys값:',solarsys)"
      ],
      "metadata": {
        "colab": {
          "base_uri": "https://localhost:8080/"
        },
        "id": "g1w1iVpVUSf6",
        "outputId": "761e6240-9b77-4b66-d9b0-06269de10cd8"
      },
      "execution_count": 3,
      "outputs": [
        {
          "output_type": "stream",
          "name": "stdout",
          "text": [
            "solarsys값: ['태양', '수성', '금성', '지구', '화성', '목성', '토성', '천왕성', '해왕성']\n",
            "solarsys값: ['태양', '지구', '화성', '목성', '토성', '천왕성', '해왕성']\n"
          ]
        }
      ]
    },
    {
      "cell_type": "code",
      "source": [
        "# 중급 114. 리스트에 있는 요소 개수 구하기\n",
        "listdata=[2,2,1,3,8,5,7,6,3,6,2,3,9,4,4]\n",
        "listsize=len(listdata)\n",
        "print('listdata의 요소 개수:',listsize)\n",
        "\n",
        "# 파이썬 내장함수 len()은 시퀀스 자료형의 크기를 구하는 함수."
      ],
      "metadata": {
        "colab": {
          "base_uri": "https://localhost:8080/"
        },
        "id": "_7VzeFggUSiY",
        "outputId": "56e0563a-a5f9-406a-b182-27729306c106"
      },
      "execution_count": 5,
      "outputs": [
        {
          "output_type": "stream",
          "name": "stdout",
          "text": [
            "listdata의 요소 개수: 15\n"
          ]
        }
      ]
    },
    {
      "cell_type": "code",
      "source": [
        "# 중급 115. 리스트에서 특정 요소 개수 구하기(count)\n",
        "listdata=[2,2,1,3,8,5,7,6,3,6,2,3,9,4,4]\n",
        "c1=listdata.count(2)\n",
        "print('listdata에서 2의 갯수는?',c1)\n",
        "# 리스트 객체의 count() 메소드는 리스트에 존재하는 특정 요소의 개수를 리턴합니다."
      ],
      "metadata": {
        "colab": {
          "base_uri": "https://localhost:8080/"
        },
        "id": "2RUV6uQ-USlC",
        "outputId": "87c7fcc6-1ddf-43cb-da47-60eec4582075"
      },
      "execution_count": 6,
      "outputs": [
        {
          "output_type": "stream",
          "name": "stdout",
          "text": [
            "listdata에서 2의 갯수는? 3\n"
          ]
        }
      ]
    },
    {
      "cell_type": "code",
      "source": [
        "# 중급 116. 리스트 제거하기(del)\n",
        "listdata=[2,2,1,3,8,5,7,6,3,6,2,3,9,4,4]\n",
        "print('listdata값:',listdata)\n",
        "\n",
        "del listdata\n",
        "print('listdata값:',listdata)\n",
        "# listdata 자체가 메모리에서 제거되었으므로 listdata는 이제 코드에서 존재하지 않는 변수입니다."
      ],
      "metadata": {
        "colab": {
          "base_uri": "https://localhost:8080/",
          "height": 202
        },
        "id": "UZTTP71AUSnx",
        "outputId": "374a9711-4d35-4dfc-8830-abc19359f46a"
      },
      "execution_count": 8,
      "outputs": [
        {
          "output_type": "stream",
          "name": "stdout",
          "text": [
            "listdata값: [2, 2, 1, 3, 8, 5, 7, 6, 3, 6, 2, 3, 9, 4, 4]\n"
          ]
        },
        {
          "output_type": "error",
          "ename": "NameError",
          "evalue": "name 'listdata' is not defined",
          "traceback": [
            "\u001b[0;31m---------------------------------------------------------------------------\u001b[0m",
            "\u001b[0;31mNameError\u001b[0m                                 Traceback (most recent call last)",
            "\u001b[0;32m<ipython-input-8-44eab0533dd6>\u001b[0m in \u001b[0;36m<cell line: 5>\u001b[0;34m()\u001b[0m\n\u001b[1;32m      3\u001b[0m \u001b[0mprint\u001b[0m\u001b[0;34m(\u001b[0m\u001b[0;34m'listdata값:'\u001b[0m\u001b[0;34m,\u001b[0m\u001b[0mlistdata\u001b[0m\u001b[0;34m)\u001b[0m\u001b[0;34m\u001b[0m\u001b[0;34m\u001b[0m\u001b[0m\n\u001b[1;32m      4\u001b[0m \u001b[0;32mdel\u001b[0m \u001b[0mlistdata\u001b[0m\u001b[0;34m\u001b[0m\u001b[0;34m\u001b[0m\u001b[0m\n\u001b[0;32m----> 5\u001b[0;31m \u001b[0mprint\u001b[0m\u001b[0;34m(\u001b[0m\u001b[0;34m'listdata값:'\u001b[0m\u001b[0;34m,\u001b[0m\u001b[0mlistdata\u001b[0m\u001b[0;34m)\u001b[0m\u001b[0;34m\u001b[0m\u001b[0;34m\u001b[0m\u001b[0m\n\u001b[0m",
            "\u001b[0;31mNameError\u001b[0m: name 'listdata' is not defined"
          ]
        }
      ]
    },
    {
      "cell_type": "code",
      "source": [
        "# 중급 117. 리스트 요소 정렬하기(sort)\n",
        "namelist=['mary','smas','aimy','tom','michale','bob']\n",
        "print('namelist값:',namelist)\n",
        "namelist.sort() # namelist의 모든 요소를 오름차순으로 정렬합니다.\n",
        "# 내림차순 : namelist.sort(reverse=True)\n",
        "print('namelist값:',namelist)\n",
        "# 리스트 객체의 sort()는 원본 리스트의 내용을 정렬된 형태로 변경합니다."
      ],
      "metadata": {
        "colab": {
          "base_uri": "https://localhost:8080/"
        },
        "id": "_C68xYlvUSqc",
        "outputId": "7ac0c78a-93ef-42c9-8d36-3ca6c861eab8"
      },
      "execution_count": 12,
      "outputs": [
        {
          "output_type": "stream",
          "name": "stdout",
          "text": [
            "namelist값: ['mary', 'smas', 'aimy', 'tom', 'michale', 'bob']\n",
            "namelist값: ['aimy', 'bob', 'mary', 'michale', 'smas', 'tom']\n"
          ]
        }
      ]
    },
    {
      "cell_type": "code",
      "source": [
        "# 중급 118. 리스트 요소 정렬하기(sorted)\n",
        "namelist=['mary','smas','aimy','tom','michale','bob']\n",
        "ret1=sorted(namelist)\n",
        "ret2=sorted(namelist, reverse=True)\n",
        "\n",
        "print('ret1값:',ret1)\n",
        "print('ret2값:',ret2)\n",
        "# 리스트 객체의 sort()는 원본 리스트를 정렬한 형태로 변경하지만, sorted9)는 원본\n",
        "# 리스트는 그대로 두고 정렬한 결과 리스트를 리턴합니다."
      ],
      "metadata": {
        "colab": {
          "base_uri": "https://localhost:8080/"
        },
        "id": "BryuhLGPWdl6",
        "outputId": "2066d5bf-34a0-45e1-dafa-1fa0333da316"
      },
      "execution_count": 11,
      "outputs": [
        {
          "output_type": "stream",
          "name": "stdout",
          "text": [
            "ret1값: ['aimy', 'bob', 'mary', 'michale', 'smas', 'tom']\n",
            "ret2값: ['tom', 'smas', 'michale', 'mary', 'bob', 'aimy']\n"
          ]
        }
      ]
    },
    {
      "cell_type": "code",
      "source": [
        "# 중급 119. 리스트 요소 무작위로 섞기\n",
        "from random import shuffle\n",
        "\n",
        "listdata=list(range(1,11))\n",
        "for i in range(3):\n",
        "  shuffle(listdata)\n",
        "  print('shuffle된 listdata값:',listdata)\n",
        "# 파이썬 기본 모듈인 random은 의사 난수 (Pseudo ranodm number) 발생기를 구현한 모듈.\n",
        "# 이 모듈이 제공하는 shuffle()은 리스트의 요소를 무작위로 섞는 데 활용됩니다."
      ],
      "metadata": {
        "colab": {
          "base_uri": "https://localhost:8080/"
        },
        "id": "EJyjB40TWdox",
        "outputId": "da94aa4f-2a72-429c-fd53-0e2f4f52abcf"
      },
      "execution_count": 13,
      "outputs": [
        {
          "output_type": "stream",
          "name": "stdout",
          "text": [
            "shuffle된 listdata값: [8, 3, 4, 6, 5, 1, 10, 9, 2, 7]\n",
            "shuffle된 listdata값: [7, 4, 1, 6, 2, 9, 10, 5, 8, 3]\n",
            "shuffle된 listdata값: [10, 1, 4, 9, 6, 7, 8, 2, 5, 3]\n"
          ]
        }
      ]
    },
    {
      "cell_type": "code",
      "source": [
        "# 중급 120. 리스트의 모든 요소를 인덱스와 쌍으로 추출하기(enumerate)\n",
        "solarsys=['태양','수성','금성','지구','화성','목성','토성','천왕성','해왕성']\n",
        "ret=list(enumerate(solarsys))\n",
        "print('ret값:',ret)\n",
        "\n",
        "for i, body in enumerate(solarsys):\n",
        "  print('태양계의 %d번째 천체: %s' %(i, body))\n",
        "# 파이썬 내장함수 enumerate(): 시퀀스 자료형을 인자로 받아 각 요소를 인덱스와 함께 쌍으로 추출할 수 있는 반복 가능한 자료인 enumerate객체를 리턴합니다."
      ],
      "metadata": {
        "colab": {
          "base_uri": "https://localhost:8080/"
        },
        "id": "nq_UrinTWdrx",
        "outputId": "41e7152c-6345-4ffc-d7f4-ca184574c2ef"
      },
      "execution_count": 14,
      "outputs": [
        {
          "output_type": "stream",
          "name": "stdout",
          "text": [
            "ret값: [(0, '태양'), (1, '수성'), (2, '금성'), (3, '지구'), (4, '화성'), (5, '목성'), (6, '토성'), (7, '천왕성'), (8, '해왕성')]\n",
            "태양계의 0번째 천체: 태양\n",
            "태양계의 1번째 천체: 수성\n",
            "태양계의 2번째 천체: 금성\n",
            "태양계의 3번째 천체: 지구\n",
            "태양계의 4번째 천체: 화성\n",
            "태양계의 5번째 천체: 목성\n",
            "태양계의 6번째 천체: 토성\n",
            "태양계의 7번째 천체: 천왕성\n",
            "태양계의 8번째 천체: 해왕성\n"
          ]
        }
      ]
    }
  ]
}