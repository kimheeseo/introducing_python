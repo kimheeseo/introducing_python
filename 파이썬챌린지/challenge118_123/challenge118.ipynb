{
  "nbformat": 4,
  "nbformat_minor": 0,
  "metadata": {
    "colab": {
      "provenance": [],
      "authorship_tag": "ABX9TyNAJlCDMhgiFnY49iJTc9qo",
      "include_colab_link": true
    },
    "kernelspec": {
      "name": "python3",
      "display_name": "Python 3"
    },
    "language_info": {
      "name": "python"
    }
  },
  "cells": [
    {
      "cell_type": "markdown",
      "metadata": {
        "id": "view-in-github",
        "colab_type": "text"
      },
      "source": [
        "<a href=\"https://colab.research.google.com/github/kimheeseo/python/blob/main/challenge118.ipynb\" target=\"_parent\"><img src=\"https://colab.research.google.com/assets/colab-badge.svg\" alt=\"Open In Colab\"/></a>"
      ]
    },
    {
      "cell_type": "markdown",
      "source": [
        "**챌린지 118~123. 함수**"
      ],
      "metadata": {
        "id": "MFecleyQDxCg"
      }
    },
    {
      "cell_type": "code",
      "execution_count": null,
      "metadata": {
        "id": "MbXzWoduDtYx"
      },
      "outputs": [],
      "source": [
        "# 함수(function): 특정 작업을 수행하는 코드 블록\n",
        "# 프로그램 내에서 언제든지 호출하여 실행할 수 있다.\n",
        "\n",
        "# 장점: 1) 코드 블록을 작성할 수 있으며, 프로그램 실행 중에 여러 번 재사용할 수 있다.\n",
        "# 2) 코드가 덩어리로 그룹화되므로, 프로그램을 이해하기가 더 쉬워진다."
      ]
    },
    {
      "cell_type": "code",
      "source": [
        "# 일반적으로는 함수 없이 만들게 되는 간단한 프로그램이지만, 함수가 어떻게 작동하는 지 보기 위하여 함수로 작성.\n",
        "def get_name():\n",
        "  user_name=input(\"enter your name:\")\n",
        "  return user_name\n",
        "# get_name()함수: 사용자에게 이름을 입력하라고 요청한 후에 그것을 다른 함수에서 사용할 수 있도록\n",
        "# 'user_name'이라는 변수의 값을 반환한다.\n",
        "# 만약 값을 반환하지 않는다면 함수 내에서 생성되거나 변경된 모든 변수의 값은 프로그램 내의 다른곳에서 사용할 수 없기 때문이다.\n",
        "\n",
        "def print_Msg(user_name):\n",
        "  print(\"hello\",user_name)\n",
        "\n",
        "def main():\n",
        "  user_name=get_name()\n",
        "  print_Msg(user_name)\n",
        "# main()함수는 user_name 변수를 사용하는 get_name()함수로부터 반환된 user_name을 얻는다.\n",
        "# 그런 다음, print_Msg()함수에서 user_name을 사용한다.\n",
        "\n",
        "main() # main() 함수를 실행시키는 것."
      ],
      "metadata": {
        "colab": {
          "base_uri": "https://localhost:8080/"
        },
        "id": "a86ysPpNDtvn",
        "outputId": "8c6fbda1-eecc-406b-abc1-b705ec59285f"
      },
      "execution_count": 1,
      "outputs": [
        {
          "output_type": "stream",
          "name": "stdout",
          "text": [
            "enter your name:kimheeseo\n",
            "hello kimheeseo\n"
          ]
        }
      ]
    },
    {
      "cell_type": "code",
      "source": [
        "def get_data():\n",
        "  user_name=input(\"enter your name:\")\n",
        "  user_age=int(input(\"enter your age:\"))\n",
        "  data_tuple=(user_name, user_age)\n",
        "  return data_tuple\n",
        "\n",
        "get_data()\n",
        "\n",
        "# 사용자의 이름과 나이를 요청하는 함수의 이름을 'get_data()'라고 정의.\n",
        "\n",
        "# return data_tuple: return 문은 단일 값만 반환할 수 있기 때문에, user_name과 user_age 변수를\n",
        "# data_tuple이라는 이름의 튜플로 결합하는 것."
      ],
      "metadata": {
        "colab": {
          "base_uri": "https://localhost:8080/"
        },
        "id": "GOGqB3NPDtyB",
        "outputId": "8c6a5bd4-b477-4955-e1aa-3101bc57e991"
      },
      "execution_count": 5,
      "outputs": [
        {
          "name": "stdout",
          "output_type": "stream",
          "text": [
            "enter your name:kimheeseo\n",
            "enter your age:30\n"
          ]
        },
        {
          "output_type": "execute_result",
          "data": {
            "text/plain": [
              "('kimheeseo', 30)"
            ]
          },
          "metadata": {},
          "execution_count": 5
        }
      ]
    },
    {
      "cell_type": "code",
      "source": [
        "def message(user_name, user_age):\n",
        "  if user_age <=10:\n",
        "    print(\"Hi\", user_name)\n",
        "  else:\n",
        "    print(\"Hello\",user_name)"
      ],
      "metadata": {
        "id": "EEzbJKXVDt0j"
      },
      "execution_count": 6,
      "outputs": []
    },
    {
      "cell_type": "code",
      "source": [
        "def main():\n",
        "  user_name, user_age=get_data()\n",
        "  message(user_name, user_age)\n",
        "# get_data()함수를 통해, 두 개의 변수를 얻는 함수의 이름을 'main()'이라고 정의합니다.\n",
        "\n",
        "main()"
      ],
      "metadata": {
        "colab": {
          "base_uri": "https://localhost:8080/"
        },
        "id": "ZJSlrxFNDt2_",
        "outputId": "e74b3c77-1e9c-486d-815f-19105b98178a"
      },
      "execution_count": 7,
      "outputs": [
        {
          "output_type": "stream",
          "name": "stdout",
          "text": [
            "enter your name:kimheeseo\n",
            "enter your age:30\n",
            "Hello kimheeseo\n"
          ]
        }
      ]
    },
    {
      "cell_type": "markdown",
      "source": [
        "**118) 사용자에게 숫자를 입력하라고 요청하고 그 값을 'num'이라는 변수에 저장하는 함수를 정의하라. 그리고 'num'을 사용하여 1부터 num에 저장된 숫자까지 세는 다른 함수를 정의하라.**"
      ],
      "metadata": {
        "id": "TMXfDa3MICu5"
      }
    },
    {
      "cell_type": "code",
      "source": [
        "def ask_value():\n",
        "  num=int(input(\"enter a number:\"))\n",
        "  return num\n",
        "\n",
        "def count(num):\n",
        "  n=1\n",
        "  while n<= num:\n",
        "    print(n)\n",
        "    n=n+1\n",
        "def main():\n",
        "  num=ask_value()\n",
        "  count(num)\n",
        "main()"
      ],
      "metadata": {
        "colab": {
          "base_uri": "https://localhost:8080/"
        },
        "id": "JrOJOeSPDt5a",
        "outputId": "a7c7d1ba-f453-489d-9618-e888cd99a7fe"
      },
      "execution_count": 8,
      "outputs": [
        {
          "output_type": "stream",
          "name": "stdout",
          "text": [
            "enter a number:6\n",
            "1\n",
            "2\n",
            "3\n",
            "4\n",
            "5\n",
            "6\n"
          ]
        }
      ]
    },
    {
      "cell_type": "markdown",
      "source": [
        " **120) 사용자에게 다음의 메뉴를 표시한다.\n",
        "1) addition 2) subtraction\n",
        "enter 1 or 2:**"
      ],
      "metadata": {
        "id": "D3cs4aOyJYDn"
      }
    },
    {
      "cell_type": "code",
      "source": [
        "import random\n",
        "\n",
        "def addition():\n",
        "  num1=random.randint(5,20)\n",
        "  num2=random.randint(5,20)\n",
        "  print(num1,\"+\",num2,\"=\")\n",
        "\n",
        "  user_answer=int(input(\"Your answer:\"))\n",
        "  actual_answer=num1+num2\n",
        "\n",
        "  answers=(user_answer, actual_answer)\n",
        "  return answers"
      ],
      "metadata": {
        "id": "f5iRzmwdI6IK"
      },
      "execution_count": 9,
      "outputs": []
    },
    {
      "cell_type": "code",
      "source": [
        "def subtraction():\n",
        "  num3=random.randint(25,50)\n",
        "  num4=random.randint(1,25)\n",
        "  print(num3, \"=\", num4,\"=\")\n",
        "\n",
        "  user_answer=int(input(\"Your answer:\"))\n",
        "  actual_answer=num3-num4\n",
        "\n",
        "  answers=(user_answer, actual_answer)\n",
        "  return answers"
      ],
      "metadata": {
        "id": "JUhcd5g6Jlbo"
      },
      "execution_count": 10,
      "outputs": []
    },
    {
      "cell_type": "code",
      "source": [
        "def check_answer(user_answer, actual_answer):\n",
        "  if user_answer == actual_answer:\n",
        "    print(\"correct\")\n",
        "  else:\n",
        "    print(\"intcorrect, the answer is\", actual_answer)\n",
        "def main():\n",
        "  print(\"1) addition\")\n",
        "  print(\"2) subtraction\")\n",
        "  selection=int(input(\"enter 1 or 2:\"))\n",
        "\n",
        "  if selection ==1:\n",
        "    user_answer, actual_answer=addition()\n",
        "    check_answer(user_answer, actual_answer)\n",
        "\n",
        "  elif selection ==2:\n",
        "    user_answer, actual_answer = subtraction()\n",
        "    check_answer(user_answer, actual_answer)\n",
        "\n",
        "  else:\n",
        "    print(\"incorrect selection\")\n",
        "main()"
      ],
      "metadata": {
        "colab": {
          "base_uri": "https://localhost:8080/"
        },
        "id": "l2OhEmfdDt72",
        "outputId": "99eb619e-ca01-42ea-8aad-cb68240b98c0"
      },
      "execution_count": 11,
      "outputs": [
        {
          "output_type": "stream",
          "name": "stdout",
          "text": [
            "1) addition\n",
            "2) subtraction\n",
            "enter 1 or 2:1\n",
            "19 + 8 =\n",
            "Your answer:27\n",
            "correct\n"
          ]
        }
      ]
    },
    {
      "cell_type": "markdown",
      "source": [
        "**121) 사용자가 이름 목록을 쉽게 관리할 수 있는 프로그램을 생성한다. 사용자가 목록에 이름을 추가할 수 있는 메뉴와 목록의 이름을 수정하는 메뉴, 목록에서 이름을 삭제하는 메뉴 그리고 목록의 모든 이름을 표시하는 메뉴를 화면에 표시한다. 또한, 프로그램을 종료하는 메뉴도 있어야 한다.**"
      ],
      "metadata": {
        "id": "Whgn2IqULKFH"
      }
    },
    {
      "cell_type": "code",
      "source": [
        "def add_name():\n",
        "  name=input(\"enter a new name:\")\n",
        "  names.append(name) # 사용자가 목록에 이름을 추가할 수 있는 메뉴\n",
        "  return names\n",
        "\n",
        "def change_name():\n",
        "  num=0\n",
        "  for x in names:\n",
        "    print(num,x)\n",
        "    num=num+1\n",
        "  select_num=int(input(\"enter the number of the name you want to change:\"))\n",
        "  name=input(\"enter new name:\")\n",
        "  names[select_num]=name\n",
        "  return names"
      ],
      "metadata": {
        "id": "sTn08xa-IBgt"
      },
      "execution_count": 12,
      "outputs": []
    },
    {
      "cell_type": "code",
      "source": [
        "def delete_name():\n",
        "  num=0\n",
        "  for x in names:\n",
        "    print(num,x)\n",
        "    num=num+1\n",
        "  select_num=int(input(\"enter the number of the name you want to delete:\"))\n",
        "  del names[select_num]\n",
        "  return names\n",
        "\n",
        "def view_names():\n",
        "  for x in names:\n",
        "    print(x)\n",
        "  print()"
      ],
      "metadata": {
        "id": "Bqq7S_5lDt-M"
      },
      "execution_count": 13,
      "outputs": []
    },
    {
      "cell_type": "code",
      "source": [
        "def main():\n",
        "  again=\"y\"\n",
        "  while again==\"y\":\n",
        "    print(\"1) add a name\")\n",
        "    print(\"2) change a name\")\n",
        "    print(\"3) delete a name\")\n",
        "    print(\"4) view naems\")\n",
        "    print(\"5) quit\")\n",
        "\n",
        "    selection=int(input(\"what do you want to do?\"))\n",
        "    if selection ==1:\n",
        "      names=add_name()\n",
        "    elif selection ==2:\n",
        "      names=change_name()\n",
        "    elif selection ==3:\n",
        "      names=delete_name()\n",
        "    elif selection ==4:\n",
        "      view_names()\n",
        "    elif selection ==5:\n",
        "      again = \"n\"\n",
        "    else:\n",
        "      print(\"incorrect option:\")\n",
        "\n",
        "names=[]\n",
        "main()"
      ],
      "metadata": {
        "colab": {
          "base_uri": "https://localhost:8080/"
        },
        "id": "-6q1NL-2DuAg",
        "outputId": "d4189673-fca8-49bf-f303-e453813f66ce"
      },
      "execution_count": 15,
      "outputs": [
        {
          "name": "stdout",
          "output_type": "stream",
          "text": [
            "1) add a name\n",
            "2) change a name\n",
            "3) delete a name\n",
            "4) view naems\n",
            "5) quit\n",
            "what do you want to do?1\n",
            "enter a new name:kimheeseo\n",
            "1) add a name\n",
            "2) change a name\n",
            "3) delete a name\n",
            "4) view naems\n",
            "5) quit\n",
            "what do you want to do?1\n",
            "enter a new name:kimheeseo\n",
            "1) add a name\n",
            "2) change a name\n",
            "3) delete a name\n",
            "4) view naems\n",
            "5) quit\n",
            "what do you want to do?1\n",
            "enter a new name:kimheeseo1\n",
            "1) add a name\n",
            "2) change a name\n",
            "3) delete a name\n",
            "4) view naems\n",
            "5) quit\n",
            "what do you want to do?4\n",
            "kimheeseo\n",
            "kimheeseo\n",
            "kimheeseo1\n",
            "\n",
            "1) add a name\n",
            "2) change a name\n",
            "3) delete a name\n",
            "4) view naems\n",
            "5) quit\n",
            "what do you want to do?5\n"
          ]
        }
      ]
    }
  ]
}
