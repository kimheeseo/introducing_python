{
  "nbformat": 4,
  "nbformat_minor": 0,
  "metadata": {
    "colab": {
      "provenance": [],
      "authorship_tag": "ABX9TyOpYDa1QoCFT9s5Nc4qdG+V",
      "include_colab_link": true
    },
    "kernelspec": {
      "name": "python3",
      "display_name": "Python 3"
    },
    "language_info": {
      "name": "python"
    },
    "widgets": {
      "application/vnd.jupyter.widget-state+json": {
        "95fa17654b1a4f87892de13d24ed58f3": {
          "model_module": "@jupyter-widgets/controls",
          "model_name": "ButtonModel",
          "model_module_version": "1.5.0",
          "state": {
            "_dom_classes": [],
            "_model_module": "@jupyter-widgets/controls",
            "_model_module_version": "1.5.0",
            "_model_name": "ButtonModel",
            "_view_count": null,
            "_view_module": "@jupyter-widgets/controls",
            "_view_module_version": "1.5.0",
            "_view_name": "ButtonView",
            "button_style": "",
            "description": "Press Me",
            "disabled": false,
            "icon": "",
            "layout": "IPY_MODEL_47cb8493069741e4867d385279d79d6b",
            "style": "IPY_MODEL_a0289920b4ea4efaad03fa3b89f16d2c",
            "tooltip": ""
          }
        },
        "47cb8493069741e4867d385279d79d6b": {
          "model_module": "@jupyter-widgets/base",
          "model_name": "LayoutModel",
          "model_module_version": "1.2.0",
          "state": {
            "_model_module": "@jupyter-widgets/base",
            "_model_module_version": "1.2.0",
            "_model_name": "LayoutModel",
            "_view_count": null,
            "_view_module": "@jupyter-widgets/base",
            "_view_module_version": "1.2.0",
            "_view_name": "LayoutView",
            "align_content": null,
            "align_items": null,
            "align_self": null,
            "border": null,
            "bottom": null,
            "display": null,
            "flex": null,
            "flex_flow": null,
            "grid_area": null,
            "grid_auto_columns": null,
            "grid_auto_flow": null,
            "grid_auto_rows": null,
            "grid_column": null,
            "grid_gap": null,
            "grid_row": null,
            "grid_template_areas": null,
            "grid_template_columns": null,
            "grid_template_rows": null,
            "height": "25px",
            "justify_content": null,
            "justify_items": null,
            "left": null,
            "margin": null,
            "max_height": null,
            "max_width": null,
            "min_height": null,
            "min_width": null,
            "object_fit": null,
            "object_position": null,
            "order": null,
            "overflow": null,
            "overflow_x": null,
            "overflow_y": null,
            "padding": null,
            "right": null,
            "top": null,
            "visibility": null,
            "width": "120px"
          }
        },
        "a0289920b4ea4efaad03fa3b89f16d2c": {
          "model_module": "@jupyter-widgets/controls",
          "model_name": "ButtonStyleModel",
          "model_module_version": "1.5.0",
          "state": {
            "_model_module": "@jupyter-widgets/controls",
            "_model_module_version": "1.5.0",
            "_model_name": "ButtonStyleModel",
            "_view_count": null,
            "_view_module": "@jupyter-widgets/base",
            "_view_module_version": "1.2.0",
            "_view_name": "StyleView",
            "button_color": "blue",
            "font_weight": "bold"
          }
        },
        "0592bcdbeb9d4b32b8973f24248f2b79": {
          "model_module": "@jupyter-widgets/controls",
          "model_name": "LabelModel",
          "model_module_version": "1.5.0",
          "state": {
            "_dom_classes": [],
            "_model_module": "@jupyter-widgets/controls",
            "_model_module_version": "1.5.0",
            "_model_name": "LabelModel",
            "_view_count": null,
            "_view_module": "@jupyter-widgets/controls",
            "_view_module_version": "1.5.0",
            "_view_name": "LabelView",
            "description": "",
            "description_tooltip": null,
            "layout": "IPY_MODEL_b2f0e4cbf7384072a17c20d19bda51d1",
            "placeholder": "​",
            "style": "IPY_MODEL_a3137768422d420f9899a8e07328aa1f",
            "value": "You pressed the button!"
          }
        },
        "b2f0e4cbf7384072a17c20d19bda51d1": {
          "model_module": "@jupyter-widgets/base",
          "model_name": "LayoutModel",
          "model_module_version": "1.2.0",
          "state": {
            "_model_module": "@jupyter-widgets/base",
            "_model_module_version": "1.2.0",
            "_model_name": "LayoutModel",
            "_view_count": null,
            "_view_module": "@jupyter-widgets/base",
            "_view_module_version": "1.2.0",
            "_view_name": "LayoutView",
            "align_content": null,
            "align_items": null,
            "align_self": null,
            "border": null,
            "bottom": null,
            "display": null,
            "flex": null,
            "flex_flow": null,
            "grid_area": null,
            "grid_auto_columns": null,
            "grid_auto_flow": null,
            "grid_auto_rows": null,
            "grid_column": null,
            "grid_gap": null,
            "grid_row": null,
            "grid_template_areas": null,
            "grid_template_columns": null,
            "grid_template_rows": null,
            "height": null,
            "justify_content": null,
            "justify_items": null,
            "left": null,
            "margin": null,
            "max_height": null,
            "max_width": null,
            "min_height": null,
            "min_width": null,
            "object_fit": null,
            "object_position": null,
            "order": null,
            "overflow": null,
            "overflow_x": null,
            "overflow_y": null,
            "padding": null,
            "right": null,
            "top": null,
            "visibility": null,
            "width": null
          }
        },
        "a3137768422d420f9899a8e07328aa1f": {
          "model_module": "@jupyter-widgets/controls",
          "model_name": "DescriptionStyleModel",
          "model_module_version": "1.5.0",
          "state": {
            "_model_module": "@jupyter-widgets/controls",
            "_model_module_version": "1.5.0",
            "_model_name": "DescriptionStyleModel",
            "_view_count": null,
            "_view_module": "@jupyter-widgets/base",
            "_view_module_version": "1.2.0",
            "_view_name": "StyleView",
            "description_width": ""
          }
        },
        "d7ccfc8201494fd8a49061cfb03eb686": {
          "model_module": "@jupyter-widgets/controls",
          "model_name": "TextModel",
          "model_module_version": "1.5.0",
          "state": {
            "_dom_classes": [],
            "_model_module": "@jupyter-widgets/controls",
            "_model_module_version": "1.5.0",
            "_model_name": "TextModel",
            "_view_count": null,
            "_view_module": "@jupyter-widgets/controls",
            "_view_module_version": "1.5.0",
            "_view_name": "TextView",
            "continuous_update": true,
            "description": "Name:",
            "description_tooltip": null,
            "disabled": false,
            "layout": "IPY_MODEL_ed3232e959174ff5b7355b2990035f44",
            "placeholder": "Enter your name",
            "style": "IPY_MODEL_fd982d2ffa184a12800e129ae5faeebb",
            "value": "kimheeseo"
          }
        },
        "ed3232e959174ff5b7355b2990035f44": {
          "model_module": "@jupyter-widgets/base",
          "model_name": "LayoutModel",
          "model_module_version": "1.2.0",
          "state": {
            "_model_module": "@jupyter-widgets/base",
            "_model_module_version": "1.2.0",
            "_model_name": "LayoutModel",
            "_view_count": null,
            "_view_module": "@jupyter-widgets/base",
            "_view_module_version": "1.2.0",
            "_view_name": "LayoutView",
            "align_content": null,
            "align_items": null,
            "align_self": null,
            "border": null,
            "bottom": null,
            "display": null,
            "flex": null,
            "flex_flow": null,
            "grid_area": null,
            "grid_auto_columns": null,
            "grid_auto_flow": null,
            "grid_auto_rows": null,
            "grid_column": null,
            "grid_gap": null,
            "grid_row": null,
            "grid_template_areas": null,
            "grid_template_columns": null,
            "grid_template_rows": null,
            "height": null,
            "justify_content": null,
            "justify_items": null,
            "left": null,
            "margin": null,
            "max_height": null,
            "max_width": null,
            "min_height": null,
            "min_width": null,
            "object_fit": null,
            "object_position": null,
            "order": null,
            "overflow": null,
            "overflow_x": null,
            "overflow_y": null,
            "padding": null,
            "right": null,
            "top": null,
            "visibility": null,
            "width": "300px"
          }
        },
        "fd982d2ffa184a12800e129ae5faeebb": {
          "model_module": "@jupyter-widgets/controls",
          "model_name": "DescriptionStyleModel",
          "model_module_version": "1.5.0",
          "state": {
            "_model_module": "@jupyter-widgets/controls",
            "_model_module_version": "1.5.0",
            "_model_name": "DescriptionStyleModel",
            "_view_count": null,
            "_view_module": "@jupyter-widgets/base",
            "_view_module_version": "1.2.0",
            "_view_name": "StyleView",
            "description_width": "initial"
          }
        },
        "949c0063246c449e9e1aef5536be8c55": {
          "model_module": "@jupyter-widgets/controls",
          "model_name": "ButtonModel",
          "model_module_version": "1.5.0",
          "state": {
            "_dom_classes": [],
            "_model_module": "@jupyter-widgets/controls",
            "_model_module_version": "1.5.0",
            "_model_name": "ButtonModel",
            "_view_count": null,
            "_view_module": "@jupyter-widgets/controls",
            "_view_module_version": "1.5.0",
            "_view_name": "ButtonView",
            "button_style": "",
            "description": "Press me",
            "disabled": false,
            "icon": "",
            "layout": "IPY_MODEL_2f8a7985e5e24eaaa26509bdf37e678d",
            "style": "IPY_MODEL_a8645107fe3a4223915226ae58fa81a7",
            "tooltip": ""
          }
        },
        "2f8a7985e5e24eaaa26509bdf37e678d": {
          "model_module": "@jupyter-widgets/base",
          "model_name": "LayoutModel",
          "model_module_version": "1.2.0",
          "state": {
            "_model_module": "@jupyter-widgets/base",
            "_model_module_version": "1.2.0",
            "_model_name": "LayoutModel",
            "_view_count": null,
            "_view_module": "@jupyter-widgets/base",
            "_view_module_version": "1.2.0",
            "_view_name": "LayoutView",
            "align_content": null,
            "align_items": null,
            "align_self": null,
            "border": null,
            "bottom": null,
            "display": null,
            "flex": null,
            "flex_flow": null,
            "grid_area": null,
            "grid_auto_columns": null,
            "grid_auto_flow": null,
            "grid_auto_rows": null,
            "grid_column": null,
            "grid_gap": null,
            "grid_row": null,
            "grid_template_areas": null,
            "grid_template_columns": null,
            "grid_template_rows": null,
            "height": null,
            "justify_content": null,
            "justify_items": null,
            "left": null,
            "margin": null,
            "max_height": null,
            "max_width": null,
            "min_height": null,
            "min_width": null,
            "object_fit": null,
            "object_position": null,
            "order": null,
            "overflow": null,
            "overflow_x": null,
            "overflow_y": null,
            "padding": null,
            "right": null,
            "top": null,
            "visibility": null,
            "width": "120px"
          }
        },
        "a8645107fe3a4223915226ae58fa81a7": {
          "model_module": "@jupyter-widgets/controls",
          "model_name": "ButtonStyleModel",
          "model_module_version": "1.5.0",
          "state": {
            "_model_module": "@jupyter-widgets/controls",
            "_model_module_version": "1.5.0",
            "_model_name": "ButtonStyleModel",
            "_view_count": null,
            "_view_module": "@jupyter-widgets/base",
            "_view_module_version": "1.2.0",
            "_view_name": "StyleView",
            "button_color": null,
            "font_weight": ""
          }
        },
        "737c8e056a5f44a2a6f48ef048bc71b4": {
          "model_module": "@jupyter-widgets/controls",
          "model_name": "HTMLModel",
          "model_module_version": "1.5.0",
          "state": {
            "_dom_classes": [],
            "_model_module": "@jupyter-widgets/controls",
            "_model_module_version": "1.5.0",
            "_model_name": "HTMLModel",
            "_view_count": null,
            "_view_module": "@jupyter-widgets/controls",
            "_view_module_version": "1.5.0",
            "_view_name": "HTMLView",
            "description": "",
            "description_tooltip": null,
            "layout": "IPY_MODEL_cf4dc7376d5f4dfba4f6a9bcc70a8d44",
            "placeholder": "",
            "style": "IPY_MODEL_f701200676544546bdba456c2fe65c7e",
            "value": "Hello kimheeseo"
          }
        },
        "cf4dc7376d5f4dfba4f6a9bcc70a8d44": {
          "model_module": "@jupyter-widgets/base",
          "model_name": "LayoutModel",
          "model_module_version": "1.2.0",
          "state": {
            "_model_module": "@jupyter-widgets/base",
            "_model_module_version": "1.2.0",
            "_model_name": "LayoutModel",
            "_view_count": null,
            "_view_module": "@jupyter-widgets/base",
            "_view_module_version": "1.2.0",
            "_view_name": "LayoutView",
            "align_content": null,
            "align_items": null,
            "align_self": null,
            "border": null,
            "bottom": null,
            "display": null,
            "flex": null,
            "flex_flow": null,
            "grid_area": null,
            "grid_auto_columns": null,
            "grid_auto_flow": null,
            "grid_auto_rows": null,
            "grid_column": null,
            "grid_gap": null,
            "grid_row": null,
            "grid_template_areas": null,
            "grid_template_columns": null,
            "grid_template_rows": null,
            "height": "50px",
            "justify_content": null,
            "justify_items": null,
            "left": null,
            "margin": null,
            "max_height": null,
            "max_width": null,
            "min_height": null,
            "min_width": null,
            "object_fit": null,
            "object_position": null,
            "order": null,
            "overflow": null,
            "overflow_x": null,
            "overflow_y": null,
            "padding": null,
            "right": null,
            "top": null,
            "visibility": null,
            "width": "300px"
          }
        },
        "f701200676544546bdba456c2fe65c7e": {
          "model_module": "@jupyter-widgets/controls",
          "model_name": "DescriptionStyleModel",
          "model_module_version": "1.5.0",
          "state": {
            "_model_module": "@jupyter-widgets/controls",
            "_model_module_version": "1.5.0",
            "_model_name": "DescriptionStyleModel",
            "_view_count": null,
            "_view_module": "@jupyter-widgets/base",
            "_view_module_version": "1.2.0",
            "_view_name": "StyleView",
            "description_width": ""
          }
        },
        "15ff1347ac8b400b8819e961fa833f0f": {
          "model_module": "@jupyter-widgets/controls",
          "model_name": "ButtonModel",
          "model_module_version": "1.5.0",
          "state": {
            "_dom_classes": [],
            "_model_module": "@jupyter-widgets/controls",
            "_model_module_version": "1.5.0",
            "_model_name": "ButtonModel",
            "_view_count": null,
            "_view_module": "@jupyter-widgets/controls",
            "_view_module_version": "1.5.0",
            "_view_name": "ButtonView",
            "button_style": "success",
            "description": "Roll",
            "disabled": false,
            "icon": "",
            "layout": "IPY_MODEL_440903eebfac41ef85a8ac94d7b27249",
            "style": "IPY_MODEL_ffc64d1ac2cf4cea85761dc82d15f21e",
            "tooltip": ""
          }
        },
        "440903eebfac41ef85a8ac94d7b27249": {
          "model_module": "@jupyter-widgets/base",
          "model_name": "LayoutModel",
          "model_module_version": "1.2.0",
          "state": {
            "_model_module": "@jupyter-widgets/base",
            "_model_module_version": "1.2.0",
            "_model_name": "LayoutModel",
            "_view_count": null,
            "_view_module": "@jupyter-widgets/base",
            "_view_module_version": "1.2.0",
            "_view_name": "LayoutView",
            "align_content": null,
            "align_items": null,
            "align_self": null,
            "border": null,
            "bottom": null,
            "display": null,
            "flex": null,
            "flex_flow": null,
            "grid_area": null,
            "grid_auto_columns": null,
            "grid_auto_flow": null,
            "grid_auto_rows": null,
            "grid_column": null,
            "grid_gap": null,
            "grid_row": null,
            "grid_template_areas": null,
            "grid_template_columns": null,
            "grid_template_rows": null,
            "height": "50px",
            "justify_content": null,
            "justify_items": null,
            "left": null,
            "margin": null,
            "max_height": null,
            "max_width": null,
            "min_height": null,
            "min_width": null,
            "object_fit": null,
            "object_position": null,
            "order": null,
            "overflow": null,
            "overflow_x": null,
            "overflow_y": null,
            "padding": null,
            "right": null,
            "top": null,
            "visibility": null,
            "width": "100px"
          }
        },
        "ffc64d1ac2cf4cea85761dc82d15f21e": {
          "model_module": "@jupyter-widgets/controls",
          "model_name": "ButtonStyleModel",
          "model_module_version": "1.5.0",
          "state": {
            "_model_module": "@jupyter-widgets/controls",
            "_model_module_version": "1.5.0",
            "_model_name": "ButtonStyleModel",
            "_view_count": null,
            "_view_module": "@jupyter-widgets/base",
            "_view_module_version": "1.2.0",
            "_view_name": "StyleView",
            "button_color": null,
            "font_weight": ""
          }
        },
        "68da85b42e194bf8a6a2cb5f8bf5a382": {
          "model_module": "@jupyter-widgets/controls",
          "model_name": "HTMLModel",
          "model_module_version": "1.5.0",
          "state": {
            "_dom_classes": [],
            "_model_module": "@jupyter-widgets/controls",
            "_model_module_version": "1.5.0",
            "_model_name": "HTMLModel",
            "_view_count": null,
            "_view_module": "@jupyter-widgets/controls",
            "_view_module_version": "1.5.0",
            "_view_name": "HTMLView",
            "description": "",
            "description_tooltip": null,
            "layout": "IPY_MODEL_8669c8cbcdeb4839a557f8075178fe8f",
            "placeholder": "​",
            "style": "IPY_MODEL_a81c42b7c0e24c53b600c8c89eaa9224",
            "value": "<h2 style=\"color: blue;\">1</h2>"
          }
        },
        "8669c8cbcdeb4839a557f8075178fe8f": {
          "model_module": "@jupyter-widgets/base",
          "model_name": "LayoutModel",
          "model_module_version": "1.2.0",
          "state": {
            "_model_module": "@jupyter-widgets/base",
            "_model_module_version": "1.2.0",
            "_model_name": "LayoutModel",
            "_view_count": null,
            "_view_module": "@jupyter-widgets/base",
            "_view_module_version": "1.2.0",
            "_view_name": "LayoutView",
            "align_content": null,
            "align_items": null,
            "align_self": null,
            "border": null,
            "bottom": null,
            "display": null,
            "flex": null,
            "flex_flow": null,
            "grid_area": null,
            "grid_auto_columns": null,
            "grid_auto_flow": null,
            "grid_auto_rows": null,
            "grid_column": null,
            "grid_gap": null,
            "grid_row": null,
            "grid_template_areas": null,
            "grid_template_columns": null,
            "grid_template_rows": null,
            "height": "50px",
            "justify_content": null,
            "justify_items": null,
            "left": null,
            "margin": null,
            "max_height": null,
            "max_width": null,
            "min_height": null,
            "min_width": null,
            "object_fit": null,
            "object_position": null,
            "order": null,
            "overflow": null,
            "overflow_x": null,
            "overflow_y": null,
            "padding": null,
            "right": null,
            "top": null,
            "visibility": null,
            "width": "30px"
          }
        },
        "a81c42b7c0e24c53b600c8c89eaa9224": {
          "model_module": "@jupyter-widgets/controls",
          "model_name": "DescriptionStyleModel",
          "model_module_version": "1.5.0",
          "state": {
            "_model_module": "@jupyter-widgets/controls",
            "_model_module_version": "1.5.0",
            "_model_name": "DescriptionStyleModel",
            "_view_count": null,
            "_view_module": "@jupyter-widgets/base",
            "_view_module_version": "1.2.0",
            "_view_name": "StyleView",
            "description_width": ""
          }
        }
      }
    }
  },
  "cells": [
    {
      "cell_type": "markdown",
      "metadata": {
        "id": "view-in-github",
        "colab_type": "text"
      },
      "source": [
        "<a href=\"https://colab.research.google.com/github/kimheeseo/python/blob/main/challenge124.ipynb\" target=\"_parent\"><img src=\"https://colab.research.google.com/assets/colab-badge.svg\" alt=\"Open In Colab\"/></a>"
      ]
    },
    {
      "cell_type": "markdown",
      "source": [
        "**챌린지 124~132 Tkinter GUI**"
      ],
      "metadata": {
        "id": "lRpFWXExOd3N"
      }
    },
    {
      "cell_type": "code",
      "execution_count": null,
      "metadata": {
        "id": "RI77LrCGOOjH"
      },
      "outputs": [],
      "source": [
        "# GUI: Graphical User Interface\n",
        "# GUI는 프로그램을 더 쉽게 사용할 수 있도록 만들어 준다.\n",
        "\n",
        "# GUI는 사용자가 더욱 사용자 친화적인 방식으로 프로그램을 사용할 수 있도록 프로그래머인 여러분에게\n",
        "# 화면과 텍스트 박스 그리고 버튼 등을 생성할 수 있게 해준다.\n",
        "\n",
        "# Tkinter는 이를 가능하게 해주는 파이썬 라이브러리."
      ]
    },
    {
      "cell_type": "code",
      "source": [
        "from tkinter import *\n",
        "\n",
        "def Call():\n",
        "  msg=Label(window, text=\"you pressed the button\")\n",
        "  msg.place(x=30,y=50)\n",
        "  button[\"bg\"]=\"blue\"\n",
        "  button[\"fg\"]=\"white\"\n",
        "\n",
        "window=Tk()\n",
        "window.geometry(\"200x110\")\n",
        "button=Button(text=\"press me\", command=Call)\n",
        "button.place(x=30, y=20, width=120, height=25)\n",
        "window.mainloop()\n",
        "\n",
        "# colab에서는 tkinter 함수 실행되지 x."
      ],
      "metadata": {
        "colab": {
          "base_uri": "https://localhost:8080/",
          "height": 349
        },
        "id": "NS_mPTbVOd7i",
        "outputId": "b275af9c-8b56-421c-e960-b9ca493114d9"
      },
      "execution_count": 4,
      "outputs": [
        {
          "output_type": "error",
          "ename": "TclError",
          "evalue": "no display name and no $DISPLAY environment variable",
          "traceback": [
            "\u001b[0;31m---------------------------------------------------------------------------\u001b[0m",
            "\u001b[0;31mTclError\u001b[0m                                  Traceback (most recent call last)",
            "\u001b[0;32m<ipython-input-4-958a02cb014a>\u001b[0m in \u001b[0;36m<cell line: 9>\u001b[0;34m()\u001b[0m\n\u001b[1;32m      7\u001b[0m   \u001b[0mbutton\u001b[0m\u001b[0;34m[\u001b[0m\u001b[0;34m\"fg\"\u001b[0m\u001b[0;34m]\u001b[0m\u001b[0;34m=\u001b[0m\u001b[0;34m\"white\"\u001b[0m\u001b[0;34m\u001b[0m\u001b[0;34m\u001b[0m\u001b[0m\n\u001b[1;32m      8\u001b[0m \u001b[0;34m\u001b[0m\u001b[0m\n\u001b[0;32m----> 9\u001b[0;31m \u001b[0mwindow\u001b[0m\u001b[0;34m=\u001b[0m\u001b[0mTk\u001b[0m\u001b[0;34m(\u001b[0m\u001b[0;34m)\u001b[0m\u001b[0;34m\u001b[0m\u001b[0;34m\u001b[0m\u001b[0m\n\u001b[0m\u001b[1;32m     10\u001b[0m \u001b[0mwindow\u001b[0m\u001b[0;34m.\u001b[0m\u001b[0mgeometry\u001b[0m\u001b[0;34m(\u001b[0m\u001b[0;34m\"200x110\"\u001b[0m\u001b[0;34m)\u001b[0m\u001b[0;34m\u001b[0m\u001b[0;34m\u001b[0m\u001b[0m\n\u001b[1;32m     11\u001b[0m \u001b[0mbutton\u001b[0m\u001b[0;34m=\u001b[0m\u001b[0mButton\u001b[0m\u001b[0;34m(\u001b[0m\u001b[0mtext\u001b[0m\u001b[0;34m=\u001b[0m\u001b[0;34m\"press me\"\u001b[0m\u001b[0;34m,\u001b[0m \u001b[0mcommand\u001b[0m\u001b[0;34m=\u001b[0m\u001b[0mCall\u001b[0m\u001b[0;34m)\u001b[0m\u001b[0;34m\u001b[0m\u001b[0;34m\u001b[0m\u001b[0m\n",
            "\u001b[0;32m/usr/lib/python3.10/tkinter/__init__.py\u001b[0m in \u001b[0;36m__init__\u001b[0;34m(self, screenName, baseName, className, useTk, sync, use)\u001b[0m\n\u001b[1;32m   2297\u001b[0m                 \u001b[0mbaseName\u001b[0m \u001b[0;34m=\u001b[0m \u001b[0mbaseName\u001b[0m \u001b[0;34m+\u001b[0m \u001b[0mext\u001b[0m\u001b[0;34m\u001b[0m\u001b[0;34m\u001b[0m\u001b[0m\n\u001b[1;32m   2298\u001b[0m         \u001b[0minteractive\u001b[0m \u001b[0;34m=\u001b[0m \u001b[0;32mFalse\u001b[0m\u001b[0;34m\u001b[0m\u001b[0;34m\u001b[0m\u001b[0m\n\u001b[0;32m-> 2299\u001b[0;31m         \u001b[0mself\u001b[0m\u001b[0;34m.\u001b[0m\u001b[0mtk\u001b[0m \u001b[0;34m=\u001b[0m \u001b[0m_tkinter\u001b[0m\u001b[0;34m.\u001b[0m\u001b[0mcreate\u001b[0m\u001b[0;34m(\u001b[0m\u001b[0mscreenName\u001b[0m\u001b[0;34m,\u001b[0m \u001b[0mbaseName\u001b[0m\u001b[0;34m,\u001b[0m \u001b[0mclassName\u001b[0m\u001b[0;34m,\u001b[0m \u001b[0minteractive\u001b[0m\u001b[0;34m,\u001b[0m \u001b[0mwantobjects\u001b[0m\u001b[0;34m,\u001b[0m \u001b[0museTk\u001b[0m\u001b[0;34m,\u001b[0m \u001b[0msync\u001b[0m\u001b[0;34m,\u001b[0m \u001b[0muse\u001b[0m\u001b[0;34m)\u001b[0m\u001b[0;34m\u001b[0m\u001b[0;34m\u001b[0m\u001b[0m\n\u001b[0m\u001b[1;32m   2300\u001b[0m         \u001b[0;32mif\u001b[0m \u001b[0museTk\u001b[0m\u001b[0;34m:\u001b[0m\u001b[0;34m\u001b[0m\u001b[0;34m\u001b[0m\u001b[0m\n\u001b[1;32m   2301\u001b[0m             \u001b[0mself\u001b[0m\u001b[0;34m.\u001b[0m\u001b[0m_loadtk\u001b[0m\u001b[0;34m(\u001b[0m\u001b[0;34m)\u001b[0m\u001b[0;34m\u001b[0m\u001b[0;34m\u001b[0m\u001b[0m\n",
            "\u001b[0;31mTclError\u001b[0m: no display name and no $DISPLAY environment variable"
          ]
        }
      ]
    },
    {
      "cell_type": "markdown",
      "source": [
        "![스크린샷 2024-07-29 155725.png](data:image/png;base64,iVBORw0KGgoAAAANSUhEUgAAAVAAAAEdCAYAAABaLj9rAAAAAXNSR0IArs4c6QAAAARnQU1BAACxjwv8YQUAAAAJcEhZcwAADsMAAA7DAcdvqGQAAP+lSURBVHherP15vGXZVd8J7ogX8WKecoicZ6UylUJSCimVIEASiFkWCAS4wNhtA54+7nb1p93/NS7L3Z8uu8rdn3J/usvYLhtswJipUIlBE0agmUFSKpXKlHKep8jMGDLmFy8i+vdd6/zuWXe/c1+EKP9e7Nh7r72mPZx19hnuvRv+6b/4v59vwvnzkRVsaBs2nG/nzp2N2saNG1U+J9qGyKkD6gAacB198FR+aKurq215eTlo5rGsYR0V8FoX+calDaLhm3j179zZpCMpq23Tpk2ydVa0jWHj7NnsR4V1klxeWloKG+fOZd+RhYbf6e+8f+6X/QLW15cN19E7tqWvdSysG9BGR91uWx6/zM+Ln/Zz0u1+M87Ji67qj+0HXaQYPf6Jx3wk9KjQ7Gnw135tTP0GbYx31YMOygbt2J/pgUd9tE7nlvH4bqCf6iNlaOjZtHmT6urrmdNtSe0bN25C3Uy3eV227uiXesU6Qj74GD/lm1gHGjv7CSinTMLjvmnT5nby5KmQ27J1i/RJxzCNyCJX+5N6GBvWTdIN2oF9nQJti9orDR78s21Q9WfO/zlPBmXkPL7us3nwW5KD7IixPce42jWs20i+0TaAxzoGiurI5BwGZbBlO1XGbVOofOvpuhDMN/akwIrMVBNgAGq98rleAd36PKHQvDAt28u7bjChRrCcl7wGf8N5BTkdNBs2oE9BQYN9jknhoBLjKgtYujbKXj1o8cWTiT5oecLAPw5SfKCVA4WJn/cTIGN/nRu9/5ad1sFBztjiH/1gnGjF13H8kCN3QCA3LYMndpBNfQ4M1Sa558GQNo3VWY2bdErPWSXKBEe4GD8JMtyZ/Ee56Ek/5tcDMN1lt83oNMUJIPvkNWYZYBlpRjCC/hLjJScoEziZfwcl6ybZH8ruu+nntX7QGgcyumLssbUUvB5reOsaBATfVZ1ct27dGhuDsyoTPOGDThrtjPOVsqNfrpOA+V0GU+0k66g002u9Jvrr1MsC/Bx9RVcmysnC/DittU0yHdTyWr5sN0w3smnkj9pQHvVif7RhjDL2fVoPfSVH3jQnYDvUWV8Z0EsArQwJ8qQ5yFCu6OuGdfXodY22plHbrW+me9YEHZomUgOIDANJ4FQ3o04ZRFuU5vVlbnsOnPiKXlo56FxPfsM+QnebabUN1Dplzu6U84COFtXHgxsawTT5R3kHAC9yl4HlcgdtHfNj7TkwLMvuTkMXgTP4VQ59wx+B1Xr4H373zaAdfdDd5rLbyN1mfQHoysKPgV51BAYeHIC2ETq8SuxgofW6e10VY7CNTECf/g105oPxcqq601aOZfSLfuuv2pvyIcff82M9o9+W62WNygvMW5NRy2C+veqY5zVf2qk6qmxNI3o9i1D1E5zN675Rd4LH7aCWk3+UqaBt7MNaPYC6aW6qOitGfeRaE0m2QMVa4W8Eo6G1wFkftGCKt+8kWKQPoC8uvwKSDfmcoDjIqGGTRV701MGDnoEnD/IxjXykCmSqvloG5q98vR7oeYDOH3BZzj5QrpeCPpit0+WaTO+BjkqvukylbProyzxMn2oDM51KU/VejuANZfTsvw5sD9SyYVr1KxPrafQXUJ73e74/TqDKmTYvO9bhJWVwHdHzG+atNiqsr6Z5ZNAi922f5JnWBxb5UgHPxfCB6pNPJj2sr2+b6k+mxNo+T/fLfMmLHY4xjn+ugsbNSvUh1VIXTzVagcJuLkPZepPWY6rjFX1b2hyNWn49HT2qPLDPhjX1/UjbY902qw/fiB8VU+MFjWSda31Jn6vdSgPWUWHaVNsiWB+5T2y2+5fRV/GNyMxGd/Dnfy/WzH3pZ6WD3k/zGnGCHk6sU7gYl6v9Op7Wbf1uNxbZ/EYxNRc5DOgnZbvNTa3BvywWyf/X6lv6f2FdDMHUOAAHzlHXqK8fA/Nt1JwFUMqAkWc5qNE2BfM5VfSLsyJ1j8FralHSPqVjypZR2xbxyNBQmIdlSfbNPrheaZTXAzzAcj2sy6gHjsfCdmqd+7eVPpWAc+ADs4L2nmZUny1bdRvmI+GT/bLsN4oqh6Xe5np6/7I2e2DPfch0cbpzjBaP5yLYDnBfa58Z028UnouLh30g9640g4PTVB+Km8LFjdGiNQfyFtn0MV/hdVbHqWLK128U6MAOJvo14XZjjcfcR0rgZCqYmtxKB1NGqqEetd26qj7Q8/SY0mH4wK9Yq2EROrlON7DtqTZgv8BUO6g8LnuhTfpfbMHvxWRZl6FPLUbL93p7eSdQeftyr6dipmc4uKwP9LJuqzxTsNx6dqcwpbfSKE/rneeZwiJfpoIFOqynXrKaXtun9NY2J6PKLsKUzhG0Taferyn7+dBtffsVa+XH/nn9V1Rewzp6XcYUDbXWT6o87qf9cH+o57GWx5tpwLcHRydU75lmbaVc03pAh/VcDKo+y15Ivvox5ROdJKHH7ZVnpFGDZ/6Aqj5UuQuh8lZ9vd6aDHioOxhStg7TLdOnHlNtlVbbpuhOhv1wqjTg4B11iVm26gDmn0JvcwpVfop3Sn/1pbcB/3waDzbqVXYRFrWNtvAJ3aNOkufzvybQX2FbtuN+ugxoq2Ujy06gjpPtrNVf0bd5XDPVXe9i9DqnYBsjqkz1N0HdvjnZJyfkcnc+78Nsm5ICo/LMxkVTUXnNb0zx96hy8NcgAaZ01mRYT9VlzMmo7gA6BeijTYYkhyXlyUd9oPpX6caUP8C8NfhVXqd6qe424HFyG7JOhussTmBZQLlPpld7oC879XXT7ENP48FXD7dX2O9F6NvW470QLFuDYz2YAeMhTtXrQZ5tzkH2ZexPlc8n9H1faU+eOg7VFzA1Rj0qT/UJ0DalYxEdQEePk2HfxCGesU+L9BhVh3lrP+3LaNOBatrHkW9twKv8tI+g7IQf6csiGWijHfx0Gh/gGvBGpMiG+casTzvYA/mex04YbjfdbdAcFFwHVbaWjarDsI1ZmcLAZ17b6THa9YClDdYNyTpqArbptAhTfFM6p3j89N3tPW8/fk4Xg57fuoHpUzTsTQV6ly1D3bLOQeUF4p6zUVHlLgbwX0jGB/EUn+07rzwuVxpsVOdp9I962si2bKdcx83tI9/aMQA9ra9XeaPXC1yueW0H823kUQta9m3aP9N7fUa1Zf5eV9IojTqm9FZ5p4pat13Ee/6xbVo3SDmnkb70ru955wfSURY7pCy7PioYjUCrB+0i9LKuk5O8iA23V1Sa5WqZZN0u4xU7Tj6VAs1wmdy+92fDyqP/lc8v9JobVc4wradX2WrXdaPKV56Kvo2+gMrby3neTPc4rOcLML3XB6ouypalbFptcx1/KQfvsKuZgvldtgw0060XOK+wT/7whvnrScDJ7cCqalu1qf9FH+VTF60+EdPH4B5SysFLbjv2wfUp1LYpXtdrbr9qqjBvT699zA93jO/mGsiYbwR6oK+1ZX5ydE3pS5kaa6DjT+qtsHyvx+h1zfdpfrzTtmXmdVZa5QeKM9MDW4UqKp8V9jw9pvSDSkcHOy1SDQTQfaC53tv0YPgF8D6Bvl5hH0DfPiVnXwy3VfqUnDHFD2rdgd2oZfNZv1Mvb5gGzOuy7VT6FKpMD2joqe+pVh9pqwkayTyeP6dF6NutewpVX5Wb8q+myrsIXqMpYz/mxxJYV01Gz9OXLwTLT2GRDvtWE4C/1iuqLpfJXfb4Vz5QdVf+RXYWwfxpZ5SrOnv0tqhm8HR9Wg7QDqy/8o60kS8C6BTMACj3ik2rfD3cVnkWyUBDLx3Nzo5yfX0R8gOQow3z13KF+0Lq0dNSHO05gJbrbQGXF+m+GFS9NQHrtW7TvxFUmV5+Sr/L6wE+FnqVdVAxbT09bpvi632kXmnw9zzANOt0kHedZFRapYOq2/IO/OvB7dbpVIE+p9re862H6t968HyA3hfXSYv0Vf4elu1h2oV8tN0pvpF+sSdcTtZ8jJbAa77MLxRPep3r2dm4SIkxOr4W0O2Q+WoyTy1PYWpS7bD1rzfxQVeqA2t6temy6aSev9adg8qjf7MyfpEMaD2ss6ZFSP1jX3rY5pSdvwyqHtvu03p+Q1vka4+qp+d3vdJdxgfnLlfAZx+m2oFlq37DbR7XKR7D7U7YrevOumqyXE+rsj0qX817eq1fCFN8tj3VBi3bF48HsA/WMdUfaJXe1yuqnpqm0NsGi+ok66ntvf7aBmrdeowIxVZQldQysGCvoEdt7/mm9MPjRVSDEXXotPcBqtfb13tcqN2ofH3/K2har/1CWK8P1ktebVCuB1yvg3INrPCBnu9C6HX2qD71sM/VpuewXvZOYRHd6Nttq/rT16fQj19NXn+Up2C+amOkZX1Kh8vm7THl85SPoK/D5+T6euhljXy6Pp9G2oVhnQa6TbPN6qdhWt/W60tAIxZkPLDeHqZZJ3XWn2G5UTZ19j5UzPOPfBqdeQfcMDLPo9Ir77yBRN9eUWVq+yL6hWytR5/CFC8wbZFc+pG+UHYyv/0EtlGTUWVrvWJKDlR6bevroK8bvd0LJWNKfw0Yrlca8pSn9IEq+5cBck5TqPSer/q06OQE+jqofFWPU0XlA5atOmq5ouqq+qdSz9NjEX0ai/l6XxfpNN8iXy6E3o4oqi8eq0pbqz/bLGte8/V1g7pT1kceBdBRuFd8sej5rbzXV+s1+WBDjqei5NR91rC+KdDCOZIcPd8osAOw4VTR01y0vz7oSFXX/16gy8no68YU7UKoMva/lvvU24YGetvmN2inzjh5rIyqs8+nYH6nioud+z6w2zfWnddebYO12nL7IqRvo/wUv2msb9+TBSm7tm+g6nMC8E7RjMU64c3Uv2lCqvoqpnWN/k1hkUyFecxnfSTTrX+Kx22glg1oiFUbos54R1rC9CldFWuewlfnQF8H1dga9R0fqcqCKg+qLR8I0EimVV1OBiXrnGo3Ugf64S19WEemtmW7U+oz3f7ZjymkfKLy11TbZjZHsRFuK+iDlPUtgu306WJh3vRzvn+U53VOj1HKIjwQOlSdlq3r4UKw/pmdjmZ9XnfrAX7G12XDvkz5s8jHKm9fTHNe9S5KFeu1TSE/cZdJVpPYoepZpLP6DtazfTFtqPI67sekR28bmDbqG3nWm2f4LbPIT/O4fXaDoxoxKqPbeb+SBCdJ3WxLplOnTcmydbFXXcB1YBkv5rVynuhE5TmHLETnA+xzJlp0tm+rkUtQ/yQv+lSS9rnvv8R+fH5ZCSP0NhN/LguwR4Jv4JU+vvEXe/mFzefEqwCpdnJecWPcgpeEOHaU+G6CJXYIsz/aRY+cpL+hj15045ipHb0DTF/U5vrFyDoHOS/jg8Sqh3LWxzbzmQdkz9LmKFPaC71vNw+oQQGy281TD8ykM8c1iYZqpVFrElLF0DiXRj/jO0llI2c2YV+BbZP6+TIduA6cG7UOn48DyzsZLlc72TuCidIGycefcq9VEjyDGuRSJpPHa6RlfaSl3dzdsjZQNNaTJs4hUU9jtPFLCTkugHGy74lq34k2J+oj0g/lMpHvpzIGJFpTb01BHcoeW2Mc17QVT+GdaMTZOrGAusHL6fGzCSpvDB2SUx5dRw6mBajOUAbZuVGq2nWeSB5+osJ6IgVVkJyopT7kcxgCl9pIcMOf38Keqf4RRGd2Iqk+BFAn5jC+EX32p3GQ8hgTpdnIzeQVxKWD4AnNfB5DEFrgVz+TT8SBP5Pro4xRx7gf2x5Tbciio87PxYF5G4oD6tj1euyj7cVYDrwVte7+1DVaMbhcMK6lHuM4jeuBcvyJrtaYf3L0uH+pzn3FnzgSqATsY2qehv2e8UqZ/XTdMM9UApat8rWtoq+Hh3ZfBzN/M9pQkzL+HzC0T6RcL1lGZLSFfOpgA0LZwRKWZMs6ecaaUQa4P/NIW2PfydMH27ZcrGfRqOZGKsGvTqSeeXjtj7pHjGPL+onvAx0xxVyD5xRmgafI1vKUDrf7QAB2GthJcidJiWf+JXvSnK1z4ouq2ua7Jj7+15mtbcrkhS+Z86Q440HDVtoH6tnwpwHT4G9gu6h/7E5nSX+D4eCUY+LNFNvLok9nn2hHgnCeaWPk8KUWlUN2Kdvl/LAhVYLHfANUIdgyFh6PHDPR6/iIZroRi6ssGOdVF7Cs5asezyOp0qd4p+YZRKBStbfr9XExYOz5o5QpbThNA3pJ5pO4v5X+Qliouojbfu2f8yn/+nGo6I8BA37PZx1nY8oONbY9JLepFLlhuUXJ6OvVD/en9mtcM1Gd5YAyujz/Ve9fFrhSRzQD+min9x/0dftuzO1A+84abpujSzG7cgeURcABZOxcTYb1kjzotmc44qu0Vh6a/3DKibZBL06eO7/Uzkbit5K4zOLVe/gISBnYanDCRlzOK+WljYgSUVwbxKBliksezIrsk0qcWAY9cdYl8VFCTRZ2qNsuKW9FYJP6kppHn8wTtIE+A/3Tv/Eb+RP9OIFK83xPYUrOcNm6PE/OTa9pnIfkgzYHqgOvUcuWtw7Qt3seGIwYtSgnFvc1DMeYk9C5xrcC++D1aX8so5WLsVgWzMkULO9kPVWf4br1u175LuTvIkRbHlKZLgrJeKFxmsLF+kl5Pb+NKX2WrSkbhsQmSwXTMx94OtQ+mr/SgI7ERFVY09QEk4CVOZm3hxcKMC+A1zI93QkkXWVlFCOY6g963HNS5JrjDTWj/AyDmlkiC90ojRr/dbnSLHBDi0NTZYKYgmEEwaTlnUkHt0yxs3U75ZhAj9nAGsCO7UIfbM8lHZj82J1Kktb/HWAhG8YubYx8tTzF47KfRptuTNFAfcfTCcAZ3INfs7pgHqPqpcmtVWeVsS+9P1HTf+JeI9fXL4Spvk7R5vTmvwEjPdqgdPVFWNOvqb6uQ+vpFXP+2MeBHjTtzMzjFHRlLhvz7fP86UcU53yqfOulnrei71/fvgjSJF5kx4RoilNOPdXfHm4jbaxMiwRAbasdsiLT+rZar+1OfQD16yQkb99p55Qem7cl+aFy0AQH0EiSZ0wIPtIc7YBYZP2xY87lkn/wci+kux8SHAhmSYngJV4Vz4qVMObAyGX17PI6guomOUbaHAE625PnPM+QlONqPMyaJcZgTNS943YieOZOnFdfxoBlcBkW96W/AcSYFczGqaNX2K7TKGMG6SENf2Kaq0f3YBPdcFnDFONu3WA9XypiNiQbaTZuiYvV0dvlzxj7manygto2UNQ+n4y1vOvTFsE+9L6Aqq/XsYYu2ZgjVJRy1Ackb/a7wvXeD/O7PLO1DqruccxSzrq/UT0V6QdxxXpJY91zNCVvmn0gXfCjnON9ivE+geEyOpz0X9AMePiN9l7WML06VROwj3TctDk7YZY6KQPnjK8GUg6wIRDOAlUEogxKiQxMgbgnyhNAKvbHfYUGTLfPKqox9QeDMLRHX8eTQqb5wJ06ZoIDQmnYtIz+z6YBlksbWYbXO39A3TAPGH2Z1zlF73mM1Dfa5g/e+gmQiqpnyg8nQHu/fmo7iDYlUQdKwjLkVX4Rqt5e/8XqqFjEP0W37WrXML36UOd2Cov0GNWHqrfHWi0Xj6rTtt0XYLvmm/Kh70eVB7Xcy6/VN9qryajl9WAfdDRnkPBvkdc0F7AGMGX1kLci6lP3kchZ/E5uqzTTgfUB87ocUFDTPhXKYFcBcUkLK54i1gVlTxVsYnep5J3mkPJy2Ek64NXxzu/Mb5QNUgTR+P35TYq1KssNbG3YiE5ei8pEnUdBG6mfW5UO0YZEcMaWuplycVqnPznOeabNPvf9TyR//sQxYzVQlZMinIY6xn9oi8B8YdiWYfs9vUfl4UDOKwnKQz1OSqOufn7r3ILKA8Q161ecxwb+yjMFWvHqPFcayElLjBATG+V5eAyNagOf0FbrDlrZlgiuQc8ifdYBahk9NRm1Tp7jO99+IVhH5V3P9siXa9KIB6Wq5vGttsjFH7RMs7mapXwwCj3WpXR77PrxAFPjM/pEPY+VmsYdakz0Gp1GpadOStO8xpSuKVpcwvdpRJbHjqSSSIVOfWO57LYO5+azDtDTkAOm1cG2zuSdP/gs73rCstnGocj/FbBHAI2dIkn2daSmfXRhk4CVJ5acrAze8khlBwnpHnzmFaX0G7346L6IXnirK6k38zxIsp9jDlftG+UMpB4zYN60x1fL5RhUHpB8mWq9Yoq2HjwfJOzVVG/FZP9GvZaBRm4auJB9+2jZSEHP9grzeU2tB/tsWJ39tI6ZTSX/IJrrCMFrBO0bgMeu6nAfKnobNRm9zBSq7r48FLS2s9+Qkieqc6j2qx5Qy1NYr309XRfSuxb4hlzWrNvJ6OugbwcRQM3M4qiLjHmYWxgDoOm/CEtnkVNe5asOMDM2LAwDndZf65XPegluG2c7sHk5QDECpoIiu49MS+wN497javjALnKpnTtLn8dEUNxIWUFHp4EoS9FcQhw38nsftXWXL+GP/Nq0tElmN7TVuFzFd9mIIcjAy/3ZjQRf8SypbWmj/BDtnOqhR7TQhXW1bdiwKerxyF9y6LGulLMv8gy5IXHgO+BvHGwQ9D2WRp0jjyN1j7vnC1Cu9TrmwPXK4wBCm9vJrT/99Akj+Zy73UEsfNW8rJ5d1TpjraU/jKP5Z7YHnQD66GmOG2NiIFuTwS2H1VVdQYhmPyhX/2aALlGs0+5UUWkp7znKNhC+DrptD3gMAG2kXl+PqXaPM3BurKcLWqTBP5AnixyPXq8/lgqvc49XbLCK/6QK66+ofOFH4enpjClzLEuRzFvzoSjUcsJzUHGhOlj6zu/9rg/MG8k0Yr6ztVM9qlzVNa9vHr1uwzKLZGftSvHietRZ0BxEGeQ0fW3jJiZusxbjZjiVE1hkR/8IfChgZ4gOjoZc4NIh7vSHhYA9BljVYTzgsbuyLnm1D5NAO4vLB0Msfna4wDKio48zu18/WlrSAqMYJ4Ksp8AQtLVwl3iINvgUlrMw+Jpl2xwX+Ohzj2xPGVDrld/0Hknv9AYtbTolOX0giRo0g7Fy4AL4Xn3wAt+oMTm3yi2RMQBv3rxZ48YYnW2bmG/pykB4NuY1ZdeeHMB8LVF5ojxUTbdPHK8uXyxCnf7LT8SM/SO3fvcLf40pO70/zk0H0Dx2rtf2aYy+md/zZT3A5coL4I8rugG9P5W3ygDXwSKeXt80Rh6QMvCaHx+GYkHyTR8rFfZBveSIzUtZl0kElbhM1WQCK6TuCTZoc7vLroNa7oGeXt8U/P6jdZk/vEYHKQZHPLFb3SwZ7eSWtrZNy9vbtm172okTK23lzDkdcFukaqmdOXO2ndVBJqVtlcvsDWfbmXMr0uPdmNSJxsc/z29YicQOF9nZ2U4L5cxZ7KuIP/IjZTOAOZ0dcsbWX/SaO2b4o2tBXz0rO0MbdYJC3kPNfHWVdp/pJcTOFj/kz9lVLXPtahkjdIAcLmgZROZTjiU5/qLT/qeOHGPXa+p5gOUZCNp6cBKxHLmT9Uw9bPTagBZjqd0oQRSr5o3AGzuj3PlzsmF+OFluEG1VMucUUJG3bqYvpnAAdKfqA//XNtON2v8ZYGGXprxPRl4djITZ2Am9nb7NqHw9fYbBD/Ipn8Q8zz+BYNOfRoWDjSUcx1i+/UJZqtUWHznmiok1ONDhjzJCkSAm1rM71S8D2oV8Do/kD7nLWQesp9GPitSb69FjbphW6XMv0s+D+lojdtz8tSOLOrVWd/JOJaP3i50lHQNreJViXiOKLbVtO3a1Sy67ou295EodPEvtwa8/3j78kT9qv/Krv96ee/bFtm37LknkgMalLjqkjssMkg5Z6eK+JYFLfFxJcWtAKcJSuhQ+IB+72iTkwVf8zBxbTFpUA+e4JJUNlGUfydm1ooO+EDjYGedkI0uZnYt549NH9BmLw+KoYzOOIeVM8I4Jv3KxgJF/TGMfep1O820GtNj9Vbmhr32ir2fOnIkckDuIObmNfjM/ZzU35gPRHrb41vkMlMwl64YdKXyrCrTYWw/VJkn/DS2LsUhnr6umse/zstYFTw/LgKn2it5OhdtCx6BmVu9gWc/jFJIHO6OP1pdtyE7rdqp1l3tYZ01TdNOwOdJzPc2dHIccmC/L8/X1MPyo3IUxKl+r1DR3uueBDm2Kr+ddBHaYkox/ktRAkEkvE6O2rVu3t/1XXNl27tzbjh492b761a+3z37uC+2++77enn7qQHvp5UPt0KFD7e6772433XSTdqJnYjCXNm/SjnRZBxu7n03aBWnnqh3ORu5DbiLn45/sMDmAZSt8HgIPdCV/GuusgiLvqXJw0waNBC058390SLHk0LMp+kb32EFx0LNjopv4cVZBll0UvKkBX9TI/dHwDT1pP84f6JX+4EEngRWfzTfAY48rnh/njMtUuYflc0ceTgXClnyb+TX4nXX0UDOwm5fw2DIcMJkTxhse9GKLUu42OaGoHtspmEddnNQIpPFSuFRxO8R9BPn/NNb01TLKQ8dgzrpyHJJOf0lVQx0bMQ6NyWFZI+uWqSdFjw28o0zuYseU9DHFmhh4pzDzbVgnIUduEZXjb9BR+5zQ+M5s5PhT9lzCT1Pd8Y3jgd6hpELyJsF1w/S19ucBvepw7pTi6VPC+iITRpvrYebHB/7Hf7KuxCKH+865HXrlpc7BwKKGTrnqJFVdPazrbAQw1bWoliJISLcua9vZDW2TAuCLB15ujzz6hHYZG9rxY6faocPH26Ejx9qmpeW2a+e+tn3Htnbs+KH21re8qV199RXt1MnjurRvbduWzbq83xb6VlfPKRBvVTkDp65JZAR/tdPZ1NoW8caClSubdYCunFlpp0+fblu3SEY+nSUoS9HK6qnop7xMn0XjAVM8yURljIn6LHrYkX4HdCQIqMgSZhyUCRRntYPCOA9QOLh4QISu3JVm0EFHBD04ZCN8YPeM0+gU/zj++AKdes6N5V32nHkeDHRAI+XlaNULHVnqSYs+4QoH6sAH8uZ/2qede5d79+7VWG+V/dR75MiRduLEiVhDzM/OnTuDfvDgwQiSmzjprGj8Ni+15eUtoSN2qvIbPjxnNMNX0UC85jTAfhvua+Rqip3+wBO0wa/QbV4s0LUoMzvJA3r9AXwRnTATcySYz8HGl/i2QTuJOqnWjVoGHDcxjzH/6V8FYwRyvjLoVaAPaWB7IH2gxFgHJWj2OdagGrx21gZQ+LA39mdqnRkj3Xrm+dxObh8B9arTV31G7c83AuRC98UGUFCNQJ8pGVKF6wwKicXvugHPVAdMN42cEJAQnYz/tDiYsOXlbe2JJ55qH/vYJ9qTjz3T2qat7TW33tH27btCwWdrO392o4LlpnbgpWe0O325nVs5rQk+L7mNbXnTUtuybYvat0Qwi+C5cXPbsry1LYu+zH25Teof737KJr5s2bxlCGIaAx3Ay8vLbd8le9uqguBm8W/ZujkWEA+pNi9vVjsPsOS/ZHkSyUOPzZLJPkLOgEWfNknv8pYt0sV9PZHEc1qBGt5cYARMLVsFU/z161Fu9/hG8Im6+KU3gkCMYc4byciAmfdVx6CZ4+8DQf+F/zHsJOwMvkcB2qBznDf+xx/mEx9Ny3Y0sQPn5IMs2vfs2dOefvrp9uUvfzmC5i233Nxe97rXxY5yi8YFmc9//k/jfukb3vCG6C9jsXPHzjgJHT9xPHSw3l599dXBTI4ND5h8yZwnlLWofYh+RGfnx2uIEXPA97j9R5/EwFc8AuSqrGE6XLmrTqSY+KM9dXg8wTi/OS+hw75OIGY9mlKOOAavfXLuAEobNqwvnj1ojVfM28t5HTHIFRtg0Q40/h/sVn7Kpo32bBOZoSCYB/R6erAOe1lg+YvFzC8C6JQwDGaaMlLbnSpch4cJYcJBTg7tLID5DiDhgykaBx20sQjSpiZTkxELQX+8sEsgOXPmXDtw4LAOvhfa88+/EjvQY8dW2qWXXaVAenmoe/GlJ9v+/drdbN7Yjh45pJ3KGdFXtWM8Ew9gzmoHyi6Und0ZLRp2lyunT7bVc6txKX1OfPhEYOThU7yWof6cVbDbvXcP3qj5fOxoaeMgzwC6rDaNgQ7qTQqeBFR2xASE7P8G+bhPOf3LXRhtW7ZqN6WgsG379ggIGQTQu6QgrMtU2WJ3yqtPm1Tn9gMgeBKg8SHrGiMNoIZKZaxEN8IWFfSdUR9W1b8MiJonjTMPXjiAoo8qI4Tuc2fPa0fNPUvO5hlkURTzgUIpzkAFTRxEcGrSg80wIX/oO7dO8BN79JF7ob/zO78TQfSKK65ox48f11XDXe1HfvR9QfvYx/6wPfDAV1HQvvXtb2/f/m3f3nbt2NUefPDr7Uv3fKk99/zz7TWveU1729veFjvVU6dOpR3ZqGsyXqwnVz1WXjYNbfCLKkfDf/2ZDghKPbxGaWNtLrG7oq4+VwSf2q0Pl+wXoBheSYyrmeTJOQHVj+p36p33C11YPwcPxw2+6S/0YmNgD/tKHEfowGea4GPceOshTdkYbWOwDbvoVNnHOTTaqadbrJVE2B5K8RA0+hdORsoTx9jPmDvWUAQBJf4xyANsCzi3LHB7kvBx5DEf7ckzyhnWCfr2uQBaG6vi9QCfjS8CA5aLIQccjJ3I+kw++JTFKEHISY9LeNGjTYMHu6YnRBjTpQ26FN++qy1t2tIOvHCoPfTwY+2xR59qhw8flQz313T5t21j+/GfeF+77vpr2gvPP6egqEtiXd6yczy7sqqD7bS0pZ/HTpyMHczpUyfbGQUWntJjDW/OnFqJBxKxuEQ/ffqUeFSXbytnTmdfVIaHp++AIMtl/BktxhOnTsSlJ4H1jHaXBI2dO3fFjuvo0Vfb+WPHm6Kw+rJZfq20ndpRsStlt8sTaHa527dvk/0cRy5bl7XD3rJ1e1vW7penoTiwrF30FtkgsLLrJVBm4r5i3itk/nbu3BE+MjfoQhY694a3bFmOfpKWCNosZo0EmybkSdxmiLcTFDYisCsoxgMc6Tsj/5m788NlNbKx+9OBw0kp9Ir35MmjMa8vvPBC++pX72833nhju/POO9uv/PKvtoOvHGr/j//nB9qH/+Cj7dd+7dfbT/z4+9srB19pn//cn7Z/9H/9R+2Wm1/T/tl//9+3w68ebNffcL2C6cMRQH/4h3+ovfzyS9E3rhhWhjmLk7Rsx9rVUOWDONZUridFc/WHAz/Xbc5zBgdozKkDLPSYbtHVOSX+E1Cp/xgt5h0y4+71D38cFyEEZ4459mBm7KJJekK1bOUx4pMTyI9Jh67wI4+daImy6BLRqbBtoj/ioTnUDEjdrKPcBVPn5IINZOLWESfK4BvGB0jGNjg+mVPKgLGOe/dqpwyV/p3jABkQLuDb0E3GIWixNogTSOSY5Tvc8PmIB6Ou8EG2nEwzYhyGes5bFGc0y4Ccz7EOFtWD95/+iw9ITypyDnoh0NOqA26DVvWA+Kil2s+fzV0UzVqLWqPw5oKKduV59kGfF0xO+jntEKMlaOhTRgl7w6Az2VwSLi1tadsUTE6ePK2D8QEF0icVSA+K72x73/veq4PsWtUPxWCGLuUElthlqU4A8CLdtnVbtK+e0cGu4BWTG68tsRtk58cCzpevz5xekUQecKTTCpr5iSDpklwEz+MKksdOtFOnFbRlb1UBlJx09Nixduzo0ZA5K3uMldsSjJd8lsqwJz7GgfKKAlX0XzvSFe26CMwr6GC3qHYvDPxCiN0lu1n6tm3b1jhwaWfnCy9BbeeunQrAWyIYsmsmcPPQbVkBecu25bj3S8BEJe3IoD8CqPRygmBcYySZdP3jYQ7jyK45ywq64tm4geCWbz0w9sheccX+9mv/6TfaU08+1f7+P/i77dd//beib//Hf/AP2ksHXm7/7J/9D+3n/vbPxo7/3/ybf9t+4D3f0977Q+9p//yf/4s4Kf3Mz/yMToJHY+Q48OLrAod1k2PJWsxgketQjTirMRtfdte4qU+MCX2TiiHgSqd8VwVNcIqXpCJM6j8BK3bXmieudGoAjflgrGQz/chjhIS+QWPYjAdhIkSbCp4f1kL4QHuhha6wT47vsj0ENdYWeuhqBGvsiD/szHxIfbQyl+jB7RiTFA1e86eOvFqJK7OYz3AreGMsaNPC5bhJG4TM1MPHnbnloaJoeVJBFg+WNGanpROZ+OULtUsarYHqh9Na37IOfMwvQszLoGcK1UbUF90DrcaNqtROWaFR+WfQ7kRcamOCSyeYqFi4qSckWeExuOTUxUMh1h18mWdK8LpRMGtXw0Rz0Gq44wHSli3bInA98sjD7dFHH2lvfeub2/4rLlVwPRUHMMHJlwOxuOUrZ02K9IVFCfB7FtRJ+AVRgIauHBP0IMdUJw2wEGMxRlW9izFAX9rYrEBFmYON4MIKYrGdZSVJyGPMWLCMTp08qcvbkyEbtxoUQBkpbkesnNBOWvZPa0d9TEH5qNIJXQpjFw1c1oZaOqn6aQV+Aq4PAF6xivlQOkegjt2zgrDK+TCPudLBIF528TzY4aEP4JKbnfvZkyfapm3b2759e7V7XpY+zQ0HgiIZAW8zQRi6xlrHSHvXO9/errl6f+7SFfy4j3lKO/tf+Y//qV126WXt+37ge9q/+19+sb3jHe9od9/1tujXv/qFX2g//mM/rrl9pN13333tvT/8nvYt3/q29m8VTA8eOtR+4id+UktsY9wb5bZLvAoX4x4zIJ9YixnEydWpCCqeM9ZpPrhjvvJEFUFJcpQJSNzvhj/uIcecMQu5BrwL2yTdKytc3eTaZJ0xzrShV4zRtqQTGsL5VkbOOScbctZF5EOw9SU0tuKTbtmtAPKsGTGoD/npK9Z5fK8ttoZ+qznGAV73OYI6b43I/wjKnADPZUCLsRGP8+AJf7IvGeyxfy5OijoPyTf1A7r8FXeOiZwN39UWJ+7BdhiRPxEotS7YIPBGy0YtEGThk9fJOwF0gllfunqCco6tUdsp01bbK9bY+Cf/w3+35h7olPJeKYtgyljld3lETrr5I3gqYCXgFZ0ASmnGM+qW1dRJQA6yeVjAogdvDj5ne74EBDqXr0lvCqbs+LTb0cJkF4ZsPStFfZhsyvYXPwgC5gPhi4Av6KCefNDU1wjEuYscdcCLEP2GNvigszvqI/gmQ5iKfkkoFhpUtammUoLLSZ5Cs3hXdVBrhNrmJR3UaosdppSyoAG7OvTS/7xU36DgqUBwJvtBoGNMCDgEDuQ4cOHnQwcEgVPc0lBAZRxXFLi5dXHqlAKuTlgrKwre4nn1yKvxlgN6kOcEx0Mxggw6I1hJgrcYOKDPnTvTfvInf7TdfPMNQcPPPXv3tA/9b7/bPve5z7a/9/f+Xozfr/7qr7af/dmfU0C9PG53/Kt/9a/aX/2rf7V99tOfiRPAd3/vd7fbbr+t/eqv/Kf24osH2k/91E/Lj5X2la98JU42ETs077EeFBS4RbF7z24F9O3hEzbiFod22WKLNcLYMoabl9mJnWundaLiRBe7aCVuneQcr8buHV2snbgdpAmLXaEM4x/tEZSHdceJj3ZscNLKtSAx+RFrU3pRwrjl2mPtsElglvUnuqJK3rKJtYdf7IrzqmMDZXaNsomMlLCg4iTISTpeuZOdXO25nlljOT/KVdOSVYPkh/rwL2JdNMUxKR3yIcZQfzwzUG2wg29wsqlJ6LAIW8iylpGJdcpVpnI1KWmdqKzVqSudzfLzjE6u420UwDh9I4A/A36ejLKe41Z1uV5pPWY+TAVQo6f3RqYMg55G3YEwJydlk1/tDK3vj4jP8tkOfwYABpz/jWTLQSAnCMU9Gy0KAg96CKR8lJMDndNjyDBZ3P+MoiZkKHtyUt8I9MTE4ufgc9IzYSsnBn30hgUrfcOOIuUzmMZJQ0RuJ4QvyHFA6o/FRkDM8Uo5fCHPZSYanOpj2FMdbRxs+E6QjfttKsOLAWRpj3dbRY8DSTpjBxMrmfYwlge72oJHYCeOfFySMTaM6RAAol39Y3dy9qx0hT5ybgMst/PsZKWLwIJP7Dg52AkUANpJBUH6QNDdsY03E/LB2+X7L29f/Isv6pL9N9qdb76z/Z2/87fbpz71qfbRj35U5b/Tdu3cEzvdf/kv/2X7+3//77ePfuQj7dJLL2nf9h3f1vbvv0KX/f+pvfLKofY3/sbfjPunH/7wR9qDDzzYlrft1K6G2x0EduaMkwxvXGyJgMCnvE5xf1oBYdvWLfEQauvWbdEHrh4I7IwbDwa3bd/Sdu/azYRobLgNksFz+/YdOV4aSwImiPvPGktyxpG4hiAP7TKoRkTRiY+Hlwp8mpMtW5djtxYDJDA3jC0Erwn8gsSJMtaAeNDFiY0TVdw+UPsZ2kKWtcoaTB30nw+HyH3Rc96X8WWo5/GgtYAt1pv84aSDJu4n68wQayRO0FK2SeOyuqLgyUkIP9S/zfab43+VgJnjhQzfo4E83xPB7a7lLfmw9CQP/uTLNk7oOjbPnVuJh6QcJXFF1sHjYdRyxTh+eYwBZA3TGAfKU3qgITPjWe81pikFYMooMH2eRj0DE/DlctaTL2mUlfO6kP7ym9tH+H5pBqBEmiHAZqdIcSCHrrTJgrJ9HmTEoqLzcOhgPaMJIoBygNTBAVkfBlKTHvrlI5cS2QuDeg4oOxMCeXxEdPAL+/iBXuogFrjURh9Qr7/xlgLjk3ZTPntEAMsTzNCHOBi5PDwVgY3LVIIWukMGef4kB2/qxkf5ogOAxcpBAh09OOK+EyjORmDNcsgNC5/+UsdWfFx26BsIm6Kzq6Knni/ogMBKkMQmfHmQykcdjPRh9+7d7fkXXmi/81sfbNdde237sb/6oxHkPve5z7WPf/zj7a/9tb+mnerN8bDpf/qf/j/tn/7TD0TA3LV7V/u+7/vedtVVV2tn+j/Hu8A/93M/p93w0Xb06PF2+pR21XKFh4P4yi0cbmWcPHE6drPpf74ydujwwXb48OHwkU6ssptjJ6dxJAjCy9icVYDgtsAOBVoue9l1sjvn4OeEJaEYA4LJFgUexpJ7kLt2ESi4tOYEk5fJu3fu0olhhwLw9rjXzL3sTcM9ZALzVgV0gi3DSMAnmG8ddrTcXtEwirY5/CQwo//sWQIpJ0/NoRgi+EneO1/m1Ss5dIiRVcB80EdSzDn5JvWFnXDMF215EiVwx0kfOSnHDjJxq2DImfvNyCGjMWTHjFXeeuH1wVcOHmmPPfp4e+Odb443TobFrjWqXbxkVpXHCUQ6UJsMCXw1vJa81oDbRxr1UcZYX2YtfHx+wwH0YpRXpKHsmIYsaJZNOuVcvIxLfus6VaZyQFyyc5DNB7dUMx740DiYOWbHAzNTLHxNWNxjZHHLhixp0lMnsixclPrgTmTwiMWALhaT5HIhIas+SUcunAxszt0H9xd++izPNRTSRb8l63bkHORcl1DwQ0ud43iSWKzWYdnwDe3qKzkBC10ZCFL3OF5jmXb4kidT8qTP6KJOsEOGRY0PuYHFdw5CKQye1MmJT2LBiwz3QUcbI511wL1RXo7/D7/0y+2666/TJfhPRhsPuR599NH2K7/yK+3ut93dvleBkvdEP/ShD7Wf//mfj/yll19qP/HjP9auvOrK9i//3/9fBeI97W/97N9sB154KQKwrwDOyb8M+AQvTqicODPoMI5xG0N8BBkczxOrDl79sXsmcHK/Gf9PKAhzv5fASaAjeJ7WbpoxOXb8RDt27HicrI69erQdUr9SL69VsYZlX3V24dw/Zk2eOHosZAMao42b86QOWJvsLJnbzQqcOyLQbh7ucb/a9ugEsn///pjrLdo1w8+tke07CLw84NukwL072jkWdu3aNQTkXNfQGH/uPxPgeOuD2zjQCa5cHRDsWW+xhmNpnm9ntJsf30pg6tFHG/Ofa453rtl0b+TYFi9BNXk2tO06cdz/tYfbb/7m/9puf93r2213KL321pA5r52nrLaNbHJ0Cc86Yxda4fHCLuuKuseMcq0Dj33lmW/PY3kKtCVyDKL0T/7FGEBHhkTed4N53kDFlANgdDAHNOsEm+HAisDEAQiPaBxoHGkgaCmvUBT85yKw1gDqSxrp126VAOtOcSCghAOkDsamDfn+pkRCV5yF1c4koyuskw99iFwHW0Xe8B4HufLmLjnr6duY43fwqEdLvDyu/rGbi7O1RMzne8I+czsFDfmh7nGI3aF0uA7PzAf5mA8f0mfD+ggirEf6Ai3HC/2MCeUcHx8MlN0PgBp23BxAjGm8PD6YgS98lT4QfmFP80kbB7J5wg8dYhzgv/Vbv9k+/yd/1rbv264guKudOrLSXnfna9uP//j72z333Ns++L9+qF197RUKXEfa29/+9vae97ynfelL97T//J//c3vHO74jAsq9X763/aDod931tnb40GE2MbHL87jFOtEOL0628gua+8YfwYZxzdsNwwmE/onOWsFfdoCcPAkqfn8WG+zKV07Dk7cy0BnjxT+NYzyMkxx0dKGHnfCKgjDlMwqSKxp77l9y6X1UgZhbHCdPaucsW+ycT544pQCtYKuIgo5D2i2fOqndpnSCnQqOvD/MWHD8MC9XXHWVAv7J8BU+1oZv0dC3TZuW287tO+NSHTrBld0lVxJbtAN2sOW2Bp8U47YBY8MDRILsFuXsknltbdv2bfGGBuPBWyyccHlvOL9UXOMt33KXzPdW7G5f+/pj7bd/53fb1u27JbOlXXLpZe3SS3e3N73h9rb/sl3aHp/ShWl+0U7s8If1B/Cp5hXjOh3bcoyGtTnQqz4wrZPjinrKkZDb8IH/1wdm0lWRy1o6naIFfJoQUNswhlGczp0SnfeBxVldC5jTCt/mPhxoyLDLGu0PB9kQQE3PA5rgBj+2a1DjgOZAzR1a3isidKl92BWiJ2jDgSNC7BZYtO5v2AobI5DmvgxN8HkXxoGRXwSS+sgJSAC+0MUQYJ8uyDfiBgs0CBywOrAygCmF/pw03+KofafserUJOKiQ4YAXk/7lAYNe2gABLORlDxr9ILEDST3YC9aQqzlANvxUYknSFLvz4EE25w0lkQcdhQQs++0+0cbtiE3t0KGDsSa4hCWwHDp4uG3dtrm9+c1v1qX2yfbZz362vfzyy/GK0zd/8zfHO6z4+5GPfLTdd99X2xFdsn/P97xbwfSd2pkdDZPyMkyELdlGN4EiAn9A9Fgz9Edjic8x7vJPvePSNtaI6jHHqsd7v/LffYA3Tgoqnz7NGHJvdTkCLCeR8UTHmkBPzmEOSc5ljBOtgx/2cWCJ8WXjwPHBmxOsr+iC+PNDIBlcuCWRt5B0Wa9dKm8zsJt89ejRCEAYpT98RJZbFSdOHG/Hj50Mm7HjFC9jTVAn0OnIiNsIHLO0LYuH+SWgb9ZJgsBP0OUY2L17Z8wHdjgBEmyPyi73Q9ml7927s+1RgGeHzIc9uO/JB14ef/JZLcqthPuQP3b0sDY8q+2Wm65sr3/dze3aqy+PXejJkyfCtsfLYwbqGIKehzrjjzxr3XTGospWOR9T0DJPOin42IG6YsyUicQBUduA26tc8Auuk1PEIE6kOiZvuMzUZPGUPHiGByrwseDYUfKUOAOVzlyip17kQr14NdE62Ln82bZtRxxsHCTc/M+Xx3mYpLOcJpYz4DEdTPiSl2zySQuYXRbggI77QgQV1Vkk9iUOprCrxa+yjh8h++j+s7C9C8NXFnbcAxQb/oasbDBxMPFZ/jwYaONEAiMLUJeGqVn2KWFb4xS7UnQw0cj4UiVYoi8OoNjKg4d26gjwLzU7qOfCoCEDKONFHT9zd0+TrKscu1j5gz54EWNdcH8t9HBSEA2fcr3gU44rtAgszKvmOQ9QLWLV4+kzBwMOoU99YKeT9/LQM35LEwseMM8cnIwPl6aAS3QeDL3y8qF2+tRKu/a6a+NylHdAsc3ZKHb78jHHiXHI+co58TxzwiU4aO5iHDhJ4xpBlafiBEn80hhrbeIjCeT6TKBLA8YUiI68xgHtqqAvbiEwphKNMR5kcvxypx8+c/k69BsrPnj5ops4IUoSq7lGkovAH+OLRfGyU4w5U38wCB2fcI5dLe83Q+ctCdNZI3FpLhqjs3Fpc+x649gUE3JeR+xqeaWO44c25odEmR3wocOHYg5Pw691wq6c17o0nFFf0nF++RXXtquvvl4TqfnU8UmQO71yQpN0um3eeLatnHy1ra4cb2/6ptvbN33Ta/OBkvTTv7qePReAduemk/v2E+Wsj+2A+kjLNW9UvpnsxQTQChsAVa4qByMfTrAIOAjpbDovzWrRQMDBQS5k4OGyZ4POQMfbnr27FVQIjN4FiE+80hg6lzcvt5deeqV98YtfjIcKvPiNv2fPrMSBQwD1AcjAbdLksAi27djeLrnkkrgc4YDmU0A8PeUVla28oygaC5rLkF0780krPnOm3aSjkIMXnSAv09iB6iSgSQx7ksUPFi4pLs1Ej/EQnYdZ+j8OJkhxMIvCJWN8tFHDRUCOoCMGhquOb6rBDwKnb1VQ9wOEXEw5B6kDJXlwpp4YS4EFkvM0Ir/FPvkjGOgfZR4SRDAg9jBn+EVPdNCOi1InkHgol+X03wt92BUrZ5cZwVZ/4at0eUzTd8oETr4hKx86kbxTZly5x4d++sIOaXmzdqOyyQHOrgvZ2PHpshFb6SPjTlDRiTmsq25f8UV939DyNbAcF/nMSTgoqmltRk59GDf8jQ6wNhmfaCe5H8mKvnxYp/JsvJDNHWGCcUdWAhtYUymHvC+5KdPPHN9cK2FQsrRHAFaZf7FWtY6gYZv5JIVduKSDLxuP41wJP2LOaNO4RqBmXbHG2B3GxkMnD+kl6Pp+sO+FcvJmKPDglNpOn1QwlTZGm0DMpmfl5GnZ2yxePNB8rZxtTz7zfLRv5NjTvPIR6hPHj7SDLz3fjh56ud16y/Xt299+V7v++itjvsLHoQ/Z31w/poEctxiYAHw0e07g7XmM1JPrYgqWzY9ySjETygIA0WBHGA3BdRs0zxyvUPmMoKm6YSkPIg44Bk5DqjYY3IkNbcf2ve3Bhx5p93zx3vaTP/XfaBKOaJKOxySzeH0gcNAQ+Phiieeff77ddutr4yyIfl5F4aBj8XDTngnnvsySgm683yieeNqpyWIBsNtlJ3tcZ0xez+BAJeBxoKp38u1c7HDQdUoLggXAxzsBk4Ke5OU+GZ/aWQ6bW2Vz375L5CtPnpfa5Zdf3rbv2KEDQWdi8bDb4skoC5tdlEYhDxL5zf0k5gQ/eJ0l+8zi5mDJMabOhwRYvA4s3C9DnhMGu6h4cVn8nqJxEWlhaNy57FIXwxZtObdcYmagy8UpPXxZs0oRnCWrC8awj03u7rOGQK6jHIfUlcHLwCcOQpQxzqyNDJCyLzr9Y+zoQ+weBcYAwIteB1LGlXWAaU4ekoApDmwQO3P1D8+z3/hBL7ANT44Lez0Zzj6omcOAV3FizHVpHLtA6GonHiOEruE4jHIklXktyPOVVwYhMNMfQUw+R32QoRwnKjhFS+S44XuMqTjRxwGN7hSEP9dBig9+zHQIYo01IFqMGTT6gm4JIZb8eWyNNLHF2NJP5drJbord+RD4RWf3Cl98UEJrhtsaHAv4SSDlLZctqmu62gonzGGe5VCsfbrBhunhR59qv/3BD8V3+NKPxx5/rO2//NL2uttubnt3b2vbt+jYuXRP275ti64S00evAUCOT7Fu8A2nBK8/EvDajwHoAA9yud5BjskiwMu4x3ugPnBi5RBeKIYlJQ2MBUDvFHAbqGXzQMsdS0yfJmR0EnYuVXgvb8/uSzS2G9vv/M7vxRcf/1/+0T9sx0+8HLvQDbqsYpJwCX0M/p49e9tHP/qRGMCf+PEf19nqFU0eE5lnxQRn97zU5KY4Ty7zXcD8hiMmgkseJhYZJoF3DAH1E7oc4cwaL40TzPh4pA6qeEdPINB4YuBHJwPLwY+7S1pAvL6BD9xwp40ntyy26If6ne+kEnDy7I9PGRy0SNADXYsYPwjEu3TiIOCzg+ZEwAG5Z8/u0Ld5M99atFWr5Xx8axQvgG9TPS6XJR+BBmc1kNzQP7U6fHZf40Twhifu78WBmr4QbBgfphNf6DM7OOjYO+eAJfkc79FOBBDJ5Y5pOBh1gAHGk4BAn+KkqiSL0RaHsfhTR64bQDDLgJIBOG3qZIGNKI8Y1yg5fUwa6yXbUj99Cj/FEg8JVbePEQhiXAhoOk500scfAiGX+hIPHapE33irg+MorkLiRDYeK/Ahl2NZA2g0B6Ie+vSPdsqhN9sYF/6oxTEVjGkPBL/1Updg+k4AzgCKPM8D8pW0lEE8c8Y/13PIaRig89obyD5FMcYRZFD11Q1jBMPgAcz6tyJdnEDCZRF4wIT89u272he/cG/7X/7dL7XbX/+mdstrbo1j55qrr2rXXHVp27VjWVcW9GEl3ljQlMtOrk18zDXAiclzOg9o8II8Tikrxb+cA5Br1nqQS/rQHHrM63Lkcy/Sh/KLC6AAGobJZzoKzAc0voImDLZzLDwIdAEanWw661zTnnj8ufav/3//tl1z/c3tZ37up7UjPKJFrMuxuITPTgJ089I039zDTfO//tN/vR2OV0UUeIaFsapJZ0CY2AxKqutg4BuRfM8mz4QEigx6JPcLxNmUWRNip8l7j3EgMcrZzoGDXT42h00Su1DuD+EbL5wTcE7J5mkFZGgEcAIQDxy41eCP3GE3ArVsxm5StnjfkE/H0HfS9m3bGPy4CU9QZgETXGO88Uk8XEbHfS3R6TOfhOGelKcEHxmXpc0Z2AiwPhkwZuyImTQ+knfZZZe1vfv2xtThT3zDlHbOvF7EtPPVfxhmDD1H9B+9PlGpQTZzTCNYDQcYbTk3XndJ45Jx9vBP+oAPGg5EZNyW88PBnn3JNvEiN+iU+gC66d9sfoegmwcZ+pWLJ8cyheOgGvwbSEoEUFUEbLKO6VcECdqknjAW64S+ipc/y6Ej6HOYccf/oZ71qwIfw+SSmhy+OEEpz7UOb67R8EUp2NTOcRMP5aCJQqCNpnRghvQJPegbAo2OfdhSkjU+XHEMOpI/6ZTjvr/ojCUnivCLcVabxwb5+PIe0Vkjy5u3tmd0+X7vV+9v1117Q7vqqqva/iv2B9/Jk6/K9xVtMngOMniRzoc9MM6jxzXp9o1UkUE++wv6PsRcDzZA5auw3EQATaNJU9Iggt6gy2Dkn4f5ACVJDnxMEAsXWzqzyS5firxj+yXtzz//lfbrv/qb7bY3vKm9573f3fZdslUHxIlYPIbt8RVwv/VbvxUH6d/4Gz+tADq8/CwwEDko1IbOyg7ttCFPECHPRR1iwwCeH3ZHXEbmAZoycKAr9ZE88KQ2/G48dAJxHsjQcsfCDoCFwyU8gSn7z6TyEjSvibDo8qzKpT3+ZeIJZgZPghRyvG94klsWmBUtg2M+DEOeHfLJY7xAnjf/+QgmgTsElAio2ObLQHA9fycK6/Q5H85k+6Z2ySX7RCMI58cV0YVf8OIbu2ePQZ4Y2BHm2MQCZ2yVuE+ZuvKb/3nQkzu5sKbdyLagoYcTA2Xk4wGhELvtiExpizmxPVWF3Pnmy90ZlGPXLr58YJhBHtnwKxzLWwKA8YWuWdGS1P/Bk+9gYoA2f+IHnI17sDmGgFd1dKSLVWuIZT0ES+YbS8jH7QwS+kXTUgp/QPhEnb+gaZ0p36A+45U0B38ES+ghlrJqYSsStdAp5djmoo+++MFggDYxYD+qdEIYgzsnJhGG+73MO/NRxwmwBhBljVgHoExifnJMWQ85/uGpHEx29BNUeXd1S8wTn0Li7BO3beR8BGX6r7HBL8+dyyRsee5UDb2mV78qLAMfsE58zpNp0i1vPsP61w2gIcy9sg5u75X2sPEYcJUHV6DQxeFsyOCuaoezr73y8rH20Q9/ph148Ui79NLL2w03Xdm+5e1v0EI90c6cPhWX34DOopMD7nd/73c1savtx97/o+3Yqwq0Uk87duwjE51l2nIRjE+d4c0+MniAg5IzVfZv9Dp2QKL7ks6XLuM4aPcTB2ouELodbTGuqZ8DGh84EdI2DFG05bimD+xq86yLH4zTsMMMT5STDVMTxVgMCrLSGU+c5SPv/yESLgxlL+oMxIKI9IOnz+zQM/jlmOEnBw+fdOKVFxY1D814HYZvjYqgLRVHjx4LVfnmBPeLVyLl2IoDu9LPay08vIv1IPiTMSA+/hnjmYuYRJmELzknG+NBH/ex4/Pq4uF1Ht8vJRhzMCPDDnnHzh0q54mH1508V353MfvKWtg03F4hWOQtjbhqkR1sA2jwZ5+oaww1XswJBzmdxDfa4eW4gcfzCB/yXL2oIfhjPlUOfigxF9kcKbi07iLoa44ZE2iyIc9jrmOXDcSoaStAUv0gC73Yke+sL+pxOy0FsIsPpPBJsul79iU+MTTbEOSun9x9ZR7GcbGOLIOcV/U/TmoKrPwUhBAPtyQrbTPdnGywj77Z1Z/UyLuQoa3C9sjxazb+BfanB3zmTR7X61isj9n3gaYTUIaJFYKmM3SPOlh2YD2EBvGpayowMTlIERQ0kbyAvv+y/e1zn/ty+90P/XG7/bY7tes4rUvF1fYTP/mDWtTH2qoOYgbXg4Ts7j274uN9fCXce37wPe3IoSMRGAkO2R+CBXUHUNl0YAq38WNcCOM4MBl5hsVPdKiBIv9SVonFgD8+o3LQxcTrcpwDnl0mvUQni4w89aeOtBeOhI24zGE5sXjhk74wpLO3L9VsI7YWPI3koBQ9g2AGnjh7w81OCJ/VlpfnYxDAb8YTewD19jXa4mCVLRZ/cOQBjEvQaEeCneSqxsFy2COIUWb8PLZYoox9HnrxpSEOtNB4an/01aPtxMn8WCXvDhKgOXAJduysoZFbZ3zjP/eYNa/clskxzh08u9VLL7005NklezcLkAX4h9/wEPy5nUIAzfuUeaIlsMZDRu2QoBEAoaEfPTNfpIOckzyv2bAGoLFJwJr5GBcDWmwiBr84ucaXrmi+417sIJM7IgJmrgtWvxqY2DimYv7hQIa61w3zozXBJoVPULELjO8/CFF0hJD+Q520SC7u44qGevzD32ALH1ino/9TwF+DcurCv3xgGbt31ek3mmmLVulHcrPGjXEOuo9l9TJGCH/ExDzjG7rxx3MV4y26UX0B9gXUtpmP5Th2O21GT6Me3wdqYrbT1SFH2bAjqvBimFJu2CmQlxDijwOaAWNSJasgQM5OkjH4+Mc/1+75wiPtda9/U3xf56nTh9rf+tkf125CW/qVk8ON7OFA1R8B9E8//6cRQL/9274tPnVCoIiOyXSedTNoyJgmD2+QV0E+xY5SC6cOegYG+jg85Im+Erhz0uOsrHI8sWTKockOerFBsDLSD+xnwEEHl5IE8uiDZDXCqjNpGUAtxzuyef0l/+h3yORlGHLsfqjEZEuN+xALHndiOab/JOxnMMldJnyxG5Lv0TfGQjn9i7lTO3KU03d4+adx04GA+rwXrDwWNP6lvbQd7ikNuwLaY9efcrTFqzEqI4dmbMauSilklPtgATleOUfho9q5j3ZSVyfUGVveliBgchLJsc7bFXxRNbcwCMDspnnVCRkStCqLL4wRJ+O9e/e1nTt4zY3PaBO08x46AZkx4eRMHm9TiJ+AzqAwznH5KW2zgKBy7LrVX9ppjHvbtA192cp3s0ofvMtq27KsgMwbKOLNcZJuxkOE/ArEXF+sHZYP84NPWfaOmXlkzaqo/1ijcUKWTuQNdnzsCkNGZGz6EvrMSn6fKWMPkGPsPDexPoTopxJ02nPdEALTNzVGHjvnkNf6GnzgI6Royasjea92zzV3E1ht0QXJeu7sh8uuG/YLmA/AV5F86MX2fJthmTl7dQdqZB3GXMRgJjDwOne5wnScoonhi6Cpy5r82KWI7AbjMqLFR7fu/fID7ROf+GLbtePqtm37znboyIH28ivPtp/5uZ9sl16yo505dbSdjd3BcDALTOijjzyindSG9trXvrYdP84l/NpBzMWkCZW9+KVNBmgIngyWJxtwACCPHfR7h0Qriw49th+7i0jj4NYFRdkLgNT7Rp5jlHT7kWV02scs4yuo+kDVCazPfFMwT4V5+xwf3WfQ67Ue01J3lKJu/srn8al65/yBX39VDlQdigmBOdrAT/LYelzdD/O5TjIIvG5jR8gJhR+s80kHXa8eOxrrAl6CldgjIB7X7pkd9ImjxyNIxxdqCHyqhxM793K5h8y6AthhN8tbEwS3Xbt3xufZ83ZCjg3rhzXpHPie8I4dO8THa3snQ4Z7zBEcJcvYZ7/OSY41mLtkdETf5DdjAw0/KGODftIXaABa2shjD6DfYwwf/OikDsxnPbHZoGlohxe6+5j+6CokTqa6cuGkNKx7YF9sM5FjS5tpniPQy5in+g56vrHO//hJIWmGbYauugMFVTkMZiavzplmObeBOZpUxVk6drJjMImkMyS7ks3LW9uHf/ej7Z4vPtbufOt3y+7Z9srhF7QID7T3vOfd7TW3XKvFeLKdOZ0BkgkicYnHC/R7d+9uV151VTwwqf7bD4I2ge/seS4heJ9NfqhvOBe7UcGDH0HzNN/mnt9LCaBzNkQf8zqoD8SlB/Ris/oAYnHIX2iMaYV5SfYXWE+F63Veeh5Q6fBVvVP8oNKnZKb0LdJl9O3Wg/+MqXOAzjl+bIwuTCLWtmA5dHh8oaHb9kyzTcpT/NShh1/Yl+r88ovcDQW/ol3uBufHX1xQ8tYI9DhJ5xUQByIB12uXxOtyfDQRPex8ec/YJ2yC5IEDB/JjkKKhh8TOGTkCIT7xPacEqquvvjKeYMOTD+d4RYi3JPKeL7z53jE/7bIpfAEef+ujzUHVidsRfqsCftPRhx38BdDggQYffnk8GTNyj7fL5PCTM86UAW3oQge6KJuXsc8TV/pL7rE1oAHkSAb0SpviS9vQ8sQjrqAblgld7EApVEUeVHfQg0abec1jOdDTYveknRMBkdd/xKGybSmpbduObfEZ5o99/JM6A+1r1133+mg6ceqQdqDPtVsUPH/wB75L47/aTp/M9zOxw4TyAj2/9X711Ve3fXv36jKDn9TIPthXTxh1nZsjgMaL5cPiz8WdE0P9xPFT7fHHH2+PPvZwLGIeevClFXxlmT//zD0qg+Flczj2OfVad4XpAH7XXa6otAu1V5hGDg+posrUNuhusxwJmucVVDog92In0VbhtWMZ80BHzu2Athmg6V+lWY8Ra1swT9+Obtsj2eYimDfKzKzK1u0+kudBLL/1R9D0/UFgm0bcSQ67qQPAQ8r1gY303fZ5rY3L2Lx1lPq8ltBBmcDR9wVeAol/FYDjjlfhCELoJX/uueciKMNrXSSCNPX8DtStoZ+cvu7evTdeZSNg0g5op26/CcAck9ggoYs27OQn/PLBHf7Rhl4HPI8XGxsHRHzyeKBDmeoEytz5e1wAPAB9dUxMr3yUkTUqj/nQ4TJIFuzN84e+fgcKLAwtmMw85KTs1EgzqiyIOpfO8J/LywG1RuLhEZ8QevjhR9tjTzynIHhDe/mlU+2JJ55s+6/YrUufQ9qdnlcAfXfbukVnOu5PDTaZLAIdi4Hvh9ylieVld9u0f154MeA8dMGujrx4P05/3PfiXheT/sLzL7QXX3gpPr/Lj8Pxg2RcUn3Ht397271vn2i82pS+u+9cnrDTcB1QrpPEhLjuhcVkw0+ZBMzT6wKuG5WnR5Wd4qv1uliqnHNotS9TOl3v5Wt/bIdEnTaPi/mrTg1xnpw6veYFBK/1gG5kPeauO2hQZh7sJzTzqZBXF4N920UXEHV4J3O00/sHTS3RjpjbqeclNJfo2LYMtrCJHcZsfp1UX7KcPqfcuBmgzImeNyi4fPduEzqBEh4ClYMdIFhyS4BNA1d26KINXn6NAFn6zoaFrxwkSPt9ZkCb7VgW3wm4PMzbvnNH2CCIootdMl+pRx47WQVPvt+UdnRalx/W5W0LvnYvHzIB9Nv/HOP5tYzvJNeduwzcDkyHNs8zlqHX9nW/DxSY2c5ZAQ5XRbOFNdRpM7h6D3oJoHmzlkt4tvrn2vIWPnO+u33sw59qjz/6aPubP/vX2hYFz1ePvhTfxsNP+KIC7dhmoPkdHAbw9a9/fdzs5h09w356sMNf5dy35BKL+6Y8mVSPwqdnnn0mfrxs1i+1s1B4/eWuu97a9mkRcCblSWb6nogHACz2ob/IA4+H68C0PGjGsfRYUSfVhWD0dWD5RbAe+1DtOO/lF+mr9nse2qquygumdHqcndvXmaxEwutOF7A+r+uqv7dtv8zj9ipTMcTEmQz+WQc5fpIc2FiQQVc7dPNVUEfvvE3Pi+1ggx0hJ5Vsg2571Elpg/FLX0KT9JtW4QeTaSfts/GgznFheeoORvBQpg0e2jg+OUYIutxvpQ2b8Kft3N2Sk5AxHV3UT2knzGtM/E4XwRf+1K0rS9G4eoSfnfMrr7wSARQ78DhdeeUVcSxyq4LgjY3ZPAg+1qnb/hTMPwXa3L+1OqDlWBob/vE/+/ngWKTUdCulI6Aq7x2tbSGvnWbk3Is8jxMMtHYBXAqLjUucnbsUoE5vbh/87Y+0l1480P5P/+e/J56TClqvamBOx26A+5bYZ9A4a33yk5+MM9Tdd98dAzrftfQLvwH2eSiQr+LIB9G4sc93Nz799FPtqacyeKKPySMxmZdcsjd+VmLX7t0ZQLXvoSuG74FiCxvRTwEfmVDXvRgM08HcWAnWVemVfz1YBliP7daxMFyuclNYZB85+mp52zQWLUZ8qry9nAhKi+0CLaVA1QF6GXyo+slJ0Jyo45MDKDL2HZjHdPpMwsf4Uu4ojLotG/KS5aGI1wO6QMgL8CKcrNlmv+rY2nb4KWb00U7dwQO4TsAzbLsmYD3eSSJjv0Y+jrl8HQzAM6WDHNnsT/rhceCb/gF9gdcp+qijkWPTr6g5GNv/LPOrBJ9p1113bfvu7/7u2Nw4CBseJ/tW6wa0nq+Cun0mmTcBLdctiXbFkmRclOYVjIvRqa8D54l5HoDLDFq+zoINLQxd0pw8cTR+jIxfOtROXUHxVQ3qyfhaLTHN/EEfA8elBoNOMGUyYhdQUvUjykOfBkrY5/sQ+bZzAjCvrOAdX1pLnfstfDktZ3bsAOxWvYbHC+Af4GyPb7y6wm+0544Av6I5+EjIodfyo49rgW3b7/2odftDgm6fKqyr19Oj+tbD+o2eb5EcsG37Zj1BJ5cogcl8s3bRHTyB6RWVHx/sh8c81otyeNxOmTctapt1AOvweEQQ0K4qT6LSEQfYOB6Wn63HoT/ZJ/zgXiG7uPTBvgHqBJCQH2gAOvZJDmTwUCd4OYCRQ3dfLGead3jUgQMnfKsKTPDAn2VSvnGQOT8eyNfWndCxclw7Sh50ndYxwnFzPHLaOXbjC3i0az3PQx+NlbxtW3Rw79i2tW3ntsF2Xcrv3hm/3nr55ZfFw7Abbrh+SNdFwLzxxhvarbfeIl/zFgKw3zEHSgB/Dbf3qHT66jSFXkeyMRcjfWYR5pqM3ghtnpTK16NvY+dJQi6T7CgB7n8AvizgpCaFl6r51pXI5WF+W/3oixcEi4B7I67D5cSCBZYB7DzhBaKG7CuvvBw534aOPgIqvnNvlCeeLCwWkfvj2wTWi2pyJq8uYsrY4rd8fud3PtieeeYZ6eLyiUW6NgiP+hanCuSdFmFK1n6aVuUrf03VzpRN1oPpNQHrMGrZqPw1d7liigag5+2hhOUrP7Zr34HLc/z6B70mg3Idw1lSG7LMObnpRrx3OYD5p4kVaxmMhu0B0BwYgNus08cggEaZZLuUkcFPw3XzkAzWrAOyediVJh/HfD5AJfl4yMRmBh70U8afcSy4hUA9bHHSkB4u1znW4km6eLBD4OVH/SgTeNm8cFwSgEnsftGHb+j22KC3niwA5Yr0cxzf7NPYd+B2bHwjmO1AQTVQDZKbp/KDWq4Y6eTzshFIQ7+IKsdNUuHY0WOx89uyhUujnBgCVujSPw8egMZEMmgMIKj+Amzw0rH9j5d3BT5uqXmNd/UIoFy2k+oL1jmQ/IQBN7+3ZWBGL74M/bEdAjO+scvk4OC1D75+j3tHPBDjySe+IooMC20mO/jkiXMf3Q5q3WNIgpfc7bUNmG5ZUOvmA1VPTW4zqn4D3ytv5al6DNoqzf0weh0qxD1p8igPqcqhL3dy6CWHNctO8Umcgc7aSloGL1LKix62ROpQD1rPF2X3MUTiCiMTPMhQrrxiCotoow9sICwDnHtc3UfD7YZ5SNXHHvCZl2OGvOqijk1yt2U512jKz+vJk0Gu2ZQZ26v/WcaG+NVnUNdvIn1OvvTBsgB+YLrlej2Up2BfyBcly1IG1NfSSPByFVsYDNOs1OiV9nI9Rp6Rj7q6q5ICDd+srRRrWDTOPHyRKi8E58JLm16EHkh0+KkhIDiBOpBhW3VoHngU8hf3QrVoDxx4qR08eEhBclec+eKz3eLhzMfTvte//o522WWXzwI09gmW7IxB2pJPytH3+ONPtD/4g4+GHp/RebmfX5okQKdfXgSRBQ2gi366j6Yb1PuEzIVgXqOXr/XabtSyAS3Gd5CvJzCnPGBGPuB5gA6Qo8z8WQ5YzsiviFMdklLlqzkslB0UXe7r6VvS+hSBWin8DoPzqP0BlFNvjgMyfnrv9QjGvg927WvYzbJzUl231kFue1U39doGLFuPGbebp+Yue05crvMIXLYMZfOQapmEH+SWBfbFekDtD7Ae5xwb+AOfaZZxfLAtUkW1Z5ivJtDzgCpb28HGKlwBY3Wo75AxJTuFOT6Vff8zHFITN6m5zCGI5k86aBC1xWcnJzcHsbGzBCfuL5LjE8k8NUc/JYImA00dGZ708RI+H+Fj1+mb0ty3RBevgNx4403xGgaXG/KmxTdh6w89Y7DjpyX4OrcN7cEHH2z33vvleD2D90fxjwBKcGby2WlA271nt4I/P4U73nDHr7p410PfRxDjOKD23amiyvdtzLkXJoAHH02zvxW0AdpdBtR7X1yHz7rpdw/zBVSED5rpLpOq7ik+o/rWI3UM/YhZ1l98Ui7lkSXZDnM62sjEWjqvYctvs2L88uBGBvhEgY9hT3+UeZiKJmi2sx6sbz1ghxR2JvhH38ccX2zbPta5qbqc284UrIt2y6KXVOWsyzYBbdSB5Tg2fXxWWJdlDes3sh0/1o5xHXdyeO1D9cNweeFM9c5cCHa2GuzBPaq49znUwTCE8VoSbadOr2h3yVdb5bty7Oz4LDCvKdUOsstjp8iAOhDVjrrzkSdxtiPloc7jTzzRDh8+Eq9EQOOAICex0LknMxsk0dDF8UWZrroNXejhjYCHHnpQlPPtD//wv7RPfOIToZN2AjaBePeu3e0l7Xr/i9ofeOBrs/fi0Gmk/vmJN7B5sfOyaA56oA+bF6t3is9+uR+97Rg7tVd6nZ9q37p6mN8w3xSv6YvGcX1wICLHOmXtqDzoQR+JNcf7wddee22843jFFVcoXRVf8L1vzyVtz+49cRXFrR/ec+RqZuxnjkf4pnJaWgvzkGrZqOWKqfEAi+h1TPO+5NpPzS2SNabWz3prqu9LD6+jnodjhWTgHwk7JPgta8zrcBnfONZH/+xrb5O6E6jjBcJa39EqYOBY75wdd7nKWAfJ2jUlkQxJ0xWE+b+tKCASOC+59JL4Vvm8OU2L9OpfnRSeiofuwa7b3F5zf4uTz6bcVz148GUFuDPD54nzzMvkEPRIfPKCAAeQoz2+KUe8BMSgxfucLd5r4+dAOLD4erWnn346fjmSzw/DzwHFE/7nn3+h/d7v/X772Ec/3l588YAk58eLxWt47C4WU/zYnqLXceoxxQ9MYxyA+ajX3H3ANsm2KAP4qFsfZWSoV58s19OAdbhuW4OJhcAGfLZdYR3ZlrpnvsqM/SNx4n744Yfbpz/96XhI+Bd/8Rftnnu+1B742tfa/Q/c3x58+KG4omGN8l4n98JZL3xgAxvWO4V4Yn+hjnQIHyXndDHoefGJxFzYR+BdM2kcnxFT/fA4VfRy1ml4THoblY+rN8YRnyqmdFW4vbAI+DfPB6qu2o9Kr1j6zu991wemGir6wbBi012uevp2YoU4wu24kSwa9xNViDLfrv7w1x9tLzz3Qrv7W+9u23fwu9Q5efntLOPAMMkMJouUnN0ANPTA70mo9u0bl9Erp0+1r33tgXiBlx0CwQ7dBED0cL/yjW98Q3xhM7sRaLwgiB50Wy+3HAiq/MTG7bfdFu+J8i1Sf/fv/p121113xW7z61/7unYq10cA/f3f/4N4qPT9P/B97S1veYv0jh95I+GD/XZ9EeCxH86B6e5vbTPMU/mMvm75Xl+tUyb32HAi8smq8lM2f4ypQB/N49zo6eQ9D7rsi2pqH4qC+cf2EVWPyz1f0pXQoVLe/15qL730Uvu1X/u1eP2Nz6s/+sijWk9fa/fd9xUF0AfiE3LPPvtMe/LJJ+O2Dm923HzzTdFnkufV9mZ1/sNc1NJ+nwyXKw1YJ3TKvRyo/fSaI7ExIMfHXj9zC1yvOgxotmc+wzY837W91iufQRvjzke3Od6vvPLKCKJVBljG9Kp3xNhGOUXT7ygNuqZlLZd5+Bm1AVXIHTFq3eVKM6bq9YZ9qi88KqYz59qZs2ficoefikDO9y0ZGJInkcFk18flEztFdgQAGfchdeZisFy8SiL7XKqgg98LwgECJ4sHOhPDJRmX9sixG80nbjnx+SmiEUFTUOZz8vBy/5OdK0/0Dx06HHX69qlPfVIB/5X2oz/6vngRmC8QRtagf/hqUK/ti1B5KPdpEXJe5uewlsF6OszroMntF3LGlfvZ23QS4jfBOQmRmCt+VI/ybu3IyTmpcKlLX6vtWgZ9GzZJpiGPXb9OY7/tu3P4+zbguv1g3XknWO0CePi2IE4S733ve9uP/dj72/f/4Pe3d7zjHe2O178+vhWMA1yicQXywgsvtk998jMhy71R/ATos84KvOr9m8KU7BQW2QGVztqj7nXnMhsM8kWw/gv5G/3K4mT/7Itzw/rxj+OUAGofmR9AneQ+9DpsD5Nu73mmaBeD2ciMRuY7N6XY7W6b4plDPEWlfUjDzXlEUo4yi1XBUuuLh0jMWf3Gb2w6GDJY3AMF3FukDh+5QXlcrOlz3vM4246fON727Nkz27kiS05QJuDx5STIxi9W4u+gG/+wj644uBQ04rJMvvud0bQ3vr7Ca1mPPfaYdiTPtne+853trrfdFZ9w4lLffoM65pRdr3RAHbnKY1gXcPsUnwF/3zYl09eB6+hgHWOa91wPHjzcvvzle9uXvvDl9sADD7aHH3pUl7uPabf2RHvyiWfa008915577nmlF9vTTz/TXnnlkMZ6bWBxArbf02s75Sk+02oClgUuR5vGlu+elPSMHvftKevkyeU8c8pVCg8Kr7v2unbLLbe0t2pef/iHf1gB9cfa+973I+2nfvKvtf/2H/637a//9b/R+GFAHjAxb6zB2fwpXw/Y7P3saT1qH50bvRztPp4ITsBBiTZ+u4gX15mbeu8RVN20E9jY+KALVD/h5aPT/B48rfFl0cWXvk/WXeXxCx99ldjrd97rAqaN9FF/ynIcjjp6WLZvgxZP4Q0YzNTnwO01gV5HLpT+IKfMa0v5InkG1Ayk9Icv12XC+EZvvrklJzaDXmrP110AE8Yizt1hDprtIUdyh5M+LAwN0pmVc/FknF2r72nCy+6TRXL77be366+/LmwRMLHLboTLbeyO/codMbcXyOH3TpjgSKeOHTs6/AzJ+QjMnM0JruxifWvAvqOjBhGDck0VUR9Ii3guFlXeyWOT/c3ktnkwV7mLef75Z9vnP//59uHf/0j7jd/8zfYff/lX2n/8D7/SfukX/0P7hX/1r9sv/M9K//rftF/4hV9ov/iL/7598pN/Eg/s3Hej2pxK5gH4aV9xzT5O+drTex5UhlaRUjsK8wyhWQsa7yvjLzbZrfLSN5/I4avp8pcjWTur7djxo3FvfKPWXZy8BzvI4Tu3BMirfcO02l+j0qr/la9vNw+gxe1Vl8eQL3kmuD/y6KPtN37jN+I9Zq6q3OfUl7JsGjhu2Hy88MKBaLO+RFhT4piv9HnYx+qPQZ21xXGCPXwgUfexgyzlCut0mp0IB9hWtVfrlgPW7br5lt71Pe/8gAkgDY0HjmGB9WjIYKjS+SQC4El6PMYm8OCD2nhNhCITsKpA9NWvPthOnTzbvuVb7pYyLqfzS1wJOgB91DnbsavDT3aLdRDhqZ2lDkwXqR0+8mp79LHH2xHtBHnAdPx4HhC33vqadvMtN4s7A3vI8s6nFj/lCPwDsBe/e6M/DoSTJ062B7/+sMob25vf/Ja4rH/woa+1Fw88L723tgMHXmxPPf1ku+qqK7Vz2RfBP3QUUMcPl4HHEziPKaRvFJTncGb/yOk3yUjfUxb07QbyHjvs13rPTx2d6S9l5n5D9O2bv/nO9vZv/xbN49s0Fne2u+765nb33Xe1O9/8RtXf1O6443Xxju3tt9/Wrrnm6rgNwwHCSci+2t/qay3jH2X7Bz9rDZrHEFQ9Bu3VBpjxMe7idTspAx2Nme655564irjjjjviCujUSX4Ija9szAOd31JCD2vrsHZw9331vvYt6j9xhE1CWMIf7MRf1tOD9CX6xbojD9b0v85HTcasH6KZl5xvfaeFRD36pDJ8bBCAZaOu8ssvvSLf728vvXyg3XjTjfGx5vxCHfxjM8GxuFVjcbR99CMfb3/+51+IL/bh7YOcn7RFHn7KIpbSWtKA+9v7DGgjscF58cUX451qbrGxWbG/0Z9B3nPf6zYvGX67DihnPRNFt1c9NZ8dHzDUBKywCrkMjxfvlExFtqVDWR9TggYWa4tFyJfDblrm3c68LGYwsIVedPnsA52vsWOxsquD1sP+1IQ97kOx6NF18JWDca+Sg4EgzQHNS/JT/atl2j0p0PjVRiaUh1HcC/Xn87HHDvXGG29s3/qt39qeeea59olP/HE8aPJEe+Jdpk8VtusEoifiRQep+oJvTtSz3wmXyWsCVT+odOuqmG/PWxv5zT88RGJXshS3Ynbt2qFFvzN24FzyXr7/8naTDsbXvvbW+BpCgieBk2R9vS1Q/XWqoB4LWglYx5SMbSzq10yP2OMnLjQn8KV4fgIuX0/i1bvsN0hdrNfUQxvrwiYIWsBzXP3pAa0mw2Xy6ivlqo+EHXwA0R6leVjWfIAy9Ntfd3t7//t/TDvLl9pnP/v5OOZ4a4VjhyBEmVtpf/jxP2pf//oj7a1vfUvsVLGbATbXM1dc8VtIHeyvwVrGb8YXOfcVPmj4BY08+jPIV74Lg+NkKHao+qyTPuDXVBt5rrYLwM5WB62o0p3PjAyOjvRxwQYPf/KA35Ih6HAfkXscvDvJ/UV4PGguAzrFxDGo8FtnxRSNz9PyRQj79u5ud9/11viCguMnjrYrrrw8viZreUve56n91NDxZVKzxW+9UdUOOi7XVOSA4rtNH3/48faLv/Tv28FDr8THRDlr4u/b3nZ37My+qt3IBz/4wQi2LED00c6idB/J14zlAOgkaGc1nuKe8TjRjs7aD8PyRq0jC5A1POa9rl7GtuFnd80XssRtEs0Rr4sxv9ChkTuI+J4W+nwyqPYN2wH2ufdJLfE/PngcnYPqc6UbtT3GL/SJRxlXH8wRwYB1yknYr7nlA0YOfnwaT2okdk50J22mvdq/RT5MwX0moQNZxs59sS63VzvM4jnRyfl1BXJ+MtkPy2wXHVzZnF/Nn9bmquwd7/iOuF99zz33av54t5kT48649fLhD3+0PfTwI+29P/QDcZUB7E9+NZ/rzDFrc74fTiBsq2zf3YY8t+wYPwIz30+qUZxLYllDIzEnTrPbh8MxA8hdHkZpVrdf6wFtF4SNjIbmUQ3aaPDrr9YT5Jqw6IRq8pmOcT9y5XTehyT5QYwXCnk90HwJ7EUy1dnwoSSf4TgQeK3k2muviUDMgXDra18zkwHo8yQCqJSd4CPnfhF+XXrZpe2HfuivtL/1t/9m+yt/5T1qP9fe8IY3iPZDsfPiPhkL8a673qIz+bF4tcW2CDK+JPHBZzsVfZ3+e7E6Wa76PgXzGa6TrGcK9hmYx3MALGv79sugzHgRUOk3fE7w93Z7+R5uX4clsEh3xairBJWZDLzZH9Yel5LegRq0IcOB7nnhamrbNt5f5AEjPoyBzbZIi9C3VZk6ZrVvtHltQK8yU8njTxmwBpHziY5X7niD4k/+5E/avfd+RbxL8Um+D37wd9tjjz2h9f797c473xj9Rof94WqEnG+csm7gdpeN6g/wGOIPIKDzPRP4BKpO85o2pdflntdw3eNqHvMb1g3togMoSgDCTsBGjL4cjvBYMymjbMiLN5o2ttM6s3G2Jpi5A6DmHljKHkTKtlPTFHgKSJJA9MeXI/Dzag2AngNGf8ugaXHEbx/pj7M2Nh3sCATIcDl64003tBtuuCH08jCKhcVBdEg7Un599Lu+6926LHp/u+aaa+Ksim0ORHZiAF0k9NexBH2/+r5StkyVtS6nCurI1TE3ev0LgQ7+pJokTS1+IEyy3IrBhteP59B+eLxjzDkAh4PQCUz54brbMlEfDwCntXxrUw/uYcZn2s8zpmNQBMw7b3AwZ5A4qNkEuG+qxBYhfj1T5SU+iSRyXDGwMeCWhyhSO0vUuec5V+/Qjwuo81b7MeOTTnRhN+aibx/K9I1jynPBWwNqiDHgN/a/87u+K/r8+c9/Lt6h/sQffVL5g+1d7/qOuM/NrpArvE2b2A2uxobB7uQOPdembYKpcTcqb45rbny4Aoi10ulxshzJNCNloGdilJ3yeJ+3W2UXYZjxEVW4dwBQn9ol9UZ7uSmERIq1I68ebae0K9mxg584PoOCsINedDFoPhPlZVGeNT2Ytg9quYLAh1cOmqsKVLyryDuKnG3RO04OdkNspi/GHB1Dw5nyBbPo8psBPJFExvfGYCfBQ9DGHkGTB03ogjf5c0ftsumGy87tB3lNpl0Mqi5StQesB/pUijYdZARLknWM45gHgOfO7TNZ5bRHefjrUfmBy1XXmKIpdNJu/4HlwFQbKegEMrESRGEhAOQlYCauFuiPmmcn8gywuWYyYOQ88sctKhYeZXLuX9u2dZLsA6mi8hjmZ5xJBvS+7/DxtoC11jZgftaxjw3/sWYJhvu1A333u98dG5wPf/gP2vMvPNe+//u/Jy7buUXDuofX857qczzpTvWx7x/1lBn9IrdfyKIfHq8jo/IB26+gbVEaMcrYn16PUela81XJNKYNrp0Il3s+MDqUxlmQ9pkHO8eO5atF3FvhTKalIT2j3Dgx+eXGBCJ2AEwaNPORLgR4mBBe5v62b/u24SeRM+jZ92k9soPTA19MnKj52kr66wcpScsb4vDmJVz+JC2BNs727AgGO9Ths94KeMzn8lQC1mH0dLdVGVDrLk/RKkyb2et0w75xeFOhylYfAHUfBH0adY2px9gWtVm9yjO+Li9CtOkfrx0B5J0zpxy8OTdcNeQ7iTwsJOjQDl3SWgOs1wysfCnNJs19HPjSzX3BMLPYjTXAL/sC5v0ab3+A2keXqyn4hu5lWe2sUe8+qUPn1hTgjQJ2o/DwNgnvvz7z6Evq96Z2++tua/7mNDpnXwA60Mdue4mfEhd95o/SItCGvtSZSL0ZOGm3HfcZuC+m1bzyVdMX8sPtVd6w3giglcFlK6iKXGZgaqRfpKMiafAXXVnSZOjyFb2aJB7E0BIvrSvA5MJMeWSsm/uKPLhhYj05PeCtiR2FL7+ZIALoa17zmrifRUDlQADhmxJ9NEwL+/oXZf3lOPD5eA4ufORATb/xywvBPsLPwVRtAWjohj9sCM4N20cXwH4F7U51foBlq07TDMsafTvAtu0D+wMvNmGnHnJS5ctftEKzX+YhVbshtwB9m+UTYSFLgy7gdvvncuWZt51t7KZB5WVuuEqhyg6TOWTt8oYBv9fDt6dfe+11cQuHl+uvueba4cQ5zhljwW9xYWcR3C/bnkqLEH1Qc/CpHrlMYz/GfDiesjVR58T6OQFwbHGlxLHGO65/8Acfjnuf7/iet0vBpva5T/+pNgT54Be7rGGvX65KEuhj3Ed74WOHtMn6yb7bX/TRhm70WH/VYf/JZ/3seAzzWcbJsJxlzW++Xu/SO797fA+0NoCpupW43vOAtXJ0CLmoBS0AQfp2797XHn3k8fbY40+0O++8s+3frwk7xXdz+pIWO6M9fODzyOxC8wENi3rsnFMFdXaF5PG73bMJHScO5GUY5WxHb0A0uRFtUKDH+3L6F/pE9wTWMbI8dIM2kmmuVz8q/xTg4ymqpjV8sA6j+mD0dWA5+2ke0yvwCZp9q33LMjIOsIPOIMsXZFWsftFfA1rvg0G9JlD1jG1RLfWqB/1DaY6eMG3WJl73FzkOXA5iaJ/+9Gfyc+5ff7jd88Uvt6985b52//0PtPvue2Ao3x+fib/33nvj6w1Zn7zlAXKOoxiodnsfZuMRIzei8sJjPuC2SHFCz7Fn9C0zg8RMo19OyLi/27fvaK8eO9p+7/c+3O6558u6ZH9b+6H3/pX2yssH22c+85m2rBPIddddF3roG1ePMW7aMHK8RXlmd/QZhI9K1X+AXdIo1+JhL8cm33iV957zWEHW8tiqudvm2ymP9myj2ppCzzeozHugGMChagxGJ4O2qqi2VVQdFAmAmUOvHULHxvhht9On8wESD1o483mApGUm68RukTZ2APAx2YtQ5XTeUdAh8OmsFjePM2AC9KEL/yjXSYhe4gs8qjP+8PDiNHzw2Afo9MmwnrE/awMHCR3A/MA084CgURefeoMrM1Q+50ZfN9Bnfyxfk1HLgPpsjKJvQY2UbiPPwUNZ6PrCeGF3qo8XgmXIXZ4C+rNv8KRvYwKj7Qp5EnnqTr9I1Dmwue3DBzjcjg3ekeSLRZ579rkIrg899FB78MGvRxu7UfpLQBn1YSFh/Yb7ZXptd17bXXcC0TbYglLbgyPZ5nTgK34yr+w8eUmeW1sf/OCH2sMPP9K+8zvfFZ/537K8pd39LXe12++4rf3xH/9xnCh4rSvu62vHjT508G1l2Av9gx1S9cUIfiXze+5CViAmcLsEnxwfgHW6DNBBe2+HLO2MMqCWe9CGDCykUSetov93//wfa/2Pzhgp5KAyDdrtnDHvDG04y9mEM5ICn5wn1myEFr91tFFnlf3t9z/0kXb/V+9vP/03/3q7Yv8+nXEOql0D2HilCb5M+MV7eHwZsh8AcYaft5sdNc25vyIvfhOe9qB6cMa+esBioCLQwkAGMT0BkCIvY1D1WC/N5L0NUP10GZ6Uy7oD0UyWNiVOAyiPh1sAe/E3DdsB6K552skEKh30dfIZTXmWOx0kXUXQ5EtHFj9BCH76QxlYBtRyBXSfqOr4gaw7YFYMviRbIPXb53H8A9DwV7T0kaCZQcH+5vcvZB+oY5s2+sY9P34y5qRO8iun+Tq7VZ3oCUabhxM/ujmIMZVO2VYPaLTN5reD/YZvxjvQDJ78a8GEjspvnb0O+gGNYMUHWz79mc+2r9x3X3vXu94Ru09NZFs5dbrt0hjwOfnf/u3fjo96/tRP/VR8DJofmEMH48AHKhiThOwMPmDHoF59AIwn8+w2AvMTTzyh9tauueY6jXm2w2dZz3u/LirYyG2MmJNrsoc3Puickh+RNuHb6AGzM3bIg2nUNqPyrpdmGMSTPnRITmNndUVnGJ3Ztm/bGoOPbsvbjn3grAh8H9GDBizjVDGoyQNbzpBmtMKbspTEIwa5mTKmBwH/hoahjX5w78i/tpjBgzEcdbsPIPVlm2kV5u2b0g4nl6Eu/ZHwYbA1Zacm4PbRzlofjCldIOlOBfDwV5qQsR4HHlD1GVP+TPHMY6qeybyjjNvmEXaH3P7V42BVAYF3ePlmrSNHDiuIHIwyny47fuJYO31GQVNzzhfg5P3RnfFmCXLo45Nu3M6qfbmYvq9Xn+IH0LCpI3tsly0HU5Jtux78SjxZ/9znPts+8+nPaMf9re2b3vBNGgddaenkwLzy6T02L9/3fd8XxzCfmed7cJnXXJuc7HLcQneUEtV2HVv7UscDvnqlqeqcvBN1o8rPw+M+8lY56BlEx7xPuZkZZTRW84HTZTtmmvO+7LpR5cgIMgw8KesRtuIPrqXhCfzhw6+27Tt2xOdtx9eJQkssvqzngPMkm0H1vRDbM6bqYTd2wvMHLZxOAFoEoiExaDUFL3KRBtlZPWlehEbwzfFkMvp6HWPgdupRTuqczMXAeqqc59C2pjDFM2dbZLdBpS0OC3gGNtuterz2LhbMdUWvD3PrwXyWqbJGHiB+fY55zDJrkByfyZM3ZfGLg5t1e1prk1+RzKft+SU17DyRyxP+/IEPel96/TXvk1HrlgdreIemasO+uG/+OsnDR460u9721vaWt3xz27F9e/SF03UcBWrnk0h8TPlHfvRHYgz4gum8jM+To/WG/TLXM18GwFNBHXngOWd8U9d4XBlVX6+rYlA540ldjE02QK9pCr2t2WtMFnJAgl7bnPdl1yssN28s6x6QeLGXQdHfyqmVdkpnvM3L+RMX+bAn+aud3M21WJDwEUBrO0CGxATM21ef4i8HLWglESzZbTLKs7py7zbHBHGEKGts2m61b5hmfwFljzuAh3KfADZsp9J79HI9anvlm6KTADZrn2Zt+CJyDo/+nItnkUxNoPKAnqcfH+peSyDbs97LGrU8BdpDZfjig2tMhucg+Pms/HnuSelg0u6StzFyh8mOM+fIl6MAP3t9Ru9rrU/hQu0BbVxixzkkUHXbD9PoF69ecWy970d+pL3/x97f+ImdvBXBh0bODPe88+TAieKNb3xj+6Ef+uG2e/euONHUXShfIsS0jE/lE9j1OjY8Lk4An9Dpk5B/HqX671TpU8iTI/OG7ho8XR/HYUo/yTDP5NfZVUajKnW5LuApmB++PIPAXxc5i5GPZZ5pp06fid2oWmaLLJGvR0RJnaXMJRSDShBN+nzA6VHb3I5MncC+zYCGPyTzjLyjLWScFvFVvWBsny+DRb4ZtVptAzf1MlOoPpnfebXv/oNeprYZ9mcq9TL0FfQ6XCd3GXlQaSNGnpoqLFdlK41bMPEJJMnZR8qsO9PmINfz/m4GSg70DCz5kIy+Icvah2ZU36p9EnDbIvQyi5J5DfTiU11fLrtvcRtK/kLH50ii2X++GMRfDsLTcd5rft3rbm/f8R3fEe9o038fsxyn6K79qb4Z1VeS/TQN29Vvt6k1/LWM4bL1GdArX227GJjfOuzFGvSGF2GKp8qSeyE6FzUGmMSZ7tjx4+1VXS7wSsSygiKLzZPJWRwg5wHkaSeThrz55vXPg772AzdOwLy/oC/XJE3KOYutbXPCTp1o28U/L8RexujrFchHisvD7kAu4AQbn54d+lzTlH77B9xWaYZle/lK6+XcZvseDyfD8uR1Hp2bt9ZJ1E0TdchH9HaAZRYlgoeBL14rtBmU+TVNdp85L2rTroxg6rUdPBF06BNznq8GkXqfQPW12loP8DlVVBo66QFfaVcTNKzBFzzMDcebyjRAIyDmLTj1QzR4KNMvdtubNvFppfwlB9o8v9U+OWNkuM3thuvIew3UsQq3YhuNrkzpC7dXCLBwJZ06eb4+aZmcC+vr7Ru0Vx7Y2LXW5Hb1NxcHDjModtyDQTkXyLioK2xsKrmd9yTjK62021zamPeBQOok5/Int+fwMzHEdi4Pxst57oPkJPDKCJ+OgJcvL0ZP6uztp52k506g9qv2B37TXTfN5UzUaYdLOvSHr1FDVolxdJBMaNC5dJAuKQzheKm/jCm6Deiei5pA8lnvvFxF+jpULgD7QF4TSD0smpGOL7XuZNin2ub+gDqm0DxWTqCWK6BZD5jypWKqrfevh31zGR58BNzHNA0O8wV0YLHW6Z9h/b6XSnKfAfLwO1Gf0/mXhHWQ267humn2lzXJ0sqf0vGaY3yH95s5TouvtBPALG8ZJ2z7RAJcnw+K82PthDxybqOOHepeS7TbF/M5N6iPOrLPlVZ9c6r6aB+vnLOcH5ZJXbNLeDtiYRz0wq50pxqNxTqX5un6T76EnfPsGBns1B92FVgOHTzUTp082bZv46vN+HLanABedUpHeX0kPw7He2AMBL83s7LC53Qz5edxz6jMJyi4lFqNr1TjVQxy3jPl8mpVZ0r65Zv7eWM8B5AydrN/udApu++Ra/BIvIW5gSft4iE4yts4oDZtHi9d8qbT+bbKGbwtaWGyOEXjYIoHWpk8XmqI+8Iem+x7Trh9APlSumTUT5TGmxmpfFY+T8KudJGqLutxG3XnNLFAfNamnG8V+ISQvgDqlgPWZ1u1brse+6m1BSzrVHVMtVtvgpwDO9ehD5gKeOdl82RNyvmYX/vWnbxjmbVIwNTwaJolry1/5gSa0U94CSyUCaL2zbpsi+R+koDHRdQhUZ5PrCMxKqksGcuy9rQsQyeI196wRRIPaUYb+ipjYY9jkhHZwHGnMkthg/rHdzewrjAEP7pnu1O8EaPt1f5FGf+U0Q/eUqC8gfdElbvu9miLPumYkS36eUZ2OXY8X4wl5fxUV865xzmTlPBllOJxLOLKEeSaznXtnWpNptXd60jLvmEjxioGTojKMGE12aEelWdKrtLtQOoxr0pq36jAmIGN+ybDTWrx5s3dfN0FIJq7vxw8JsYTT8CkHRoHJ8GVSw8vSgaZnSw0nuCTsEmiDN11yk608c6pZcwblyxnxL8qOZUJ3Px07VlNFPdyWVT0kUtt5jcmPXLRtFi4jFctfO/HttY8hsC8TqsK0LNApD5Co6/kIN4VHXiByyT4zOsEko5v8zTKni/yKlN3E6aPMuk/yfzmrbAMqO2WhVZ11TSlz/y1zfKG2+wXeSa1lXqFae4fINjYVrQx50qVJ205zeu27FTqYTmn5BsagcpVttoImazMtbvN9aCVcuxKjYFvCv38WefM9oJkHuAxI6jnbZQ8wfKsg3XJMaYRF0+6gpxTzu1Yn7YTmeqp2+h5zb8W0JEd+zr3EKmHnemRdAYfWacR1YkpebXGn1p1hmNnxhcOLMU90Bg4HFMiEHnRo88B035x8Pog0r/ImQS/h4l/vHc3vjybix89AH5oBCPT3E5ykKrBlcmFfjoCKLup/Po5DpqXDx5uTz/zvHacUqQgf4pdMMF8RYH41HHpONXOoEt6VkJeO+cunZa+TLRrR40fGp/4KjSpPa9+nmPsYze+JRYXP1rmQFb9p2+MD8ljBXK8xrlFBiDDmLNIjZFvXJQVpvV0AK2ON0BXnVNgP4DLvU7rIXdbTaYble5k2hTcz+LKGlQ/QfBrZ1XpspD/F1suT9EA8uM6XseBBbAuJNl3RBr0OK92jWq/ovLkq3wJ6FXGqdL6uQVRHqqmk1cey8Y6Hur6P9rgO3z4SLw2FWQrE+wDQN56Mz7N7xjHNTL6blnQ13tYNyrMNztSxsb5BNZTSmcuFNENF/MdyzxoxRHBiW+3iW9o1x/2kHNe4deXGKw8MLIdPupoxF2SaTlweQ/FE4xu98sDS512t1Uel+ELn9hVaqVyWUFQlXR79tkD7Z577lNZvinSra5mcD59ml3sceW8H5iB2UG5D9Dc0yWdZPfLjneFAKydMjtiyWc+7JLh0Q6ZRN07UtvocxJ9dT3HK8eJvuX4EGhz1w+4KvAYRLcHPgfsGAvBY+vxMzxeU8mwTsuRV91TcuapaZzrkdc++QRSdVS+PvW6BoEoYyur8zLVF8Nt1gdoF2mmH5hvKhmLdE/B9L7dMk6AcbkQej0V1Scj+1hsDcc1qLoqj2E+Mus5euxorHc/VDaqvFMPdFhnxRTtYmE7s/dADRrqxPao/NVhyGt3pVmvuqIzw5lFtbjk4dKYm+98VZZ18sfE4ottUidIEEChEQjyXTsWJzuuvPz0pf5MV6T0N/qmoGe69QL0OXmx0w1swUMeMudVj9N8ym5T4D916kx74P5H2ksvv6rYyrdmh6D6tTl6y7zbD/pv+1MJ5K2K0Sb+OAieifu9CrSzoJu3INw+49NY0VaDrHnHgD3e1oB/lKGNWxwpD91PW81H2WuF3IHZ9OxHLl4ScB97+tz4CpWfMu1ObgPWByqdcp+m+HrAkadh9Un86l3SVI6fwlCizv/8cWWQVweqSW3cuxv0r2cn27LdfSB5PGsC2Ye0jOi87qF/KvUygHq0D/Spdud9qpiiAWjW77KTodoa2am615HrzAYncYrW3QO6N3F1HVmf5epJnzTKzidjio68E5gMoFNYRJ8Ca8ipwoazk6QMWis6UHm6mT/7yyJ10EzH4c+n+Bvi5zD4bDGDwe4TOnyk/uCq9kgziKUOSB1YT6Db8cVlcpIPGr6tPC7htGM7cepsO3RYvm3eoeDEgyP4pVNyuJQ7udTPkQbNvtbcvpqGPcpOIMvRGmVudwD8JrDlax3pK/YIaA5+8OSPpOWOyDIEVAfGDLKUc6fsYAkvuQNw6h3rJAdlytZnnaZbzvQavEm04Zt9J49+1jkU6tjQxhriCoXcyWPp8XAyqrx5c05VJh/q5zXEkow/gmUEzFQw0xFl8QL7Zr3W7TYwVGc+0U+3ub4Wa313GuLxTEdg0G3bBvXq03pA3mlNfaDhFnX7bL22Ayw/YuDhT3w+Dke/8rZdrNGyDrItYT5SnmASlcfAPDFjrR9rcTE82OhC3FrDtU4H6qTS5nYMOqmlpMQavVpoBEQOdg4SfgueHSgHN7wMpmGdPIxZXV1pO3duj09HcGm8oktc2usk4WPKzNulDB+6zQ8NXvO7zcnyoZegqT92sEwqYLd5/Php7TwPte27Lmnbd+xrBw8e186TX+XM70dESgriaSZW08dxMu2vfUib2Bl5oNmXLKMpbyPEU334lcTetKmPPNqGpBGa8cQrVXii3HqrfYApqrkTzpOVA6jXAXUHykonUa8BtQZIJ7fVZBly6yZR9kO8ylt5zFfp+GG/XXbCz+mxnU8xLsPYxDhJTgMYQMrrJDXMY0qXU0pPA95FSNlMsDlw9BLwxdFaGrzuQepZDB8D6wH9aJmdUIReb/Zlra1YmjQNJrx2ZuOphK74QmfN57ixmod56SjypqX/tKVPubGYv5Vn2ObFYexLfJlI7fDoTKIago/Uy0zBeqzLeqwjyvrzYuZ3V9gxsOjHzmTugUWO+4g7dmwfPq+b9NA1+AU/8r09yzsZVbfl7DPo+Zkk/IrJEnn79p3tJJfvX3uw7di+u23ZsqM9+8wB6VhWMM4vO+H1j3O6pJf2tmm4v5g78LRTbUCLPrC6Zis/D3Jgf4MPvRLjPmwGTAV/bEo2aMhjb0gOotyfzVev0Je3QQzMhP0YP+YH37LNtmuqfk9h7fgl+j73eh3gXHZwrIGSIOrbDyRuNbjct1FHzuvNAdX6aqrB1nlN1U/75/5Qd59MM518bGM8GYcgrQE8dUyrPeYlE/XxRAAQ8doPoEJEeOyTc/fFqPaMSqPspP8G4pBkkne5bbvqtW8VIU7gV2KlkrIf2e4xZUPDe+HctuN4glZ1g6re/povdfrW3vyYul5pFwPsWfeaS3gDB5zM0/PS5qDTw7IAOetBRVzmqAk5Boqn0lt06cVTZR7IcGQnf8qmfvSdjadxXKZxuc/gUoYnB2q0h4ztmkbZCVS/abceUPmgR64/aNR5R3XTxs3K+X35w+2F51/RJPMb9efbc88daBs38UuMBC3WFv1FWpcoykOXdaJLfthf00HYl758j40FIdv8oY72GJM8ENKv7NOsX9CGPMoz1Vkn0V30Z0DnXtNoP4GlhH3DVvgm0Efo1D0HbnPf3F5R+QA85p/5L0Az+jZgPb0+A58YH6e+vlqCaN299qkG1spbZR2kSVU/iTK2bT/HynVy/Kc/Y3Jf6VcdB5fhyXzoO/XzZayHMQ1+JaiUfcJMNvijGpjpKmWPO7KmxQ8sWregUuRG8Azt0eLykNQ8HOeqk/Tnqz9kAWMDiAvbdbyzwUIW2A+VZjrN7zbqmeBLntru1MM058i5/4bLMUOu9AwowAFy6p5Qo7ZVWWg1gTj4g0V6YneVBx9fTcfPBfAEnkt49LBVjwUl/dadT4Y3xG+tI8eXL3Nfzz4Y46CNB7PbU898H8AUHwnAX2XUAoNK59sW+XDgxZfagw8+Et+qHzu980vt2NGTbfWMzp6bCLDoR4/OnppfbRgEdoLYYoyZGBYGi6d+bddwT0g6CbzIRhCOQJdzA+AJvsFn99v+x0OPkmZ8UacrLFg44R/nHB8oe+FYPjgHHTXVdsv0ZWD+iipbYbplXHeqMA++G7bTyxHQKl9tg+7+11TpfZDsAyj6HVxNh9bXkw8a+mjPOg/vkjbqqj7Yj1oPWtDVBx5gCtwb9/pldxhLl1yLEo54P1lEianv1Ek5jsh4TEwD41ipHJSE6QDeuib1X9CBecixm0qYW/JkpS9eN5QJnDTkO8qpP/QKnIS4hQF/1tf6nGXoee9/lHVfxlTbsG3afBp9mHuR3vmscRj8HtVYTJwm03pA1WH4rMfZlvc++WZ4CbUjR460EydPt60KoGzT0RcTDfsgj37reumll4OHTyT5dRts21fbrf4A+wvI0eEBqsk8hulziCr3Uje1Fw+80p55+vl26aWXxaJJHza2F194IfTHJbWC5LatO9quXbvb3kv2tV07d7XNCq75kCM/usqOmpNCqJd+9wWQUY66Upy19RcHSEk9oj9Ks3FJYqT8iea1QM3MloCOmJMCj4nbyIHlLAto62nGFH9f7tOF6HXcqp81GT3d8sBlJ+sEta3CPOTo8xojOYA6KPbJbU4EWT5Bl5+4I+iu3RHXshObivi+hXhHeV4nx1HaI/BzHHpnnMdvXn3keHpM8L0e37RF0roduhv1We4kIIMsqUZb6JKmNDdGTuaRotDJyYTbMPSVdmh1/KGFzkKn7GS47r70gG49hmlTCcjW/AKxM8A06tVJJ+TcblimwvzJNnRUQYYdF+82Hj9+bHZZHrY0ufbLusnZyrOglpYIPnzpCGe68UmrU0Wtuw81hS+DrV6W9opo1z/oBEveCHj+uRc0savRn00ajpUzp7W7O9uefuapOAhix6jFxnuuJ06cbC+/9Eq820l/0UEQpcziYHHv2rVHJxIeQKWd6mekWFQK1IwfvgeNTYXK5H0SffblERPJ/a99r+Nh+8YUP6BeEzwVVYd1mgZ/T6uoaxL0fK5PpUWgzb5WXvtObvS6LtTuek836tgC67Jtn4hFGVJeJeQl/3hbgLptMEbQCJS81RKvn53g2DoeiS/fyfvB+Yraivh4DY6cAOcd8NSbFyTbjLpsxZso5EMb9rMtE/U6b+4jNJAPkafH0ZfqeVsjf1oZOvzmIVmUsvUa0C4G2LEPtQxqeRHmV/mA6qTrwAam0hR6eeCtPWckyiun87PoPFUPFFvBJDBwHmweFKCvH8xqo9Lsn1PVNSVj1HJFTJR2z7yW9Owzz7bnnn129lPM/H72li3cl23tuWeeHO7tbokviubHxv7jL/9y+3f//t+3j3zkI/HrhvwaKMHzmWeeaZ/61KfaF77whVjk/qDAlE9RH3J/hNNthvsJLNOnHv14ANdpc+7kMXTbIiyyB6ZkzV+T6c77NlBpUwdvnfc+ActULNJVYXoP85FX2y4j51RtuE5e5ZLulO2U56AqdMM6gP2xvFOu2wyW3qm6XpPp3vU6yPa8lYeAan8ItvE0fdj9Qu/TODZI5NyYzjHBseL+pP/zQdT5ouQxIHeq9SmYXvXgmxFP4ekouY3UhMNWAqoiy4C8N8clNR1kEJChPB6YszzktBWXbr5ZiYHhp2E5S0pJnIFycvP3VGyH+lp/5+26c7ZlUO9TD9Ocu99Vhi8LYQ7xhd9k+ra3f2t7zw98f7v6qv3t4CsHlF/e3viG29ttt72mLW/Oz/YfP3a8PfzYw+3mW29pP/Sj74tfFP3SF77YLrvsMu1Un24f+tCH4jtOCaAf+9jHon+MCejHPvrtOmnwawrVf+D59JzWNGJ+HCtsq9p0DqwHH0kVXvgAvuqDaVOo7T1/rRtT9Oov9H5NA/MsShVT9N5mb8P8Xr+0s4GItHH+PrblPI6WGY8pr/n8MEnlkyUlAO/8sWf7TtWflE1gv7Y5seZJNXCaztWWE5sAf3gjd718hBkZ5DOI5m439VgXCZtcqXHZThl9BlemHpvs1vy81LEDrtek/+K3xDiKzqtKotwn6LpEizRHhzbcT0UyVrUHC8wMCdAZIHLXXe7htsqTenIykpR2KLNg+O5PvpCVgeMSlzwWHk4GxgXgiUIOGmVybEwdECDtpjx5XRCmW97JdKOOBYh3yfgWF6Vdu3e1G2+8oe2//NJ2/uwZnQyOtOuuv7bdeutN7eab+E1wvm7vVDwUe8c7v6O97e63tTvf9KZ24003xovBz2r3+md/+mftyiuvbD/5Uz/ZfuD7v789/vDj8ZE17E75Un11gj6V1kNtr2MBqPe2L4QqW3ExvvSoOmrZui6UKnp6rxt6HUPTgdvcbtBeEzBPT6801yuNNekPa9RUUW27bL8A/Ozw0BP3NofEDq3XxT13jiHL8xzBOqfs21+j8kzx9bw+3laVoq/DMZiBc7xVQIqPMCvo4js7WAIv/ARR2nMXm1/Q7GcqtY+23fu1Huxz5avygDZokeQDrebfWBWYaCBAB6ywKmbnJ/FIvvm8CNZr+VxsOXkMEoO1WbvOeF9S9kjms4x3pQ5+XgCmjX5ia/QtU4J7rqTctZIIxnylFxON3eAK2rx8pmEUJJd9wRx9O71ysvFrhHz9187tW+XrubZ5mYWaD5rg3bF9R9vKa1oE4NVzbeumLe3IocPtzKnT7dvf/va2Z+eudsXl+3XyaHG25rtfN55XH2UD6/EwSHl8t6ps+v7lonkjeUxc9lhFijZGSzuZ4Wu+5vVkP6f0T9EqsGfYfk32hbLh8oV0g9punUbts9HzOzevbfZ2p2jmr5jiAZVO2WuWBMwHaK9JFCX4Rl4nr3d4vIalXWsC3WNwzE+/jfZy3LPfXgeYiW+XnwWknBtS71Mk8Sib1adguv1FV3z4QHBb+hHalHzMsbHiOM+n7YAAS/umTfnzPfhsnf0lvNMUZm1KYXUd/0Gvx2MacqpbNi7h+1QdgbEKG+nLtNM93XLU88zhgJUDsry8ue3YuV2MojGpEmPg8AVZcsBDJF53IleD9GXH4OltGrZdfc+z1lCRsfxsPO1O6esU0laOEyDnm5V4MNRiZ8pN+RUFKG7G58/aLiv40ycekj311FPtiaeeaHv37YlFhf9XXnFlO6nLFsaCX3I8O5xl47JO7Ub0gT5Kzvan+gyged7Q410HOkL30DaFUWfyTulfhPCxg232ba7X9pr6toq+blR+87g/HjPorpMom9c5MI/lgfVah1OlGaaBSgduc7Ke3idSnbeaPH+Ww4TTiKzADzj+XHYuyZkQQdj6Q2fpP0kN4kq59WAd+EgafRx1UUdX8rE++eRezhHHAu1+oMSJgHKvyycIeLI++lbLII7zYTzsg+GydViW3H2Y2Rn4SLEDNaPhxkUpQQfobBqsbdQrDTId5r4eOdt5DugzZ7RYtPvZs3eP6ufa8ROvSlj6hrMhLqWNrKNr/6WXtc06S63q0niJ7RlnKw06Ew+fbUWHVSdlUJYfovP+I4OOcgZU3Ygvi43dHn+x65P/mI127nNsaJukb5PO9vnlIHzCiD5qItX/+E7Qs6fbzn072vJ2+aYgqm2musIXL8u2fNy2ZXM7efxY++M//ETbu2tP+8H3/KB2rSfivm+MiYImC4Q+xlk2xlX2h/GdH0+PefaVToQvshP3luMejedHSTmjU5PURt9yvKmkLstXe7afCyh3C7y/yoLPcpVPfjBVrrqg+UAxj1PlmUqg6gPws66MygvMC63KgVgvgz38oc00yu6b23sd1IFpJPNXvgpotlFT8qIP+fGKyzqtq/pBuwqxHuMpOPLBj+/woJv1lXbjpKr5ixMplsTDhhA5vgBcEmLU6hW/VAQ9bjUEOVZQ2Af2a84XHcMhBx1e5fbXMj6pA9YuawE6gA9+eHhP/OxZfnRyc+id9U3rtH6RC22G/QHWSZewx/Es0VnK4zx5geWA/bC+SAMv5XgP9BtJFXmAj06DnjfLOJ6fCwexC1XHV1fO6hKWwKrLd43NmdVTwY/DEeRCNwsnxKLz23ZsJ+qnVSZ0SB58Jhd79gFZvnOUlQA9/8M+CjQZ8OUUq0mJgKxmL8j85BBBKDxp56WHbx6nP7Rv06X5jp172uatW9veyy5ru/fubfv3X6ldNe90ik/92LlTPNu3t09+8pON3w9/xzveGQ/NDh06FD7626VWFURJ1DHIb+64H0ZfN5JGW072XHmoj4ks9fgAHZHlbMvkBThbiAHahlKR7/n7ZLhcbZBcd6o8dSGvWdRDMvr6lH3muNJA5evbjKrXsL0+GQ4UxhQPfaonFMzT7uPGPpNMN+8M4mHJhu+UxZdXXF3/ZZYUuzICAuwR9NKn+Pb34RgwrNck+Egg6fPz52OLv17GY+86oE5/SLQTPLOP+XHj2RhiawiWscb5kw7krI+yx8c0kljHsmC/a+oBr9uiPNBBXMIDK3XqYdrIQy0HoaaKKXoOnNqUx01jXboub1ouL5HnlwegP23Kaf2/qkvho8eOt41s6ZX4kmHmnTaGcFWBYFWXzQ5+dJOe0cbL7Hz2O4Ar2l4ipzgYT9XOawcG5Zzo0hp5rC7Ro41bC2qhLW6GayVt3rylPfnkM+0jH/7D9qUv3afLde2oVze2j33sj9vHP/7J9vxzB2VqS9u8abt4t7VPfOKT7dXDx9pP//T/od1199vakSOvqn+5K2eiuTVxSMGVWwHbt2+NMfKZbn5cw/MhjTDPPG+Chb8wFTX9XHnxAehZHw/YXDvjHFdZYFly2shrAtB9MNXUwzoW8bhefa6wTG/fQC77M6wftVdd1k99diALVa/lQdVvWeeGZY1FMh4f112Gv6ezueCkTVvVJ+5ZnZz17m8Vi0CnFEtesqkrWKOcAVj9HtpA1Q2t7iZBtKMzdGUf3G4agC9sDzTrdZ998uDqDNBOH12GXZJRh7fqmtLneoW0xB+AB1S+NXoUM6w/LuGjMBgApk0BRVaW9w3Xh/WwuGyDMjkv8Z5RYOQ9Sb4cRApnvPo/yhV8jHOTAs6WbcshFx/55IzJzCu8EVQJtARFAjQpv1QDHrEQEOEdgiOBNDaSS2qkjUFUnfzM+TNaXLIhvdQjgCpIh16dOJY3b20HXjrY/uzPvtSeeerFdm5VC+j81vbQg0+2T3/6zxT8+Ib9Herz5vZHn/iT9pEPfTTeG/3iF7/Yfvnf/cd2zz33tFtvvTXui37iE5+I+mc+/dn2mtfcol0tn6kfD+aKHH/aWChJuxh4TjMljeGuC8Uwn2EefKJc2+s9tSm4HxXZh0yLUNt73t4/lysf41bXNH7Yf6fqm+u13anHem32baqtwr45GbWOP5QJTq5Xn93Hvq8A+/BO0Z04fog9sfNUm3VbH4A23xfK832zPmB71oFp6unDfH/7HFv0lU0FNAfPVV2Vocu3uNaDfam6XV4k6x5h32MArMvl2VgUPRFA3emaxgFwndcdGFScSYfSbCpfD9bhMsAZHhQxSDwUigdDQtgNnvQhaLLLz1YcP3G8bdHlLUldk10GmACnwKYgyA//+5UQ7gPZP544ozFqwwDwxDw+zqhqxF8xsIy0lgLo4Ae0pC3r0QqzyhF8N8RHMy+//Mq2e/cluuzmc/yb2+6de9uVV17drrzqKvm8sa2s8mmPk+0td7+53fzam9qzLzzVHn/yUZ0MXmpXXLG/3Xbba9vDjzzUPvPZT2uhnNHl/XeEPd5MSGCfycvLkawzfpmDOrlOdSH8ZeG5AtW2kfNKW/pAqvC8k/q2HuivfegBrbavx2+bXsNGzwesx6h161kP1rke35Sf5rc9t5lvUb3KmQZqueJC/quHweNxqvawkeL8l3owk6ZMyx2qHwpTJ0446egNWspN+wiwBeCxz+QEVGj4V08k5htYA9Rtg3wq2Q6A0x6lrlFZLVeEHudKS+949zs+YGYIa4Gj5DkQTjZoRU5Thul8dZyIxdfXHTl8ot137/3t8v2Xtjted1s7efp46oBFg48c9dzltHhvcueOnfGppXPaHfI7SuzGmLz4SGdMWAZc6Mhwk5wXcKNC15VFwBwANfLBf0171PNyhVsBjAtC9gctUNX3Dfwg3vl27BhfCL1VJ4TT7czKyXbHHbe3S/ftEg9P41fatdde2e54/Wvba2+7Vek17dbbX9Muv3Q/ZtruPbvi6/n27t3T7rzzjW3//isiePrsm+PqsRsdz2H2gpked2PtPCUNkbVyaSP1mm/kGQ+MROrOnZJl6sHoco9Kr7JGtWmY5nXRw3pqDsxLfZE/hnnrJan11LzqNB30ZR/srjt3chuo7cD24SFBN23ueOpQ+XqdoNL6sm319sQR/+dDw6TnWhj1wpN101zO+bJOQBmM+sWpNveLdtpI7DyfeOKJ+OTe1VdfPXu5vpo2f1gL37KR3Mn1LJQ0YIp3xj8g770q2X93zBO9NjFg6WBdDMDl3gioNPiosxWnzOLkUpyX6Pl9n00KfhW2MNqSH7K9cuqEXD+r4HY+norHwyFdKvNb8zzcObvKz7BuijGZHQBSwRTxwIs8nrDP/cVwzFL8bKsQu16eUkZIDQ1qpJyc3KvkI5yXXX5pO65+yMHgx+ZNN93QzpzNF4UZBs7M8arTmVOxM+bLRLbrMp0dNX7eccfr21ve8tZ2zTXXDi8Se/fs/ic8oZ7EkSPrcW8mTjaZjDpnyZu0efpaVD217FsIWWbBknKxw4Ne1kpNlgW9zj5ZT5/QS25Z4H44VRrj6BNR1eM0hQvx2EZt720D92EK5q9y8FK2XsuSe2yBj0HTKq9R62gn+T5nRZWlzXMF0J2y9i8ywRorbb6/6Kq2zFft9XCb+0mssC+g6gaLdEHDZ/jME7RSHw6BObjv1l/971HFw1uYnYxUxsBw6Z5b5ynMnCowzXR0ESio20nKhw4ejIDhz37nazHpB3V4mazkb+3Vw4fbqZMn4qX7zRs3xzfO8DrNpiW+G3RL27q8Q5f3W0WXD6ITYHN3pKAteYKiplnJf/Ix6tz65FUllfGbS5EwDQ1b2t1KXwRp+RQPmSSULyrDdlY+SE62du3cqfLG3CXL9/y543NtVX3ga8bOriqYnuZjbFyi50HOjpPEK03jGGXfMyU8pt5B42ZwqF+ZtFDMo1QXNUg6vR1pno8e1kGiPecCOv+H1dCV85W0nKdRt2EdF0K1Z13WZ5rR89QEat1ylPv+1nKVAcxNbTdMI3eqcsCBoKLyIOMxBVUXqHw12X/rqqliJiMyaQrW5TTO8WBbGacfgi/IYzTXFPw9eh+AaZbrbVCn7PEyH/HCfvFx7506rnhzxSdEaRjy1GXd+OyThX10OeqIYZtU2oD1uO4czPggDXxg7SwPMANZpnGi3EnzVFSjlZ/OMSjkBL5NKh8+ciQ+tugvR57GYFeev3DgRW3f+f345bZ6lifh23VJv0/5DgW+rQrG59rTzxxoTzz+nAIXotx0RpKJwjfKGuiZjwzWkEeGD0xEPvVfVeG0fN0oe8uy1Zr0qT36rX9Lm/k2JcZgVbvJwwqCx9vtujzfyNP8swRIdHEyYFeMbm4z8NQ9bzt40XjMGJt8lzPrnrTJhMfDvFTQZpg3AV/yel7ATF/hdXvPY2SZdsvh+1hGjpNhpjGIWw8pFjvMHaZ4SKlz1AUoTyX4nEyb0kkCzit6HnQYlb4ej233sA+0VR8pA8uQw+dAbl6Qa2U+WSegjFfSHHXobgPRrlTlbL/SY0MR1FEH9FoH0EwHPd31KRkn0wC+uL98mxSX7wTR/GQSsN5RZ012ep4GcWgYUNtr6jHzkX+Dj2DuKfzaRABg8jhrZJrj1w7Ek2eZ3riNQffZw58oiE/cyAYPkMjjhXcBDej0PZZICkInFTx37NrTtm7bLSZ2rdvamZUN7aWXXm2PPPJc+9I9X2t/+F8+0/78C/dGUCXo8QrR0qZlRTsFMc5q0hWvNFGWD9RlKZNcPaucdF7B9Ix2i4898VR75tkXZZt7rtrlbt2hHfByXIpv2ryxXXLJ3rZ962adJQ8q6J5sV1x5Sdu8ZYNkV2LcCLIEz3MK+OfPya70ZjDNhej+jWdWaOOCmgIttLO4GUcDGuMG0Om5gY4vtW7MxndInFPrbRsSdOxU/amPd29pT5k8H2MXjtRne9Zhf6tuUHOXK4+T+2CYh2S65UFtI6fNfliny+avOXSXQd8Hy7vuMvOJTduwDvtRdRrWRdsif51bJ3wOsKZDC9vSKUszvoqq07oA5Qro8LkMpnjcBqzT+oHtQ/NmCZna7jpl+kQZ3qrHtqgnbfQdvlkbPhNT1P9Z0pplPCrgt22XgW2aTp2ETlRACz47ZljA5UXt0UkdQFMwDwlYB4NB8IzFNXTGu08+/00QdXDtoavfCKIEtRMnz7RDR463r97/cPvIx/6offwPP9Xu//qj7diJM23P3v1t36VXKQAuK21WkNSuUZf7PCXfqMv8TQqq27bvbhsVBCMgbtupgKdAq8C4QTvNpc1b25atO0Xfo0Hf3L724OPtjz/z+fbl+77eXjrIF5/Qh21xq4Cz4Y4dW9tll+1VX1farbfe2DYv02/ufWoBqBsxVvGyOpOkFJOVKb78dlj8niCSxyAWQhl/1+Ol4ghaOcaVBzmPO2UvQGSM8El+kKzTCdSyddXcyag063WqNMug2/0DpgPrAbXdOqB5HfUHF6i8tml9AF7TKZMs43ZgOcv29Auh57M88BxVP52gwwtPpYFeJzDNqfIDl0fr03qqf0avB934xdjDz9olgSpv/YtsoAdUGcpVxmOE/tXyGpPnnLY6PrW8KC3Cen4AytUOOXykpXd+dz6F75MV4CzJUFMkqY0Er9stU/UA6O404On5zl272333fq2dOHG6vf6b7lBdu8kz+QubXGJLa9hBjp0ju8P77n9Al/3H231feaA9+NDj7dWjJxXEl9rWHXvasgLgxiW+pHi5rZw901586UA78NJL8dVxR199VZcBJ9vBQ68qKG7UTvFcO6p6/pzGRl36n45bApsUPFdWzkYQ3aCgu6od44MPP6GydOrK4fnnXmzHjvLzIzvbzh274jbE7h27pfdwe/yxR9vbv/Wt2p1q8M+pH22l8aUfuUNz0tjQf9ncyE1ZoY4Vk5McHv8cL48buccUnuTUjl5+qLHxqan8QpZc1DF2wc/8MP6jLsO2QbWj/6NsHaRq33MO6pVC1p3n+AJOGOvBMoDy6Hv6U22Tm2Z6lbFv5CTG1WWADLA+MEUD1t3TwRS91vt2153wx2XbNyqNcs3d59qnRUCCVPksD8h7/UZc4UgaWWQsR55rdRzjqseYqpMsux6qTX61gsB5ySWXRBAloBqY8BpDN/wVptk2aQqmm9/lCmqMB/mM/+f/+/+brmLnGUFV4nZ33HV48tJtpAGXKx8D4t0W36m5d+++9ov//tfbkUPH2/t//H1t/xV7tbPMT+ewS+PH2iQZ8kubN2lnt6X98q/+53btNTdE0P3aAw9L53K7fP/Vbat2lLIWgZan4adOnWgHDjzXNm1gl3eyrRw73JZ411S7TT5FxBd88NrQnj27Zf9gO3nqlMp7Ffw2x9sB589tkL1tCsrb2ssHj8RL87wmxVP+puB8+uTRtnvXlvbGN93RXv/6b2pf/OKX26c+9SftZ372p9sp9eHceQJoPpWPV6gCmkTGSl3Kb4UaL9sZJ8bHBzrIIJgLyJgf4wyIwLLwwnOOT2QN9ARy8wvXuuChnHM5HiQ59mOdvM7/qJt6PiA0Hxj1UKZflMZ24HZQZcEoO/oFKt2A5jTFywFHufYVuJ26+1b79ZeB5auNOm5GLYM6f0YvS4LHfOat/vc8fX+gA8u7btS65atOpyndlc914DpBEFRfa7/r2LkNGq8v8knF6667rgRQ/Idv1GPZRX2ufVkE6yInAfMHrROdvQdaBS6EeT4GLAeBMk3Z7MFOx3GKAUSW4ED5S39xr4Zhqb3pzjfqUn45vhbOzvsSNcpLG7UzPNMeuP9r7bWvfW27Q0Hr+huu16X49vbsC8+3I68eyY+Cyu65c2fazt3b25vvfFO7/LJL2o03Xh+8+y69RJflO+Kz69u3bddELMUDLL4IRD2PV6oOvPiyznZH2wsvaPf64oG2QZf5y5u3yX8FVfmp0N82aKd6doUvfT3RHnr44fCJe6K33HJDu/QSgnA++edXO5cU4DkR8OUn7BJ5JxW7vgzxJQnwmJLnWM4fOAblfC+WlAvCYwaQdXuOX0ipDM3y464BP9USt08M6Mk7EISkjbJVB/orT9LGhQdG3nk+6BWec0C/rMP8tewEj+VI5qk2AXXz2W5fB5arsubry4A66O1R7nnN476RKAPzWQZe8wBolae2kbvdPOS1X0ZPNz/oyyT7B0yzPG2kKmdAs49Vxj67f6DKm5+c44PvjODTSfv27Qs69pBFBB5SHcOqy+VKt02j8gO3z2RJkJR63g3/+J/9/NwOtA4WoM3t1Uk7XgE977X17eOCjM5v2qAgtqP90i/+etuyeWd734+8N+4dnjh1VDzD/UAFLHaKyCxv4an7ufbRj3y83X777e3Gm29pK6fPase60o6eOBWB7/4Hvt5e0UDzLfFXXXVle8c7vp1HN7J3pp1bXYkHVrKs+vnh3VNNpvw7qwBKQD/FT4vwrUzaNS5tXlZ9tR2T7qeeer6dke3lZZ70L7Xjh19tLz3/rMbypHbN+9prbr2p3XLTjW1Jfdq0xAhzXyhf9I3AK1K+HqUDRn/qTtBIDp7jgshFxrh5BwqtBzzAu3/LZ5mTU5a5R4uu3K2Kdzh9aiZSb/gx6Jd/de6Zh8xH+3W+M3gnzTroj31JevLjk4O6QZlkPstU2B/zGvD1dQB/peOP9dcxGscv2yxje243zAfgrTKmgypnnp639rPPez/w31dttCFrnYtkqi3KdQxMRw+pylSeHr0N99MytDuZXmGe6n+F260fwAudTcbD2qjwBP6WW24J+upwRSFJ8aQMvJaxH4btQXebaWCK37yyoI6LZ2gzLDO7B1qNVOg4ES1KUQeVh3Kf0FUdBD64WBDLW/i5ig3ti392T/wc8B3f9Drxsy3nyVvq9BP+KMuHE8eP6/L4eOzy+P7Qs2f4cbnW9uzaKR072mWX7Wv79u5sL7/yoq7ZVtptr71ZI6EAAp+CQbybKbsbls7FU3PS8vLGtn37lrZN5d270LFXAXh3fHPS5ZdfLnsn29NPPtkOHTzUVk6d1G50qe3R7vb2193U3nb3G9rrXndDu/a6K7R75redjslnBT3ZVCjiTkL0MX5iVkGbfvOg7NyqAuwwDoyRx4QyOXUWCAsjXw3KwFbTOLbjmBtZZ4HnwcOtBz6oMJdiF5xfYA0vfAS45B8f0JCzKGvK+cjcdtOdCy9g4LYqD0Zd4+IFfW7AZ720YbsvA+q9bIXbqo8VVZ68988wrfpkH81by8AyLq+H2l59cAKVx4BW7Zo/anKVnJpYAm6v8Hyjh/UHKAPodeyNRX116uXJK6rOAwcOxE+eX3rppXM+RAcE6yTZbtVP6ssVlTYnRz4kYHnzwxsB1CwWTsAoGi+NA+0y5tsXA77kHXSoGMZ00DIwpOPHT7V7/vye+Oq3173+9rZyhq/vzy8ICV7xkKf8+Xb40EHRziuA7YmXgHiCrRYFpVPKzmlw9yroXdr27tmpILun7d29M4Os5Pft2922KHgSAIktq3zkUvb4RNOWZX5jfosCywYF6aPtpIK0ol44/cgjD7Xnn3u2XXXl5e3W19zcrrvu6nb99Ve2m2++ul126Q7tOvk1Tp4S8imjE9rfqqPSGd8SzkCIwrjx0x6MMK9pxcv8ClwGfXNQdAAl97ui7N769pTJb62qwTfboY+/ppg6JKNEnuW0SXD3jA5rIuAFwhomwHrOkpYBN79t3wGXH/vKgItsDcC0wWsddRGaRqrj4HYDmnPLJU+Q5/hpw7Z1UQa0W480xf/WA8a2eVi35UlVDlSeWgfwu4xPbjO9t2te56CWzW9Z1yvd/Phpm5RnoF6OeUrx8rn+qryBDo+rbVKvOqvclC99GZ11PAzLeg4BD4L37NkTD5H8RevSEm2IIm+/kjbqq/r7slHLc0CdUrQOV1Dmnfn5jnd/2wfy0o4FF7RAZWS4UVMdrA73SDrTMQRfBeHQpv/ym9A3t1deOhKX3ddef3279TZdkp85GV9HtwFeotygmjnC3uEjhyNg7NixS0FQC2Noj3dHI8gTdDe0fXt2tV07titI5DuK0L/ylXvbpz/96fbVr94f3w6/eyfviC7H+6cvvPhiu/+rX9WknNel/1XxSaf8hBETfLZdvv8SXaJf36659goFb367XZcQK8fasaOH1L4au7gIUnG7gXHKFB+p5I/goQAa90XZ5RFklFewEGOc1U8Wjhcm/JShez5cZnTD7jAP8RMdJNcjmGYfMk+e+IAAgXXY2UaQVT8ccE1Dzj8Axqep8isG0c0BNdjWsFOXqpyvIdlv+OHNyywOuvG1I/rpvrpPBFzudTkAQ6M9A3F+iXUGY+Ry9zwmxlgssoNdYL3UyX3ghc/6z3wuw2NY1mkRT093udZBzgH2k+byFKZkrdP6GZcK0yyrkv4X77DWUpf7PORqCgvBMt83kOuZd1rzoSTta3nm6/aP1Ptd6yRA7r7AU+Vd5nPw3P+84gq+J4I3dVKPbwvB18M6DOuqZadefiZHNhTNQZUyOW8pLH3Hd3/7B5KYLHIrcihhgL9BIYaqcRt23XwzDIGZxDclBfd5fqJ0R3vxxZfbQ4881m68+cZ20y3Xt1OnjysYnIkdWvgzREgGCTsvKtBt0A52+3ZeV1IQgkf0WIj4IQJBjAHO+cjdB785/9GPfjQOwB3bdrSHvv6QAuGudutrb21f+9rX2yc/9WlN0ONKT7XNy8vtmmuuiQXDN2Dv2rldk3aZDmrO5Pxu+6l2VonXregTT+05kB1c+L16LzoWBbScZPmpSfdOrI4TdS8g8gwUjOk4zm6n7DFXJcbB+jip+MX6mqwjBkzJ8jN6zPygU2A8c1zH5J1wynJgZIB2OnOGPAMEY3FGVwfsgvl4qr9xy4seHVnPtUSZNxXwgXb7nLYSpo2B2fUMoowZdG5NuMzcU4YvA3XmfI8ru2I/zKPdabSTueFyrDXB/AA/PWbAPIBy5bVe141apwyf4TK5bbhsXaa7LoIOvaTzawPZ7gSfksZD/6U8tMFO1SVL2T7MXdKSx3zA/QLk9tn9dxlUPX2OTstYJ/mjjz4an0S66qortF7y9hYmqlz1AVCu7RXU3U6q7X0daLnl6EmdLZDH8SYVUdWSi+DVw07UhWEDOG3HzVeBVu8O+K5OaRlk8sfkuMe4WYs4d3HawclNVPtg8sLnIDt06Eh8ExMHxeqwja922X3BRx0b+Gg/3/zmN7cf/dEfbT/53/zVsPnSSy+Hnq/c95V29Oir7fu//weke3v7rHapeWmaN6rjN7P5XSPl7GhZc1KtdmxwicHZ2YPN2OVYDi7JfgaecezGMbKf/fjZ71rvF1+2jTIjLUHZuhclyzDGjP+idso18Kdv40HjelxlxELLWwgETnLa8ZUu5G42v3Wf4Mq36kTSGJOzJni7gUQZGnyxVpTQmWn8bXLri0AsI1MpfcBfB55xjOg/a8E737oDdlul1zJ5pAjI2cb3OpBX/SSPF7np1IHp5PhHoo4e85vXgGfsW8KygViOebIzDR1OzAmo8mPbPFjrUz70sK5qjzJ+ug6gmV5z4PFynfGlnvPu9z/X+m891YZR/Ybe94O60yQgD03nCwsWNnKQp63k4gCosGMGRkyrTq6F9Cl058BrB6dAgxpkWOynTuVBQ9DmhXMCIN7lZXed5Fz0vMrAgeLBdXLHXcYefPhH4pve3/72t7d9l1zSnn3uGZk41/Zfsb+98PwLcVDedddd7V3vele788472+rpM/E6E0j7edC7r6NP9g8fxrGBx7nHDD4n00dda2G53F0lD7kPJC9k6+sT8rYxBcav6ulh3b0ty1nGPBzkfO8pZE4sJHZ3XvijLvdn2q8p/11nvZD63xKvQZj1xO+JE3zr75GPgZYvbTkTn6t2gHZ71elkm9UXY+xTJj4YMgumQyKQkjwOwaec5GDrZLrHFlgm+3Mi7Jtm9D5ZHmq0jOoC5s8ri/kTTNXVY6a3s+ccuseq6sNX+0VyfQqWIVWgj/kAtnWxWMRrO/a1gnr1ORInX3wvY89Ryu0zBdDxQAQIOCfVNgbAE2i624xaD13n8izIAeRYwwEWgUqsLIq8BEZ2Xm9OCvo2tFdffTUOFFD96v1kUAB6AS688sor7XOf/kz74G//b/Ga0xve8Ib2yMMPx6XjjTfe2A4fPpwHjHaLHHzo84JGHzn99iIxbN+2sz70W/B4WR6qfSQHtV5TBfLWaQTN+l0vfFN6jKpryjYJuhN1gJzbDeyDlEk6NAcG89u3fOWJMuOSCX4HHfI+uIx1l8kz6IxpCGbKa//SrzEIG9A40ZI4QGswdqq0GoxdJ03xoq+OH8ljgI8kl/Hd/lJ3X8HJk6fawYOH4t1kbpHAC08dT0DucU574zz2SNpItw5Q+VOetZ781N2PHpVW9dlH99dI3Wv1AGx4nigzP4xt7TuoOqybvKeBaqvSQdVT+Xqwr8u9nWygAzVK8kj/q6EqAq7bYK8cujtUUwUTQFCCnrxMCN+itKyFcVBmzzV+aY9B4kBKmdQNH3JpZykWJq8yMJAeYNrsB4uuL2OPweejYA/c/0B74Znn42Y0QZTL+NPatfAgCd3AsuQV6AL1QHBfKbuetKw7zaGvC6PcCOTynuMYrEHlDf0DDW/jt+LlN2mN3YLR1rTdqQRfHpiZzGs65Tpm1I1aVm2Wcr4z38B3uA585E49oGUfOcGNwSYDqA+weR1ORq3XvOpwudKAx4s+O/g61eBKqsG1JuicpCl7t+vEusYGOTvqgwcP6+R+JMqDaWEMnva/AvlMbsvcvgPkchzn10rVmfyZrNMwH2mKDs3rhNw8lZdyn4DnFDmSx3/KXg+3wWdU/tru5HrN4aty+csVqs/oQ1xUii8TWSQIXCd3p4DlSLTVOrCukNHZk0Hg5j1PrnnQc+r0qfhSYX6xMlwa7KiUh1gcWKkLsKgYTODJt9186MPlfdKwCT88BN39+/e3973/R9q7f+Dd7WsPfK098MADbRO/BDrsaDCIDIHaP24H0I0OQHs9mAB1eOxH+jsM7oDovxI85kNH5QGjfCL5147nCJWpK/lJ/BSsl2Qdmain3p6PZB/JSZYD1X9o9K/WGXuCiulOuFzrY2KcxvVlnbbpVNt7Wt8G0G3/mat6MDongSpjPifzkUzreUiVr0+0A+x4fEiUaz0D8el4+HnkyOHZFRHy+aAu11D112m+HlXl8/3MfGgUahtwvaf1eW0Hddydg/X0gKqL3PMIPKaeV3Eoj6YZql2wqNzbrLAOJ9p7HmPwdNYes+pKr4Cy4bpp5GPHpkEbE8jT6dUzyZuLTYFQsgQr7lHy+pG/yi70SuXg0mxAubSrPpAS3BtioPN1C8uxwOFhQfKzybt372pvu/vutn3r9vbySy9x5ogX29khb5MfvN6zcXMeCCxkZD2Bo61xrMjd5kXN/Vt2jdCqzKxeaBXI2tYI6kwPtJSzzUj6y6eAWbe8U68v7avOE+ymYLIxH37Ue3Tmt7+kXmevlzqAZn5olMk5Qbnud3ynEiptx/qQq8ntlQ9U2jw/djkAcx1hB7ox8s3Lwud1ZzlgHnKjylmP4brbGWenXgaaZbFHUGXtUjZ/ujHat1/ko4+2O++nYd7av0WwTsN1y1sXSJtpj9z9q32Et/I4Aes0zfXaluVMg1jAOoBlnUwzT22rCcwu07O6BmhQb3TMaT0NKX7SA8wpkjF3vNYrDV53CprlrQNAd7I87XwJ8dnVDGx5mX06Pu+e+r1QcoFbNwciDwBYWNZDwgcn0xgBLvO4XPrd3/3d2HFyD/WxRx+NV2zY+fLFBHxElG+7pu3JJ5+MF3Wxh67eb2A7xmh//ASVeUZfxnEIpgm4nVTlDKpVV6LnGcfCvFVXlsd+4TMggNZUD2RgndB8IFc7rlNmbsxbE+hpJGRdNqrPwG1JT3/8ytRavqyPc5bjCWzPyfXe9hQdUDet6nFye+VLn8cEKo/pyDO2Hl82GHzoxLANkDJRjDLjMJ9orHbztoAx+jffP2AZl2tuVB7Q96cHPnldgEV66V9cDQ6g7DryrE14rKdH9QNUPtPse+V1G6Ac4yySeadShbhxKncACKMEh70LA+Q4RN4bNJCh3Z20M+iuuwAWyalTJ9uKLuF36fI6fmFTB3MsD/rMQ6e4nPGgo7PFpT73TgG+0WZb1pv+pI+8ggSdSfjkJz7ZfukXf6l98Lc/2G655eZ21dVXt0suvUQyG9t/+fjH24c+9KH28ssvt2/5lm8JWfeLPpGA6fmWQDiqftFGX+ljTpjHCt+cTEfedVDb3Y+eJ2YzRmdM8UmnGNO0ad+qLTCvh5HJhcnv8T/99NPtoYcebo899liU+bQHl4v0g7FEh/WQV93Ywi10MRfUzQsYs+ARrMdzQV553WdgXmxZpgIxXhvL9ZoBx7Lwwp4/P4M845Hjkm1p13o5UeMntpzcb6/l2i/aqy3rqqi6SMA8U7qwR7n657HDlPkZY8aOZH61zvypumyHW2W13WNColz9sx0D/lFP+mXd5JYFtmG6+cnxu6LqtA3KrgPakSNBZzxcH/3ATsaU/Caw+fXqsQDQPJ9eL+Y1f7UdSSdoLoMrH8k8GdMGW+949zs/MMivgTtpZhsy3J7OZuCtMh6Y7HTK0gl+luOLf/bn8dnW2++4Q74ySHwJsXj0j89rc5lJFdnTCrY89LnsssvjY5foANjjILF+2/Vl9LZt29ttt93WbnvdbfEpoze+8Y3tzjffGfIsxh0Kys8+/3zwEjyvvPLKuGzCb9ugXPtf++I8/cgD0D4YlKFFUhl9wLK0m6diJrMgWQ67wHrxARptAN7ZPGjh5as8x2LH/aV7vqQg+mC8qEydtxEYF764AXGJSFc+8QYsYgdB+owtj4/b2CkA2ycP2/LJPlJ2HR3Ml3fE7pvH0jwcNLkzy2T9ANvVLn6Qs1MFHiOQVzjIjnNBDg96Ae3YJgGXTU/5EeYzzNPrAS67HUDDfuXjZHbo0OGg8aXjHCuMeR5jyIx9Mixf9Q0kYd6GfQPJN1+2b4wJ4+M6MO9oYxybqTQl69xy6KJc605f//rX4/jlFzm5qqR9bQp1M1tVD6AM3N4j6ErkyAR/6B3TDCpbi7SncTNNGZgT7sDgeiFu2rQs3jzTcd8T9emXF2ueDQ4fPhRBkU8X8MUgHDzuKJ7FRw61g8QudAaNH5TiQOZgQQf6nJP8JNO+IMv3grI75Kn7tdde2y6/4vKQQd+pk6ciYH7v935ve+c73xntyHB2gce67QPJtirqeE2NHYAeSeVFY9nLWsaY6Sj0RboAbdGPGFsFBj5Ooblmx6/GtiL6Vl0BXHft9e2mG29uO3fsbi8deLk9/xzvx67ESYx7pnwDFd++zyd44kyv7sfJTYkfyONeKgHLBxqgDK36h8/4A8YA56uWJa2Drcq5ZMv1w6ebUMeaIvcVCTJeA5bngaDHBNQy84Y/nsf8JEseXJXuua2yBrQ+VVRa7TPlPhnYxi5A1mNnGn2EjkztayJPLK7bd+swUp6TwnBsDYBuWfTXuvW4DuCpvhqW62VqPys/sC7zkFd+o9dRx8sy5kk/KGcQti/VtumL0OsEvidK2kiKWKmkNteX3vnd7/xAsieqUZj7ejUA6BQ8BE5SBqBc6P1AOae4Z+++dsONN8bZlcsNFjaBlIFCR3yZCH/SfezY0dg5EQiRJ1ACDjx0IYebPiAM6vByyYoeDnteH0E/o8DTa+zzKpNfI/FlX/anXwDpe/Y3D0DKTIztus19X0Mf2kxzoo0cWMa5UXUBjz2p6vRCCR+yFP/TRh+PHT/eDh4+GA/x3vLmb46fU2bXyYvo3HuDzkvrjBu70ldeORiyjBUHtl/HIQW0wnLexnn32FAPFvlO4HS5Lmb4nMLngTd1onsMgrwrCihDcxkgD2rd+vCDOuVsx/4YPCwDrAdUGdOdV5kK80+VAfKeL8M6oVPmfv+xY8ejzriz2QCpA5/n1xyotgzqtLuNsvlB32aYD7rH0O3mB9CYS/Oa1udVzxSqTsMy3oGyyfEOtMJ2AMevYT7a7QPo5Q0/kK28RtSgFTI8w0Ok0YHkUF0HRfwNxqeQbSzk/Hq68alhLngfRAYGOSCWl7fEpfUll12mA1KBK3abXHr5DMN/yY9OglvQBB9IDCw70tSfdcru+PyBy8TRKy7V2OESLPmuTF4b4X09JgU99IezKQcb8qZlHdnQUgJmRY5HBhPaXQezRTgsNsM8lQZfn8AUbwV0+o1/swAl2ZlN9GhueBrODo8gRUDyFzWwQAGXj3yF2OOPPx7fBs4C9oM42rhnSv3+++9vTz31VOxYYwegxC72maefbU88/mS868taoO8EXT5Nxr1mgoMfWOEX/XPgxW/3gXmPe7K8bhaf++eeq/rFJ9y496UTA3l8ZWB86m281YBe74LrfHkeuIfGkNi+Qdl12mLcLgDzVV29XOUhuY/w2yfz4X/2PQMtr+LRnrJjsLqY5OMApPwoS7miyrkOLFf5K69TxRRvr6OCsfB4ONH3/uFR1TOli3bnLoNKN3r5Wu/1U4q6UoSKoZ4hIQhJteG0M9IMK7UBOhaK1EkOCMMDsnXrtgiYI5DLF+j5OjnKXkDWhx4nLvFZTNz7rO3wZ6DDn3GwaKdsXyhnkxYmQTOCqAj6hyz2aUOOXK6E3rzUw9a4+6mXf06pYxinwQ8nMGujDm+h9ejlzFfzvgw/49fXyemTk+nxXaSxq+Pjh8sR2Ph2JmTZibNg2YE6UPIpLoIsOyDm4aGHHmr33HNPBFe+6JaHUNwO4fP0L7zwYvvTP/2z9qUv0f5E7Fy5GsEG91n/4i/+on31q18NWT6JRqDAJ4B/JPxg1/vcc8/Fgy0SfryogH7sqHZlR3k/8ki8YM4ndNglRxBVv7Lf3OfNl9prkKIPBFTqHidmLK9icszd5vEzKE+l9bAeHzacQM/jIGl/8D15c42SrNs6FoH2KT+qvJPhtirT10GV69sMy3lMK39tA1O63FYBH3Nr+05uc9mwvsprnp73ghB71RE/6QE9bCipi/EHp7qXxA44lPccxstYOxJKReOsiegLL76ghTAGWN7HvPTSy9qrR1+NA5KdBYFt27at7corr2iXalfKgjl+/ATaYhE9++wz7fLL98cBT912SPkQafSxnxQAHzR+zA2noi36gM/j5AJ8pczBZh22ZdgGiSCAT/BWPeSu22cpmfH1OqEBaMjUNlDrvVzl7+uRo1u0qCu9+upRBaKj8aXR115zTXyKiaDFrpLLxcs0B3wGmwdL7E756Cs0dqB8tRhz+6Y3vSnmCVsEXcbhmWeeCTlkeL8XXfx8yosHXlIAfWQ2VgRUfpMK+aHbyvE5/Y+d7zPPxSXso48+1h595NEoI8+uFj/xjbc5WFPcfuBEx5fM8Llx/GS3S59YY/iLjwRVjw05vuQbFFmvY+fxA5VOvgi1zWXnliVRRidwvYI6l6ocA7QznpzcUscoM14pQcuUM2w+UvpuuOw8daZfoJZBpdccuZos5/Yetb8ug16OHH3MDTnzy0mX5xVcIbG+ZsfTAPiAZalaH8Be5amY4ytl6D3vFOIe6IyPfFhQWQ1ClAF0K/bE0EG3AWgcGOwcPv77H4tXZS7bv1+XiPuDhx3LX/zFF9qX//yetu+SS0W/PL6hnm9F+txnP9++/BdfbkeOHmnXX39DLH4SB+bl0pHf2uRLEiYCP4baUHA+7+vQRqKstvCXpLp9Z6A5SOmTdyt5kI064CXBAy3OhAq6PMgwj2FeI+xncY4Oqixl2sl7ncB08/W81p00ClpAXGyoTH+OHHm1vfjigfjuUzFHUHr++edjR8l3A/DEl/aXX36p3XzzzXG7hQP6+eefi/uk119/XbvrrrfFrhQ6AZFxIGjxqa877rgjdGTQWtVu8lnJHY+fY3nNa14TwSC+4FrrJC/x6cd4z5oAij9bNm9V8NsRNC77scXO1QcRu2T6yImAK51DB19pj2p9sUt+RAH7Belgx71r187ZFYzXK3PtuWXHR04bPKbDk+05nh7nRejbqFvesuZZr41dO33jpMH48IOHnJAImPJi1oc8FpClP8NczwJo6vNtDfpU0ffFZcsZlO2j66DWa9lj5lRlgen4Y5+o1xy4jL6vfOUrcYvp+uuvj3ExnVSBjGnk3slXvmrDmNkfjs7IBzba1kvz90CjqIaQpvOZrA0B4EGh6kvgUDY46gE7qsutZ3T5tWPH+Bl2vpbukUceafd88UvaKRxpu7UT4cHFF77wxfb5z32uPfvUM+1P/viP20MPfj2eGPNjbKdOnm5n+M0iYXSeWvphezloWa7+GKvDpMER7cMu0zpI0Mnx1RMMD3Qj7ad+vtDjvE468XFKtcX/YkXWOpCsN6jDB+XWZT/tg+3azsyW8h6WMazbOgEHno5DjSUnCL6ZiHvA7Bifbp/65KfaH/6Xj7cHNd433MAXR1+twMaOckU7u93x4I5+sBvichn9Bw683O699yuSf1YL+lS0M78kgjE7QIIkO9A4sOUDVw/sRnkYwA8DblU5A7sOppiQ7B9BklEk4F22/7J255vf2N785jtjx0obetn9vvWtb41vKccWH4ZAllfS2Jlycr/+2hu0a97fjh870V55+ZDW0PBmwQCPK/DYeuw9ph5X84F+7npUmvmMqpsxI4fftmP1KOMqSKxR5vkC42o+w7ohpf/Q4KFM0IQ3+1XlQPXBsD63OeEzybDfhvX3vrmObx7fnsd6ahlYxqlv83gA64WeYO1DG9ssbxngtkpjyOJ7UqVKHs3ZXYQIoLPEpJ1DoTqMliExKcBOwsulD7YJoD4z2iCDzA9Avff97207du2Inw9m8fMqyutf//r4bs4rb7pagYevm9seO5+HH36kves7v7P9/X/4d9uN193QPvHxP2rLWjy81PrqobwU84Bmp5lUdgo5GLbtAam+kkJOCU/Pwa9kXnImxXyAsvWSvNjM6zYGneAZH1PUnxr4X3ZKEKQAL1n8n7BueFwHITPQnFeYr8K6gGXygOW5kRbhuXzLgU98EUBZZNddR8C8pt10043tpptvaG/+5jvbJZfsaytnTkfw49Uxcnbj7Mz9rVnsND/zmc+0z3/+8wpYT8WOkMDGrpNgxsMlAhmAxu0Xfp2Uq5EvfelLsYvcsZNfFtBJVcNEqt+mz5dn5K2EfdqBbmt79u5uO7WLxA8COrsRdrpcmrMjwTd2uP//2v7tabYkvc/Dqnfv7t3n6RMGcwIgmhgQIKGgHBABUQBIy4AOIAlSN7zi32BRsmSRon1Bny59obDDYUVYtHxhK3Qlh8SwBIAXpkFaDIdMAgRNACQIiKRnMOeZnu7e3fvU7fd53/XU+lV+q77dUNi/b787M99z5sqVlWvVqqovf+lLdWzunH68dsc/93N/8vRH/vkfP73+qTfr2H1ULwD84isLgovCxMpFDQKOP3Q552ZMQeokCevpE2hvufqf+px3nI8s+vSb+TcLg3Oy1cOv+Y+95yw8dCDjSMjIg/oRlANtJ/buE1DaD+XYWRfJ10Y/ygR1zjNK+m9drPrm4oYuY1BPugYkSeCare0Z5Q3Fmr8SkM8lTYJ2WJLnYFCCPuH4AtStjwwCxBsU7C5euEf5Ql/G8RFLfmLjR+rS7+VXXjn94Be/eL7/U977sRt+gqI7tiVe/5rQybgAOYNLKWjjrXeCVSJjUq4HQdrjDAFLcJbVyenuMm072Q3n3elmA9QjfuaqDwCPHKUjHetJoPtbdcZlJtHwAJfcPHnwuc9/5vSTP/VHT3/mz/yZ00/+5E+dd5u+2DGkuGPycvJiz6Uk96L4KOwP/MAP9O9QcX8UW77Nn90l8Xj3nt0hdRY7btV8txZXvv2fxZX5YY4QY2SdRREZbz568jCg+HJRRw7B41YBizr3OJlT9z+4f/rd3/1S3wNlQQW8aADHEEy8m8clCSinPWMxPlcbcMQDtiV95BzMN7T4dN7m6gzzAPoBw7vMNeu2gXYQt8T0keUR6SP7vsrlKfcYSfqwBGmnH3Wd98wB4qorpf3KS+hbrHGSx7ykXG0EsrSpcx+lm4o7LpPRgUTHHFR8mRRWTGh/mmN+m+Xj2kk+7EdkADsIdN/77nunF2tB/VRdpr3PyVO7W76kl8dX+s2B6hSLFF86YsekazA/daiDnABCXWE7eUcxlVe6F482yD+XRS6iWq96kL4ZQ5A6K+SvOVlXji9ic7uihKcntTCyePL9A+xMmaDcXwTYePy+8c2vnR7VZTwLBseRzNG/d+/50xe/+IO1w/vXmvgEF/dNAYsr3/7/Iz/yI23HIsq76dwS+OIP/WDx/8DpjTfe7IXNOUAscua3oohNPswLCD5t4vMcMMcOPr6x48WX+7CtUy8K92rxRO83fuPXT3/jb/IbWL/Wv+/PjpeTkF2Zu7htmCZ2+aM8z92F1IPIwbqwnTyRPhLoKiP/Pk4b0eaKa/hjq65UnIhLTszrPf6qL4nOlX+bD4CcmJC6qzzrwHaOnUDm+uC4UYLVvzL46uMTPlc3HD9gjLRPyLcUR/pZT59nlDy9rzrUuzf40ZdKOx3xdmJx8/EeiKQgJsAHH35QJ+58SQBtJwdfEmub3caTj5+cnqsTk28HYnf0/nt1Qn/8TD/qNJO+FlIOwDb4R8AXBNZBtU2pHicNlCD/22DfUq95HPiq841SLFCgdba4K7TXn3WBfNU5kqsDsm2dsS7DnoyeFBwLFh52bZ33ZsOYZC7o8+I1E5c3Lvh9/jk+v/M7v336h//wH/Stly//7pdP3/zmN05f//rX+s0iStywU+Rd8i8VjycuuBTn/idv+PDYFItonyh1DGYOzbjhn/iz4E2/mStc4nO8yP1htbkVUb3cbp3UC2PJ5uqGN57mhZkXgJdfealvE/Vc2hZPYL+NAcGTbz15gLo+RMrFytOPlHG93Aa0GRfO3HmX3fiUo7PzyGNf0KFrUKbt7mNkK18ZSDkgv4wFf9Wh3cd3I9rXKGEbPxxv5gZXHCyizhGh7urLHES2zRFdc5MPbJ+x+V19iu1NpMtOgHnlIxAn1p5sQqf+XDFgMtBxdox0/vkX751ef+NTtTjOO9vsGL71rW+2jMkOeKeUOjsYLh/fv18L6N1nTg9rMXrm49kd9Kts/REzO2M7+aN/ma/5USJzwaDtorr34XJwla8xRNeRMWZVuiNVAy9Qt0s3bROrz6fpZb8zt1Loe7zVgV5cWHCQYUfJJfUXv/jF8yu7/QOzcD7bOuwW+Z4C6MXtXiSPnP3Kr/6d0y/+0i+c/uv/1/+zLp2/edb5tb/3d0//91/+66e//+v/79M73/326aWXmfjP9WX7r/zKr56+8pWv9P1S3hh8uU4KvhugryyqTY8cb549ZR5w4shjEeX4o9u/KFq8J2Xf959ZXGpxZB4xv37sx37s9Kf/9J8+/fzP//zpJ/6FHz/9wD/z/eWLT5vN0wI5VhS2IcYoj71AlvNAaKcMO8cZou7xErTV73m9fdyymt3mhUs/7JjB+NrnxcjQOc+sM9/YybN+DerZ92u6KYfsY5/zxQfGFuYD0Wegf3WVSfI4XsxT/CvTl9CX5dP6AD9p5emfP+ZWz69Sg2rClvKuv13CX3Y4MfK9o9mGSJQdKDsHVBCzu8Hnd995pzt8n0+exI6Cd265Z8bze5xM1d1ecHijgC9a5gT63Oc/3/7ffe/dvgRkh2FM4+jvCJknoE2uHgDalBwg+Byg3f/YHMGY6HhAAe2UCXnXYDxt0CWfRMrFOkGM07rVtk/7mwvjh2PTz39+YT6+qY/Zac79TnZ5LKC/7/f9vt5JMkYsQG+//VY/wsQbgTyOxLN5PLvLmzoQuhwrLvN5Mfy+7/tCv5lIDB5F+aVf+qXTr/3ar/UOkRz6WBQRk3lgniyW5oEtfSGH/tnrqpMrbS7tHxQhxyeX8Vyue3XDIsx92JmbM1c9/vv4cRznEpqY8FegJx0Bf5JwXoiU775s7y/SQ+Q0OzAIXUzTv3nqN2XANv6u6YzfOQco8ekY7DlexrWu7YrkqQPZN9tSwnbGpc6cJS9AG9qP3w5lIGNIQB3a5kRbf7ZvRcj7Z437OF4JJOQD6so8kIB35u/de+H0G7/xm6f/6P/4H51+57d/5/Tud75bl3lfOv0zdTJy6c7HAjmJ/GmNt+tE4mH7f/JP/vHpC5//Qj+o/Xf+zq+cfuZnfvb09ltvn75TJ8CXyp53i3msiZ3r5HaZ09pp29knSickAwWo2x/rkj6yjwIeOg44JE/IF1lXT17qrrIVcNE4onwzhtzYzejPSULJItRU44EexImkHovr3G9k0eFryeaeI18ryKL56U9/Tz9GxONFuEefd9z5TlU+KMEC/Oqrr82tgoqJL75Nh0WXxZY28TkeLKLCd9VZYPFHLh/WIvn+B7Vzfe5uPw+MT/JlR8viyD1Ydp7vv//u6Z/+k39y+o3fnG+Y4llSQE7sYsiDsXAMZlykW8Z741NKwrpjnEg9IY/4U+739uAh5w2v777Dx2Y/7NsPb7zx+vYCdxljjXkZD1/0cX+BT6B7lJ9QHx1zA/Ip02fqZ3mEjJ11MP2chZ/5xvHlRZA3KudZ2H2BMycBP/sL6V+brGf+4Eh/1TnzN3r2j/3sT/9lg6VyOqHUuTB5OuSBp5xHRt6vxe5ev5v+vZ/93v4SY06e3/zNf9CfKmBnwOMuv1a7kjfrZPvhH/kDp9+shfWv/dW/dvr7v/H3T7+/7PiWpHdrN8GzpOxw+f5O/O8DOItX5pX5ieyXdfQg+eaPPw+gegC5tgC+r4ipB9QB8vv3VCi3NnEA7ZWwVw7MDZhDU7XVP7JNHmUvVCGn3n3Y5PbRMeDkoz72ez+Z1AAdPj02L0iTI8Qkn08GzQsVix2X4iy2LJzMA9rqA3PChjzwgT62LKb0lTo7XB6sr961PoDH4smlLgsxu0leCPDJbSFi8kJt3sS0L8Zd83DM5QNshGMlVj3k9j9h21Ifa1y+yIWPq84C+ko/WuYLETboU9JOn9bBXNozVy5vTa0EjCvMC5629keZ8ZGro5/Vl7oi62LVAbQ5/jxhwYaLY03beMjNB9DueRAxhzd5qZsy+fLUVe8IysEz/97/8i9+PK9U+4FpQSXCj/MX4xwIHDlFhu3uuHY43Bet3UtfZtWrCJ8G4SF62i+/9MrpAy6v3vnO6TOf5TLwM6evfuV3T//ot3779OJLL9TC+0M9YVhov/61b57u33+vdqpv9+BweTZgok48Y+/xBwxGXp6AtQ6yb8goJSYOIIZEbpyQ9IV8WEzGF4Pf//f9UJ5z7WcwW7bHodSXuRiHfJEbHzky6vYF9E5zkwHt8ElpP4D+KM2ViQiIbg6JPb9Lub6M07xT7WK3V/7JFfvZzZo7ZF/0DS9hzvbFNvdz0YdvLpjywgq4B89OGfmD2sFynxU776u7+4TwM7C87BP+bStjrs17AiNrFse4+pw7HnMD5m4/97znOMxD7/jf+rgRMvL/p//kn/bC8dnPfbYfGaMPc6thvs6PcUQX/5MjoMTfviD7UU8wuau749LH6DkW5pR8IN/jSdtjrV4eL5B+ALrANtAPoGQzxqcXeWSONyE538xL+8ux3ccS4Hv1D5K3Ys0P2G/9Tazq/0/+S//iX64a2hcGs8Xpf2eHIHV0toIJzQ/IjZPTtuPgEZh7vRt49bVPnV55+dV6ZX399Nzzd3shYrJ/+jPzkU9Oci7lCPXVr3y1Lt38sbf9xM2wtHNg7BwDa8eBPHDR18K1NjYrOLD4YYKg58RpE3ZjdbLx5ogT2YnkxBDpO/M2T+tg/O+LUN8Txq7++h3pkrGwg7TRD3XQ7aJ+cL3az51z32NTZ9zQnVf0OUHkJ4pV+cyY7nEmFtDOOmOBD/nYEMd6UuuV3eRxqUOdcYBog+er/8w1bg/styAux3zHnqM+9bO2e5S7PmWFDkxDffvlOMknf2Dfhz/HBmTfWCRYPLn//+prr/ZufOyJdXmsEvgzjlhUDoE/oD9KYyjLMvVWuuZLyBerPvCYIuPFgkt4buf4yFrqZj5T7+oZytZyBfwj3ZXPl5JD4k5/XHM52G0AVd80ButAQPAgJzngq+Lma+L8veyHp/u1IOLv2Tu1YFYbWX9Tz0O+r3P05hnFh9tH83iO9MPT177+1V48aa+Dh0NzWvOE1FcmX5usA/tzhPRDPznI7JD5zPiXvvS7/c1D73333dO733mnP87IYzp8jPD+ex/0pRi67Lrfq92FD4pDvuHBGDBZyHldZNQlvuNsDnxhMvropR0l6G9f4rKnbNkN86jVo4pFWQe/vwpuW+fPfdR/icsP48S4UKLD5OYFxDcFT6fHtcvh46zMK9qQ/sgRX/ZBflP9wTNvyDFQl6D+pCyzi36Y44j3Y8qXidDXFegDfKIn1rqk3k4dfuENv7yf8zHOCvnYzKLJor6fO1Bi9OZ2CR8woaQ9uuPPHOWDXeeSEqvsPM4b5Fu31HeWEMh6Inkca+zWeAnk6jAHODegRMZKfUp5R1BXEmt75v0lL1GS/jOP2oH+dH+ZiAyT43/qTFiQDtU5AnqIZ6JsK3XtYtiV4uLXfvXXTr/8y798+vSn364d6Fun+9u3LqHrJVnHrY7wzTp8/I/tOz9Ax0BljmtO8j1IyD3RkKmfupbqAXnTl6kD6i6cPCTO16zxxth71QdeJVlAWRy57Hj3vfeqvH9697tV3n/vxJdCv78tnk1V51IN3fdLl8WVNhPmw5LzjjKPH9HuRaWoJ0rRo6oj43lKx2S/jTB5J7Fw8o1Lm7D70M/VcpQ/njeUOFQuXowFOu48Z2wYszmmjgmXS42S96QqXUTqYOvkxgclfOrto3WnfeYVKF14z7yNX04q0tQh/SujpN028LbSOsBvKXddGYSdvtSuVrXt/xZ/8w/QRLdlBe3JX545Dujr7Iov/Gy65MaLKfOJ48Huk/t/6HpbZPIfwNcPPqhme3N7xlFMkD7HbpdhYztL62sOQN5Zf7vdJtZ4gHECtLFFh/ODc4ArV64u1FljSl71JfQPzElaMT42v/1/2RSturZrAf2pi2+kV5BO1mQTqZ96WCKjTcklPSf+/+O/+q9Of++//pXTj/5zf7hv8H/44IMeKE9cviQZl0xAFiDeleeH4Lg8dfDE+QTekLkYG5/Uk+TtuQ5op631hAf1q1/9au8yccFixO6ZA00/mPjUIR6zeVB9ZBGlP+zEIR634SOqlHzEsRdTZFt5lm/UC7KL7kbUJXbw2LA4P6jF+FHt5DuP4rMYUzcvxpF+cIzoY+/4+gPpjMEQi8Z8iXEdj/rzhbSmedvM2LDQ3q1B2WQf14KG8XbsBbE4ngA7S+vqZgm58Ni+sOn/q6w2/smvyyL1qa8+oLbb02vQbv8smWXXfSrmcLaFvNt7HwD9rW6HLnErznkMIED+W63542fPZ/IFLKDMLY4l93BZPCZm+d9s6Bdl59w8zpt5kSJWedtC7zFGdgnjqiOSZ8wEbcj40Goj1AX6OtID8B0HznnONXi8iByvAeNn93mzjyD1sjyCsjy2jGVl3uX2X+PZn/rv/3QtoHRqGBcd528JdNTG5nIgqKM3J1Sdn83jnhQPYb9fE+Rf/KM/eeK7QVlcZrfDzogTYD4Fw4LLgsD3SP7oj/6h4s+nEvZYe85HMC8Oxm5zM3/5IHWSb5vSHHg15J7MW2++efr0W2/3AaZ/3OflkovbDuzsqPOqyEcVaYN+06NeKABR+oHwbWL0rYzqfy+8RR/WWPWCWhOJ52ldMLnNwTu1UO9+WXA3YgHlyzWYfOx0e5e72Z4XWfzWgs6nvmYBnlsp7K4ffPigiUWaWypPHs+tBr6hqV8Ytm9z4o0VckWPWwV3esEt2obYsc4xp+6J5onCeDq+toGLRO+Qq2TsKdFyYcRHX9a3xUBfEHqOrbzB5ZylPjvuqm8qSIdflbKzPR3c2kUN3rzosmTthNboGXfY8Cc2ZD6UzlWOAceUsWaOsYDOWO222uh3vy3A7RzaXBXM+I3ddex+dj2PjbIVyV/rmR+g7TkOpX7q+iIL5DMWjMM8Y7x/H/AK/X2Svma5grj2fT6wUf5at6gLcp8qeOYv/i/+Utns9xZzsvWuo+xxmh01ALq0UwZocwAhTqzHj+cNjldeefX0H/wH/7vaFT0+/bk/9+dOn/6e76kF4FsVYuzH7SwmfL8j9xX5Xfc/+2f/bA8uJ/6e39gkJu7liQngYbfmCbKOHFv17R+kzPjUm1d9fO7OfEyQBQhCh3zZldI3ftyuvy+0bLjs1p8xWBggwGQB5qoefBYr86UOD3nnUb55EwX/z9eCgxyfvfhwYtVf9gNCh2/fwj96TnL0kAN4yHhh4wVujuuMid9vwLvkyHjRQ5cPTTB38EUM/Zi78SFzcpF0TIwPkKEDHz+AvsGjjS4y/TtO2MFHD8Db/V7yZ/Esok4fWwIYvbGh72K3wUfRM8yL6Qu2eECnwg+v6oA6OVCO7cDcyJfdJ9+By/HlCRXehUeXS/ixufQHa26RzXiT8eUCOnN2BTJzWHNyzG1fxpv48lIGPH7wHf88hsB4K5CnP15IePHngx+8kHh+CH1oQ1+pQ8jWGKmfOaSetpV5v5hyju/+By4/vYDyMTzkDHwbbgPQhqXkIECcSHkPBzvKtu7AnADwCWrg8sWl3sd3Tv/hX/krvXv7M3/m53v39kFd2vJZ+J6DlZV58o1N3/rWd07/6X/6f+mP5WHD4mQes4Da6c1oA7kD9Mjdk677weMom7qD6ICN3+mHfbZtXTugvzvVr95RbunwrjhjVx43X3yCpmyq3m/qsHCVP9pVaR14EjAGQJeJ4+QZn/tEYTHBjvuc3D8tZrfhc3uBRZU6fYXfY1J1hoLdJeMKnOR97PsYz5hwPM9vNPZCylMANcbdh9JfTg522yyixEAHmQsddUAdHvnDIzYvsh4PS2SUHLO5pbAvvPCYs+TEeMunr8aw1A9xBnN8wcShXVT1j8pXdWZi9GSxr9WHkrGQTR6MEMQL0Sz8gJzm1w9w4/lEskVlMHlt47rlACZPFtB3+v46VyM8N8u3XKE3ftDZX0iHx9MI82LBt2j1/e2KP7/ISupbXmWjHcCn4+IYSYwT/owJ0GP+pI12tCkBNtQ5vvLUQ2bbXOCrR5k+eUOWKyS+TJn7wesCCtQdO/xf5mMJrCM3vkg9wOIJ9YvRljdI22f+wv/8L1b222Qpwsk5SP3NhNkmV7FJsifDGWMjj/rol27Z8rgNfvl52nt3Xzj9b/7X/9vTp958/fSv/+s/f3r1lVdO9z94r+1AP7PWi+idfhCfb+z5z//zv3r6U3/qT/W9IAYP3x6Esuj/p0NTIqO0D7SZDPJ229H3QCKT0p46SL51bBuz5lU2Lj6zUPXA17jxRRwsnA18bHV2pPqhpH/U9Q/68rQIf/ig3oSsdFms2t+Wry8yvYAWMYnpMycjesgAx4X7nvnlJzzA/bguzRkvjh1fBjP9qEUJWV3Cs1jxVyNZfsn5Qd/bdoEkVsfgePSfc2Y/YbovRfBsAy7R+EKZUuw2fry3yQsUCwU8Pj11d1tsiYeO7XmBn3gea/rTfdr4M4aXx3fAEay+Ia8Wut2vWjjx1RuD4vWLJn62w1+zrF6M6ti01ZY3fursMwf0Acdg4jOGA3RIoxe9Ggtuy/CJKt5E5RN8n/vsZ3tMOFbYPakXZPpJvftfvrl1MjnOuCprv+TCH3mZR9XR6SSqgA9Pom3uomNv88G2drahyWP6mXz1gDxgTCBffd5rYE67gPICcU56A3q40h9yq7jNuGM7MEbWx9cWfw/RfsT4HuEzf/F/9hda1MHrHw2c9ADUn5MHngdmMKWvbh4YE3GgZ4A/6t8Wf+nea6d//3/1758++/2fO/3cn/zXapf5XC2g75d8LvFYPNkNc6Lwcw58p+Mv/uIvnH7u536uL+ln8PYTLjs8C/g+ARLk4IHOSWF+YrX1FVSb9KGd+mXZ4zX/ZmzUJ445U0c62Q7BQw/iRKdUvxeQTZ4xsUnYvsi1yr68jryV9+Jd5UfbzhQgQ0+izW7OfrCTps5Cy9cSVpQ6yeer8OZBb3bXLLQzyee33Sdv+oMP6izmnBQubLxw9KNR/YIzz/5B1AE2HAv6SIwew9LlmPcHFugpqncYF24XzQ/IERNb6uxu9YWPKs6LPv4syWNiTUw+2489NtDM9xlr7YBx+kWpFrG+pC5VujC3PsaGPjmvgPngExXGhmdAf/fLX65L13f7S1/4WCx6jCte6uWnXgCZR/t4CPxC05fhGwO++WpnG5hT5krdUh6gLQ9fEGOcusaUB9F3oB9l6mqLHjy+DhEeCyi3ALlXD/QH+oWtqhz79HGE2Qg6h6ZvCe31oTzHCcg/L6CNsqGBkORx8mxNKNro4+QoKDCgcuyr0SdvHb4qnz89elCX8P/7v3L6kX/2h08/+dM/UQN+t06kD3sA+t33OiGwg9yB/t2/+yv9nZPo8Nwok1T/EjFdQFegi9y8Mnf7I5TLS5k+OCmJuQ6ocmCMtL/wjbxolrLLg0MdPWJQ3raArqUydckC0k6fAP2mTZc6crC254Tfd43GY2FgQlN3kXF8mKT8BLHxOPmRAfU8mXp3zMt9v+RzTOcFhN0Ux3z8TUzq8NHpv2rjm+daeQFmd4YMoO/CCczTkwif+kaPfOZy2N0usum/5Bhgx47Z8UCG/+nX3dPzz82nn4DjiQ7IOQxPHwD7d7773dM3vv6104O6AmDh4EtcWNAHzJvSZbFgDMoO3/hoabX1ZXxBW16OqfG1y3bagNSRT87w6YtyZMSgTD/arDJKbQF1XpT5+R/eSGMcGFeOtTbT58s8XRzTF21BXOZY8rS3DlIOVrm4voCSSE1oT94asgsnGSgHk1I5hOxOHehnn71Xl4Qfn/4P/+FfOf2Rf+HHTj/2R/65kjH4M+H7nlrho+1ZUCYwN9P/wT/4jf4xsudqQnrQZxB2EJPwDN6KzBPYBpm3QC7POKlnDnPwBulzctkPoHVLbWmnL0ra1C3bvshjsPpGL9tZ1yfoS9Kirhev+dXGbzk5x0o/2lvnOLnoQPAgcoBcHMzJXAgxi9G+IJuLOvA5CWmnH3ah8LVz4XEHzM51Ykw8beB5UkPwRme+mZ4YtLHn/hrv9NKX+cDG5OaOmp8X4cQFGQt9dYlFDBZU7PpSnN+vL2DjWNk36/g37uTMBoEvsOaTSN+sY/9x3//kizSQzxXaPsebt8G8QOZJfW0L6+QA1LVNftjQVgbkUaIDAXjWjUVp21IdoS58xwjwovbrv/7r/cUy80YaOSLhv/G95pVl5rXrwtvzOkLmLWwbz/Yzf+F/+u929BreilS02fVnrSEOY5UlvHCSyGDUDTJWharcrUvyb3z93dN/8n/+T05/9Kd+4vQTtYg+eszzifzUbGlV7LLEeVUrVp103/72t+oV6B/0L0NyCe9uBBDHWNMeOsfe+EBdkHwnSiLl1rUVa3uNl4tAxlBPXh7glKUdixzRkK19kJdjAlbd1sZPUbeL8N86ZauufgC8pPE5k1z/8s2Xetpah82L5E3+nsv4ZCw8gfCLP8uxcVz0g11/GqsWsPn48OxoWdBYcFnUqMObF+tZkLMf7WNbcF2w5RObXQ/28PQL0AXoIwcc+zLry/e5Kio9/G3nEQvkvOHDojs/V6E/dvQVpG8D8Pwu483CwbeSMQmefLx/0CT7L6hDyM7Ht0B+wn47R6k7ptpnG3h89KNvSH7GSpn8bOt3lQF864OSX1jlRYQdKOPFi2dlVvJ9HPSbdUrzpa87b24vpf6K9JewnTbP/Lt/+X9UG5RNuWkErVTU71pvGL1JxjZ6Fw43mfwZ7HrFvfPC6R/91j89/Wf/2X9++lf+1Z85/fN/5A+f3r//bg3Ig4lb6Mv4DssJeff01a/+bv9yJN89ya8TOiDGs+Skm8k6kwNYgskb+X6SgwmLTTfPUEe7Pc4c3JQnbFtyguUrKnbaUjpRUicnEOD/3IEC6+kLwtY6yDb62usfoo6e0HbVZ3wh6vpLXbDGmnprFO0ntHb4AusYAXJSf41pPf05bgB/1CF3rbtst5EHOFb6c2GcONzbfL548yEEfLNjZcF03Iw1i/Rc4lOy2ELYmUfHqC7yZt30Z/oKE11ATK7E+BVTFo9PvTEP0vPRZmyMS92ckUvqZH4Ta3+hcMypq0cd0KYOGUOZMO4KY2mTerb1lf1I//pAzg6UDZS/Cc8Y6ZMy6wn8GY/1Ye6PXm7AhHq3wVwH6I7+sz+1fRKpHdQ/u2GHKsUuwQTZO2vgDH4ZaMCEeK4m4Te+8Z3Tb/2jf3T6Qz/6B0/f+5nvmQlR6ti0H/7KJ6/EdJQvVuYeKQ+ps7sgHoSMUjvvf86ri3lewlzJfwf9wOe0kDOx0AX6N24iY1CX7L/66qW+fq2vNk4gQe1a/Gt+xZEeWP0dAR3s0haeBJTlxEx9js20h7fapa6QZ5x10lu6SKEDT33GQTt5ysvrWQ45ZpQce6mfCKhLyP3e6J1+lI46l9w8FcIHJ/ipEr5ijzbEO8Xcs6POF2Bw+T3fkfpWPwzOl5yM7XwQgzZfQM1PjnD5b174Vv9ObSyGP5e45gMPkL9jAmzra5VjC9I+kfqU6iXSd/qRd8S3rU5CGeC4eQx4H8TvAvUqwGO2+lihzqjhnxyo3+zjitt5lFOvzc3uaO/C3iEP1k44QsZJPkklnOwAv/hhorORfefd75Y/dqPuEFjwakDIoWrVvfZGzLnEeXx6oyYk3xg0+vvCycTmVZ36nEi8shJvP1j24bKd+RKVyXRJLPjQ3LfDfsYHW/pEzItxC/9JwPGwdExW6G/1fYQ1jv60S1tlidTJePLSp/UZ+8tji62UPiBtJOYL9vNJGY47u1r84J/L5uE7t9Bl1zf3XkcfHZ4E4Mtq5okA3hRi4SMeOviahdX8scOnczVzgtSzzUnKvLN/GZ/7p8XuvIkLnzyfe44PG9ypE36+Vo98+K5U3iSlDZ9F8tXtJ775FrK33mJRfaO/E+Lzn//c6QfqEvX7v/8LdbX1+09/8A/+8On3/Xd+3+mtt9/s36Gq3nV88hHmvY47lEAv+dd0gLKVEitvH+frQN85sgJ7c1x18hjZd+p53LST9jk2c875Ne09xlEu8rJMXWNOjKn3AgpasReUDdU2WaHRJwX6+L37HPehnpy+9P/5Ul3O8PMQL25JEG8fEOLTQe478RFCPnnEq/f83MPsyiDzyhPFAbQ/QJl2xxiZ8l7sq8tDcwCReZsAn0cE0g886spA1lcgcxzUW/0lmVvaQMJ2+hDJW/2vSD5F6ltK+r2cpKm/60ze+9xibLFDTxnm7aKw8+bd//GNv70/8sDMh4kzx3TsJ489b4EtNpcvyrO7BVOyGZg3tpAB/HrpDm9eCOjDnLT2AztAGz9sAIhDX1houX1F2T/5XTvcLmsR5jWdGBA5Uk4c5+WMxcSc/q00cW/KwYzZQN6K1BHwpBXJoz7HYj83j+yIzRhC+XQD5FjDA2mvjqRbSq9+1ljXgL24ZpexwHkBbeY2+QDclDn4q2OqTgqslKtLp30u75135nfCX37l5TbEFjN80+AdRgYLHfRZQClHcWDibbMB/YzZ95DaJQM+bcxYmLGT9EUJ6ZNwOfijh860gTYJ25Tqaa8vKWXGpR9HPuXpBz2QfrRlAqrn1YN6+pKSD2hLjg/2+kg7CchTnjmok/7IC6pmQ//qWs/Yl7T3qbTPdfxRJw4LGGzmD7F22+kb0Lc5mTN1YBtom/lYT+hLjO7oGZc8qUO8Mcqcn8VjFnuekT2fB8/Ogo69+WQO09d9LgP4Al11jqDdkT/9UJdsA21A2qhrnsjoj/wkkX6g7nsdO+y4hwwPqAeo7238Xc473GdeCWOnD+u252p2/My5P+sJpM72q5ybcf1VGmfnLG6QTuGbUIvHcyvpEP30OSpz05r2fMlGndjP1CQrPrI8yLhhQeY7NHmgeBa/y8EG53iFm/LJd2xzEEYvafT2xSZ5kFjtAHInCYA/fRjbIxtLkHoAXxKAj2f1kpRru/LW9kqrDP2smwN1ZUC5sO446ANkXb2c0NoAeDm3Euikb/RSV/4QesjnZALGMKZIn4ASv8CYaYs8x8USniRfX+kTINeXpf1RBuSJ9INO9iNjSaC8nWN0O/wLeVDmn5Cnn8TE22XoDm/alL6gQsZKHUF8zsPHtWhC6PGGnXaW4tL8puwohryVRPoQiIdP7ozRPvbnBfSMrYkBNuwKnRzo3jioReqWduvDNxEmM20GxOf2xsXY8tfGEZdBfFAL6He+9Z3TKy+9Crdsxmce5Jxkk8PwgW13x9Tx60KpLvkk6XPut3HgZ1FP3RUZV/nKu/Q9lP6sY3cx1sFTD6z+9QdfWmNdg+NxjlnIF5TxS8wWXfhVX5iX8ZCP/X589CmyDlb/qb/aqjOAv+eD3uzsLhdT88gYkDJjZBzrqb8ibTIGPNrrMRS01QPqwcvcwdSJvfPMO1GvI+VoP6aUR3oAmZRt7NI2dQD1yW+/P6tcXdvOMUE9ecQB8lwv2I3TZjeqjHJ872MmkIE57wfYZC60IaFs94Vsl2eeQv2+hG+FYff/8kxmRYU/O9yD9vEq7G30uiwBA3L/g/ulz0FxUk+ss4stqbt35oso+jPe5SLGovWNnZDnAc+8wMS5nKhA3ZU//ZB2n8bXZo2XuVHPwVdPXaA/SZllnyqhT52Y4LZjJLQlA6khf4t51lvaYKoX1hdA9+b43QS5sjADx86+HGH1t/Z1bfOGwZ070E2Z0Cf9FPCelrtydaHMfbefcaKfHtPE2ga77SXkY5Mv/mAWj33ML2NVflX9CNqOi5TYfR3LwW3HB+j/Nlw7FkJ7fdEPbFhAWTdYKxyDvY87zF0/liBj6zdp9Wd/KayrkzHE+R4oQEZbatUSl1n/tS78jUe929iiWwtlJ8w7X/y1uHhV9htBtXC+8frrVecmfe1GN8v9XVJy+Oj08NHD3snyeW2e/RKjMcg8IToLURdrZ9UB6HWuWx143/MyEn62ygb9opvkAEPGAePzEtqQgyeHeth6gEF+CcgRjvyvOX6MryI+lYSE7PRozuoCdz7QjNvURfvc2skH6cdS6DNt8G87bRPJQ/fYP3XpGNOXfQ5IQFnmktDuEugOzfxxPl/6xmfaZ0yQetm/Ae1ZDChJb3Ldr5JGq6jk3eoG/132w745t4BySsiFWlKeNkK5eYv0CVJ2G9Ajfr/3UWAe5j3Q6yBO0g5jmwu+zBeCrwzMXH9aPHzWMdd5dg8eiROIRay/FJmgFYPdZLmfdv3ZZsFDr58EqgnEl4KgUZnNTrJatTk4fe/3fPp0b/voGrx+FUWOanE6bskeF6/9FXfuO0wH7TToAxz3I4CDob71tEme/KmjT3t46gnr8jt++AP6A/qXQOpBjLFjrQ7QP9qdUcm0BdRT/za0/QExvn2My1fmBfQ/CynHb+/DGjfzSnjclBMLAvDoX9XK302fIvmrDu1rcuvqSGKVJ67pir2/M68dH4m2/RQeXyjHBFD3BdRYozNze18o51Gtofq//W3jCeFTCjhP0V+Pd9bNUYz/zOd63on1uAt5RzLiJI86iyiX8I6l+air/pQ7ZXzzF7TzfEu5/lZc6qlDOxbQDr0FBSadTq3rcHc6PE7I4dNubjvGF998zqMc/SZSDTq8s+dWnhMJOHH8aB6f2thcXaDzWZkbMkcJYEM9B1BZB+H/jefEE9gmDx386Au5pFwCR3JsOaB5UJGf7agf5JrtJNGL40bNXeSCmOakD+qcGIL+Zs5Am6ynzrRHBogDUndis+PYbT8J0M08gG1K60cwNlD3ms3Kv7T1mIyex27q130CfYD0KeQNe3zoT5/IL47L2eY6HUF/6V/ymNk3oVysMQylHpQ6SYmMB9E/LuEB9TUu0Ef6m/p+jq6UugCe5eQwOvIuQXuX76tDL2D7oK0wIXB2Wk6oQ+1wq4+I9ujCev8+X1vHQ8d8Q3rxKw6bvf7t+cacTMRhMaG8d++F/mmJ/qVF1Qr4hoydPPKXB9Rx0cs3uSD4MxFnMqqvTD14wrolcqDtmoNQDowrwU357Py2cd3irwSMDc65Vr1/JgS9ql+zFUc8gC/HYIU8Y0L4sO/XfKZsaB6ezxD61l7/1hMpO4JydSyNL1JH7DnuuqNDe86TGR/43Sxc6gN9p//0Bx3NGXecyIkD0FN3+AQvrY2KOYSv8LfrXy4sxldGaR6084UUIBfX6vqWriHlqy8IWdaPfK089atW48R4jZ0+gP0cvcs8BiOTbsp39GiWeP/blHMwiVO1Lqs4O/YTRLb5m0Dbgd2ArF9JyueLL72AuOGOtZ22/92GScIDtWT4bC26CXOU0AXYj789J0F/mvirxZLcO/9NZ3YUY5fQZ8bKeBJQri64JrcNWof25puvZnMBvQZsPEaWgtreug4OPraZk36yj2Lql57HdvqykjBHeBkL8NjRTHJa+1gB6+mPEn76AGtboJs+05cy5fJTB9iWUPcFd3KmbptRvZlfxsixTf74njY6jtXwUo9yr7dsa5dR0zM1pnWCtW3zD5CxE7TNETi/1Kdc59zkcpPEkQxK6JNFm7o89PJ8yFxA+rIuje74AurtwM/4g4wr0M+xAONi4t85H6hq56BMoFpIa3fAmz98dI7SnWNp9gHim2NoczuI3xjHEfdN0cAvPlko73/4QZVPTnefnwfjq2tV7gfGDvMFtoT+4P6D/vzrM3zqZFuM7Yg5gst89wEHlA4ItnzOvipNHz/eFquNgDmYDwfNA7ePDUSM8SlpZzxK68iAPPna4vFu8XjygJ/lYGGnXcL+rXP9A2zNDyADtMmVNjrtr/Syz0SF+jtAqROj0DlsuUP4guDvsZHzKMnc81I2MdFtV20/4zTQPv2bP+VMbsdk+jT88UFpnMxJAvqiTEoc8TIOMvxRwjNX87U+fiZvws/iP7ud6cf+BswRjAcy/xWTC33ad1KU/cXTHYPbYFypFL/OQRq8x1DZnuoI9SbB/k3O+/xIsr/GhNY2OtZXub6TgLHVtQSpZwmok2POY3iOZeZgbEApJR87vvlqP1bNLbljSl6M0yofX8Z37tHe+7XN2+nY3jmTHewn6m54ORCWF/WeVLsdVX4cikS4B+oAdIKl+7h2p9wkry60Lp/I4IsV+CZuwGeQy/NF7BXmkHmI2+wusfuA8kBNnYHcx4L8Lwd1eCtSD5ibPOOlnFdhabX1gAL5WaY/bZUD5RD9AtlXCay2VOXh20s89dM+SdyWR+aQcY0jD8oxsVyRfgU8oI3xMyZ1T2JtlQH1V8g/ok+C9A/WY0e59tt6xyHXOp+216E+q5GXpOWrPcj80t+qA1IO8lit89U4+peAfqDso/4oGX/efS9Jy/I5UGj1Y3uFMcU1/bVu276A7IPl+WxXOD+RUG3sNyUwr2v7JG5eBD2jTHROg5Wab5rhl/VI5LVPfer07F0G68m8StbuEn5/683d+cbvhw95ePbU31aDbPd3DHTMxX5YT1Tmrde6/Y//xm4FOulr/MO7udCstNqCoxxpQ97KsJ22tLGFhHV1tBXaKwdZN4719G87S20pZyd0c2GBsm1dv47ZNaRu+kjIX2X41XfqrHpHmD7txxNoK28lsbYTq/7aFtlOOfEdf9vWOTd5xnPmcNgh52ptu2LjXO6+sagW9IFuHr/12JzjLHpH/AT8I0L3SD+B76NFmLWDxVM/T4N5mivAFmT+WR4BmaQd8dOWdr8Lv1L912Wpt3IiEwMme6Y46Lia+43zPCcLBQslci7neVeey370eHPnSR1oTH31Ubf1Wdi3vM55HkB9CZxtkDfndqw+PLEz9jVykG+rSyvgGdM2sK0sdcDqK9vUbVNi54kpMWET1+xXrLLMybqluquvtFl1KNdxk48dlDxJGWRfla268sTaBk/TX3krbrOTT44J+EdzpvlbWVbn8y3tqTWvZJxLwHHAJzzs15hifF/C2KsMH/D0uZI6t8WC7GvyyBmijv8cj9RLWrHKsp18YXuVHbXBXMLzb+vkSvwUcdMGDc/yRvK6epb3jqUuyfkteNpcrvOKyH0+d3OAhfSjx1zWz08tfHf74pFJvFW2+u10DWedrS3OPVh8WCbkzYGd+1DeC5l7KXrbdSmdtE4AJ3P6s42OftJfyh2zFelH3wCeJNRRj1LfUsqBfVz97T6ILTEuN/uRkE9JvKOTJHXgZTvr9h1on35WKEs/tLPv8oF+Uv9pWHWNaT37ah1oZ7s/URR0lm/t6vw5ztlfzXT+wMzX/RzOtjGAtkdon7fkaDuPg215q2/b+ub425ZcmN2Z6vtpwGZF5n8kB/pHDtG2HykDze9aAp1NcYVOdSDOPNgUFzofnx71d3We+stmWSDn8QwOZCXw7NzfctvON89/+MGH/XvQfKUXnQZ2RGQ9cRl7R9tv9cn1po5Y7Y98Tnz6otfLfMxXAvhY28CnAWjbX2DcpIR+9HkbpQ9iSMhuQ9pBR+pHPmAlP+v4SYzfPVeRPOMnsp0+bCel7AjK1ck69oxV+ruGp8n1ucJ4R/aZi+BcAaN7OQ79IZfNh3Yeb+D5ho79EtTTdo17BHRygUngC77lEeBL+ElKG+upf0SJI7kkVn6OB8gxEbYvLuF/L9j12T3cvMRuyZYkO0p+nOu11z5VB+5uHWB3GqODLW8cVTonvqmJ+6MfPrx/ulcL6Lg6Hnw7LLK+5pJovU333Itu44/L2X0Q9UmpTvr28Sc8yUtoJzEpwDnuRivwc+2k1Zd15dfqR0g9Qd12vtqrO33dfWZ9Bewj2TUbYnnSgNTRJvMR1pVRJiXWNkhfR3bGBi5CyVNXXsqOkDFWSuCB1+bz6/OGVQ+cdad5kQf6lOaeSJ0jIEsc6SVPf2lHPeMe6QCPfcqw41FGSj6RxG6UeMa0vvJWrHorJda8sm1uyTvvQNMMl+W6/18dguRNAp6sdZCq5H5my/gr+eNHT07f/Oa3h9cPTRdVZJNngLg85MtlqbPAzjeDzw9rjd4+CdZOAHQkoM6RLuj+jWrABW7vd9ruJ/elf0Lu8XeZua5oubJNF2BvDP217iY/1zdKGZNLW5C2kL73nf4skKkDUh9QroupgCc/oY+k5AvtofXYqqd/2qmfsJ3jTR9T95pfkDzq5uLlozJ8QulnhbIjuTHTF/WkBB44k9Kf9ewroGYLP+oIeMQD9k3eYewljjqQMilhe9V/GvRlPPLzm5iowzfX26Cfa3Qb1DFvxwvI08dZxwpp6QAV3h0v9oVBYtpDfSlO51rC/c2ZZPOpHw7Yx/3lyOj0tyw1v6j+9GvpThZsRZVzgsFXr/0XDxK73eg5ANpUZcsxeJvN6A9vZAxWt4o4cENzECeG8UDqGt8YmeM5Z3QWvdtwjlW6fVJ1dWwh8mKn74kBLvObSQklf21Tx56SPCmVW1cGMtbjx/PNOWL00O+0zzxohTxK+2Qb0D9tk9SjnGNzaQtdw5FstV9xjSeVh7KfPFIG9E2b8VvbwDmrHR+qWMca6NNysNf1rc1az7HSx1E7y4S6KbumN+WcP1Vr/5k39fRlnX7zOCOUL/jqUEcH0kcCnvoiecZZ7YDjYynWObYtGYOLgC24DD4w0aFMpv5rE52PaC7RAT+UxaeKKkq16Pj+ygKoYzr3SZ1U0wlKQN1OXORbcDAB8qQzrG8FO+aE9vkm0cRjd7zrZmzjuliIzHHXqT6WrB9yDznIOsg6ON8rLZosB/CYYC6G9pcyCRA/IR84rtCR3uiOPnHUSR9gjpG6Y2dfdj+Ty8pXJlZ59k/o58he3srXLyBfkH1GXz5Af8035QDRzJm9vxmHun6EPEmesJZ9UN45bPzdYoDOapN2Qn7mJNIepA+xttd4u1/4+7gA55vI8aTOnOZJnPUnPhJHPIBf/VtP/0dQF6RfeGtb3OkFZInf4ur36NvxqfumCeOiUyeWbqhP0hDfMI3kmdMrr7xUfHRrEekTDNvZsbD4sABgR8k9U76N2mSfNgDmkrBNflIxm0c5B3fXIS6ldjlQKQfIUi6Gz8EeG8fiTFs/7As6GRNkPW1ZOIV2kMhLbfjWKYmHXJ3kAf2sY6yuoCqPPLGjxM6HnWlf9gfC5rLvQPvUhyetMLY5pT2UtqmbNuKIpz9BrmmfuQP6lAQw14f2wLyQyaeuX0rkYD6VNpT2+oXX/NJrXlOLdllBfwLdzEO9hDEE7Wu8I9ntIB75zXgRXx/mrT/GxKsqkPKjmPDW/q7AXuhn9SXPMTqSi4vZoPMy6T87uxJvGqGVsHNz6Q/NAAAejOcnPF599bVqfVyD8pAsWg7Nzo2d6LwzWIe934Hn5KYTOYDgqFOJlKfeBf/83+6Xkpjm7YLpQYGfukmXPCfHpZ79bf8IC5kfOmLNn//7+b9u7DIoc0wo14dYedgmzzws9a9O6gLGKdtH+uVto/Gbff0kwIc+//+NjLHGsz19pGa/pj/w6/8bfczc4VOH1nFIOz9yCzIP5M6h9lGiOxW2s9js/fizSL/XYE7/bXDNdo0559e8Uct5D6HT/dkwYzjgtpBj97TclK962uYxAJmb/KMxgifZFuesVyVwFGx4w1+DlnXYT52kP7j/QdXnd7VnoMZuLtWhuYx3wXz++Xunt99+q7fuLp6AeFIieSlb9QCc5kOVKjkL8s1+pj18ctz7d4nVbkge/2921aCP68E8gn6wUVNe5nPWW+SZE7CdUAao52KoH+LMcRuf6VskHzI36Bjwr/vJerZB5ixW3SNkv1ZacaSTtGkdyurfRa6QMEfHGWIu+GIN5O0PzJfdRl6yN69kdT1xPj4XMXmuunwY74j0nbbAunpHUKbcnDv25hfsOpex0LHPtOGnndA+/WYdjP/hr1BXWbalo7xvQ+r1m0h9ZBaUu7OiCQI7dIhiY2Iy1h884Pe0Ocg+70lMF5FZPFls2K7D474H90up4/TS5568kJcDmXrmTBzQcvj43trargfVAw70+zQCE5N42M/ig+hIDyfisCIAAGb2SURBVBzxpeZsfIGVcoBd61bphEjIt66ckj5yXOQrA/qCeCIi5Tt/j+vYrbTr86JKC/4cj0+K1V/CnNZ4v1dgezFPNhLUjWGcFRlf2yP9lOVcsy34khB2mVIZ9rOevMH0McSAlutzjPpXnvo2QLfb5DIXoc0RrdAe6E89ZZ+0BHuMfZwzNuci6wAbKeVpD1JfyFtl1tPXEd2GVWe+UJl/VebJAntNQCTfunS+qY2DcsynkLyX6UmK8znZ2F0SqyZLsXmofp4Z/fC8+9zzwd8g412jFauM/7tdZfpe42Vp/ch/ImOtuvhY5ZL+j5DxS5nhuuBR4sP6NcpjbN3412znWEGXfGDe6qRcPiWwnXoZe4U60NpOvqB9FE9d+Uf9pZ2L2JF+0m0Ys90+/QJyyjZ1zg3ayOStdqJzK73+GeTorzh/x0SV9kMCqz5IHnXycOwyPu2VADqZrzarrX5T3/c/0hfg8p3vw+BdeGUZ8xrUUW/N51r7iLdi5Z0fpE+wM1idZDKfFOgyCO+8851uv1SX8Jg/4avxeIypXM4gtnZPIgbywYOHvYBi76LryQvWfI9wmOdm50Euj70QdX2VdczLSZQ+bScP0NY2faSv9rfpV1JbeZmzeiuaH35SZ20DJ2li5Wlnf1YfwHGBuIIg1eHNya9c39SBNsJYORaQOtQT2U59oO+0XXVAjr3lilUfpO/LWIwdi9MecwWstBm7HdqZG+TVj7Ta2a7R7e/77DeatoVX9A61ZPpbYVxIO3TlidSTb/wkke1VPuXMq/Tn/HEszQNQspl69dVX+xvc5KdfoU91wBFPZF5Qzlew+l+BXN+XZ9YGzPveyubIJNZkdAI86MXpdkk7EAfxW9/6dstefuWV7ZNGJDEnGvb9pSIfP+64Dx582A/R812gyFiAJ43LHIwtHSEHAh0PkPz5lprLhUNf8s66m0y5OOJj40GxlJzwvXPoF4WbPtIXSPszFX898AKesvSVcTxewHragWt+eufTNM+Vbupn6D9tsg5oS8CYgnbyJpd5A8IFO3PTj/yUp581braTD47srsE4Q8PTxvGVBLrkCBhHdI3p+K0xM06ibatc5drLS3+ps+pJ5idWOQSwz5zTZ9YFbfqMzfjZ46jPud8/AbT9wJyxQMaVgMdcZF08Lc+jtrwVtUb2UlleqxN1KQ3xUXXoo8f71no+v84EYPcIjxMHp5cD118KUvSkbHnnva4lTu+++153bBbP0mUBPfHICwPjgdh98crDScIl/sfF/7jGIA/kUWeMD/CHH4i6MggeB6YX5tJ9Fud8jLSoX9UZjXLT952qndS8iNV9qTIhX6jTerC3ca2ltPr43Onus8/XTqLGoW9jzMGnr/2JLtSr3H9gb3DWKf4sYLMwA/jmkHloQ5nI/PEFAfWMsfcDGQsYXzHG2KKzj6/+tJdnfE4GF0B489HZyXklgA51+yOlnr7VS/3MI/X0m3x1KZUfwTECxgO7/u4bUJZa+eTFkysq5HMv2PpqA2wndb84T8qkzo7TY/j1R4sruye1EakjVudMadW5Y7+wA/ZLX5TANn2zDqZkLPmQBO+I8xtFjCu+PXd3EsbRX6XRhJ1ryPiQN/PYHCwlfT2u85a6oA5h67G1bQ5CGXqOC6RMH7bTFiRP31c/C5+KSQYGqWNgOg4XHnI6/cEHH25vDL1QB7kGqnQx5cQrzbYBfJSTnQ2X99z3mDhzsIyVJYTObZTwGczmF+kLqK9fZfCwuUbaJaUPeaA4Z/4sOvajxWe9Ho/NTh7QtqnaSJDLA7TJC8Dr46HNpgPSt3XbQH14a1+pzyK4L4RHUB/S35oPpO7qK/XB3FqKebbxE9ojhzz51j4YL2OuPlMXvjT6l/Z5ord4w+hOqT6kryOZNoI2pE3a+bjSxlp09k+H2Td9QQllmYdUkTbZxBz/N1/IJGEcfHgsKBO7zv7iz4usbxwxz5Bju+ezQ/vbkLlB8tYSyj5dg7LOu2uFa0nszlDdk88gBPWVgV0m92bgMdmfrZPMHeXduwwQP1PxeG5w9wI6z4ahz6JC+fDho/NA9Uc/29d+MATtzOM2aE8vKa8B/6tf6+aY7aMy/dMG8PoNtm0youInsSB1pKei/OJZXWMn9AU/SWh7xLuGSz+Xfb3N1jwyz/SVlMBuFs057hkjdVd7T7ax3/uZNrfJbgN+1c/dtDGBcn2u7duQOuYnxkfmPu0Zn6HZ0Y5OxrRuO6E/+wJ2PRdeZRMD8ZHv3W7PP0sJOP8xkQfwwce/vWJB5vhSzzj6W9sg9W5D6n9SYDNH+wpwtnfweICQMbB0FIfc2wPT0ZKXLnzkjx+zTR/Zk/7uz5l8YDrAI08PTu+//17HaB+EKkJsJ4W5wLe+0gUO+Nd08alf+uirZ9Ombz7qSvZJ29038nnBmPG5zLs1Nh/JV3ZGyAHl+uquTH9HSB8JbdJO3WukjjiSWT/yD5RfAp3RSx8JeI6zcsYXYqw9AZWtuiDzkZ88S4CcF78cc+TEwzT9CuNJ6XuVJVZ+2l1D2uRcW2X6OvJHvxwnNw1g7Mgjz9tB+kp96+aROsoAdWSMK5uud999t9v0IfXAaivkKzPWxN3POXBkD67xRfqfx5gKMlcygZ1HAvBMiIGMex3VdiepPTIG4cHD+Uqqfsxi64ygzQP0vAPPd4Hy0H37bBmX+ZcniSQcmOSvOt3e6kdAnnmvdJ6I4bPbC4yZ5ZnqjxiJ4RN3xhB6Bp0idF2wz7Kws7QOrJv3CvXTBhzpy7tGQF/JexpW2+Jc2DLFPuLeGCNTcsifaoa3bbLOwIfHh3qP20bjf2CMozzXnLRLG2jlO/eHJqa66lgC9GiT77SHlxj9oZSNz8sc+VuRO8Sx2ePbXvkibYbI013n+BXoDtAZXztvR+cZBPTvcWPcXCxTD3gc95yGhPXdbiduAc791mmrk5TI9ioT2s0RPEAaZqJjSAlv7wiDAPVPc8SE4mOb7D6/8IUvzEBtE8IbxwyM4I0JbjDzHOhzz81jTMS6OTiXuMZfUVoob60B+fAH9KMv+5Z12ytWW7DaIOOFgPu8eWKPDtnNiQ8/bdt68wHSH0hdkDkA2hJQD6x2q61IG3CbT7C2f084+64qzY3K6XkxhYDxnX/EzdwYT8c0dcG1nNUDWQfoQMaTZ2l9x26/yswJtrajM30v7kZ7HlPu/etXklE5wzjrRmb3P9DnKpMv6Ke7eKAueuO/uS1LpE+x+lZHPeSOLTFdS5Bru+ofgRey+n+jxD4PAPUjv2uMNY68qwuoUBHaJ6M0O0+22zlJCey9C+TIXn/99b4fyv1N3kga/uhWul1/zDvj1eQNJ+rweWVTz4G1Y+Ayr3WwLjvf32JUpqW572K4CV/U83DxDfQtAXNIyjjXUToVucsb+vsBA77h1c/6US+edbTUvLDZ6vo156fndYnUN8+VPikcn8wT5FgCd27nGP19C/R1t7/0MDCX/nRbgbnC6GRcCL0cC3jAeBk7+WAdQ2XMUYh6+rOkyvdGzGbjEhd93WzIG9BGbt0d4Mg5VxBUHbMquKID+jEXsPu+5ANicB4Cj8Oal3ko32G/xufoU97sL7I1tsC/MdCxDnicEQLEzxz2HDdGD0ZS6pyVLmBOlJkfcY7yXXn47YzsRAZUOWXWIYEe7cdOJAZ0i8NkfsQg1I6Sj53B9iHwuYSfJHb/vNqwgM5PeUDzefnRA5Rjv58YkjZZXwEHT86/LkmMg1Olg5f2+q//6t+lT2WZj6CuH9gl7v7wtIFxtBfrwevvDKVc6AgZT6RvkL6FOaSu/RFHfiAnNXJjS/DShzbK5OGDJrymllCHt/Obu5Xncar2+FO3xSWbEllx+8UcAvowN9rm/ElgzuYA4eN8DvSCRs57PxOjs4/vxN9J7PmoSxz6TJv5WnlUM30B6h4Xyxmj8Z25w3OXB3IM9Il8dGbB7d+irzzHZstlO2pPgz4zX/xkbhwnNmDcAyWefUDH4yRpN+clu1f8XuZiP8dmxt4x0Pc1HOULbJ/vga4woMBASpAAjxywa+RNIcAiiS070/ffv986z5UOyVNnJ6ovJh0E5qDM7hWQg3rmI2+VA0uQfG27P1UHJe0SGaB1bTD1hRy7fhFIKh9JYEry62aVVa+D2zmdw2x9qX/2TZzrOijYh4wjOrdN136Yt3yw2vaYBFJGHdt1XPSXfkHyJeNB+Mk8LcHoEwfeRmFr32FrB1/YD/3PTgjO1Lu22aGj38wh/YnkUTcP2PjhZJ94e65jc3PsgXJll3J59GGPbTmoHMIHfePj0qljnfwS2lzGHCCjX8rUsz39bkm39bXCmB6PjKm+pXmCrHsMuZXHWkDbcQepW61zG5ujePB8kUiedllaB+v4HWG+TGQDdZM3Wds4pm5boGdgdZBLjyvxZ2oQ+EQBunSkJK3rggrRZiEd3txINq6+EvChBH4s14ltf4C8pAYxsh3o+EXVu/PH5SD6Yn72HeCDKrvNZ59FXuYjqEV38kGH38hHrs1aZh8kbZFZN/aahzyhD/lrW8hfdVMGnJhAvSRgjmCV6WvE8JBdziHh7gE6220yMD4A8wAfzC2eDtkXzJbW+JiTlLGyLtTDDqLflMoAc250PFmnH9qqJ88cjCcN9rZ26lI2jxeGj3iTdnLS9ig3oK35608769pQ7vNK+b75gdQDtNFPpC/rINvWIfKC2HyxHszGbI5Xxsx6eej/aeKD0lwg48ijhOcY7X52yEtbQV06L6Amj9NJYhSoS8rUlze060F96V1/jx4+qAXno/5o5rM8I8ok4690wEyy6agD8fzzz53l5NSo5ppTwn5YHkFZ2qdPbjPwTi8SddQD3c/tsgwb7j3Rzzwooy9d+vHNj11nh3nA93Jk6pd64jLexMnjA5QnzzjSjPuAtlAO9Ju+juq2wcrDF3V82U4Yb+UL+LwYOWxH9ntM8vU4bQrb4mwOu+5O4IgPJZ57jvv7c8zXMZ+5sC/YKwnqN8f1so5/+zm8gbyW14sv5xRxd9u9H443SB6lfmhnHElQHV63LmRi9zWyzq1Y6OLfmLts9MX4n1st1gF62bZue/ptnFnw5+rjctdpvNHbc1FuKU/K9hHupLMV8HUqTGYmysFAFMmnA/fv368F9MnpxRfv9SVsReu/8aHt3OskFyYnbzi5cLKF74W9Tog11o3YS4clcRuf2P2RSbLb3B7pZXvi54mrXBpow/+zNG61fhJhneAcj6GxGFtiZX+pcwzAOuko1ZcH5Mm3DlJPqKcs9YW85GtD35zEyRdrGzwtBuSL2IrF7MKmWk17e5A6Rz5XpK35a0epL3bAsJWlXcZK/mBshwb6lDjuvnE090N3fuoBSnNcY2abOsfL+ejcYheI2vzO/470J454AJ45SSDLI/6+o993n8ZYfc54s4bMIs4z5+Q+Hz+dfvU6sl0dQGAtQfpNUgbUP98DReCgJW6T63hk47gMzgWfOHrv/fdPH28PzPf3F9bkx02ZVIfo2P4uIPc86DBfpkxciE7j3zZ1BsO8ADygTsL8Vsq+nO0WW32hL7Sl5EQ+51K0+gXwLsjObzjHLiC3DlKWdbD6FfpQN+XynVBQIv2rJ49+Sfo8IqBN8o6AnrqWR7j0XTnFLqcY4ed6LkL+qgdsH/Ux4dVWjo86ey47Vvv0mySsryU4x6vzjbFwQaj/mg/0l5SgvR5L+ZbW8U01ecB+JgF1ASzr2qvr/LOtfBa5/XlQ6vkiLPQrVvmAeOjhm75ybu753AbzAqkLz1xBjeGc8AhyQjjAtgF19aTEpQ8G4+PTB/c/7EWj7wXe5bPu3OPYvw8RfdvI/NincAE14cznGtRP6nhcAvY9yVnQzUF5xgXKVjgOACnP5/LbNfq8NceSYeMjU/rPONT1sZaCtmNtmXQbUse4tpXhE0Ke43RE2ugjZYxpjqt8Qd1xSxn/9xMIGzFLe/pXiDu1G4Ia4Wvyvuy7/TC3NVew5nOEVeeoDeE36xnHduqs/JSDw2PLF4WcuCqD2CFWH4t/pNv6BccYqGfbuucFbXUmD8rxkzmDtR/lvXX1AZCnT21przx1uffJI0zUzUmdhD6AeVDOpxyv0eV5nzHgHeUFjnLtEUxnlEBFZSsBywxCDf4kNJ9rv9dfjjyvJNqz04SefXaeFyU5+PmuW+tWHbv2XXHgr8j42CQucqt672C6vByc1S7xNF3aSMnNXFfk4Kev5Enpv5pNU9/t8JeU0F79Vc74erIIbbovm136wQelsqwn5N+ml7yMJ4x7BGQpp77PW/xc+gKr/xWZj/UjMnbGhC+sp56053izf7QzTuKoXR63Vtly5Rfu1E9flB4/84HkUTJvnbvmlz5WpJ8V8PQLqOtfHjo5Jsai7XpgPqwJ+gBHMYX+rwE/IH3IsxRHugIZ1JfwKNgZlUmkFaKTQJ11Qsz2eEff8K8jS6d5B542/nog67KjvPc30OOBy3/kfAaeV51XXnnlHJ9LFHdrDo6xzR1Qt1xJX0O1q61FtC4K5g9GQR39gunXzb6vGL8c8Pm6r9QZ2U4lVDBlYWRcpty8VDmj2IyWTwAYgViOC3XsGZ/0Iz9J2G9wrW8i7SVjg7XfyPQPgeSRJ1AmbONvzUle+tyB7rE+GH1iztwEq/ymz6dDO8i+ZY7GSNJOrDKgXN7sAtlYdLP587Ho3e6oxI/jDvL8MT91gLbAHMTNdv9fNpNbyqeOz8v5aV0SLrDocDuP0raluaedbX0fYbVJwLfv13xov/rod+FNUGpBJZoDrYz66gTAGj4JcGA4WVgwP+4F8e5z82bQ+OSSbk6evgypRZKtNW84ff3r32hbY1cFb+W81S/yW/OgLSVst6xrlWH3ZWsU6JeDpw9iHMGxOI8Hf60/JPSZ49bfyBSkjvpHKLXGpXzyw0ci/RkjoTzzT5sVmeM13WybE2VS5oG+uT3NP3J2JGkP0DF/sY5/In2PzWUfhDkdQVviAnWv9TFJ2F7Hf4X8lF3U+xwL2u7LguwDMTJHedkHgGy9hAdHYy8m9uid89hysKwIZT/HhjpAdtR3c5RPbK9IfaFIu7Slbs7WpeQB+0MJP8sV8pBLAD50XiFSYB0QdDp2eRDQMaGy6jqDeZd7jKV799nninfn9M4775T449Pd5yuR4j9TC6U7yvbV8eYk+fDDh/3dofyQVN9HqVeuu9tB9VEn7CbW3iE7Y+68+4ZO8mg/efSoJlot1uWZ41meiu+ukT7TZhdY/qv9pO8xsVetfj6zvfl1h3ilW2023bRLs20ALxrGnvaeRzXmfl7VuWfFC4r5e7N73knEB2O8599zjzrlJH/267hI9lcyhro97gVzyzbQn8BeH+rmGIOMqT6kTDnAhrY7jtugnr6AdV6I894WbGWW5kRMCcwVE7eK0IU3c6wHto6oetMeXeromz+YOn2ee5E9b7dyX9D3Mdn9jq1t5SL1IY8bxIv/ncq5Mu7776Vx1sPGPref6hP0UelXRtHfvV/0e59/VbS/4dF2rIS5EWPm/Z4n+o9rbng+jWzGzjXEPLN/EDBv1gPAsccfb9iCPW4nerYD1vV3tPgbFzhOUNo6x43lPLWddP5CZZF1MTxp7yyDNI73pNGhYOF7/Oijuiz/4PTKa6+c7t17HqXSrQRrQNHlmN3hOba7Y+uJQscfPXrc4fDfugTh35LfHndkSfL2snKr/9umuWD4O6bdj8rUH32cyVC59IlR+deLxEyE0iyev/EEj1dM8wHmlyTISd74mwM+Ke96ZxRrffNJ2Gf5RzpA/hElHDeRkwbdPBFug3lJwFhpaz11k5gbOZGh0R/ynfG1H7SlPDFmcdj9D7//71Ie0L5qUdcP58C8MYrtyFvc5dAwspSyDfBnW/8rVRgUm2i3Zf2XfkRvWFjA8Adt/DbYgCvLqSPTF3nsubR0i0EBKZv4SKjP/OhW2622l7mu/qnz1ZbON95UygVRfecD/HXBXOtPo4Q84xhDPcueUTYEyscY/k0xAfAzvlgY+SoyPgf/+OGj0wsvzLfLP1OCknJoql0DXJaQz7QZ96IsYv3qS+4tfgKd1O84GyWSr81Qhzi30270mQj7YgEB69O8GW+XD7V9UT+oXwTGf1Kzu86rNSVQvxF1fWf9Qregb5E68NNOfpZOUBefnLAQbZFxBLr6W3Gkr19hW95RG2ROwrjJA7R5wTvLexYK6ua8zwfaxnAM5A92PcvbKHOini9IytUhXr54/F6wR5l6+hXy5BtDnmOVsVNX/m7HBoPFbHaR6jyN6B+LoAshPOuPtyuexJG9deVirWdbyJeI63ERa73PimvOErvh8A3iieXusZ9P6/Z8Fp6FD8vHjx/V/yU529XBgVN6+tIHPhk40Itr8VZokwTIU1qReiJ5KcM826XVJQcpJ/I51zKAf22i09aWy3cBP2XCPugnS3W1PSJ1sw2O2kdQz5xyIh3tBI+QMm21uUbq6D/hmCSBVS99AduQNqL9xIvV4FIHpM/MjXGZWwirjx3aJh2Nn3VL/Hl+gTkWN3X0Iy+BjeeV8677vJBIH0d+1/aKtEk9qkf8FchmR7+/A88YjN2M2VH+8O2nsD62xyTWuoRvIS/rF5+F10BeK/QEmYO46146GZtmzUGuy6ni9KsGl/JvvPFGt+ddapPaTs6wcwDOi+c2cBz4PfbA2NIRVjkF5K7S+z6Qr5q255MXlEXM2/56tX2y5rjQ5kMCwJzFjM1l7rR9M0l/c3LsoA2lL6HNbXjaeEmic6rcKbVNH+iaj7ppD7K9+harDYD3SQg4LmJtC/txFNv8laWOspFfjgewnbyEOyawlteQfVA32+Qi6IL9WCHf8VKNujHwvvoUxjwCNuZmHP3MWO0yCXiu1ZlB60w7f9qzY2VOkcepb+HBY71AzhcW8SOMxgGZU9avIfNKrH5Sh/rqO+s9iskA2V7jTad3GCwHsSrF/6jvYdx97rnTW2++2ezejZYMwgza2/uJyYFcO6oMOgLyxGpfGk2XBw694SkfivaWJ/XKoOvmSkmuvFC4+Oc4ZP2cj+3+n+b0Xz2AriRSvuqvyDHSxzX9p/H1dXRM/n+JtU/Edfwg24A85FvPPFeoC35vfbgcf2Mk8Hfr42cLzEN/lOPjsh/yPqlfgO7af/11XHxt8cU1/+i3zVZP7DaXfKAdNLHR0Zf1nX9Ed++yWN49vfbap7rkY5l+hV7itvFxbC2B5dOgzaoPf/q04+Lr7I4CHCe5J4QJ8r6JX3+8yUEQnue8/8EH/ekfXkm4hGfg+vnQWly5r8nlOYsqwJ7nRV995ZW+9McHk8HOlNFGxt07aAnWfJHNu3/TvtmXtY3NkEj/CGgbhzq7bHfNeZl0DfQLvTVPbeB7sKAVR4uZ9mvc5KfPVdf+JGyv9p3/RukDHPkBK1+f+gX6TD3baY+NbX2A1IOEdfTSf+pK5tDzmauPjZdQB0z8/SRVpj9gmci8s4Q8PpnPNRjnKAanKa7TJ9Bv2qa9eUgg5WByGrsZq5Gj7zy5tD3I7wDqYs93YrAmAG4JsoZcG4vJY2Tmklj7Iq1tebch9S4W0NV4Al46V8eETIp3qPlBOeQsWE/qVePDDx+c7tQrCNvv2aEV8bcNeJvWf9S5vH/pxRdPn3r1tX7jCb2Rtfsq8b1P/gS8iXtzsRn9ocl3Lj3TBr7ttS6dfS186A6XbRH7Qn/DOTd5VRrHyZw+lUGjvrf1f4SU6esa8HV0Imm3jqe+lEsJfSRWHXFkSz6rX/meIID5BAllHk/IXKTENdllex5bSr3MQcxCC41u5m9b0Bb6BOjg2z7Rdvz3vu0+4SWl3zNab4/B/2xYiKFPfYE8F/RpO/MRuM1+r6TfTwL0iQG4ooP8BBLExmviT1/QvUbA+NoL5UJ5ksg6WOXgckQCtwWq1sbbghTROaqPHzto3AP9qL88+eWXXyw5k34eTcKaxZAaA0OkJ32/9G7/Hnx3vLbs2/RpXRO/lpd1gM5ah6ivbeuSOOJ1XkzInpToFG/7iKpfasvO2jheqlCfkgk6RBtkHGMd5SUhy4kusj7xhpeT6IjUA2kHaBsH0hcgh5sn1H4SJNJfQn7K1TmqJ638bDs+0JqTdeWrLOVT7vmJ1EMmwTO2oK58xcq3DWUMwWJVHpuUr3p7eyhfZOC3/62dsYHts160x+fUc3zlQahjwzzJead8pYQ8r+RYQLEl//VFRdvVv7ZA2UpAe7DWJXXHznkvDeD1GZCOx2APJnScWHVHPnW+SPnBowcwF3mzzna1FjEdTh/VjpVXR77OrgT9wDnEdw3X0jz64UOfDmj72g4abXkpH9oXAUAdO4Ae+jdt9vy5HdETuahaWx0bvkWfB5bxOTsXegZNu7MvHzXkvEG1+Wit8guRh5MlJ4py25nPyj/igZUPqBPHPirzBHA8gbbqkmfaAHXkqZt+RPqC0p9t7eQD2+txWuUSfGVgra8kH1vrAt46NwDtPF6OHUg9kXZAndUPkA9hBtl2DLSBRM+zfqHeX+x84zLfwATWybnlm74yyD4pp1Q+7XkTyLayLO2nJIydfEoWRH/pYnzMGCTgS9hkLPNUlqReytEnprnMhyHaW7WZnxzT2fjpZ3q6QaawfUQ62rEfaAbywwcPTt/+1rf7I5wsiiQyB4HLeA7EWPVX3NUfX333uF51nn9+7nlM5/n9+FpQSrfVL+JfwgEBKc96qDSwIY5EO0/cxFF75R0h9awzBsQgoczbPEDmoN3YXi5ukkgd+yc/dbMOqGMDsFvzkmeOyo/8KNNGO/kgbcCqCyXf/FY72+gA2vKsP43EHmu3zTFZ+51QX7569kXbtF99iCNfl35Gx/FQbwWR0FdX8n2H3d/NvG6js59oU66QZ2mMSzBfpsb5z/ln/1jM+HJ1bl34CUH0jWlc69BtqF6e+4qdJPS1taq9VQPD2+f4+TGms7OtrNSa5jBcBxq9oSo9Lm25F3rn7vwa57dYQO/Wzozr2g3WjOsgPHz0sAbwyem5uzyqMAe1ZTV4+C7GliM7NAfycqEBoyMx6PuCyC6QunSpOzJ3Qgnbq+6qR872C6T+SqA/kXWqHS2/3CiVbCbR+HKSJ61xEmsM9ZKvDBzprf5TH3wSWeqA9CslaDumKVv7nISuNpQgZdmGjtoAXYm5x44HEsqIcXTclcPmaoNS3ST1xOoHJA8bIZ+8qc5iMu0d1HnhuTlHLuJCB7HHt305licBj82uP/H7yixK4Pl4SYwLfeENY2LMbT3a81M35PKkecOfuOaw5ruOeRJfYoRe5p9Ahh6xXayB+rvN3p6eFRRikklJGHWxOW30woi8Qj6ZJKmznecNJd4144tEeFedRYGPbfaN8FKyU/jmPqmvPvdeuNc+W85izKgS6pz81Jno6k1+x8g+aDflJYG1DtLeNlAuaK28I2CNnv0CayxgvzJuto+gH8o1F9rXfKz66uSLyZEdbfI8sk3d7EsuhonVznrqabdS2qadlEAmUke9tW6pX/qSSP1E8o1Jm11VbyoOYIzUd57ksTgId4ij+LngQfTnaK5ZWsdmpWvHUmh7G9KffrCjv4C1oz+QUzzlq76gTU6MMUQ9SaQfsdYh+3+zHzu/vWrQ3y0ogbJTcd7NY7A1RlYnT+kSe1bsqvdCW/q1oHJf8LXXXpt2TLyxnaSwfbYm1IcPH54ePXl0euHll6p80l835052BbmyEJv3inN/DmRPQ9qZ457rJR9c06WUROYD34mbMSnvVr9X3WvIGKmHPe08OdKnSBtgO231JQn4KUus+llC+gb4yEmujiSoY5e26wmS/U3IW+3tw7W+mFuW8q1fgzqr3tpeY4rsV2J2dX55iufV+DgicZTvNbn8HK8jyrF8GhyLlXJcAZspfPoIE3XWgXUtuJZD+tW3pE3yxd6+OU6iJfip9YfP1pyPDoZHAY8wScyBo64tYIHtm9QVoF81q803MyHfD8blYspO87333zu9z+8nlV5536QD7RyooZEd5bnrrDSxj2VDRzCGcTJe18usrDfOHl+kfWa6xt3b3byIcw3p4zYS5pFIXpbOhaf5u00O9AWfOZHHMuNYT6iXyBhZogv0BVL3CMq1T119gNt8JLTJPgpj9Hmx8W/zm/b2ibY0MMeRS2D13DmFP8ba43K2Ofvd8zWe7SPeEfQJUn+ltMdGHk/kODdyXtCWgH6A+UHJP6qvtCL5xkp0XlR4QSvVG87gpWHKyrzr3fnSYRcpD7eskb31Lu68cz262lNah8/X2PEb8o/LBj/wmGjET12wthPKkgB+kq4dEOJmnuLIp3VeAHwwPuUgfYOW96iMDKQN90E/ejJtczki9fUhtFMuaK88kDlYQvC5DKJc7Y78gGv8FUd6xqRUvubmyZR8yP4qO9KBwDXZKnd+rDrqJY54QD/mLdBf2+kbEdWPmAt1HuXxpKRdWu0D3bktJY3fke11cBljH+usA0uRvlKWfJA+lO3ykV2j6dPeV3/OA+DDS3KgTcYwzlEp5XHQR44tGP7lOaZuU3N2mFEvAE1lyIKQRqNCeRmckx0OAbnnyW1Jdp880/kBn0Iqk9dfe7WCTkJgOlAHbEuQJo8q4IMFl0lwjlnkIroPwpQj3flJw69iQ/PLLkGM7utC9k2Mv63Pm1yeaFktek+Dflt/86MvyvMk6Uu0XQ+ou9IqE2mXSJ8i+52UthnjNroG/a20xpSUC3WPgMyFCqy+rvVPAvoAR/MApI5YdS5xM9bt+gM06Pm8xXBsRx6XY3J8nJWjuyLlYNVPSqQNOPJ9id2nx2n1rWxr9loA/F343LXnuYrMF/r0B+xP5ps68ldb32xO+eoH0N5mXP3j3mZRcfvATX2EGlJQ64UWxub4I74k5Akfs5oH5Z+U8NGDB6dnn3lyevnle6fHTx6whPYndgBf63bn7nM1KMWthYdHl1g4ufdxl0HsHCq5WkjoEosya/0srrwqTwcJZqcvB4EsKYf4Gj1+hAxv6gPqHAAHx34CDxI//9HrWd/zKHveGawB8ouWcccLR12c1iL6uCJsvspEnzcuWyMPY6oLf6znJHFyAEoJqJ+8rAP9HhFAlzhC25Snz9UHdO5X6ErqCPnW0z59rHbWVx505POaTCADyRPI8oQF6cO6MSR5pVU6zHXGFd3b4+rzTPXXPvnxuJp/8tO2/jV81x/etPd84PTttBH0OUWJ7NoxG9XdR7f7VOM8GVnzQufSFzLajN/kDw1GFxLjDyJ2Z9wlbIj5n7H2OEOrDEokz/5lDvrIkvh3a32aLy+ZNQcedUoWBNZIVpT9C5U3KtH2Nwr4mwQIUI0ORFHOECLvZHg1KIfVYf4+fvyE//tddU7QSXqe8QJ4pME6zWTtHWz9PdsB8Vl5FY8JMAsoeU7sTofAcKdxAWOMzvg7E8Vmw2BJtoXj0pfmtEu2dZ/WmWqJbR7EpKkeodCR19z0L98YgjHaeftEAfA88OpkXVJXrDKx8rKe43AE5Ks/oV9phb7Xvq1I+2v5qAP5IqWNJciYzEWIurbCeuZFPdvEsJ62K8ZuTr45AS+hraUxGrC6yfybPmUOYOYCORz7ONex3UpAHX19SoK6/sQ025LKDYw+frCn7tjsdRZRNlh8GjE3FB4ziP4wZpbYqgPMc80Z2M7jK0//kMg6yFzGBxuXm4unx/K8yevWNVzmWE7m9eFZEoTBoPBuO4tm75QqcJV8c8rDR7WYPHu32ndrcSTZsuhxmFcykuWbVnik4+HDB33Zz3Ne7Ot4Xouxx6oX16LBdNpBSlwO0GXi/DwHf0xGdr3oOWAOWoKBzwMB+vJ90wfGp/+AR7Fq+S/52BsDHOWr7BrcZR/ll+1VR7/mvZYrtAdrnCMc+XOXrJ9EjuERiPl7iXsEfaQf9eFl/5K/ImNQX2MaA3+r/aq726N33D996Fdy0Uys7RX20bjtp3jmZVmVrRidJLHa9Maopm95vnErDHiMJ+alv/TbHmqNOOdyHpf93EhbdoGer/q3BLaTrgFd7dQl7+QDx5GSDR856naO+zaXNro8qwtrMrvvy0D8tpCLB7rzSnunLsGfrwXr2dODh0/qMv350wsvvHx68ohHmvhY1j3W3EmoqHeX2+D3w8ssviRZ4mfvPnvi95XQtVNHyJyO0AtX/XMRdcC0o5zB2heS23AYr3JkYvWbZdvD8KlH/fKFYIdjTZ6d64bOazuR0pfQBhzJhbLUMebTYOyZOPu45XhB+IIvsh9itYHSRhhjxREPZD/UIf7axzX2ipRdy+EajsZy5R3piCMZ8Z0TKV/rKTd3YB/SB6VQvuKI5+6rf06mF8EhfQ+N7hHwOQvn/mzm+LA/1IcvOFc4n9xlGxPgL4+hfZGfBLTVHmSsI+hPZD1jtxcdZ4Azpn8BHbv6z46SHdjzz71weuHFl08v3ONZzlNdvr96+t7PfO70PZ/+zOmll14uGxzNYFbRO00/1sjuk+cfy3t3jp0yUfhNlzKo2nUcddQcocryom+T9yUv7dIfuGxviUnd3niNqmx1Y2D/eHu2rRiHr+IJ9DJHSDBWyC9zGqjn5FEn9XPirD60Vz993BaXyW5Mga/VB5C36q/A3hPNuNLqE52kFfKwM9cj6HctM5bQZ8ZL3Wt21/iJa/mtWH1RN+ccu4T8p1HqlufyQ0635b3bgayDyzwdV/Lb88bGmPaDqxt8j/+bi97av6fhmv4s8ONfHfKgfluM2gReDtoNwD/rDKtcdns+VYSTWvyee/701a987fQrv/Jrp1//zd86ffe9D0+vvP7W6b/5x186/fbv/Den3/qH/6g/rtkDUjb6YzD5xBKLJ899FaN2ondOj2sA+/eDao3/qHa2eWmQnTL35Fl2oC3XncbmaCK1xdn2JkaHWEW90yy72d4Or2zbV++cx58gXmPxnzlLAPv+vtTQV54ndsoTq6zz2nJaczvCNb9HIB9zshSfNKb5JXmM1r4A28k/j3FBG30J62lvXVnaKFfnkyBtVtvbZMD2kU7WyY96zoUEcsbjmky5fpIPJer6qTY785tE6e/CdxVWtU+/6p71e1GcRcuYyIjBO+98GTtfg8ktvvF3M09h+4gyrvZZF6W60dhonzjicfafnR0prGjn6Ne/0u4O4oZ303/rt3/n9H/9L37x9Nd/+W/UAnr/9MJLr5z++v/tl0//8f/pPz797b/9K7XobLvLjof1HER2oS+++OLp9dc/dT6o3GedVx9wmaMwXymhvtjbN+2tr8Bm9UPOoCRneyh1W2Nrn3kXepfx1AHNr3/w2C3p44ZOIXnCOJI66SdJZNvSOCDriYwF9AOtskTyLbUDaXPkT3nqCfX1lUj7VS9lksh22mkL0m71Kayn3Yqn6Rz5tJ22ecuI9ielm/rNaqxxhJ8zT2gvzPMaqc95/7iu2Pgk0r5eOB57XkeQjz/LI1qhz/S76mZd3TtHW3MNjwzOb9+XCCk3eXlnjS8B+eznPnf69Gc+c3r+3ot9KV9Dcbr34ku1yN47/cQf+YnaYb5YA7M914nP+uPz8R8++KB8P+nPzRODwRO5o8HOBTYJ0A9/glgS2OMH9K55g33Sv75F+hfkDI5kgicQDK9vsxn7WQwyvnr9e/Od//g/8wtZF6lnH2mDC7+B5F+rJ67xAXziMXaOX+rm8QPmm9B/6lHXVhvt1ra2ayyQMmmFOmtd/4nUs0ybpwGfOc+or1DHurTCMQdrHtZX29RLEmsd0ofxjnI58pO88UHJgsijSc0+w+PC4ukzoNSJl360O+oTMFfrK1Y7kT5E+gRrDGjbgTb/GJviVLdBhNdLIJ1sF/1q90Zdsr/++hs1APywPvcuS/fZ+W2T7/3e7+0t+eaqUItnNdhp3r9/vweNVxxikKgDSnvfiQ7g7TndfpLqC7ptAohL2eXA4Gt/PnaQuQLblFyCE6+BTvF65CJGeRy/QcA+mK82qx5InmQOksg6SN9HWPUT6X/N0TFnvMxFrLqSWPNRX53UFdd8wCO+ddupK+Sdcz/QAeYj9Ju04hpfKNfvtRjmlvklH2gLKdMegr/OK4AMyH/auZI+wZGdvLlUn6c1kK/xs2QD5SaK9uR80790hOQ7No4DyLxBtrGlnvog5eZQO1AY+yshC6E32stlL5MXnS0D3LSsmsjho88OErr//v2WwcPXD//wD59eeuml/ngWA8MukIWTRbMfyt8uNbgPio25UBfEyNzMifbclN4nDzIHRD0wesS63K0Szvrdu9w6QJ8BH12o7Wp32DvY+qd/fOtfsOBD/awYty1qwJ6tCXT3Dk/I1uQpnWeKCRGr3yfb2vqkj5D9scz+gFWOvXbUxVG+6gJ9A2MztvoVtrPUj/7Va516gVVPGch2lta1MRfbQJ5toK39lNADHI/5Zcf9xVh9gH9AW7/pQwIZVyQv7YF2xKDOuNoG6pmP81yYg34p9UOJHN4aVz1ALEhflNbNw5ja6A9YN07GyJL3AjCnrKjnGEP0jdjj3xyEceG9//77pw8//LBzQp9zMc9xoG9BPcfO/qqfQMZcoEQOZV0bc888Bby+hDewyejA3YMynSjnMYNOuDr36DE7yOdPr776atVZKB+dPnj/vdOH998//dAP/WAvnDxIS5K9cJYNE/q5fg50Pvf6/PP3uk4s9IxrPBcmCL6yeQd///0Uc0UmqMPT59qnlSf/NjjggrYnKPwjqmG/8G89eQBfELwe4y03ZcBcM+c9zp7DbVCuPZRtfK9jIj956cdSPaEMKF/rABv6CxwHeejRJh4885CXfsDaP/OBj40nkbK0R0c9KXnWIZF1Ywrr6KRsbRsr5RL5WmYOAH3HZB0XdaxLyIGxKLOeJcj6Naz+pWynjnxK/FPOcZpcWKPggezbUS76QjY+LvMR2qaP1be+Mmdl2tVVNII2L5oBVxkYWPqo2DWNa9H8uH+2o5j9rhkyng19+cV7p9deeen05FEthE8end586/XTpz/9dunPL21CwCT4uNQHHzzok4M3kuhA+yqZefCqRd3FCcxHxeZVCV0HS7/AWPo0vgQonYzAAQTYCO3lZT0hzzxuEqO8t8XaXoFfabUTqZP5yTPGGif56qa+oM745BgBdC1vI3Uca+ouCPIpjWMMSgiZbYC+9quO/vSpTsrkA2Ur1HmanvEdH0Fd+6wfQR/WE+nfUlJ3zZE+qpsvwqutlHmZLz6AOqtN8oT18Yc9eeznVvqw7gsmNr5Qlqdq7zrr8ZQS8rCBALYrP+VCnawb7wgtn0QJsncKwjnlmrSY7qFblWKXRS2oj06vvfby6a03P3X61je/Wuwnpx/77/7h08NHD2oHys6yDmDFea4u1bn/yUCxc3z33XdP3/72ty8SnkH0RvLe8X0SzKCgb86ZY9YBdXSENpKwnrYrlB35oMzYtM19ZM2+gLZije0xgBLGyXgAf+ax2igDaZPQTts1vxX2LX0n4DkGK2ljLunDuvIjHaHOEbSV7FfmAJSpB4x1REeQ7/jZTjt5KzKm5aqfbfUT5q7M/gjqax/FqneENXbmdoRrMbCzTpl6yGZBvTxW8LM/a5lAXzwtxxXmg51zxPjKRDwHug+qBOYz6fuB3PUmEO+iU6ef0JtvvH56tXag3/76V2o3+tzpC5//zOnBhx9UAlzCMyjVmdIvb5ufWSwfPuRB830wWDjnnsdQx6oA3DMclcuJpB0w12t19amvA5N+1vYZ5U5fknrUz6hXz/1d9anP2/OhU9DWeFBOlIwDP2VAWdZtJ9LGGKmXdsjd3dm2vvqm7TjalidfSrk+Idqpn3xKgAxkO/XB6gc6grKkFUdy46yAn3QNyvGXOcrvn3lZ7JWddbY5sM4F5UC/SUdQH2Q9od8k457bsX4I68Sm2ufAMveFtowJuh988P6Zl7Kk7BNycpK32gr1ctzSD3XJ9lE8dXp5xxH3EXFaLVjnwP2jb2Usxgk6Q/P5cha/ClCL5Iu1aL74Ag/Ank4/8H2frXpd3vcbJJV4vzkzN6txgy/qPNpEu+PVIjuvPiyis7jCzwPGgrrumEHWQdaB9ulPJE++9me9ahojSZu022VlX33300fzJtZNnGMU0v42ShuReQD0gPxVplzIk7/qWE9flDl2SSLbKYe0xTcTVb6xjWkJUqZ+QtkKeWmb7aTVb7ZTL4EcniecbetgtREt59+mR2ld0Nbf2k6+dU9+80lSL+NYptw6xynb4GwbaaYc2EaP+v6hmJvn8IT/uN9Aarf131yFXu5EQdpKwn6sMN+0kSclbK8ybe+wQEE50DnYuxFlBa7/W0bZ/3uZcDo9ePjB6d69506vvHTv9FKVf+CHfvD0qC7fn9SlPdqAQWtPZVBuKtYMKD54U4k3krishzf6IyMn85x38lo8uWw0PkdAHV3rIHVTP9srL3Hmb30R2kGlVS8q3KrwPs7A+uLyAmM/8LgA+i+Zn8jYaQ/QO5KlPTjSESsvdaU1vywhsPd/Tuqsm2f6SHnqyAe0OblA8pKEbfVE6iGTEqsfseoJ+Bw7SmNmHVC3rxJQd4X8/RxgfszYOE9A2usTZJwk9a0n5BFDqC8J66tcPih3BWJ5LGcMAM254kwbjy/8uR97NGbrHLEEyZPUhVZoJ2ivcdNXX8JT2V8VdqIDl+2BX+32cW3bcVzSlhe7d6tv1GX8j/7oHzq9+ean6tL8w96ZAh9FUJ9vY2L3yXOg3/zmN05f+tKXT++9d78/0vn666/VbvaF02uvvdoL60svvdjPk7755lvtn3f7eTQKmR086iRYO50DDs5l/z+4bZBXrHqMw3gjzj4BycMcxerftv0AyQOrj1JoHfWyvuJp/cKvY6nOGo/6Sug6rvY3oU+ALjbWRfqSr555g9S71h/tQMqzL/JpH+UnidRPPpC32uoTeEtEPUhQd9yQA8cy9fQ5/TjOddVfSejfBRi7JHTTF7Ctzm3Y411efrtQCn3NLb59rvSXKZc9V8HYufDufi8hT3/jc58fkPLexW1Qtue360OpAzL2M3/+3/s3mjvMNanLNjo8tyloY0bHuTdKZ++cnj09eMBjSh+dXq0F79Gjh6VYA1Odn+TKsJP5qHea9+69cPp7f+/vnf7xP/7Hp7ff/p5t4O7WQX18+upXv9JxsHm+BvO5555vGXZ3+bzsw4enN9944/TpT3+6B5vFlBi8m58DgH4/RlUHgsekBDL4EJOb9vnVvPu29x9ZX4aXOO9TwQcX9jwvun3AAMCnXwLb9reVKc82fZkx3vXPCNvWrzY2PCJGqQ/ld+vFihKf82mszWfVu0zfB9APPtWlpL9rfrYT2IGZA/NxPaBPSm3SVjsA3xjgmp466U+5Pigd34Q26qsr/0j/mg/42mcdUKZt2hibealcvnog6yL95pgI5SD9cTw4lvK0h4cK8mdrrjyqnPQ7c2kWO/1kKX+uJvHZog17v6Ysf5vNgwcfnn7hF3/h9Cf/xJ84fe5zn69N1bujE+sRdvg2njnRVgbI8WKu1bk7KNutJpCn/hHwnbGf+Tf+4v/g7Ick7FAHaEnyJiGgIydhLyqb067XYLO7rEYvJgZkGMpL1ceO3SY+vvWtb/V9Dxa4Dz6YTyZ95zvv9KCyq32uOoUedRbPSvb0QenfLT4LZh/gIhcQwMHHHwsoC+xrr7zSfGx44J9PPiHj95zIAyIHnk29U/rvvfdey82d+70fPSKHrV259IKJT/SKz5cuQHwdH99QBdBzMkGOHaSfnAAg5UB7dAFfLZYvZiXsDyfwm1L9tWObLcTiWZzT43pR8hiTN+PVVxKlAw/o33zMw34m0EEfP8jNUWh7znmrU+o/Y2tLm7qy1a/15Fs3H0BbQo4v8qRcY6h/FO+TYPVlP5PSp215tEXq59ipk7wjmIc+jGG/bPfxD10WbHWQwevj/jFv3vKlHjX/t/MWHB1LfQt5u562M5/gn/0VsVbwBtIv/bVfOv3sz/zs6fu+7/v6i0VGoXzT903fWPqwTRxzo8z5gCW/UFFZ9dwHxkeOvv0BylbIP+9AAYbpbEjlS0fw2PX0s6AFPmlzA5UMSfLzxPjpy/eqsAPa/c8OEcKnHWeBY0dJch/UJT6LAzp+7JMDyzc2ffUrXzl9+ctf7oMP4LPwAXj4ouRynwWURRMdBpU6fHT45AMLPh8A6MlTxGLKokpceNBrr7x2evFeLdjVJ20BCzT3PVmcWajc6dIf4vdELGQfKaFefGscbHf8knM8sHWMkAH4fm8qeu0r/PfRqhI7dDk2D2vM6gjUTv759gn1i9d4aZn+9Yk9pTxgnrTJ07pjShvyeKKvnf70ZV3b1LEE8p3Y1IFyoI2wnTzs09b+6hfAb7elhqY+bosFRo/5vTE2oIv/tAdHfvWZ+uYIjJt2q1+gHMJev+pmHIGM40CJ3DmI/Tx5A13GvuY3AU8b48kD8I3DrcEXX3rxdP/9907/xX/5X57+5X/5Z0+f/exn+/fVOh8MahE9imcMQJzJez9OxmDN4q+5o362c6xyXIDyFfCf+Tf/0p+vvEdhVcTZnuQ4HR06PfVcGC5RHepXq6r14I88O7b7vrSHT9uBsGPsNPtTTFVnl5gnKTosYiyK51esAm0XMxZiBpDFkh0vIP933nmn21//+tfPg/f8tjtloYHHYs6i+ean3jzde352zeRDfOp3n+MTVR+27tzcf9ILLAeevHqB3XKEJx99SvJwAjMS9NGxBeTh7hpbXrjQMf7EnTcunq+8q9KTBF34/fwtu4j6Uw9brhA6ZhE8CJzlG7KeMnOkTQ76oA1Rh089+yMfIn/klEBbCMBPP9QTxgPpD74y7YUyoF8whWNw6UNYT/5cps5xL43i5/myl4C6sRP233yO9Gzrb22njXVJHUE7eRwfbZg31rO0DqiDPG5HWPWznTy8cJ49ePDw9Eu/9Iunn/nZf6m/Q4ONDECzRqaUp4Etdvrz2FPCUw6oOy9WPgT0pT2kLKF92/5b/+N/88YCqvEl9sk3arvujkubSmOClSql76wLbEnWE8sBsM5BpG3HWURcdFgU4Ul2GshDn0UQ9KJRfnpXS9ySU+8FufjseLUh7r1aHFmIIV4Bsbn/wf3Tg/sPTt9957unr33ta73TJQ/s+1ulPvxgW6zHN2924Zc3vIxFPuRKLHiT18e1m67JW5Ys+H15Dr9i0l9snitd7gNr2z/QVyWg7eJK/v0Z/K0vnRs2RR/Xwo6F44kPPoKbJ0uPzRaDuv4hj5M6AB72QPtsYwfSv+0Vyo0v0s64tgF19KUjmSV9ly+0m/oQuPiO142Z/qzv4IX8cgEVqaf9CnNDrv6l/z2+PtJP8kXqUQfKbaeOYJydJ56H8tW1fpT3ivQt8jgj54qSNuvEX6tL+H/lX/3Z06e/99O18Znzr7R5K6VGOeYof9u6MrbjwzZ2to9yQKYcqE+ZtgnlbZsLqMhAKt/E5QShW0OXwN6DYefsvO30T/2cXBFQj5OV8rzwlJ4HUR/wWXA46J7w2Bgf8Muf6KTcUh2+zJnFK225pynRJjb3hrh0u3fv+drl7TmxoH33u99texZVdrnE4xYEu1141OF/+OHD7UXm1LtW7MmPxZQc6Msbr7/eb5ixKPL7US+9/DIzsOOgRyxstO/c8FO25EBe+GHsKGl3X6vsxbXKHo+tjQ2xuKfKyOIPoGcfIWz0Ra49Tpt/ZNa1cdysq2OO6mVbgocMYEsbIAO2LYW2qy+RbQpF84UYl/7QNfdLO0p8z/xZbSmzji2gtC7U03+25TkOaZt6ibUt1Beph3+ODTrMK/orHz3IujJ01xzWGInU52oK4rYSc/qv/tW/evpTP/8negH9zre/07HII/1ClUkvoFzg0zZnddC3fS2nbKtPmbZHQNYLqI2Ewa5jn+QDBpRyT1ZZHuwOutkx8MroOPCEA5zAtNHxhFl9WDpwqy72tLmEdeHrX9Mrfil0HHRbpwj7buu75MbpXOtgVS3yhKrP9c8H/wEHm/wT6rM7Qd6xEFTJJbm7SIhdLwsS5Xe+853TfW47fPObXccv9zR5RxSwGH/4Id/g/dzp85//fE9CFtJXa5HtHW3lTr7UkfVu+OGj07vvvXu6Vzx248gBO278P1963KJABrZenseky+oPizlg7OiT/acP9MfY6ErwIGzUBXkMwYzXlBB84x75oQ60F+qqB9QF6Y+ezidmiLPrCPQcqzUutkPo7bYZS8jD3zoOK1LXPK/5VOcIabParzbIPR72N2Nn341J/QjqXJM3SoacN4iJ+wu/8AunP/7f++nTZz7zmfNVHj5yjPTX/Eo/46wlwAf1dX4lUj/rR0B2XkBFGot0Iv/IcTsMe3VJnJMLmXxJm9al5G/jA+rY80YIB5LBhVhcGAh1XawcHO0pHz2ZN5M+elx2vIq1pHSLh69ycvYl2s/ml8WNeA10N99OojyhiIMf7JWPq62PhbkhP5/xh9+5Fb9zKfhKC+mDuJAyFlAWeceBxQqQLzbsbvsrwWoB5h7S/ffeO32ndrvwmJAP+gtcKtYLs7i5uFJngX377bdPn/rUp5pchIlNPHSI035qwX2x7PoNqa3/6gJ0zRkbj4+6HlN56OkDSj6EvnV8oUMdHUBbPlBXZI4gbSc34qOPX+K2hP/OsD97TJSI083G+JcGmYvjAJK/5mYbWvWsr1h1tBdr2/FddeDnGKtj7jmWykX6U25dpH6jZJyf92u+/o2/8TdOP/3HfrLvgTqnM0b6ScDveNvtKpD5gltzKLT9lTjJb2IBPXKSUBmgC9lWdpQcUEYn0tYTgZOHsnVLpx954m+7r9Gycnnn4+mUi5U2lOYgD1zwy542vyLKZS08FkWGlXbLIn9icND6UrbIHDlx6B33J9HzoLJ4oIMNtvSVNjrjc/rpZMTOXyg0NtEdEw84z8LOYtsd6MtxfYM724lsHOzb15YXZQlPj2qR+6hy68e/Cix8/Vzt8/dOHzz4sHe5wLHF7v1agH/3y18+feMb32h9+wexaLpgc7/q1ZdfOn3/939/71hff/31XnAZq5drB8xiTH74wIaxQkadeCzI1DvXgv1HR8CDgOOnHm3q5AefNnzHUF3IcaKUtAV8PWNZFG9yAWO72wF86xMcLaADYmzHb4M2lOYA7L885NkfeXvMaQvaQB3tct4pp24bOEbJw8b4gNJ4OU/g53iok/7SFl2Quuohg7717W+f/vbf+TunP/7Hf/r05ltvnt9EAsjVT2SMrrOA0izVzFcdseawYuWnPbJ+F366tClrUIo8VgDSyZqAgN8OFxuSBsqyjc3aAebquZ6yOlFpM4AOBHwHlLZ8Bkye+oC2oNaX8lssoV/L/VQatP7mB3mWxEnb+bq9qQvqNDcXLQfE8fPygGdp+zZC1avnraC4H1kqeb3atB/8jd/dPtu8eUbe/QJQ5Tmnfpxs3/kyVgC5i6Vjhw582iyGyNDH55NaAClZiJns7HJZZJHD+8pXvnr67nfnHjALqLt5/LHo8kYbC+8bb7xxfnwNPnrEo/SRMe714ptFmjzszzr2wjpzAh0IHecNRF/gjQ5XOPujY+g9frzPgvSNL+SzU913azuokxu+Z2z72ejij93kCpmXx4iclDFulMAY6GqfftTVP37tO0j9tAO0ISAPYK/sKP7aFtSNC1KW+ci3ztXT3/pbf+v0x/74Hzu9XQsoL/LelyeGUB9y/Ow3l/QCudBeO9vpF2iT/NW2qd9EgrkJAIrUWEA5iRMtKz6J2pbk0xkH2o51sKLUPUInsyH1+tWEshYOJmvGKLUq91yMNToc/P0ggozNIirG1x6TOpYX+hsJbcTYkxeThEVnfxUH1NNmRJVrOi0oP+tVsavQz/LBIrrBiTPx9xh9QpXcnTekLsd2ji98cpkIyNCB1kUXYlwdf3bF3gdl8ZTPojG6T847VnLhZNQnPGSdS9khp+1jZe48WEzUQ4dF+FOfer1/hJCFlp0uPJ52wDe+WHSpA/IxdxcT/OBXmTm4gGaOd+7MTp86cVIf+5mP8yIEhjfHjXizIA+/TNqeOiAPdG0D28aB7Iu5I8u+0KaevinNAx30tQHKsLkGdJRTWtcWwKOtrjLjwzNm9lPoE1An17/5N//m6ad/+qdOb7/91nkBhY8ffeibPlFqC98FNH1fA/rmfJt+yjpG5fHMv/0/+bew3tgDE4POC2iV1KA23JyhS6e0cdCA9fLS7fLIqd9/pVzG+NgHHKxJsktqXu3muIzXJ28KfYys7XuZG5cdjzjUmVAexHbZgLejZKRjq1MbX/3YVZXtD98lXxeyaVHumBxdQGdcoKwnaOcCip6wnnEx7wWUv8XnWR9e/fU4VT/m45vIxx459T4WYqvCw7Z9bUGN0x+F2+z54x87XNrutDzZEcLvGrZ9LBn7CQTv4cNHtZDN4kqdkjZvihFzdqFPeidLm5QYX3RefvmV4t/v+Qfee+/9WuRm18xix26VhZg2ObHYUkIshOx0ucf75ptv9g6YjxXPT7rcaTnxeNOOHKAnT2aus/CSRx3hXtjJx/vZzd3ysYQPOYazqM6xU55QV1B33gP8rm3q9IeSMdwXyrE1F+pizW/S4L/L2Mw15NoaV5gvRH2Ntcef83FiXEJ7dPnu4F/91V89/fiP/3gfF15I8duXYJNkA5/NL0ykyrP+z1yUg+Spcw2rTDttiU2uz/w73APdlMQayBIwDLQTOEOOQ4i67S63BVR81NvJ8tEHZtcHq+9eQPmrBbQC9StRKc9vxvP1eFUin3+TJ3GBA+wCC274L8DplALonQ8QsSoPFtH+Ss9N5wjp334lz/ra33UHWoKOC9pHVVNlzPbjA2W8jCOvWtWnS3kCPbDbzoSnuYka2qPvRMq4syO7jJl2zhdOcuDxypLvPLB/LHiz6MwujwWMy3cu41lYqbPI3r8/TxAAYrCIIseOuOaJL0g/XDKOj49rQeQ2xAetjx2yMqkF9fnTW299Ty+sr7322umVV/gymxdqEX/pfHuBmOQ6i+3scOETC//mxqLLKa8NeZErNvgH5ElcFnPyYkxzzNDF1rbjRKnP4c89UHiQ4zCymRsAPmT9EpMrpP4KfTnGwDpz6E5tCYmPrxFf+tGGGO+8853T1772ldOP/ug/22PLAtrHjP5VarOpK7/8mdPjunIo//0mcbXRMWfhuGSOlkDdIxnQn/xu/9t/6c8TqRkChSNl6umy761Vx7AmeRY3kpuBigFk8dvQfqpsv1Ta71QB8gT3BfuvP2O+LWiFMaXetalv+fHRUeCEMR+w+gdwcgG1/9rTpi/V6Bi3Qf/a6av7W2g/hcypsdkJekK/bXXHNugzYVtZtsFt7VVGjvBop75tjyugH+fjXDoSbU5yJj5yFg90aa86jkkCPfSRo6sOdW1cMJRvKXUdgu8CQxt/5lGi8vNRL7D8IgILJeCLLFjssPUWAgsAl+GvvPJaxzYvvqbR/rnbhc9OEJ47XUoWex7JmW8X4z7wvXOOsxtmpz3fg8k95Ll14JizeHYq3QbkYN/JAR36Q1vCPz7sN3A8tB3/+3EG2irPXaN6yMBqi51t65Sl2TQvBruPcTNxJubp9NWvfq2OwYenH/zBL/bYcEwc53kt5r+xtZlPxlz6HwLOJduU6Ko/8YeXOPI5far20Q4Ug9VZBgIkTMtO8ymCWu2az+rfHYKKX5yty5MAwBdxaHEvr+/nFS/lwIRZhFt/aytrPezoUMlZlp5ZFlB0ukTWkh0tq7J6MYyC+ml/bXATytQF8ighJzC+E+qvdraBPJHttKMu0YbIyXqC5m7bo1e6u/1892ruaPr/sw0nBLuk9K0uJy39hajrE6jLODhe+wTH34zPXMKz0O5fdIHO+GRO1CJ9pxblbaFAhh51fYPxO+TYe1Lqj1j6h9gpsvhRZ0Hj97so+QQa5f3780k0iAUYop/YuIi680QGj4WSMZ1vLJt+0eabxtjRsuNigaXOYusi7CLLsNFnbOwfObuDdaGEP4sw/dvHk/ZgjrNjgQ+PCRg7z515EymBDGinrvkA61OyiUJ3bNAfF/sc5RiQDz/vw3j90A/9UI8L3yk8aduXsud8rX/cnuLPY0n/kbfnjjEE4ONfnvk5BrTht//NBqQO0Lbr/w73QAsGBSobCCCXxsHsJEZYNhwgm+hsAWaCUymlzR9EDH0xKB99XInjqCBfUC+Ntum6yYef5lXZW3djbyd+yxn4c4QdHavKGrphFIxvPP1bvwZl6gJ5lBD81Y+6wPp6DFK/uEW0xydwTDgptUGuH+WobyHa1pxsizWu9mBibI0Cc4E46rgQMqmxdxwh6vpUDigh/KoH0BHw110Ebf3gSn3jeCw4sShpQ/rP3GxrB/BPm4Xs7t15egAZbeY29Yk9NqN3+SYZJW+MsUtlhwlvv9/L4gqPWxJzT5ZPt/ETOLwwoTOLNYszMRhXcpt7nhBPLvAEA2+msdPlXq99pFvzIjT3a/FlHyEXHMeAupg6Y7bv9EHqWToOYOVNOQso/lY4xubMCxTj9cM//Ae6f3PsyBfbiU0OHmva8qwD2pKYMdn56MIDtM1ZGSXQJ6CurBfQZKwK4IjPkjbvcFe7lUbWf/BIpCT8MiffI8gCWoetE8ReP/VfOa5/1Ycn9V8PMf5rwTs/1lPMZ/kqra3zCfwAOw6dY5Q+txg4QFh9VP7Qdrs/lqReuVTDnPTBgeMgETfzTiTPMnOkbps8hLws0/fq6zIuPmlzIgyHEwvQxka7iUm/Jv9E+hzR5CCfPoN90tHiP3Soj92dO3OCosN4cZLiwx2d46ff9I8MuGDgY38RIH9sndho8t8ssPDoHzHR/eijiY/MfOxDz4H2ueusfHOldBFkDgBsiE1u9mXvB+fB+FMGKI3HQmCbcZkFmFsaM3YSC+z9+3z67NsnvtaNHSyX9OzKPviAn/+ejw1zjxhfyNm1svCSq3OWWJRc/jJezBfsuHc7u9lZfPHDLo/dLTmhy5hA+GDRYqffz2VXPGICdbq18dGn//TDK1D7PMdtxkwf1tGnLrgVwhz64hd/f48VbxjOzpNjPHrE8dhinz6zVOeMLRX0jW18eekXA1zn+aU+es/8D7mER3EzHrU9AaBjePJHs6hlFJ5Um7yct/42Qbtef9TF7ndLqngQvFnkNt0qeL/IxKHd9rIOObjoJ7+Ho3XHLTBlH2dCLpgg+MF2TqDLwRPaGMe28dVVLiaXSGaDOilffZP07ovy0tfYYje2l3ZbdbObEhvynEUCzKU5/XDhzxjaXu76xsfUxeQyupT2BZgbC8PsrPZdpmOvLT6JNZee2O+5js7ESf/OA4BMv/KMJd+FgTjwQPqCpw1Qpj1+kVPPONRZ3FgQkO+Y2MTDlY9QjT3P7vIEgO3Jz1jsKNmtcR+XHeo3v/nNJtrE4rix0330iOPy0em1117pX3UYf3PLAl8sVrPwznc74Lszqy6+9NIr/cXos8jO87n03D70OJU+9g8rH+r0uceliNFBVkel/F6OWc4bx4x8+FY0ZHwseW555Hh3Ee051thic469ydCzDTrfKuV4fBI3fc+cGx60rwH9IL0BMHTwmlfE84MCnro7SHIGGxE+TMDkbIvkS9kR9de8aHOwAe3MNW26Y9VOe+q2Qda1pVR3zUcd+MgzRspt60P+EexTAp6T0/4B9PStnW1zVV++JbCEJ9SR5wKqXdpYT+z2M/l3wEcfv9BlLkD/Yz+ED3j0J+va6SPbWcq31FZynKyvJ5y7QuaYO1DakIsai0HmSh2iDjKX5APqEP6E+mJvc5xZxH0R4fiO3JzJHwK0WRC5hCc3+sA8os0Jz06e3e27775Xi+68aQbxBho7PkpAP/sLuPvFbL5e7u1Pf6ZKnn/d5xi+efFi0SWuu1j00SF3fpKHOjneLTMWIfrDrpk+MBbmCREb8Ok3wHeBslu2vzMO+3gm4BNLv+iKtOV+eTVGp1zJh8B6bKa7jPHI9e0biL2AtmSDA2TQaY3hMfaEDW5Ck8DNRWKFvlNPe+u2GWhK2plr1lMfWKcUyoQydbMvgrp84wn1Mo4x5K1ljo0lPPoI0NEXUEcf+rGeOclP+yOknnX7mAtMjq/Qtwuo9qiottppA3b7vS9ifFG7tKMc2djoF9y03/sFsi9ZglUXONdcpLCHR/u2fqFHW58g/Tu+17DbrH2a0phAuTE9DvaVei9gtTjRNn/IeeaLAzzs2NkCFjoWs++88+7pwwcsvu828Yzuw0cPe8fZ/sr+tVdfO7311lv9WBeLKHH5YAOLNB8hfq5fDPZHrXwhIiaPhbHQI8Put3/7t3vh/MIXvtDy3sEWX9gvebQB7Rx7eUAbwN2vvj0YeoJ2HtsxoT22YF6Q5lbJeQHVkcagHWz8c/CtFDR5ZUE3D1rqw78N6qqX9oC6+aWvVQcYP+vap/41oHNbvuaR4wRW37aPfMFDjg/9AerwlCfWNrr2yfrlgb8cw2vQXn3q5pz+sg7G92XflIEJTf+oHI+9vEu7nQfRTlvbyMwzeQntHWf0qcMD2mhnyYkBOHFBLj5CH4kcI33Jw1YbZcB65mRe6zxY6xlDfaAPyAUTHeT6tE+Qui5qXtqza8W29pr9MnavFkYWRxZWKPvGfVo+w86tN/zwAQRuJfzuV3739O1vv3P66GHNIe7DvjC7ZPywSLLI8rC8nyjD5ktf+lK/A89jX/gi516syjfInG0L6o6HesCxAcjTNvUS8IH9BOjBP4/1uoACnfH/6nYNxGoMKxMSR4llW920Td6RrfLVd/oAtJ0saQfS7gjo6n+1U5YHAWSduMghTzr9gaO89MtE0V5+IvkQbeuCuv6N+UmhH+zMxXwT077c0aXt5MkxGH7a204e9XVcIPxkWzmgDdIGH/JW/bUfax1CBzv7Tj3HPEuQdfWAfHmZl3mkLch8AHJ5WQf41Sd15OkPnjpji/+bxwnsufX/XZ9N0ejwIRLejOU7GCB2nL2wsriVEh/nxRg//bRLrQnto/gstH1ZX37540cmuZXA4slCzc/x8IOS3Lvlfi4LJrKf+Zmf6R1tLqDkba4gxybhmCc/69hJIMcDIsY+Js7lHfCwgc5fZ5cBQDsvHq8oh7IN8wbDPsnSeQfYdCmtp7+VZ5n6AD4xVtvUB9le61D6PBro1AWW8FO2DqpAh8Gn7Em2LaAg7a/VnSj2FdIWEsZIW5H2gHrarrrK9GUdO+KkztR3e0Af1xiDOYmx0a8lQH/efCTfeRNFvnr6TR9gjYUs7ZTLh3LMbOuXtrBOiSzt3NEBbQW5itWvdUh/IuvpD6R9Isc1dVZ9UiLe1PexlEcbvm12prkT5R4ljzEZ72xf5Dvt3Z/NFjljpB7oN5RLB3+AWwSMITtR6sSbMcX28oF/ZPjNfM9+iV+wTelc9DxKwBfItE+k/2s6iTsorQTW8hpI6igxiE6kDBiDAbGelDpilYPkrbRi5ZufPNsJ26ts7a8whgca5EF/GunXtrbJF+ZtTNvqpO7ToP1qS3xPpPRHPUlegvbkvctX3eSB7IdYdda20FZ7dVaf1DnBIPnmOb6nDXJ+goybfIH8iC/G/07p94iuIf2ra1znCqQPFzPrtjk3tZecc+wA8cHiOXpjaxwIj5T1X7/RzGKKPtT8gvMHHcD9UHaZ8IjF5Tp1bxlwHKgTXx0WT2Nn324jgD6UoL3qCfW1Sdu0WenOPAO5EwPBFOppVG0nUmIC0anZfQL01JVoAwKB9CMPqC9Sf5VlO/lg1U0kf62nXcoyxwT8tAGpa93+q+f4rH5pS2L1Tz3HePWhbvKdcEB/6gn1j+TEYvLyjCZXGjtNHpKTevUxvMvcdoI34yP0gU/1bCfgA2Ppfy4dmZOUjNPMUYi8icmvBsyQjBz++KAv07eKcI5N6UaAuiUwrm3KtZ68T4LUtW8SSLnjvx+Xve/Q9HfeMDJvCF/aWgfouQhS32NzjLGlPuOIf3aL53YR4wrxhSzzLjW7Vj4sMD/qyGII4dNcWGT5pJFzjDqX/TPvJi9yh7CTb95J8NQFxgD0gVxmjszYSPuY7eOLr2tQB0ykRHRumrujS/7I1kDqpP3aBskTR7z/NvgkfsxdyoMAJY7ayTNexkWOP6G+tisJ6tjpx7wk5MquIX1mXvJT5okFT/8pr383aJcNXT6LOTkz0aHKpnn6vAbE+kuYT+YFkpd2qtz0NQJ45sdCMYsA440Me47ZnIhp7/izsAjk6qlrG135ytacBW1xVE+egEcsCXcQfPXhA3JJfUD/M7e1VB/M/VD6v9tAXmEYTzCugz2XWdz3y3zHk3AQ8PJ9fPtpr5vnkP3IXIAlevoH8gf7MUjYXn0C9SV9U68N5yTrq5QGYPg4whCDfdd5kVPBTgEDCTuC/LIzeyz4WQe0zc/2Gke5tilLehr0A5kLRB0CKy/5wNjyMy94aZv8bAOOhXyATNtrSB9HttofyYT80aEcGYcv7cGlLXNjFh7AxAfDm4mGnTa4uLQHc4JiM3GHrDPvkLNTmTmYJx9y2/sCif+j+WAuHmvlvMkysmY1L08WfYO0U8c2QH7pe9rU1VnjyxfI0Em98YM+MR2Lfe6ZK5gXsN2PoM0xyl2mfTAO9T3u5M59aqCNfrUBxgbqAErIGPKxxyT52qWe0L8lcnPI2KVRPPzua9YK9KWJRX3mMsOVfTMOJJqHMcnvTvaDPLxxSgLyJrmbuiObxPRp+zYC+hPWr+mvbZH8I39HSB/X9OBL+paAMa2vSPkKZUdyY3gwjQesJw/Y/iQxV9z0JV36hM7zhh1Kz4+Rq4fNful3absSeqPb5sWbiTxyT+5dH6CrzdBljoI6siTGk0Ukx3V8zfHNExqop+/0n3rKPNGO9EHytBXK9HHpf+SXY3EzF2hkl/Yes+w3GJ97WxhD2SoX6oH0La3y6Rv8Zp1tEuQqVplIv5TG2+fSnv81aANmzs2LL6zN9RnGM9/zAurATnA6hyL8MQTXkjjycU0XoAMl1E8ZvCNdB9Y4tK1rYwe1p34b0Mk+gNXGtrrpl7pt7YF8oCzbIGMC66mbSDk+1hyyfo3E2q5sqj0vmCJjANvyUgbwB4/Sj1zil9ITf7X1cackgJxjOXPyuK9APtj197GFUsd68nA3uvvxyHmEr9QHtCVgLID+emzFkR+BOk3IXXdxq40fj80+LmsOgLpjkDkJ2uQG0o9Qrm3WE/bxGsxLW/MiFB8vnX6t40esPR50hFW++919Zt8uY4zNER/RlOTneDMG3Jaae7Xq9iX8sXN4zWooB+qM3jHSryT/qFMeiPSZcvVB8hMpX/G0XMVRv1Z/6jzNJzmD1Evb1d4+wl/HYgUydKWKuNEgbamuJNBTl2LiOml2pJ7wOCrjzz7Y9zmuc/LPAoDd5KnO5H8zhvW9j5dAjn+R9U8KY06eM+Z7Pl10OTJaey7ylQ21UkPfaQNmzEZ/xSVvjsPl8dgV8JnxxBFvhTqZ157vINurDOzjcDOe+sq4PeJcSRjesR9QTn3VBzd9zPji37klsn9ZT2gv9rZ50I85BrCRmUPvQDV2MgyhcBzwCCSfSYBsHw0EcnWO5A7qkWwFOqlvHax5HWEGf05oscbVr8g42ZeMl3X0pBVrjkc6O9RFZ4jUceGly0wk5eQ494LmfpAnJFT/VyxeVYc/8I2ho+MKsi/IW6dMxtc+9jvwcXzCA+w9BvrTv3QE+MTzuHQeAdvp8xqQjV63iugHfvdypgiylE+dUts84S5t1NFupYkzfa5qgcVHOEftt3VJZP1pWG2fBsZoPVcSeTyEL54eA3WO4nqsrIuci9hRN4/UO8LT5EfwHADGmveK8IWszjuEdgigOME+2aCuA4VN2tk+ohxE407sm3a38SwzF9ur36fBg6RfQVsC+rMPYs3hCJmTJK7ZrMCExXAuJ4jJGM7JKcF7Oom1fQlzzHGQWjbiCz6wf8k7KlMuPBbp4zagk9BuPfH0o1zZlMgZzxnTlZClnJPJF61ZJIY/L1Tzwja2zJM5VpD6HsORjc2kc5ln9j3b5v5JseqvfpVbZ+xy/Faopzz9gZ1/ae8tG+XpR8rjnzpHwJc+bWeZWH2gs+pl+6j/06zje1OwJ5lOsv60BGxDq78kFpuVl9D2aCDhJeCt714n8J38NS604oifPqgrV1fKvq022U6kze0wzthoZz7ZvgZjrPlYlz9xbuaknONgDiyifax6UZnjYy7X4gHbGSttVujjyNc1m0/qE4xeV2/E2f3czEN+2pdW/28bWY/VVoc/ZdqMb3iU15Ayc0jY1r/I+hG0O/IJtFeeOkcyaHZtI7f/zBHnydNyEqtfsb+o7Uif1LOdttdwM8buQ9kt90AH8o+A3m22tlMHrD6Vp72DK18doZ4l0D71s53yIxzJrunLzxxT71p77cORTkLeJW3CAm0nJFh1heNhfOV7Ppe6ifSVfqCWYVv/MHvmzrTV1xZKu4TtG7JywRdaQOwuVrvVr+0V8tXN9hH0B7RJ3toG+oKXvrN+tGBYgiN/lso41lDqgvTTYDfcO9zLvmZpHeBPWmVZF6vOCn2B0U0eZYvOPijVp3/6Vy60HxqMzlwNiD3WjuFRIZlpH2HlO+bmk/LzPVCIuspAvjIIWLeNfIW81AOpq295Wa4x1kGVrw2Ax7NvkH1IrHZHlJC32hz5AfCmPrIB9aG0A9leD5A+LRMrS/3UXe1WecaeEtnIaSpX58jWnPkCifnUCbySbZdS0P5s5c57GoHOptYa1puhrY+xk1lthH3NnJPni94K/bjICfnapC+w5nDkO22ka3kL6+gd8ZMHzKP/cF0kT7ll8o/0kgCxjkiZeit2PuUscswVbXoO8eLYf3ucsbvstz6GDzWzS+1WOkKmeqQDr3++u0AeElj9tpYK68RKYxck6uhYWgdpC/SHbZJ62iVffRdCdPBDqT5QF6CvHmQbUOpTHxI8kTZA/xlHGAcS6NjmcmKq9Gu/TykPmgkwNPfF9jEkF2PKN+edv8ekRGZ/1KG0jky/Ej7k8YUR82YF/vb+aW989CkTXD3deabsmU7c69rE+huf82Uh5qF/gD9jTS5VrxOtNPt3rfq37Rm3OGnMIf1ob67q2IfMnXLti7Z8vFCZPoG5J2mvnmR/RMaDn77tAzz5aZ+lH3hJnu0z1R/HhBczZCD9yqMNGF83Heipo75Q3zwl7BIrf/zRZ8Zs7vXiqm+5lbwOa3/ZyEd1pVHJnGNOOHwM5b3iPKfceRLPmObQ47HlDc4v8NCmA+wz1HblEzt9yFcfUN9HZ8EEHQfA+4uUwGBAx+qubexWwpYSHXnCdvJTDpQ9zd48zX+VrzBnkAcEXfukTtYTt/k+skE19a2nH+vawk5/5JltCFgKZekbpE1i5WuX9qnjcd1hrMupps2Rb1h82w8LccYA9hOsMqDP5An1wZEcOFcg6ivM8YhE1jOX1HWcoCMd5et4Zt6MhQufupK7vJVEtimxAeYiHc2rawT0a97w85glxq4qlYZ2O/+S9JG+1QcrP2VAH6knX7KNTF76yrry87cxicv27sSFk7o6JJQd07lQR/1rSFvryQOrvb5XYLNOhszzCOpJxrWdWPMSa67XbHNiKV99Wk9dIH+1g9bJA2V8eYls8qou1ak5zCtIP8a5GWtrFJDRXuMDebkD6h05O5ETi9i+45odzJB2eWwzB7C2hfxr+mue8I9s5K85qHOtDrJ+hFWuvXSEIx3Hyj6lrXrIGGPHGaSNSP2kFatMO5C8vrLY/BE79RLKKdOP+uvYSwn0oWvQRh3t1zag7nidX2J1cEQl3cqbE5YAdi5pxe7rJlJ2pHdtgK6RsG3OYM0v9cURT+jTujjiXRsHQV1akbIjOchxsY9JT8NRfkKft8UHKcefbU2MseolVh31qnauA6ropv3afhrWGOIcM+Q5lvJWnWsEyMtzQygD6toHiHbGOyKR/uGv+QJLdSSwttERR3mrdwR106f6a2z5ADMs4ZG3wEbKtlj9QclfgW326UjvyH/qW+Y43/m4FI6oXre4gup7E9jauTaqRCAvi9dEjoDeET2tU7f5Tj+A3NBPPv6BcTJG1kXqaJ961o/a8rAxHgSQOeiQstTJ+tOwhbqIexv0fVOf47q/uIjUW3NSJulXmeVWbchfMXrztWvGodTn3Auv41o7UniOrXbaUAe2j6DO05B66Xf1fcQD8ijXeXAEYkiJtFvtj/ypDzlOiaMYIOMnibV+G6VOwnwvdTcetSV3SnTm+A8B/STkoW+/V7089yb2jrRPXIuV/BuX8Dvg7warDm35Sdew6q10DZnsCm3NUVyrfxJkTmlLG3hwklakD3BN37qxVrm4yUPvpt+VjvBJ+OZtH1aba3LqOUFhI1tJqAf0tdtuc45ms7AbWeqqb/k0HOWx4jbZUZz0qe2aXyJ51NeTO/0cQRtKfV2Lv/pJPRdY66tu+rZcdQT5AHVSTz8g8+K7h6ty5ovV/shfUuKIl/arL+vpL+2zbR0bF+rzApokOlh/hdX+iqCcklcFykxInSRwLVEHPpFykLGvkXoZR6w6YLW5zS51Ug7USTx5Qr+2xgZsHfTdDzGpT3uNkb6zXq1z+zYC+DvCke6KNR9g/ZrNEdCdPCB2j5c+1xhAG+g8Zh+hd5l7LjxSItuTw461fQTtU/daLCE/c8NeH8r1kXSND624lpPkrg3QzhyAPOtAHdtC/iclgI+MAVK+Iu2Auhz/2652U9+YR3pHWHX1YenxA+omXe7xCxjWf2cqnbIcGY8OtLyQpRNcShAkZcrh/15gwmsdWMd38sFR7NuQ9r5AQPQR2L6NLmPuY1XW8/+F/rSPDtQRT1DNOCDbyU87sLbFGkN7oexI55rPFUcxknKcATxtur49fqK+OC+ym660Inmrbsr0bRzpCCnHB6X9yAXUHIGx5KcMKE+9lQQ6ScrNQT7QLvWzLdb20+KtfUhZ8rKdgKe9tsK6pT7ST/JWmf7ST7bFamf9Gh+cP4lk8vysx7NVQhWhlfpZvL4HxQGB0L/8clVxLbGVB+Rds4FAyuTdBvXRZQJfO7jCetqtsfEDJZThW2g7xKsmXy6ML3LxhGrNkm1jvhH+kFM/H4+i1t7kQ+Qxk1GZdXOija/chRwhbSe3y7FZ/QJ4trvkQb5S0xYav/ic5/XUN176HWppk+MClIO0lZKvXmK1F9pIHsOjeICxgcA6nxKpjx99pM9r8wUYX0qk7qpvPHnmqjz7d4T0BzJH+66vhDzsrScPrLld6BRvjU1bf9btj+1r4598ddW3H8qN5xNG4pqPBLYfffTR6f8LDkgoHkO9oacAAAAASUVORK5CYII=)"
      ],
      "metadata": {
        "id": "-pR_guSLR5z5"
      }
    },
    {
      "cell_type": "code",
      "source": [
        "# chatgpt를 통해 변환.\n",
        "import ipywidgets as widgets\n",
        "from IPython.display import display, HTML\n",
        "\n",
        "# Define a function that simulates the button press event\n",
        "def on_button_click(change):\n",
        "    # Create a label that will be displayed when the button is pressed\n",
        "    label = widgets.Label(value=\"You pressed the button!\")\n",
        "    display(label)\n",
        "\n",
        "    # Change the button's background and foreground color\n",
        "    button.style.button_color = \"blue\"\n",
        "    button.style.font_weight = \"bold\"\n",
        "    button.style.font_color = \"white\"\n",
        "\n",
        "# Create a button widget\n",
        "button = widgets.Button(\n",
        "    description=\"Press Me\",\n",
        "    layout=widgets.Layout(width='120px', height='25px')\n",
        ")\n",
        "\n",
        "# Assign the function to the button's click event\n",
        "button.on_click(on_button_click)\n",
        "\n",
        "# Display the button\n",
        "display(button)"
      ],
      "metadata": {
        "colab": {
          "base_uri": "https://localhost:8080/",
          "height": 78,
          "referenced_widgets": [
            "95fa17654b1a4f87892de13d24ed58f3",
            "47cb8493069741e4867d385279d79d6b",
            "a0289920b4ea4efaad03fa3b89f16d2c",
            "0592bcdbeb9d4b32b8973f24248f2b79",
            "b2f0e4cbf7384072a17c20d19bda51d1",
            "a3137768422d420f9899a8e07328aa1f"
          ]
        },
        "id": "R3oC8nR4Ro6m",
        "outputId": "b431c9b6-9b77-4486-b9b4-99b9f468b66f"
      },
      "execution_count": 5,
      "outputs": [
        {
          "output_type": "display_data",
          "data": {
            "text/plain": [
              "Button(description='Press Me', layout=Layout(height='25px', width='120px'), style=ButtonStyle())"
            ],
            "application/vnd.jupyter.widget-view+json": {
              "version_major": 2,
              "version_minor": 0,
              "model_id": "95fa17654b1a4f87892de13d24ed58f3"
            }
          },
          "metadata": {}
        },
        {
          "output_type": "display_data",
          "data": {
            "text/plain": [
              "Label(value='You pressed the button!')"
            ],
            "application/vnd.jupyter.widget-view+json": {
              "version_major": 2,
              "version_minor": 0,
              "model_id": "0592bcdbeb9d4b32b8973f24248f2b79"
            }
          },
          "metadata": {}
        }
      ]
    },
    {
      "cell_type": "markdown",
      "source": [
        "**예제 코드**"
      ],
      "metadata": {
        "id": "jziLV48zSVeZ"
      }
    },
    {
      "cell_type": "code",
      "source": [
        "from tkinter import*\n",
        "# tkinter 라이브러리를 임포트하기 위해 프로그램 상단에 있어야 한다."
      ],
      "metadata": {
        "id": "vl9PNx6FOd-a"
      },
      "execution_count": 6,
      "outputs": []
    },
    {
      "cell_type": "code",
      "source": [
        "window=Tk()\n",
        "window.title(\"window title\")\n",
        "window.geometry(\"450x100\")\n",
        "# '윈도우'라고 하는 영역을 생성하고, 타이틀을 추가하며, 윈도우의 크기를 정의한다."
      ],
      "metadata": {
        "id": "WeIG6nLIOeBJ"
      },
      "execution_count": null,
      "outputs": []
    },
    {
      "cell_type": "code",
      "source": [
        "label=Label(text=\"Enter number:\")\n",
        "# 메시지를 표시하는 텍스트를 화면에 추가한다."
      ],
      "metadata": {
        "id": "A_6dYU3fOeDo"
      },
      "execution_count": 7,
      "outputs": []
    },
    {
      "cell_type": "code",
      "source": [
        "entry_box=Entry(text=0)\n",
        "# 비어 있는 엔트리 박스를 생성한다. 엔트리 박스는 사용자로부터 데이터를 입력받거나 결과를 표시하기 위해 사용."
      ],
      "metadata": {
        "id": "1EBCK73MOeGI"
      },
      "execution_count": null,
      "outputs": []
    },
    {
      "cell_type": "code",
      "source": [
        "output_box=Message(text=0)\n",
        "# 결과를 표시하기 위해 사용되는 메시지 박스 생성."
      ],
      "metadata": {
        "id": "hV1Tsk-0OeIi"
      },
      "execution_count": null,
      "outputs": []
    },
    {
      "cell_type": "code",
      "source": [
        "output_box[\"bg\"]=\"red\"\n",
        "# 메시지 박스의 배경색을 지정한다.\n",
        "# bg: background"
      ],
      "metadata": {
        "id": "Dy4_E7jMOeK2"
      },
      "execution_count": null,
      "outputs": []
    },
    {
      "cell_type": "code",
      "source": [
        "output_box[\"fg\"]=\"white\"\n",
        "# 메시지 박스의 폰트 색상을 지정한다."
      ],
      "metadata": {
        "id": "5vxrmBm2TUGV"
      },
      "execution_count": null,
      "outputs": []
    },
    {
      "cell_type": "code",
      "source": [
        "output_box[\"relief\"]=\"sunken\"\n",
        "# 메시지 박스의 스타일을 지정한다. flat, raised, sunken, grooved 그리고 ridged로 지정할 수 있다."
      ],
      "metadata": {
        "id": "v_szUicGTUIw"
      },
      "execution_count": null,
      "outputs": []
    },
    {
      "cell_type": "code",
      "source": [
        "list_box=Listbox()\n",
        "# 문자열만 포함할 수 있는 드롭-다운(drop-down) 리스트 박스를 생성한다."
      ],
      "metadata": {
        "id": "4ZpHzI8DTULH"
      },
      "execution_count": null,
      "outputs": []
    },
    {
      "cell_type": "code",
      "source": [
        "entry_box[\"justfy\"]=\"center\"\n",
        "# 엔트리 박스의 텍스트에 대한 행 정렬을 지정한다. 하지만 이 설정은 메시지에서는 작동하지 않는다."
      ],
      "metadata": {
        "id": "teG7UqlmTUNh"
      },
      "execution_count": null,
      "outputs": []
    },
    {
      "cell_type": "code",
      "source": [
        "button1=Button(text=\"Click here\", command=click)\n",
        "# 'click'이라는 함수를 실행하는 버튼을 생성한다."
      ],
      "metadata": {
        "id": "ByKT9Zw2TUP-"
      },
      "execution_count": null,
      "outputs": []
    },
    {
      "cell_type": "code",
      "source": [
        "num=entry_box.get()\n",
        "# 엔트리 박스의 내용을 num이라는 변수에 저장한다. 메시지 박스에서는 작동하지 않는다."
      ],
      "metadata": {
        "id": "sYu6JBEXTUSG"
      },
      "execution_count": null,
      "outputs": []
    },
    {
      "cell_type": "code",
      "source": [
        "label.place(x=50, y=20, width=100, height=25)\n",
        "# 윈도우에 표시될 객체의 위치를 지정한다. 위지를 지정하지 않는다면 윈도우에 나타나지 않는다."
      ],
      "metadata": {
        "id": "Rp2rVNwjTUUp"
      },
      "execution_count": null,
      "outputs": []
    },
    {
      "cell_type": "code",
      "source": [
        "entry_box.delete(0,END)\n",
        "# 엔트리 박스의 내용을 삭제한다."
      ],
      "metadata": {
        "id": "tExPae5NU2cp"
      },
      "execution_count": null,
      "outputs": []
    },
    {
      "cell_type": "code",
      "source": [
        "answer=output_box[\"text\"]\n",
        "# 메시지 박스의 내용을 answer라는 이름의 변수에 저장한다."
      ],
      "metadata": {
        "id": "x73uPqxbU2fQ"
      },
      "execution_count": null,
      "outputs": []
    },
    {
      "cell_type": "code",
      "source": [
        "window.mainloop()\n",
        "# 프로그램을 계속 작동하게 하기 위하여 이 코드는 프로그램의 하단에 있어야 한다."
      ],
      "metadata": {
        "id": "p10YD3ujU2hf"
      },
      "execution_count": null,
      "outputs": []
    },
    {
      "cell_type": "markdown",
      "source": [
        "**챌린지**"
      ],
      "metadata": {
        "id": "HY3q6LLNVnOS"
      }
    },
    {
      "cell_type": "markdown",
      "source": [
        "**124) 사용자의 이름을 입력하는 윈도우를 생성한다. 버튼을 클릭하면, 'Hello'메시지와 함께 이름이 표시되고, 메시지의 폰트 색상과 배경색을 변경하라.**"
      ],
      "metadata": {
        "id": "vjQ5jzLGVpuq"
      }
    },
    {
      "cell_type": "code",
      "source": [
        "from tkinter import *\n",
        "\n",
        "def click():\n",
        "  name=textbox1.get()\n",
        "  message=str(\"hello\"+name)\n",
        "  textbox2[\"bg\"]=\"yellow\"\n",
        "  textbox2[\"fg\"]=\"blue\"\n",
        "  textbox[\"text\"]=message\n",
        "\n",
        "window=Tk()\n",
        "window.geometry(\"500x200\")\n",
        "\n",
        "label1=Label(text=\"enter your name:\")\n",
        "label1.plae(x=30, y=20)\n",
        "\n",
        "textbox1=Entry(text=\"\")\n",
        "textbox1.place(x=150, y=20, width=200, heigth=25)\n",
        "textbox1[\"justify\"]=\"center\"\n",
        "textbox1.focus()\n",
        "\n",
        "button1=Button(text=\"press me\", command=click)\n",
        "button1.place(x=30, y=50, width=120, height=25)\n",
        "\n",
        "textbox2=Message(text=::, width=200)\n",
        "textbox2,place(x=150, y=50, width=200, height=25)\n",
        "textbox2[\"bg\"]=\"white\"\n",
        "textbox2[\"fg\"]=\"black\"\n",
        "\n",
        "window.mainloop()"
      ],
      "metadata": {
        "id": "R7FSw9lsU2j-"
      },
      "execution_count": null,
      "outputs": []
    },
    {
      "cell_type": "markdown",
      "source": [
        "**chatgpt용 코드**"
      ],
      "metadata": {
        "id": "APU7bKKfW_9n"
      }
    },
    {
      "cell_type": "code",
      "source": [
        "from IPython.display import display, clear_output\n",
        "import ipywidgets as widgets\n",
        "\n",
        "# Function to be called on button click\n",
        "def on_button_click(b):\n",
        "    name = textbox1.value\n",
        "    message = f\"Hello {name}\"\n",
        "    textbox2.value = message\n",
        "    textbox2.style.background_color = 'yellow'\n",
        "    textbox2.style.color = 'blue'\n",
        "\n",
        "# Creating the input textbox\n",
        "textbox1 = widgets.Text(\n",
        "    value='',\n",
        "    placeholder='Enter your name',\n",
        "    description='Name:',\n",
        "    style={'description_width': 'initial'},\n",
        "    layout=widgets.Layout(width='300px')\n",
        ")\n",
        "\n",
        "# Creating the output message box\n",
        "textbox2 = widgets.HTML(\n",
        "    value='',\n",
        "    placeholder='',\n",
        "    description='',\n",
        "    layout=widgets.Layout(width='300px', height='50px')\n",
        ")\n",
        "\n",
        "# Creating the button\n",
        "button = widgets.Button(\n",
        "    description='Press me',\n",
        "    button_style='',  # 'success', 'info', 'warning', 'danger' or ''\n",
        "    layout=widgets.Layout(width='120px')\n",
        ")\n",
        "button.on_click(on_button_click)\n",
        "\n",
        "# Displaying the widgets\n",
        "display(textbox1, button, textbox2)"
      ],
      "metadata": {
        "colab": {
          "base_uri": "https://localhost:8080/",
          "height": 136,
          "referenced_widgets": [
            "d7ccfc8201494fd8a49061cfb03eb686",
            "ed3232e959174ff5b7355b2990035f44",
            "fd982d2ffa184a12800e129ae5faeebb",
            "949c0063246c449e9e1aef5536be8c55",
            "2f8a7985e5e24eaaa26509bdf37e678d",
            "a8645107fe3a4223915226ae58fa81a7",
            "737c8e056a5f44a2a6f48ef048bc71b4",
            "cf4dc7376d5f4dfba4f6a9bcc70a8d44",
            "f701200676544546bdba456c2fe65c7e"
          ]
        },
        "id": "1-uvIDv0U2md",
        "outputId": "6ba38b6e-d95d-498b-fbe5-5ff24d73b2b3"
      },
      "execution_count": 8,
      "outputs": [
        {
          "output_type": "display_data",
          "data": {
            "text/plain": [
              "Text(value='', description='Name:', layout=Layout(width='300px'), placeholder='Enter your name', style=Descrip…"
            ],
            "application/vnd.jupyter.widget-view+json": {
              "version_major": 2,
              "version_minor": 0,
              "model_id": "d7ccfc8201494fd8a49061cfb03eb686"
            }
          },
          "metadata": {}
        },
        {
          "output_type": "display_data",
          "data": {
            "text/plain": [
              "Button(description='Press me', layout=Layout(width='120px'), style=ButtonStyle())"
            ],
            "application/vnd.jupyter.widget-view+json": {
              "version_major": 2,
              "version_minor": 0,
              "model_id": "949c0063246c449e9e1aef5536be8c55"
            }
          },
          "metadata": {}
        },
        {
          "output_type": "display_data",
          "data": {
            "text/plain": [
              "HTML(value='', layout=Layout(height='50px', width='300px'), placeholder='')"
            ],
            "application/vnd.jupyter.widget-view+json": {
              "version_major": 2,
              "version_minor": 0,
              "model_id": "737c8e056a5f44a2a6f48ef048bc71b4"
            }
          },
          "metadata": {}
        }
      ]
    },
    {
      "cell_type": "markdown",
      "source": [
        "**125) 여섯 면의 주사위 대신 보드 게임에서 사용할 수 있는 프로그램을 작성하자. 사용자가 버튼을 클릭하면 1에서 6 사이의 임의의 정수를 표시하라.**"
      ],
      "metadata": {
        "id": "057nJwPXXIip"
      }
    },
    {
      "cell_type": "code",
      "source": [
        "from tkinter import *\n",
        "import random\n",
        "\n",
        "def click():\n",
        "  num=random.randit(1,6)\n",
        "  answer[\"text\"]=num\n",
        "\n",
        "window=Tk()\n",
        "window.title(\"Roll a dice\")\n",
        "window.geometry(\"100x200\")\n",
        "\n",
        "button1=Button(text=\"Roll\", command=click)\n",
        "button1.place(x=30,y=30, width=59, height=25)\n",
        "\n",
        "answer=Message(text=\"\")\n",
        "answer.place(x=40, y=70, width=30, height=25)\n",
        "\n",
        "window.mainloop()"
      ],
      "metadata": {
        "id": "FGtfQtLeU2on"
      },
      "execution_count": null,
      "outputs": []
    },
    {
      "cell_type": "code",
      "source": [
        "from IPython.display import display\n",
        "import ipywidgets as widgets\n",
        "import random\n",
        "\n",
        "def roll_dice(_):\n",
        "    # Generate a random number between 1 and 6\n",
        "    num = random.randint(1, 6)\n",
        "    # Update the text of the answer label with the rolled number\n",
        "    answer.value = f'<h2 style=\"color: blue;\">{num}</h2>'\n",
        "\n",
        "# Create a button widget\n",
        "button = widgets.Button(\n",
        "    description='Roll',\n",
        "    layout=widgets.Layout(width='100px', height='50px'),\n",
        "    button_style='success'\n",
        ")\n",
        "\n",
        "# Create an output label widget\n",
        "answer = widgets.HTML(\n",
        "    value='<h2 style=\"color: black;\">0</h2>',\n",
        "    layout=widgets.Layout(width='30px', height='50px')\n",
        ")\n",
        "\n",
        "# Attach the event handler to the button click\n",
        "button.on_click(roll_dice)\n",
        "\n",
        "# Display the widgets in the output cell\n",
        "display(button, answer)"
      ],
      "metadata": {
        "colab": {
          "base_uri": "https://localhost:8080/",
          "height": 125,
          "referenced_widgets": [
            "15ff1347ac8b400b8819e961fa833f0f",
            "440903eebfac41ef85a8ac94d7b27249",
            "ffc64d1ac2cf4cea85761dc82d15f21e",
            "68da85b42e194bf8a6a2cb5f8bf5a382",
            "8669c8cbcdeb4839a557f8075178fe8f",
            "a81c42b7c0e24c53b600c8c89eaa9224"
          ]
        },
        "id": "Ahco5xAbU2rH",
        "outputId": "f52ca663-797d-400b-96bb-c5ddb679e18a"
      },
      "execution_count": 9,
      "outputs": [
        {
          "output_type": "display_data",
          "data": {
            "text/plain": [
              "Button(button_style='success', description='Roll', layout=Layout(height='50px', width='100px'), style=ButtonSt…"
            ],
            "application/vnd.jupyter.widget-view+json": {
              "version_major": 2,
              "version_minor": 0,
              "model_id": "15ff1347ac8b400b8819e961fa833f0f"
            }
          },
          "metadata": {}
        },
        {
          "output_type": "display_data",
          "data": {
            "text/plain": [
              "HTML(value='<h2 style=\"color: black;\">0</h2>', layout=Layout(height='50px', width='30px'))"
            ],
            "application/vnd.jupyter.widget-view+json": {
              "version_major": 2,
              "version_minor": 0,
              "model_id": "68da85b42e194bf8a6a2cb5f8bf5a382"
            }
          },
          "metadata": {}
        }
      ]
    }
  ]
}
