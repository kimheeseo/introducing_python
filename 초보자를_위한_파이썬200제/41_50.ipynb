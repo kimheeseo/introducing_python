{
  "nbformat": 4,
  "nbformat_minor": 0,
  "metadata": {
    "colab": {
      "provenance": [],
      "authorship_tag": "ABX9TyNNPeN40O33NI6VtfhN+WYM",
      "include_colab_link": true
    },
    "kernelspec": {
      "name": "python3",
      "display_name": "Python 3"
    },
    "language_info": {
      "name": "python"
    }
  },
  "cells": [
    {
      "cell_type": "markdown",
      "metadata": {
        "id": "view-in-github",
        "colab_type": "text"
      },
      "source": [
        "<a href=\"https://colab.research.google.com/github/kimheeseo/python/blob/main/41_50.ipynb\" target=\"_parent\"><img src=\"https://colab.research.google.com/assets/colab-badge.svg\" alt=\"Open In Colab\"/></a>"
      ]
    },
    {
      "cell_type": "code",
      "source": [
        "# 초급 41. 지역변수와 전역변수 이해하기\n",
        "param=10\n",
        "strdata='전역변수'\n",
        "\n",
        "def func1():\n",
        "  strdata='지역변수'\n",
        "  print(strdata)\n",
        "\n",
        "def func2(param):\n",
        "  param=1\n",
        "\n",
        "def func3():\n",
        "  global param\n",
        "  param=50\n",
        "\n",
        "func1() # '지역변수'가 출력됨\n",
        "print('strdata값:',strdata) # '전역변수'가 출력됨\n",
        "print('param값:',param) # 10이 출력됨\n",
        "\n",
        "func2(param)\n",
        "print(param) # 10이 출력됨\n",
        "\n",
        "func3()\n",
        "print('param값:',param) # 50이 출력됨\n",
        "\n",
        "# 변수의 유효한 범위를 기준으로 구분할 때, 지역변수와 전역변수라는 것이 있습니다.\n",
        "# 지역변수는 함수 내에서만 유효한 변수이고, 전역변수는 코드 전반에 걸쳐 유효한 변수입니다.\n",
        "# 지역변수는 함수를 벗어나면 더 이상 유효하지 않습니다.\n",
        "\n",
        "# 함수 내부에서 바깥에서 선언한 전역변수를 사용하려면 'global'키워드를 이용해 전역변수를 사용한다고 명시하면 됩니다."
      ],
      "metadata": {
        "colab": {
          "base_uri": "https://localhost:8080/"
        },
        "id": "LCWCYoStjGe6",
        "outputId": "508f44cf-cdd4-450d-9b09-fd6031446a22"
      },
      "execution_count": 1,
      "outputs": [
        {
          "output_type": "stream",
          "name": "stdout",
          "text": [
            "지역변수\n",
            "strdata값: 전역변수\n",
            "param값: 10\n",
            "10\n",
            "param값: 50\n"
          ]
        }
      ]
    },
    {
      "cell_type": "code",
      "execution_count": 2,
      "metadata": {
        "colab": {
          "base_uri": "https://localhost:8080/"
        },
        "id": "Z_6AEk-XisU9",
        "outputId": "f09aa69a-0d4e-46ed-88a7-3b513e355f8b"
      },
      "outputs": [
        {
          "output_type": "stream",
          "name": "stdout",
          "text": [
            "ret값: (3, 2, 1)\n",
            "r1값: c\n",
            "r2값: b\n",
            "r3값: a\n"
          ]
        }
      ],
      "source": [
        "# 초급 42. 함수 리턴값 이해하기(retrun)\n",
        "def reverse(x,y,z):\n",
        "  return z,y,x\n",
        "\n",
        "ret=reverse(1,2,3)\n",
        "print('ret값:',ret)\n",
        "r1,r2,r3=reverse('a','b','c')\n",
        "print('r1값:',r1)\n",
        "print('r2값:',r2)\n",
        "print('r3값:',r3)\n",
        "\n",
        "# 함수가 수행되고 나면 그 결과를 리턴하고 종료하는 경우가 많습니다.\n",
        "# return 키워드를 이용하여 값을 리턴하고 함수를 종료합니다.\n",
        "\n",
        "# 만약 리턴값이 없는 경우에는 return 없이 함수 코드를 마무리해도 됩니다.\n",
        "# 리턴값이 여러 개인 경우에는 튜플로 리턴값을 만들어 리턴합니다."
      ]
    },
    {
      "cell_type": "code",
      "source": [
        "# 초급 43. 파이썬 모듈 이해하기\n",
        "import time\n",
        "\n",
        "print('5초간 프로그램을 정지합니다.')\n",
        "time.sleep(5)\n",
        "print('5초가 지나갔습니다.')\n",
        "\n",
        "# 코드를 작성할 때 이미 만들어져 있는 함수들을 활용하면 보다 효율적이고 빠르게 개발할 수 있습니다.\n",
        "# 이미 만들어져 있고 안정성이 검증된 함수들을 성격에 맞게 하나의 파이썬 파일에 묶어 만들어 놓은 것을 모듈이라 부릅니다.\n",
        "\n",
        "# 외부 모듈에 있는 함수들을 활용하려면 이 모듈을 먼저 우리 코드로 가져와서 자유롭게 사용할 수 있도록 해야 하는데, 이런 일을 파이썬에서는\n",
        "# 모듈을 import한다고 합니다."
      ],
      "metadata": {
        "id": "LlcKGt1bkxmU"
      },
      "execution_count": null,
      "outputs": []
    },
    {
      "cell_type": "markdown",
      "source": [
        "**파이썬 모듈 만들기**"
      ],
      "metadata": {
        "id": "MuI03Tp-nfvF"
      }
    },
    {
      "cell_type": "code",
      "source": [
        "# mylib.py로 저장\n",
        "def add_txt(t1,t2):\n",
        "  return t1+':'+t2\n",
        "\n",
        "def reverse(x,y,z,):\n",
        "  return z,y,x"
      ],
      "metadata": {
        "id": "6HwJ_tS4kxoq"
      },
      "execution_count": 3,
      "outputs": []
    },
    {
      "cell_type": "code",
      "source": [
        "import mylib\n",
        "\n",
        "ret1=mylib.add_txt('대한민국','1등')\n",
        "ret2=mylib.rever(1,2,3)\n",
        "\n",
        "print(ret1) # 대한민국:1등 출력됨\n",
        "print(ret2) # (3,2,1)이 출력됨"
      ],
      "metadata": {
        "id": "Yt0eCVdfkxrL"
      },
      "execution_count": null,
      "outputs": []
    },
    {
      "cell_type": "code",
      "source": [
        "# 초급 44. 파이썬 패키지 이해하기\n",
        "import mypackage.mylib\n",
        "\n",
        "ret1=mypackage.mylib.add_txt('대한민국','1등')\n",
        "# mypackage에 있는 mylib모듈의 add_txt()를 호출합니다.\n",
        "ret2=mypackage.mylib.reverse(1,2,3)\n",
        "\n",
        "# 파이썬 모듈을 계층적인 디렉터리 형태로 구성한 것: 파이썬 패키지\n",
        "\n",
        "# 실제 패키지를 만드는 과정\n",
        "# 1, mypackage라는 이름의 디렉터리를 만듭니다.\n",
        "# 2. mypackage 디렉터리로 이동합니다.\n",
        "# 3. mylib.py를 mypackage 디렉터리로 복사합니다.\n",
        "# 4. mypackage 폴더에 version=1.0이 내용인 __init__.py파일을 생성합니다.\n",
        "# 5. 서브 디렉터리를 생성한 후, 서브 디렉터리에 하위 패키지를 구성하려면 1~4과정을 동일하게 반복합니다."
      ],
      "metadata": {
        "id": "5J2m2_Qekxti"
      },
      "execution_count": null,
      "outputs": []
    },
    {
      "cell_type": "code",
      "source": [
        "# 초급45. 파이썬 모듈 임포트 이해하기\n",
        "import time\n",
        "# 파이썬에 내장되어 있는 time 모듈을 임포트합니다. time 모듈에 있는 함수를 활용하려면 time.함수이름과 같이 호출하면 됩니다.\n",
        "import mylib # 내가 작성한 mylib 모듈을 임포트함\n",
        "import mypackage.mylib # mpypackage에 있는 mylib 모듈을 임포트함\n",
        "\n",
        "time.sleep(1)\n",
        "mylib.add_txt('나는', '파이썬이다.') # mylib 모듈의 add_txt함수를 호출\n",
        "mypackage.mylib.reverse(1,2,3,) # mypackage.mylib 모듈의 reverse함수 호출\n",
        "\n",
        "# 이미 만들어져 있는 어떤 함수를 우리가 작성하는 코드에서 자유롭게 활용할 수 있으려면 해당 함수가 포함된 모듈을 임포트해야 합니다.\n",
        "\n",
        "# 모듈을 임포트하는 방법\n",
        "# import 모듈이름\n",
        "# import 패키지이름.모듈이름"
      ],
      "metadata": {
        "id": "jdyJUfi9kxv7"
      },
      "execution_count": null,
      "outputs": []
    },
    {
      "cell_type": "code",
      "source": [
        "# 초급 46. 파이썬 모듈 임포트 이해하기\n",
        "from time import sleep\n",
        "# time 모듈의 sleep()함수만 임포트합니다. 우리 코드에서 sleep(1)과 같이 호출하여 사용할 수 있습니다.\n",
        "from mypackage import mylib\n",
        "from mypackage.mylib import reverse\n",
        "\n",
        "sleep(1)\n",
        "mylib.add_txt('나는','파이썬이다.')\n",
        "reverse(1,2,3)\n",
        "\n",
        "# 우리가 원하는 모듈이나 함수를 계층 경로 모두를 표시하지 않고 간단하게 호출하여 사용할 수 있도록 임포트하는 방법\n",
        "# from 모듈이름 import 함수이름\n",
        "# from 패키지 이름 import 함수이름"
      ],
      "metadata": {
        "id": "TiwlDE9YkxyT"
      },
      "execution_count": null,
      "outputs": []
    },
    {
      "cell_type": "code",
      "source": [
        "# 초급 47. 파이썬 모듈 임포트 이해하기\n",
        "import mypackage as mp\n",
        "# mypackage를 mp로 축약하여 별명으로 만들었습니다.\n",
        "import mypackage.mylib as ml\n",
        "\n",
        "ret1=mp.mylib.add_txt('대한민국','1등')\n",
        "\n",
        "# 이름이 긴 모듈이나 계층 구조가 복잡한 모듈인 경우, 이 모듈에 별명을 붙여 간단하게 호출할 수 있습니다.\n",
        "# import 이름이 긴 모듈명 as 별명"
      ],
      "metadata": {
        "id": "xJ_yAZDQuhfy"
      },
      "execution_count": null,
      "outputs": []
    },
    {
      "cell_type": "code",
      "source": [
        "# 초급 48. 파일 열고 닫기(open, close)\n",
        "f1=open('text.txt','r')\n",
        "f2=open('d:/myimages/mypicure1.jpg','rb')\n",
        "# 파일을 읽기 위해 절대경로를 open()함수의 인자로 입력했습니다. 바이너리 읽기모드(rb)로 오픈하고, 파일 객체를 f2로 둡니다.\n",
        "\n",
        "f1.close()\n",
        "f2.close()\n",
        "# 파일 다루는 것을 모두 마치면 파일 객체의 close()를 이용해 오픈한 파일을 닫습니다.\n",
        "\n",
        "# 파일은 텍스트 파일과 바이너리 파일 두 가지 종류가 있습니다.\n",
        "# 텍스트 파일은 사람이 읽을 수 있는 글자로 저장된 파일\n",
        "# 바이너리 파일: 컴퓨터가 읽고 이해할 수 있는 이진 데이터를 기록한 파일\n",
        "# 바이너리 파일 예) 이미지 뷰어로 볼 수 있는 JPG 이미지 파일은 이미지의 이진 데이터를 JPG 형식의 파일로 저장한 바이너리 파일.\n",
        "\n",
        "# open(파일이름, 모드)\n",
        "# 파일이름: 파일이 존재하는 절대경로나 상대경로를 입력합니다.\n",
        "# 모드\n",
        "# r 또는 rt: 텍스트 모드로 읽기\n",
        "# w 또는 wt: 텍스트 모드로 쓰기\n",
        "# a 또는 at: 텍스트 모드로 파일 마지막에 추가하기\n",
        "# rb: 바이너리 모드로 읽기\n",
        "# wb: 바이너리 모드로 쓰기\n",
        "# ab: 바이너리 모드로 파일 마지막에 추가하기"
      ],
      "metadata": {
        "id": "lI6AxePbuhih"
      },
      "execution_count": null,
      "outputs": []
    },
    {
      "cell_type": "code",
      "source": [
        "# 초급 49. 클래스 이해하기\n",
        "class Myclass:\n",
        "  var='안녕하세요'\n",
        "  def sayHello(self):\n",
        "    print(self.var)\n",
        "obj=Myclass() # MyClass 인스턴스 객체 생성\n",
        "print('obj.var값:',obj.var) # '안녕하세요'가 출력됨.\n",
        "# MyClass 선언부 내에서 클래스 멤버를 지시할 때는 self.클래스 멤버로 합니다.\n",
        "\n",
        "obj.sayHello() # '안녕하세요'가 출력됨.\n",
        "\n",
        "# 객체 지향 프로그래밍에서 중요한 단어가 바로 클래스입니다.\n",
        "# 클래스: 프로그래머가 지정한 이름으로 만든 하나의 독립된 공간이며, 이름 공간(name space)이라 부릅니다.\n",
        "\n",
        "# 클래스를 구성하는 주요 요소는 클래스에서 변수 역할을 하는 \"클래스 멤버\"와\n",
        "# 함수와 동일한 역할을 하는 \"클래스 메소드\"입니다.\n",
        "\n",
        "# clasee 클래스 이름:\n",
        "#   클래스 멤버 정의\n",
        "#   클래스 메소드 정의\n",
        "\n",
        "obj.var # obj.클래스 멤버\n",
        "obj.sayHello() # obj.클래스 메소드"
      ],
      "metadata": {
        "colab": {
          "base_uri": "https://localhost:8080/"
        },
        "id": "jvn0IzU2zLjH",
        "outputId": "a8640b86-813a-4ba4-8503-38c798351a24"
      },
      "execution_count": 1,
      "outputs": [
        {
          "output_type": "stream",
          "name": "stdout",
          "text": [
            "obj.var값: 안녕하세요\n",
            "안녕하세요\n",
            "안녕하세요\n"
          ]
        }
      ]
    },
    {
      "cell_type": "code",
      "source": [
        "# 클래스 메소드는 클래스 내에서 정의되는 함수입니다.\n",
        "# 클래스 메소드는 첫 번째 인자가 반드시 self로 시작해야 합니다.\n",
        "# self: 클래스의 인스턴스 객체를 가리키는 참조자.\n",
        "\n",
        "# 인스턴스 객체로 만든다는 의미: 선언적인 의미인 클래스를 실제 사용 가능한 형태로 만든다는 뜻.\n",
        "# 클래스를 인스턴스 객체로 만드는 방법: 클래스 일므을 호출하듯이 하면 됩니다."
      ],
      "metadata": {
        "id": "DH_hGlaf0XR2"
      },
      "execution_count": 5,
      "outputs": []
    },
    {
      "cell_type": "code",
      "source": [
        "print('obj.var값:',obj.var)"
      ],
      "metadata": {
        "colab": {
          "base_uri": "https://localhost:8080/"
        },
        "id": "jPpffsu91WDW",
        "outputId": "1ed7a479-2601-4b45-c572-40d25df16dc7"
      },
      "execution_count": 2,
      "outputs": [
        {
          "output_type": "stream",
          "name": "stdout",
          "text": [
            "obj.var값: 안녕하세요\n"
          ]
        }
      ]
    },
    {
      "cell_type": "code",
      "source": [
        "obj.sayHello()"
      ],
      "metadata": {
        "colab": {
          "base_uri": "https://localhost:8080/"
        },
        "id": "OSP6oLy51sgW",
        "outputId": "7a2f3c38-27d3-49b3-8bba-ede8de2ced01"
      },
      "execution_count": 3,
      "outputs": [
        {
          "output_type": "stream",
          "name": "stdout",
          "text": [
            "안녕하세요\n"
          ]
        }
      ]
    },
    {
      "cell_type": "code",
      "source": [
        "# 초급 50. 클래스 멤버와 인스턴스 멤버 이해하기\n",
        "class MyClass:\n",
        "  var='안녕하세요!'\n",
        "# MyClass 내에서 var라는 이름의 변수를 선업했습니다. : 클래스 멤버\n",
        "\n",
        "  def sayHello(self):\n",
        "    param1='안녕'\n",
        "# 클래스 메소드 sayHello(): 메소드 내에서만 유효한 지역변수 param1 정의\n",
        "# param1: sayHello()내에서만 유효한 일종의 지역변수\n",
        "    self.param2='하이'\n",
        "# self.param2: sayHello() 내에서 선언된 인스턴스 멤버\n",
        "    print('param1값:', param1)\n",
        "    print(self.var)\n",
        "\n",
        "obj=MyClass()\n",
        "print('obj.var값:',obj.var)\n",
        "obj.sayHello()\n",
        "# MyClass의 sayHello()를 호출하면 sayHello()의 지역변수 param1과 MyClass의 클래스 멤버\n",
        "# var의 값을 화면에 출력합니다."
      ],
      "metadata": {
        "colab": {
          "base_uri": "https://localhost:8080/"
        },
        "id": "fbjLRZlbuhlJ",
        "outputId": "cadceeab-2ab0-4857-abe7-02d5bb671707"
      },
      "execution_count": 9,
      "outputs": [
        {
          "output_type": "stream",
          "name": "stdout",
          "text": [
            "obj.var값: 안녕하세요!\n",
            "param1값: 안녕\n",
            "안녕하세요!\n"
          ]
        }
      ]
    },
    {
      "cell_type": "code",
      "source": [
        "obj.param2\n",
        "# 인스턴스 멤버의 경우, 클래스의 인스턴스 객체가 만들어질 때 자동적으로 호출되는 클래스 생성자에서\n",
        "# 선언되는 것이 일반적입니다."
      ],
      "metadata": {
        "colab": {
          "base_uri": "https://localhost:8080/",
          "height": 35
        },
        "id": "iNBtp9-VEByZ",
        "outputId": "2a323e34-fd9a-408a-f772-ade63cc95768"
      },
      "execution_count": 10,
      "outputs": [
        {
          "output_type": "execute_result",
          "data": {
            "text/plain": [
              "'하이'"
            ],
            "application/vnd.google.colaboratory.intrinsic+json": {
              "type": "string"
            }
          },
          "metadata": {},
          "execution_count": 10
        }
      ]
    },
    {
      "cell_type": "code",
      "source": [
        "obj.param1\n",
        "# param1은 MyClass의 클래스 메소드인 sayHello()의 지역변수이므로,\n",
        "# MyClass의 인스턴스 객체인 obj의 멤버로 참조가 불가능합니다."
      ],
      "metadata": {
        "colab": {
          "base_uri": "https://localhost:8080/",
          "height": 147
        },
        "id": "vvmjrK-MEokD",
        "outputId": "62389e59-39d1-4508-bd5f-604152bbb754"
      },
      "execution_count": 11,
      "outputs": [
        {
          "output_type": "error",
          "ename": "AttributeError",
          "evalue": "'MyClass' object has no attribute 'param1'",
          "traceback": [
            "\u001b[0;31m---------------------------------------------------------------------------\u001b[0m",
            "\u001b[0;31mAttributeError\u001b[0m                            Traceback (most recent call last)",
            "\u001b[0;32m<ipython-input-11-fa158114f1be>\u001b[0m in \u001b[0;36m<cell line: 1>\u001b[0;34m()\u001b[0m\n\u001b[0;32m----> 1\u001b[0;31m \u001b[0mobj\u001b[0m\u001b[0;34m.\u001b[0m\u001b[0mparam1\u001b[0m\u001b[0;34m\u001b[0m\u001b[0;34m\u001b[0m\u001b[0m\n\u001b[0m",
            "\u001b[0;31mAttributeError\u001b[0m: 'MyClass' object has no attribute 'param1'"
          ]
        }
      ]
    },
    {
      "cell_type": "code",
      "source": [
        "# 클래스에서 선언되는 변수는 클래스 멤버와 인스턴스 멤버가 있습니다.\n",
        "# 클래스 멤버: 클래스 메소드 바깥에서 선언\n",
        "# 인스턴스 멤버: 클래스 메소드 안에서 self와 함께 선언되는 변수\n",
        "\n",
        "# 클래스 멤버 var 참조\n",
        "# self.var : 클래스 메소드 내에서 var를 참조하는 경우\n",
        "# MyClass.var: 클래스 밖에서 클래스 이름만으로 참조할 경우\n",
        "# obj.var: MyClass의 인스턴스 객체 obj에서 var를 참조하는 경우\n",
        "\n"
      ],
      "metadata": {
        "id": "7R7kSNR_B9Th"
      },
      "execution_count": 8,
      "outputs": []
    }
  ]
}
