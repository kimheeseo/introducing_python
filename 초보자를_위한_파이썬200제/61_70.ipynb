{
  "nbformat": 4,
  "nbformat_minor": 0,
  "metadata": {
    "colab": {
      "provenance": [],
      "authorship_tag": "ABX9TyPY/Ph6/Qcx786kmuSHHvsB",
      "include_colab_link": true
    },
    "kernelspec": {
      "name": "python3",
      "display_name": "Python 3"
    },
    "language_info": {
      "name": "python"
    }
  },
  "cells": [
    {
      "cell_type": "markdown",
      "metadata": {
        "id": "view-in-github",
        "colab_type": "text"
      },
      "source": [
        "<a href=\"https://colab.research.google.com/github/kimheeseo/python/blob/main/61_70.ipynb\" target=\"_parent\"><img src=\"https://colab.research.google.com/assets/colab-badge.svg\" alt=\"Open In Colab\"/></a>"
      ]
    },
    {
      "cell_type": "code",
      "execution_count": 4,
      "metadata": {
        "colab": {
          "base_uri": "https://localhost:8080/"
        },
        "id": "jZlWXSpoWK-b",
        "outputId": "680d95d8-e1e7-4454-869a-540429c952f8"
      },
      "outputs": [
        {
          "output_type": "stream",
          "name": "stdout",
          "text": [
            "type(numdata)값: <class 'int'>\n",
            "type(strdata)값: <class 'str'>\n",
            "type(dictdata)값: <class 'dict'>\n",
            "type(func)값: <class 'function'>\n"
          ]
        }
      ],
      "source": [
        "# 중급 61. 자료형 확인하기(type)\n",
        "numdata=57\n",
        "strdata='파이썬'\n",
        "listdata=[1,2,3]\n",
        "dictdata={'a':1,'b':2}\n",
        "\n",
        "def func():\n",
        "  print('안녕하세요.')\n",
        "\n",
        "print('type(numdata)값:',type(numdata))\n",
        "print('type(strdata)값:',type(strdata))\n",
        "print('type(dictdata)값:',type(dictdata))\n",
        "print('type(func)값:',type(func))\n",
        "# 파이썬의 자료형은 하나의 클래스입니다.\n",
        "# 파이썬 내장함수인 type()을 활용하면 자료형을 쉽게 확인할 수 있습니다."
      ]
    },
    {
      "cell_type": "code",
      "source": [
        "# 중급 62. 나눗셈에서 나머지만 구하기(%)\n",
        "a=11113\n",
        "b=23\n",
        "ret=a%b\n",
        "print('<%d>를 <%d>로 나누면 <%d>가 나머지로 남습니다.'%(a,b,ret))"
      ],
      "metadata": {
        "colab": {
          "base_uri": "https://localhost:8080/"
        },
        "id": "FY-ik8K_XwgG",
        "outputId": "dbf12ecd-bf9b-4c0f-85b0-0def4e52305a"
      },
      "execution_count": 8,
      "outputs": [
        {
          "output_type": "stream",
          "name": "stdout",
          "text": [
            "<11113>를 <23>로 나누면 <4>가 나머지로 남습니다.\n"
          ]
        }
      ]
    },
    {
      "cell_type": "code",
      "source": [
        "# 중급 63. 몫과 나머지 구하기(divmod)\n",
        "a=11113\n",
        "b=23\n",
        "ret1, ret2=divmod(a,b,)\n",
        "print('<%d / %d>는 몫이 <%d>, 나머지가 <%d>입니다.' %(a, b,ret1,ret2))\n",
        "\n",
        "# ret1: 몫, ret2: 나머지"
      ],
      "metadata": {
        "colab": {
          "base_uri": "https://localhost:8080/"
        },
        "id": "Hn6xFSg5cFbn",
        "outputId": "8b2b1f34-1c90-4c61-ba74-ebdfc8fcd270"
      },
      "execution_count": 9,
      "outputs": [
        {
          "output_type": "stream",
          "name": "stdout",
          "text": [
            "<11113 / 23>는 몫이 <483>, 나머지가 <4>입니다.\n"
          ]
        }
      ]
    },
    {
      "cell_type": "code",
      "source": [
        "# 중급 64. 10진수를 16진수로 변환하기(hex)\n",
        "h1=hex(97) # h1은 문자열은 0x61\n",
        "print('h1값:',h1) # 0x61: 16*6+1=97\n",
        "\n",
        "h2=hex(98)\n",
        "ret1=h1+h2\n",
        "print('ret1값:',ret1)\n",
        "\n",
        "a=int(h1,16)\n",
        "b=int(h2,16)\n",
        "ret2=a+b;\n",
        "print('ret2값:',ret2) #97+98 = 195\n",
        "\n",
        "# 파이썬 내장함수 hex()는 인자로 입력된 10진수 정수를 16진수로 변환해서 문자열로 리턴합니다.\n",
        "# hex()로 변환한 16진수를 덧셈이나 뺄셈을 수행하고자 하면, 파이썬 내장함수 int()를 이용해 숫자로 변환해야 합니다."
      ],
      "metadata": {
        "colab": {
          "base_uri": "https://localhost:8080/"
        },
        "id": "tRb2h2sfcFeI",
        "outputId": "5888aec5-a3d6-4cd8-ce20-78d250917795"
      },
      "execution_count": 14,
      "outputs": [
        {
          "output_type": "stream",
          "name": "stdout",
          "text": [
            "h1값: 0x61\n",
            "ret1값: 0x610x62\n",
            "ret2값: 195\n"
          ]
        }
      ]
    },
    {
      "cell_type": "code",
      "source": [
        "int('0x61',16)\n",
        "# hex()로 변환한 값은 int()를 이용해 숫자로 변환할 수 있습니다."
      ],
      "metadata": {
        "colab": {
          "base_uri": "https://localhost:8080/"
        },
        "id": "w8aiFvv4cFjO",
        "outputId": "797a1b84-1262-4f6f-b5be-8e92c43a7ae4"
      },
      "execution_count": 16,
      "outputs": [
        {
          "output_type": "execute_result",
          "data": {
            "text/plain": [
              "97"
            ]
          },
          "metadata": {},
          "execution_count": 16
        }
      ]
    },
    {
      "cell_type": "code",
      "source": [
        "# 중급 65. 10진수를 2진수로 변환하기(bin)\n",
        "b1=bin(97) # 97 = 2진수: 0b11000001\n",
        "b2=bin(98)\n",
        "print('b2값:',b2)\n",
        "\n",
        "ret1=b1+b2\n",
        "print('ret1값:',ret1)\n",
        "a=int(b1,2)\n",
        "b=int(b2,2)\n",
        "\n",
        "ret2=a+b\n",
        "print('ret2값:',ret2)\n",
        "# bin(): 인자로 입력된 숫자를 2진수로 변환하여 그 값을 문자열로 리턴합니다. 파이썬에서 2진수는 숫자 앞에 0b를 붙여서 나타냅니다."
      ],
      "metadata": {
        "colab": {
          "base_uri": "https://localhost:8080/"
        },
        "id": "3VuZj2jgcFl-",
        "outputId": "6f102a01-db9c-4a90-d852-257e3d1d2aef"
      },
      "execution_count": 19,
      "outputs": [
        {
          "output_type": "stream",
          "name": "stdout",
          "text": [
            "b2값: 0b1100010\n",
            "ret1값: 0b11000010b1100010\n",
            "ret2값: 195\n"
          ]
        }
      ]
    },
    {
      "cell_type": "code",
      "source": [
        "# 중급 66. 2진수, 16진수를 10진수로 변환하기(int)\n",
        "bnum=0b11110000\n",
        "bstr='0b11110000'\n",
        "onum=0o360\n",
        "ostr='0o360'\n",
        "\n",
        "b1=int(bnum)\n",
        "b2=int(bstr,2)\n",
        "print('b1값:',b1)\n",
        "print('b2값:',b2)\n",
        "\n",
        "o1=int(onum)\n",
        "o2=int(ostr,8)\n",
        "print('o1값:',o1)\n",
        "print('o2값:',o2)\n",
        "\n",
        "# 파이썬 내장함수 int(): 2진수, 8진수, 16진수 정수를 10진수 정수로 변환합니다."
      ],
      "metadata": {
        "colab": {
          "base_uri": "https://localhost:8080/"
        },
        "id": "Rlwe58ROcFoe",
        "outputId": "d1182aeb-4bba-48fb-cc55-4847245c487f"
      },
      "execution_count": 23,
      "outputs": [
        {
          "output_type": "stream",
          "name": "stdout",
          "text": [
            "b1값: 240\n",
            "b2값: 240\n",
            "o1값: 240\n",
            "o2값: 240\n"
          ]
        }
      ]
    },
    {
      "cell_type": "code",
      "source": [
        "# 중급 67. 절대값 구하기\n",
        "abs1=abs(-3)\n",
        "print('abs1값:',abs1)\n",
        "\n",
        "abs2=abs(-3.23)\n",
        "print('abs2값:',abs2)\n",
        "\n",
        "abs3=abs(-3+4j)\n",
        "print('abs3값:',abs3)\n",
        "# 만약 복소수가 인자로 입력되면, 복소수의 크기를 리턴합니다."
      ],
      "metadata": {
        "colab": {
          "base_uri": "https://localhost:8080/"
        },
        "id": "W-XQif9VcFrW",
        "outputId": "0f33f329-1256-427d-cfc5-7f1eaf7c3bbf"
      },
      "execution_count": 24,
      "outputs": [
        {
          "output_type": "stream",
          "name": "stdout",
          "text": [
            "abs1값: 3\n",
            "abs2값: 3.23\n",
            "abs3값: 5.0\n"
          ]
        }
      ]
    },
    {
      "cell_type": "code",
      "source": [
        "# 중급 68. 반올림수 구하기(round)\n",
        "ret1=round(1118)\n",
        "print('ret1값:',ret1)\n",
        "\n",
        "ret2=round(16.23)\n",
        "print('ret2값:',ret2)\n",
        "\n",
        "ret3=round(-12.3)\n",
        "print('ret3값:',ret3)\n",
        "\n",
        "# 파이썬 내장함수 round(): 인자로 입력된 수치형 자료를 지정된 자리수에서 반올림한 결과를 리턴합니다."
      ],
      "metadata": {
        "colab": {
          "base_uri": "https://localhost:8080/"
        },
        "id": "hwzmAGnQcFt3",
        "outputId": "832b2a55-dc30-4604-8f8e-4d534d808da6"
      },
      "execution_count": 25,
      "outputs": [
        {
          "output_type": "stream",
          "name": "stdout",
          "text": [
            "ret1값: 1118\n",
            "ret2값: 16\n",
            "ret3값: -12\n"
          ]
        }
      ]
    },
    {
      "cell_type": "code",
      "source": [
        "# 중급 69. 실수형 자료를 정수형 자료로 변환하기(int)\n",
        "idata1=int(-5.4)\n",
        "print('idata1값:',idata1)\n",
        "\n",
        "idata2=int(1.78e1)\n",
        "print('idata2값:',idata2)\n",
        "\n",
        "# int(): 입력된 실수형 자료의 소수부분은 버리고, 정수 부분만 취하여 정수값으로 리턴합니다.\n",
        "# 파이썬 내장함수 int(): 인자로 입력된 실수형 자료를 정수형 자료로 변환해 줍니다."
      ],
      "metadata": {
        "colab": {
          "base_uri": "https://localhost:8080/"
        },
        "id": "dzSt_iCZcFwe",
        "outputId": "43c44354-2060-4542-f61e-16fb24747391"
      },
      "execution_count": 26,
      "outputs": [
        {
          "output_type": "stream",
          "name": "stdout",
          "text": [
            "idata1값: -5\n",
            "idata2값: 17\n"
          ]
        }
      ]
    },
    {
      "cell_type": "code",
      "source": [
        "# 중급 70. 정수형 자료를 실수형 자료로 변환하기(float)\n",
        "fdata=float(10)\n",
        "print('fdata값:',fdata)\n",
        "# 이미지 처리나 공학용 프로그램을 작성할 때 실수형 자료끼리만 계산해야 하는 경우가 많습니다."
      ],
      "metadata": {
        "colab": {
          "base_uri": "https://localhost:8080/"
        },
        "id": "gZa4wErMcFzB",
        "outputId": "7d06f386-9292-47d4-92dc-a94c9995b2da"
      },
      "execution_count": 27,
      "outputs": [
        {
          "output_type": "stream",
          "name": "stdout",
          "text": [
            "fdata값: 10.0\n"
          ]
        }
      ]
    }
  ]
}
