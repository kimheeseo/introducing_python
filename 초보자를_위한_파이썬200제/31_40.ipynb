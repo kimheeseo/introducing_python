{
  "nbformat": 4,
  "nbformat_minor": 0,
  "metadata": {
    "colab": {
      "provenance": [],
      "authorship_tag": "ABX9TyPUFrSudGWusrlZRh8CrOh7",
      "include_colab_link": true
    },
    "kernelspec": {
      "name": "python3",
      "display_name": "Python 3"
    },
    "language_info": {
      "name": "python"
    }
  },
  "cells": [
    {
      "cell_type": "markdown",
      "metadata": {
        "id": "view-in-github",
        "colab_type": "text"
      },
      "source": [
        "<a href=\"https://colab.research.google.com/github/kimheeseo/python/blob/main/31_40.ipynb\" target=\"_parent\"><img src=\"https://colab.research.google.com/assets/colab-badge.svg\" alt=\"Open In Colab\"/></a>"
      ]
    },
    {
      "cell_type": "code",
      "execution_count": 1,
      "metadata": {
        "colab": {
          "base_uri": "https://localhost:8080/"
        },
        "id": "zSx3F6IZsSLs",
        "outputId": "9302469d-7b8c-4511-f13d-dbce78fab135"
      },
      "outputs": [
        {
          "output_type": "stream",
          "name": "stdout",
          "text": [
            "strdata1길이: 13\n",
            "strdata2길이: 14\n"
          ]
        }
      ],
      "source": [
        "# 초급 31. 시퀀스 자료 크기 이해하기(len)\n",
        "strdata1='I love python'\n",
        "print('strdata1길이:', len(strdata1))\n",
        "\n",
        "strdata2='나는 파이썬을 사랑합니다.'\n",
        "print('strdata2길이:', len(strdata2))\n",
        "\n",
        "# 모든 시퀀스 자료는 고정된 길이 또는 크기를 가지고 있습니다.\n",
        "# 시퀀스 자료의 크기는 시퀀스 자료를 구성하는 요소의 개수입니다.\n",
        "# 문자열은 문자가 요소이고, 리스트와 튜플은 임의이 객체가 요소이며 콤마(,)로 구분되어 있습니다."
      ]
    },
    {
      "cell_type": "code",
      "source": [
        "# 초급 32. 멤버체크 이해하기\n",
        "listdata=[1,2,3,4]\n",
        "ret1 = 5 in listdata\n",
        "ret2 = 4 in listdata\n",
        "\n",
        "print('ret1값:',ret1)\n",
        "print('ret2값:',ret2)\n",
        "\n",
        "strdata='abcde'\n",
        "ret3= 'c' in strdata\n",
        "print('ret3값:',ret3)\n",
        "\n",
        "# in은 자료에 어떤 값이 있는지 없는지 확인할 때 사용하는 키워드.\n",
        "# <값> in <자료>: 값이 자료에 있으면 결과는 True이고, 없으면 False가 됩니다."
      ],
      "metadata": {
        "colab": {
          "base_uri": "https://localhost:8080/"
        },
        "id": "VqPn7WPas-cw",
        "outputId": "6fe2efe0-804c-4a19-f01e-c572595601ec"
      },
      "execution_count": 2,
      "outputs": [
        {
          "output_type": "stream",
          "name": "stdout",
          "text": [
            "ret1값: False\n",
            "ret2값: True\n",
            "ret3값: True\n"
          ]
        }
      ]
    },
    {
      "cell_type": "code",
      "source": [
        "# 초급 33. 문자열 이해하기\n",
        "strdata1='나는 파이썬 프로그래머다'\n",
        "strdata2='you are a programmer'\n",
        "strdata3=\"\"\"I love\n",
        "  python. You love\n",
        "  python too!\n",
        "\"\"\"\n",
        "\n",
        "print('strdata2값:',strdata2)\n",
        "print('strdata3값:',strdata3)\n",
        "\n",
        "# 문자열은 문자나 기호가 순서로 나열되어 있는 시퀀스 자료.\n",
        "# \"\"\" \"\"\"을 이요해 문자열을 정의합니다. \"\"\" \"\"\"로 둘러싸인 부분이면 줄바꿈이 되더라도\n",
        "# 모든 것이 문자열로 정의됩니다. \"\"\" \"\"\"은 블록 단위로 주석 처리할 때도 사용됩니다."
      ],
      "metadata": {
        "colab": {
          "base_uri": "https://localhost:8080/"
        },
        "id": "7ne1NQQ3wMvx",
        "outputId": "ccddd096-7617-418c-d134-54ec0b734f34"
      },
      "execution_count": 3,
      "outputs": [
        {
          "output_type": "stream",
          "name": "stdout",
          "text": [
            "strdata2값: you are a programmer\n",
            "strdata3값: I love\n",
            "  python. You love\n",
            "  python too!\n",
            "\n"
          ]
        }
      ]
    },
    {
      "cell_type": "code",
      "source": [
        "# 초급 34. 문자열 포맷팅 이해하기\n",
        "txt1='자바'; txt2='파이썬'\n",
        "num1=5; num2=10\n",
        "\n",
        "print('나는 %s보다 %s에 더 익숙합니다.' %(txt1, txt2))\n",
        "print('%s은 %s보다 %d배 더 쉽습니다.' %(txt2, txt1,num1))\n",
        "\n",
        "# 포맷 문자열\n",
        "# %s: 문자열에 대응됨\n",
        "# %f: 실수에 대응됨\n",
        "# %d: 정수에 대응됨\n",
        "# %%: %라는 기호 자체를 표시함"
      ],
      "metadata": {
        "colab": {
          "base_uri": "https://localhost:8080/"
        },
        "id": "v7ZiNHeys-fZ",
        "outputId": "119d9abd-db6c-4160-ce62-c71fae198cb1"
      },
      "execution_count": 6,
      "outputs": [
        {
          "output_type": "stream",
          "name": "stdout",
          "text": [
            "나는 자바보다 파이썬에 더 익숙합니다.\n",
            "파이썬은 자바보다 5배 더 쉽습니다.\n"
          ]
        }
      ]
    },
    {
      "cell_type": "code",
      "source": [
        "from time import sleep\n",
        "for i in range(100):\n",
        "  msg='\\r 진행률 %d %%'%(i+1)\n",
        "  print(''*len(msg), end='')\n",
        "  # msg길이만큼 공백 문자를 줄바꿈 없이 화면에 출력합니다.\n",
        "\n",
        "  print(msg, end='')\n",
        "  sleep(0.1)"
      ],
      "metadata": {
        "colab": {
          "base_uri": "https://localhost:8080/"
        },
        "id": "DnbzAdi2xcZB",
        "outputId": "5b5bacd3-e02d-4fbb-eb5c-09bd85db8a5d"
      },
      "execution_count": 8,
      "outputs": [
        {
          "output_type": "stream",
          "name": "stdout",
          "text": [
            " 진행률 100 %"
          ]
        }
      ]
    },
    {
      "cell_type": "code",
      "source": [
        "# 초급 35. 이스케이프 문자 이해하기\n",
        "print('나는 파이썬을 사랑합니다. \\n 파이썬은 자바보다 훨씬 쉽습니다.')\n",
        "\n",
        "# 이스케이프 문자: 키보드로 입력하기 어려운 기호를 나타내기 위해 역슬래쉬 '\\'로 시작하는 문자.\n",
        "\n",
        "# 이스케이프 문자\n",
        "# \\n: 줄바꾸기\n",
        "# \\t: 탭\n",
        "# \\\\: \\기호 자체\n",
        "# \\' 또는 \\\"\": '기호 또는 \"기호 자체\n",
        "\n",
        "print('Name: John Smith \\t sex: male \\t age:22')\n",
        "print('이 문장은 화면 폭에 비해 너무 길어 보기가 힘듭니다. \\\n",
        "그래서 \\\\enter 키를 이용해 문장을 다음줄과 연속되도록 했습니다.')"
      ],
      "metadata": {
        "colab": {
          "base_uri": "https://localhost:8080/"
        },
        "id": "4SxgXUkPs-h2",
        "outputId": "f7358003-83fb-4636-cecb-33ac38395a27"
      },
      "execution_count": 9,
      "outputs": [
        {
          "output_type": "stream",
          "name": "stdout",
          "text": [
            "나는 파이썬을 사랑합니다. \n",
            " 파이썬은 자바보다 훨씬 쉽습니다.\n",
            "Name: John Smith \t sex: male \t age:22\n",
            "이 문장은 화면 폭에 비해 너무 길어 보기가 힘듭니다. 그래서 \\enter 키를 이용해 문장을 다음줄과 연속되도록 했습니다.\n"
          ]
        }
      ]
    },
    {
      "cell_type": "code",
      "source": [
        "# 초급 36. 리스트 이해하기\n",
        "list1=[1,2,3,4,5]\n",
        "print('list값:',list1)\n",
        "list1[0]=6\n",
        "print('list값:',list1)\n",
        "\n",
        "def myfunc():\n",
        "  print('안녕하세요.')\n",
        "list4=[1,2, myfunc]\n",
        "list4[2]()"
      ],
      "metadata": {
        "colab": {
          "base_uri": "https://localhost:8080/"
        },
        "id": "H9UG0Ywes-kY",
        "outputId": "65e5e520-0168-4850-bfa1-05e7f078df58"
      },
      "execution_count": 18,
      "outputs": [
        {
          "output_type": "stream",
          "name": "stdout",
          "text": [
            "list값: [1, 2, 3, 4, 5]\n",
            "list값: [6, 2, 3, 4, 5]\n",
            "안녕하세요.\n"
          ]
        }
      ]
    },
    {
      "cell_type": "code",
      "source": [
        "print('list4[2]값:',list4[2])\n",
        "# def myfunc(): myfunc()라는 함수를 정의합니다.\n",
        "# 이 함수를 호출하면 단순히 '안녕하세요'를 출력합니다.\n",
        "# list4[2](): myfunc()를 실행하는 것과 같으므로, '안녕하세요'가 출력됩니다."
      ],
      "metadata": {
        "colab": {
          "base_uri": "https://localhost:8080/"
        },
        "id": "bvPN07Xis-pn",
        "outputId": "30de53ec-9afd-45b3-f9ce-0f513cd676e8"
      },
      "execution_count": 21,
      "outputs": [
        {
          "output_type": "stream",
          "name": "stdout",
          "text": [
            "list4[2]값: <function myfunc at 0x7f3a4696d990>\n"
          ]
        }
      ]
    },
    {
      "cell_type": "code",
      "source": [
        "# 초급 37. 튜플 이해하기\n",
        "tuple1=(1,2,3,4,5)\n",
        "tuple2=('a','b','c')\n",
        "tuple1[0]=6\n",
        "# 튜플의 요소는 그 값을 변경할 수 없기 때문에, TypeError 발생."
      ],
      "metadata": {
        "colab": {
          "base_uri": "https://localhost:8080/",
          "height": 184
        },
        "id": "B6cgkgIqs-v-",
        "outputId": "fa8af3fd-a3c9-428f-934d-1d336155799f"
      },
      "execution_count": 22,
      "outputs": [
        {
          "output_type": "error",
          "ename": "TypeError",
          "evalue": "'tuple' object does not support item assignment",
          "traceback": [
            "\u001b[0;31m---------------------------------------------------------------------------\u001b[0m",
            "\u001b[0;31mTypeError\u001b[0m                                 Traceback (most recent call last)",
            "\u001b[0;32m<ipython-input-22-39247695455c>\u001b[0m in \u001b[0;36m<cell line: 4>\u001b[0;34m()\u001b[0m\n\u001b[1;32m      2\u001b[0m \u001b[0mtuple1\u001b[0m\u001b[0;34m=\u001b[0m\u001b[0;34m(\u001b[0m\u001b[0;36m1\u001b[0m\u001b[0;34m,\u001b[0m\u001b[0;36m2\u001b[0m\u001b[0;34m,\u001b[0m\u001b[0;36m3\u001b[0m\u001b[0;34m,\u001b[0m\u001b[0;36m4\u001b[0m\u001b[0;34m,\u001b[0m\u001b[0;36m5\u001b[0m\u001b[0;34m)\u001b[0m\u001b[0;34m\u001b[0m\u001b[0;34m\u001b[0m\u001b[0m\n\u001b[1;32m      3\u001b[0m \u001b[0mtuple2\u001b[0m\u001b[0;34m=\u001b[0m\u001b[0;34m(\u001b[0m\u001b[0;34m'a'\u001b[0m\u001b[0;34m,\u001b[0m\u001b[0;34m'b'\u001b[0m\u001b[0;34m,\u001b[0m\u001b[0;34m'c'\u001b[0m\u001b[0;34m)\u001b[0m\u001b[0;34m\u001b[0m\u001b[0;34m\u001b[0m\u001b[0m\n\u001b[0;32m----> 4\u001b[0;31m \u001b[0mtuple1\u001b[0m\u001b[0;34m[\u001b[0m\u001b[0;36m0\u001b[0m\u001b[0;34m]\u001b[0m\u001b[0;34m=\u001b[0m\u001b[0;36m6\u001b[0m\u001b[0;34m\u001b[0m\u001b[0;34m\u001b[0m\u001b[0m\n\u001b[0m",
            "\u001b[0;31mTypeError\u001b[0m: 'tuple' object does not support item assignment"
          ]
        }
      ]
    },
    {
      "cell_type": "code",
      "source": [
        "# 튜플: 리스트와 비슷한 성질을 가지고 있는 자료형이지만, 요소의 값을 변경할 수 없다는 것이 특징입니다.\n",
        "# 튜플은 리스트와 마찬가지로 임의의 객체를 요소로 가질 수 있는 시퀀스 자료형."
      ],
      "metadata": {
        "id": "5vk4Ddjgs-y_"
      },
      "execution_count": null,
      "outputs": []
    },
    {
      "cell_type": "code",
      "source": [
        "# 초급 38. 사전 이해하기\n",
        "dict1={'a':1, 'b':2, 'c':3}\n",
        "print('dict1값:',dict1)\n",
        "\n",
        "dict1['d']=4\n",
        "print('dict1값:',dict1)\n",
        "\n",
        "dict1['b']=7\n",
        "print('dict1값:',dict1)\n",
        "\n",
        "print(len(dict1))\n",
        "# 사전의 크기를 구할 때는 시퀀스 자료형의 크기를 구할 때, 사용했던 len()을 사용하면 됩니다.\n",
        "# 사전의 크기는 콤마로 구분되는 요소들의 갯수입니다."
      ],
      "metadata": {
        "colab": {
          "base_uri": "https://localhost:8080/"
        },
        "id": "ie05JsYd1l_P",
        "outputId": "0a4c1a31-f3a5-4f0d-ecb0-51a1d0d2ea05"
      },
      "execution_count": 25,
      "outputs": [
        {
          "output_type": "stream",
          "name": "stdout",
          "text": [
            "dict1값: {'a': 1, 'b': 2, 'c': 3}\n",
            "dict1값: {'a': 1, 'b': 2, 'c': 3, 'd': 4}\n",
            "dict1값: {'a': 1, 'b': 7, 'c': 3, 'd': 4}\n",
            "4\n"
          ]
        }
      ]
    },
    {
      "cell_type": "code",
      "source": [
        "# 초급 39. 함수 이해하기(def)\n",
        "def add_number(n1, n2):\n",
        "  ret=n1+n2\n",
        "  return ret\n",
        "\n",
        "def add_txt(t1,t2):\n",
        "  print(t1+t2)\n",
        "\n",
        "ans=add_number(10,15)\n",
        "print(ans)\n",
        "\n",
        "text1='대한민국~'\n",
        "text2='만세!'\n",
        "add_txt(text1, text2) # 대한민국~만세!'가 출력됨\n",
        "\n",
        "# 함수란 특정 목적을 가진 코드의 집합이며, 독립적으로 호출 될 수 있는 것.\n",
        "\n",
        "# 예를 들어, 두 수를 입력받아 더한 값을 계산하는 코드가 필요하다고 생각해 봅니다.\n",
        "# 두 수를 더하는 기능이 자신이 만들고자 하는 프로그램 여러 곳에서 사용된다고 할 때 이 부분만을 따로 구성하여 재사용할\n",
        "# 수 있도록 하면 효율적인 프로그래밍이 될 것입니다.\n",
        "\n",
        "# 인자와 리턴 값이 있는 함수 선언 방법\n",
        "# def 함수이름(인자1, 인자2,...):\n",
        "#   코드들\n",
        "#   return 결과값\n",
        "\n",
        "# 함수의 인자가 없는 경우에는 함수 이름만 호출하면 됩니다.\n",
        "# 함수의 리턴 값이 있는 경우에는 다음과 같이 함수 리턴 값을 받을 변수를 지정해 주면 됩니다."
      ],
      "metadata": {
        "colab": {
          "base_uri": "https://localhost:8080/"
        },
        "id": "bd1yQSuG1mK8",
        "outputId": "ceb2ef74-1b34-442c-a10d-0bb47f23d111"
      },
      "execution_count": 27,
      "outputs": [
        {
          "output_type": "stream",
          "name": "stdout",
          "text": [
            "25\n",
            "대한민국~만세!\n"
          ]
        }
      ]
    },
    {
      "cell_type": "code",
      "source": [
        "# 초급 40. 함수 인자 이해하기\n",
        "def add_txt(t1, t2='파이썬'):\n",
        "  print(t1+':'+t2)\n",
        "\n",
        "add_txt('베스트')\n",
        "# add_txt함수의 첫 번째 인자인 t1에 '베스트'가 대입됩니다. t2에 아무런 값이 지정되지 않았으므로,\n",
        "# 기본값으로 지정된 '파이썬'이 t2에 적용됩니다.\n",
        "\n",
        "add_txt(t2='대한민국',t1='1등')\n",
        "\n",
        "def func1(*args):\n",
        "  print(args)\n",
        "\n",
        "def func2(width, height, **kwargs):\n",
        "  print(kwargs)\n",
        "\n",
        "func1() # 빈 튜플 ()이 출력됨\n",
        "# func1에 아무런 값을 전달하지 않았을 경우, arg는 빈 튜플이 됩니다.\n",
        "\n",
        "func1(3,5,1,5) # (3,5,1,5)가 출력됨\n",
        "\n",
        "func2(10,20) # 빈 사전{}이 출력됨\n",
        "# func2에 width와 height에 해당하는 값이 10, 20만 전달하여 호출하면 **kwargs에 전달되는 값이 없으며,\n",
        "# kwargs는 함수 내부에서 빈 사전 자료가 됩니다.\n",
        "\n",
        "func2(10,20, depth=50, color='blue') # ['depth':50, 'color':'blue'}이 출력됨"
      ],
      "metadata": {
        "colab": {
          "base_uri": "https://localhost:8080/"
        },
        "id": "ArnpCF881mPM",
        "outputId": "d983aead-b859-40fd-db50-90906a99b60e"
      },
      "execution_count": 31,
      "outputs": [
        {
          "output_type": "stream",
          "name": "stdout",
          "text": [
            "베스트:파이썬\n",
            "1등:대한민국\n",
            "()\n",
            "(3, 5, 1, 5)\n",
            "{}\n",
            "{'depth': 50, 'color': 'blue'}\n"
          ]
        }
      ]
    }
  ]
}
