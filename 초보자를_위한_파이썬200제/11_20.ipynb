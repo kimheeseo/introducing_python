{
  "nbformat": 4,
  "nbformat_minor": 0,
  "metadata": {
    "colab": {
      "provenance": [],
      "authorship_tag": "ABX9TyNfZJt7s0dEnmGeaqWoHQR/",
      "include_colab_link": true
    },
    "kernelspec": {
      "name": "python3",
      "display_name": "Python 3"
    },
    "language_info": {
      "name": "python"
    }
  },
  "cells": [
    {
      "cell_type": "markdown",
      "metadata": {
        "id": "view-in-github",
        "colab_type": "text"
      },
      "source": [
        "<a href=\"https://colab.research.google.com/github/kimheeseo/python/blob/main/11_20.ipynb\" target=\"_parent\"><img src=\"https://colab.research.google.com/assets/colab-badge.svg\" alt=\"Open In Colab\"/></a>"
      ]
    },
    {
      "cell_type": "code",
      "source": [
        "# 입문 11. for문 개념 배우기 (for)\n",
        "scope=[1,2,3,4,5]\n",
        "for x in scope:\n",
        "  print(x)\n",
        "# for 문은 특정 범위의 자료나 객체에 대해 처음부터 끝까지 하나씩 추출하여 특정 코드를 반복적으로 수행하기 위해 가장 많이 사용되는 반복문."
      ],
      "metadata": {
        "colab": {
          "base_uri": "https://localhost:8080/"
        },
        "id": "zaUQY8SMcOCr",
        "outputId": "2f00a6e7-ff59-470a-ee10-d8b4aa482c85"
      },
      "execution_count": null,
      "outputs": [
        {
          "output_type": "stream",
          "name": "stdout",
          "text": [
            "1\n",
            "2\n",
            "3\n",
            "4\n",
            "5\n"
          ]
        }
      ]
    },
    {
      "cell_type": "code",
      "source": [
        "# 문자열을 범위로 지정한 예\n",
        "str='abcdef'\n",
        "for c in str:\n",
        "  print(c)"
      ],
      "metadata": {
        "colab": {
          "base_uri": "https://localhost:8080/"
        },
        "id": "3sntn-6hcOFJ",
        "outputId": "533b69c2-c71b-4237-fa09-182ba1032c08"
      },
      "execution_count": null,
      "outputs": [
        {
          "output_type": "stream",
          "name": "stdout",
          "text": [
            "a\n",
            "b\n",
            "c\n",
            "d\n",
            "e\n",
            "f\n"
          ]
        }
      ]
    },
    {
      "cell_type": "code",
      "source": [
        "# 사전을 범위로 지정한 에\n",
        "ascii_codes={'a':97,'b':98,'c':99}\n",
        "for c in ascii_codes:\n",
        "  print(c)"
      ],
      "metadata": {
        "colab": {
          "base_uri": "https://localhost:8080/"
        },
        "id": "UbYNL91scOHx",
        "outputId": "3c3dd725-0360-4840-8eea-bd03a24f7390"
      },
      "execution_count": null,
      "outputs": [
        {
          "output_type": "stream",
          "name": "stdout",
          "text": [
            "a\n",
            "b\n",
            "c\n"
          ]
        }
      ]
    },
    {
      "cell_type": "code",
      "source": [
        "# 입문 12. for문 개념 배우기(for~continue~break)\n",
        "scope=[1,2,3,4,5]\n",
        "for x in scope:\n",
        "  print(x)\n",
        "  if x<3:\n",
        "    continue\n",
        "  else:\n",
        "    break\n",
        "\n",
        "# for문을 이용해 반복문을 수행하다가 어떤 조건에 따라 반복문을 계속 수행하고, 아니면 반복문을 벗어나야 하는 경우가 있습니다.\n",
        "# for 반복문 안에서 continue를 만나면 이후 코드는 수행하지 않고, 다음 반복문을 수행하게 되며, break를 만나면 for 반복문을 탈출하게 됩니다."
      ],
      "metadata": {
        "colab": {
          "base_uri": "https://localhost:8080/"
        },
        "id": "Niefuu2ocOKB",
        "outputId": "1920c22c-40d9-4c25-dbbf-c5708ef93d83"
      },
      "execution_count": null,
      "outputs": [
        {
          "output_type": "stream",
          "name": "stdout",
          "text": [
            "1\n",
            "2\n",
            "3\n"
          ]
        }
      ]
    },
    {
      "cell_type": "code",
      "source": [
        "# 입문 13. for문 개념 배우기(for~else)\n",
        "scope=[1,2,3]\n",
        "for x in scope:\n",
        "  print(x)\n",
        "else:\n",
        "  print('perfect')\n",
        "\n",
        "# else로의 진입은 for 반복문에서 break 등에 의해 중간에 중단됨이 없이 정상적으로 실행이 다 되었을 경우입니다."
      ],
      "metadata": {
        "colab": {
          "base_uri": "https://localhost:8080/"
        },
        "id": "5waGBvNmcOMh",
        "outputId": "a4346256-0ed8-44e4-866c-23c2493d7db7"
      },
      "execution_count": null,
      "outputs": [
        {
          "output_type": "stream",
          "name": "stdout",
          "text": [
            "1\n",
            "2\n",
            "3\n",
            "perfect\n"
          ]
        }
      ]
    },
    {
      "cell_type": "code",
      "source": [
        "# 입문 14. while문 개념 배우기 (while~continue~break)\n",
        "x=0\n",
        "while x<10:\n",
        "  x=x+1\n",
        "  if x<3:\n",
        "    continue\n",
        "  print(x)\n",
        "  if x>7:\n",
        "    break\n",
        "# for문이 범위가 지정된 자료나 반복 가능한 객체를 이용해 반복문을 수행하는 것이라면\n",
        "# while문은 특정 조건을 만족하는 경우 지속적으로 반복을 수행하는 반복문.\n",
        "# while 다음에 놓인 조건이 거짓일 때까지 while 반복문을 계속 수행합니다.\n",
        "# while 반복문 내에서 break 키워드를 만나면 while 반복문을 탈출하게 됩니다."
      ],
      "metadata": {
        "colab": {
          "base_uri": "https://localhost:8080/"
        },
        "id": "iwrYm-a-cOPh",
        "outputId": "635c0aed-843f-4285-e110-ed7aa0fe081f"
      },
      "execution_count": null,
      "outputs": [
        {
          "output_type": "stream",
          "name": "stdout",
          "text": [
            "3\n",
            "4\n",
            "5\n",
            "6\n",
            "7\n",
            "8\n"
          ]
        }
      ]
    },
    {
      "cell_type": "markdown",
      "source": [
        "**while 1:문**"
      ],
      "metadata": {
        "id": "ATYylceuA--O"
      }
    },
    {
      "cell_type": "code",
      "source": [
        "x=1\n",
        "total=0\n",
        "while 1:\n",
        "# while 1: = 조건 자체가 참이므로, while 반복문을 무한 반복하게 됩니다. 이런 경우 while 반복문을 탈출하기 위해서는\n",
        "# break를 활용하는 방법 밖에 없습니다.\n",
        "  total=total+x\n",
        "  if total>100000:\n",
        "    print(x)\n",
        "    print(total)\n",
        "    break\n",
        "  x=x+1\n",
        "# while은 특정 조건을 만족할 때까지 반복 실행하는 무한 루프를 구현하는 경우에 많이 사용됩니다.\n",
        "# 파이썬은 참은 1, 거짓은 0으로 정의하고 있습니다.\n",
        "# 보통 프로그래밍 언어에서 참은 1로, 거짓은 0으로 정의합니다.\n",
        "# None으로 지정된 변수에 값이 있는 임의의 자료형을 대입하여 활용할 수 있습니다."
      ],
      "metadata": {
        "id": "Jh_B8iPTjjzf",
        "colab": {
          "base_uri": "https://localhost:8080/"
        },
        "outputId": "ac5ead10-b776-4227-e41d-049bbc6a060c"
      },
      "execution_count": 5,
      "outputs": [
        {
          "output_type": "stream",
          "name": "stdout",
          "text": [
            "447\n",
            "100128\n"
          ]
        }
      ]
    },
    {
      "cell_type": "code",
      "source": [
        "# 입문 15. None 개념 배우기\n",
        "val=None\n",
        "condition =1\n",
        "if condition ==1:\n",
        "  val=[1,2,3]\n",
        "else:\n",
        "  val='I love Python'\n",
        "print('val값:',val)\n",
        "# 파이썬은 None이라는 특별한 상수가 있습니다.\n",
        "# None은 Types.NoneType의 유일한 값으로, 값이 존재하지 않는 변수에 대입하여\n",
        "# 이 변수에 아무런 값이 없다는 것을 나타내기 위해 주로 활용된다.\n",
        "\n",
        "# 다시 말해, None이 대입된 변수는 아무런 값도 없는 빈 깡통 변수라고 생각하면 됩니다.\n",
        "# val=None으로 선언한 경우, val은 아무런 값도 가지지 않는 변수 이므로 이 변수로는 할 수 있는 것이 아무것도 없습니다.\n",
        "\n",
        "# 어떤 변수에 대입할 자료형을 결정하지 않은 상태로 선언할 때,\n",
        "# None을 대입하거나, 함수에서 아무 값도 리턴하지 않고 끝낼 때 사용하기도 합니다.\n",
        "\n",
        "# 함수 로직에서 예외가 발생하거나 오류가 발생하여 None을 리턴하여 종료하면 이 함수를 호출한 쪽에서\n",
        "# 호출한 함수가 실행 도중 오류가 발생하여 비정상적으로 종료되었음을 알 수 있게 합니다."
      ],
      "metadata": {
        "id": "qfIwW9ecjj2J",
        "colab": {
          "base_uri": "https://localhost:8080/"
        },
        "outputId": "f3166689-e495-4e26-c3c2-cfc8976890db"
      },
      "execution_count": 7,
      "outputs": [
        {
          "output_type": "stream",
          "name": "stdout",
          "text": [
            "val값: [1, 2, 3]\n"
          ]
        }
      ]
    },
    {
      "cell_type": "code",
      "source": [
        "# 초급 16. 정수형 자료 이해하기\n",
        "int_data=10\n",
        "bin_data=0b10\n",
        "oct_data=0o10\n",
        "\n",
        "print('int_data값:',int_data)\n",
        "print('bin_data값:',bin_data)\n",
        "print('oct_data값:',oct_data)\n",
        "\n",
        "# 2진수: 0b\n",
        "# 8진수: 0o\n",
        "# 16진수: 0"
      ],
      "metadata": {
        "colab": {
          "base_uri": "https://localhost:8080/"
        },
        "id": "pBoR1D1FDxje",
        "outputId": "fd901a7e-55f1-4f31-e299-3f908d78feff"
      },
      "execution_count": 8,
      "outputs": [
        {
          "output_type": "stream",
          "name": "stdout",
          "text": [
            "int_data값: 10\n",
            "bin_data값: 2\n",
            "oct_data값: 8\n"
          ]
        }
      ]
    },
    {
      "cell_type": "code",
      "source": [
        "# 초급 17. 실수형 자료 이해하기\n",
        "f1=1.0\n",
        "f2=3.14\n",
        "\n",
        "print('f1값:',f1)\n",
        "print('f2값:',f2)\n",
        "\n",
        "# 실수는 소수로 나타낼 수 있는 유리수와 원주율이나 sqrt(2)와 같은 소수로 표현할 수 없는 무리수로 구성된 수 집합.\n",
        "\n",
        "# 실수형 상수를 표현하는 또 다른 방법은 e를 사용하는 것입니다.\n",
        "# e는 10의 거듭제곱을 나타냅니다. e2은 10^2를 나타내며, e-3은 10^(-3)을 나타냅니다."
      ],
      "metadata": {
        "colab": {
          "base_uri": "https://localhost:8080/"
        },
        "id": "FNmLoFvTDXUp",
        "outputId": "3152ba35-ca9f-4cba-a0da-e442309b9865"
      },
      "execution_count": 9,
      "outputs": [
        {
          "output_type": "stream",
          "name": "stdout",
          "text": [
            "f1값: 1.0\n",
            "f2값: 3.14\n"
          ]
        }
      ]
    },
    {
      "cell_type": "code",
      "source": [
        "# 초급 18. 복소수형 자료 이해하기\n",
        "c1=1+7j\n",
        "print('c1의 실수값:',c1.real)\n",
        "print('c1의 허수값:',c1.imag)\n",
        "\n",
        "c2=complex(2,3)\n",
        "print('c2값:',c2)\n",
        "# 복소수형 상수는 실수부+허수부로 되어 있는 수 입니다. 우리가 배운 수학에서의 허수부는 i를 이용해 표현하고 있지만, 파이썬에서는 j를 이용합니다."
      ],
      "metadata": {
        "colab": {
          "base_uri": "https://localhost:8080/"
        },
        "id": "Ccq5nfWFDXi2",
        "outputId": "8c326e79-3871-4608-af4f-7672e2fd5223"
      },
      "execution_count": 10,
      "outputs": [
        {
          "output_type": "stream",
          "name": "stdout",
          "text": [
            "c1의 실수값: 1.0\n",
            "c1의 허수값: 7.0\n",
            "c2값: (2+3j)\n"
          ]
        }
      ]
    },
    {
      "cell_type": "code",
      "source": [
        "# 초급 19. 대입 연산자 대입하기(=)\n",
        "a=1\n",
        "b=2\n",
        "ret=a+b\n",
        "print('a와 b를 더한값은:',end='')\n",
        "print(ret,end='')\n",
        "print('입니다.')\n",
        "\n",
        "# 수학에서는 '='는 '=' 왼쪽의 값과 오른쪽의 값이 가다는 의미를 가지지만,\n",
        "# 파이썬을 포함한 컴퓨터 프로그래밍 언어에서는 '='는 '=' 왼쪽의 변수에 '=' 오른쪽의 값을 대입한다는 의미.\n",
        "# 파이썬에서 두 값이 같다는 것을 나타내는 등호 연산자는 = 두개가 연속으로 되어 있는 ==입니다."
      ],
      "metadata": {
        "id": "G_z5f40MjkAf",
        "colab": {
          "base_uri": "https://localhost:8080/"
        },
        "outputId": "efba0cc5-498d-487f-fc25-6f1c962b494a"
      },
      "execution_count": 12,
      "outputs": [
        {
          "output_type": "stream",
          "name": "stdout",
          "text": [
            "a와 b를 더한값은:3입니다.\n"
          ]
        }
      ]
    },
    {
      "cell_type": "code",
      "source": [
        "# 초급 20. 사칙 연산자 이해하기\n",
        "a=2\n",
        "b=4\n",
        "ret1=a+b # ret1=2+4 = 6\n",
        "ret2=a-b # ret2=2-4 = -2\n",
        "ret3=a*b # ret3=2*4=8\n",
        "\n",
        "print('ret1값:',ret1)\n",
        "print('ret2값:',ret2)\n",
        "print('ret3값:',ret3)"
      ],
      "metadata": {
        "id": "d0-qeQ2jjkQA",
        "colab": {
          "base_uri": "https://localhost:8080/"
        },
        "outputId": "251f1a94-ab32-4ac9-dbc8-ab253d43507c"
      },
      "execution_count": 14,
      "outputs": [
        {
          "output_type": "stream",
          "name": "stdout",
          "text": [
            "ret1값: 6\n",
            "ret2값: -2\n",
            "ret3값: 8\n"
          ]
        }
      ]
    },
    {
      "cell_type": "code",
      "source": [
        "ret4=a/b # ret4 2/4=0.5\n",
        "ret5=a**b # ret5=2^4=16\n",
        "ret6=a+a*b/a # ret6=2+2*4/2=6\n",
        "\n",
        "print('ret4값:',ret4)\n",
        "print('ret5값:',ret5)\n",
        "print('ret6값:',ret6)"
      ],
      "metadata": {
        "id": "0098urdQjkSZ",
        "colab": {
          "base_uri": "https://localhost:8080/"
        },
        "outputId": "067f8048-526a-4e82-ff10-8fd1fc057437"
      },
      "execution_count": 15,
      "outputs": [
        {
          "output_type": "stream",
          "name": "stdout",
          "text": [
            "ret4값: 0.5\n",
            "ret5값: 16\n",
            "ret6값: 6.0\n"
          ]
        }
      ]
    },
    {
      "cell_type": "code",
      "source": [
        "# 사칙 연산자가 섞여 있을 때 연산하는 우선 순위는 곱셈과 나누셈을 먼저 수행하고\n",
        "# 덧셈, 뺄셈을 수행합니다. 곱셈과 나눗셈은 연산 우선 순위가 같으므로 순서대로 연산을 하고,\n",
        "# 덧셈과 뺄셈도 서로 연산 우선 순위가 같으므로 순서대로 연산을 수행하면 됩니다.\n",
        "\n",
        "# 괄호()로 묶여 있는 부분을 먼저 계산한 후 사칙 연산을 수행합니다.(a+b)*(a-b)는 (a+b)와 (a-b)를\n",
        "# 먼저 계산하고 두 값을 곱합니다.\n",
        "\n",
        "# 거듭제곱은 사칙 연산보다 연산 순위가 더 우선합니다. a*b**a는 b**a를 먼저 계산하고 a와 곱하여 값을 구합니다."
      ],
      "metadata": {
        "id": "eUCLvr8djkVH"
      },
      "execution_count": 16,
      "outputs": []
    }
  ]
}
