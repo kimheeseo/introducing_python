{
  "nbformat": 4,
  "nbformat_minor": 0,
  "metadata": {
    "colab": {
      "provenance": [],
      "authorship_tag": "ABX9TyOBGkQzsrDeS9kjppFzoLbp",
      "include_colab_link": true
    },
    "kernelspec": {
      "name": "python3",
      "display_name": "Python 3"
    },
    "language_info": {
      "name": "python"
    }
  },
  "cells": [
    {
      "cell_type": "markdown",
      "metadata": {
        "id": "view-in-github",
        "colab_type": "text"
      },
      "source": [
        "<a href=\"https://colab.research.google.com/github/kimheeseo/python/blob/main/81_90.ipynb\" target=\"_parent\"><img src=\"https://colab.research.google.com/assets/colab-badge.svg\" alt=\"Open In Colab\"/></a>"
      ]
    },
    {
      "cell_type": "code",
      "execution_count": 1,
      "metadata": {
        "colab": {
          "base_uri": "https://localhost:8080/"
        },
        "id": "OaTnRJ4A3FlW",
        "outputId": "b1907b6f-0388-40bd-dcd1-ae764c32777d"
      },
      "outputs": [
        {
          "output_type": "stream",
          "name": "stdout",
          "text": [
            "임의의 문장을 입력하세요.apple\n",
            "당신이 입력한 문장에는 a가 있습니다.\n"
          ]
        }
      ],
      "source": [
        "# 중급 81. 문자열에서 특정 문자가 있는 지 확인하기(in)\n",
        "msg=input('임의의 문장을 입력하세요.')\n",
        "if 'a' in msg:\n",
        "  print('당신이 입력한 문장에는 a가 있습니다.')\n",
        "else:\n",
        "  print('당신이 입력한 문장에는 a가 없습니다.')\n",
        "\n",
        "# 문자열에 특정 문자가 있는지 없는지 확인하려면 in 키워드를 이용합니다."
      ]
    },
    {
      "cell_type": "code",
      "source": [
        "# 중급 82. 문자열에서 특정 문쟈열이 있는지 확인하기(in)\n",
        "msg=input('임의의 문장을 입력하세요.')\n",
        "if 'is' in msg:\n",
        "  print('당신이 입력한 문장에는 is가 있습니다.')\n",
        "else:\n",
        "  print('당신이 입력한 문장에는 is가 없습니다.')"
      ],
      "metadata": {
        "colab": {
          "base_uri": "https://localhost:8080/"
        },
        "id": "NJuB5neN3McL",
        "outputId": "bf89e9b4-55f9-48ec-b354-7dccea0fce74"
      },
      "execution_count": 2,
      "outputs": [
        {
          "output_type": "stream",
          "name": "stdout",
          "text": [
            "임의의 문장을 입력하세요.he is a doctor\n",
            "당신이 입력한 문장에는 is가 있습니다.\n"
          ]
        }
      ]
    },
    {
      "cell_type": "code",
      "source": [
        "# 중급 83. 문자열 길이 구하기(len)\n",
        "msg=input('임의의 문장을 입력하세요.')\n",
        "msglen=len(msg)\n",
        "print('당신이 입력한 문장의 길이는 <%d>입니다.' %msglen)"
      ],
      "metadata": {
        "colab": {
          "base_uri": "https://localhost:8080/"
        },
        "id": "k6BsVIIu3Mej",
        "outputId": "535bfa28-c187-4ab0-f0ee-d7b78d5448a2"
      },
      "execution_count": 4,
      "outputs": [
        {
          "output_type": "stream",
          "name": "stdout",
          "text": [
            "임의의 문장을 입력하세요.안녕하세요.\n",
            "당신이 입력한 문장의 길이는 <6>입니다.\n"
          ]
        }
      ]
    },
    {
      "cell_type": "code",
      "source": [
        "# 중급 84. 문자열이 알파벳인지 검사하기(isalpha)\n",
        "txt1='A'\n",
        "txt2='안녕'\n",
        "txt3='Warcraft Three'\n",
        "txt4='WarcraftThree'\n",
        "\n",
        "ret1=txt1.isalpha()\n",
        "print('ret1값:',ret1)\n",
        "\n",
        "ret2=txt2.isalpha()\n",
        "print('ret2값:',ret2)\n",
        "\n",
        "ret3=txt3.isalpha()\n",
        "print('ret3값:',ret3)\n",
        "# \"Warcraft Three\": 알파벳으로 구성된 문자열 같지만, 띄어쓰기 기호인 공백이 Warcraft와 Three 사이에 들어가 있습니다.\n",
        "# 공백은 문자가 아니므로 txt3은 언어 문자로만 구성되어 있지 않으므로 ret3은 False입니다.\n",
        "\n",
        "ret4=txt4.isalpha()\n",
        "print('ret4값:',ret4)"
      ],
      "metadata": {
        "colab": {
          "base_uri": "https://localhost:8080/"
        },
        "id": "3jXsjrdS3MhM",
        "outputId": "561ba199-9e3d-4417-e087-3aec415f466d"
      },
      "execution_count": 7,
      "outputs": [
        {
          "output_type": "stream",
          "name": "stdout",
          "text": [
            "ret1값: True\n",
            "ret2값: True\n",
            "ret3값: False\n",
            "ret4값: True\n"
          ]
        }
      ]
    },
    {
      "cell_type": "code",
      "source": [
        "# 중급 85. 문자열이 숫자인지 검사하기(isdigit)\n",
        "txt1='010-1234-5678'\n",
        "txt2='R2D2'\n",
        "txt3='1212'\n",
        "\n",
        "ret1=txt1.isdigit()\n",
        "ret2=txt2.isdigit()\n",
        "ret3=txt3.isdigit()\n",
        "\n",
        "print('ret1값:',ret1)\n",
        "print('ret2값:',ret2)\n",
        "print('ret3값:',ret3)\n",
        "\n",
        "# 문자열 객체의 isdigit()메소드는 문자열을 구성하는 요소가 모두 숫자인지 체크하고 True 또는 False를 리턴합니다."
      ],
      "metadata": {
        "colab": {
          "base_uri": "https://localhost:8080/"
        },
        "id": "PpMezBnL3Mjy",
        "outputId": "c968fc68-0832-4825-d596-90abbe615bb0"
      },
      "execution_count": 9,
      "outputs": [
        {
          "output_type": "stream",
          "name": "stdout",
          "text": [
            "ret1값: False\n",
            "ret2값: False\n",
            "ret3값: True\n"
          ]
        }
      ]
    },
    {
      "cell_type": "code",
      "source": [
        "# 중급 86. 문자열이 알파벳 또는 숫자인지 검사하기(isalnum)\n",
        "txt1='안녕하세요?'\n",
        "txt2='3피오R2D2'\n",
        "\n",
        "ret1=txt1.isalnum()\n",
        "ret2=txt2.isalnum()\n",
        "\n",
        "print('ret1값:',ret1)\n",
        "print('ret2값:',ret2)\n",
        "\n",
        "# 문자열 객체의 isalnum() 메소드는 문자열을 구성하는 요소가 모두 언어 문자 또는 숫자인지 체크하고 True 또는 False를 리턴합니다.\n",
        "# '3피오R2D2': 숫자와 문자로 구성되어 있으니까 True"
      ],
      "metadata": {
        "colab": {
          "base_uri": "https://localhost:8080/"
        },
        "id": "qQNByCGf3Mmi",
        "outputId": "2f626881-2867-4873-ea3b-fe26795e8949"
      },
      "execution_count": 11,
      "outputs": [
        {
          "output_type": "stream",
          "name": "stdout",
          "text": [
            "ret1값: False\n",
            "ret2값: True\n"
          ]
        }
      ]
    },
    {
      "cell_type": "code",
      "source": [
        "# 중급 87, 문자열에서 대소문자 변환하기\n",
        "txt1='A lot of Things occure each day.'\n",
        "ret1=txt1.upper()\n",
        "ret2=txt1.lower()\n",
        "\n",
        "print('ret1값:',ret1)\n",
        "print('ret2값:',ret2)\n",
        "\n",
        "# 문자열 객체의 upper() 메소드는 문자열에 있는 모든 알파벳을 대문자로 변환한 결과를 리턴.\n",
        "# 문자열 객체의 lower() 메소드는 문자열에 있는 모든 알파벳을 소문자로 변환한 결과를 리턴.\n",
        "# upper()와 lower()는 원본 문자열을 변경시키지 않습니다."
      ],
      "metadata": {
        "colab": {
          "base_uri": "https://localhost:8080/"
        },
        "id": "5SAsRNnU3Moz",
        "outputId": "fe6aca86-40de-481b-e89f-60b06d009e62"
      },
      "execution_count": 13,
      "outputs": [
        {
          "output_type": "stream",
          "name": "stdout",
          "text": [
            "ret1값: A LOT OF THINGS OCCURE EACH DAY.\n",
            "ret2값: a lot of things occure each day.\n"
          ]
        }
      ]
    },
    {
      "cell_type": "code",
      "source": [
        "# 중급 88. 문자열에서 좌우 공백 제거하기(lstrip, rstrip, strip)\n",
        "txt=' 양쪽에 공백이 있는 문자열입니다.'\n",
        "ret1=txt.lstrip()\n",
        "ret2=txt.rstrip()\n",
        "ret3=txt.strip()\n",
        "\n",
        "print('lstrip 값:',ret1)\n",
        "print('rstrip 값:',ret2)\n",
        "print('strip 값:',ret3)\n",
        "# 문자열 객체의 strip() 메소드: 문자열에 존재하는 왼쪽, 오른쪽 공백을 모두 제거한 후 결과를 리턴합니다.\n",
        "# txt의 좌우 공백이 제거된 문자열."
      ],
      "metadata": {
        "colab": {
          "base_uri": "https://localhost:8080/"
        },
        "id": "HHLrdasD3MrK",
        "outputId": "e32eb5f0-3a31-4fe9-8c02-0d600101756f"
      },
      "execution_count": 15,
      "outputs": [
        {
          "output_type": "stream",
          "name": "stdout",
          "text": [
            "lstrip 값: 양쪽에 공백이 있는 문자열입니다.\n",
            "rstrip 값:  양쪽에 공백이 있는 문자열입니다.\n",
            "strip 값: 양쪽에 공백이 있는 문자열입니다.\n"
          ]
        }
      ]
    },
    {
      "cell_type": "code",
      "source": [
        "# 중급 89. 문자열을 수치형 자료로 변환하기\n",
        "numstr=input('숫자를 입력하세요.')\n",
        "try:\n",
        "  num=int(numstr)\n",
        "  print('당신이 입력한 숫자는 정수 <%d>입니다.' %num)\n",
        "except:\n",
        "  try:\n",
        "    num=float(numstr)\n",
        "    print('당신이 입력한 숫자는 실수 <%f>입니다.'%num)\n",
        "  except:\n",
        "    print('+++숫자를 입력하세요.+++')"
      ],
      "metadata": {
        "colab": {
          "base_uri": "https://localhost:8080/"
        },
        "id": "s9ahE1zm3Mts",
        "outputId": "3b1b73dc-5698-4801-d742-c6ca7cffa88a"
      },
      "execution_count": 16,
      "outputs": [
        {
          "output_type": "stream",
          "name": "stdout",
          "text": [
            "숫자를 입력하세요.5\n",
            "당신이 입력한 숫자는 정수 <5>입니다.\n"
          ]
        }
      ]
    },
    {
      "cell_type": "code",
      "source": [
        "# 중급 89. 문자열을 수치형 자료로 변환하기\n",
        "numstr=input('숫자를 입력하세요.')\n",
        "try:\n",
        "  num=int(numstr)\n",
        "  print('당신이 입력한 숫자는 정수 <%d>입니다.' %num)\n",
        "except:\n",
        "  try:\n",
        "    num=float(numstr)\n",
        "    print('당신이 입력한 숫자는 실수 <%f>입니다.'%num)\n",
        "  except:\n",
        "    print('+++숫자를 입력하세요.+++')\n",
        "    # float()에서 오류가 발생하면 사용자가 숫자를 입력하지 않은 것으로 판단합니다.\n",
        "\n",
        "# 파이썬 내장함수 int()와 float()를 사용하면 문자열로 된 숫자를 정수형 또는 실수형 자료로 변환할 수 있습니다.\n",
        "# 만약 '3.14' 또는 '안녕하세요' 등과 같이 실수 형식의 문자열이나 숫자만으로 구성되지 않은 문자열이 입력되면 오류가 발생합니다.\n",
        "# try~except 구문: 오류가 발생하면 except 부분으로 넘어가 오류를 처리하도록 합니다."
      ],
      "metadata": {
        "colab": {
          "base_uri": "https://localhost:8080/"
        },
        "id": "gRjSM8kZ3MwT",
        "outputId": "d192b4bd-520f-49d6-c630-1ca65924a0f9"
      },
      "execution_count": 17,
      "outputs": [
        {
          "output_type": "stream",
          "name": "stdout",
          "text": [
            "숫자를 입력하세요.3.4\n",
            "당신이 입력한 숫자는 실수 <3.400000>입니다.\n"
          ]
        }
      ]
    },
    {
      "cell_type": "code",
      "source": [
        "# 중급 90. 수치형 자료를 문자열로 변환하기\n",
        "num1=1234\n",
        "num2=3.14\n",
        "\n",
        "numstr1=str(num1)\n",
        "numstr2=str(num2)\n",
        "\n",
        "print('numstr1값:',numstr1)\n",
        "print('numstr2값:',numstr2)\n",
        "\n",
        "print('num1의 type',type(num1))\n",
        "print('numstr1의 type',type(numstr1))\n",
        "# 파이썬 내장함수 str()은 인자로 입력된 수치형 자료를 문자열로 변환합니다."
      ],
      "metadata": {
        "colab": {
          "base_uri": "https://localhost:8080/"
        },
        "id": "vykydm8RBhG9",
        "outputId": "ebcde8ae-c6ce-454b-ee3b-e65e1d902be9"
      },
      "execution_count": 19,
      "outputs": [
        {
          "output_type": "stream",
          "name": "stdout",
          "text": [
            "numstr1값: 1234\n",
            "numstr2값: 3.14\n",
            "num1의 type <class 'int'>\n",
            "numstr1의 type <class 'str'>\n"
          ]
        }
      ]
    }
  ]
}
