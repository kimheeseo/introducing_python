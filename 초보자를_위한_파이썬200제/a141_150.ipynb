{
  "nbformat": 4,
  "nbformat_minor": 0,
  "metadata": {
    "colab": {
      "provenance": [],
      "authorship_tag": "ABX9TyPjbFsDzXPf6yqNjmTqgU5R",
      "include_colab_link": true
    },
    "kernelspec": {
      "name": "python3",
      "display_name": "Python 3"
    },
    "language_info": {
      "name": "python"
    }
  },
  "cells": [
    {
      "cell_type": "markdown",
      "metadata": {
        "id": "view-in-github",
        "colab_type": "text"
      },
      "source": [
        "<a href=\"https://colab.research.google.com/github/kimheeseo/python/blob/main/141_150.ipynb\" target=\"_parent\"><img src=\"https://colab.research.google.com/assets/colab-badge.svg\" alt=\"Open In Colab\"/></a>"
      ]
    },
    {
      "cell_type": "code",
      "execution_count": 3,
      "metadata": {
        "colab": {
          "base_uri": "https://localhost:8080/"
        },
        "id": "qzeGM1UUvveT",
        "outputId": "5de7c88e-64af-4b3f-e6cd-4b00e1ddf6ef"
      },
      "outputs": [
        {
          "name": "stdout",
          "output_type": "stream",
          "text": [
            "파일에 저장할 내용을 입력하세요.abcd\n"
          ]
        }
      ],
      "source": [
        "# 활용 140. 화면에서 사용자 입력을 받고 파일로 쓰기\n",
        "text=input('파일에 저장할 내용을 입력하세요.')\n",
        "f=open('mydata.txt','w')\n",
        "f.write(text)\n",
        "f.close()\n",
        "# 사용자로부터 입력받은 텍스트를 파일로 저장하려면 파일을 텍스트 쓰기 모드(w)로\n",
        "# 오픈하고 파일 객체의 write()를 이용해 데이터를 파일에 기록합니다.\n",
        "\n",
        "# 파일 객체의 write()를 이용해 text를 mydata.txt파일에 기록하고 파일을 닫습니다."
      ]
    },
    {
      "cell_type": "code",
      "source": [
        "# 활용 141. 텍스트 파일에 한줄씩 쓰기\n",
        "count=1\n",
        "data=[]\n",
        "print('파일에 내용을 저장하려면 내용을 입력하지 말고 [enter]를 누르세요.')\n",
        "while True:\n",
        "  text=input('[%d] 파일에 저장할 내용을 입력하세요.:' %count)\n",
        "  if text == '':\n",
        "    break\n",
        "  data.append(text+'\\n')\n",
        "  count+=1\n",
        "\n",
        "f=open('mydata1.txt','w')\n",
        "f.writelines(data)\n",
        "f.close()\n",
        "# 파일 객체의 wirtelines(): 텍스트 문자열이나 텍스트 문자열이 요소로 되어 있는 리스트를\n",
        "# 인자로 받아 파일에 한줄씩 기록합니다. 리스트가 인자인 경우, writelines()는\n",
        "# 리스트의 요소를 하나의 문자열로 결합하여 파일에 한꺼번에 기록합니다."
      ],
      "metadata": {
        "colab": {
          "base_uri": "https://localhost:8080/"
        },
        "id": "pB9HAJ2ovxYY",
        "outputId": "5523d006-8360-40b3-9b43-e4a152eab8a4"
      },
      "execution_count": 5,
      "outputs": [
        {
          "name": "stdout",
          "output_type": "stream",
          "text": [
            "파일에 내용을 저장하려면 내용을 입력하지 말고 [enter]를 누르세요.\n",
            "[1] 파일에 저장할 내용을 입력하세요.:qwe\n",
            "[2] 파일에 저장할 내용을 입력하세요.:asd\n",
            "[3] 파일에 저장할 내용을 입력하세요.:zxc\n",
            "[4] 파일에 저장할 내용을 입력하세요.:qwe\n",
            "[5] 파일에 저장할 내용을 입력하세요.:asd\n",
            "[6] 파일에 저장할 내용을 입력하세요.:zxc\n",
            "[7] 파일에 저장할 내용을 입력하세요.:\n"
          ]
        }
      ]
    },
    {
      "cell_type": "code",
      "source": [
        "# 활용 142. 텍스트 파일 복사하기\n",
        "f=open('stockcode.txt','r')\n",
        "h=open('stockcode_copy.txt','w')\n",
        "\n",
        "data=f.read()\n",
        "h.write(data)\n",
        "\n",
        "f.close()\n",
        "h.close()\n",
        "# 일반적으로 텍스트 파일의 크기는 대용량이 아니므로, 원본 텍스트 파일의 모든 내용을\n",
        "# read()로 읽고, 다른 파일 이름으로 텍스트 쓰기 모드로 오픈한 후 write()로 읽은 내용을 기록하면 됩니다."
      ],
      "metadata": {
        "id": "IdwGtuucvxa0"
      },
      "execution_count": null,
      "outputs": []
    },
    {
      "cell_type": "code",
      "source": [
        "# 활용 143. 바이너리 파일 복사하기\n",
        "bufsize=1024 # 1024: 1kb 단위로 파일을 읽기 위해서 정의한 값.\n",
        "f=open('img_sample.jpg','rb') # 바이너리 읽기 모드: rb\n",
        "h=open('img_sample_copy.jpg','wb') # 바이너리 쓰기 모드: wb\n",
        "\n",
        "data=f.read(bufsize) # img_sample.jpg 파일의 내용은 1024바이트만큼 읽어 data에 저장.\n",
        "while data:\n",
        "  h.write(data) # img_sample.jpg 파일의 1024바이트만큼 읽은 data값을 img_sample_copy.jpg에 기록합니다.\n",
        "  data=f.read(bufsize) # 기록한 후, 다음 1024바이트만큼 img_sample.jpg 파일을 읽습니다. while문을 통해 계속 반복합니다.\n",
        "\n",
        "# 대용량 파일의 내용을 한 번에 읽고 쓰는 것은 메모리 용량의 한계로 불가능할 때가 있고 성능적인 면에서도 효율적이지 못합니다.\n",
        "# 이런 경우 파일을 처음부터 끝까지 일정한 크기 단위로 읽고 쓰면 메모리 문제를 해결할 수 있습니다."
      ],
      "metadata": {
        "id": "2letJd-8vxfs"
      },
      "execution_count": null,
      "outputs": []
    },
    {
      "cell_type": "code",
      "source": [
        "# 활용 144. 파일을 열고 자동으로 닫기\n",
        "with open('stockcode.txt','r') as f:\n",
        "  for line_num, line in enumerate(f.readlines()):\n",
        "    print('%d %s' %(line_num+1, line), end='')\n",
        "# with open() as를 활용하면 파일에 대한 처리를 끝내면 자동으로 파일을 닫아 줍니다.\n",
        "\n",
        "# with open('stockcode.txt','r') as f:\n",
        "#  파일 처리 코드"
      ],
      "metadata": {
        "id": "DDn5hO2ovxiE"
      },
      "execution_count": null,
      "outputs": []
    },
    {
      "cell_type": "code",
      "source": [
        "# 활용 145. 파일의 특정 부분만 복사하기(seek, read, write)\n",
        "spos=105 # 파일을 읽는 위치 지정\n",
        "size=500 # 읽을 크기를 지정\n",
        "\n",
        "f=open('stockcode.txt','r')\n",
        "h=open('stockcode_par.txt','w')\n",
        "\n",
        "f.seek(spos) # stockcode.txt에서 파일을 읽을 위치를 seek()으로 spos만큼 이동합니다.\n",
        "data=f.read(size) # stockcode.txt를 spos부터 size만큼 읽어 data로 두고, stockcode_par.txt에 기록합니다.\n",
        "h.write(data)\n",
        "\n",
        "h.close()\n",
        "f.close()\n",
        "\n",
        "# open()으로 파일을 열면 파일을 읽거나 쓰는 위치는 파일의 제일 첫 부분으로 고정됩니다.\n",
        "# 그런 후 파일을 읽거나 쓰는 행위를 하면 읽은 크기 또는 쓴 크기만큼 파일을 읽고 쓰는 위치가 자동으로 이동됩니다.\n",
        "# 그런데 실제 코드를 작성할 때, 파일의 특정 부분을 읽어야 하는 경우가 많습니다.\n",
        "\n",
        "# 이런 경우에는 파일을 오픈하고 파일의 특정 부분으로 파일을 읽는 위치를 이동시키고 거기서부터 일정 크기만큼 읽으면 됩니다.\n",
        "# 파일을 읽는 위치를 임의로 이동하려면 파일 객체의 seek()을 이용하면 됩니다."
      ],
      "metadata": {
        "id": "pTBTmFd2vxkr"
      },
      "execution_count": null,
      "outputs": []
    },
    {
      "cell_type": "code",
      "source": [
        "# 활용 146. 파일 크기 구하기\n",
        "from os.path import getsize\n",
        "# 파일의 크기를 확인하려면, os.path 모듈의 getsize()를 이용합니다.\n",
        "# getsize()는 인자로 입력된 파일의 크기를 바이트 크기로 리턴합니다.\n",
        "\n",
        "file1='stockcode.txt'\n",
        "file2='d:/devlab/pt200/img_sample.jpg'\n",
        "\n",
        "file_size1=getsize(file1)\n",
        "file_size2=getsize(file2)\n",
        "\n",
        "print('File Name:%s \\t File size: %d' %(file1, file_size1))\n",
        "print('File Name:%s \\t File size: %d' %(file2, file_size2))"
      ],
      "metadata": {
        "id": "UHAu--I9vxnE"
      },
      "execution_count": 7,
      "outputs": []
    },
    {
      "cell_type": "code",
      "source": [
        "# 활용 147. 파일 삭제하기(os.remove)\n",
        "from os import remove\n",
        "\n",
        "target_file='stockcode_copy.txt'\n",
        "k=input('[%s] 파일을 삭제하겠습니까? (y/n)' %target_file)\n",
        "if k == 'y':\n",
        "  remove(target_file)\n",
        "  print('[%s]를 삭제했습니다.' %target_file)\n",
        "# 존재하는 파일을 삭제하려면 os 모듈의 remove()를 이용합니다.\n",
        "# remove(): 삭제하려고 하는 파일의 상대 경로나 절대 경로를 인자로 입받습니다."
      ],
      "metadata": {
        "id": "61OOJiBOvxpl"
      },
      "execution_count": null,
      "outputs": []
    },
    {
      "cell_type": "code",
      "source": [
        "# 활용 148. 파일이름 바꾸기\n",
        "from os import rename\n",
        "\n",
        "target_file='stockcode.txt'\n",
        "newname=input('[%s]에 대한 새로운 파일 이름을 입력하세요.:' %target_file)\n",
        "rename(target_file, newname)\n",
        "print('[%s] ->[%s]로 파일 이름이 변경되었습니다.' %(target_file, newname))\n",
        "\n",
        "# os 모듈이 rename()은 파일이름을 변경합니다.\n",
        "# rename(): 이름을 변경하고자 하는 대상 파일의 상대 경로 또는 절대 경로를 인자로 입력받습니다."
      ],
      "metadata": {
        "id": "uQhhWuesvxsS"
      },
      "execution_count": null,
      "outputs": []
    },
    {
      "cell_type": "code",
      "source": [
        "# 활용 149. 파일을 다른 디렉터리로 이동하기\n",
        "from os import rename\n",
        "\n",
        "target_file='stockcode.txt'\n",
        "newpath=input('[%s]를 이동할 디렉터리의 절대경로를 입력하세요.:' %target_file)\n",
        "\n",
        "if newpath[-1] == '/':\n",
        "  newname=newpath+target_file\n",
        "else:\n",
        "  newname=newpath+'/'+target_file\n",
        "# 사용자로부터 입력받은 절대경로의 뒤에 대상 파일 이름을 추가합니다.\n",
        "# 사용자가 입려한 절대 경로의 마지막에 '/'가 있으면 newpath에 대상 파일이름을 더하고,\n",
        "# '/'가 없으면 newpath와 대상 파일 이름 사이에 '/'를 더하여 이동할 절대 경로를 완성합니다.\n",
        "\n",
        "try:\n",
        "  rename(target_file, newname)\n",
        "  print('[%s]->[%s]로 이동되었습니다.' %(target_file, newname))\n",
        "except FileNotFoundError as e:\n",
        "  print(e)\n",
        "# rename()에 존재하지 않는 경로를 입력하면 FileFoundError 오류가 발생합니다.\n",
        "# 오류로 인해 프로그램이 비정상 종료되는 것을 방지하기 위해 try~except 구문을 활용합니다."
      ],
      "metadata": {
        "id": "1vZc44qwvxuo"
      },
      "execution_count": null,
      "outputs": []
    },
    {
      "cell_type": "code",
      "source": [
        "# 활용 150. 디렉터리에 있는 파일목록 얻기\n",
        "import os, glob\n",
        "\n",
        "folder='d:devlab/py200' # 대상 디렉터리를 변수 folder로 정의합니다.\n",
        "file_list=os.listdir(folder) # folder로 지정된 디렉터리에 있는 모든 파일과 디렉터리 목록을\n",
        "# 리스트로 리턴합니다.: listdir\n",
        "print(file_list)\n",
        "\n",
        "files='*.txt'\n",
        "file_list=glob.glob(files) # 확장자가 .txt 파일만 다시 나열.\n",
        "print(file_list)\n",
        "# glob(files): 현대 디렉터리에서 확장자가 .txt인 파일 목록을 리스트로 리턴합니다.\n",
        "# glob 모듈의 glob(): 인자로 입력된 조건이나 경로에 해당하는 파일들을 리스트로 리턴."
      ],
      "metadata": {
        "id": "9pukC9a6vx0B"
      },
      "execution_count": null,
      "outputs": []
    }
  ]
}
