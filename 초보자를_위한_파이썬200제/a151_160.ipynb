{
  "nbformat": 4,
  "nbformat_minor": 0,
  "metadata": {
    "colab": {
      "provenance": [],
      "authorship_tag": "ABX9TyPQNiJUF+xNA0W3pFSsKVq9",
      "include_colab_link": true
    },
    "kernelspec": {
      "name": "python3",
      "display_name": "Python 3"
    },
    "language_info": {
      "name": "python"
    }
  },
  "cells": [
    {
      "cell_type": "markdown",
      "metadata": {
        "id": "view-in-github",
        "colab_type": "text"
      },
      "source": [
        "<a href=\"https://colab.research.google.com/github/kimheeseo/python/blob/main/151_160.ipynb\" target=\"_parent\"><img src=\"https://colab.research.google.com/assets/colab-badge.svg\" alt=\"Open In Colab\"/></a>"
      ]
    },
    {
      "cell_type": "code",
      "execution_count": null,
      "metadata": {
        "colab": {
          "base_uri": "https://localhost:8080/"
        },
        "id": "XB6kmJ4WAXP_",
        "outputId": "bdeb5d96-2ed5-414a-ccfd-e6d712dbbc9c"
      },
      "outputs": [
        {
          "output_type": "stream",
          "name": "stdout",
          "text": [
            "pdir값: /content\n",
            "os.getcwd()\n",
            "/content\n"
          ]
        }
      ],
      "source": [
        "# 활용 151. 현재 디렉터리 확인하고 바꾸기\n",
        "import os\n",
        "\n",
        "pdir=os.getcwd();\n",
        "print('pdir값:',pdir) # os.getcwd(): 현재 디렉터리를 얻고, 이를 pdir로 두고 화면에 경로를 출력합니다.\n",
        "# ex) D:\\devlab\\py200\n",
        "\n",
        "os.chdir('..') # os.chdir('..'): 현재 작업 디렉터리의 부모 디렉터리로 이동합니다.\n",
        "print('os.getcwd()') # '..': 상대경로 표시로 현재 디렉터리의 부모 디렉터리의 경로를 의미/\n",
        "# ex) D:\\devlab\n",
        "\n",
        "os.chdir(pdir) # os.chdir(pdir): 다시 이전 작업 디렉터리로 현재 작업 디렉터리를 변경합니다.\n",
        "print(os.getcwd())\n",
        "# ex) D:\\devlab\\py200"
      ]
    },
    {
      "cell_type": "code",
      "source": [
        "# 활용 152. 디렉터리 생성하기(os.mkdir)\n",
        "import os\n",
        "\n",
        "newfolder=input('새로 생성할 디렉터리 이름을 입력하세요.')\n",
        "try:\n",
        "  os.mkdir(newfolder)\n",
        "  print('[%s] 디렉터리를 새로 생성했습니다.' %newfolder)\n",
        "except Exception as e:\n",
        "  print(e)\n",
        "# os.mkdir(): 사용자가 입력한 디렉터리를 생성하는 코드\n",
        "# except Exception as e: 사용자가 입력한 디렉터리가 이미 존재하거나 경로 이름이 잘못된 경우에는 ok.mkdir()이 오류를\n",
        "# 발생하므로, 오류 내용을 출력합니다. 사용자가 유효한 디렉터리 이름을 입력하면 디렉터리를 생성하고 메시지를 출력합니다."
      ],
      "metadata": {
        "id": "o0i0YRG-AaAg"
      },
      "execution_count": null,
      "outputs": []
    },
    {
      "cell_type": "code",
      "source": [
        "# 활용 153. 디렉터리 제거하기\n",
        "import os\n",
        "\n",
        "target_folder='tmp'\n",
        "k=input('[%s] 디렉터리를 삭제하겠습니까? (y/n)' %target_folder)\n",
        "if k=='y':\n",
        "  try:\n",
        "    os.rmdir(target_folder)\n",
        "    print('[%s] 디렉터리를 삭제했습니다.' %target_folder)\n",
        "  except Exception as e:\n",
        "    print(e)\n",
        "# 사용자가 'y'를 입력하면 지정된 디렉터리를 os.rmdir()을 이용해 삭제합니다.\n",
        "# except Exception as e: 만약 디렉터리가 존재하지 않거나 디렉터리가 비어있지 않으면 os.rmdir()은 오류를 발생합니다."
      ],
      "metadata": {
        "colab": {
          "base_uri": "https://localhost:8080/"
        },
        "id": "shNXc7vdAaVN",
        "outputId": "3b20ee85-e57c-49a3-a1f5-3eb0777becb1"
      },
      "execution_count": null,
      "outputs": [
        {
          "output_type": "stream",
          "name": "stdout",
          "text": [
            "[tmp] 디렉터리를 삭제하겠습니까? (y/n)y\n",
            "[Errno 2] No such file or directory: 'tmp'\n"
          ]
        }
      ]
    },
    {
      "cell_type": "code",
      "source": [
        "# 활용 154. 하위 디텍터리 및 파일 전체\n",
        "import shutil\n",
        "import os\n",
        "\n",
        "target_folder='d:/devlab/py200/tmp'\n",
        "print('[%s] 하위 모든 디렉터리 및 파일들을 삭제합니다.' %target_folder)\n",
        "\n",
        "for file in os.listdir(target_folder):\n",
        "  print(file)\n",
        "# os 모듈의 listdir(): 인자로 입력된 경로에 존재하는 모든 파일과 디렉터리를 리스트로 리턴.\n",
        "# 삭제할 디렉터리를 지정하고 삭제할 디렉터리에 있는 파일 리스트를 출력한 후, 사용자에게 삭제할 것인지 확인합니다.\n",
        "\n",
        "k=input('[%s]를 삭제하겠습니까? (y/n)' %target_folder)\n",
        "if k=='y':\n",
        "  try:\n",
        "    shutil.rmtree(target_folder) # rmtree()를 사용할 때는 모든 파일과 디렉터리가 제거되므로 신중해야 한다.\n",
        "# 사용자가 'y'를 입력하면 지정된 디렉터리와 하위 디렉터리 및 모든 파일들을 삭제합니다.\n",
        "# 오류가 발생하면 오류 내용을 출력하고 프로그램을 정상 종료합니다.(except Exception as e)\n",
        "    print('[%s]의 모든 하위 디렉터리와 파일들을 삭제했습니다.' %target_folder)\n",
        "  except Exception as e:\n",
        "    print(e)"
      ],
      "metadata": {
        "id": "rwZ9WvV8AaXh"
      },
      "execution_count": null,
      "outputs": []
    },
    {
      "cell_type": "code",
      "source": [
        "# 활용 155. 파일이 존재하는 지 체크하기\n",
        "import os\n",
        "from os.path import exists\n",
        "\n",
        "dir_name=input('새로 생성할 디렉터리 이름을 입력하세요.')\n",
        "if not exists(dir_name):\n",
        "  os.mkdir(dir_name)\n",
        "  print('[%s]디렉터리를 생성했습니다.' %dir_name)\n",
        "# 사용자로부터 입력받은 디렉터리 이름이 존재하지 않으면 디렉터리를 생성합니다.\n",
        "# 디렉터리 이름이 존재하면 메시지를 출력하고 종료합니다.\n",
        "else:\n",
        "  print('[%s]은(는) 이미 존재합니다.' %dir_name)"
      ],
      "metadata": {
        "id": "vO30HZgnMCsE"
      },
      "execution_count": null,
      "outputs": []
    },
    {
      "cell_type": "code",
      "source": [
        "# 활용 156. 파일인지 디렉터리인지 확인하기\n",
        "import os\n",
        "from os.path import exists, isdir, isfile\n",
        "\n",
        "files=os.listdir()\n",
        "# 현재 디렉터리의 파일 목록을 file로 둡니다.\n",
        "\n",
        "for file in files:\n",
        "  if isdir(file):\n",
        "# os.path 모듈의 isfile()은 인자로 입력된 경로가 파일이면 True, 파일이 아니면 False를 리턴합니다.\n",
        "# os.path 모듈의 isdir()은 인자로 입력된 경로가 디렉터리면 True, 디렉터리가 아니면 False를 리턴합니다.\n",
        "    print('DIR:%s' %file)\n",
        "\n",
        "for file in files:\n",
        "  if isfile(file):\n",
        "    print('FILE:%s' %file)"
      ],
      "metadata": {
        "id": "HXydcZ73AaaD"
      },
      "execution_count": null,
      "outputs": []
    },
    {
      "cell_type": "code",
      "source": [
        "# 활용 157. 현재 시간을 년-월-일 시:분:초로 출력하기(localtime, strftime)\n",
        "from time import localtime, strftime\n",
        "\n",
        "logfile='test.log'\n",
        "def writelog(logfile,log):\n",
        "  time_stamp=strftime('%Y-%m-%d %X \\t', localtime())\n",
        "# time 모듈의 localtime(): 대한민국의 현재시간을 time.struct_time 형식의 데이터로 리턴합니다.\n",
        "# localtime(): 년-월-일 시:분:초 형식의 문자열로 만듭니다.\n",
        "  log=time_stamp+log+'\\n'\n",
        "\n",
        "  with open(logfile,'a') as f:\n",
        "# test.log 파일을 텍스트 추가(a)모드로 열고, log를 파일의 마지막에 추가합니다.\n",
        "    f.writelines(log)\n",
        "writelog(logfile, '첫 번째 로깅 문장입니다.')\n",
        "# writelog()을 이용하여 '첫 번째 로깅 문장입니다.'라는 문자열을 로그파일에 로깅합니다."
      ],
      "metadata": {
        "id": "3jDlzmt5Aacr"
      },
      "execution_count": null,
      "outputs": []
    },
    {
      "cell_type": "code",
      "source": [
        "# 활용 158. 올해 경과된 날짜수 계산하기(localtime)\n",
        "from time import localtime\n",
        "\n",
        "t=localtime()\n",
        "print('local time값:',t)\n",
        "# 현재 시간을 localtime()으로 구하고 이 값을 변수 t로 둡니다.\n",
        "# t.tm_year: 년도를 정수형으로 나타낸 것.\n",
        "\n",
        "start_day='%d-01-01' %t.tm_year\n",
        "elapsed_day=t.tm_yday\n",
        "# t.tm_yday: 해당 년도의 1월1일부터 현재 날짜까지 경과된 날짜수를 나타냅니다.\n",
        "\n",
        "print('오늘은 [%s]이후 [%d]일째 되는 날입니다.' %(start_day, elapsed_day))"
      ],
      "metadata": {
        "colab": {
          "base_uri": "https://localhost:8080/"
        },
        "id": "7GS53GoZPU8k",
        "outputId": "bc3c299a-6874-4cfa-b84d-1cd71bd8affb"
      },
      "execution_count": null,
      "outputs": [
        {
          "output_type": "stream",
          "name": "stdout",
          "text": [
            "local time값: time.struct_time(tm_year=2024, tm_mon=7, tm_mday=20, tm_hour=8, tm_min=38, tm_sec=56, tm_wday=5, tm_yday=202, tm_isdst=0)\n",
            "오늘은 [2024-01-01]이후 [202]일째 되는 날입니다.\n"
          ]
        }
      ]
    },
    {
      "cell_type": "code",
      "source": [
        "# 활용 159. 오늘의 요일 계산하기\n",
        "from time import localtime\n",
        "weekdays=['월요일','화요일','수요일','목요일','금요일','토요일','일요일']\n",
        "\n",
        "t=localtime()\n",
        "today='%d-%d-%d' %(t.tm_year, t.tm_mon, t.tm_mday)\n",
        "# 현재 시간을 struct_time 형식으로 구하고 이를 t에 대입합니다.\n",
        "# t.tm_wday:0 - 월요일, t.tm_wday:1 - 화요일, t.tm_wday:6 - 일요일\n",
        "\n",
        "week=weekdays[t.tm_wday] # '월~일요일'까지 문자열을 요소로 하는 리스트로 정의합니다.\n",
        "print('t.tm_wday값:',t.tm_wday)\n",
        "# t.tm_wday: weekday의 인덱스로 입력되면 해당하는 요일의 문자열이 얻어진다.\n",
        "print('[%s] 오늘은 [%s]입니다.' %(today, week))"
      ],
      "metadata": {
        "colab": {
          "base_uri": "https://localhost:8080/"
        },
        "id": "cIF_9slNAafB",
        "outputId": "03d61629-05f1-4adf-f61b-c9364d0b21b6"
      },
      "execution_count": null,
      "outputs": [
        {
          "output_type": "stream",
          "name": "stdout",
          "text": [
            "t.tm_wday값: 5\n",
            "[2024-7-20] 오늘은 [토요일]입니다.\n"
          ]
        }
      ]
    },
    {
      "cell_type": "code",
      "source": [
        "# 활용 160. 프로그램 실행 시간 계산하기\n",
        "from datetime import datetime\n",
        "import time\n",
        "\n",
        "start=datetime.now()\n",
        "print('start값:',start)\n",
        "\n",
        "print('1에서 백만까지 더합니다.')\n",
        "ret=0\n",
        "for i in range(1000001):\n",
        "  ret+=i\n",
        "\n",
        "print('1에서 백만까지 더한 결과:%d' %ret)\n",
        "time.sleep(1000)\n",
        "\n",
        "end=datetime.now()\n",
        "print('end값:',end)\n",
        "elapsed=end-start\n",
        "\n",
        "print('총 계산 시간:',end=''); print('elapsed값',elapsed)\n",
        "elapsed_ms=int(elapsed.total_seconds()*1000)\n",
        "# ms는 10^-3이니까 1000을 곱하고 정수 부분만 추출하면 됩니다.\n",
        "\n",
        "print('총 계산 시간: %d ms' %elapsed_ms)"
      ],
      "metadata": {
        "colab": {
          "base_uri": "https://localhost:8080/"
        },
        "id": "Xl8zkm0jAaho",
        "outputId": "d518f450-eacb-436a-9282-a7724699d3a2"
      },
      "execution_count": null,
      "outputs": [
        {
          "output_type": "stream",
          "name": "stdout",
          "text": [
            "start값: 2024-07-20 08:54:12.888544\n",
            "1에서 백만까지 더합니다.\n",
            "1에서 백만까지 더한 결과:500000500000\n",
            "end값: 2024-07-20 09:10:53.063639\n",
            "총 계산 시간:elapsed값 0:16:40.175095\n",
            "총 계산 시간: 1000175 ms\n"
          ]
        }
      ]
    },
    {
      "cell_type": "code",
      "source": [],
      "metadata": {
        "id": "jNxm4HDrAaj_"
      },
      "execution_count": null,
      "outputs": []
    }
  ]
}
