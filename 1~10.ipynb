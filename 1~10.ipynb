{
  "nbformat": 4,
  "nbformat_minor": 0,
  "metadata": {
    "colab": {
      "provenance": [],
      "authorship_tag": "ABX9TyOHydhfEZ8PbI/dguoUdgOq",
      "include_colab_link": true
    },
    "kernelspec": {
      "name": "python3",
      "display_name": "Python 3"
    },
    "language_info": {
      "name": "python"
    }
  },
  "cells": [
    {
      "cell_type": "markdown",
      "metadata": {
        "id": "view-in-github",
        "colab_type": "text"
      },
      "source": [
        "<a href=\"https://colab.research.google.com/github/kimheeseo/python/blob/main/1~10.ipynb\" target=\"_parent\"><img src=\"https://colab.research.google.com/assets/colab-badge.svg\" alt=\"Open In Colab\"/></a>"
      ]
    },
    {
      "cell_type": "code",
      "execution_count": 2,
      "metadata": {
        "colab": {
          "base_uri": "https://localhost:8080/"
        },
        "id": "LrWMAfuYvt9D",
        "outputId": "fe4ef721-a9dc-472d-8d71-c9b76559ced7"
      },
      "outputs": [
        {
          "output_type": "stream",
          "name": "stdout",
          "text": [
            "안녕하세요\n"
          ]
        }
      ],
      "source": [
        "# 입문 1. 대화식 모드로 프로그래밍 하기\n",
        "print('안녕하세요')\n",
        "\n",
        "# 파이썬은 인터프리터 언어이기 때문에, 소스 코드 한 라인씩 순서대로 실행하고 그 결과를 출력합니다.\n",
        "# 이와 같이 프로그래머가 한 라인의 소스 코드를 입력하면 인터프리터가 곧바로 해석하여 그 결과를 프로그래머에 제시하는 방식을 \"대화식 프로그래밍\"이라 부릅니다."
      ]
    },
    {
      "cell_type": "code",
      "source": [
        "# 입문 2. 텍스트 에디터로 프로그래밍하기\n",
        "print('안녕하세요')\n",
        "a=1\n",
        "b=1\n",
        "print(a+b)\n",
        "\n",
        "# 윈도우에서 기본적으로 제공하는 메모장과 같이 일반 텍스트 에디터를 이용해서 프로그래밍할 수도 있습니다. 윈도우 메모장을 열고 위코드를 입력한 후 '002.py'로 저장합니다.\n",
        "# 윈도우 명령 프롬프트(cmd)를 열고, 002.py가 저장된 폴더로 이동합니다. 명령 프롬프트에서 \"python 002.py\"로 실행하여 결과를 확인합니다."
      ],
      "metadata": {
        "colab": {
          "base_uri": "https://localhost:8080/"
        },
        "id": "7N4lMzMvICaY",
        "outputId": "604b4d50-2a58-4a8f-f572-3654688c5e3b"
      },
      "execution_count": 4,
      "outputs": [
        {
          "output_type": "stream",
          "name": "stdout",
          "text": [
            "안녕하세요\n",
            "2\n"
          ]
        }
      ]
    },
    {
      "cell_type": "code",
      "source": [
        "# 입문 3. 변수명 만들기\n",
        "# 파이썬의 변수명 규칙은 C나 C++ 등 다른 언어에서 사용되는 변수명 규칙과 비슷합니다.\n",
        "# 변수명의 첫 문자는 밑줄 문자 또는 영문자로 시작해야 합니다.\n",
        "counter = 1\n",
        "Counter = 2\n",
        "my_name='홍길동'\n",
        "MyName2='Hong gil-dong'\n",
        "\n",
        "# 변수명은 대소문자를 구분하므로, counter와 Counter는 다른 변수가 됩니다.\n",
        "# 하지만 파이썬에서 이미 사용하고 있는 일부 단어는 변수명으로 사용할 수 없습니다. 이러한 단어를 파이썬 예약어라고 합니다.\n",
        "# 따라서 변수명으로 파이썬 내장 함수 이름과 동일한 이름은 피해야 합니다."
      ],
      "metadata": {
        "id": "RtW90_mTI9yA"
      },
      "execution_count": 5,
      "outputs": []
    },
    {
      "cell_type": "markdown",
      "source": [
        "**파이썬 예약어를 변수로 사용하면 다음과 같은 오류가 발생합니다.**"
      ],
      "metadata": {
        "id": "D-9x1jqhI8Pn"
      }
    },
    {
      "cell_type": "code",
      "source": [
        "and=1"
      ],
      "metadata": {
        "colab": {
          "base_uri": "https://localhost:8080/",
          "height": 110
        },
        "id": "dxSkKvJJJkQW",
        "outputId": "008e4326-8dae-4b10-aa7f-54d7a63ae92a"
      },
      "execution_count": 6,
      "outputs": [
        {
          "output_type": "error",
          "ename": "SyntaxError",
          "evalue": "invalid syntax (<ipython-input-6-1d82dc2ad2a5>, line 1)",
          "traceback": [
            "\u001b[0;36m  File \u001b[0;32m\"<ipython-input-6-1d82dc2ad2a5>\"\u001b[0;36m, line \u001b[0;32m1\u001b[0m\n\u001b[0;31m    and=1\u001b[0m\n\u001b[0m    ^\u001b[0m\n\u001b[0;31mSyntaxError\u001b[0m\u001b[0;31m:\u001b[0m invalid syntax\n"
          ]
        }
      ]
    },
    {
      "cell_type": "markdown",
      "source": [
        "**파이썬 예약어 확인**"
      ],
      "metadata": {
        "id": "go1Z14BaI8XO"
      }
    },
    {
      "cell_type": "code",
      "source": [
        "import keyword\n",
        "\n",
        "# keyword.kwlist 실행 시 출력 되는 값\n",
        "# ['False', 'None', 'True', 'and', 'as', 'assert', 'async', 'await', 'break', 'class', 'continue', 'def', 'del', 'elif', 'else', 'except', 'finally', 'for',\n",
        "# 'from', 'global', 'if', 'import', 'in', 'is', 'lambda', 'nonlocal', 'not', 'or', 'pass', 'raise', 'return', 'try', 'while', 'with', 'yield']"
      ],
      "metadata": {
        "id": "zRtUqy7zVXY-"
      },
      "execution_count": 22,
      "outputs": []
    },
    {
      "cell_type": "code",
      "source": [
        "# 입문 4. 변수에 값 대입하기\n",
        "number1=1\n",
        "pi=3.14\n",
        "# 변수 number1에 정수 1을 대입했으므로, number1은 정수 자료가 되며, 변수 pi에는 3.14를 대입해서 실수 자료가 됩니다.\n",
        "\n",
        "flag=True\n",
        "# flag에 true를 대입하여 참 또는 거짓을 나타내는 boolen 자료로 활용하고 있습니다.\n",
        "\n",
        "char='x'\n",
        "chars='I love python'\n",
        "# 한 개의 문자를 변수에 대입하거나 여러 개의 문자로 구성된 문자열을 변수에 대압하여 한 문자 또는 문자열을 정의합니다.\n",
        "# 파이썬은 C/C++와는 달리 변수를 선언할 때 숫자형 자료인지 문자형 자료인지 자료형을 명시하지 않아도 됩니다.\n",
        "# 파이썬에서는 변수에 값을 대입하면 그 값의 자료형에 따라 변수의 자료형이 자동적으로 정해지니다."
      ],
      "metadata": {
        "id": "TQO3vK_WI-Ce"
      },
      "execution_count": 9,
      "outputs": []
    },
    {
      "cell_type": "code",
      "source": [
        "# 입문 5. 주석 처리하기(#)\n",
        "a=1 #a에 1을 대입함.\n",
        "\n",
        "# 파이썬 코드 한 라인을 주석 처리하기 위해서는 문자 '#'으로 시작하면 됩니다.\n",
        "# '#' 이전의 문자들은 주석 처리가 되지 않습니다.\n",
        "\n",
        "# 코드를 작성할 때 주석을 잘 작성해 두면 차후에 코드를 다시 보거나 타인이 코드를 검토할 때 매우 중요한 정보로 활용됩니다.\n",
        "# 그러므로 주석은 항상 달아주는 습관을 가지고 있는 것이 좋습니다."
      ],
      "metadata": {
        "id": "n5mkgxdUI93G"
      },
      "execution_count": null,
      "outputs": []
    },
    {
      "cell_type": "markdown",
      "source": [
        "**특정 영역을 주석 처리하고자 하는 경우에는 삼중 따옴표를 이용해 주석으로 처리할 부분을 둘러싸면 됩니다.**"
      ],
      "metadata": {
        "id": "YC85A45yI8ai"
      }
    },
    {
      "cell_type": "code",
      "source": [
        "\"\"\"a=1\n",
        "b=1\n",
        "print(a+b)\"\"\"\n",
        "a=2\n",
        "b=6\n",
        "print(a+b)\n",
        "\n",
        "# 위 코드에서 삼중 따옴표로 둘러싸인 부분은 주석으로 처리되며, a=2 이후부터 유효한 코드 입니다."
      ],
      "metadata": {
        "colab": {
          "base_uri": "https://localhost:8080/"
        },
        "id": "PXsU5NqxL5OB",
        "outputId": "3edf6f66-dc69-4d84-c95a-9345c96dbb1d"
      },
      "execution_count": 10,
      "outputs": [
        {
          "output_type": "stream",
          "name": "stdout",
          "text": [
            "8\n"
          ]
        }
      ]
    },
    {
      "cell_type": "code",
      "source": [
        "# 입문 6. 자료형 개념 배우기\n",
        "int_data=1 # 정수 선언\n",
        "float_data=3,14 # 실수 선언\n",
        "complex_data=1+5j # 복소수 선언\n",
        "str_data1='I love python' # 문자열 선언(영문)\n",
        "str_data2=\"반갑습니다.\" # 문자열 선언(한글)\n",
        "list_data=[1,2,3] # 리스트 선언\n",
        "tuple_data=(1,2,3) # 튜플 선언\n",
        "dict_data={0:'False', 1:'True'} # 사전 선언\n",
        "\n",
        "# 자료형 또는 데이터 타입이란 숫자, 문자 등과 같이 여러 종류의 데이터를 구분하기 위한 분류입니다."
      ],
      "metadata": {
        "id": "tsRNLU4VO2zK"
      },
      "execution_count": 11,
      "outputs": []
    },
    {
      "cell_type": "markdown",
      "source": [
        "**리스트 자료**"
      ],
      "metadata": {
        "id": "Xw1wIxS2I8b-"
      }
    },
    {
      "cell_type": "code",
      "source": [
        "# 리스트 자료는 '[]'안에 임의의 객체를 순서 있게 나열한 자료형.\n",
        "# 각 요소는 콤마로 구분합니다."
      ],
      "metadata": {
        "id": "_Fm33jBRQefc"
      },
      "execution_count": null,
      "outputs": []
    },
    {
      "cell_type": "markdown",
      "source": [
        "**튜플 자료**"
      ],
      "metadata": {
        "id": "ck8Vi9enI8eX"
      }
    },
    {
      "cell_type": "code",
      "source": [
        "# 튜프은 리스트와 비슷하지만, 요소 값을 변경할 수 없다는 것이 리스트와는 다릅니다."
      ],
      "metadata": {
        "id": "_kC1cQZxQm_U"
      },
      "execution_count": null,
      "outputs": []
    },
    {
      "cell_type": "markdown",
      "source": [
        "**사전 자료**"
      ],
      "metadata": {
        "id": "UOBFj4TfI8g2"
      }
    },
    {
      "cell_type": "code",
      "source": [
        "# 사전 자료는 '{ }' 안에 '키 : 값'으로 된 쌍이 요소로 구성된 순서가 없는 자료형입니다.\n",
        "# 각 요소는 콤마로 구분하여 나열합니다. 사전 자료는 순서가 없으므로 인덱스로 값을 접근할 수 없고 키를 이용해 대응되는 값을 접근합니다."
      ],
      "metadata": {
        "id": "mf0J01E2RT3z"
      },
      "execution_count": null,
      "outputs": []
    },
    {
      "cell_type": "code",
      "source": [
        "# 입문 7. 자료형 출력 개념 배우기\n",
        "a=200\n",
        "msg='I love python'\n",
        "list_data=['a','b','c']\n",
        "dict_data={'a':97,'b':98}\n",
        "\n",
        "print(a)\n",
        "print(msg)\n",
        "print('list_data값:',list_data)\n",
        "print('list_data[0]값:',list_data[0])\n",
        "print('dict_data값:',dict_data)\n",
        "print('dict_data[a]값:',dict_data['a'])\n",
        "# dict_data에서 키가 a인 값을 출력합니다."
      ],
      "metadata": {
        "colab": {
          "base_uri": "https://localhost:8080/"
        },
        "id": "1w17yj5cRhq2",
        "outputId": "4555e07f-bf34-4019-e35f-a458ef0b2991"
      },
      "execution_count": 17,
      "outputs": [
        {
          "output_type": "stream",
          "name": "stdout",
          "text": [
            "200\n",
            "I love python\n",
            "list_data값: ['a', 'b', 'c']\n",
            "list_data[0]값: a\n",
            "dict_data값: {'a': 97, 'b': 98}\n",
            "dict_data[a]값: 97\n"
          ]
        }
      ]
    },
    {
      "cell_type": "markdown",
      "source": [
        "**print()**"
      ],
      "metadata": {
        "id": "z4T8n8R1I8jY"
      }
    },
    {
      "cell_type": "code",
      "source": [
        "# print()는 기본적으로 인자로 입력된 값을 화면에 출력한 후 줄바꿈을 합니다.\n",
        "# print()는 값을 출력하고 다음에 출력할 때는 줄을 바꾸어 출력합니다.\n",
        "# print()는 기본적으로 출력되는 값 뒤에 항상 '\\n'을 추가한다는 의미입니다.\n",
        "# '\\n': 줄바꿈을 의미하는 문자."
      ],
      "metadata": {
        "id": "SWedjli2SnLk"
      },
      "execution_count": 18,
      "outputs": []
    },
    {
      "cell_type": "code",
      "source": [
        "# 입문 8.들여쓰기 개념 배우기\n",
        "listdata=['a','b','c']\n",
        "if 'a' in listdata:\n",
        "  print('a가 listdat에 있습니다.')\n",
        "  print(listdata)\n",
        "else:\n",
        "  print('a가 listdata에 존재하지 않습니다.')"
      ],
      "metadata": {
        "colab": {
          "base_uri": "https://localhost:8080/"
        },
        "id": "OZINYK-sS5j-",
        "outputId": "434e0b20-b5c9-462e-df53-bab3254ed444"
      },
      "execution_count": 19,
      "outputs": [
        {
          "output_type": "stream",
          "name": "stdout",
          "text": [
            "a가 listdat에 있습니다.\n",
            "['a', 'b', 'c']\n"
          ]
        }
      ]
    },
    {
      "cell_type": "code",
      "source": [
        "# 입문 9. if문 개념 배우기(if~else)\n",
        "x=1\n",
        "y=2\n",
        "if x>=y:\n",
        "  print('x가 y보다 크거나 같습니다.')\n",
        "else:\n",
        "  print('x가 y보다 작습니다.')\n",
        "\n",
        "# 코드를 작성하다 보면 조건에 따라 수행하는 일을 달리해야 하는 경우가 있습니다.\n",
        "# 조건이 참인지 거짓인지 검사를 하고, 참인 경우에는 이 일을 하고, 거짓인 경우에는 저 일을 하라는 식으로 처리해야 하는 경우입니다.\n",
        "\n",
        "# if 조건:\n",
        "#   실행조건1\n",
        "# else:\n",
        "#   실행조건2"
      ],
      "metadata": {
        "colab": {
          "base_uri": "https://localhost:8080/"
        },
        "id": "7Aj1SaKDToAt",
        "outputId": "5081ba4e-6a43-4364-92c5-a12ac04ea8a7"
      },
      "execution_count": 20,
      "outputs": [
        {
          "output_type": "stream",
          "name": "stdout",
          "text": [
            "x가 y보다 작습니다.\n"
          ]
        }
      ]
    },
    {
      "cell_type": "code",
      "source": [
        "# 입문 10. if문 개념 배우기(if~elif)\n",
        "x=1\n",
        "y=2\n",
        "if x>y:\n",
        "  print('x가 y보다 큽니다.')\n",
        "elif x<y:\n",
        "  print('x가 y보다 작습니다.')\n",
        "else:\n",
        "  print('x와 y가 같습니다.')\n",
        "\n",
        "# 조건 1이 참이면 실행 코드 1을, 조건 2가 참이면 실행 코드 2를 수행합니다.\n",
        "# 조건 1과 조건 2가 모두 거짓이면 실행 코드 3을 수행합니다. 체크하고자 하는 조건이 여러 개인 것을 제외하면 if ~ else문과 개념이 동일합니다."
      ],
      "metadata": {
        "colab": {
          "base_uri": "https://localhost:8080/"
        },
        "id": "g5VfpzLsUJw_",
        "outputId": "d3603170-786d-46db-cebb-75ace8f1bf6a"
      },
      "execution_count": 23,
      "outputs": [
        {
          "output_type": "stream",
          "name": "stdout",
          "text": [
            "x가 y보다 작습니다.\n"
          ]
        }
      ]
    }
  ]
}