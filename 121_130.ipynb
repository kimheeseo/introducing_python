{
  "nbformat": 4,
  "nbformat_minor": 0,
  "metadata": {
    "colab": {
      "provenance": [],
      "authorship_tag": "ABX9TyONgh/WRqW7jro6S5HkuiL5",
      "include_colab_link": true
    },
    "kernelspec": {
      "name": "python3",
      "display_name": "Python 3"
    },
    "language_info": {
      "name": "python"
    }
  },
  "cells": [
    {
      "cell_type": "markdown",
      "metadata": {
        "id": "view-in-github",
        "colab_type": "text"
      },
      "source": [
        "<a href=\"https://colab.research.google.com/github/kimheeseo/python/blob/main/121_130.ipynb\" target=\"_parent\"><img src=\"https://colab.research.google.com/assets/colab-badge.svg\" alt=\"Open In Colab\"/></a>"
      ]
    },
    {
      "cell_type": "code",
      "execution_count": 1,
      "metadata": {
        "id": "RdblAGjlFucq",
        "colab": {
          "base_uri": "https://localhost:8080/"
        },
        "outputId": "2239c9cb-2e21-4932-dc93-81b3faecb17e"
      },
      "outputs": [
        {
          "output_type": "stream",
          "name": "stdout",
          "text": [
            "sum(listdata)값: 65\n"
          ]
        }
      ],
      "source": [
        "# 중급 121. 리스트의 모든 요소의 합 구하기\n",
        "listdata=[2,2,1,3,8,5,7,6,3,6,2,3,9,4,4]\n",
        "ret=sum(listdata)\n",
        "print('sum(listdata)값:',ret)"
      ]
    },
    {
      "cell_type": "code",
      "source": [
        "# 중급 122. 리스트 요소가 모두 참인지 확인하기(all, any)\n",
        "listdata1=[0,1,2,3,4]\n",
        "listdata2=[True, True, True]\n",
        "listdata3=['',[],(),{},None, False]\n",
        "\n",
        "print(\"all(listdata1)값:\",all(listdata1))\n",
        "# listdata1은 0을 요소로 가지고 있습니다. 0은 거짓인 값이므로 all(listdata1)은 false입니다.\n",
        "print(\"any(listdata1)값:\",any(listdata1))\n",
        "# listdata1은 0을 제외한 모든 값이 참인 값입니다. 따라서 True\n",
        "\n",
        "print(\"all(listdata3)값:\",all(listdata3))\n",
        "# listdat3은 모든 요소가 거짓인 값으로 구성되어 있습니다.\n",
        "print(\"any(listdat3)값:\",any(listdata3))"
      ],
      "metadata": {
        "colab": {
          "base_uri": "https://localhost:8080/"
        },
        "id": "JwD5A4UIIzro",
        "outputId": "3b90a14f-3cb5-40e0-f5ba-347f208096fa"
      },
      "execution_count": 7,
      "outputs": [
        {
          "output_type": "stream",
          "name": "stdout",
          "text": [
            "all(listdata1)값: False\n",
            "any(listdata1)값: True\n",
            "all(listdata3)값: False\n",
            "any(listdat3)값: False\n"
          ]
        }
      ]
    },
    {
      "cell_type": "code",
      "source": [
        "# 중급 123. 사전에 요소 추가하기\n",
        "solar1=['태양','수성','금성','지구','화성','목성']\n",
        "solar2=['suns','mercury','venus','earth','mars','jupiter']\n",
        "solardict={}\n",
        "print(\"enumerate(solar1)값:\",enumerate(solar1))\n",
        "\n",
        "for entry in enumerate(solar1):\n",
        "  print(entry)\n",
        "\n",
        "for i,k in enumerate(solar1):\n",
        "  val=solar2[i]\n",
        "  print('val값:',val)\n",
        "  print('k값:',k)\n",
        "  solardict[k]=val\n",
        "  print('solardict[k]값:',solardict[k])\n",
        "\n",
        "# 사전은 키:값이 요소인 순서가 없는 자료형입니다. 따라서 사전은 인덱스가 아닌 키로 해당 요소의 값을 접근할 수 있습니다.\n",
        "print('solardict값:',solardict)"
      ],
      "metadata": {
        "colab": {
          "base_uri": "https://localhost:8080/"
        },
        "id": "IjbyakuzIzuH",
        "outputId": "41f26069-395b-4b89-f7c9-8ea349ea2cc1"
      },
      "execution_count": 2,
      "outputs": [
        {
          "output_type": "stream",
          "name": "stdout",
          "text": [
            "enumerate(solar1)값: <enumerate object at 0x7808ed9223c0>\n",
            "(0, '태양')\n",
            "(1, '수성')\n",
            "(2, '금성')\n",
            "(3, '지구')\n",
            "(4, '화성')\n",
            "(5, '목성')\n",
            "val값: suns\n",
            "k값: 태양\n",
            "solardict[k]값: suns\n",
            "val값: mercury\n",
            "k값: 수성\n",
            "solardict[k]값: mercury\n",
            "val값: venus\n",
            "k값: 금성\n",
            "solardict[k]값: venus\n",
            "val값: earth\n",
            "k값: 지구\n",
            "solardict[k]값: earth\n",
            "val값: mars\n",
            "k값: 화성\n",
            "solardict[k]값: mars\n",
            "val값: jupiter\n",
            "k값: 목성\n",
            "solardict[k]값: jupiter\n",
            "solardict값: {'태양': 'suns', '수성': 'mercury', '금성': 'venus', '지구': 'earth', '화성': 'mars', '목성': 'jupiter'}\n"
          ]
        }
      ]
    },
    {
      "cell_type": "code",
      "source": [
        "# 중급 124. 사전의 특정 요소값 변경하기\n",
        "names={'Mary':10999,'Sams':2111,'Aimy':9778,'Tom':20245, 'michale':2715, 'bob': 5887, 'kelly':7855}\n",
        "print('names값:',names)\n",
        "names['Aimy']=1000\n",
        "print('names값:',names)"
      ],
      "metadata": {
        "colab": {
          "base_uri": "https://localhost:8080/"
        },
        "id": "6khTxw8sIzwp",
        "outputId": "94cf4fa9-d0af-445c-e549-bc6df77cb23e"
      },
      "execution_count": 4,
      "outputs": [
        {
          "output_type": "stream",
          "name": "stdout",
          "text": [
            "names값: {'Mary': 10999, 'Sams': 2111, 'Aimy': 9778, 'Tom': 20245, 'michale': 2715, 'bob': 5887, 'kelly': 7855}\n",
            "names값: {'Mary': 10999, 'Sams': 2111, 'Aimy': 1000, 'Tom': 20245, 'michale': 2715, 'bob': 5887, 'kelly': 7855}\n"
          ]
        }
      ]
    },
    {
      "cell_type": "code",
      "source": [
        "# 중급 125. 사전의 특정 요소 제거하기(del)\n",
        "names={'Mary':10999,'Sams':2111,'Aimy':9778,'Tom':20245, 'michale':2715, 'bob': 5887, 'kelly':7855}\n",
        "print('names값:',names)\n",
        "del names['Sams']\n",
        "print('names값:',names)"
      ],
      "metadata": {
        "colab": {
          "base_uri": "https://localhost:8080/"
        },
        "id": "MAaUMzrsIzy_",
        "outputId": "bf3aae16-17f2-4c57-ce1d-63ad5cbc6669"
      },
      "execution_count": 5,
      "outputs": [
        {
          "output_type": "stream",
          "name": "stdout",
          "text": [
            "names값: {'Mary': 10999, 'Sams': 2111, 'Aimy': 9778, 'Tom': 20245, 'michale': 2715, 'bob': 5887, 'kelly': 7855}\n",
            "names값: {'Mary': 10999, 'Aimy': 9778, 'Tom': 20245, 'michale': 2715, 'bob': 5887, 'kelly': 7855}\n"
          ]
        }
      ]
    },
    {
      "cell_type": "code",
      "source": [
        "# 중급 126. 사전의 모든 요소 제거하기(clear)\n",
        "names={'Mary':10999,'Sams':2111,'Aimy':9778,'Tom':20245, 'michale':2715, 'bob': 5887, 'kelly':7855}\n",
        "print('names값:',names)\n",
        "names.clear()\n",
        "print('names값:',names)\n",
        "# 사전의 모든 요소를 제거하여 빈 사전으로 만드는 방법은 사전 객체의 clear() 메소드를 이용하면 됩니다."
      ],
      "metadata": {
        "colab": {
          "base_uri": "https://localhost:8080/"
        },
        "id": "4OTAbHCCIz1O",
        "outputId": "8062dec7-3f2c-401f-9ee5-1cec517f6792"
      },
      "execution_count": 6,
      "outputs": [
        {
          "output_type": "stream",
          "name": "stdout",
          "text": [
            "names값: {'Mary': 10999, 'Sams': 2111, 'Aimy': 9778, 'Tom': 20245, 'michale': 2715, 'bob': 5887, 'kelly': 7855}\n",
            "names값: {}\n"
          ]
        }
      ]
    },
    {
      "cell_type": "code",
      "source": [
        "# 중급 127. 사전에서 키만 추출하기(keys)\n",
        "names={'Mary':10999,'Sams':2111,'Aimy':9778,'Tom':20245, 'michale':2715, 'bob': 5887, 'kelly':7855}\n",
        "ks=names.keys()\n",
        "print('key값:',ks)\n",
        "# 아기이름:출생아 수가 요소인 사전에서 키와 값을 한줄씩 출력하는 코드\n",
        "\n",
        "# ks=names.keys()\n",
        "# names의 모든 키를 추출하여 dict_keys 사전 뷰 객체로 리턴합니다.\n",
        "\n",
        "for k in ks: # dict_keys 사전 뷰 객체는 in 키워드 뒤에 놓여 dict_keys의 요소를 하나씩 끄집어 낼 수 있습니다.\n",
        "  print('key: %s \\t value: %d' %(k,names[k]))\n",
        "# 사전은 순서가 없는 자료형이므로 dict_keys객체 요소들의 순서는 책과 다를 수 있습니다.\n",
        "key_list=list(names.keys())\n",
        "print('key_list값:',key_list)\n",
        "# dict_keys 객체는 list() 함수의 인자로 입력되어 리스트로 변환됩니다."
      ],
      "metadata": {
        "colab": {
          "base_uri": "https://localhost:8080/"
        },
        "id": "C_ILNUOHIz3v",
        "outputId": "2757bd11-61a7-4997-db26-c07554367c99"
      },
      "execution_count": 9,
      "outputs": [
        {
          "output_type": "stream",
          "name": "stdout",
          "text": [
            "key값: dict_keys(['Mary', 'Sams', 'Aimy', 'Tom', 'michale', 'bob', 'kelly'])\n",
            "key: Mary \t value: 10999\n",
            "key: Sams \t value: 2111\n",
            "key: Aimy \t value: 9778\n",
            "key: Tom \t value: 20245\n",
            "key: michale \t value: 2715\n",
            "key: bob \t value: 5887\n",
            "key: kelly \t value: 7855\n",
            "key_list값: ['Mary', 'Sams', 'Aimy', 'Tom', 'michale', 'bob', 'kelly']\n"
          ]
        }
      ]
    },
    {
      "cell_type": "code",
      "source": [
        "# 중급 128. 사전에서 값만 추출하기\n",
        "names={'Mary':10999,'Sams':2111,'Aimy':9778,'Tom':20245, 'michale':2715, 'bob': 5887, 'kelly':7855}\n",
        "vals=names.values() # names.values()는 names의 모든 값들을 추출하여 dict_values 사전 뷰 객체로 리턴합니다.\n",
        "print('vals값:',vals)\n",
        "\n",
        "vals_list=list(vals)\n",
        "ret=sum(vals_list)\n",
        "print('출생아 수 총계:%d' %ret)"
      ],
      "metadata": {
        "colab": {
          "base_uri": "https://localhost:8080/"
        },
        "id": "G4avnd1MIz6F",
        "outputId": "107d08c4-6b13-4815-aa57-6fbd714e2995"
      },
      "execution_count": 10,
      "outputs": [
        {
          "output_type": "stream",
          "name": "stdout",
          "text": [
            "vals값: dict_values([10999, 2111, 9778, 20245, 2715, 5887, 7855])\n",
            "출생아 수 총계:59590\n"
          ]
        }
      ]
    },
    {
      "cell_type": "code",
      "source": [
        "# 중급 129. 사전 요소를 모두 추출하기(items)\n",
        "names={'Mary':10999,'Sams':2111,'Aimy':9778,'Tom':20245, 'michale':2715, 'bob': 5887, 'kelly':7855}\n",
        "items=names.items()\n",
        "print('items값:',items)\n",
        "\n",
        "for item in items:\n",
        "  print('items값:',item) # 아기이름 : 출생아 수가 요소인 사전에서 각 요소를 추출하여 (아기이름, 출생아 수)로 출력하는 코드"
      ],
      "metadata": {
        "colab": {
          "base_uri": "https://localhost:8080/"
        },
        "id": "EUPzGLL0Iz8f",
        "outputId": "fda2b6b7-ff5b-4756-b2ca-64af8d9dab50"
      },
      "execution_count": 11,
      "outputs": [
        {
          "output_type": "stream",
          "name": "stdout",
          "text": [
            "items값: dict_items([('Mary', 10999), ('Sams', 2111), ('Aimy', 9778), ('Tom', 20245), ('michale', 2715), ('bob', 5887), ('kelly', 7855)])\n",
            "items값: ('Mary', 10999)\n",
            "items값: ('Sams', 2111)\n",
            "items값: ('Aimy', 9778)\n",
            "items값: ('Tom', 20245)\n",
            "items값: ('michale', 2715)\n",
            "items값: ('bob', 5887)\n",
            "items값: ('kelly', 7855)\n"
          ]
        }
      ]
    },
    {
      "cell_type": "code",
      "source": [
        "# 중급 130. 사전에 특정 키가 존재하는 지 확인하기(in)\n",
        "names={'Mary':10999,'Sams':2111,'Aimy':9778,'Tom':20245, 'michale':2715, 'bob': 5887, 'kelly':7855}\n",
        "k=input('이름을 입력하세요.')\n",
        "if k in names:\n",
        "  print('이름이 <%s>인 출생아 수인 <%d>명 입니다.' %(k,names[k]))\n",
        "# k가 사전 자료 naems의 키로 존재하면, 키와 이 키에 대응하는 값을 출력합니다.\n",
        "\n",
        "else:\n",
        "  print('자료에 <%s>인 이름이 존재하지 않습니다.' %k)\n",
        "# 만약 k가 dict에 키로 존재하면 true, 존재하지 않으면 false입니다.\n",
        "# k가 사전 자료 names의 키로 존재하지 않으면, 사용자가 입력한 값이 names의 키로 존재하지 않는다는 메시지를 출력합니다.\n",
        "\n",
        "if 2111 in names.values():\n",
        "  print('주어진 값이 사전에 존재합니다.')\n",
        "else:\n",
        "  print('주어진 값이 사전에 존재하지 않습니다.')"
      ],
      "metadata": {
        "colab": {
          "base_uri": "https://localhost:8080/"
        },
        "id": "8QLtNFVRI0BY",
        "outputId": "fbfd859e-de58-41fe-d90b-4f0284f18bd2"
      },
      "execution_count": 13,
      "outputs": [
        {
          "output_type": "stream",
          "name": "stdout",
          "text": [
            "이름을 입력하세요.Mary\n",
            "이름이 <Mary>인 출생아 수인 <10999>명 입니다.\n",
            "주어진 값이 사전에 존재합니다.\n"
          ]
        }
      ]
    }
  ]
}