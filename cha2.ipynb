{
  "nbformat": 4,
  "nbformat_minor": 0,
  "metadata": {
    "colab": {
      "provenance": [],
      "authorship_tag": "ABX9TyMj4e7dj/XFCDtzEfzrFcpj",
      "include_colab_link": true
    },
    "kernelspec": {
      "name": "python3",
      "display_name": "Python 3"
    },
    "language_info": {
      "name": "python"
    }
  },
  "cells": [
    {
      "cell_type": "markdown",
      "metadata": {
        "id": "view-in-github",
        "colab_type": "text"
      },
      "source": [
        "<a href=\"https://colab.research.google.com/github/kimheeseo/introducing_python/blob/main/cha2.ipynb\" target=\"_parent\"><img src=\"https://colab.research.google.com/assets/colab-badge.svg\" alt=\"Open In Colab\"/></a>"
      ]
    },
    {
      "cell_type": "markdown",
      "source": [
        "**chapter 2. 파이 재료: 숫자, 문자열, 변수**"
      ],
      "metadata": {
        "id": "yp94TjvBNk29"
      }
    },
    {
      "cell_type": "code",
      "execution_count": null,
      "metadata": {
        "id": "-8KCWWI2Njas"
      },
      "outputs": [],
      "source": [
        "2024.03.31\n",
        "\n",
        "데이터 타입\n",
        "1) 부울: true or false\n",
        "2) 정수: 42, 1000과 같은 숫자\n",
        "3) 실수: 3.141592와 같이 소수점이 있는 숫자 혹은 1.0e8=10*10^8과 같은 지수\n",
        "4) 문자열: 텍스트 문자들의 시퀀스"
      ]
    },
    {
      "cell_type": "code",
      "source": [
        "각 타입은 특정한 규칙을 갖고 있으며, 컴퓨터에 따라 다르게 처리된다.\n",
        "- 변수: variable(실제 데이터를 참조하는 이름)\n",
        "- 대화식 인터프리터: 파이썬에서 대화식 인터프리터는 코드를 한 줄씩 입력하고 결과를 확인할 수 있는 환경을 제공합니다.\n",
        "장점: 1) 빠르고 간편하게 코드를 실행할 수 있습니다.\n",
        "2) 코드를 테스트하고 디버깅하는 데 유용합니다.\n",
        "3) 새로운 기능을 배우고 실험하는 데, 도움이 됩니다."
      ],
      "metadata": {
        "id": "4JNc1QGQOcwy"
      },
      "execution_count": null,
      "outputs": []
    },
    {
      "cell_type": "markdown",
      "source": [
        "**2.1 변수, 이름, 객체**"
      ],
      "metadata": {
        "id": "CQbexRbYPVYd"
      }
    },
    {
      "cell_type": "code",
      "source": [
        "파이썬에서는 모든 것(부울, 정수, 실수, 문자열, 데이터 구조, 함수, 프로그램)이 객체(object)로 구현되어 있다.\n",
        "\n",
        "+)\n",
        "ex) a=25;\n",
        "- a:변수이름\n",
        "- 25:int형 객체(int형 객체는 object 클래스의 하위 클래스)\n",
        "\n",
        "객체(object): 모든 유형의 데이터\n",
        "- 타입은 박스에 포함된 데이터 값을 변경할 수 있는 변수(가변)인지 혹은 변경할 수 없는 상수인지 판단할 수 있다.\n",
        "\n",
        "프로그래밍 언어에서는 변수를 선언하여 사용할 수 있다. 변수는 컴퓨터 메모리에 있는 값을 참조하기 위한 이름이다.\n",
        "- 프로그램에서 이를 선언해서 사용할 수 있다. 파이썬에서는 변수에 값을 할당하기 위해 \"=\"을 사용한다.\n",
        "- 변수는 단지 이름일 뿐이다. 할당한다는 의미는 값을 복사하는 것이 아니라, 데이터가 담긴 객체에 그냥 이름을 붙이는 것이다;"
      ],
      "metadata": {
        "id": "pSCHY3PYPY3U"
      },
      "execution_count": null,
      "outputs": []
    },
    {
      "cell_type": "code",
      "source": [
        "a=7\n",
        "print(a)\n",
        "- 정수 7이 담긴 객체 박스를 생성한다는 의미다."
      ],
      "metadata": {
        "colab": {
          "base_uri": "https://localhost:8080/"
        },
        "id": "3TP3yZ6ZSUKy",
        "outputId": "f2931520-aa1d-4b83-ab9e-8f24b8e9424a"
      },
      "execution_count": null,
      "outputs": [
        {
          "output_type": "stream",
          "name": "stdout",
          "text": [
            "7\n"
          ]
        }
      ]
    },
    {
      "cell_type": "code",
      "source": [
        "type(a)\n",
        "파이썬에서 변수 혹은 리티럴 값의 타입을 알 고 싶다면, type을 사용하면 된다.\n",
        "\n",
        "class는 객체의 정의를 의미한다.\n",
        "- 파이썬에서 'class'와 'type'은 그 의미가 거의 같다."
      ],
      "metadata": {
        "colab": {
          "base_uri": "https://localhost:8080/"
        },
        "id": "KiVnQHHzSg5l",
        "outputId": "e7355490-3bba-4da2-ec97-3118bd2646f0"
      },
      "execution_count": null,
      "outputs": [
        {
          "output_type": "execute_result",
          "data": {
            "text/plain": [
              "int"
            ]
          },
          "metadata": {},
          "execution_count": 3
        }
      ]
    },
    {
      "cell_type": "markdown",
      "source": [
        "**2.2 숫자**"
      ],
      "metadata": {
        "id": "LVPruQO_S8Qj"
      }
    },
    {
      "cell_type": "code",
      "source": [
        "파이썬은 정수(5, 1000, 10000 등)와 부동소수점수(3.1416, 14.99 등)를 지원하는 기능이 내장되어 있다.\n",
        "\n",
        "간단한 수학 연산자\n",
        "1) %나머지\n",
        "7%3=1\n",
        "\n",
        "2) 정수 나누기\n",
        "7/3=2\n",
        "\n",
        "3) 부동소수점 나누기\n",
        "7/2=3.5\n",
        "\n",
        "4) 지수\n",
        "2**4=16\n",
        "\n",
        "우선순위\n",
        "2+3*4"
      ],
      "metadata": {
        "id": "bHP8xnfWU390"
      },
      "execution_count": null,
      "outputs": []
    },
    {
      "cell_type": "code",
      "source": [
        "2+3*4\n",
        "3*4를 계산하고, 2+12를 계산하면 14다. 대부분의 언어와 마찬가지로 파이썬에서 곱셈은 덧셈보다 높은 우선순위를 가진다."
      ],
      "metadata": {
        "colab": {
          "base_uri": "https://localhost:8080/"
        },
        "id": "h_loRYSrTIIM",
        "outputId": "6cd57330-2198-4e90-f203-18a6f99e6368"
      },
      "execution_count": null,
      "outputs": [
        {
          "output_type": "execute_result",
          "data": {
            "text/plain": [
              "14"
            ]
          },
          "metadata": {},
          "execution_count": 6
        }
      ]
    },
    {
      "cell_type": "code",
      "source": [
        "2024.04.01\n",
        "정수 앞에 진수를 붙이지 않으면 10진수로 간주한다.\n",
        "세 가지 리터럴 정수\n",
        "- 2진수(binary): 0b, oB\n",
        "- 8진수(octal): 0o, 0O\n",
        "- 16진수(hexadecimal): 0x, 0X\n",
        "\n",
        "16진수는 0, 1,2,3,4,5,6,7,9,a,b,c,d,e,f로 센다.\n",
        "\n",
        "형 변환\n",
        "다른 데이터 타입을 정수형으로 변환하려면 int()함수를 사용한다. 이 함수는 소수점을 버리고 정수를 반환한다.\n",
        "int()는 부동소수점수, 혹은 숫자로 이루어진 문자열을 정수로 반환한다."
      ],
      "metadata": {
        "id": "4L22Q7CDUvVa"
      },
      "execution_count": null,
      "outputs": []
    },
    {
      "cell_type": "code",
      "source": [
        "# 예시\n",
        "int(98.6)"
      ],
      "metadata": {
        "colab": {
          "base_uri": "https://localhost:8080/"
        },
        "id": "Eb2cEpDwUvjv",
        "outputId": "1a9731c4-0f25-438f-fa71-a1b007c6787a"
      },
      "execution_count": null,
      "outputs": [
        {
          "output_type": "execute_result",
          "data": {
            "text/plain": [
              "98"
            ]
          },
          "metadata": {},
          "execution_count": 1
        }
      ]
    },
    {
      "cell_type": "code",
      "source": [
        "# 소수점 혹은 지수를 포함하는 문자열은 처리하지 않는다.\n",
        "int('98.6')"
      ],
      "metadata": {
        "colab": {
          "base_uri": "https://localhost:8080/",
          "height": 164
        },
        "id": "gH3xi6XPUvmZ",
        "outputId": "915ca4e6-c58f-4e56-b5c2-a9df50a2643e"
      },
      "execution_count": null,
      "outputs": [
        {
          "output_type": "error",
          "ename": "ValueError",
          "evalue": "invalid literal for int() with base 10: '98.6'",
          "traceback": [
            "\u001b[0;31m---------------------------------------------------------------------------\u001b[0m",
            "\u001b[0;31mValueError\u001b[0m                                Traceback (most recent call last)",
            "\u001b[0;32m<ipython-input-2-93e159f25da7>\u001b[0m in \u001b[0;36m<cell line: 2>\u001b[0;34m()\u001b[0m\n\u001b[1;32m      1\u001b[0m \u001b[0;31m# 소수점 혹은 지수를 포함하는 문자열은 처리하지 않는다.\u001b[0m\u001b[0;34m\u001b[0m\u001b[0;34m\u001b[0m\u001b[0m\n\u001b[0;32m----> 2\u001b[0;31m \u001b[0mint\u001b[0m\u001b[0;34m(\u001b[0m\u001b[0;34m'98.6'\u001b[0m\u001b[0;34m)\u001b[0m\u001b[0;34m\u001b[0m\u001b[0;34m\u001b[0m\u001b[0m\n\u001b[0m",
            "\u001b[0;31mValueError\u001b[0m: invalid literal for int() with base 10: '98.6'"
          ]
        }
      ]
    },
    {
      "cell_type": "code",
      "source": [
        "부동소수점수\n",
        "- 부동소수점수(python에서 flonat이라고 한다.)는 소수점이 있다.\n",
        "- 부동소수점수로 형변환하기 위해서는 float()함수를 사용한다."
      ],
      "metadata": {
        "id": "3KYi9xhpUvpL"
      },
      "execution_count": null,
      "outputs": []
    },
    {
      "cell_type": "code",
      "source": [
        "print('float(98):',float(98))\n",
        "print('int(98):',int(98))"
      ],
      "metadata": {
        "colab": {
          "base_uri": "https://localhost:8080/"
        },
        "id": "vTCiOAhyUvr9",
        "outputId": "15fe43d1-eee8-4b0c-efbd-710cb902a1aa"
      },
      "execution_count": null,
      "outputs": [
        {
          "output_type": "stream",
          "name": "stdout",
          "text": [
            "float(98): 98.0\n",
            "int(98): 98\n"
          ]
        }
      ]
    },
    {
      "cell_type": "code",
      "source": [
        "수학 함수\n",
        "- 파이썬에는 제곱근, 코사인 등과 같은 수학 함수가 있다."
      ],
      "metadata": {
        "id": "GtmleKvFaLM-"
      },
      "execution_count": null,
      "outputs": []
    },
    {
      "cell_type": "code",
      "source": [
        "2.3 문자열\n",
        "다른 언어와 달리 파이썬에서는 문자열이 불변('immutable')이다.\n",
        "- 문자열 자체는 변경할 수 없지만, 같은 효과를 얻기 위해 문자열의 일부를 다른 문자열로 복사할 수는 있다.\n",
        "\n",
        "파이썬에서는 단일(' ')/이중(\" \") 인용 부호를 똑같이 처리한다.\n",
        "- 주요 목적은 인용 부호가 포함된 문자열을 만들기 위해서다.\n",
        "- 단일 인용 부호의 문자열을 이중 인용 부호에 넣거나, 이중 인용 부호의 문자열을 단일 인용 부호에 넣을 수 있다.\n",
        "-> 문장 안에 \"\", ''를 넣기 위해서 이중으로 사용."
      ],
      "metadata": {
        "id": "_032xC90aLQ2"
      },
      "execution_count": null,
      "outputs": []
    },
    {
      "cell_type": "code",
      "source": [
        "\"'Nay,' said the naysayer.\""
      ],
      "metadata": {
        "colab": {
          "base_uri": "https://localhost:8080/",
          "height": 35
        },
        "id": "jRwyZdgpaLUZ",
        "outputId": "58f2711b-c1e7-4a05-fbcd-0ff60c603748"
      },
      "execution_count": null,
      "outputs": [
        {
          "output_type": "execute_result",
          "data": {
            "text/plain": [
              "\"'Nay,' said the naysayer.\""
            ],
            "application/vnd.google.colaboratory.intrinsic+json": {
              "type": "string"
            }
          },
          "metadata": {},
          "execution_count": 5
        }
      ]
    },
    {
      "cell_type": "code",
      "source": [
        "'The rare double quote in captivity: \".\"'\n",
        "- print(): 문자열에서 인용 부호를 제거한 뒤 내용을 출력한다.\n",
        " 대화식 인터프리터가 자동으로 출력한 것과는 달리, 수동으로 결과를 출력한다.\n",
        " 예) print(99,'bottles','would be enough')\n",
        " 99 bottles would be enough"
      ],
      "metadata": {
        "colab": {
          "base_uri": "https://localhost:8080/",
          "height": 35
        },
        "id": "nVc0239QbqBR",
        "outputId": "99581206-51a3-4489-9247-b9e8e8cb9fb7"
      },
      "execution_count": null,
      "outputs": [
        {
          "output_type": "execute_result",
          "data": {
            "text/plain": [
              "'The rare double quote in captivity: \".\"'"
            ],
            "application/vnd.google.colaboratory.intrinsic+json": {
              "type": "string"
            }
          },
          "metadata": {},
          "execution_count": 6
        }
      ]
    },
    {
      "cell_type": "code",
      "source": [
        "데이터 타입 변환: str()\n",
        "- str()함수를 사용하여, 데이터 타입을 문자열로 변환할 수 있다.\n",
        "\n",
        "str(98.6) -> '98.6'\n",
        "\n",
        "#이스케이프 문자\n",
        "문자 앞에 백슬래시(\\) 기호를 붙임으로써 특별한 의미를 줄 수 있다. 가장 일반적인 이스케이프 시퀀스는 줄바꿈을 의미하는 \\n이다.\n",
        "\n",
        "ex) palindrome='A man, \\nA plan, \\nA canal:\\nPanama.'\n",
        "\n",
        ">>> print(palindrome)\n",
        "A man,\n",
        "A plan,\n",
        "A canal:\n",
        "Panama.\n",
        "\n",
        "텍스트의 공백에 사용되는 이스케이프 시퀀스 \\t"
      ],
      "metadata": {
        "id": "xWNy_VlibqI3"
      },
      "execution_count": null,
      "outputs": []
    },
    {
      "cell_type": "code",
      "source": [
        "print('abc')\n",
        "print('\\tabc')\n",
        "print('\\nabc')\n",
        "\n",
        "# 문자열에서 \\' 혹은 '\\을 사용하여 단일 또는 이중 인용 부호를 표현할 수 있다.\n",
        "testimony=\"\\\"I did nothing!\\\" he said. \\\"Not that either! Or the other thing.\\\"\"\n",
        "print(testimony)\n",
        "\n",
        "#백슬래시를 입력하고 싶은 경우에는 백슬래시를 2번 입력하면 된다.\n",
        "speech='today we honor our friend, the backslash:\\\\.'\n",
        "print(speech)"
      ],
      "metadata": {
        "colab": {
          "base_uri": "https://localhost:8080/"
        },
        "id": "l-fjlM9AbqE2",
        "outputId": "dd8791e8-711d-4d2b-eef4-1d44fca31df6"
      },
      "execution_count": null,
      "outputs": [
        {
          "output_type": "stream",
          "name": "stdout",
          "text": [
            "abc\n",
            "\tabc\n",
            "\n",
            "abc\n",
            "\"I did nothing!\" he said. \"Not that either! Or the other thing.\"\n",
            "today we honor our friend, the backslash:\\.\n"
          ]
        }
      ]
    },
    {
      "cell_type": "code",
      "source": [
        "#결합:+\n",
        "# '+' 연산자를 사용하여 리터럴 문자열 또는 문자열 변수를 결합할 수있다.\n",
        "  # 문자열 리터럴: 따옴표로 묶인 일련의 문자\n",
        "  # 파이썬은 문자열을 결합할 때 공백을 자동으로 붙이지 않는다.\n",
        "\n",
        "#+) 문자열 리터럴\n",
        "# 따옴표 안에 포함된 텍스트\n",
        "# ex)\n",
        "message=\"안녕하세요!\"\n",
        "greeting='반갑습니다.'\n",
        "numbr=\"1234\"\n",
        "\n",
        "message+greeting+number\n",
        "# 리터럴 문자열: 코드에 직접 작성된 문자열\n",
        "# 문자열 변수: 리터럴 문자열을 저장하고 참조하는 데 사용-> 문자열 변수는 값을 변경할 수 있지만, 리터럴 문자열은 변경할 수 없다."
      ],
      "metadata": {
        "colab": {
          "base_uri": "https://localhost:8080/",
          "height": 35
        },
        "id": "zqE71T-yn3-k",
        "outputId": "5e530489-4b03-4786-e02c-b36a15f8c8ac"
      },
      "execution_count": null,
      "outputs": [
        {
          "output_type": "execute_result",
          "data": {
            "text/plain": [
              "'안녕하세요!반갑습니다.1234'"
            ],
            "application/vnd.google.colaboratory.intrinsic+json": {
              "type": "string"
            }
          },
          "metadata": {},
          "execution_count": 28
        }
      ]
    },
    {
      "cell_type": "code",
      "source": [
        "# 복제하기:*\n",
        "#문자추출: []\n",
        "letters='abcdefghijklmnopqrstuvwxyz'\n",
        "print('letters[0]:',letters[0])\n",
        "# 가장 왼쪽의 오프셋은 0이고, 문자열은 불변하기 때문에 특정 인덱스에 문자를 삽입하거나 변경할 수 없다."
      ],
      "metadata": {
        "colab": {
          "base_uri": "https://localhost:8080/"
        },
        "id": "RaFvFKn4n37G",
        "outputId": "8e7f9b59-8792-4247-ec06-f87923719e2b"
      },
      "execution_count": null,
      "outputs": [
        {
          "output_type": "stream",
          "name": "stdout",
          "text": [
            "letters[0]: a\n"
          ]
        }
      ]
    },
    {
      "cell_type": "code",
      "source": [
        "슬라이스: 한 문자열에서 문자열의 입루를 추출할 수 있다.\n",
        "- 슬라이스를 사용하여 한 문자열에서 문자열의 일부를 추출할 수 있다.\n",
        "- 대괄호를 사용하여 start 오프셋. 끝(end) 오프셋, 그리고 옵션으로 스텝을 명시하여 슬라이스를 정의한다."
      ],
      "metadata": {
        "id": "WXhjD4x2n34g"
      },
      "execution_count": null,
      "outputs": []
    },
    {
      "cell_type": "code",
      "source": [
        "letters='abcdefghijklmnopqrstuvwxyz'\n",
        "print('letters[3]',letters[3])\n",
        "- 슬라이스는 단일 인덱스 조회라기보다는 까다로운 오프셋 조건을 광범위하게 조회하는 것에 더 가깝다."
      ],
      "metadata": {
        "colab": {
          "base_uri": "https://localhost:8080/"
        },
        "id": "JfJiDNwYbqMb",
        "outputId": "995d695a-bd30-4670-e231-8fb2682b055f"
      },
      "execution_count": 5,
      "outputs": [
        {
          "output_type": "stream",
          "name": "stdout",
          "text": [
            "letters[3] d\n"
          ]
        }
      ]
    },
    {
      "cell_type": "code",
      "source": [
        "문자열 길이: len()\n",
        "- 파이썬의 내장함수(특정 작업을 수행하는 코드에 이름을 붙인 것)들 중 일부.\n",
        "\n",
        "문자열 나누기: spilt()\n",
        "- 어떤 구분자를 기준으로 하나의 문자열을 작은 문자열들의 리스트로 나누기 위해서는 문자열 내장 함수 spilt()을 사용한다.\n",
        "\n",
        "ex) todos='get gloves, get mask, give cat vitamins, call ambulance'\n",
        "=> todos.spilt(',')\n",
        "['get gloves', 'get mask', 'give cat vitamins', 'call ambulance']\n",
        "- todos 문자열과 단일 구분자의 인자로 ','와 함께 split()함수를 사용.\n",
        "\n",
        "문자열로 결합하기: join()\n",
        "- join()함수는 split()함수와 반대다."
      ],
      "metadata": {
        "id": "Sd0tkv6Xn3pH"
      },
      "execution_count": null,
      "outputs": []
    },
    {
      "cell_type": "code",
      "source": [
        "#대소문자와 배치\n",
        "setup='a duck goes into a bar...'\n",
        "setup.strip('.')"
      ],
      "metadata": {
        "colab": {
          "base_uri": "https://localhost:8080/",
          "height": 35
        },
        "id": "hKOIzLRZ0t2j",
        "outputId": "8c449cb9-206c-4832-a2cc-cf6fe4a19399"
      },
      "execution_count": 11,
      "outputs": [
        {
          "output_type": "execute_result",
          "data": {
            "text/plain": [
              "'a duck goes into a bar'"
            ],
            "application/vnd.google.colaboratory.intrinsic+json": {
              "type": "string"
            }
          },
          "metadata": {},
          "execution_count": 11
        }
      ]
    },
    {
      "cell_type": "code",
      "source": [
        "# 첫번째 단어를 대문자로 만들어보자.\n",
        "setup.capitalize()"
      ],
      "metadata": {
        "colab": {
          "base_uri": "https://localhost:8080/",
          "height": 35
        },
        "id": "iXulrZL51YtT",
        "outputId": "f93555ac-2611-4ae9-f336-2b955461bac5"
      },
      "execution_count": 13,
      "outputs": [
        {
          "output_type": "execute_result",
          "data": {
            "text/plain": [
              "'A duck goes into a bar...'"
            ],
            "application/vnd.google.colaboratory.intrinsic+json": {
              "type": "string"
            }
          },
          "metadata": {},
          "execution_count": 13
        }
      ]
    },
    {
      "cell_type": "code",
      "source": [
        "# 모든 단어의 첫글자를 대문자로 만들어보자.\n",
        "setup.title()"
      ],
      "metadata": {
        "colab": {
          "base_uri": "https://localhost:8080/",
          "height": 35
        },
        "id": "mxrxXpEe1f-O",
        "outputId": "80c9e23a-5ab1-4374-e881-8c0d408ad505"
      },
      "execution_count": 14,
      "outputs": [
        {
          "output_type": "execute_result",
          "data": {
            "text/plain": [
              "'A Duck Goes Into A Bar...'"
            ],
            "application/vnd.google.colaboratory.intrinsic+json": {
              "type": "string"
            }
          },
          "metadata": {},
          "execution_count": 14
        }
      ]
    },
    {
      "cell_type": "code",
      "source": [
        "# 글자를 모두 대문자로 만들어보자.\n",
        "setup.upper()"
      ],
      "metadata": {
        "colab": {
          "base_uri": "https://localhost:8080/",
          "height": 35
        },
        "id": "eCcxFTdY1lsj",
        "outputId": "e43f461e-a2ba-42cb-b5ac-8fc5b75b8920"
      },
      "execution_count": 15,
      "outputs": [
        {
          "output_type": "execute_result",
          "data": {
            "text/plain": [
              "'A DUCK GOES INTO A BAR...'"
            ],
            "application/vnd.google.colaboratory.intrinsic+json": {
              "type": "string"
            }
          },
          "metadata": {},
          "execution_count": 15
        }
      ]
    },
    {
      "cell_type": "code",
      "source": [
        "# 대체하기 : 문자열의 일부를 대체하기 위해서 사용 = replace()"
      ],
      "metadata": {
        "id": "eFIJxEQP1w8s"
      },
      "execution_count": null,
      "outputs": []
    }
  ]
}