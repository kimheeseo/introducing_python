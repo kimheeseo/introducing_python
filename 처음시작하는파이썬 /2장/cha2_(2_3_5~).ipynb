{
  "nbformat": 4,
  "nbformat_minor": 0,
  "metadata": {
    "colab": {
      "provenance": [],
      "authorship_tag": "ABX9TyNHAKh5qGzZTfTm8+OgcYET",
      "include_colab_link": true
    },
    "kernelspec": {
      "name": "python3",
      "display_name": "Python 3"
    },
    "language_info": {
      "name": "python"
    }
  },
  "cells": [
    {
      "cell_type": "markdown",
      "metadata": {
        "id": "view-in-github",
        "colab_type": "text"
      },
      "source": [
        "<a href=\"https://colab.research.google.com/github/kimheeseo/python/blob/main/cha2_(2_3_5~).ipynb\" target=\"_parent\"><img src=\"https://colab.research.google.com/assets/colab-badge.svg\" alt=\"Open In Colab\"/></a>"
      ]
    },
    {
      "cell_type": "markdown",
      "source": [
        "**초보자를 위한 파이썬 200제: 2024. 07.15**"
      ],
      "metadata": {
        "id": "w0ECqssIZiP8"
      }
    },
    {
      "cell_type": "code",
      "execution_count": 2,
      "metadata": {
        "colab": {
          "base_uri": "https://localhost:8080/"
        },
        "id": "ZqaP_vpXafAi",
        "outputId": "c45d9cc9-53d3-4f2f-ab8b-961709d6e211"
      },
      "outputs": [
        {
          "output_type": "stream",
          "name": "stdout",
          "text": [
            "start값: NaNaNaNa\n",
            "\n"
          ]
        }
      ],
      "source": [
        "# 2.3.5 복제하기: *\n",
        "# * 연산자를 이용하여 문자열을 복제할 수 있다.\n",
        "start='Na'*4+'\\n'\n",
        "print('start값:',start)"
      ]
    },
    {
      "cell_type": "code",
      "source": [
        "# 2.3.6 문자 추출: []\n",
        "# 문자열에서 한 문자를 얻기 위해서는 문자열 이름 뒤에 대괄호와 오프셋을 지정한다.\n",
        "# 가장 왼쪽의 오프셋은 0이고, 그 다음은 1,2,... 이런 식으로 진행된다.\n",
        "# 가장 오른쪽의 오프셋은 -1이다. 그래서 문자열의 수를 셀 필요가 없다.\n",
        "\n",
        "letters='abcdefghijklmnopqrstuvwxyz'\n",
        "print('letters[0]값:',letters[0])\n",
        "print('letters[-1]값:',letters[-1])\n",
        "\n",
        "# 오프셋 문자열의 길이 혹은 이상으로 지정하는 경우에는 다음과 같은 예외를 얻게 된다.\n",
        "letters[100]"
      ],
      "metadata": {
        "colab": {
          "base_uri": "https://localhost:8080/",
          "height": 221
        },
        "id": "6rCJln4jZmfj",
        "outputId": "500ed20a-f1f8-495b-cb03-ea45c812b5f0"
      },
      "execution_count": 5,
      "outputs": [
        {
          "output_type": "stream",
          "name": "stdout",
          "text": [
            "letters[0]값: a\n",
            "letters[-1]값: z\n"
          ]
        },
        {
          "output_type": "error",
          "ename": "IndexError",
          "evalue": "string index out of range",
          "traceback": [
            "\u001b[0;31m---------------------------------------------------------------------------\u001b[0m",
            "\u001b[0;31mIndexError\u001b[0m                                Traceback (most recent call last)",
            "\u001b[0;32m<ipython-input-5-0f18f4753bbc>\u001b[0m in \u001b[0;36m<cell line: 11>\u001b[0;34m()\u001b[0m\n\u001b[1;32m      9\u001b[0m \u001b[0;34m\u001b[0m\u001b[0m\n\u001b[1;32m     10\u001b[0m \u001b[0;31m# 오프셋 문자열의 길이 혹은 이상으로 지정하는 경우에는 다음과 같은 예외를 얻게 된다.\u001b[0m\u001b[0;34m\u001b[0m\u001b[0;34m\u001b[0m\u001b[0m\n\u001b[0;32m---> 11\u001b[0;31m \u001b[0mletters\u001b[0m\u001b[0;34m[\u001b[0m\u001b[0;36m100\u001b[0m\u001b[0;34m]\u001b[0m\u001b[0;34m\u001b[0m\u001b[0;34m\u001b[0m\u001b[0m\n\u001b[0m",
            "\u001b[0;31mIndexError\u001b[0m: string index out of range"
          ]
        }
      ]
    },
    {
      "cell_type": "code",
      "source": [
        "# 문자열은 불변하기 때문에 특정 인덱스에 문자를 삽입하거나 변경할 수 없다.\n",
        "name='Henny'\n",
        "name[0]='P'"
      ],
      "metadata": {
        "colab": {
          "base_uri": "https://localhost:8080/",
          "height": 184
        },
        "id": "T1B5XBPWZmh7",
        "outputId": "633038d6-9573-4158-c4d5-4dc7adfb6cef"
      },
      "execution_count": 6,
      "outputs": [
        {
          "output_type": "error",
          "ename": "TypeError",
          "evalue": "'str' object does not support item assignment",
          "traceback": [
            "\u001b[0;31m---------------------------------------------------------------------------\u001b[0m",
            "\u001b[0;31mTypeError\u001b[0m                                 Traceback (most recent call last)",
            "\u001b[0;32m<ipython-input-6-d17b88d49a71>\u001b[0m in \u001b[0;36m<cell line: 3>\u001b[0;34m()\u001b[0m\n\u001b[1;32m      1\u001b[0m \u001b[0;31m# 문자열은 불변하기 때문에 특정 인덱스에 문자를 삽입하거나 변경할 수 없다.\u001b[0m\u001b[0;34m\u001b[0m\u001b[0;34m\u001b[0m\u001b[0m\n\u001b[1;32m      2\u001b[0m \u001b[0mname\u001b[0m\u001b[0;34m=\u001b[0m\u001b[0;34m'Henny'\u001b[0m\u001b[0;34m\u001b[0m\u001b[0;34m\u001b[0m\u001b[0m\n\u001b[0;32m----> 3\u001b[0;31m \u001b[0mname\u001b[0m\u001b[0;34m[\u001b[0m\u001b[0;36m0\u001b[0m\u001b[0;34m]\u001b[0m\u001b[0;34m=\u001b[0m\u001b[0;34m'P'\u001b[0m\u001b[0;34m\u001b[0m\u001b[0;34m\u001b[0m\u001b[0m\n\u001b[0m",
            "\u001b[0;31mTypeError\u001b[0m: 'str' object does not support item assignment"
          ]
        }
      ]
    },
    {
      "cell_type": "code",
      "source": [
        "# replace()와 다음 절에서 설명할 슬라이스와 같은 문자열 함수를 사용할 수 있다.\n",
        "name='Henny'\n",
        "name.replace('H','P')"
      ],
      "metadata": {
        "colab": {
          "base_uri": "https://localhost:8080/",
          "height": 35
        },
        "id": "MmSDrYAhZmkb",
        "outputId": "19775c0d-561b-4c66-dfe9-483490a88047"
      },
      "execution_count": 7,
      "outputs": [
        {
          "output_type": "execute_result",
          "data": {
            "text/plain": [
              "'Penny'"
            ],
            "application/vnd.google.colaboratory.intrinsic+json": {
              "type": "string"
            }
          },
          "metadata": {},
          "execution_count": 7
        }
      ]
    },
    {
      "cell_type": "code",
      "source": [
        "# 2.3.7 슬라이스:[start:end:step]\n",
        "# 슬라이스(slice)를 사용하면 한 문자열에서 문자열의 일부를 추출할 수 있다.\n",
        "# 슬라이스는 오프셋의 start와 end-1사이의 문자를 포함한다.\n",
        "\n",
        "# [:] - 처음부터 끝까지 전체 시퀀스를 추출한다.\n",
        "# [start:] - start 오프셋부터 끝까지 시퀀스를 추출한다.\n",
        "# [:end] - 처음부터 end-1 오프셋까지 시퀀스를 추출한다.\n",
        "# [start:end] - start 오프셋부터 end-1 오프셋까지 시퀀스를 추출한다.\n",
        "# [start:end:step] - step만큼 문자를 건너뛰면서, start 오프셋부터 end-1 오프셋까지 시퀀스를 추출한다.\n",
        "\n",
        "letters[::-1] # 끝에서부터 시작 지점까지 빠짐없이 문자를 추출한다.\n",
        "# 슬라이스는 단일 인덱스 조회라기보다는 까다로운 오프셋 조건을 광범위하게 조회하는 것에 더 가깝다."
      ],
      "metadata": {
        "colab": {
          "base_uri": "https://localhost:8080/",
          "height": 35
        },
        "id": "56F3PvwuZmm7",
        "outputId": "b4a7c13f-f04a-49fe-91ee-86f9a34a8b47"
      },
      "execution_count": 9,
      "outputs": [
        {
          "output_type": "execute_result",
          "data": {
            "text/plain": [
              "'zyxwvutsrqponmlkjihgfedcba'"
            ],
            "application/vnd.google.colaboratory.intrinsic+json": {
              "type": "string"
            }
          },
          "metadata": {},
          "execution_count": 9
        }
      ]
    },
    {
      "cell_type": "code",
      "source": [
        "# 2.3.8 문자열 길이: len()\n",
        "# len()함수는 문자열의 길이를 센다.\n",
        "len(letters)"
      ],
      "metadata": {
        "colab": {
          "base_uri": "https://localhost:8080/"
        },
        "id": "kOyX4tRHZmpT",
        "outputId": "abf5bdef-ada3-4b43-e852-792eb9ae0cf8"
      },
      "execution_count": 10,
      "outputs": [
        {
          "output_type": "execute_result",
          "data": {
            "text/plain": [
              "26"
            ]
          },
          "metadata": {},
          "execution_count": 10
        }
      ]
    },
    {
      "cell_type": "code",
      "source": [
        "# 2.3.9 문자열 나누기: split()\n",
        "# 문자열 이름을 입럭하고 \".\"를 입력한 후 함수(function)이름을 입력한다. 그리고 함수에 필요한 인자(argument)도 입력한다.\n",
        "\n",
        "# 어떤 구분자를 기준으로 하나의 문자열을 작은 문자열들의 리스트로 나누기 위해서는 문자열 내장 함수 split()을 사용한다.\n",
        "todos='get gloves, get mask, givee cat vitamins, call ambulance'\n",
        "todos.split('.') # todos 문자열과 단일 구분자의 인자로 \",\"와 함께 split()함수를 사용했다.\n",
        "# 만약 구분자를 지정하지 않으면 split()는 문자열에 등장하는 공백문자를 사용한다."
      ],
      "metadata": {
        "id": "BScYsOVVkCUy"
      },
      "execution_count": null,
      "outputs": []
    },
    {
      "cell_type": "code",
      "source": [
        "# 2.3.10 문자열로 결합하기: join()\n",
        "# join()함수는 split()함수와 반대다. join()함수는 문자열 리스트를 하나의 문자열로 결합한다.\n",
        "crypto_list=['yeti','bigfoot','noch ness monster']\n",
        "crypto_string=','.join(crypto_list)\n",
        "# 먼저 결합할 문자열을 지정한 다음에 문자열 리스트를 결합한다.\n",
        "print('crypto_string 값:',crypto_string)"
      ],
      "metadata": {
        "colab": {
          "base_uri": "https://localhost:8080/"
        },
        "id": "IWkgC92JkCXa",
        "outputId": "8610f742-50e6-47cb-a52e-45a0e213a898"
      },
      "execution_count": 13,
      "outputs": [
        {
          "output_type": "stream",
          "name": "stdout",
          "text": [
            "crypto_string 값: yeti,bigfoot,noch ness monster\n"
          ]
        }
      ]
    },
    {
      "cell_type": "code",
      "source": [
        "# 2.3.11 문자열 다루기\n",
        "poem='''All that doth flow we cannot liquid name\n",
        "or else would fire and water be the same;\n",
        "but that is liquid which is moist and wet\n",
        "fire that property can never get.\n",
        "Then \\'tis not cold that doth the fiur put out\n",
        "but \\'tis the wet that makes it die, no doubt.'''\n",
        "\n",
        "poem.startswith('All') # All로 시작하는가?"
      ],
      "metadata": {
        "colab": {
          "base_uri": "https://localhost:8080/"
        },
        "id": "eQFr-NeOkCZ6",
        "outputId": "67d31135-1c67-45c4-b6f3-0fd26a8c0097"
      },
      "execution_count": 25,
      "outputs": [
        {
          "output_type": "execute_result",
          "data": {
            "text/plain": [
              "True"
            ]
          },
          "metadata": {},
          "execution_count": 25
        }
      ]
    },
    {
      "cell_type": "code",
      "source": [
        "word='the'\n",
        "poem.find(word) # 1번째로 the가 나오는 오프셋은?"
      ],
      "metadata": {
        "colab": {
          "base_uri": "https://localhost:8080/"
        },
        "id": "SMw3tnStoDn0",
        "outputId": "f4748dcf-0365-4119-cf85-8ea2d34b1000"
      },
      "execution_count": 26,
      "outputs": [
        {
          "output_type": "execute_result",
          "data": {
            "text/plain": [
              "73"
            ]
          },
          "metadata": {},
          "execution_count": 26
        }
      ]
    },
    {
      "cell_type": "code",
      "source": [
        "poem.rfind(word) # 마지막으로 the가 나오는 오프셋은?"
      ],
      "metadata": {
        "colab": {
          "base_uri": "https://localhost:8080/"
        },
        "id": "NMsoYR-6kCcS",
        "outputId": "458d6bd3-276b-4caa-ddf7-3401dab43b9a"
      },
      "execution_count": 27,
      "outputs": [
        {
          "output_type": "execute_result",
          "data": {
            "text/plain": [
              "214"
            ]
          },
          "metadata": {},
          "execution_count": 27
        }
      ]
    },
    {
      "cell_type": "code",
      "source": [
        "poem.count(word) # the가 몇 번 나오는가?"
      ],
      "metadata": {
        "colab": {
          "base_uri": "https://localhost:8080/"
        },
        "id": "QZjQKyY0kCe6",
        "outputId": "7c41abc2-d883-4d44-be20-31f5ac0b6016"
      },
      "execution_count": 28,
      "outputs": [
        {
          "output_type": "execute_result",
          "data": {
            "text/plain": [
              "3"
            ]
          },
          "metadata": {},
          "execution_count": 28
        }
      ]
    },
    {
      "cell_type": "code",
      "source": [
        "poem.isalnum() # 글자와 숫자로만 이루어져 있는가?"
      ],
      "metadata": {
        "colab": {
          "base_uri": "https://localhost:8080/"
        },
        "id": "xjVzru5IkChi",
        "outputId": "b96146fb-e7f7-469b-a9bc-3c1815404596"
      },
      "execution_count": 29,
      "outputs": [
        {
          "output_type": "execute_result",
          "data": {
            "text/plain": [
              "False"
            ]
          },
          "metadata": {},
          "execution_count": 29
        }
      ]
    },
    {
      "cell_type": "code",
      "source": [
        "# 2.3.12 대소문자와 배치\n",
        "setup='a duck goes into a bar...'\n",
        "setup.strip('.') # 양끝에서 . 시퀀스를 삭제한다."
      ],
      "metadata": {
        "colab": {
          "base_uri": "https://localhost:8080/",
          "height": 35
        },
        "id": "MLNhtG57kCkL",
        "outputId": "263fcc20-50cf-4be8-a13c-835048c417fc"
      },
      "execution_count": 30,
      "outputs": [
        {
          "output_type": "execute_result",
          "data": {
            "text/plain": [
              "'a duck goes into a bar'"
            ],
            "application/vnd.google.colaboratory.intrinsic+json": {
              "type": "string"
            }
          },
          "metadata": {},
          "execution_count": 30
        }
      ]
    },
    {
      "cell_type": "code",
      "source": [
        "setup.capitalize() # 첫번째 단어를 대문자로 만들어보자."
      ],
      "metadata": {
        "colab": {
          "base_uri": "https://localhost:8080/",
          "height": 35
        },
        "id": "PIyq8OBSZmsD",
        "outputId": "4969c46f-450d-4151-f8b3-1d5b43fff967"
      },
      "execution_count": 31,
      "outputs": [
        {
          "output_type": "execute_result",
          "data": {
            "text/plain": [
              "'A duck goes into a bar...'"
            ],
            "application/vnd.google.colaboratory.intrinsic+json": {
              "type": "string"
            }
          },
          "metadata": {},
          "execution_count": 31
        }
      ]
    },
    {
      "cell_type": "code",
      "source": [
        "setup.title() # 모든 단어의 첫글자를 대문자로 만들어보자."
      ],
      "metadata": {
        "colab": {
          "base_uri": "https://localhost:8080/",
          "height": 35
        },
        "id": "mUyRhILtpp0d",
        "outputId": "42240343-f863-4e1b-9b9b-d7c957c8e972"
      },
      "execution_count": 32,
      "outputs": [
        {
          "output_type": "execute_result",
          "data": {
            "text/plain": [
              "'A Duck Goes Into A Bar...'"
            ],
            "application/vnd.google.colaboratory.intrinsic+json": {
              "type": "string"
            }
          },
          "metadata": {},
          "execution_count": 32
        }
      ]
    },
    {
      "cell_type": "code",
      "source": [
        "setup.swapcase() # 대문자는 소문자로, 소문자는 대문자로 만들어보자."
      ],
      "metadata": {
        "colab": {
          "base_uri": "https://localhost:8080/",
          "height": 35
        },
        "id": "nMrPWbT9poLv",
        "outputId": "3339f5b2-e8b0-42ed-edd3-2acb3c4ed3e3"
      },
      "execution_count": 33,
      "outputs": [
        {
          "output_type": "execute_result",
          "data": {
            "text/plain": [
              "'A DUCK GOES INTO A BAR...'"
            ],
            "application/vnd.google.colaboratory.intrinsic+json": {
              "type": "string"
            }
          },
          "metadata": {},
          "execution_count": 33
        }
      ]
    },
    {
      "cell_type": "markdown",
      "source": [
        "**문자열을 정렬하는 함수**"
      ],
      "metadata": {
        "id": "Z2q5zQWHqFjo"
      }
    },
    {
      "cell_type": "code",
      "source": [
        "setup.center(30) # 문자열을 지정한 공간에서 중앙에 배치해보자."
      ],
      "metadata": {
        "colab": {
          "base_uri": "https://localhost:8080/",
          "height": 35
        },
        "id": "g5oA9md_poPH",
        "outputId": "4ed426a2-035b-4d37-f8dc-954f554cbd90"
      },
      "execution_count": 36,
      "outputs": [
        {
          "output_type": "execute_result",
          "data": {
            "text/plain": [
              "'  a duck goes into a bar...   '"
            ],
            "application/vnd.google.colaboratory.intrinsic+json": {
              "type": "string"
            }
          },
          "metadata": {},
          "execution_count": 36
        }
      ]
    },
    {
      "cell_type": "code",
      "source": [
        "setup.ljust(30) # 왼쪽에 배치해보자."
      ],
      "metadata": {
        "colab": {
          "base_uri": "https://localhost:8080/",
          "height": 35
        },
        "id": "uLwCPz51poQ-",
        "outputId": "f371ca6c-cc19-4080-90bc-973d6e8d8d7a"
      },
      "execution_count": 37,
      "outputs": [
        {
          "output_type": "execute_result",
          "data": {
            "text/plain": [
              "'a duck goes into a bar...     '"
            ],
            "application/vnd.google.colaboratory.intrinsic+json": {
              "type": "string"
            }
          },
          "metadata": {},
          "execution_count": 37
        }
      ]
    },
    {
      "cell_type": "code",
      "source": [
        "# 2.3.13 대체하기: replace()\n",
        "# 문자열의 일부를 대체하기 위해서는 replace()를 사용한다.\n",
        "setup.replace('duck','marmoset')"
      ],
      "metadata": {
        "colab": {
          "base_uri": "https://localhost:8080/",
          "height": 35
        },
        "id": "sautXhvApoTo",
        "outputId": "c2a64910-4fd5-47ef-e4b5-9ee11b478b33"
      },
      "execution_count": 38,
      "outputs": [
        {
          "output_type": "execute_result",
          "data": {
            "text/plain": [
              "'a marmoset goes into a bar...'"
            ],
            "application/vnd.google.colaboratory.intrinsic+json": {
              "type": "string"
            }
          },
          "metadata": {},
          "execution_count": 38
        }
      ]
    },
    {
      "cell_type": "code",
      "source": [
        "# 대체하고 싶은 정확한 문자열을 안다면 replace()함수가 적합하다."
      ],
      "metadata": {
        "id": "AabOZR8YpoWx"
      },
      "execution_count": null,
      "outputs": []
    },
    {
      "cell_type": "code",
      "source": [
        "# 2.3.14 문자열 함수\n",
        "# 우리가 여기에서 본 문자열 함수보다 더 많은 문자열 함수가 있다. 그중 일부는 뒤에서 보게 될 것이다."
      ],
      "metadata": {
        "id": "Rh3NW9mTpoY-"
      },
      "execution_count": null,
      "outputs": []
    }
  ]
}
