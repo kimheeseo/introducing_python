{
  "nbformat": 4,
  "nbformat_minor": 0,
  "metadata": {
    "colab": {
      "provenance": [],
      "authorship_tag": "ABX9TyPU4M8/LpUffY4ndnWAd02K",
      "include_colab_link": true
    },
    "kernelspec": {
      "name": "python3",
      "display_name": "Python 3"
    },
    "language_info": {
      "name": "python"
    }
  },
  "cells": [
    {
      "cell_type": "markdown",
      "metadata": {
        "id": "view-in-github",
        "colab_type": "text"
      },
      "source": [
        "<a href=\"https://colab.research.google.com/github/kimheeseo/python/blob/main/71_80.ipynb\" target=\"_parent\"><img src=\"https://colab.research.google.com/assets/colab-badge.svg\" alt=\"Open In Colab\"/></a>"
      ]
    },
    {
      "cell_type": "code",
      "execution_count": 17,
      "metadata": {
        "colab": {
          "base_uri": "https://localhost:8080/"
        },
        "id": "Am0ReHAij8ps",
        "outputId": "9fe53c69-a099-46d3-de55-16ddbf1c98ff"
      },
      "outputs": [
        {
          "output_type": "stream",
          "name": "stdout",
          "text": [
            "[119, 11113, 11119]\n"
          ]
        }
      ],
      "source": [
        "# 중급 71. 정수 리스트에서 소수만 걸러내기(filter)\n",
        "def getPrime(x):\n",
        "  if x % 2 == 0:\n",
        "    return\n",
        "  for i in range(3,int(x/2),2):\n",
        "    if x % i == 0:\n",
        "      break\n",
        "    else:\n",
        "      return x\n",
        "\n",
        "listdata=[117, 119, 1113, 11113, 11119]\n",
        "ret=filter(getPrime, listdata)\n",
        "print(list(ret))"
      ]
    },
    {
      "cell_type": "code",
      "source": [
        "# 파이썬 내장함수 filter()는 리스트와 같이 반복 가능한 자료에서 특정 조건을 만족하는 값만 편리하게 추출할 수 있는 방법을 제공합니다.\n",
        "# filter()의 1번째 인자: 특정 조건의 값을 추출하는 함수\n",
        "# filter()의 2번째 인자: 반복 가능한 자료\n",
        "# filter()의 리턴값은 결과가 담긴 filter 객체"
      ],
      "metadata": {
        "id": "657WqRAYs3Ga"
      },
      "execution_count": null,
      "outputs": []
    },
    {
      "cell_type": "code",
      "source": [
        "# getPrime() 함수: 인자로 입력된 x의 값이 소수인지 체크하고 소수일 경우에만 값을 리턴합니다.\n",
        "# 소수를 판단하는 로직은 입력된 수가 홀수인 경우, 3부터 시작하여 입력된 수의 반값까지 한 개라도 나누어 떨어지는 수가 있는 지 체크하는 것입니다."
      ],
      "metadata": {
        "id": "8U5KvxW4s3I5"
      },
      "execution_count": null,
      "outputs": []
    },
    {
      "cell_type": "code",
      "source": [
        "x=117\n",
        "for i in range(3, int(x/2),2):\n",
        "  print('%d'%i)"
      ],
      "metadata": {
        "colab": {
          "base_uri": "https://localhost:8080/"
        },
        "id": "1r1uXJJps3Lb",
        "outputId": "d882a2c9-b34a-468c-b631-bc5b2f81dcbf"
      },
      "execution_count": 20,
      "outputs": [
        {
          "output_type": "stream",
          "name": "stdout",
          "text": [
            "3\n",
            "5\n",
            "7\n",
            "9\n",
            "11\n",
            "13\n",
            "15\n",
            "17\n",
            "19\n",
            "21\n",
            "23\n",
            "25\n",
            "27\n",
            "29\n",
            "31\n",
            "33\n",
            "35\n",
            "37\n",
            "39\n",
            "41\n",
            "43\n",
            "45\n",
            "47\n",
            "49\n",
            "51\n",
            "53\n",
            "55\n",
            "57\n"
          ]
        }
      ]
    },
    {
      "cell_type": "code",
      "source": [
        "# 중급 72. 최대값, 최소값 구하기\n",
        "listdata=[9.96, 1.27, 5.07, 6.45, 8.38, 9.29, 4.93, 7.73, 3.71, 0.93]\n",
        "maxval=max(listdata)\n",
        "minval=min(listdata)\n",
        "print('maxval값:',maxval)\n",
        "print('minval값:',minval)\n",
        "\n",
        "txt='Alotofthingsoccureachday'\n",
        "maxval=max(txt)\n",
        "minval=min(txt)\n",
        "print('maxval값:',maxval)\n",
        "print('minval값:',minval)\n",
        "\n",
        "# max(), min(): 인자로 입력된 자료에서 최대, 최소값을 구해주는 함수."
      ],
      "metadata": {
        "colab": {
          "base_uri": "https://localhost:8080/"
        },
        "id": "lKHCuXm5s3OB",
        "outputId": "8fa54fd1-c8d8-4706-8762-6a131e8c7cfa"
      },
      "execution_count": 12,
      "outputs": [
        {
          "output_type": "stream",
          "name": "stdout",
          "text": [
            "maxval값: 9.96\n",
            "minval값: 0.93\n",
            "maxval값: y\n",
            "minval값: A\n"
          ]
        }
      ]
    },
    {
      "cell_type": "code",
      "source": [
        "# 중급 73. 1바이트에서 하위 4비트 추출하기\n",
        "a=107\n",
        "b=a&0x0f\n",
        "# a: 0110 1011\n",
        "# 0x0f: 0000 1111\n",
        "# a & 0x0f: 0000 1011\n",
        "# 하위 4비트값만 추출하려면 이 값을 0x0f와 비트단위 AND 연산을 수행하면 됩니다.\n",
        "\n",
        "print('b값:',b)\n",
        "# 컴퓨터는 모든 데이터와 연산을 내부적으로 비트로 표현되는 데이터로 처리합니다.\n",
        "# 비트는 0과 1로 표현되는 2진수로 나타낼 수 있으며, 8비트를 1바이트로 부릅니다. (1바이트 = 8비트)\n",
        "# 1바이트 = 일반적으로 컴퓨터가 처리하는 데이터의 최소 단위."
      ],
      "metadata": {
        "colab": {
          "base_uri": "https://localhost:8080/"
        },
        "id": "UnwmyRjds3Qr",
        "outputId": "646b2a48-4843-4fbe-a518-e9901b6857bc"
      },
      "execution_count": 10,
      "outputs": [
        {
          "output_type": "stream",
          "name": "stdout",
          "text": [
            "b값: 11\n"
          ]
        }
      ]
    },
    {
      "cell_type": "code",
      "source": [
        "# 중급 74. 1바이트에서 상위 4비트 추출하기\n",
        "a=107\n",
        "b=(a>>4) & 0x0f\n",
        "print('b값',b)\n",
        "\n",
        "print('a>>4값',a>>4)\n",
        "# a; 0110 1011 -> a>>4: 0000 0110\n",
        "# 1바이트에서 상위 4비트를 추출하려면 모든 비트를 오른쪽으로 시프트하는 연산자인 >>를 이용해 오른쪽 4만큼 시프트하고, 하위 4비트를 추출하는 방법을 적용합니다."
      ],
      "metadata": {
        "colab": {
          "base_uri": "https://localhost:8080/"
        },
        "id": "PbAyvDMFs3TR",
        "outputId": "5ae01141-865e-410e-9b77-c77006c1a5e2"
      },
      "execution_count": 9,
      "outputs": [
        {
          "output_type": "stream",
          "name": "stdout",
          "text": [
            "b값 6\n",
            "a>>4값 6\n"
          ]
        }
      ]
    },
    {
      "cell_type": "code",
      "source": [
        "# 중급 75. 문자열에서 특정 위치의 문자 얻기\n",
        "txt1='A tale that was not right'\n",
        "txt2='이 또한 지나가리라.'\n",
        "\n",
        "print('txt1[5]값:',txt1[5])\n",
        "print('txt2[-2]값:',txt2[-2])\n",
        "\n",
        "# 문자열에서 특정 위치의 문자를 얻는 방법은 인덱싱을 이용하는 것입니다."
      ],
      "metadata": {
        "colab": {
          "base_uri": "https://localhost:8080/"
        },
        "id": "qLBfma0js3V5",
        "outputId": "6a27e91a-0b0e-4810-81e6-e24c4c970b96"
      },
      "execution_count": 8,
      "outputs": [
        {
          "output_type": "stream",
          "name": "stdout",
          "text": [
            "txt1[5]값: e\n",
            "txt2[-2]값: 라\n"
          ]
        }
      ]
    },
    {
      "cell_type": "code",
      "source": [
        "# 중급 76. 문자열에서 지정한 구간의 문자열 얻기\n",
        "txt1='A tale that was not right'\n",
        "txt2='이 또한 지나가리라.'\n",
        "\n",
        "print('txt1[3:7]값:',txt1[3:7])"
      ],
      "metadata": {
        "colab": {
          "base_uri": "https://localhost:8080/"
        },
        "id": "N8QZkqBTs3YZ",
        "outputId": "7620f521-4f5d-49c5-dca4-223b5fb0a8b5"
      },
      "execution_count": 7,
      "outputs": [
        {
          "output_type": "stream",
          "name": "stdout",
          "text": [
            "txt1[3:7]값: ale \n"
          ]
        }
      ]
    },
    {
      "cell_type": "code",
      "source": [
        "# 중급 77. 문자열에서 홀수 번째 문자만 추출하기\n",
        "txt='aAbBcCdDeFfFgGhHiIjJkK'\n",
        "ret=txt[::2]\n",
        "print('ret값:',ret)\n",
        "\n",
        "# 주어진 문자열에서 홀수 번째 문자만 추출하는 방법은 슬라이싱의 스텝을 이용하면 간단합니다."
      ],
      "metadata": {
        "colab": {
          "base_uri": "https://localhost:8080/"
        },
        "id": "-zoYpr1ws3bB",
        "outputId": "dd6953dc-1d38-40a8-829c-f2d3b5bc2420"
      },
      "execution_count": 6,
      "outputs": [
        {
          "output_type": "stream",
          "name": "stdout",
          "text": [
            "ret값: abcdefghijk\n"
          ]
        }
      ]
    },
    {
      "cell_type": "code",
      "source": [
        "# 중급 78, 문자열을 거꾸로 만들기\n",
        "txt='abcdefghijk'\n",
        "ret=txt[::-1]\n",
        "print('ret값:',ret)\n",
        "\n",
        "# 슬라이싱을 이용하면 매우 간단하게 거꾸로 된 문자열을 얻을 수 있습니다.\n",
        "# 문자열 txt의 처음부터 끝까지 스텝 -1로 슬라이싱합니다.\n",
        "\n",
        "ret1=txt[::-2]\n",
        "print('ret1값:',ret1)"
      ],
      "metadata": {
        "colab": {
          "base_uri": "https://localhost:8080/"
        },
        "id": "pZSvN__ms3di",
        "outputId": "514f119e-1ce8-400e-ae37-b781a317f7e3"
      },
      "execution_count": 5,
      "outputs": [
        {
          "output_type": "stream",
          "name": "stdout",
          "text": [
            "ret값: kjihgfedcba\n",
            "ret1값: kigeca\n"
          ]
        }
      ]
    },
    {
      "cell_type": "code",
      "source": [
        "# 중급 79. 두 개의 문자열 합치기(+)\n",
        "filename=input('저장할 파일이름을 입력하세요.')\n",
        "filename=filename+'.jpg'\n",
        "display_msg='당신이 저장한 파일은 <'+filename+'>입니다.'\n",
        "print(display_msg)\n",
        "\n",
        "# 두 개의 문자열을 합치는 방법은 매우 간단합니다.\n",
        "# 문자열1 + 문자열2와 같이 + 연산자를 이용하면 됩니다."
      ],
      "metadata": {
        "colab": {
          "base_uri": "https://localhost:8080/"
        },
        "id": "Vi7Pn4X-s3ga",
        "outputId": "fe815ced-74d4-44d9-a3db-959a20d740b6"
      },
      "execution_count": 3,
      "outputs": [
        {
          "output_type": "stream",
          "name": "stdout",
          "text": [
            "저장할 파일이름을 입력하세요.file\n",
            "당신이 저장한 파일은 <file.jpg>입니다.\n"
          ]
        }
      ]
    },
    {
      "cell_type": "code",
      "source": [
        "# 중급 80. 문자열을 반복해서 새로운 문자열로 만들기(*)\n",
        "msg1='여러분'\n",
        "msg2='파이팅!'\n",
        "display_msg=msg1+','+msg2*3+'~!'\n",
        "print(display_msg)\n",
        "\n",
        "# 주어진 문자열을 반복하고자 할 때 * 연산자를 이용합니다."
      ],
      "metadata": {
        "colab": {
          "base_uri": "https://localhost:8080/"
        },
        "id": "LHZT1_z1s3i5",
        "outputId": "b441f326-2e0f-4907-d8ff-a94a793a6b7a"
      },
      "execution_count": 1,
      "outputs": [
        {
          "output_type": "stream",
          "name": "stdout",
          "text": [
            "여러분,파이팅!파이팅!파이팅!~!\n"
          ]
        }
      ]
    }
  ]
}