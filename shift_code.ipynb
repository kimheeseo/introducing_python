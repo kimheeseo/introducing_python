{
  "nbformat": 4,
  "nbformat_minor": 0,
  "metadata": {
    "colab": {
      "provenance": [],
      "authorship_tag": "ABX9TyPkakom+tTo8YId0XMja7he",
      "include_colab_link": true
    },
    "kernelspec": {
      "name": "python3",
      "display_name": "Python 3"
    },
    "language_info": {
      "name": "python"
    }
  },
  "cells": [
    {
      "cell_type": "markdown",
      "metadata": {
        "id": "view-in-github",
        "colab_type": "text"
      },
      "source": [
        "<a href=\"https://colab.research.google.com/github/kimheeseo/python/blob/main/shift_code.ipynb\" target=\"_parent\"><img src=\"https://colab.research.google.com/assets/colab-badge.svg\" alt=\"Open In Colab\"/></a>"
      ]
    },
    {
      "cell_type": "markdown",
      "source": [
        "**시프트 코드(shift code)**"
      ],
      "metadata": {
        "id": "Ih__sgHJAf9s"
      }
    },
    {
      "cell_type": "code",
      "execution_count": null,
      "metadata": {
        "id": "pdU_BhveAPV7"
      },
      "outputs": [],
      "source": [
        "# 시프트 코드: 메시지를 쉽게 인코딩할 수 있게 하는 것.\n",
        "# 메시지의 각 문자는 정해진 만큼 알파벳을 이동하여 새로운 문자를 나타낸다.\n",
        "# 예) 시프트 코드가 1만큼 이동하게 한다면, 'abc'는 'bcd'가 된다.\n",
        "\n",
        "# 만약 시프트로 인해 문자가 알파벳의 끝을 넘어가게 된다면 처음으로 다시 돌아가야 한다.\n",
        "# 즉, 사용자가 'xyz'를 입력하고 시프트 숫자로 5를 입력했다면, 이것은 'bcd'를 출력해야 한다.\n",
        "# 메시지를 디코딩하는 방법도 마찬가지로 'a'라는 문자는 'w'가 되어야 한다."
      ]
    },
    {
      "cell_type": "code",
      "source": [
        "alphabet=[\"a\",\"b\",\"c\",\"d\",\"e\",\"f\",\"g,\",\"h\",\"i\",\"j\",\\\n",
        "          \"k\",\"l\",\"m\",\"n\",\"o\",\"p\",\"q\",\"r\",\"s\",\"t\",\\\n",
        "          \"u\",\"v\",\"w\",\"x\",\"y\",\"z\",\" \"]"
      ],
      "metadata": {
        "id": "AJwU4fULAfmT"
      },
      "execution_count": 12,
      "outputs": []
    },
    {
      "cell_type": "code",
      "source": [
        "def get_data():\n",
        "  word=input(\"enter your message:\")\n",
        "  word=word.lower()\n",
        "  num=int(input(\"enter a number(1~26):\"))\n",
        "  if num>26 or num ==0:\n",
        "    while num>26 or num ==0:\n",
        "      num=int(input(\"out of range, please enter a number (1~26):\"))\n",
        "  data=(word, num)\n",
        "  return(data)"
      ],
      "metadata": {
        "id": "1MZwTunYAfoi"
      },
      "execution_count": 13,
      "outputs": []
    },
    {
      "cell_type": "code",
      "source": [
        "alphabet.index(\"c\")"
      ],
      "metadata": {
        "colab": {
          "base_uri": "https://localhost:8080/"
        },
        "id": "AagfHPhsCTdE",
        "outputId": "39fdb123-1a58-4933-e769-93eadd0cc2b0"
      },
      "execution_count": 14,
      "outputs": [
        {
          "output_type": "execute_result",
          "data": {
            "text/plain": [
              "2"
            ]
          },
          "metadata": {},
          "execution_count": 14
        }
      ]
    },
    {
      "cell_type": "code",
      "source": [
        "def make_code(word, num):\n",
        "  new_word=\"\"\n",
        "  for x in word:\n",
        "    y=alphabet.index(x)\n",
        "    y=y+num\n",
        "    if  y>26:\n",
        "      y=y-27\n",
        "    char=alphabet[y]\n",
        "    new_word=new_word+char\n",
        "  print(new_word)\n",
        "  print()"
      ],
      "metadata": {
        "id": "y2BjtHeSAfrR"
      },
      "execution_count": 6,
      "outputs": []
    },
    {
      "cell_type": "code",
      "source": [
        "def decode(word, num):\n",
        "  new_word=\"\"\n",
        "  for x in word:\n",
        "    y=alphabet.index(x)\n",
        "    y=y-num\n",
        "    if y<0:\n",
        "      y=y+27\n",
        "    char=alphabet[y]\n",
        "    new_word=new_word+char\n",
        "  print(new_word)\n",
        "  print()"
      ],
      "metadata": {
        "id": "KIA5v30qCLVG"
      },
      "execution_count": 8,
      "outputs": []
    },
    {
      "cell_type": "code",
      "source": [
        "def main():\n",
        "  again=True\n",
        "  while again==True:\n",
        "    print(\"1) make a code\")\n",
        "    print(\"2) decode a message\")\n",
        "    print(\"3) quit\")\n",
        "    print()\n",
        "\n",
        "    selection=int(input(\"enter your selection:\"))\n",
        "    if selection ==1:\n",
        "      (word,num)=get_data()\n",
        "      make_code(word, num)\n",
        "    elif selection ==2:\n",
        "      (word, num)=get_data()\n",
        "      decode(word, num)\n",
        "    elif selection ==3:\n",
        "      again=False\n",
        "    else:\n",
        "      print(\"incorrect selection\")"
      ],
      "metadata": {
        "id": "ZG4fgt-CCLXR"
      },
      "execution_count": 9,
      "outputs": []
    },
    {
      "cell_type": "code",
      "source": [
        "main()\n",
        "# h + 2 = j, a + 2 = c, r + 2 = t, y + 2 = \" \""
      ],
      "metadata": {
        "colab": {
          "base_uri": "https://localhost:8080/"
        },
        "id": "nusmRSs3CLZa",
        "outputId": "57b878c0-a831-49d2-c369-2c3ecf86dcb6"
      },
      "execution_count": 10,
      "outputs": [
        {
          "name": "stdout",
          "output_type": "stream",
          "text": [
            "1) make a code\n",
            "2) decode a message\n",
            "3) quit\n",
            "\n",
            "enter your selection:1\n",
            "enter your message:harry\n",
            "enter a number(1~26):2\n",
            "jctt \n",
            "\n",
            "1) make a code\n",
            "2) decode a message\n",
            "3) quit\n",
            "\n",
            "enter your selection:3\n"
          ]
        }
      ]
    },
    {
      "cell_type": "code",
      "source": [
        "main()\n",
        "\n",
        "# h - 3 = e, a - 3 = y, r - 3 =o, y - 3 =v"
      ],
      "metadata": {
        "colab": {
          "base_uri": "https://localhost:8080/"
        },
        "id": "GXYyOFJBAftX",
        "outputId": "c99e2f59-f49b-4090-c2d2-bacfecaa8db3"
      },
      "execution_count": 15,
      "outputs": [
        {
          "name": "stdout",
          "output_type": "stream",
          "text": [
            "1) make a code\n",
            "2) decode a message\n",
            "3) quit\n",
            "\n",
            "enter your selection:2\n",
            "enter your message:harry\n",
            "enter a number(1~26):3\n",
            "eyoov\n",
            "\n",
            "1) make a code\n",
            "2) decode a message\n",
            "3) quit\n",
            "\n",
            "enter your selection:3\n"
          ]
        }
      ]
    },
    {
      "cell_type": "code",
      "source": [
        "main()"
      ],
      "metadata": {
        "colab": {
          "base_uri": "https://localhost:8080/"
        },
        "id": "UFJr_mFUAfvO",
        "outputId": "b19f3a61-0f44-4686-ccfb-eb4fcf6b1884"
      },
      "execution_count": 16,
      "outputs": [
        {
          "name": "stdout",
          "output_type": "stream",
          "text": [
            "1) make a code\n",
            "2) decode a message\n",
            "3) quit\n",
            "\n",
            "enter your selection:3\n"
          ]
        }
      ]
    }
  ]
}