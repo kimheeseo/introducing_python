{
  "nbformat": 4,
  "nbformat_minor": 0,
  "metadata": {
    "colab": {
      "provenance": [],
      "authorship_tag": "ABX9TyNy7TMs64HYiZ+SOki17B1R",
      "include_colab_link": true
    },
    "kernelspec": {
      "name": "python3",
      "display_name": "Python 3"
    },
    "language_info": {
      "name": "python"
    }
  },
  "cells": [
    {
      "cell_type": "markdown",
      "metadata": {
        "id": "view-in-github",
        "colab_type": "text"
      },
      "source": [
        "<a href=\"https://colab.research.google.com/github/kimheeseo/python/blob/main/91_100.ipynb\" target=\"_parent\"><img src=\"https://colab.research.google.com/assets/colab-badge.svg\" alt=\"Open In Colab\"/></a>"
      ]
    },
    {
      "cell_type": "code",
      "execution_count": 2,
      "metadata": {
        "colab": {
          "base_uri": "https://localhost:8080/"
        },
        "id": "1CTZxAelCHOS",
        "outputId": "1078a394-2e3d-412b-8ff3-dd6a295639a9"
      },
      "outputs": [
        {
          "output_type": "stream",
          "name": "stdout",
          "text": [
            "word_count1 count 값: 3\n",
            "word_count2 count 값: 2\n"
          ]
        }
      ],
      "source": [
        "# 중급 91. 문자열에 있는 문자열 개수 구하기(count)\n",
        "txt='A lot of things occur each day, every day.'\n",
        "word_count1=txt.count('o')\n",
        "word_count2=txt.count('day')\n",
        "\n",
        "print('word_count1 count 값:',word_count1)\n",
        "print('word_count2 count 값:',word_count2)\n",
        "# 문자열 객체의 count() 메소드: 문자열에서 특정 문자의 개수를 리턴합니다."
      ]
    },
    {
      "cell_type": "code",
      "source": [
        "# 중급 92. 문자열에서 특정 문자 위치 찾기(find)\n",
        "txt='A lot of things occur each day, every day.'\n",
        "offset1=txt.find('e')\n",
        "offset2=txt.find('day')\n",
        "\n",
        "print('offset1값:',offset1)\n",
        "print('offset2값:',offset2)\n",
        "# 문자열 객체의 find(): 문장열에서 특정 문자나 문자열이 위치하는 인덱스를 리턴합니다.\n",
        "# find()에는 찾고자 하는 문자 또는 문자만을 입력하면 해당 문자나 문자열이 최초로 나타나는 위치에 대한 인덱스를 리턴합니다.\n",
        "\n",
        "# txt.find('day',30): txt의 30번 인덱스 이후부터 'day' 문자열을 찾기 시작합니다.\n",
        "# find(): 해당 문자나 문자열을 찾을 수 없으면 -1을 리턴합니다."
      ],
      "metadata": {
        "colab": {
          "base_uri": "https://localhost:8080/"
        },
        "id": "muZZNtgzCjtX",
        "outputId": "a3a2a06b-3be9-4866-8f64-e712fa73e6e2"
      },
      "execution_count": 3,
      "outputs": [
        {
          "output_type": "stream",
          "name": "stdout",
          "text": [
            "offset1값: 22\n",
            "offset2값: 27\n"
          ]
        }
      ]
    },
    {
      "cell_type": "code",
      "source": [
        "# 중급 93. 문자열을 특정 문자로 분리하기(split)\n",
        "url='http://www.naver.com/news/today=20160831'\n",
        "log='name:홍길동 age:17 sex:남자 nation:조선'\n",
        "\n",
        "ret1=url.split('/')\n",
        "print('ret1값:',ret1)\n",
        "# url을 슬래쉬를 구분자로 문자열을 분리하고 그 결과를 화면에 출력합니다.\n",
        "\n",
        "ret2=log.split()\n",
        "print('ret2값:',ret2)\n",
        "\n",
        "for data in ret2:\n",
        "  d1, d2=data.split(':')\n",
        "  print('%s->%s' %(d1,d2))"
      ],
      "metadata": {
        "colab": {
          "base_uri": "https://localhost:8080/"
        },
        "id": "XYZfqu3eCjv2",
        "outputId": "a128b02c-b0d6-4725-f76b-1e8bbed4788f"
      },
      "execution_count": 6,
      "outputs": [
        {
          "output_type": "stream",
          "name": "stdout",
          "text": [
            "ret1값: ['http:', '', 'www.naver.com', 'news', 'today=20160831']\n",
            "ret2값: ['name:홍길동', 'age:17', 'sex:남자', 'nation:조선']\n",
            "name->홍길동\n",
            "age->17\n",
            "sex->남자\n",
            "nation->조선\n"
          ]
        }
      ]
    },
    {
      "cell_type": "code",
      "source": [
        "# 중급 94. 문자열을 특정 문자로 결합하기(join)\n",
        "loglist=['2016/08/26 10:12:11','200','ok','이 또한 지나가리라']\n",
        "bond=';'\n",
        "log=bond.join(loglist)\n",
        "print('log값:',log)\n",
        "# 문자열 객체의 join() 메소드는 split()과는 반대로 문자열이 요소인 리스트를 인자로 받아, 리스트 모든 요소를\n",
        "# 특정 문자열로 연결하여 새로운 문자열로 만들어 리턴합니다."
      ],
      "metadata": {
        "colab": {
          "base_uri": "https://localhost:8080/"
        },
        "id": "Paq1mvYYCjyW",
        "outputId": "a7b593f3-051c-4ee5-e768-3acabf37d42e"
      },
      "execution_count": 7,
      "outputs": [
        {
          "output_type": "stream",
          "name": "stdout",
          "text": [
            "log값: 2016/08/26 10:12:11;200;ok;이 또한 지나가리라\n"
          ]
        }
      ]
    },
    {
      "cell_type": "code",
      "source": [
        "# 중급 95. 문자열에서 특정 문자를 다른 문자로 바꾸기(replace)\n",
        "txt='My password is 1234'\n",
        "ret1=txt.replace('1','0')\n",
        "ret2=txt.replace('1','python')\n",
        "print('ret1값:',ret1)\n",
        "print('ret2값:',ret2)\n",
        "\n",
        "# 문자열 객체의 replace() 메소드는 문자열에서 특정 문자나 문자열을 다른 문자나 문자열로 변경합니다."
      ],
      "metadata": {
        "colab": {
          "base_uri": "https://localhost:8080/"
        },
        "id": "g5IjN3xJCj0v",
        "outputId": "7a60bf22-e696-4f8f-8497-1269751af203"
      },
      "execution_count": 8,
      "outputs": [
        {
          "output_type": "stream",
          "name": "stdout",
          "text": [
            "ret1값: My password is 0234\n",
            "ret2값: My password is python234\n"
          ]
        }
      ]
    },
    {
      "cell_type": "code",
      "source": [
        "# 중급 96. 문자열을 바이트 객체로 바꾸기(encode)\n",
        "u_txt='I love python'\n",
        "b_txt=u_txt.encode()\n",
        "# 문자열 객체의 encode() 메소드는 유니코드로 되어 있는 문자열을 인자로 지정된 인코딩 방식으로\n",
        "# 인코딩하여 바이트 객체로 변환합니다.\n",
        "\n",
        "print('u_txt값:',u_txt)\n",
        "print('b_txt값:',b_txt)\n",
        "# encode()에 인자가 없으면 다폴트로 'UTF-8'로 인코딩한 바이트 객체로 변환합니다.\n",
        "\n",
        "ret1='I'==u_txt[0]\n",
        "print('ret1값:',ret1)\n",
        "print('b_txt[0]값:',b_txt[0])\n",
        "print('b_txt[1]값:',b_txt[1])\n",
        "print('b_txt[2]값:',b_txt[2])"
      ],
      "metadata": {
        "colab": {
          "base_uri": "https://localhost:8080/"
        },
        "id": "a5d_clXvCj3O",
        "outputId": "b7ed6428-60d4-4c9a-d22e-534269114e54"
      },
      "execution_count": 16,
      "outputs": [
        {
          "output_type": "stream",
          "name": "stdout",
          "text": [
            "u_txt값: I love python\n",
            "b_txt값: b'I love python'\n",
            "ret1값: True\n",
            "b_txt[0]값: 73\n",
            "b_txt[1]값: 32\n",
            "b_txt[2]값: 108\n"
          ]
        }
      ]
    },
    {
      "cell_type": "code",
      "source": [
        "# 중급 97. 바이트 객체를 문자열로 바꾸기(decode)\n",
        "b_txt=b'A lot of things occure each day.'\n",
        "u_txt=b_txt.decode()\n",
        "print('u_txt값:',u_txt)\n",
        "print('b_txt의 type', type(b_txt))\n",
        "print('u_txt의 type', type(u_txt))\n",
        "\n",
        "# decode()를 이용해 바이트 객체를 문자열로 변환해야 합니다."
      ],
      "metadata": {
        "colab": {
          "base_uri": "https://localhost:8080/"
        },
        "id": "ZoKQBMRbCj5t",
        "outputId": "2da2e57f-ae9c-4b52-b4bf-d302c691d9d6"
      },
      "execution_count": 19,
      "outputs": [
        {
          "output_type": "stream",
          "name": "stdout",
          "text": [
            "u_txt값: A lot of things occure each day.\n",
            "b_txt의 type <class 'bytes'>\n",
            "u_txt의 type <class 'str'>\n"
          ]
        }
      ]
    },
    {
      "cell_type": "code",
      "source": [
        "# 중급 98. 문자열을 정렬하기(sorted, join)\n",
        "strdata=input('정렬할 문자열을 입력하세요:')\n",
        "ret1=sorted(strdata)\n",
        "ret2=sorted(strdata,reverse=True)\n",
        "# sorted(): 인자로 입력되는 문자열의 모든 문자를 a,b,c,... \"오름차순\"으로 정렬하고,\n",
        "# 정렬된 각 문자를 요소로 하는 리스트로 리턴합니다.\n",
        "\n",
        "print('ret1값:',ret1)\n",
        "print('ret2값:',ret2)"
      ],
      "metadata": {
        "colab": {
          "base_uri": "https://localhost:8080/"
        },
        "id": "sd067SX1Cj8O",
        "outputId": "f5c5ea26-809c-40ec-cbcd-e6bb3d3da394"
      },
      "execution_count": 20,
      "outputs": [
        {
          "output_type": "stream",
          "name": "stdout",
          "text": [
            "정렬할 문자열을 입력하세요:안녕하세요\n",
            "ret1값: ['녕', '세', '안', '요', '하']\n",
            "ret2값: ['하', '요', '안', '세', '녕']\n"
          ]
        }
      ]
    },
    {
      "cell_type": "code",
      "source": [
        "# 중급 99. 순차적인 정수 리스트 만들기(range)\n",
        "range1=range(10)\n",
        "print('type(range1)',type(range1))\n",
        "print('range1값:',list(range1))\n",
        "# range(10): 0이상 10미만까지 순차적인 정수를 구성하고 반복 가능한 자료형인 range객체를 리턴합니다.\n",
        "\n",
        "range2=range(10,20)\n",
        "print('range2값:',list(range2))\n",
        "# range()가 리턴한 range 객체의 실제값들을 출력하려면 반복 가능한 자료형을 리스트로 변환해주는\n",
        "# 파이썬 내장함수 list()을 이용합니다."
      ],
      "metadata": {
        "colab": {
          "base_uri": "https://localhost:8080/"
        },
        "id": "xUgTIXr5L02A",
        "outputId": "a2d6a742-0af0-43c1-83e6-dca7cf2edee1"
      },
      "execution_count": 23,
      "outputs": [
        {
          "output_type": "stream",
          "name": "stdout",
          "text": [
            "type(range1) <class 'range'>\n",
            "range1값: [0, 1, 2, 3, 4, 5, 6, 7, 8, 9]\n",
            "range2값: [10, 11, 12, 13, 14, 15, 16, 17, 18, 19]\n"
          ]
        }
      ]
    },
    {
      "cell_type": "code",
      "source": [
        "# 중급 100. 리스트에서 특정 위치의 요소 얻기\n",
        "listdata=[1,2,'a','b','c',[4,5,6]]\n",
        "val1=listdata[1]\n",
        "print('val1값:',val1)\n",
        "\n",
        "val2=listdata[3]\n",
        "print('val2값:',val2)\n",
        "\n",
        "val3=listdata[5]\n",
        "val4=listdata[5][1]\n",
        "print('val3값:',val3)\n",
        "print('val4값:',val4)"
      ],
      "metadata": {
        "colab": {
          "base_uri": "https://localhost:8080/"
        },
        "id": "LHDeJJr2L10g",
        "outputId": "ef0bc3e2-8ce2-4e98-b6a2-0b72ac786652"
      },
      "execution_count": 26,
      "outputs": [
        {
          "output_type": "stream",
          "name": "stdout",
          "text": [
            "val1값: 2\n",
            "val2값: b\n",
            "val3값: [4, 5, 6]\n",
            "val4값: 5\n"
          ]
        }
      ]
    }
  ]
}