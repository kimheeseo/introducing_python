{
  "nbformat": 4,
  "nbformat_minor": 0,
  "metadata": {
    "colab": {
      "provenance": [],
      "authorship_tag": "ABX9TyO27cGDRdaMyitoMWNl0B2S",
      "include_colab_link": true
    },
    "kernelspec": {
      "name": "python3",
      "display_name": "Python 3"
    },
    "language_info": {
      "name": "python"
    }
  },
  "cells": [
    {
      "cell_type": "markdown",
      "metadata": {
        "id": "view-in-github",
        "colab_type": "text"
      },
      "source": [
        "<a href=\"https://colab.research.google.com/github/kimheeseo/python/blob/main/cha3_(3_2_13~).ipynb\" target=\"_parent\"><img src=\"https://colab.research.google.com/assets/colab-badge.svg\" alt=\"Open In Colab\"/></a>"
      ]
    },
    {
      "cell_type": "code",
      "execution_count": 1,
      "metadata": {
        "colab": {
          "base_uri": "https://localhost:8080/"
        },
        "id": "hWM4r-pd8sIA",
        "outputId": "d387be80-a18c-4850-c67c-6f04d058b664"
      },
      "outputs": [
        {
          "output_type": "execute_result",
          "data": {
            "text/plain": [
              "1"
            ]
          },
          "metadata": {},
          "execution_count": 1
        }
      ],
      "source": [
        "# 3.2.13 값으로 항목 오프셋 찾기: index()\n",
        "marxes=['Groucho','Chico','Harpo','Zeppo']\n",
        "marxes.index('Chico')\n",
        "\n",
        "# 항목 값의 리스트 오프셋을 알고 싶다면 index()를 사용하면 된다."
      ]
    },
    {
      "cell_type": "code",
      "source": [
        "# 3.2.14 존재여부 확인하기: in\n",
        "# 리스트에서 어떤 값의 존재를 확인하려면 in을 사용한다.\n",
        "marxes=['Groucho','Chico','Harpo','Zeppo']\n",
        "'Groucho' in marxes"
      ],
      "metadata": {
        "colab": {
          "base_uri": "https://localhost:8080/"
        },
        "id": "nofvgA-N8657",
        "outputId": "7afb2c13-81c8-457e-f592-b2f8cfbdb6ac"
      },
      "execution_count": 2,
      "outputs": [
        {
          "output_type": "execute_result",
          "data": {
            "text/plain": [
              "True"
            ]
          },
          "metadata": {},
          "execution_count": 2
        }
      ]
    },
    {
      "cell_type": "code",
      "source": [
        "# 3.2.15 값 세기: count()\n",
        "# 리스트에 특정 값이 얼마나 있는지 세기 위해서는 count()을 사용한다.\n",
        "\n",
        "# 3.2.16 문자열로 변환하기: join()\n",
        "marxes=['Groucho','Chico','Harpo','Zeppo']\n",
        "# join()의 인자는 문자열 혹은 반복 가능한 문자열의 시퀀스(리스트 포함)다.\n",
        "# 그리고 결과로 반환되는 값은 문자열이다.\n",
        "','.join(marxes)"
      ],
      "metadata": {
        "colab": {
          "base_uri": "https://localhost:8080/",
          "height": 35
        },
        "id": "oETVaoHA868i",
        "outputId": "4c147523-9e51-41a5-c9f6-77f34f138e74"
      },
      "execution_count": 3,
      "outputs": [
        {
          "output_type": "execute_result",
          "data": {
            "text/plain": [
              "'Groucho,Chico,Harpo,Zeppo'"
            ],
            "application/vnd.google.colaboratory.intrinsic+json": {
              "type": "string"
            }
          },
          "metadata": {},
          "execution_count": 3
        }
      ]
    },
    {
      "cell_type": "code",
      "source": [
        "# 3.2.17 정렬하기: sort()\n",
        "# sort(): 리스트 자체를 내부적으로 정렬한다.\n",
        "# sorted(): 리스트의 정련된 복사본을 반환한다.\n",
        "marxes=['Groucho','Chico','Harpo','Zeppo']\n",
        "sorted_marxes=sorted(marxes)\n",
        "print('sorted)marxes값:',sorted_marxes)\n",
        "print('marxes 값:',marxes)\n",
        "\n",
        "# sorted_marxes: 복사본. 원본 리스트는 변하지 않았다.\n",
        "\n",
        "marxes.sort()\n",
        "print('sort 된 marxes값:',marxes)"
      ],
      "metadata": {
        "colab": {
          "base_uri": "https://localhost:8080/"
        },
        "id": "UE2lFahH86_D",
        "outputId": "468c31d0-fbfe-4f71-ea67-f278c4b98051"
      },
      "execution_count": 6,
      "outputs": [
        {
          "output_type": "stream",
          "name": "stdout",
          "text": [
            "sorted)marxes값: ['Chico', 'Groucho', 'Harpo', 'Zeppo']\n",
            "marxes 값: ['Groucho', 'Chico', 'Harpo', 'Zeppo']\n",
            "sort 된 marxes값: ['Chico', 'Groucho', 'Harpo', 'Zeppo']\n"
          ]
        }
      ]
    },
    {
      "cell_type": "code",
      "source": [
        "# 3.2.18 항목 개수 얻기: len()\n",
        "# len(): 리스트의 항목 수를 반환한다.\n",
        "\n",
        "# 3.2.19 할당:=, 복사: copy()\n",
        "a=[1,2,3]\n",
        "b=a\n",
        "print('a값:',a)\n",
        "print('b값:',b)\n",
        "\n",
        "a[0]='surprise'\n",
        "print('a값:',a)\n",
        "print('b값:',b)\n",
        "# b는 단지 같은 리스트 객체의 a를 참조한다.\n",
        "\n",
        "b=a.copy()\n",
        "c=list(a)\n",
        "d=a[:] # b,c,d는 a의 복사본이다.\n",
        "# 이들은 자신만의 값을 가진 새로운 객체다.\n",
        "a[0]='integer'\n",
        "print('\\n')\n",
        "print('a값:',a)\n",
        "print('b값:',b)\n",
        "print('c값:',c)\n",
        "print('d값:',d)\n",
        "# 복사본 c,b,d를 바꾸더라도 원본 a에는 아무런 영향을 주지 않는다."
      ],
      "metadata": {
        "colab": {
          "base_uri": "https://localhost:8080/"
        },
        "id": "yU-jthID87Br",
        "outputId": "49a241ba-bd62-451e-acff-aca405134eb1"
      },
      "execution_count": 10,
      "outputs": [
        {
          "output_type": "stream",
          "name": "stdout",
          "text": [
            "a값: [1, 2, 3]\n",
            "b값: [1, 2, 3]\n",
            "a값: ['surprise', 2, 3]\n",
            "b값: ['surprise', 2, 3]\n",
            "\n",
            "\n",
            "a값: ['integer', 2, 3]\n",
            "b값: ['surprise', 2, 3]\n",
            "c값: ['surprise', 2, 3]\n",
            "d값: ['surprise', 2, 3]\n"
          ]
        }
      ]
    },
    {
      "cell_type": "code",
      "source": [
        "# 3.3 튜플\n",
        "# 튜플은 임의적인 항목의 시퀀스다.\n",
        "# 리스트와는 다르게 \"튜플\"은 \"불변\"한다.\n",
        "\n",
        "# tuple(): 다른 객체를 튜플로 만들어 준다.\n",
        "# 파이썬은 튜플을 출력할 때 괄호()를 포함한다."
      ],
      "metadata": {
        "id": "7aE7WBfa87EL"
      },
      "execution_count": null,
      "outputs": []
    },
    {
      "cell_type": "code",
      "source": [
        "empty_tuple=()\n",
        "print('empty_tuple값:',empty_tuple)\n",
        "\n",
        "one_marx='Groucho',\n",
        "print('one_marx값:',one_marx)\n",
        "# 하나 이상의 요소가 있는 튜플응ㄹ 만들기 위해서는 각 요소 뒤에 콤마를 붙인다."
      ],
      "metadata": {
        "colab": {
          "base_uri": "https://localhost:8080/"
        },
        "id": "nsjZ0ZThSa81",
        "outputId": "b176deca-bac9-4863-b1f9-4ff4a6b1bc80"
      },
      "execution_count": 2,
      "outputs": [
        {
          "output_type": "stream",
          "name": "stdout",
          "text": [
            "empty_tuple값: ()\n",
            "one_marx값: ('Groucho',)\n"
          ]
        }
      ]
    },
    {
      "cell_type": "code",
      "source": [
        "marx_tuple='Groucho','Chico','Harpo'\n",
        "print('marx_tuple값:',marx_tuple)\n",
        "# 두 개 이상의 요소가 있을 경우, 마지막 요소에는 콤바를 붙이지 않는다.\n",
        "print('marx_tuple[0]값:',marx_tuple[0])"
      ],
      "metadata": {
        "colab": {
          "base_uri": "https://localhost:8080/"
        },
        "id": "QdPqChN1Sa6V",
        "outputId": "e335224a-2111-40ef-acc8-0a9cb413c3b4"
      },
      "execution_count": 7,
      "outputs": [
        {
          "output_type": "stream",
          "name": "stdout",
          "text": [
            "marx_tuple값: ('Groucho', 'Chico', 'Harpo')\n",
            "marx_tuple[0]값: Groucho\n"
          ]
        }
      ]
    },
    {
      "cell_type": "code",
      "source": [
        "marx_tuple[0]='harry'"
      ],
      "metadata": {
        "colab": {
          "base_uri": "https://localhost:8080/",
          "height": 147
        },
        "id": "Q-rBN9MhSa31",
        "outputId": "accae509-7920-45fe-ea4d-545af4741c41"
      },
      "execution_count": 8,
      "outputs": [
        {
          "output_type": "error",
          "ename": "TypeError",
          "evalue": "'tuple' object does not support item assignment",
          "traceback": [
            "\u001b[0;31m---------------------------------------------------------------------------\u001b[0m",
            "\u001b[0;31mTypeError\u001b[0m                                 Traceback (most recent call last)",
            "\u001b[0;32m<ipython-input-8-373e7a78e0d1>\u001b[0m in \u001b[0;36m<cell line: 1>\u001b[0;34m()\u001b[0m\n\u001b[0;32m----> 1\u001b[0;31m \u001b[0mmarx_tuple\u001b[0m\u001b[0;34m[\u001b[0m\u001b[0;36m0\u001b[0m\u001b[0;34m]\u001b[0m\u001b[0;34m=\u001b[0m\u001b[0;34m'harry'\u001b[0m\u001b[0;34m\u001b[0m\u001b[0;34m\u001b[0m\u001b[0m\n\u001b[0m",
            "\u001b[0;31mTypeError\u001b[0m: 'tuple' object does not support item assignment"
          ]
        }
      ]
    },
    {
      "cell_type": "code",
      "source": [
        "# tuple()은 다른 객체를 튜플로 만들어준다.\n",
        "marx_list=['Groucho','Chico','Harpo']\n",
        "print('marx_list값 & type', marx_list, type(marx_list))\n",
        "marx_list=tuple(marx_list)\n",
        "print('marx_list값 & type', marx_list, type(marx_list))"
      ],
      "metadata": {
        "colab": {
          "base_uri": "https://localhost:8080/"
        },
        "id": "nn6XI5RySa1d",
        "outputId": "e5ff15f9-eac8-44b5-fce5-01a7fe0f70a1"
      },
      "execution_count": 10,
      "outputs": [
        {
          "output_type": "stream",
          "name": "stdout",
          "text": [
            "marx_list값 & type ['Groucho', 'Chico', 'Harpo'] <class 'list'>\n",
            "marx_list값 & type ('Groucho', 'Chico', 'Harpo') <class 'tuple'>\n"
          ]
        }
      ]
    },
    {
      "cell_type": "code",
      "source": [
        "# 3.3.2 튜플과 리스트\n",
        "# 튜플은 리스트의 append(), insert() 등과 같은 함수가 없고, 함수의 수가 매우 적다.\n",
        "# 튜플을 생성한 후에는 수정할 수 없기 때문이다.\n",
        "# 튜플은 더 적은 공간을 사용한다.\n",
        "# 실수로 튜플의 항목이 손상될 염려가 없다."
      ],
      "metadata": {
        "id": "YAVFH2GrSay9"
      },
      "execution_count": null,
      "outputs": []
    },
    {
      "cell_type": "code",
      "source": [
        "# 3.4 딕셔너리\n",
        "# 딕셔너리: 값(value)에 상응하는 고유한 키(key)를 지정한다. 이 키는 대부분 문자열이지만, 불변하는 파이썬의\n",
        "# 어떤 타입이 될 수도 있다.딕셔너리는 변경 가능하므로, 키-값 요소를 추가, 삭제, 수정할 수 있다.\n",
        "\n",
        "# 3.4.1 딕셔너리 생성하기: {}\n",
        "# 딕셔너리를 생성하기 위해서는 중괄호{} 안에 콤마로 구부된 키;값 쌍을 지정하다.\n",
        "empty_dict={}\n",
        "print('빈 딕셔너리 값:', empty_dict)\n",
        "\n",
        "# 3.4.2 딕셔너리로 변환하기: dict()\n",
        "# dict()함수를 사용해서 두 값으로 이루어진 시퀀스를 딕셔너리로 변환할 수 있다.\n",
        "# 'strontium,90, carbon, 14'을 키:값으로 된 시퀀스로 변화할 수 있다.\n",
        "\n",
        "lol=[['a','b'],['c','d'],['e','f']]\n",
        "print('딕셔너리 lol값:',dict(lol))\n",
        "# 1번째 항목 - 키:key, 2번째 항목 - 값:value\n",
        "# 딕셔너리의 키 순서는 임의적이라는 것을 명심하라. 그리고 항목을 어떻게 추가하느냐에 따라 그 순서가 달라질 수 있다.\n",
        "\n",
        "tos=('ab','cd','ef')\n",
        "print('딕셔너리 tos값:',dict(tos))"
      ],
      "metadata": {
        "colab": {
          "base_uri": "https://localhost:8080/"
        },
        "id": "1pnTK_jMSawt",
        "outputId": "fa3c24b3-76bc-4f8f-cdce-e9ee1fe1640a"
      },
      "execution_count": 17,
      "outputs": [
        {
          "output_type": "stream",
          "name": "stdout",
          "text": [
            "빈 딕셔너리 값: {}\n",
            "딕셔너리 lol값: {'a': 'b', 'c': 'd', 'e': 'f'}\n",
            "딕셔너리 tos값: {'a': 'b', 'c': 'd', 'e': 'f'}\n"
          ]
        }
      ]
    },
    {
      "cell_type": "code",
      "source": [
        "# 3.4.3 항목 추가/변경하기: key\n",
        "# 딕셔너리에 항목을 추가하는 것은 간단하다. 키에 의해 참조되는 항목에 값을 할당하면 된다.\n",
        "# 키가 딕셔너리에 이미 존재하는 경우, 그 값은 새 값으로 대체된다. 키가 존재하지 않는 경우, 새 값이 키와 사전에 추가된다.\n",
        "pythons={'Chapman':'Graham',\n",
        "         'Cleese':'John',\n",
        "         'Jones':'Terry',\n",
        "         'Palin':'Michael'}\n",
        "print('딕셔너리 pythons값:',pythons)\n",
        "\n",
        "# Terry를 Gerry로 입력한 것이다.\n",
        "pythons['Jones']='Gerry'\n",
        "print('딕셔너리 pythons값:',pythons)\n",
        "\n",
        "# 딕셔너리의 키들은 반드시 유일해야 한다."
      ],
      "metadata": {
        "colab": {
          "base_uri": "https://localhost:8080/"
        },
        "id": "PA5xQiOg87G7",
        "outputId": "dd071b5e-2375-48d8-dc8d-30cfef5dd5df"
      },
      "execution_count": 22,
      "outputs": [
        {
          "output_type": "stream",
          "name": "stdout",
          "text": [
            "딕셔너리 pythons값: {'Chapman': 'Graham', 'Cleese': 'John', 'Jones': 'Terry', 'Palin': 'Michael'}\n",
            "딕셔너리 pythons값: {'Chapman': 'Graham', 'Cleese': 'John', 'Jones': 'Gerry', 'Palin': 'Michael'}\n"
          ]
        }
      ]
    },
    {
      "cell_type": "code",
      "source": [
        "# 3.4.4 딕셔너리 결합하기: update()\n",
        "# update()함수: 한 딕셔너리의 키와 값들을 복사해서 다른 딕셔너리에 붙여준다.\n",
        "pythons={'Chapman':'Graham',\n",
        "         'Cleese':'John',\n",
        "         'Jones':'Terry',\n",
        "         'Palin':'Michael'}\n",
        "print('딕셔너리 pythons값:',pythons)\n",
        "others={'Marx':'Groucho','Howard':'Moe'}\n",
        "\n",
        "pythons.update(others)\n",
        "print('추가 된 딕셔너리 pythons값:',pythons)\n",
        "# 두 번째 딕셔너리를 첫 번째 딕셔너리에 병합하려고 하는데, 두 딕셔너리에 같은 키 값이 있다면 무슨 일이 벌어질까?\n",
        "# 두 번째 딕셔너리에 있는 값이 승리한다.\n",
        "print('\\n')\n",
        "first={'a':1,'b':2}\n",
        "second={'b':'platypus'}\n",
        "print('업데이트 전 first 값:',first)\n",
        "first.update(second)\n",
        "print('업데이트 후 first 값:',first)"
      ],
      "metadata": {
        "colab": {
          "base_uri": "https://localhost:8080/"
        },
        "id": "jQCIG76287JT",
        "outputId": "26cbb0cf-a9e2-4dfe-d10b-2d2cf9faf8ae"
      },
      "execution_count": 24,
      "outputs": [
        {
          "output_type": "stream",
          "name": "stdout",
          "text": [
            "딕셔너리 pythons값: {'Chapman': 'Graham', 'Cleese': 'John', 'Jones': 'Terry', 'Palin': 'Michael'}\n",
            "추가 된 딕셔너리 pythons값: {'Chapman': 'Graham', 'Cleese': 'John', 'Jones': 'Terry', 'Palin': 'Michael', 'Marx': 'Groucho', 'Howard': 'Moe'}\n",
            "\n",
            "\n",
            "업데이트 전 first 값: {'a': 1, 'b': 2}\n",
            "업데이트 후 first 값: {'a': 1, 'b': 'platypus'}\n"
          ]
        }
      ]
    },
    {
      "cell_type": "code",
      "source": [
        "# 3.4.5 키와 del로 항목 삭제하기\n",
        "print('딕셔너리 pythons 값:',pythons)\n",
        "del pythons['Marx']\n",
        "print('Marx 삭제 후, 딕셔너리 pythons 값:',pythons)"
      ],
      "metadata": {
        "colab": {
          "base_uri": "https://localhost:8080/"
        },
        "id": "uw10KeIBZIkB",
        "outputId": "688ace64-5a6b-4102-a6ae-562ae5164e0b"
      },
      "execution_count": 25,
      "outputs": [
        {
          "output_type": "stream",
          "name": "stdout",
          "text": [
            "딕셔너리 pythons 값: {'Chapman': 'Graham', 'Cleese': 'John', 'Jones': 'Terry', 'Palin': 'Michael', 'Marx': 'Groucho', 'Howard': 'Moe'}\n",
            "Marx 삭제 후, 딕셔너리 pythons 값: {'Chapman': 'Graham', 'Cleese': 'John', 'Jones': 'Terry', 'Palin': 'Michael', 'Howard': 'Moe'}\n"
          ]
        }
      ]
    },
    {
      "cell_type": "code",
      "source": [
        "# 3.4.6 모든 항목 삭제하기: clear()\n",
        "# 딕셔너리에 있는 키와 값을 모두 삭제하기 위해서는 clear()를 사용하거나 빈 딕셔너리를 이름에 할당한다.\n",
        "print('딕셔너리 pythons 값:',pythons)\n",
        "pythons.clear()\n",
        "print('clear 후, 딕셔너리 pythons 값:',pythons)"
      ],
      "metadata": {
        "colab": {
          "base_uri": "https://localhost:8080/"
        },
        "id": "-NU6AwKWYChr",
        "outputId": "25ea5efc-3245-413d-a3d1-376d420d4db1"
      },
      "execution_count": 26,
      "outputs": [
        {
          "output_type": "stream",
          "name": "stdout",
          "text": [
            "딕셔너리 pythons 값: {'Chapman': 'Graham', 'Cleese': 'John', 'Jones': 'Terry', 'Palin': 'Michael', 'Howard': 'Moe'}\n",
            "clear 후, 딕셔너리 pythons 값: {}\n"
          ]
        }
      ]
    },
    {
      "cell_type": "code",
      "source": [
        "# 3.4.7 in으로 키 멤버십 테스트하기\n",
        "# 딕셔너리에 키가 존재하는지 알고 싶다면 in을 사용한다.\n",
        "pythons={'Chapman':'Graham',\n",
        "         'Cleese':'John',\n",
        "         'Jones':'Terry',\n",
        "         'Palin':'Michael'}\n",
        "print('딕셔너리 pythons 값:',pythons)\n",
        "'Chapman' in pythons"
      ],
      "metadata": {
        "colab": {
          "base_uri": "https://localhost:8080/"
        },
        "id": "o0CaPDsIYCkR",
        "outputId": "5a6dfc1a-10f4-4a18-c910-d4c219211522"
      },
      "execution_count": 28,
      "outputs": [
        {
          "output_type": "stream",
          "name": "stdout",
          "text": [
            "딕셔너리 pythons 값: {'Chapman': 'Graham', 'Cleese': 'John', 'Jones': 'Terry', 'Palin': 'Michael'}\n"
          ]
        },
        {
          "output_type": "execute_result",
          "data": {
            "text/plain": [
              "True"
            ]
          },
          "metadata": {},
          "execution_count": 28
        }
      ]
    },
    {
      "cell_type": "code",
      "source": [
        "# 3.4.8 항목얻기: key\n",
        "# 딕셔너리에 키를 지정하여 상응하는 값을 얻는다.\n",
        "pythons['Cleese']"
      ],
      "metadata": {
        "colab": {
          "base_uri": "https://localhost:8080/",
          "height": 35
        },
        "id": "fr9R5pjdYCnC",
        "outputId": "fd28899e-3a88-42b3-d225-2429a24e30f0"
      },
      "execution_count": 29,
      "outputs": [
        {
          "output_type": "execute_result",
          "data": {
            "text/plain": [
              "'John'"
            ],
            "application/vnd.google.colaboratory.intrinsic+json": {
              "type": "string"
            }
          },
          "metadata": {},
          "execution_count": 29
        }
      ]
    },
    {
      "cell_type": "code",
      "source": [
        "# get()함수는 딕셔너리, 키, 옵션값을 사용한다. 만약 키가 존재하면, 그 값을 얻는다.\n",
        "pythons.get('Cleese')\n",
        "\n",
        "# 만약 키가 존재하지 않으면, 옵션값을 지정해서 이를 출력할 수 있다.\n",
        "pythons.get('Marx','Not a Python')\n",
        "# 옵션값을 지정하지 않으면 None을 얻는다."
      ],
      "metadata": {
        "colab": {
          "base_uri": "https://localhost:8080/",
          "height": 35
        },
        "id": "RSnAvhupYCpD",
        "outputId": "538e18eb-c303-4a1d-b3a7-21e83e543e3c"
      },
      "execution_count": 31,
      "outputs": [
        {
          "output_type": "execute_result",
          "data": {
            "text/plain": [
              "'Not a Python'"
            ],
            "application/vnd.google.colaboratory.intrinsic+json": {
              "type": "string"
            }
          },
          "metadata": {},
          "execution_count": 31
        }
      ]
    },
    {
      "cell_type": "code",
      "source": [
        "# 3.4.9 모든 키 얻기: keys()\n",
        "# 딕셔너리의 모든 키를 가져오기 위해서는 keys()를 사용한다.\n",
        "signals={'green':'go','yellow':'go faster','red':'smile for the camera'}\n",
        "print('딕셔너리 signals값:',signals)\n",
        "print('딕셔너리 signal의 키 값:', signals.keys())"
      ],
      "metadata": {
        "colab": {
          "base_uri": "https://localhost:8080/"
        },
        "id": "OrNUSvyKbF0F",
        "outputId": "11181d8f-ebfc-4045-b755-1ce5514eb45b"
      },
      "execution_count": 32,
      "outputs": [
        {
          "output_type": "stream",
          "name": "stdout",
          "text": [
            "딕셔너리 signals값: {'green': 'go', 'yellow': 'go faster', 'red': 'smile for the camera'}\n",
            "딕셔너리 signal의 키 값: dict_keys(['green', 'yellow', 'red'])\n"
          ]
        }
      ]
    },
    {
      "cell_type": "code",
      "source": [
        "# 3.4.10 모든 값 얻기: values()\n",
        "print('딕셔너리 signals값:',signals)\n",
        "print('딕셔너리 signals value 값:',signals.values())\n",
        "\n",
        "# 3.4.11 모든 쌍의 키-값 얻기: items()\n",
        "# 딕셔너리의 모든 쌍의 키와 값을 얻기 위해서는 items()를 사용한다.\n",
        "print('\\n')\n",
        "list(signals.items()) # 각 키와 값은 ('green','go')와 같이 튜플로 반환된다."
      ],
      "metadata": {
        "colab": {
          "base_uri": "https://localhost:8080/"
        },
        "id": "_0d_CIXtbF2t",
        "outputId": "b8ecea3d-4bd4-4b70-eb16-d72faa929e04"
      },
      "execution_count": 37,
      "outputs": [
        {
          "output_type": "stream",
          "name": "stdout",
          "text": [
            "딕셔너리 signals값: {'green': 'go', 'yellow': 'go faster', 'red': 'smile for the camera'}\n",
            "딕셔너리 signals value 값: dict_values(['go', 'go faster', 'smile for the camera'])\n",
            "\n",
            "\n"
          ]
        },
        {
          "output_type": "execute_result",
          "data": {
            "text/plain": [
              "[('green', 'go'), ('yellow', 'go faster'), ('red', 'smile for the camera')]"
            ]
          },
          "metadata": {},
          "execution_count": 37
        }
      ]
    },
    {
      "cell_type": "code",
      "source": [
        "# 3.4.12 할당: =, 복사: copy()\n",
        "signals={'green':'go', 'yellow':'go faster', 'red':'smile for the camera'}\n",
        "original_signals=signals.copy()\n",
        "\n",
        "print('딕셔너리 signals 값:',signals)\n",
        "print('딕셔너리 original_signals 값:',original_signals)\n",
        "signals['blue']='confuse everyone'\n",
        "print('\\n')\n",
        "print('변경 후 딕셔너리 signals 값:',signals)\n",
        "print('변경 후 딕셔너리 original_signals 값:',original_signals)\n"
      ],
      "metadata": {
        "colab": {
          "base_uri": "https://localhost:8080/"
        },
        "id": "4Hkm7NGQbF5W",
        "outputId": "84f6aea2-42de-4a60-cd93-29de196d3852"
      },
      "execution_count": 39,
      "outputs": [
        {
          "output_type": "stream",
          "name": "stdout",
          "text": [
            "딕셔너리 signals 값: {'green': 'go', 'yellow': 'go faster', 'red': 'smile for the camera'}\n",
            "딕셔너리 original_signals 값: {'green': 'go', 'yellow': 'go faster', 'red': 'smile for the camera'}\n",
            "\n",
            "\n",
            "변경 후 딕셔너리 signals 값: {'green': 'go', 'yellow': 'go faster', 'red': 'smile for the camera', 'blue': 'confuse everyone'}\n",
            "변경 후 딕셔너리 original_signals 값: {'green': 'go', 'yellow': 'go faster', 'red': 'smile for the camera'}\n"
          ]
        }
      ]
    },
    {
      "cell_type": "code",
      "source": [
        "# 3.5 셋\n",
        "# \"셋(set)\"은 값은 버리고 \"키만\" 남은 딕셔너리와 같다. 어떤 것이 존재하는 지 여부만 판단하기 위해서는 셋을 사용한다.\n",
        "# 키에 어떤 정보를 첨부해서 그 결과를 얻고 싶으면 딕셔너리를 사용한다.\n",
        "\n",
        "# 유니온:합집합(union), 인터섹션: 교집합(intersection)\n",
        "# 널(null) 혹은 빈 셋은 항목이 하나도 없는 셋이다.\n",
        "\n",
        "# 3.5.1 셋 생성하기: set()\n",
        "empty_set=set()\n",
        "print('empty_set값:',empty_set)\n",
        "even_numbers={0,2,4,6,8}\n",
        "odd_numbers={1,3,5,7,9}"
      ],
      "metadata": {
        "colab": {
          "base_uri": "https://localhost:8080/"
        },
        "id": "WL4vovRvbF79",
        "outputId": "cc8d3d62-0032-41ed-f917-060fe7073f32"
      },
      "execution_count": 40,
      "outputs": [
        {
          "output_type": "stream",
          "name": "stdout",
          "text": [
            "empty_set값: set()\n"
          ]
        }
      ]
    },
    {
      "cell_type": "code",
      "source": [
        "# 3.5.2 데이터 타입 변환하기: set()\n",
        "set('letters')\n",
        "# 'letters'에 'e'와 't'가 두 개씩 있어도, 셋에는 이 문자들이 하나씩 포함되어 있다."
      ],
      "metadata": {
        "colab": {
          "base_uri": "https://localhost:8080/"
        },
        "id": "gXRidK7wbF-c",
        "outputId": "071497e9-b285-4095-f24d-3dc745edb624"
      },
      "execution_count": 41,
      "outputs": [
        {
          "output_type": "execute_result",
          "data": {
            "text/plain": [
              "{'e', 'l', 'r', 's', 't'}"
            ]
          },
          "metadata": {},
          "execution_count": 41
        }
      ]
    },
    {
      "cell_type": "code",
      "source": [
        "# 3.5.3 in으로 값 멤버십 테스트하기\n",
        "# 각 키는 음료의 이름이고, 값은 음료에 필요한 재료들의 셋이다.\n",
        "drinks={'martini':{'vodka','vermouth'},\n",
        "        'black russian':{'vodka','kahulua'},\n",
        "        'manhattan': {'rye','vermouth','bitters'},\n",
        "        'while russian':{'cream','kahlua','vodka'},\n",
        "        'screwdriver':{'orange juice','vodka'}}\n",
        "# 중괄호가 두 번 둘려싸여 있지만, 셋은 값들의 시퀀스일 뿐이고, 딕셔너리는 하나 이상의 키:값의 쌍으로 이루어져 있다.\n",
        "for name, contents in drinks.items():\n",
        "  if 'vodka' in contents:\n",
        "    print(name) # 보드카가 포함된 음료는 무엇인가?"
      ],
      "metadata": {
        "colab": {
          "base_uri": "https://localhost:8080/"
        },
        "id": "wMBMjNjIbGBF",
        "outputId": "0ceb4850-b1da-4b61-e678-5350fc6c7c22"
      },
      "execution_count": 46,
      "outputs": [
        {
          "output_type": "stream",
          "name": "stdout",
          "text": [
            "martini\n",
            "black russian\n",
            "while russian\n",
            "screwdriver\n"
          ]
        }
      ]
    },
    {
      "cell_type": "code",
      "source": [
        "# 3.5.4 콤비네이션과 연산자\n",
        "# 셋 인터섹션 연산자: set intersection operator인 앰퍼샌드(&)를 사용해서 우리가 원하는 음료를 찾아보자.\n",
        "for name, contents in drinks.items():\n",
        "  print('contents값', contents)\n",
        "  if contents & {'vermouth','orange juice'}:\n",
        "    print(name)"
      ],
      "metadata": {
        "colab": {
          "base_uri": "https://localhost:8080/"
        },
        "id": "QA-WxMQQhIbi",
        "outputId": "164e2ee3-76c2-45a8-d394-b16084feaae7"
      },
      "execution_count": 49,
      "outputs": [
        {
          "output_type": "stream",
          "name": "stdout",
          "text": [
            "contents값 {'vermouth', 'vodka'}\n",
            "martini\n",
            "contents값 {'kahulua', 'vodka'}\n",
            "contents값 {'vermouth', 'bitters', 'rye'}\n",
            "manhattan\n",
            "contents값 {'vodka', 'kahlua', 'cream'}\n",
            "contents값 {'vodka', 'orange juice'}\n",
            "screwdriver\n"
          ]
        }
      ]
    },
    {
      "cell_type": "code",
      "source": [
        "# 보드카는 들어 있지만, 크림이나 버몬트는 들어 있지 않는 음료를 찾는다.\n",
        "for name, contents in drinks.items():\n",
        "  if 'vodka' in contents and not contents & {'vermouth','cream'}:\n",
        "    print('name값:',name)"
      ],
      "metadata": {
        "colab": {
          "base_uri": "https://localhost:8080/"
        },
        "id": "uRTCJrPNjc1Z",
        "outputId": "47219935-ac53-4763-8382-764035cadc0d"
      },
      "execution_count": 50,
      "outputs": [
        {
          "output_type": "stream",
          "name": "stdout",
          "text": [
            "name값: black russian\n",
            "name값: screwdriver\n"
          ]
        }
      ]
    },
    {
      "cell_type": "code",
      "source": [
        "# & : 인터섹션(intersection, 교집합 = 양쪽 셋에 모두 들어 있는 멤버)\n",
        "a={1,2}\n",
        "b={2,3}\n",
        "print('a&b값:',a&b)\n",
        "print('a.intersection(b)값:',a.intersection(b))"
      ],
      "metadata": {
        "colab": {
          "base_uri": "https://localhost:8080/"
        },
        "id": "rF-wCmXcjcCE",
        "outputId": "431478ae-5dcf-4fd1-90cc-5940ee464cc6"
      },
      "execution_count": 51,
      "outputs": [
        {
          "output_type": "stream",
          "name": "stdout",
          "text": [
            "a&b값: {2}\n",
            "a.intersection(b)값: {2}\n"
          ]
        }
      ]
    },
    {
      "cell_type": "code",
      "source": [
        "# union(): 합집합 = 각 셋의 멤버 모두\n",
        "print('a|b값:',a|b)\n",
        "print('a.union(b)값:',a.union(b))\n",
        "\n",
        "# difference(): 차집합 = 첫 번째 셋에는 있지만, 두 번째 셋에는 없는 멤버\n",
        "print('a-b값:',a-b)\n",
        "print('a.difference(b)값:',a.difference(b))"
      ],
      "metadata": {
        "colab": {
          "base_uri": "https://localhost:8080/"
        },
        "id": "7RjbCITmjcEj",
        "outputId": "0495a279-2df5-40f1-bf24-a28c84f8f1c3"
      },
      "execution_count": 55,
      "outputs": [
        {
          "output_type": "stream",
          "name": "stdout",
          "text": [
            "a|b값: {1, 2, 3}\n",
            "a.union(b)값: {1, 2, 3}\n",
            "a-b값: {1}\n",
            "a.difference(b)값: {1}\n"
          ]
        }
      ]
    },
    {
      "cell_type": "code",
      "source": [
        "# ^연산자나 symmetric difference(): 대칭 차집합 = 한 쪽 셋에는 들어 있지만, 양쪽 모두에 들어 있지 않은 멤버\n",
        "print('a값:',a)\n",
        "print('b값:',b)\n",
        "\n",
        "print('a^b값:',a^b)\n",
        "print('a.symmetric_difference(b):',a.symmetric_difference(b))"
      ],
      "metadata": {
        "colab": {
          "base_uri": "https://localhost:8080/"
        },
        "id": "AWgAjsCejcHK",
        "outputId": "f6055f5a-eed0-417a-e1aa-55db89cd1baa"
      },
      "execution_count": 56,
      "outputs": [
        {
          "output_type": "stream",
          "name": "stdout",
          "text": [
            "a값: {1, 2}\n",
            "b값: {2, 3}\n",
            "a^b값: {1, 3}\n",
            "a.symmetric_difference(b): {1, 3}\n"
          ]
        }
      ]
    },
    {
      "cell_type": "code",
      "source": [
        "# issubset(): 첫 번째셋이 두 번째셋의 서브셋인지 살펴보자.\n",
        "print('a값:',a)\n",
        "print('b값:',b)\n",
        "\n",
        "print('a<=b값:',a<=b)\n",
        "print('a.issubset(b)값:',a.issubset(b))\n",
        "\n",
        "# <: 진부분집합 = 두 번째 셋에는 첫 번째 셋의 모든 멤버를 포함한 그 이상의 멤버가 있어야 한다.\n",
        "print('a<b값:', a<b)\n",
        "print('\\n')\n",
        "a={1,2,3}\n",
        "b={1,2,3,4}\n",
        "print('a<b값:', a<b)\n",
        "\n",
        "# 진부분집합이란 자기 자신을 제외한 부분집합을 말합니다.\n",
        "# 예를 들어 A={1,2} 라 하면 부분집합은 {},{1},{2},{1,2} 이지만 진부분집합은 {},{1},{2} 입니다."
      ],
      "metadata": {
        "colab": {
          "base_uri": "https://localhost:8080/"
        },
        "id": "TIyuixCWjcMK",
        "outputId": "89ba3e26-5a76-4c82-be75-049f94805ccb"
      },
      "execution_count": 61,
      "outputs": [
        {
          "output_type": "stream",
          "name": "stdout",
          "text": [
            "a값: {1, 2, 3}\n",
            "b값: {1, 2, 3, 4}\n",
            "a<=b값: True\n",
            "a.issubset(b)값: True\n",
            "a<b값: True\n",
            "\n",
            "\n",
            "a<b값: True\n"
          ]
        }
      ]
    },
    {
      "cell_type": "code",
      "source": [
        "# 슈퍼셋: 서브셋의 반대 : >=, issuperset()함수\n",
        "a>=b\n",
        "# a superset is a set that contains all the elements of another set.\n",
        "# If set A contains all the elements of set B, then A is a superset of B.\n",
        "# A set is considered a superset of itself.\n",
        "\n",
        "# ex) Animals is a superset of dogs.\n",
        "# horses is a subset of animals."
      ],
      "metadata": {
        "colab": {
          "base_uri": "https://localhost:8080/"
        },
        "id": "zDcyDX_PmTqN",
        "outputId": "33a59926-cb8a-46a6-af5a-e622d731c85a"
      },
      "execution_count": 62,
      "outputs": [
        {
          "output_type": "execute_result",
          "data": {
            "text/plain": [
              "False"
            ]
          },
          "metadata": {},
          "execution_count": 62
        }
      ]
    },
    {
      "cell_type": "code",
      "source": [
        "# 모든 셋은 자신의 슈퍼셋이다.\n",
        "a>=a\n",
        "# A proper superset of a set A is a superset of A that is not equal to A .\n",
        "\n",
        "# In other words, if B is a proper superset of A , then all elements of A are in B\n",
        "# but B contains at least one element that is not in A ."
      ],
      "metadata": {
        "colab": {
          "base_uri": "https://localhost:8080/"
        },
        "id": "ijDa99vymTuX",
        "outputId": "73690ef3-01d7-4a42-82d6-359acee713d8"
      },
      "execution_count": 63,
      "outputs": [
        {
          "output_type": "execute_result",
          "data": {
            "text/plain": [
              "True"
            ]
          },
          "metadata": {},
          "execution_count": 63
        }
      ]
    },
    {
      "cell_type": "code",
      "source": [
        "# 3.6 자료구조 비교하기\n",
        "# 대괄호[]를 사용해서 리스트를, 콤마(,)를 사용해서 튜플을, 중괄호{}를 사용해서 딕셔너리를 만들 수 있다.\n",
        "marx_list=['groucho','chico','harpo']\n",
        "marx_tuple='groucho','chico','harpo'\n",
        "marx_dict={'groucho':'banjo','chico':'paino','harpo':'harp'}\n",
        "\n",
        "print('type(marx_list)값:',type(marx_list))\n",
        "print('type(marx_tuple)값:',type(marx_tuple))\n",
        "print('type(marx_dict)값:',type(marx_dict))"
      ],
      "metadata": {
        "colab": {
          "base_uri": "https://localhost:8080/"
        },
        "id": "wRQlhWI9mT4A",
        "outputId": "0d608b7c-b43d-49f6-c328-9d4a0dbe84f6"
      },
      "execution_count": 64,
      "outputs": [
        {
          "output_type": "stream",
          "name": "stdout",
          "text": [
            "type(marx_list)값: <class 'list'>\n",
            "type(marx_tuple)값: <class 'tuple'>\n",
            "type(marx_dict)값: <class 'dict'>\n"
          ]
        }
      ]
    }
  ]
}
