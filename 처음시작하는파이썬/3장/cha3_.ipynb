{
  "nbformat": 4,
  "nbformat_minor": 0,
  "metadata": {
    "colab": {
      "provenance": [],
      "authorship_tag": "ABX9TyO6a8GPQmw+zREoOVR0imBK",
      "include_colab_link": true
    },
    "kernelspec": {
      "name": "python3",
      "display_name": "Python 3"
    },
    "language_info": {
      "name": "python"
    }
  },
  "cells": [
    {
      "cell_type": "markdown",
      "metadata": {
        "id": "view-in-github",
        "colab_type": "text"
      },
      "source": [
        "<a href=\"https://colab.research.google.com/github/kimheeseo/python/blob/main/cha3_.ipynb\" target=\"_parent\"><img src=\"https://colab.research.google.com/assets/colab-badge.svg\" alt=\"Open In Colab\"/></a>"
      ]
    },
    {
      "cell_type": "markdown",
      "source": [
        "**Chapter 3. 파이 채우기: 리스트, 튜플, 딕셔너리, 셋**"
      ],
      "metadata": {
        "id": "aMWR9qJvt_Rx"
      }
    },
    {
      "cell_type": "code",
      "execution_count": 1,
      "metadata": {
        "id": "rOWaU1wnt32p"
      },
      "outputs": [],
      "source": [
        "# 3.1 리스트와 튜플\n",
        "# 파이썬에는 두 가지 다른 시퀀스 구조가 있다.: 튜플(tuple), 리스트(list)\n",
        "# 파이썬의 문자열: 문자의 시퀀스\n",
        "\n",
        "# 1) 파이썬은 왜 리스트와 튜플 모두를 포함하고 있을까? 튜플은 불변(immutable)한다.\n",
        "# 튜플에 항목을 할당하고 나소, 이를 바꿀 수 없다.\n",
        "\n",
        "# 2) 리스트는 변경 가능하다.(mutable) 항목을 할당하고, 자유롭게 수정하거나 삭제할 수 있다."
      ]
    },
    {
      "cell_type": "code",
      "source": [
        "# 3.2 리스트\n",
        "# 리스트는 데이터를 순차적으로 파악하는 데 유용하다.\n",
        "# 특히 내용의 순서가 바뀔 수 있다는 점에서 유용하다.\n",
        "# 문자열과 달리 리스트는 변경 가능하다.\n",
        "\n",
        "# 리스트의 현재 위치에서 새로운 요소를 추가하거나 삭제 혹은 기존 요소를 덮어쓸 수 있다.\n",
        "# 그리고 리스트에는 동일한 값이 여러 번 나타날 수 있다.\n",
        "\n",
        "# 3.2.1 리스트 생성하기: [] 또는 list()\n",
        "# 리스트는 0 혹은 그 이상의 요소로 만들어진다. 콤마(,)로 구분하고, 대괄호([ ])로 둘러싸여 있다.\n",
        "\n",
        "empty_list=[]\n",
        "weekdays=['monday','tuesday','wednesday','thursday','friday']\n",
        "\n",
        "# list() 함수로 빈 리스트를 할당할 수 있다.\n",
        "another_empty_list=list()\n",
        "another_empty_list"
      ],
      "metadata": {
        "colab": {
          "base_uri": "https://localhost:8080/"
        },
        "id": "50pdS2Xwt_Vf",
        "outputId": "51197661-6c39-4045-89cf-de9bda875968"
      },
      "execution_count": 4,
      "outputs": [
        {
          "output_type": "execute_result",
          "data": {
            "text/plain": [
              "[]"
            ]
          },
          "metadata": {},
          "execution_count": 4
        }
      ]
    },
    {
      "cell_type": "code",
      "source": [
        "# 3.2.2 다른 데이터 타입을 리스트로 변환하기: list()\n",
        "# list()함수는 다른 데이터 타입을 리스트로 변환한다.\n",
        "print('type(cat)값',type('cat')) # type: str\n",
        "print('type(list(cat))값',type(list('cat'))) # type: list\n",
        "\n",
        "list('cat') # 하나의 단어를 한 문자로 문자열의 리스트로 변환한다."
      ],
      "metadata": {
        "colab": {
          "base_uri": "https://localhost:8080/"
        },
        "id": "o9v-J7Alt_Ya",
        "outputId": "0284d065-983f-4d38-e265-c0d133d980d9"
      },
      "execution_count": 11,
      "outputs": [
        {
          "output_type": "stream",
          "name": "stdout",
          "text": [
            "type(cat)값 <class 'str'>\n",
            "type(list(cat))값 <class 'list'>\n"
          ]
        },
        {
          "output_type": "execute_result",
          "data": {
            "text/plain": [
              "['c', 'a', 't']"
            ]
          },
          "metadata": {},
          "execution_count": 11
        }
      ]
    },
    {
      "cell_type": "code",
      "source": [
        "# 튜플을 리스트로 변환한다.\n",
        "a_tuple=('ready','fire','aim')\n",
        "list(a_tuple)"
      ],
      "metadata": {
        "colab": {
          "base_uri": "https://localhost:8080/"
        },
        "id": "r8AN-3EIt_ao",
        "outputId": "00039356-3702-47b3-c21b-1e1dff8e6aac"
      },
      "execution_count": 12,
      "outputs": [
        {
          "output_type": "execute_result",
          "data": {
            "text/plain": [
              "['ready', 'fire', 'aim']"
            ]
          },
          "metadata": {},
          "execution_count": 12
        }
      ]
    },
    {
      "cell_type": "code",
      "source": [
        "birthday='1/6/1952'\n",
        "birthday.split('/')"
      ],
      "metadata": {
        "colab": {
          "base_uri": "https://localhost:8080/"
        },
        "id": "4DJ1_TTQt_dH",
        "outputId": "2363512e-af27-41d9-da08-a9d996238d86"
      },
      "execution_count": 13,
      "outputs": [
        {
          "output_type": "execute_result",
          "data": {
            "text/plain": [
              "['1', '6', '1952']"
            ]
          },
          "metadata": {},
          "execution_count": 13
        }
      ]
    },
    {
      "cell_type": "code",
      "source": [
        "# 문자열에 구분자가 여러 개 있다면 어떻게 처리할까?\n",
        "# 다음과 같이 리스트에 빈 문자열에 들어갈 것이다.\n",
        "splitme='a/b//c/d///e'\n",
        "splitme.split('/')"
      ],
      "metadata": {
        "colab": {
          "base_uri": "https://localhost:8080/"
        },
        "id": "ALq4Q_-1t_fw",
        "outputId": "52e34c5e-0aa6-4125-a983-332f7de590e1"
      },
      "execution_count": 14,
      "outputs": [
        {
          "output_type": "execute_result",
          "data": {
            "text/plain": [
              "['a', 'b', '', 'c', 'd', '', '', 'e']"
            ]
          },
          "metadata": {},
          "execution_count": 14
        }
      ]
    },
    {
      "cell_type": "code",
      "source": [
        "# 3.2.3 [offset]으로 항목 얻기\n",
        "marxes=['Groucho','Chico','Harpo']\n",
        "print('marxes[0]:', marxes[0])\n",
        "print('marxes[1]:',marxes[1])\n",
        "\n",
        "# 리스트의 오프셋은 값을 할당한 위치에 맞게 입력되어야 한다.\n",
        "# 오프셋의 위치가 리스트의 범위를 벗어날 경우 예외가 발생한다.\n",
        "marxes=['Groucho','Chico','Harpo']\n",
        "marxes[5]"
      ],
      "metadata": {
        "colab": {
          "base_uri": "https://localhost:8080/",
          "height": 221
        },
        "id": "pzFFrXXUt_iQ",
        "outputId": "90e9bc47-be7a-453a-90a2-75c155c1d4df"
      },
      "execution_count": 17,
      "outputs": [
        {
          "output_type": "stream",
          "name": "stdout",
          "text": [
            "marxes[0]: Groucho\n",
            "marxes[1]: Chico\n"
          ]
        },
        {
          "output_type": "error",
          "ename": "IndexError",
          "evalue": "list index out of range",
          "traceback": [
            "\u001b[0;31m---------------------------------------------------------------------------\u001b[0m",
            "\u001b[0;31mIndexError\u001b[0m                                Traceback (most recent call last)",
            "\u001b[0;32m<ipython-input-17-5705e889787b>\u001b[0m in \u001b[0;36m<cell line: 9>\u001b[0;34m()\u001b[0m\n\u001b[1;32m      7\u001b[0m \u001b[0;31m# 오프셋의 위치가 리스트의 범위를 벗어날 경우 예외가 발생한다.\u001b[0m\u001b[0;34m\u001b[0m\u001b[0;34m\u001b[0m\u001b[0m\n\u001b[1;32m      8\u001b[0m \u001b[0mmarxes\u001b[0m\u001b[0;34m=\u001b[0m\u001b[0;34m[\u001b[0m\u001b[0;34m'Groucho'\u001b[0m\u001b[0;34m,\u001b[0m\u001b[0;34m'Chico'\u001b[0m\u001b[0;34m,\u001b[0m\u001b[0;34m'Harpo'\u001b[0m\u001b[0;34m]\u001b[0m\u001b[0;34m\u001b[0m\u001b[0;34m\u001b[0m\u001b[0m\n\u001b[0;32m----> 9\u001b[0;31m \u001b[0mmarxes\u001b[0m\u001b[0;34m[\u001b[0m\u001b[0;36m5\u001b[0m\u001b[0;34m]\u001b[0m\u001b[0;34m\u001b[0m\u001b[0;34m\u001b[0m\u001b[0m\n\u001b[0m",
            "\u001b[0;31mIndexError\u001b[0m: list index out of range"
          ]
        }
      ]
    },
    {
      "cell_type": "code",
      "source": [
        "# 3.2.4 리스트의 리스트\n",
        "# 리스트는 리스트뿐만 아니라, 다른 타입의 요소도 포함할 수 있다.\n",
        "small_birds=['hummingbird','finch']\n",
        "extinct_birds=['dodo','passenger pigeon','norwegian blue']\n",
        "carol_birds=[3,'frrench hens',2,'turtledoves']\n",
        "\n",
        "all_birds=[small_birds, extinct_birds, carol_birds]\n",
        "print('all_birds값:',all_birds) # 리스트의 리스트"
      ],
      "metadata": {
        "colab": {
          "base_uri": "https://localhost:8080/"
        },
        "id": "JEOLsppBt_kv",
        "outputId": "954db447-fc08-476b-8551-8542eea0e924"
      },
      "execution_count": 19,
      "outputs": [
        {
          "output_type": "stream",
          "name": "stdout",
          "text": [
            "all_birds값: [['hummingbird', 'finch'], ['dodo', 'passenger pigeon', 'norwegian blue'], [3, 'frrench hens', 2, 'turtledoves']]\n"
          ]
        }
      ]
    },
    {
      "cell_type": "code",
      "source": [
        "all_birds[0] # small_birds: 첫 번째 항목은 리스트다."
      ],
      "metadata": {
        "colab": {
          "base_uri": "https://localhost:8080/"
        },
        "id": "_xcMJhOWt_nR",
        "outputId": "ac2b8350-f0db-4bd9-90f5-1cbbcf830da8"
      },
      "execution_count": 20,
      "outputs": [
        {
          "output_type": "execute_result",
          "data": {
            "text/plain": [
              "['hummingbird', 'finch']"
            ]
          },
          "metadata": {},
          "execution_count": 20
        }
      ]
    },
    {
      "cell_type": "code",
      "source": [
        "all_birds[1][0] # [1]: extinct_birds, [0]: extinct_birds의 1번째 요소인 'dodo'를 출력"
      ],
      "metadata": {
        "colab": {
          "base_uri": "https://localhost:8080/",
          "height": 35
        },
        "id": "7WTLJr3_t_qA",
        "outputId": "36993739-6b0c-4dc2-8d3d-2c866818441a"
      },
      "execution_count": 21,
      "outputs": [
        {
          "output_type": "execute_result",
          "data": {
            "text/plain": [
              "'dodo'"
            ],
            "application/vnd.google.colaboratory.intrinsic+json": {
              "type": "string"
            }
          },
          "metadata": {},
          "execution_count": 21
        }
      ]
    },
    {
      "cell_type": "code",
      "source": [
        "# 3.2.5 [offset]으로 항목 바꾸기\n",
        "marxes=['Groucho','Chico','Harpo']\n",
        "print('marxes[2]=Wanda 하기 전, marxes값:',marxes)\n",
        "\n",
        "marxes[2]='Wanda'\n",
        "print('marxes[2]=Wanda 한 후, marxes값:',marxes)\n",
        "# 리스트의 오프셋은 리스트에서 유효한 위치여야 한다.\n",
        "# 문자열은 이러한 방식으로 변경할 수 없다. 왜냐하면 문자열은 불변한다\n",
        "# 리스트는 변경 가능하다. 리스트의 항목 수와 항목 내용을 바꿀 수 있다."
      ],
      "metadata": {
        "colab": {
          "base_uri": "https://localhost:8080/"
        },
        "id": "LiFI1PJgt_so",
        "outputId": "ebf2845d-e5aa-49f4-b06b-5713a8e71460"
      },
      "execution_count": 23,
      "outputs": [
        {
          "output_type": "stream",
          "name": "stdout",
          "text": [
            "marxes[2]=Wanda 하기 전, marxes값: ['Groucho', 'Chico', 'Harpo']\n",
            "marxes[2]=Wanda 한 후, marxes값: ['Groucho', 'Chico', 'Wanda']\n"
          ]
        }
      ]
    },
    {
      "cell_type": "code",
      "source": [
        "# 3.2.6 슬라이스로 항목 추출하기\n",
        "# 슬라이스를 사용해서 리스트의 서브 시퀀스를 추출할 수 있다.\n",
        "marxes=['Groucho','Chico','Harpo']\n",
        "print('marxes[0:2]값:',marxes[0:2])\n",
        "print('marxes[0]값:',marxes[0])\n",
        "print('marxes[1]값:',marxes[1])\n",
        "print('marxes[::-1]값:',marxes[::-1])"
      ],
      "metadata": {
        "colab": {
          "base_uri": "https://localhost:8080/"
        },
        "id": "iTRw2wee2bCG",
        "outputId": "e74ed78e-3a9b-4f5c-817c-e2610ebcbd5c"
      },
      "execution_count": 28,
      "outputs": [
        {
          "output_type": "stream",
          "name": "stdout",
          "text": [
            "marxes[0:2]값: ['Groucho', 'Chico']\n",
            "marxes[0]값: Groucho\n",
            "marxes[1]값: Chico\n",
            "marxes[::-1]값: ['Harpo', 'Chico', 'Groucho']\n"
          ]
        }
      ]
    },
    {
      "cell_type": "code",
      "source": [
        "# 3.2.7 리스트의 끝에 항목 추가하기: append()\n",
        "# append()는 리스트의 끝에 새 항목을 추가한다.\n",
        "print('Zeppo 추가 전 marxes값:', marxes)\n",
        "marxes.append('Zeppo')\n",
        "print('Zeppo 추가 후 marxes값:', marxes)"
      ],
      "metadata": {
        "colab": {
          "base_uri": "https://localhost:8080/"
        },
        "id": "mrqISuZx2bEl",
        "outputId": "daa45bb5-5bb7-4d1d-e07f-e98b04b1d0e1"
      },
      "execution_count": 30,
      "outputs": [
        {
          "output_type": "stream",
          "name": "stdout",
          "text": [
            "Zeppo 추가 전 marxes값: ['Groucho', 'Chico', 'Harpo', 'Zeppo']\n",
            "Zeppo 추가 후 marxes값: ['Groucho', 'Chico', 'Harpo', 'Zeppo', 'Zeppo']\n"
          ]
        }
      ]
    },
    {
      "cell_type": "code",
      "source": [
        "# 3.2.8 리스트 병합하기: etend() 또는 +=\n",
        "# extend()를 사용하여 다른 리스트를 병합할 수 있다.\n",
        "\n",
        "marxes=['Groucho','Chico','Harpo','Zeppo']\n",
        "others=['Gummo','Karl']\n",
        "print('병합 전 marxes값:',marxes)\n",
        "\n",
        "marxes.extend(others)\n",
        "print('병합 후 marxes값:',marxes)"
      ],
      "metadata": {
        "colab": {
          "base_uri": "https://localhost:8080/"
        },
        "id": "rgwxJBbd2bJf",
        "outputId": "1a3da8f8-426e-4477-b81b-459cce1f00b0"
      },
      "execution_count": 33,
      "outputs": [
        {
          "output_type": "stream",
          "name": "stdout",
          "text": [
            "병합 전 marxes값: ['Groucho', 'Chico', 'Harpo', 'Zeppo']\n",
            "병합 후 marxes값: ['Groucho', 'Chico', 'Harpo', 'Zeppo', 'Gummo', 'Karl']\n"
          ]
        }
      ]
    },
    {
      "cell_type": "code",
      "source": [
        "# append()를 사용하면 항목을 병합하지 않고, others가 하나의 리스트로 추가된다.\n",
        "marxes=['Groucho','Chico','Harpo','Zeppo']\n",
        "others=['Gummo','Karl']\n",
        "print('병합 전 marxes값:',marxes)\n",
        "\n",
        "marxes.append(others)\n",
        "print('병합 후 marxes값:',marxes)\n",
        "# 이것은 리스트가 다른 타입의 요소를 포함할 수 있다는 것을 보여준다."
      ],
      "metadata": {
        "colab": {
          "base_uri": "https://localhost:8080/"
        },
        "id": "LN74OsGM2bMN",
        "outputId": "604acccd-636c-47aa-9abf-0422361cfccc"
      },
      "execution_count": 34,
      "outputs": [
        {
          "output_type": "stream",
          "name": "stdout",
          "text": [
            "병합 전 marxes값: ['Groucho', 'Chico', 'Harpo', 'Zeppo']\n",
            "병합 후 marxes값: ['Groucho', 'Chico', 'Harpo', 'Zeppo', ['Gummo', 'Karl']]\n"
          ]
        }
      ]
    },
    {
      "cell_type": "code",
      "source": [
        "# 3.2.9 오프셋과 insert()로 항목 추가하기\n",
        "# append()함수는 단지 리스트의 끝에 항목을 추가한다.\n",
        "# 그러나 insert()함수는 원하는 위치에 항목을 추가할 수 있다.\n",
        "marxes=['Groucho','Chico','Harpo','Zeppo']\n",
        "print('변경 전 marxes값:',marxes)\n",
        "\n",
        "marxes.insert(3,'Gummo')\n",
        "print('변경 후 marxes값:',marxes)"
      ],
      "metadata": {
        "colab": {
          "base_uri": "https://localhost:8080/"
        },
        "id": "o1kdDYe44dLn",
        "outputId": "36a4d0ae-f4ff-402b-ca05-19994a8adefc"
      },
      "execution_count": 36,
      "outputs": [
        {
          "output_type": "stream",
          "name": "stdout",
          "text": [
            "변경 전 marxes값: ['Groucho', 'Chico', 'Harpo', 'Zeppo']\n",
            "변경 후 marxes값: ['Groucho', 'Chico', 'Harpo', 'Gummo', 'Zeppo']\n"
          ]
        }
      ]
    },
    {
      "cell_type": "code",
      "source": [
        "# 3.2.10 오프셋으로 항목 삭제하기: del\n",
        "marxes=['Groucho','Chico','Harpo','Zeppo']\n",
        "print('변경 전 marxes값:',marxes)\n",
        "del marxes[-1]\n",
        "\n",
        "print('변경 후 marxes값:', marxes)\n",
        "# 오프셋으로 리스트의 특정 항목을 삭제하면, 제거된 항목 이후의 항목들이 한 칸씩 앞으로 당겨진다.\n",
        "# 그리고 리스트의 길이가 1 감소한다."
      ],
      "metadata": {
        "colab": {
          "base_uri": "https://localhost:8080/"
        },
        "id": "JjhVnAsv5E63",
        "outputId": "eee618cb-79d4-42cc-8590-454be9762fae"
      },
      "execution_count": 38,
      "outputs": [
        {
          "output_type": "stream",
          "name": "stdout",
          "text": [
            "변경 전 marxes값: ['Groucho', 'Chico', 'Harpo', 'Zeppo']\n",
            "변경 후 marxes값: ['Groucho', 'Chico', 'Harpo']\n"
          ]
        }
      ]
    },
    {
      "cell_type": "code",
      "source": [
        "# 3.2.11 값으로 항목 삭제하기: remove()\n",
        "# 리스트에서 삭제할 항목의 위치를 모르는 경우, remove()와 값으로 그 항목을 삭제할 수 있다.\n",
        "marxes=['Groucho','Chico','Harpo','Gummo','Zeppo']\n",
        "print('변경 전 marxes값:',marxes)\n",
        "\n",
        "marxes.remove('Gummo')\n",
        "print('변경 후 marxes값:',marxes)"
      ],
      "metadata": {
        "colab": {
          "base_uri": "https://localhost:8080/"
        },
        "id": "r2qKxV4Q5eaI",
        "outputId": "f9574099-556e-4dea-f1cb-4805263d8731"
      },
      "execution_count": 39,
      "outputs": [
        {
          "output_type": "stream",
          "name": "stdout",
          "text": [
            "변경 전 marxes값: ['Groucho', 'Chico', 'Harpo', 'Gummo', 'Zeppo']\n",
            "변경 후 marxes값: ['Groucho', 'Chico', 'Harpo', 'Zeppo']\n"
          ]
        }
      ]
    },
    {
      "cell_type": "code",
      "source": [
        "# 3.2.12 오프셋으로 항목을 얻은 후 삭제하기: pop()\n",
        "# pop()은 리스트에서 항목을 가져오는 동시에 그 항목을 삭제한다.\n",
        "# 오프셋과 함께 pop()을 호출했다면 그 오프셋의 항목이 반환된다. 인자가 없다면 -1을 사용한다.\n",
        "\n",
        "# pop(0): 리스트의 헤드를 반환한다.\n",
        "# pop() 혹은 pop(-1): 리스트의 테일을 반환한다.\n",
        "\n",
        "marxes=['Groucho','Chico','Harpo','Gummo','Zeppo']\n",
        "print('변경 전 marxes값:',marxes)\n",
        "marxes.pop()\n",
        "\n",
        "print('변경 후 marxes값:',marxes)\n",
        "\n",
        "marxes.pop(1)\n",
        "print('변경 후 marxes값:',marxes)"
      ],
      "metadata": {
        "colab": {
          "base_uri": "https://localhost:8080/"
        },
        "id": "vkVLhKMu51Bw",
        "outputId": "acadb257-5a18-4213-bac5-abbc0248b58c"
      },
      "execution_count": 41,
      "outputs": [
        {
          "output_type": "stream",
          "name": "stdout",
          "text": [
            "변경 전 marxes값: ['Groucho', 'Chico', 'Harpo', 'Gummo', 'Zeppo']\n",
            "변경 후 marxes값: ['Groucho', 'Chico', 'Harpo', 'Gummo']\n",
            "변경 후 marxes값: ['Groucho', 'Harpo', 'Gummo']\n"
          ]
        }
      ]
    }
  ]
}
