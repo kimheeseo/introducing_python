{
  "nbformat": 4,
  "nbformat_minor": 0,
  "metadata": {
    "colab": {
      "provenance": [],
      "authorship_tag": "ABX9TyNTKaIVdn23WjkJMxirgklT",
      "include_colab_link": true
    },
    "kernelspec": {
      "name": "python3",
      "display_name": "Python 3"
    },
    "language_info": {
      "name": "python"
    }
  },
  "cells": [
    {
      "cell_type": "markdown",
      "metadata": {
        "id": "view-in-github",
        "colab_type": "text"
      },
      "source": [
        "<a href=\"https://colab.research.google.com/github/kimheeseo/python/blob/main/181_188.ipynb\" target=\"_parent\"><img src=\"https://colab.research.google.com/assets/colab-badge.svg\" alt=\"Open In Colab\"/></a>"
      ]
    },
    {
      "cell_type": "markdown",
      "source": [
        "**6.10 메서드 타입**"
      ],
      "metadata": {
        "id": "dpEQiuUIo6pi"
      }
    },
    {
      "cell_type": "code",
      "execution_count": null,
      "metadata": {
        "id": "j4zuI_G1VhAb"
      },
      "outputs": [],
      "source": [
        "# 어떤 데이터(속성)와 함수(메서드)는 클래스 자신의 일부고,\n",
        "# 어떤 것은 클래스로부터 생성된 객체의 일부다.\n",
        "\n",
        "# 클래스 정의에서 메서드의 첫 번째 인자가 self라면 이 메서드는 인스턴스 메서드다.\n",
        "# 인스턴스 메서드의 첫 번째 매개변수는 self이고, 파이썬은 이 메서드를 호출할 때 객체를 전달한다.\n",
        "\n",
        "# * 파이썬에서 클래스의 메서드를 선언할 때 첫 번째 인자가 self이면 해당 메서드는 인스턴스 메서드입니다."
      ]
    },
    {
      "cell_type": "code",
      "source": [
        "# 클래스 메서드는 클래스 전체에 영향을 미친다.클래스에 대한 어떤 변화는 모든 객체에 영향을 미친다.\n",
        "# 클래스 정의에서 함수에 @ Classmethod 데커레이터가 있다면 이것은 클래스 메서드다.\n",
        "# 이 메서드의 1번째 매개변수는 클래스 자신이다. 파이썬에서는 보통 이 클래스의 매개변수를 cls로 쓴다."
      ],
      "metadata": {
        "id": "wdS2_qgxp5DJ"
      },
      "execution_count": null,
      "outputs": []
    },
    {
      "cell_type": "code",
      "source": [
        "class A():\n",
        "  count=0\n",
        "  def __init__(self):\n",
        "    A.count+=1\n",
        "  def exclaim(self):\n",
        "    print(\"I'm an A!\")\n",
        "\n",
        "  @classmethod\n",
        "  def kids(cls):\n",
        "    print(\"A has\", cls.count, \"little objects.\")\n",
        "    print(\"A has\", A.count, \"little objects.\")"
      ],
      "metadata": {
        "id": "8SYC8ID7p5Fl"
      },
      "execution_count": 13,
      "outputs": []
    },
    {
      "cell_type": "code",
      "source": [
        "easy_a=A()\n",
        "breezy_a=A()\n",
        "wheezy_a=A()\n",
        "A.kids()\n",
        "\n",
        "# self.count를 참조하기보다 A.count를 참조했다.\n",
        "# kids() 메서드에서 A.count를 사용할 수 있었지만, cls.count를 사용했다."
      ],
      "metadata": {
        "colab": {
          "base_uri": "https://localhost:8080/"
        },
        "id": "Dw1PnkNSp5H6",
        "outputId": "7b3b5960-8d5a-413b-96e0-f2feb6e9d0ec"
      },
      "execution_count": 14,
      "outputs": [
        {
          "output_type": "stream",
          "name": "stdout",
          "text": [
            "A has 3 little objects.\n",
            "A has 3 little objects.\n"
          ]
        }
      ]
    },
    {
      "cell_type": "code",
      "source": [
        "easy_a.exclaim()"
      ],
      "metadata": {
        "colab": {
          "base_uri": "https://localhost:8080/"
        },
        "id": "yN71Snf-p5KF",
        "outputId": "bfd7c42f-bda4-419c-f785-676dcb87c909"
      },
      "execution_count": 10,
      "outputs": [
        {
          "output_type": "stream",
          "name": "stdout",
          "text": [
            "I'm an A!\n"
          ]
        }
      ]
    },
    {
      "cell_type": "code",
      "source": [
        "class CoyoteWeapon():\n",
        "  @staticmethod\n",
        "  def commercial():\n",
        "    print('this CoyoteWeapon has been brought to you by Acme')\n",
        "# 이 메서드를 접근하기 위해 CoyeteWeapon 클래스에서 객체를 생성할 필요가 없다."
      ],
      "metadata": {
        "id": "bHTTvoBJp5My"
      },
      "execution_count": 15,
      "outputs": []
    },
    {
      "cell_type": "markdown",
      "source": [
        "**6.11 덕 타이핑**"
      ],
      "metadata": {
        "id": "TEo8ZJzAsDa6"
      }
    },
    {
      "cell_type": "code",
      "source": [
        "# 파이썬은 다형성을 느슨하게 구현했다. polymorphism\n",
        "# 이것은 클래스에 상관없이 같은 동작을 다른 객체에 적용할 수 있다는 것을 의미.\n",
        "\n",
        "class Quote():\n",
        "  def __init__(self, person, words):\n",
        "    self.person=person\n",
        "    self.words=words\n",
        "\n",
        "  def who(self): # who() 메서드는 저장된 person 문자열의 값을 반환.\n",
        "    # says() 메서드는 특정 구두점과 함께 저장된 wors 문자열을 반환.\n",
        "    return self.person\n",
        "\n",
        "  def says(self):\n",
        "    return self.words+'.'"
      ],
      "metadata": {
        "id": "v9gd8vlFp5PE"
      },
      "execution_count": 18,
      "outputs": []
    },
    {
      "cell_type": "code",
      "source": [
        "class QuestionQuote(Quote):\n",
        "  def says(self):\n",
        "    return self.words+'?'\n",
        "\n",
        "class ExclamationQuote(Quote):\n",
        "  def says(self):\n",
        "    return self.words+'!'\n",
        "\n",
        "# 클래스에서 초기화 함수를 쓰지 않았다. 그러므로 부모의 __init__()메서드를 오버라이드하지 않는다.\n",
        "# 파이썬은 자동으로 부모 클래스 Quote의 __init__()메서드를 호출해서 인스턴스 변수 person과 words를\n",
        "# 저장한다. 그러므로 서브클래스 QuestionQuote와 ExclamationQuote에서 생성된 객체의 self..words에 접근할 수 있다.\n",
        "\n",
        "# 세 개의 서로 다른 says() 메서드는 세 클래스에 대해 서로 다른 동작을 제공한다."
      ],
      "metadata": {
        "id": "s3mwCJ0I6YBf"
      },
      "execution_count": 21,
      "outputs": []
    },
    {
      "cell_type": "code",
      "source": [
        "hunter=Quote('Elmer Fudd', \"I'm hunting wabbits\")"
      ],
      "metadata": {
        "id": "fwJsQBED6YD9"
      },
      "execution_count": 22,
      "outputs": []
    },
    {
      "cell_type": "code",
      "source": [
        "print(hunter.who(), 'says:',hunter.says())"
      ],
      "metadata": {
        "colab": {
          "base_uri": "https://localhost:8080/"
        },
        "id": "fzSmPjcn6YGY",
        "outputId": "daba56dc-dce2-4584-da59-65e923ddfb3d"
      },
      "execution_count": 23,
      "outputs": [
        {
          "output_type": "stream",
          "name": "stdout",
          "text": [
            "Elmer Fudd says: I'm hunting wabbits.\n"
          ]
        }
      ]
    },
    {
      "cell_type": "code",
      "source": [
        "hunted1.says()"
      ],
      "metadata": {
        "colab": {
          "base_uri": "https://localhost:8080/",
          "height": 35
        },
        "id": "Mh266WTh-EG_",
        "outputId": "78357c59-1eec-45d2-dd21-76021d8eab3b"
      },
      "execution_count": 28,
      "outputs": [
        {
          "output_type": "execute_result",
          "data": {
            "text/plain": [
              "\"What's up doc??\""
            ],
            "application/vnd.google.colaboratory.intrinsic+json": {
              "type": "string"
            }
          },
          "metadata": {},
          "execution_count": 28
        }
      ]
    },
    {
      "cell_type": "code",
      "source": [
        "hunted1=QuestionQuote('Bugs Bunny',\"What's up doc?\")\n",
        "print(hunted1.who(),'says:', hunted1.says())"
      ],
      "metadata": {
        "colab": {
          "base_uri": "https://localhost:8080/"
        },
        "id": "_gbU0Hf36YJQ",
        "outputId": "20b867b9-2b96-4178-912a-1dda91820f7a"
      },
      "execution_count": 24,
      "outputs": [
        {
          "output_type": "stream",
          "name": "stdout",
          "text": [
            "Bugs Bunny says: What's up doc??\n"
          ]
        }
      ]
    },
    {
      "cell_type": "code",
      "source": [
        "# Quote 클래스와 관계없는 BabblingBrook 클래스 정의\n",
        "class BabblingBrook():\n",
        "  def who(self):\n",
        "    return 'Brook'\n",
        "  def says(self):\n",
        "    return 'Babble'\n",
        "\n",
        "brook = BabblingBrook()"
      ],
      "metadata": {
        "id": "v_snmsQt-oTn"
      },
      "execution_count": 30,
      "outputs": []
    },
    {
      "cell_type": "code",
      "source": [
        "hunter=Quote('Elmer Fudd', \"I'm hunting wabbits\")\n",
        "\n",
        "def who_says(obj):\n",
        "  print(obj.who(), 'says', obj.says())\n",
        "\n",
        "who_says(hunter)"
      ],
      "metadata": {
        "colab": {
          "base_uri": "https://localhost:8080/"
        },
        "id": "8LsNJyZv-oVx",
        "outputId": "e6ac525e-5b9f-4e56-eef3-d9f63a62b363"
      },
      "execution_count": 32,
      "outputs": [
        {
          "output_type": "stream",
          "name": "stdout",
          "text": [
            "Elmer Fudd says I'm hunting wabbits.\n"
          ]
        }
      ]
    },
    {
      "cell_type": "code",
      "source": [
        "hunted1=QuestionQuote('Bugs Bunny',\"What's up doc?\")\n",
        "\n",
        "who_says(hunted1)"
      ],
      "metadata": {
        "colab": {
          "base_uri": "https://localhost:8080/"
        },
        "id": "ivvePSdC-oYQ",
        "outputId": "7de132cd-ce3b-4ee3-abee-7c1ec5c258bc"
      },
      "execution_count": 33,
      "outputs": [
        {
          "output_type": "stream",
          "name": "stdout",
          "text": [
            "Bugs Bunny says What's up doc??\n"
          ]
        }
      ]
    },
    {
      "cell_type": "code",
      "source": [
        "brook = BabblingBrook()\n",
        "who_says(brook)"
      ],
      "metadata": {
        "colab": {
          "base_uri": "https://localhost:8080/"
        },
        "id": "b-lbsxs5-oai",
        "outputId": "3b80042e-9f5d-457a-88e5-a75c01692ad6"
      },
      "execution_count": 34,
      "outputs": [
        {
          "output_type": "stream",
          "name": "stdout",
          "text": [
            "Brook says Babble\n"
          ]
        }
      ]
    }
  ]
}
