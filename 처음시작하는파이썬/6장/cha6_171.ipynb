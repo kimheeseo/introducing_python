{
  "nbformat": 4,
  "nbformat_minor": 0,
  "metadata": {
    "colab": {
      "provenance": [],
      "authorship_tag": "ABX9TyMvUI7uUGOUpUz4ZIBSlaTO",
      "include_colab_link": true
    },
    "kernelspec": {
      "name": "python3",
      "display_name": "Python 3"
    },
    "language_info": {
      "name": "python"
    }
  },
  "cells": [
    {
      "cell_type": "markdown",
      "metadata": {
        "id": "view-in-github",
        "colab_type": "text"
      },
      "source": [
        "<a href=\"https://colab.research.google.com/github/kimheeseo/python/blob/main/cha6_171.ipynb\" target=\"_parent\"><img src=\"https://colab.research.google.com/assets/colab-badge.svg\" alt=\"Open In Colab\"/></a>"
      ]
    },
    {
      "cell_type": "markdown",
      "source": [
        "**6. 객체와 클래스**"
      ],
      "metadata": {
        "id": "kYKJqUeR_FEQ"
      }
    },
    {
      "cell_type": "markdown",
      "source": [
        "**6.1 객체란 무엇인가?**"
      ],
      "metadata": {
        "id": "sYDl2GT8_fe7"
      }
    },
    {
      "cell_type": "code",
      "execution_count": 1,
      "metadata": {
        "id": "G5wB7h_h_ET1"
      },
      "outputs": [],
      "source": [
        "# 숫자에서 모듈까지 파이썬의 모든 것은 객체다.\n",
        "# num=7을 입력했을 때, 7이 담김 정수 타입의 객체를 생성하고, 객체 참조(object referenec)를 num에 할당한다.\n",
        "\n",
        "# 객체는 데이터와 코드(함수, method라고 부름)를 모두 포함한다.\n",
        "# 객체는 어떤 구체적인 것의 유일한 인스턴스(instance)를 나타낸다.\n",
        "\n",
        "# 객체는 명사, 메서드를 동사라고 생각하자. 객체는 각각의 사물을 나타내고, 메서드는 다른 사물과 어떻게 상호작용하는 지 정의한다.\n",
        "# 객체(object)는 각자 다른 값을 가진 속성의 객체를 동시에 여러 개 생성할 수 있다."
      ]
    },
    {
      "cell_type": "markdown",
      "source": [
        "**6.2 클래스 선언하기: class**"
      ],
      "metadata": {
        "id": "Y3xoTVuhA6Ti"
      }
    },
    {
      "cell_type": "code",
      "source": [
        "# string: 'cat', 'duck'과 같은 문자열 객체를 만드는 내장된 클래스.\n",
        "\n",
        "# 사람에 대한 정보를 나타내는 객체(object)를 정의한다고 가정하자.\n",
        "# 각 객체는 한 사람을 나타낸다. 먼저 객체의 틀로 Person 클래스를 정의한다.\n",
        "\n",
        "# 가장 간단한 빈 클래스\n",
        "class Person():\n",
        "  pass # 빈 클래스를 나타내기 위해 pass를 사용했다."
      ],
      "metadata": {
        "id": "K3cl3gULA-ab"
      },
      "execution_count": 2,
      "outputs": []
    },
    {
      "cell_type": "code",
      "source": [
        "# 함수처럼 클래스 이름을 호출하여 클래스로부터 객체를 생성합니다.\n",
        "someone=Person() # someone: 객체(object) 할당\n",
        "# 객체(object는 class를 통해 생성된다.\n",
        "\n",
        "# Person(): Person 클래스로부터 개별 객체를 생성하고, someone 변수에 이 객체를 할당한다."
      ],
      "metadata": {
        "id": "ugjnYSRyA-dF"
      },
      "execution_count": 3,
      "outputs": []
    },
    {
      "cell_type": "code",
      "source": [
        "# 파이썬 객체 초기화 메서드 __init__\n",
        "class Person():\n",
        "  def __init__(self):\n",
        "    pass\n",
        "# __init__: 클래스의 정의로부터 객체를 초기화."
      ],
      "metadata": {
        "id": "Xfscdl49A-fV"
      },
      "execution_count": 4,
      "outputs": []
    },
    {
      "cell_type": "code",
      "source": [
        "class Person():\n",
        "  def __init__(self, name):\n",
        "    self.name=name # name 매개변수를 초기화 메서드에 추가.\n",
        "\n",
        "hunter=Person('Elmer Fudd')\n",
        "# self.name=name\n",
        "# hunter.name ='Elmer Fudd'\n",
        "# 새롭게 생성된 객체(hunter)를 self에 전달하고, 인자('Elmer Fudd')를 name에 전달한다.\n",
        "\n",
        "hunter.name\n",
        "# 모든 클래스 정의에서 __init__ 메서드를 가질 필요는 없다."
      ],
      "metadata": {
        "colab": {
          "base_uri": "https://localhost:8080/",
          "height": 35
        },
        "id": "GNLDYsI4A-ht",
        "outputId": "0a2f0d81-98f9-4ba0-8f4c-e17b451d113e"
      },
      "execution_count": 5,
      "outputs": [
        {
          "output_type": "execute_result",
          "data": {
            "text/plain": [
              "'Elmer Fudd'"
            ],
            "application/vnd.google.colaboratory.intrinsic+json": {
              "type": "string"
            }
          },
          "metadata": {},
          "execution_count": 5
        }
      ]
    },
    {
      "cell_type": "markdown",
      "source": [
        "**6.3 상속**"
      ],
      "metadata": {
        "id": "PWaG_UAsEFBh"
      }
    },
    {
      "cell_type": "code",
      "source": [
        "# 기존 클래스에 필요한 기능을 추가할 것이다.\n",
        "# 기존 클래스를 수정하려 하면, 클래스를 더 복잡하게 만들게 될 것이고, 코드를 잘못 건드려 수행할 수 없게 만들 수도 있다.\n",
        "# 같은 일을 수행하는 기존 클래스와 새로운 클래스가 서로 다른 곳에 있기 때문에 혼란스러워진다. 이 문제는 상속으로 해결할 수 있다.\n",
        "\n",
        "# 기존 클래스에서 일부를 추가하거나 변경하여 새 클래스를 생성한다. 이것은 코드를 재사용하는 아주 좋은 방법이다.\n",
        "# 상속을 이용하면 새로운 클래스는 기존 클래스를 복사하지 않고, 기존 클래스의 모든 코드를 쓸 수 있다.\n",
        "\n",
        "# 기존 클래스: 부모 클래스(parent), 새 클래스: 자식 클래스(child)"
      ],
      "metadata": {
        "id": "SG50CGPAA-kJ"
      },
      "execution_count": 6,
      "outputs": []
    },
    {
      "cell_type": "code",
      "source": [
        "# 빈 클래스 Car를 정의한다. 그리고 Car의 서브 클래스 Yugo를 정의한다.\n",
        "class Car():\n",
        "  pass\n",
        "\n",
        "class Yugo(Car):\n",
        "  pass\n",
        "# Car의 서브 클래스 Yugo를 정의한다.\n",
        "# 괄호 안에 부모 클래스의 이름을 지정한다.\n",
        "# 자식 클래스는 부모 클래스를 구체화한 것이다."
      ],
      "metadata": {
        "id": "XOH08nxVA-mh"
      },
      "execution_count": 7,
      "outputs": []
    },
    {
      "cell_type": "code",
      "source": [
        "give_me_a_car=Car()\n",
        "give_me_a_yugo=Yugo()\n",
        "\n",
        "# give_me_a_yugo는 Yugo 클래스의 인스턴스지만, 또한 Car 클래스가 할 수 있는 어떤 것을 상속 받는다."
      ],
      "metadata": {
        "id": "r1MywWMvFslg"
      },
      "execution_count": 8,
      "outputs": []
    },
    {
      "cell_type": "code",
      "source": [
        "class Car():\n",
        "  def exclaim(self):\n",
        "    print(\"I'm a Car!\")\n",
        "\n",
        "class Yugo(Car):\n",
        "  pass\n",
        "\n",
        "give_me_a_car=Car()\n",
        "give_me_a_yugo=Yugo()\n",
        "\n",
        "give_me_a_car.exclaim()"
      ],
      "metadata": {
        "colab": {
          "base_uri": "https://localhost:8080/"
        },
        "id": "1ykT_fmIFsn8",
        "outputId": "11c3268a-9a14-4eec-a57f-1f65080df335"
      },
      "execution_count": 9,
      "outputs": [
        {
          "output_type": "stream",
          "name": "stdout",
          "text": [
            "I'm a Car!\n"
          ]
        }
      ]
    },
    {
      "cell_type": "code",
      "source": [
        "give_me_a_yugo.exclaim()\n",
        "# Yugo는 Car로부터 exclaim()메서드를 상속받았다.Yugo는 자신이 Car라고 말하고 있다."
      ],
      "metadata": {
        "colab": {
          "base_uri": "https://localhost:8080/"
        },
        "id": "NAFD5IqIFsqT",
        "outputId": "2c3c6f63-0834-4316-8db5-6d96db3ae440"
      },
      "execution_count": 10,
      "outputs": [
        {
          "output_type": "stream",
          "name": "stdout",
          "text": [
            "I'm a Car!\n"
          ]
        }
      ]
    },
    {
      "cell_type": "markdown",
      "source": [
        "**6.4 메서드 오버라이드**"
      ],
      "metadata": {
        "id": "KsYlr3QuGyMT"
      }
    },
    {
      "cell_type": "code",
      "source": [
        "# 자식 class인 Yugo는 아마도 어떤 식으로든 부모 클래스인 Car와 달라야 한다. 먼저 그렇지 않다면 새로운 클래스를 정의하는 이유를 생각해봐야 한다.\n",
        "class Car():\n",
        "  def exclaim(self):\n",
        "    print(\"I'm a Car!\")\n",
        "\n",
        "class Yugo(Car):\n",
        "  def exclaim(self):\n",
        "    print(\"I'm a Yugo! Much like a Car, but more Yugo-ish.\")"
      ],
      "metadata": {
        "id": "s3GKDs9IFssR"
      },
      "execution_count": 11,
      "outputs": []
    },
    {
      "cell_type": "code",
      "source": [
        "give_me_a_car=Car()\n",
        "give_me_a_car.exclaim()"
      ],
      "metadata": {
        "colab": {
          "base_uri": "https://localhost:8080/"
        },
        "id": "NtNxw9CQHbQr",
        "outputId": "d6adada5-6690-4645-f739-279f1ebe6ebd"
      },
      "execution_count": 12,
      "outputs": [
        {
          "output_type": "stream",
          "name": "stdout",
          "text": [
            "I'm a Car!\n"
          ]
        }
      ]
    },
    {
      "cell_type": "code",
      "source": [
        "give_me_a_yugo=Yugo()\n",
        "give_me_a_yugo.exclaim()"
      ],
      "metadata": {
        "colab": {
          "base_uri": "https://localhost:8080/"
        },
        "id": "UVESkREQHbTG",
        "outputId": "52683839-d3e6-4173-a952-ba2a657048c6"
      },
      "execution_count": 13,
      "outputs": [
        {
          "output_type": "stream",
          "name": "stdout",
          "text": [
            "I'm a Yugo! Much like a Car, but more Yugo-ish.\n"
          ]
        }
      ]
    },
    {
      "cell_type": "code",
      "source": [
        "class Person():\n",
        "  def __init__(self, name):\n",
        "    self.name=name\n",
        "\n",
        "class MDPerson(Person):\n",
        "  def __init__(self, name):\n",
        "    self.name=\"doctor \" + name\n",
        "\n",
        "class JDPerson(Person):\n",
        "  def __init__(self, name):\n",
        "    self.name = name + \",Esquire\""
      ],
      "metadata": {
        "id": "hI9bqwGOHbVa"
      },
      "execution_count": 14,
      "outputs": []
    },
    {
      "cell_type": "code",
      "source": [
        "person=Person('Fudd')\n",
        "print('person.name값:',person.name)\n",
        "\n",
        "# self.name = name\n",
        "# Person.name = Fudd"
      ],
      "metadata": {
        "colab": {
          "base_uri": "https://localhost:8080/"
        },
        "id": "8a2UXX0SHbX7",
        "outputId": "bcc1d1e5-6423-4cd3-e7b9-c50eda887b7f"
      },
      "execution_count": 15,
      "outputs": [
        {
          "output_type": "stream",
          "name": "stdout",
          "text": [
            "person.name값: Fudd\n"
          ]
        }
      ]
    },
    {
      "cell_type": "code",
      "source": [
        "doctor=MDPerson('Fudd')\n",
        "print('doctor.name값:', doctor.name)"
      ],
      "metadata": {
        "colab": {
          "base_uri": "https://localhost:8080/"
        },
        "id": "iO8AV_jvHbah",
        "outputId": "93d65e77-b7a0-40ff-e8f3-33bb17b9dd9d"
      },
      "execution_count": 16,
      "outputs": [
        {
          "output_type": "stream",
          "name": "stdout",
          "text": [
            "doctor.name값: doctor Fudd\n"
          ]
        }
      ]
    },
    {
      "cell_type": "code",
      "source": [
        "lawyer=JDPerson('Fudd')\n",
        "print('lawyer.name값:', lawyer.name)"
      ],
      "metadata": {
        "colab": {
          "base_uri": "https://localhost:8080/"
        },
        "id": "JBN8r_B7Hbcx",
        "outputId": "5866c086-ea15-4469-f37a-ca211e33eb7b"
      },
      "execution_count": 17,
      "outputs": [
        {
          "output_type": "stream",
          "name": "stdout",
          "text": [
            "lawyer.name값: Fudd,Esquire\n"
          ]
        }
      ]
    },
    {
      "cell_type": "markdown",
      "source": [
        "**6.5 메서드 추가하기**"
      ],
      "metadata": {
        "id": "2DUP2Yn3JNyE"
      }
    },
    {
      "cell_type": "code",
      "source": [
        "# 자식 클래스는 또한 부모 클래스에 없는 메서드를 추가할 수 있다.\n",
        "class Car():\n",
        "  def exclaim(self):\n",
        "    print(\"I'm a Car!\")\n",
        "\n",
        "class Yugo(Car):\n",
        "  def exclaim(self):\n",
        "    print(\"I'm a Yugo! much like a car, but more yugo-ish.\")\n",
        "\n",
        "  def need_a_push(self):\n",
        "    print(\"a little help here?\")\n",
        "\n",
        "# Yugo 클래스에만 있는 새로운 메서드 need_a_push() 정의.\n",
        "give_me_a_car=Car()\n",
        "give_me_a_yugo=Yugo()\n",
        "\n",
        "give_me_a_yugo.need_a_push() # print(\"a little help here?\")"
      ],
      "metadata": {
        "colab": {
          "base_uri": "https://localhost:8080/"
        },
        "id": "8KrJxmWYJRws",
        "outputId": "1ebeef22-95f3-4d68-80c1-3c5df11ffefd"
      },
      "execution_count": 18,
      "outputs": [
        {
          "output_type": "stream",
          "name": "stdout",
          "text": [
            "a little help here?\n"
          ]
        }
      ]
    },
    {
      "cell_type": "code",
      "source": [
        "# 자give_me_a_car.need_a_push()\n",
        "# Yugo의 독특한 개성을 나타낼 수 있다. Yugo는 Car가 하지 못하는 뭔가를 할 수 있다."
      ],
      "metadata": {
        "id": "mPgfZkVqJRzB"
      },
      "execution_count": 20,
      "outputs": []
    },
    {
      "cell_type": "markdown",
      "source": [
        "**6.6 부모에게 도움 받기: super**"
      ],
      "metadata": {
        "id": "uIK5BmyRKdhr"
      }
    },
    {
      "cell_type": "code",
      "source": [
        "# p.178) 자식 클래스에서 부모 클래스의 메서드를 호출하고 싶다면 어떻게 해야 할까? super() 메서드 사용\n",
        "class Person():\n",
        "  def __init__(self, name):\n",
        "    self.name=name\n",
        "\n",
        "class EmailPerson(Person):\n",
        "  def __init__(self, name, email):\n",
        "    super().__init__(name) #  __init__()메소드는 Person.__init__() 메서드를 호출한다.\n",
        "    self.email=email # Person클래스와 다르게 EmailPerson 클래스를 다르게 만들어주는 새로운 코드\n",
        "\n",
        "# super() 메서드는 부모 클래스(Person)의 정의를 얻는다.\n",
        "# super().__init(name): self인자를 슈퍼 클래스로 전달하는 역할을 한다."
      ],
      "metadata": {
        "id": "9dvJz-D0JR1c"
      },
      "execution_count": 28,
      "outputs": []
    },
    {
      "cell_type": "code",
      "source": [
        "bob=EmailPerson('Bob Frapples', 'bob@frapples.com')\n",
        "\n",
        "# Bob Frapples는 Person으로 부터 상속받은 self.name=name에 의해, EmailPerson의 name이 Bob Frapples가 된다.\n",
        "bob.name"
      ],
      "metadata": {
        "id": "PltkpOFgJR39",
        "colab": {
          "base_uri": "https://localhost:8080/",
          "height": 35
        },
        "outputId": "7d132886-6fb4-40e9-810c-c556865ae49e"
      },
      "execution_count": 30,
      "outputs": [
        {
          "output_type": "execute_result",
          "data": {
            "text/plain": [
              "'Bob Frapples'"
            ],
            "application/vnd.google.colaboratory.intrinsic+json": {
              "type": "string"
            }
          },
          "metadata": {},
          "execution_count": 30
        }
      ]
    },
    {
      "cell_type": "code",
      "source": [
        "bob.email\n",
        "# email은 EmailPerson만 가지고 있는 self.email=email에 의해서 bob@frapples.com가 출력된다."
      ],
      "metadata": {
        "id": "P_k9gDqaJR6R",
        "colab": {
          "base_uri": "https://localhost:8080/",
          "height": 35
        },
        "outputId": "f67a0620-d066-475e-bb82-a4a0569ca1bf"
      },
      "execution_count": 31,
      "outputs": [
        {
          "output_type": "execute_result",
          "data": {
            "text/plain": [
              "'bob@frapples.com'"
            ],
            "application/vnd.google.colaboratory.intrinsic+json": {
              "type": "string"
            }
          },
          "metadata": {},
          "execution_count": 31
        }
      ]
    },
    {
      "cell_type": "code",
      "source": [
        "class EmailPerson(Person):\n",
        "  def __init__(self, name, email):\n",
        "    self.name= name\n",
        "    self.email=email\n",
        "\n",
        "# super().__init__(name)이 아니라, self.name=name를 쓰면, 정의할수는 있지만, 상속을 사용할 수 없게 된다.\n",
        "# 일반 Person객체와 마찬가지로 Person 클래스를 활용하기 위해 super()를 사용했다.\n",
        "\n",
        "# 만약 Person 클래스의 정의가 나중에 바뀌면 Person 클래스로부터 상속받은 EmailPerson클래스의 속성과 메서드에 변경사항이 반영된다."
      ],
      "metadata": {
        "id": "tPQtQjz8LE8X"
      },
      "execution_count": 32,
      "outputs": []
    },
    {
      "cell_type": "markdown",
      "source": [
        "**6.7 자신:self**"
      ],
      "metadata": {
        "id": "RlwwDvd8aCwL"
      }
    },
    {
      "cell_type": "code",
      "source": [
        "# 파이썬은 적절한 객체의 속성과 메서드를 찾기 위해 self 인자를 사용한다.\n",
        "car=Car() # car객체의 Car 클래스를찾는다.\n",
        "car.exclaim() #car 객체를 Car 클래스의 exclaim() 메서드의 self 매개변수에 전달한다."
      ],
      "metadata": {
        "colab": {
          "base_uri": "https://localhost:8080/"
        },
        "id": "AJRKZy1zaC9M",
        "outputId": "a5c21526-ad7c-4b4b-f26c-9241aa67374a"
      },
      "execution_count": 34,
      "outputs": [
        {
          "output_type": "stream",
          "name": "stdout",
          "text": [
            "I'm a Car!\n"
          ]
        }
      ]
    },
    {
      "cell_type": "code",
      "source": [
        "Car.exclaim(car)\n",
        "\n",
        "class Car():\n",
        "  def exclaim(self):\n",
        "    print(\"I'm a Car!\")"
      ],
      "metadata": {
        "colab": {
          "base_uri": "https://localhost:8080/"
        },
        "id": "AmV1MOmUaC_s",
        "outputId": "2837cf8d-5e4a-4f1c-94e4-39a947417d11"
      },
      "execution_count": 37,
      "outputs": [
        {
          "output_type": "stream",
          "name": "stdout",
          "text": [
            "I'm a Car!\n"
          ]
        }
      ]
    },
    {
      "cell_type": "code",
      "source": [
        "a=1\n",
        "Car.exclaim(a)"
      ],
      "metadata": {
        "colab": {
          "base_uri": "https://localhost:8080/"
        },
        "id": "eEYb76ZzaDB9",
        "outputId": "5bd4025d-391f-412e-dbc2-e6dda525ac51"
      },
      "execution_count": 39,
      "outputs": [
        {
          "output_type": "stream",
          "name": "stdout",
          "text": [
            "I'm a Car!\n"
          ]
        }
      ]
    },
    {
      "cell_type": "markdown",
      "source": [
        "**6.8 get/set 속성값과 프로퍼티**"
      ],
      "metadata": {
        "id": "VNwZH7VGa7Ag"
      }
    },
    {
      "cell_type": "code",
      "source": [
        "# 어떤 객체 지향 언어에서는 외부로투버 바로 접근할 수 없는 private 객체 속성을 지원한다.\n",
        "# 프로그래머는 private 속성의 값을 쓰기 위해 getter, setter 메서드를 사용한다.\n",
        "\n",
        "# private: 외부에서 직접 접근하지 못하도록 getter()와 setter메서드를 정의한다."
      ],
      "metadata": {
        "id": "a7tw6m2AaDEr"
      },
      "execution_count": null,
      "outputs": []
    },
    {
      "cell_type": "code",
      "source": [
        "class Duck():\n",
        "  def __init__(self, input_name):\n",
        "    self.hidden_name=input_name\n",
        "    print('self.hidden_name 설정')\n",
        "\n",
        "  def get_name(self):\n",
        "    print('inside the getter 2')\n",
        "    return self.hidden_name\n",
        "\n",
        "  def set_name(self, input_name):\n",
        "    print('inside the setter 1')\n",
        "    self.hidden_name = input_name\n",
        "  name=property(get_name, set_name) # 마지막 라인에서 두 메서드를 name이라는 속성의 프로퍼티로 정의한다.\n",
        "# 1번째 인자: getter 메서드, 2번째 인사: setter 메서드"
      ],
      "metadata": {
        "id": "R-bgXt-YaDG_"
      },
      "execution_count": 46,
      "outputs": []
    },
    {
      "cell_type": "code",
      "source": [
        "fowl=Duck('Howard')\n",
        "fowl.name\n",
        "\n",
        "# Duck('Howard')의 값을 fowl이라는 object에 설정하면, 우선 def __init__로 self.hidden_name값에 Howard을 대입한다.\n",
        "# 입력값이 Howard니까, get_name 메서드에 의해 inside the getter 2가 출력 된 후, return에 의해\n",
        "# hidden_name인 \"Howard\"가 출력된다."
      ],
      "metadata": {
        "colab": {
          "base_uri": "https://localhost:8080/",
          "height": 72
        },
        "id": "iE351k6qcde9",
        "outputId": "490afc2e-425f-44c0-f3cf-1e5da6b7f479"
      },
      "execution_count": 47,
      "outputs": [
        {
          "output_type": "stream",
          "name": "stdout",
          "text": [
            "self.hidden_name 설정\n",
            "inside the getter 2\n"
          ]
        },
        {
          "output_type": "execute_result",
          "data": {
            "text/plain": [
              "'Howard'"
            ],
            "application/vnd.google.colaboratory.intrinsic+json": {
              "type": "string"
            }
          },
          "metadata": {},
          "execution_count": 47
        }
      ]
    },
    {
      "cell_type": "code",
      "source": [
        "fowl.get_name()"
      ],
      "metadata": {
        "colab": {
          "base_uri": "https://localhost:8080/",
          "height": 54
        },
        "id": "eXVqJ5A2aDJn",
        "outputId": "4588507d-b5ca-4af1-f710-971b532920ec"
      },
      "execution_count": 48,
      "outputs": [
        {
          "output_type": "stream",
          "name": "stdout",
          "text": [
            "inside the getter 2\n"
          ]
        },
        {
          "output_type": "execute_result",
          "data": {
            "text/plain": [
              "'Howard'"
            ],
            "application/vnd.google.colaboratory.intrinsic+json": {
              "type": "string"
            }
          },
          "metadata": {},
          "execution_count": 48
        }
      ]
    },
    {
      "cell_type": "code",
      "source": [
        "fowl.name='Daffy'"
      ],
      "metadata": {
        "colab": {
          "base_uri": "https://localhost:8080/"
        },
        "id": "I9doSbeyaDL6",
        "outputId": "ac48c1c8-8b28-4765-e80d-27beeff9b88f"
      },
      "execution_count": 49,
      "outputs": [
        {
          "output_type": "stream",
          "name": "stdout",
          "text": [
            "inside the setter 1\n"
          ]
        }
      ]
    },
    {
      "cell_type": "code",
      "source": [
        "fowl.name"
      ],
      "metadata": {
        "id": "HngwptSaJR8M",
        "colab": {
          "base_uri": "https://localhost:8080/",
          "height": 54
        },
        "outputId": "0b3c5d12-9cfc-4a3b-fa88-de1bafd4c48f"
      },
      "execution_count": 50,
      "outputs": [
        {
          "output_type": "stream",
          "name": "stdout",
          "text": [
            "inside the getter 2\n"
          ]
        },
        {
          "output_type": "execute_result",
          "data": {
            "text/plain": [
              "'Daffy'"
            ],
            "application/vnd.google.colaboratory.intrinsic+json": {
              "type": "string"
            }
          },
          "metadata": {},
          "execution_count": 50
        }
      ]
    },
    {
      "cell_type": "code",
      "source": [
        "fowl.set_name('daffy2')"
      ],
      "metadata": {
        "colab": {
          "base_uri": "https://localhost:8080/"
        },
        "id": "KvWcTA_zdyX2",
        "outputId": "a8c876fa-20f3-4e4b-b007-ba1566f41b24"
      },
      "execution_count": 52,
      "outputs": [
        {
          "output_type": "stream",
          "name": "stdout",
          "text": [
            "inside the setter 1\n"
          ]
        }
      ]
    },
    {
      "cell_type": "code",
      "source": [
        "fowl.name"
      ],
      "metadata": {
        "colab": {
          "base_uri": "https://localhost:8080/",
          "height": 54
        },
        "id": "kaFpkEAhegJA",
        "outputId": "15e30e9f-cc29-4d2d-c264-acc6d98ac744"
      },
      "execution_count": 53,
      "outputs": [
        {
          "output_type": "stream",
          "name": "stdout",
          "text": [
            "inside the getter 2\n"
          ]
        },
        {
          "output_type": "execute_result",
          "data": {
            "text/plain": [
              "'daffy2'"
            ],
            "application/vnd.google.colaboratory.intrinsic+json": {
              "type": "string"
            }
          },
          "metadata": {},
          "execution_count": 53
        }
      ]
    },
    {
      "cell_type": "code",
      "source": [
        "# 프로퍼티를 정의하는 또 다른 방법: 데커레이터\n",
        "# getter 메서드 앞에 @property 데커레이터를 쓴다.\n",
        "# setter 메서드 앞에 #name.setter 데커레이터를 쓴다.\n",
        "\n",
        "class Duck():\n",
        "  def __init__(self, input_name):\n",
        "    self.hidden_name=input_name\n",
        "    print('__init__메서드')\n",
        "  @property\n",
        "\n",
        "  def name(self):\n",
        "    print('inside the getter')\n",
        "    return self.hidden_name\n",
        "  @name.setter\n",
        "\n",
        "  def name(self, input_name):\n",
        "    print('inside the setter')\n",
        "    self.hidden_name = input_name\n",
        " # 데커레이터를 사용한 코드"
      ],
      "metadata": {
        "id": "SV_KqyBnegLh"
      },
      "execution_count": 56,
      "outputs": []
    },
    {
      "cell_type": "code",
      "source": [
        "fowl=Duck('Howard')\n",
        "fowl.name"
      ],
      "metadata": {
        "colab": {
          "base_uri": "https://localhost:8080/",
          "height": 72
        },
        "id": "XjYMWuWxkuhD",
        "outputId": "8e5adb69-6634-4820-d227-6b6145303a97"
      },
      "execution_count": 57,
      "outputs": [
        {
          "output_type": "stream",
          "name": "stdout",
          "text": [
            "__init__메서드\n",
            "inside the getter\n"
          ]
        },
        {
          "output_type": "execute_result",
          "data": {
            "text/plain": [
              "'Howard'"
            ],
            "application/vnd.google.colaboratory.intrinsic+json": {
              "type": "string"
            }
          },
          "metadata": {},
          "execution_count": 57
        }
      ]
    },
    {
      "cell_type": "code",
      "source": [
        "fowl.name='Donald'"
      ],
      "metadata": {
        "colab": {
          "base_uri": "https://localhost:8080/"
        },
        "id": "39mDdIoEkukY",
        "outputId": "5a026f5c-30df-49ea-e394-e674a06a77c7"
      },
      "execution_count": 59,
      "outputs": [
        {
          "output_type": "stream",
          "name": "stdout",
          "text": [
            "inside the setter\n"
          ]
        }
      ]
    },
    {
      "cell_type": "code",
      "source": [
        "fowl.name"
      ],
      "metadata": {
        "colab": {
          "base_uri": "https://localhost:8080/",
          "height": 54
        },
        "id": "F5gOp8EMkunD",
        "outputId": "b3d02d9f-dc01-46e1-b31d-2d4537e6d67f"
      },
      "execution_count": 60,
      "outputs": [
        {
          "output_type": "stream",
          "name": "stdout",
          "text": [
            "inside the getter\n"
          ]
        },
        {
          "output_type": "execute_result",
          "data": {
            "text/plain": [
              "'Donald'"
            ],
            "application/vnd.google.colaboratory.intrinsic+json": {
              "type": "string"
            }
          },
          "metadata": {},
          "execution_count": 60
        }
      ]
    },
    {
      "cell_type": "code",
      "source": [
        "fowl.hidden_name"
      ],
      "metadata": {
        "colab": {
          "base_uri": "https://localhost:8080/",
          "height": 35
        },
        "id": "BrQPVlZqkupW",
        "outputId": "0ef3797c-05ad-4528-b185-a084faa5ef4a"
      },
      "execution_count": 62,
      "outputs": [
        {
          "output_type": "execute_result",
          "data": {
            "text/plain": [
              "'Donald'"
            ],
            "application/vnd.google.colaboratory.intrinsic+json": {
              "type": "string"
            }
          },
          "metadata": {},
          "execution_count": 62
        }
      ]
    },
    {
      "cell_type": "code",
      "source": [
        "Duck.name"
      ],
      "metadata": {
        "colab": {
          "base_uri": "https://localhost:8080/"
        },
        "id": "TpBi5ITtleMg",
        "outputId": "97151c66-b932-4282-f4d7-4832716beadb"
      },
      "execution_count": 66,
      "outputs": [
        {
          "output_type": "execute_result",
          "data": {
            "text/plain": [
              "<property at 0x791b6c2554e0>"
            ]
          },
          "metadata": {},
          "execution_count": 66
        }
      ]
    },
    {
      "cell_type": "markdown",
      "source": [
        "**객체에 저장된 속성(hidden_name)을 참조하기 위해 name 프로퍼티를 사용.**"
      ],
      "metadata": {
        "id": "Zr3dLZzVjxkA"
      }
    },
    {
      "cell_type": "code",
      "source": [
        "class Circle():\n",
        "  def __init__(self, radius):\n",
        "    self.radius=radius\n",
        "\n",
        "  @property\n",
        "  def diameter(self):\n",
        "    return 2*self.radius\n",
        "\n",
        "# radius 속성과 계산된 diameter 프로퍼티를 가진 circle 클래스 정의"
      ],
      "metadata": {
        "id": "uoCk60lLkurq"
      },
      "execution_count": 68,
      "outputs": []
    },
    {
      "cell_type": "code",
      "source": [
        "c=Circle(5)\n",
        "c.radius"
      ],
      "metadata": {
        "colab": {
          "base_uri": "https://localhost:8080/"
        },
        "id": "RmO9oif0egN0",
        "outputId": "5a6211ce-d5d6-4fa8-d44a-ad8e19272e68"
      },
      "execution_count": 70,
      "outputs": [
        {
          "output_type": "execute_result",
          "data": {
            "text/plain": [
              "5"
            ]
          },
          "metadata": {},
          "execution_count": 70
        }
      ]
    },
    {
      "cell_type": "code",
      "source": [
        "c.diameter"
      ],
      "metadata": {
        "colab": {
          "base_uri": "https://localhost:8080/"
        },
        "id": "VE3COwvvegQd",
        "outputId": "fd672d64-2f72-4cec-c10c-6bca06745172"
      },
      "execution_count": 71,
      "outputs": [
        {
          "output_type": "execute_result",
          "data": {
            "text/plain": [
              "10"
            ]
          },
          "metadata": {},
          "execution_count": 71
        }
      ]
    },
    {
      "cell_type": "code",
      "source": [
        "c.radius=7\n",
        "print('c.radius값:',c.radius)\n",
        "print('c.diameter값:',c.diameter)"
      ],
      "metadata": {
        "colab": {
          "base_uri": "https://localhost:8080/"
        },
        "id": "p9tAUFzcmNX8",
        "outputId": "87d2523b-5806-483f-92c3-e92fdbcc4667"
      },
      "execution_count": 74,
      "outputs": [
        {
          "output_type": "stream",
          "name": "stdout",
          "text": [
            "c.radius값: 7\n",
            "c.diameter값: 14\n"
          ]
        }
      ]
    },
    {
      "cell_type": "code",
      "source": [
        "# 속성에 대한 setter 프로퍼티를 명시하지 않는다면, 외부로부터이 속성을 설정할 수 없다.\n",
        "# 이것은 읽기 전용 속성이다.\n",
        "c.diameter=20"
      ],
      "metadata": {
        "colab": {
          "base_uri": "https://localhost:8080/",
          "height": 184
        },
        "id": "vgIZ_0_TmNbD",
        "outputId": "c432093a-0b9b-4e62-e483-b620392283b7"
      },
      "execution_count": 75,
      "outputs": [
        {
          "output_type": "error",
          "ename": "AttributeError",
          "evalue": "can't set attribute 'diameter'",
          "traceback": [
            "\u001b[0;31m---------------------------------------------------------------------------\u001b[0m",
            "\u001b[0;31mAttributeError\u001b[0m                            Traceback (most recent call last)",
            "\u001b[0;32m<ipython-input-75-5551d1167e08>\u001b[0m in \u001b[0;36m<cell line: 3>\u001b[0;34m()\u001b[0m\n\u001b[1;32m      1\u001b[0m \u001b[0;31m# 속성에 대한 setter 프로퍼티를 명시하지 않는다면, 외부로부터이 속성을 설정할 수 없다.\u001b[0m\u001b[0;34m\u001b[0m\u001b[0;34m\u001b[0m\u001b[0m\n\u001b[1;32m      2\u001b[0m \u001b[0;31m# 이것은 읽기 전용 속성이다.\u001b[0m\u001b[0;34m\u001b[0m\u001b[0;34m\u001b[0m\u001b[0m\n\u001b[0;32m----> 3\u001b[0;31m \u001b[0mc\u001b[0m\u001b[0;34m.\u001b[0m\u001b[0mdiameter\u001b[0m\u001b[0;34m=\u001b[0m\u001b[0;36m20\u001b[0m\u001b[0;34m\u001b[0m\u001b[0;34m\u001b[0m\u001b[0m\n\u001b[0m",
            "\u001b[0;31mAttributeError\u001b[0m: can't set attribute 'diameter'"
          ]
        }
      ]
    },
    {
      "cell_type": "markdown",
      "source": [
        "**6.9 private 네임 맹글링**"
      ],
      "metadata": {
        "id": "MgE6P5rTnAIB"
      }
    },
    {
      "cell_type": "code",
      "source": [
        "# 파이썬은 클래스 정의 외부에서 볼 수 없도록 하는 속성에 대한 네이밍 컨벤션(naming convention)이 있다.\n",
        "class Duck():\n",
        "  def __init__(self, input_name):\n",
        "    self.__name = input_name\n",
        "\n",
        "  @property\n",
        "  def name(self):\n",
        "    print('inside the getter')\n",
        "    return self.__name\n",
        "\n",
        "  @name.setter\n",
        "  def name(self, input_name):\n",
        "    print('inside the setter')\n",
        "    self.__name=input_name"
      ],
      "metadata": {
        "id": "n1x9WsnDmNd-"
      },
      "execution_count": 76,
      "outputs": []
    },
    {
      "cell_type": "code",
      "source": [
        "fowl=Duck('Howard')\n",
        "fowl.name"
      ],
      "metadata": {
        "colab": {
          "base_uri": "https://localhost:8080/",
          "height": 54
        },
        "id": "pCW9_NaUmNgh",
        "outputId": "14404fba-38c1-485e-e983-b33f40265a5a"
      },
      "execution_count": 78,
      "outputs": [
        {
          "output_type": "stream",
          "name": "stdout",
          "text": [
            "inside the getter\n"
          ]
        },
        {
          "output_type": "execute_result",
          "data": {
            "text/plain": [
              "'Howard'"
            ],
            "application/vnd.google.colaboratory.intrinsic+json": {
              "type": "string"
            }
          },
          "metadata": {},
          "execution_count": 78
        }
      ]
    },
    {
      "cell_type": "code",
      "source": [
        "fowl.name='donald'"
      ],
      "metadata": {
        "colab": {
          "base_uri": "https://localhost:8080/"
        },
        "id": "xAgjwiXBnkB5",
        "outputId": "138f39ac-799b-4f49-e5a8-ac4d45f01350"
      },
      "execution_count": 79,
      "outputs": [
        {
          "output_type": "stream",
          "name": "stdout",
          "text": [
            "inside the setter\n"
          ]
        }
      ]
    },
    {
      "cell_type": "code",
      "source": [
        "fowl.name"
      ],
      "metadata": {
        "colab": {
          "base_uri": "https://localhost:8080/",
          "height": 54
        },
        "id": "NDCR9yPdnkER",
        "outputId": "2955fd4e-9bd3-45d8-b91d-3bc0166f1c81"
      },
      "execution_count": 80,
      "outputs": [
        {
          "output_type": "stream",
          "name": "stdout",
          "text": [
            "inside the getter\n"
          ]
        },
        {
          "output_type": "execute_result",
          "data": {
            "text/plain": [
              "'donald'"
            ],
            "application/vnd.google.colaboratory.intrinsic+json": {
              "type": "string"
            }
          },
          "metadata": {},
          "execution_count": 80
        }
      ]
    },
    {
      "cell_type": "code",
      "source": [
        "fowl.__name\n",
        "\n",
        "# __name 속성을 바로 접근할 수 없다."
      ],
      "metadata": {
        "colab": {
          "base_uri": "https://localhost:8080/",
          "height": 184
        },
        "id": "o_w0k7nWnkGw",
        "outputId": "e0dc0e7c-b332-4f8e-87a3-b075e4ebe38a"
      },
      "execution_count": 81,
      "outputs": [
        {
          "output_type": "error",
          "ename": "AttributeError",
          "evalue": "'Duck' object has no attribute '__name'",
          "traceback": [
            "\u001b[0;31m---------------------------------------------------------------------------\u001b[0m",
            "\u001b[0;31mAttributeError\u001b[0m                            Traceback (most recent call last)",
            "\u001b[0;32m<ipython-input-81-a2b552e19bcd>\u001b[0m in \u001b[0;36m<cell line: 1>\u001b[0;34m()\u001b[0m\n\u001b[0;32m----> 1\u001b[0;31m \u001b[0mfowl\u001b[0m\u001b[0;34m.\u001b[0m\u001b[0m__name\u001b[0m\u001b[0;34m\u001b[0m\u001b[0;34m\u001b[0m\u001b[0m\n\u001b[0m\u001b[1;32m      2\u001b[0m \u001b[0;34m\u001b[0m\u001b[0m\n\u001b[1;32m      3\u001b[0m \u001b[0;31m# __name 속성을 바로 접근할 수 없다.\u001b[0m\u001b[0;34m\u001b[0m\u001b[0;34m\u001b[0m\u001b[0m\n",
            "\u001b[0;31mAttributeError\u001b[0m: 'Duck' object has no attribute '__name'"
          ]
        }
      ]
    },
    {
      "cell_type": "code",
      "source": [
        "# 네이밍 컨벤션은 속성을 private로 만들지 않지만, 파이썬은 이 속성이 우연히 외부 코드에서 발견할 수 없도록\n",
        "# 이름을 맹글링 했다."
      ],
      "metadata": {
        "id": "xJH6qEL0nkI1"
      },
      "execution_count": null,
      "outputs": []
    },
    {
      "cell_type": "code",
      "source": [
        "fowl._Duck__name\n",
        "# inside the getter를 출력하지 않았다. 비록 이것이 속성을 완벽하게 보호할 수는 없지만, 네임 맹글링은 속성의\n",
        "# 의도적인 직접 접근을 어렵게 만든다."
      ],
      "metadata": {
        "colab": {
          "base_uri": "https://localhost:8080/",
          "height": 35
        },
        "id": "ykvCk21snkLQ",
        "outputId": "9c79c226-9978-42c3-96db-6a0917b55f6b"
      },
      "execution_count": 84,
      "outputs": [
        {
          "output_type": "execute_result",
          "data": {
            "text/plain": [
              "'donald'"
            ],
            "application/vnd.google.colaboratory.intrinsic+json": {
              "type": "string"
            }
          },
          "metadata": {},
          "execution_count": 84
        }
      ]
    },
    {
      "cell_type": "code",
      "source": [
        "class Duck():\n",
        "  def __init__(self, input_name):\n",
        "    self.__name = input_name\n",
        "\n",
        "  @property\n",
        "  def name(self):\n",
        "    print('inside the getter')\n",
        "    return self.__name\n",
        "\n",
        "  @name.setter\n",
        "  def name(self, input_name):\n",
        "    print('inside the setter')\n",
        "    self.__name=input_name"
      ],
      "metadata": {
        "id": "fkCBdynnnkNn"
      },
      "execution_count": null,
      "outputs": []
    }
  ]
}
