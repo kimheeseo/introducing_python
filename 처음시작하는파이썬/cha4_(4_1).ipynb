{
  "nbformat": 4,
  "nbformat_minor": 0,
  "metadata": {
    "colab": {
      "provenance": [],
      "authorship_tag": "ABX9TyMwe+oqWqGEKlD4SipRT+Uf",
      "include_colab_link": true
    },
    "kernelspec": {
      "name": "python3",
      "display_name": "Python 3"
    },
    "language_info": {
      "name": "python"
    }
  },
  "cells": [
    {
      "cell_type": "markdown",
      "metadata": {
        "id": "view-in-github",
        "colab_type": "text"
      },
      "source": [
        "<a href=\"https://colab.research.google.com/github/kimheeseo/python/blob/main/cha4_(4_1).ipynb\" target=\"_parent\"><img src=\"https://colab.research.google.com/assets/colab-badge.svg\" alt=\"Open In Colab\"/></a>"
      ]
    },
    {
      "cell_type": "code",
      "execution_count": 1,
      "metadata": {
        "id": "0lFE24eTRFL5",
        "colab": {
          "base_uri": "https://localhost:8080/"
        },
        "outputId": "ac8497b9-05c6-4d52-fda7-f9e555c9dbbb"
      },
      "outputs": [
        {
          "output_type": "stream",
          "name": "stdout",
          "text": [
            "no comment: quotes make the # harmless.\n"
          ]
        }
      ],
      "source": [
        "# 4.1 코멘트 달기: #\n",
        "# 프로그램에서 코멘트(comment)는 인터프리터에 의해 무시되는 텍스트의 한 부분이다.\n",
        "# 코드를 설명하거나 나중에 어떤 문제를 고치기 위해 표시를 하는 등 다양한 목적으로 코멘트를 사용할 수 있다.\n",
        "\n",
        "# 문자가 문자열 안에 있다면, 코멘트가 아닌 평범한 문자로 돌아가게 된다.\n",
        "print('no comment: quotes make the # harmless.')"
      ]
    },
    {
      "cell_type": "code",
      "source": [
        "# 4.2 라인 유지하기: \\\n",
        "# 라인이 적당하게 짧다면 프로그램을 더 쉽게 읽을 수 있다.\n",
        "# 80 길이 안에 넣고 싶은 코드를 모두 입력할 수 없다면 백슬리시(\\) 문자를 입력한 후\n",
        "# 다음 라인에 계속 입력한다(라인 유지). 라인의 끝에 \\를 입력하면, 파이썬은 다음 라인을 여전히\n",
        "# 같은 라인으로 인식한다.\n",
        "\n",
        "alphabet=''\n",
        "alphabet+='abcdefg'\n",
        "alphabet+='hijklmnop'\n",
        "alphabet+='qrstuv'\n",
        "alphabet+='wxyz'\n",
        "\n",
        "print('alphabet값:',alphabet)\n",
        "# 작은 문자열을 긴 문자열로 만들고 싶을 때 여러 단계에 걸쳐 문자열을 붙일 수 있다."
      ],
      "metadata": {
        "colab": {
          "base_uri": "https://localhost:8080/"
        },
        "id": "xCG1leaIsgkP",
        "outputId": "aa1ef8a6-6edd-4484-d0f0-c55e5b41aca7"
      },
      "execution_count": 3,
      "outputs": [
        {
          "output_type": "stream",
          "name": "stdout",
          "text": [
            "alphabet값: abcdefghijklmnopqrstuvwxyz\n"
          ]
        }
      ]
    },
    {
      "cell_type": "code",
      "source": [
        "alphabet='abcdefg'+\\\n",
        "  'hijklmnop' +\\\n",
        "  'qrstuv' +\\\n",
        "  'wxyz'\n",
        "print('alphabet값:',alphabet)"
      ],
      "metadata": {
        "colab": {
          "base_uri": "https://localhost:8080/"
        },
        "id": "h5op_PMDsgdk",
        "outputId": "e320784e-6823-420d-baea-edabe61f0208"
      },
      "execution_count": 5,
      "outputs": [
        {
          "output_type": "stream",
          "name": "stdout",
          "text": [
            "alphabet값: abcdefghijklmnopqrstuvwxyz\n"
          ]
        }
      ]
    },
    {
      "cell_type": "code",
      "source": [
        "# 4.3 비교하기: if,elif,else\n",
        "disaster=True\n",
        "if disaster:\n",
        "  print(\"Woel\")\n",
        "else:\n",
        "  print(\"wheel\")\n",
        "# 부울 변수 disater의 값을 확인하고, 적절한 단어를 출력하는 작은 프로그램.\n",
        "# if와 else는 조건이 참인지 거짓인지 확인하는 파이썬의 선언문이다.\n",
        "# print(): 화면에 객체를 출력하는 파이썬의 내장함수(bulit-in-function)"
      ],
      "metadata": {
        "colab": {
          "base_uri": "https://localhost:8080/"
        },
        "id": "X5AG6zMDsgaC",
        "outputId": "78fef4fe-3d47-41ba-bde1-80b55c13d76c"
      },
      "execution_count": 6,
      "outputs": [
        {
          "output_type": "stream",
          "name": "stdout",
          "text": [
            "Woel\n"
          ]
        }
      ]
    },
    {
      "cell_type": "code",
      "source": [
        "# 각 print() 라인은 조건 테스트 아래에서 \"들여쓰기\" 되어 있다.\n",
        "# 들여쓰기는 같은 칸수로 왼쪽에서 들여써야 한다.\n",
        "\n",
        "# ex) if furry:\n",
        "#       print(\"it's a cat.\")\n",
        "\n",
        "# 여러 단계에 걸쳐 조건 테스트 안에서 조건 테스트\n",
        "furry=True\n",
        "small=True\n",
        "if furry:\n",
        "  if small:\n",
        "    print(\"It's a cat.\")\n",
        "  else:\n",
        "    print(\"It's a bear!\")\n",
        "else:\n",
        "  if small:\n",
        "    print(\"It's a skink!\")\n",
        "  else:\n",
        "    print(\"It's a human. Or a  hairless bear.\")\n",
        "\n",
        "# 파이썬에서는 들여쓰기를 보면 if와 else 부분이 어떻게 짝을 이루는 지 알 수 있다.\n",
        "# 첫 번째 조건 테스트는 furry를 확인한다. furry가 True이므로 들여쓰기 된 small을 조건 테스트한다.\n",
        "# 그리고 또한 small에 True를 할당했기 때문에, 다음 라인을 실행하여 It's a cat을 출력한다."
      ],
      "metadata": {
        "colab": {
          "base_uri": "https://localhost:8080/"
        },
        "id": "HV8ngs03sgU0",
        "outputId": "77fe4a39-bb2e-4ef6-f284-7425c4826c23"
      },
      "execution_count": 7,
      "outputs": [
        {
          "output_type": "stream",
          "name": "stdout",
          "text": [
            "It's a cat.\n"
          ]
        }
      ]
    },
    {
      "cell_type": "code",
      "source": [
        "# <연산자>\n",
        "# 비교연산자\n",
        "# 1) ==: 같다.\n",
        "# 2) !=: 다르다.\n",
        "# 3) <: 보다 작다.\n",
        "# 4) <=: 보다 작거나 같다.\n",
        "# 5) >=: 보다 크거나 같다.\n",
        "# 6) in...: 멤버십\n",
        "\n",
        "# 비교 연산자는 부울값 True 혹은 False를 반환한다."
      ],
      "metadata": {
        "id": "yLU6B5uTsgXb"
      },
      "execution_count": 8,
      "outputs": []
    },
    {
      "cell_type": "code",
      "source": [
        "# 부울 연산자는 비교 연산자보다 우선 순위가 낮다.\n",
        "x=7\n",
        "5<x and x<10 # true\n",
        "\n",
        "# 5<x: 비교 연산자(True)\n",
        "# x<10: 비교 연산자(True)\n",
        "# True and True를 계산해서 True가 반환된다.\n",
        "\n",
        "# 4.3.1 True와 False\n",
        "# 확인할 요소가 부울형이 아니라면 True와 False를 어떻게 구분할까?\n",
        "# False로 간주: null, 정수 0, 부동소수점수 0, 빈 문자열, 빈 리스트, 빈 튜플, 빈 셋\n",
        "# 이 외에 다른 것들은 True로 간주된다.\n",
        "\n",
        "some_list=[] # false\n",
        "if some_list:\n",
        "  print('true')\n",
        "else:\n",
        "  print('false')\n",
        "# 변수가 아닌 표현식을 테스트한다면, 파이썬은 표현식을 계산하고 부울 결과로 반환한다."
      ],
      "metadata": {
        "colab": {
          "base_uri": "https://localhost:8080/"
        },
        "id": "hnhvSjc6wyLr",
        "outputId": "6e0c710f-ff05-4079-fba3-f63c7317820d"
      },
      "execution_count": 10,
      "outputs": [
        {
          "output_type": "stream",
          "name": "stdout",
          "text": [
            "false\n"
          ]
        }
      ]
    },
    {
      "cell_type": "code",
      "source": [
        "# 4.4 반복하기: while\n",
        "# 한 번 이상 뭔가 실행하려 할 때는 루프(loop)가 필요하다. 파이썬에서 가장 간단한 루핑 메커니즘은 while문이다.\n",
        "count=1\n",
        "while count<=5: # while 문은 count의 값이 5보다 작거나 같은지 계속 비교한다.\n",
        "  print('count값:',count)\n",
        "  count+=1 # count+=1 문장에 의해 count 변수의 값이 1 증가한다. 파이썬은 루프문의 맨 위로 돌아가서 다시 비교를 시작한다.\n",
        "# 이제 count 변수의 값은 2다. 또 다시 while 문의 내용을 실행하고, count 변수의 값은 3이 된다.\n",
        "\n",
        "# 4.4.1 중단하기: break\n",
        "while True:\n",
        "  stuff=input(\"string to capitalize [type q to quit]:\")\n",
        "  if stuff == \"q\":\n",
        "    break\n",
        "  print(stuff.capitalize())\n",
        "# input함수를 통해 키보드에서 한 라인을 읽은 후 첫번째 문자를 대문자로 출력(capitalize)한다."
      ],
      "metadata": {
        "colab": {
          "base_uri": "https://localhost:8080/"
        },
        "id": "4tVNnCX-wyIG",
        "outputId": "435750f9-9d64-4495-ca51-3b30771a2369"
      },
      "execution_count": 20,
      "outputs": [
        {
          "name": "stdout",
          "output_type": "stream",
          "text": [
            "count값: 1\n",
            "count값: 2\n",
            "count값: 3\n",
            "count값: 4\n",
            "count값: 5\n",
            "string to capitalize [type q to quit]:dsfsfs\n",
            "Dsfsfs\n",
            "string to capitalize [type q to quit]:qweqwe\n",
            "Qweqwe\n",
            "string to capitalize [type q to quit]:q\n"
          ]
        }
      ]
    },
    {
      "cell_type": "code",
      "source": [
        "# 4.4.2 건너뛰기: continue\n",
        "# 반복문을 중단하고 싶지는 않지만, 몇몇 이유로 다음 루프로 건너뛰고 싶은 때가 있다.\n",
        "while True:\n",
        "  value=input('ineger, please [q to quit]:')\n",
        "  if value == 'q':\n",
        "    break # q를 입력하면 반복문을 종료한다.\n",
        "  number=int(value)\n",
        "  if number % 2 ==0:\n",
        "    continue\n",
        "  print(number, 'squared is', number * number)\n",
        " # 정수가 홀수 일때는 그 수의 제곱을 출력하고, 짝수일 때는 다음 루프로 건너뛴다."
      ],
      "metadata": {
        "colab": {
          "base_uri": "https://localhost:8080/"
        },
        "id": "KIQs-x-ZwyFh",
        "outputId": "3f734d99-8f9b-4296-ca66-1c3861aae493"
      },
      "execution_count": 22,
      "outputs": [
        {
          "name": "stdout",
          "output_type": "stream",
          "text": [
            "ineger, please [q to quit]:1\n",
            "1 squared is 1\n",
            "ineger, please [q to quit]:2\n",
            "ineger, please [q to quit]:4\n",
            "ineger, please [q to quit]:3\n",
            "3 squared is 9\n",
            "ineger, please [q to quit]:q\n"
          ]
        }
      ]
    },
    {
      "cell_type": "code",
      "source": [
        "# 4.4.3 break 확인하기: else\n",
        "# break는 어떤 것을 체크하여 그것을 발견했을 경우 종료하는 whlie문을 작성할 때 사용한다.\n",
        "# while문이 모두 실행되었지만 발견하지 못했을 경우에는 else가 실행된다.\n",
        "\n",
        "numbers=[1,3,5]\n",
        "position=0\n",
        "while position < len(numbers):\n",
        "  number=numbers[position]\n",
        "  print('number값',number)\n",
        "  if number %2 ==0:\n",
        "    print('found even number',number)\n",
        "    break\n",
        "  position +=1\n",
        "\n",
        "else: # break가 호출되지 않았다.\n",
        "    print('no even number found')"
      ],
      "metadata": {
        "colab": {
          "base_uri": "https://localhost:8080/"
        },
        "id": "8sCPjQy7wyDQ",
        "outputId": "80c3141b-cb38-4688-995e-8d5a45530c2f"
      },
      "execution_count": 26,
      "outputs": [
        {
          "output_type": "stream",
          "name": "stdout",
          "text": [
            "number값 1\n",
            "number값 3\n",
            "number값 5\n",
            "no even number found\n"
          ]
        }
      ]
    },
    {
      "cell_type": "code",
      "source": [
        "# 4.5 순회하기: for\n",
        "# 파이썬에서 iterator는 자주 유용하게 쓰인다.\n",
        "# 이터레이터: 반복 가능한 객체를 순차적으로 접근할 수 있는 객체.\n",
        "\n",
        "# 4.5.1 중단하기: break\n",
        "# for문의 break는 while 문의 break와 똑같이 동작한다.\n",
        "\n",
        "# 4.5.2 건너뛰기: continue\n",
        "# for 문의 continue는 while문의 continue와 똑같이 동작한다.\n",
        "\n",
        "# 4.5.3 break 확인하기: else\n",
        "cheeses=[]\n",
        "for cheese in cheeses:\n",
        "  print('This shop has some lovely', cheese)\n",
        "  break\n",
        "else:\n",
        "  print('this is not much of a cheese shop, is it?')\n",
        "# else문은 break 문에 의해 반복문이 중단되었는 지 확인한다."
      ],
      "metadata": {
        "colab": {
          "base_uri": "https://localhost:8080/"
        },
        "id": "MfyQ_ewywyBF",
        "outputId": "8106da75-03c1-4646-b209-2e449857821f"
      },
      "execution_count": 30,
      "outputs": [
        {
          "output_type": "stream",
          "name": "stdout",
          "text": [
            "this is not much of a cheese shop, is it?\n"
          ]
        }
      ]
    },
    {
      "cell_type": "markdown",
      "source": [
        "**iteration: 순회**"
      ],
      "metadata": {
        "id": "bWeNFqiNH9B3"
      }
    },
    {
      "cell_type": "code",
      "source": [
        "# 순회: iteration\n",
        "# 데이터의 집합에서 각 요소를 하나씩 접근하여 작업을 수행하는 과정\n",
        "\n",
        "# for문이 리스트와 같은 반복 가능한 객체에 있는 값들을 순차적으로 접근하여 특정 작업을\n",
        "# 수행하는 과정을 순회(iteration)라고 합니다.\n",
        "\n",
        "# \"순회\"라는 용어는 for문이 반복 가능한 객체의 요소들을 처음부터 끝까지 하나씩 접근하며 처리하는 것을 의미합니다."
      ],
      "metadata": {
        "id": "ox9L5Wf8HCRx"
      },
      "execution_count": 51,
      "outputs": []
    },
    {
      "cell_type": "code",
      "source": [
        "accusation={'room':'ballroom','weapon':'lead pipe','person':'Col.mustrad'}\n",
        "# <키:keys>\n",
        "for card in accusation:\n",
        "  print(card) # 딕셔너리의 순회는 키를 반환한다.\n",
        "print('\\n')\n",
        "\n",
        "# <값: values>\n",
        "for value in accusation.values():\n",
        "  print('value값:', value)\n",
        "print('\\n')\n",
        "\n",
        "# <튜플: tuple>\n",
        "for item in accusation.items():\n",
        "  print(item) # 튜플의 1번째 내용은 card(키)에, 2번째 내용은 contents(값)에 할당"
      ],
      "metadata": {
        "colab": {
          "base_uri": "https://localhost:8080/"
        },
        "id": "LRnCSr9rwx9h",
        "outputId": "1898e7a9-faee-4755-8d18-ba38dddb2eda"
      },
      "execution_count": 41,
      "outputs": [
        {
          "output_type": "stream",
          "name": "stdout",
          "text": [
            "room\n",
            "weapon\n",
            "person\n",
            "\n",
            "\n",
            "value값: ballroom\n",
            "value값: lead pipe\n",
            "value값: Col.mustrad\n",
            "\n",
            "\n",
            "('room', 'ballroom')\n",
            "('weapon', 'lead pipe')\n",
            "('person', 'Col.mustrad')\n"
          ]
        }
      ]
    },
    {
      "cell_type": "code",
      "source": [
        "# 4.5.4 여러 시퀀스 순회하기\n",
        "# zip()함수를 사용해서 여러 시퀀스를 병렬로 순회하는 것.\n",
        "days=['monday','tuesday','wednesday']\n",
        "fruits=['banana','orange','peach']\n",
        "drinks=['coffee','tea','beer']\n",
        "desserts=['tiramisu','ice cream','pie','pudding']\n",
        "for day, fruit, drink,dessert in zip(days, fruits, drinks, desserts):\n",
        "  print(day,\":drink\",drink,\"-eat\",fruit,\"-enjoy\",dessert)\n",
        "\n",
        "# 여러 시퀀스 중 가장 짧은 시퀀스가 완료되면 zip()은 멈춘다.\n",
        "# desserts가 다른 리스트보다 길지만, 가장 짧은 시퀀스가 완료되어 멈추기 때문에, pudding은 사용하지 않는다."
      ],
      "metadata": {
        "colab": {
          "base_uri": "https://localhost:8080/"
        },
        "id": "F8tryv7Pwx7Q",
        "outputId": "b6a577cd-6fad-4318-89f9-81c6604bcbdd"
      },
      "execution_count": 42,
      "outputs": [
        {
          "output_type": "stream",
          "name": "stdout",
          "text": [
            "monday :drink coffee -eat banana -enjoy tiramisu\n",
            "tuesday :drink tea -eat orange -enjoy ice cream\n",
            "wednesday :drink beer -eat peach -enjoy pie\n"
          ]
        }
      ]
    },
    {
      "cell_type": "code",
      "source": [
        "# zip()함수로 여러 시퀀스를 순회하며, 동일한 오프셋에 있는 항목으로부터 튜플을 만들 수 있다.\n",
        "english='monday', 'tuseday','wednesday'\n",
        "french='lundi','mardi','mercredi'\n",
        "\n",
        "a=list(zip(english,french))\n",
        "b=dict(zip(english, french))\n",
        "\n",
        "print('list값:',a)\n",
        "print('dict값:',b)\n",
        "\n",
        "# zip함수: 두 개 이상의 리스트를 짝지어 새로운 리스트를 만들 수 있습니다."
      ],
      "metadata": {
        "colab": {
          "base_uri": "https://localhost:8080/"
        },
        "id": "SuZtAhTWwxp-",
        "outputId": "52ed3f34-3190-4ca7-e5fa-7b56f4ed4299"
      },
      "execution_count": 48,
      "outputs": [
        {
          "output_type": "stream",
          "name": "stdout",
          "text": [
            "list값: [('monday', 'lundi'), ('tuseday', 'mardi'), ('wednesday', 'mercredi')]\n",
            "dict값: {'monday': 'lundi', 'tuseday': 'mardi', 'wednesday': 'mercredi'}\n"
          ]
        }
      ]
    },
    {
      "cell_type": "code",
      "source": [
        "# 4.5.5 숫자 시퀀스 생성하기: range()\n",
        "# range()함수는 특정 범위내에서 숫자 스트림을 반환한다.\n",
        "\n",
        "# 형식: range(start, stop, step)\n",
        "# 만약 start를 생략하면 범위는 0에서 시작한다.\n",
        "# 슬라이스와 마찬가지로 범위의 긑은 stop의 바로 직전 값이다. step의 기본값은 1이다.\n",
        "# step을 -1로 지정하여 끝에서부터 거꾸로 진행할 수 있다.\n",
        "\n",
        "# zip(), range(): 순회가능한 객체를 반환한다. (for ~ in형태로 값을 순회할 수 있다.)\n",
        "# 객체를 리스트와 같은 시퀀스로 변환할 수 있다."
      ],
      "metadata": {
        "id": "WjgSDtV8sgSV"
      },
      "execution_count": 18,
      "outputs": []
    },
    {
      "cell_type": "code",
      "source": [
        " for x in range(0,3):\n",
        "  print('1씩 증가:',x)\n",
        "\n",
        "for x in range(2,-1,-1):\n",
        "  print('1씩 감소:',x)"
      ],
      "metadata": {
        "colab": {
          "base_uri": "https://localhost:8080/"
        },
        "id": "MdQkshlZ2Aiq",
        "outputId": "fbe43ba2-2cb5-4d8c-80ca-3f955bf04f30"
      },
      "execution_count": 60,
      "outputs": [
        {
          "output_type": "stream",
          "name": "stdout",
          "text": [
            "1씩 증가: 0\n",
            "1씩 증가: 1\n",
            "1씩 증가: 2\n",
            "1씩 감소: 2\n",
            "1씩 감소: 1\n",
            "1씩 감소: 0\n"
          ]
        }
      ]
    },
    {
      "cell_type": "code",
      "source": [
        "# 4.6 컴프리헨션: comprehension\n",
        "# 1) 하나 이상의 이터레이터로부터 파이썬의 자료구조를 만드는 콤팩트한 방법.\n",
        "# 2) 파이썬의 자료구조(list, dictionary, set)에 데이터를 좀 더 쉽고 간결하게 담기 위한 문법.\n",
        "# 3) 컴프리헨션은 데이터를 간결하고 효율적인 문법으로 리스트, 딕셔너리, 집합 등의 형태로 정리하고 생성하는 것."
      ],
      "metadata": {
        "id": "kSw_gqxXLEUu"
      },
      "execution_count": 62,
      "outputs": []
    },
    {
      "cell_type": "code",
      "source": [
        "# 4.6.1 리스트 컴프리헨션\n",
        "number_list=[]\n",
        "number_list.append(1)\n",
        "print('number_list값:',number_list)\n",
        "number_list.append(2)\n",
        "print('number_list값:',number_list)\n",
        "number_list.append(3)\n",
        "print('number_list값:',number_list)\n",
        "number_list.append(4)\n",
        "print('number_list값:',number_list)\n",
        "number_list.append(5)\n",
        "print('number_list값:',number_list)"
      ],
      "metadata": {
        "colab": {
          "base_uri": "https://localhost:8080/"
        },
        "id": "9LQg_UBwLEXh",
        "outputId": "3b11096a-5467-4ced-ad89-880af9602720"
      },
      "execution_count": 61,
      "outputs": [
        {
          "output_type": "stream",
          "name": "stdout",
          "text": [
            "number_list값: [1]\n",
            "number_list값: [1, 2]\n",
            "number_list값: [1, 2, 3]\n",
            "number_list값: [1, 2, 3, 4]\n",
            "number_list값: [1, 2, 3, 4, 5]\n"
          ]
        }
      ]
    },
    {
      "cell_type": "code",
      "source": [
        "# 이터레이터와 range()함수를 사용하여 만들 수 있다.\n",
        "number_list=[]\n",
        "for number in range(1,6):\n",
        "  number_list.append(number)\n",
        "print('number_list값:',number_list)"
      ],
      "metadata": {
        "colab": {
          "base_uri": "https://localhost:8080/"
        },
        "id": "nLZfjSofLEaH",
        "outputId": "001ccfc1-caec-40fd-db70-b7fa9832e3dd"
      },
      "execution_count": 63,
      "outputs": [
        {
          "output_type": "stream",
          "name": "stdout",
          "text": [
            "number_list값: [1, 2, 3, 4, 5]\n"
          ]
        }
      ]
    },
    {
      "cell_type": "code",
      "source": [
        "number_list=[]\n",
        "number_list=[number for number in range(1,6)]\n",
        "# 리스트 컴프리헨션은 대괄호 안에 루프가 있다.\n",
        "# 리스트 컴프리헨션: [표현식 for 항목 in 순회 가능한 객체 if 조건]\n",
        "\n",
        "print('number_list값:',number_list)"
      ],
      "metadata": {
        "colab": {
          "base_uri": "https://localhost:8080/"
        },
        "id": "sIQUHgW1LEdu",
        "outputId": "f3ab491b-af41-47c2-a439-9565246de30d"
      },
      "execution_count": 64,
      "outputs": [
        {
          "output_type": "stream",
          "name": "stdout",
          "text": [
            "number_list값: [1, 2, 3, 4, 5]\n"
          ]
        }
      ]
    },
    {
      "cell_type": "code",
      "source": [
        "# 1과 5 사이에서 홀수 리스트를 만드는 새 컴프리헨션\n",
        "a_list=[number for number in range(1,6) if number %2 ==1]\n",
        "a_list"
      ],
      "metadata": {
        "colab": {
          "base_uri": "https://localhost:8080/"
        },
        "id": "_6FVEjtpPW2s",
        "outputId": "46c37f2c-873a-4fe1-fa51-74c8be23d7c0"
      },
      "execution_count": 65,
      "outputs": [
        {
          "output_type": "execute_result",
          "data": {
            "text/plain": [
              "[1, 3, 5]"
            ]
          },
          "metadata": {},
          "execution_count": 65
        }
      ]
    }
  ]
}
