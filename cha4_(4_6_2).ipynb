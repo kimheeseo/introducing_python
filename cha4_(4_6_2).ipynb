{
  "nbformat": 4,
  "nbformat_minor": 0,
  "metadata": {
    "colab": {
      "provenance": [],
      "authorship_tag": "ABX9TyOYOW4d+NMcudK7KV/z1MFw",
      "include_colab_link": true
    },
    "kernelspec": {
      "name": "python3",
      "display_name": "Python 3"
    },
    "language_info": {
      "name": "python"
    }
  },
  "cells": [
    {
      "cell_type": "markdown",
      "metadata": {
        "id": "view-in-github",
        "colab_type": "text"
      },
      "source": [
        "<a href=\"https://colab.research.google.com/github/kimheeseo/python/blob/main/cha4_(4_6_2).ipynb\" target=\"_parent\"><img src=\"https://colab.research.google.com/assets/colab-badge.svg\" alt=\"Open In Colab\"/></a>"
      ]
    },
    {
      "cell_type": "code",
      "execution_count": 6,
      "metadata": {
        "colab": {
          "base_uri": "https://localhost:8080/"
        },
        "id": "JSyl5ySDhV-o",
        "outputId": "a1a864b1-c55a-461b-b293-0dd2205c00cb"
      },
      "outputs": [
        {
          "output_type": "stream",
          "name": "stdout",
          "text": [
            "a_list값: [1, 3, 5]\n",
            "a_list값: [1, 3, 5]\n"
          ]
        }
      ],
      "source": [
        "# 리스트 컴프리헨션: 대괄호[] 안에 루프가 있다.\n",
        "# [표현식 for 항목 in 순회 가능한 객체 if 조건]\n",
        "a_list=[number for number in range(1,6) if number % 2== 1]\n",
        "print('a_list값:',a_list)\n",
        "# 컴프리헨션이 지금까지 사용했던 방식보다 좀 더 콤팩트해진다.\n",
        "\n",
        "a_list=[]\n",
        "for number in range(1,6):\n",
        "  if number % 2 ==1:\n",
        "    a_list.append(number)\n",
        "print('a_list값:',a_list)"
      ]
    },
    {
      "cell_type": "code",
      "source": [
        "# 4.6.2 딕셔너리 컴프리헨션\n",
        "#{키_표현식 : 값_표현식 for 표현식 in 순회 가능한 객체}\n",
        "word='letters'\n",
        "letter_counts={letter: word.count(letter) for letter in word}\n",
        "print(letter_counts)"
      ],
      "metadata": {
        "colab": {
          "base_uri": "https://localhost:8080/"
        },
        "id": "smmZf--6hYWi",
        "outputId": "bfd93b9b-4649-4fe4-eade-2e2a2c3190c4"
      },
      "execution_count": 8,
      "outputs": [
        {
          "output_type": "stream",
          "name": "stdout",
          "text": [
            "{'l': 1, 'e': 2, 't': 2, 'r': 1, 's': 1}\n"
          ]
        }
      ]
    },
    {
      "cell_type": "code",
      "source": [
        "# 4.6.3 셋 컴프리헨션\n",
        "# {표현식 for 표현식 in 순회 가능한 객체}\n",
        "\n",
        "# 4.6.4 제너레이터 컴프리헨션\n",
        "# 튜플은 컴프리헨션이 없다.\n",
        "number_thing=(number for number in range(1,6))\n",
        "print('number_thing type값',type(number_thing))\n",
        "# 제너레이터는 이터레이터에 데이터를 제공하는 하나의 방법이다.\n",
        "# 제너레이터는 한 번만 실행될 수 있다 리스트, 셋, 문자열, 딕셔너리는 메모리에 존재하지만,\n",
        "# 제너레이터는 즉석에서 그 값을 생서하고, 이터레이터를 통해서 한 번에 값을 하나씩 처리한다."
      ],
      "metadata": {
        "colab": {
          "base_uri": "https://localhost:8080/"
        },
        "id": "rbxkY0MMhYZJ",
        "outputId": "db0612a0-1eb8-4401-a831-b071de9010ce"
      },
      "execution_count": 7,
      "outputs": [
        {
          "output_type": "stream",
          "name": "stdout",
          "text": [
            "number_thing type값 <class 'generator'>\n"
          ]
        }
      ]
    },
    {
      "cell_type": "code",
      "source": [
        "# 4.7 함수\n",
        "# 함수: 코드의 재사용\n",
        "# 파이썬 함수를 정의하기 위해서는 def와 함수이름, 괄호를 입력한다.\n",
        "def do_nothing():\n",
        "  pass\n",
        "# 함수에 매개변수가 없더라도, 함수를 정의하기 위해 콜론을 입력해야 한다.\n",
        "def agree():\n",
        "  return True\n",
        "# 매개변수가 없지만 True값을 반환하는 함수를 정의해보자.\n",
        "# 함수를 if문의 조건 테스트, whlie문과 같은 루프와 함께 사용한다면 이전에 할 수 없었던 일들을 할 수 있게 된다."
      ],
      "metadata": {
        "id": "wzHDx5sAhYbx"
      },
      "execution_count": 9,
      "outputs": []
    },
    {
      "cell_type": "code",
      "source": [
        "def echo(anything):\n",
        "  return anything+'  '+anything\n",
        "# anything: 매개변수와 함께 echo()함수를 정의해보자.\n",
        "\n",
        "echo('Rumplestiltskin')\n",
        "# 인자와 함수를 호출하면 인자의 값은 함수 내에서 해당하는 매개변수에 복사된다.\n",
        "# 'Rumplestiltskin문자열 인자와 함께 echo()함수를 호출했다. 이 문자열값은 echo()의 anything 매개변수에 복사된다.\n",
        "# 함수의 인자는 개수에 상관없이 모든 타입의 인자를 취할 수 있다. 반환값도 마찬가지로 개수에 상관없이 모든 타입을 반환할 수 있다.\n",
        "# 만약 함수가 명시적으로 return을 호출하지 않으면 호출자는 반환값으로 None을 얻는다."
      ],
      "metadata": {
        "colab": {
          "base_uri": "https://localhost:8080/",
          "height": 35
        },
        "id": "ijPHN3X-hYeB",
        "outputId": "e39b6319-998b-4b1f-9407-baaf366d8df5"
      },
      "execution_count": 10,
      "outputs": [
        {
          "output_type": "execute_result",
          "data": {
            "text/plain": [
              "'Rumplestiltskin  Rumplestiltskin'"
            ],
            "application/vnd.google.colaboratory.intrinsic+json": {
              "type": "string"
            }
          },
          "metadata": {},
          "execution_count": 10
        }
      ]
    },
    {
      "cell_type": "code",
      "source": [
        "# 4.7.1 위치인자\n",
        "# 인자의 가장 익숙한 타입은 값을 순서대로 상응하는 매개변수에 복사하는 위치 인자(positional arguments)\n",
        "def menu(wine, entree, dessert):\n",
        "  return {'wine':wine, 'entree':entree, 'dessert':dessert}\n",
        "menu('chardonnay','chicken','cake')\n",
        "# menu의 wine에 해당하는 인자가 chardonnay, entree는 chicekn, dessert는 cake를 대입\n",
        "# 위치 인자의 단점: 각 위치의 의미를 알아야 한다는 것이다."
      ],
      "metadata": {
        "colab": {
          "base_uri": "https://localhost:8080/"
        },
        "id": "InieYJg9hYgZ",
        "outputId": "b16ca6ac-38b4-400b-a888-dd017353b24f"
      },
      "execution_count": 11,
      "outputs": [
        {
          "output_type": "execute_result",
          "data": {
            "text/plain": [
              "{'wine': 'chardonnay', 'entree': 'chicken', 'dessert': 'cake'}"
            ]
          },
          "metadata": {},
          "execution_count": 11
        }
      ]
    },
    {
      "cell_type": "code",
      "source": [
        "# 4.7.2 키워드 인자\n",
        "# 위치 인자의 혼동을 피하기 위해 매개변수에 상응하는 이름을 인자에 지정할 수 있다.\n",
        "\n",
        "# 4.7.3 기본 매개변수값 지정하기\n",
        "# 매개변수에 기본값을 지정할 수 있다.\n",
        "def menu(wine, entree, dessert='pudding'):\n",
        "  return {'wine': wine, 'entree': entree,'dessert': dessert}\n",
        "\n",
        "print('dessert 인자 없이 menu호출:',menu('chardonnay','chicken'))\n",
        "print('dessert 인자 있는 menu호출:',menu('chardonnay','chicken','doughnut'))"
      ],
      "metadata": {
        "id": "omzR0jRrhYix",
        "colab": {
          "base_uri": "https://localhost:8080/"
        },
        "outputId": "1d11a991-22d6-4116-92b5-dbdcab980864"
      },
      "execution_count": 16,
      "outputs": [
        {
          "output_type": "stream",
          "name": "stdout",
          "text": [
            "dessert 인자 없이 menu호출: {'wine': 'chardonnay', 'entree': 'chicken', 'dessert': 'pudding'}\n",
            "dessert 인자 있는 menu호출: {'wine': 'chardonnay', 'entree': 'chicken', 'dessert': 'doughnut'}\n"
          ]
        }
      ]
    },
    {
      "cell_type": "code",
      "source": [
        "def buggy(arg, result=[]):\n",
        "  result.append(arg)\n",
        "  print('agr값:',arg)\n",
        "  print('result값:',result)\n",
        "# buggy()함수를 처음 호출했을 때만 result 리스트가 비어 있게 딘다.\n",
        "# 기본 인자값은 함수 실행될 때 계산되지 않고, 함수를 정의할 때 계산된다.\n",
        "buggy('a')\n",
        "buggy('b')"
      ],
      "metadata": {
        "colab": {
          "base_uri": "https://localhost:8080/"
        },
        "id": "IyEv-6996RjB",
        "outputId": "1bb7bf47-58ec-496a-c6f3-d253518eefcb"
      },
      "execution_count": 19,
      "outputs": [
        {
          "output_type": "stream",
          "name": "stdout",
          "text": [
            "agr값: a\n",
            "result값: ['a']\n",
            "agr값: b\n",
            "result값: ['a', 'b']\n"
          ]
        }
      ]
    },
    {
      "cell_type": "code",
      "source": [
        "def works(arg):\n",
        "  result=[]\n",
        "  result.append(arg)\n",
        "  return print('result값:',result)\n",
        "works('a')\n",
        "works('b')\n",
        "\n",
        "def nonbugg(arg, result=None):\n",
        "  if result is None:\n",
        "    result=[]\n",
        "  result.append(arg)\n",
        "  return print('result값:',result)\n",
        "\n",
        "nonbugg('a')\n",
        "nonbugg('b')"
      ],
      "metadata": {
        "id": "-mti5RdChYlJ",
        "colab": {
          "base_uri": "https://localhost:8080/"
        },
        "outputId": "734e2039-2779-4e63-8b77-15169ec0c42a"
      },
      "execution_count": 25,
      "outputs": [
        {
          "output_type": "stream",
          "name": "stdout",
          "text": [
            "result값: ['a']\n",
            "result값: ['b']\n",
            "result값: ['a']\n",
            "result값: ['b']\n"
          ]
        }
      ]
    },
    {
      "cell_type": "code",
      "source": [
        "# 4.7.4 위치 인자 모으기: *(애스터리스크)\n",
        "# 함수의 매개변수에 애스터리스크를 사용할 때, 애스터리스크는 매개변수에서 위치 인자 변수들을 튜플로 묶는다.\n",
        "def print_args(*args):\n",
        "  print('positional argument tuple:',args)\n",
        "print_args()\n",
        "# 함수를 인자 없이 호출하면 *args에는 아무것도 없다."
      ],
      "metadata": {
        "colab": {
          "base_uri": "https://localhost:8080/"
        },
        "id": "AE2ey7QB3wSb",
        "outputId": "52d26029-0cbe-479f-df03-ab5b9577d10a"
      },
      "execution_count": 26,
      "outputs": [
        {
          "output_type": "stream",
          "name": "stdout",
          "text": [
            "positional argument tuple: ()\n"
          ]
        }
      ]
    },
    {
      "cell_type": "code",
      "source": [
        "print_args(3,2,1,'wait','uh...')\n",
        "# 함수에 위치 인자를 지정할 때 맨 끝에 *args를 써서 나머지 인자를 모두 취하게 할 수 있다."
      ],
      "metadata": {
        "colab": {
          "base_uri": "https://localhost:8080/"
        },
        "id": "JJl10i-8_XuR",
        "outputId": "55dea021-319b-42b2-eafe-15e2315a08b9"
      },
      "execution_count": 27,
      "outputs": [
        {
          "output_type": "stream",
          "name": "stdout",
          "text": [
            "positional argument tuple: (3, 2, 1, 'wait', 'uh...')\n"
          ]
        }
      ]
    },
    {
      "cell_type": "code",
      "source": [
        "# 4.7.5 키워드 인자 모으기: **\n",
        "# 키워드 인자를 딕셔너리로 묶기 위해 두 개의 **를 사용할 수 있다.\n",
        "# 인자의 이름은 키고, 값은 이 키에 대응하는 딕셔너리 값이다.\n",
        "\n",
        "def print_kwargs(**kwargs):\n",
        "  print('keyword arguments:',kwargs)\n",
        "\n",
        "print_kwargs(wine='merlot',entree='mutton',essert='macaroon')\n",
        "# 함수 안에 kwrgs 딕셔너리가 있다."
      ],
      "metadata": {
        "colab": {
          "base_uri": "https://localhost:8080/"
        },
        "id": "eWrdU0JP3wVE",
        "outputId": "92be1b69-637b-414d-9f13-159da114af71"
      },
      "execution_count": 29,
      "outputs": [
        {
          "output_type": "stream",
          "name": "stdout",
          "text": [
            "keyword arguments: {'wine': 'merlot', 'entree': 'mutton', 'essert': 'macaroon'}\n"
          ]
        }
      ]
    },
    {
      "cell_type": "code",
      "source": [
        "# 4.7.6 docstring\n",
        "def echo(anything):\n",
        "  'echo return its input argument'\n",
        "  return anything\n",
        "# 함수 몸체 시작 부분에 문자열을 포함시켜 함수 정의에 문서를 붙일 수 있다.\n",
        "# 함수의 docstring\n",
        "\n",
        "help(echo)\n",
        "# 함수의 docstring을 출력하려면 help()함수를 호출한다.\n",
        "# docstring: 다른 사람이 이 함수를 사용할 때 알아야 하는 정보를 제공하기 위해 사용됩니다."
      ],
      "metadata": {
        "colab": {
          "base_uri": "https://localhost:8080/"
        },
        "id": "xJV8kuxX3wXO",
        "outputId": "dc492d0a-4324-4f22-906b-698de79ddce6"
      },
      "execution_count": 32,
      "outputs": [
        {
          "output_type": "stream",
          "name": "stdout",
          "text": [
            "Help on function echo in module __main__:\n",
            "\n",
            "echo(anything)\n",
            "    echo return its input argument\n",
            "\n"
          ]
        }
      ]
    },
    {
      "cell_type": "code",
      "source": [
        "# 만약 서식 없는 docstring을 그대로 보고 싶다면\n",
        "print(echo.__doc__)\n",
        "# __doc__: docstring의 내부 이름인 함수 내의 변수."
      ],
      "metadata": {
        "colab": {
          "base_uri": "https://localhost:8080/"
        },
        "id": "x4hBt6jx3wae",
        "outputId": "58b9c473-4ddd-419b-a4d7-3331740a8577"
      },
      "execution_count": 33,
      "outputs": [
        {
          "output_type": "stream",
          "name": "stdout",
          "text": [
            "echo return its input argument\n"
          ]
        }
      ]
    },
    {
      "cell_type": "code",
      "source": [
        "# 4.7.7 일등 시민: 함수\n",
        "def answer():\n",
        "  print(42)\n",
        "answer()"
      ],
      "metadata": {
        "colab": {
          "base_uri": "https://localhost:8080/"
        },
        "id": "1nxqUXO_CcjA",
        "outputId": "4fae1958-4b59-4088-f0fc-5479fd2702a8"
      },
      "execution_count": 37,
      "outputs": [
        {
          "output_type": "stream",
          "name": "stdout",
          "text": [
            "42\n"
          ]
        }
      ]
    },
    {
      "cell_type": "code",
      "source": [
        "def run_something(func):\n",
        "  func()\n",
        "run_something(answer) # answer()를 전달하는 것이 아니라, answer를 전달했다.\n",
        "\n",
        "# run_something()함수에 answer 인자를 넣으면 다른 모든 인자와 마찬가지로 이 함수를 데이터처럼 사용한다.\n",
        "# 괄호가 없으면 함수를 다른 모든 객체와 마찬가지로 간주한다. 파이썬에서 모든 것은 객체기 때문이다."
      ],
      "metadata": {
        "colab": {
          "base_uri": "https://localhost:8080/"
        },
        "id": "YVCgMOZ3C8do",
        "outputId": "cc8cc15e-543a-4be6-d099-27766d9a90d3"
      },
      "execution_count": 40,
      "outputs": [
        {
          "output_type": "stream",
          "name": "stdout",
          "text": [
            "42\n"
          ]
        }
      ]
    },
    {
      "cell_type": "code",
      "source": [
        "type(run_something)"
      ],
      "metadata": {
        "colab": {
          "base_uri": "https://localhost:8080/"
        },
        "id": "Shs3lSlZCnL7",
        "outputId": "66c0bf60-96a8-4fca-c5d3-fb49881122f4"
      },
      "execution_count": 41,
      "outputs": [
        {
          "output_type": "execute_result",
          "data": {
            "text/plain": [
              "function"
            ]
          },
          "metadata": {},
          "execution_count": 41
        }
      ]
    },
    {
      "cell_type": "code",
      "source": [
        "# 인자를 넣어서 함수를 실행해보자. 먼저 두 숫자 인자 arg1,arg2를 더한 값을 출력하는 add_args()함수를 정의한다.\n",
        "\n",
        "def add_args(arg1, arg2):\n",
        "  print(arg1+arg2)\n",
        "\n",
        "def run_something_with_args(func,arg1, arg2):\n",
        "  func(arg1, arg2) # func: 실행할 함수, arg1: func함수의 1번째 인자\n",
        "  # arg2: func 함수의 2번째 인자\n",
        "\n",
        "# run_something_with_args()를 호출할 때, 호출자에 의해 전달된 함수는 func매개변수에 할당된다.\n",
        "# arg1,2,는 인자 목록의 값을 얻는다.\n",
        "\n",
        "run_something_with_args(add_args,5,9) # -> add_args(5,9)\n",
        "# run_something_with_arge()함수 내에 add_args함수 이름은 func 매개변수에 할당되고, 숫자 5.9는 각각 arg1, 2에 할당된다."
      ],
      "metadata": {
        "colab": {
          "base_uri": "https://localhost:8080/"
        },
        "id": "n98i1Xba3wdF",
        "outputId": "fc817e4b-f114-4cd0-f819-cae8570344d8"
      },
      "execution_count": 59,
      "outputs": [
        {
          "output_type": "stream",
          "name": "stdout",
          "text": [
            "14\n"
          ]
        }
      ]
    },
    {
      "cell_type": "code",
      "source": [
        "# sum()함수를 사용해서 이 인자들을 더한 값을 반환한다.\n",
        "# 여러 개의 위치 인자를 취하는 함수를 정의해보자.\n",
        "def sum_args(*args):\n",
        "  return sum(args)\n",
        "\n",
        "def run_with_positional_args(func, *args):\n",
        "  return func(*args)\n",
        "\n",
        "sum_args(1,2,3,4)"
      ],
      "metadata": {
        "colab": {
          "base_uri": "https://localhost:8080/"
        },
        "id": "fsePT6dJ3wfj",
        "outputId": "93ba9488-5a45-4312-f8dd-95cc78209d4d"
      },
      "execution_count": 63,
      "outputs": [
        {
          "output_type": "execute_result",
          "data": {
            "text/plain": [
              "10"
            ]
          },
          "metadata": {},
          "execution_count": 63
        }
      ]
    },
    {
      "cell_type": "code",
      "source": [
        "run_with_positional_args(sum_args, 1,2,3,4)"
      ],
      "metadata": {
        "colab": {
          "base_uri": "https://localhost:8080/"
        },
        "id": "Nzgrzw2T3wiQ",
        "outputId": "3fb763f3-4fb5-4d98-c0e3-af6832f19ccf"
      },
      "execution_count": 69,
      "outputs": [
        {
          "output_type": "execute_result",
          "data": {
            "text/plain": [
              "10"
            ]
          },
          "metadata": {},
          "execution_count": 69
        }
      ]
    },
    {
      "cell_type": "code",
      "source": [
        "# 4.7.8 내부 함수\n",
        "def outer(a,b):\n",
        "  def inner(c,d):\n",
        "    return c+d\n",
        "  return inner(a,b)\n",
        "outer(4,7)\n",
        "# 내부함수는 루프나 코드 중복을 피하기 위해\n",
        "# 또 다른 함수 내에 어떤 복잡한 작업을 한 번 이상 수행할 때 유용하게 사용된다."
      ],
      "metadata": {
        "colab": {
          "base_uri": "https://localhost:8080/"
        },
        "id": "bOuh1-VLKUcb",
        "outputId": "2f1dc0c4-dbf9-42c2-92c2-bf86e733f8c4"
      },
      "execution_count": 70,
      "outputs": [
        {
          "output_type": "execute_result",
          "data": {
            "text/plain": [
              "11"
            ]
          },
          "metadata": {},
          "execution_count": 70
        }
      ]
    },
    {
      "cell_type": "code",
      "source": [
        "def knights(saying):\n",
        "  def inner(quote):\n",
        "    return \"we are the knights who say: '%s' \" % quote\n",
        "  return inner(saying)\n",
        "\n",
        "knights('Ni!')"
      ],
      "metadata": {
        "colab": {
          "base_uri": "https://localhost:8080/",
          "height": 35
        },
        "id": "3h6xb8QY3wk-",
        "outputId": "ac07b840-5b50-4bd2-f1c4-fc07325ab080"
      },
      "execution_count": 71,
      "outputs": [
        {
          "output_type": "execute_result",
          "data": {
            "text/plain": [
              "\"we are the knights who say: 'Ni!' \""
            ],
            "application/vnd.google.colaboratory.intrinsic+json": {
              "type": "string"
            }
          },
          "metadata": {},
          "execution_count": 71
        }
      ]
    },
    {
      "cell_type": "code",
      "source": [
        "# 4.7.9 클로져\n",
        "# 내부 함수는 클로저처럼 행동할 수 있다. 클로저는 다른 함수에 의해 동적으로 생성된다.\n",
        "# 바깥 함수로부터 생성된 변수값을 변경하고, 저장할 수 있는 함수다.\n",
        "\n",
        "def knights2(saying):\n",
        "  def inner2(): # inner2()함수는 knights2()함수가 전달받은 saying 변수를 알고 있다.\n",
        "    return \"We are the knights who say: '%s'\" %saying\n",
        "  return inner2\n",
        "\n",
        "a=knights2('duck')\n",
        "print('type(a)값:',type(a))\n",
        "a()"
      ],
      "metadata": {
        "colab": {
          "base_uri": "https://localhost:8080/",
          "height": 54
        },
        "id": "ifQgSaxDLtQT",
        "outputId": "497192b2-4639-463f-ea30-630371ced71d"
      },
      "execution_count": 80,
      "outputs": [
        {
          "output_type": "stream",
          "name": "stdout",
          "text": [
            "type(a)값: <class 'function'>\n"
          ]
        },
        {
          "output_type": "execute_result",
          "data": {
            "text/plain": [
              "\"We are the knights who say: 'duck'\""
            ],
            "application/vnd.google.colaboratory.intrinsic+json": {
              "type": "string"
            }
          },
          "metadata": {},
          "execution_count": 80
        }
      ]
    },
    {
      "cell_type": "code",
      "source": [
        "def knights2(saying):\n",
        "  def inner2(): # inner2()함수는 knights2()함수가 전달받은 saying 변수를 알고 있다.\n",
        "    return \"We are the knights who say: '%s'\" %saying\n",
        "  return inner2()\n",
        "\n",
        "knights2('ni!')\n",
        "\n",
        "# 클로저: 함수가 정의된 환경을 기억하여 외부 함수의 변수에 접근할 수 있는 함수입니다.\n",
        "# 클로저는 함수와 그 함수가 생성될 때의 환경을 함께 저장하는 객체로,\n",
        "# 함수가 호출되는 시점에 관계없이 그 환경을 유지합니다.\n",
        "\n",
        "# 클로저의 핵심은 내부 함수가 외부 함수의 변수들에 접근할 수 있는 능력을 유지하면서,\n",
        "# 외부 함수의 범위 밖에서도 호출될 수 있다는 점입니다.\n",
        "# 따라서 클로저를 사용하면, 외부 함수가 내부 함수를 반환한 후에도 내부 함수가 외부 함수의\n",
        "# 변수에 접근할 수 있습니다. 중요한 점은 내부 함수를 반환하여 클로저를 생성하는 것이지,\n",
        "# 외부 함수에서 내부 함수를 직접 호출하는 것은 아닙니다."
      ],
      "metadata": {
        "colab": {
          "base_uri": "https://localhost:8080/",
          "height": 35
        },
        "id": "chPlEVgYLtN1",
        "outputId": "ceb3f72e-ad73-4c65-d62c-3c5f0709b488"
      },
      "execution_count": 83,
      "outputs": [
        {
          "output_type": "execute_result",
          "data": {
            "text/plain": [
              "\"We are the knights who say: 'ni!'\""
            ],
            "application/vnd.google.colaboratory.intrinsic+json": {
              "type": "string"
            }
          },
          "metadata": {},
          "execution_count": 83
        }
      ]
    },
    {
      "cell_type": "code",
      "source": [
        "# 4.7.10 익명 함수: lambda()\n",
        "# 파이썬의 람다함수: 단일문으로 표현되는 익명함수.\n",
        "def edit_story(words, func):\n",
        "  for word in words:\n",
        "    print(func(word))\n",
        "stairs=['thud','meow','thud','hiss']\n",
        "\n",
        "def enliven(word):\n",
        "  return word.capitalize()+'!'\n",
        " # 첫 글자를 대문자로 만들고 느낌표 붙이기"
      ],
      "metadata": {
        "id": "CKgZR2G7OQHu"
      },
      "execution_count": 87,
      "outputs": []
    },
    {
      "cell_type": "code",
      "source": [
        "edit_story(stairs, enliven)"
      ],
      "metadata": {
        "colab": {
          "base_uri": "https://localhost:8080/"
        },
        "id": "Hd0Dfwj5LtLb",
        "outputId": "107fbd49-358e-46a6-8249-b2c4654f7b04"
      },
      "execution_count": 88,
      "outputs": [
        {
          "output_type": "stream",
          "name": "stdout",
          "text": [
            "Thud!\n",
            "Meow!\n",
            "Thud!\n",
            "Hiss!\n"
          ]
        }
      ]
    },
    {
      "cell_type": "code",
      "source": [
        "# enliven()함수를 람다로 간단하게 바꿀 수 있다.\n",
        "edit_story(stairs, lambda word: word.capitalize()+'!')\n",
        "# 람다의 콜론(:)과 닫는 괄호 사이에 있는 것이 함수의 정의 부분이다.\n",
        "\n",
        "# 대부분의 경우, enliven()과 같은 실제 함수를 사용하는 것이 람다를 사용하는 것보다\n",
        "#훨씬 더 명확하다."
      ],
      "metadata": {
        "colab": {
          "base_uri": "https://localhost:8080/"
        },
        "id": "kw3RjHvwLtI6",
        "outputId": "4b447fee-4194-4898-dd36-df76823a1761"
      },
      "execution_count": 90,
      "outputs": [
        {
          "output_type": "stream",
          "name": "stdout",
          "text": [
            "Thud!\n",
            "Meow!\n",
            "Thud!\n",
            "Hiss!\n"
          ]
        }
      ]
    },
    {
      "cell_type": "code",
      "source": [
        "# 4.8 제너레이터\n",
        "# 제너레이터: 파이썬의 시퀀스를 생성하는 객체.\n",
        "# 제너레이터 중 하나인 range()함수\n",
        "\n",
        "# range(): 일련의 정수를 생성한다.\n",
        "sum(range(1,101))\n",
        "\n",
        "# 일반 함수: 이전 호출에 대한 메모리가 없고, 항상 똑같은 상태로\n",
        "# 1번째 라인부터 수행한다.\n"
      ],
      "metadata": {
        "colab": {
          "base_uri": "https://localhost:8080/"
        },
        "id": "_GsGc_SALtGo",
        "outputId": "1faaaedc-b05d-42aa-b881-e9499b48458e"
      },
      "execution_count": 91,
      "outputs": [
        {
          "output_type": "execute_result",
          "data": {
            "text/plain": [
              "5050"
            ]
          },
          "metadata": {},
          "execution_count": 91
        }
      ]
    },
    {
      "cell_type": "code",
      "source": [
        "def my_range(first=0, last=10,step=1):\n",
        "  number=first\n",
        "  while number<last:\n",
        "    yield number\n",
        "    number +=step\n",
        "ranger=my_range(1,5)\n",
        "ranger"
      ],
      "metadata": {
        "colab": {
          "base_uri": "https://localhost:8080/"
        },
        "id": "zd6isaAPQcAE",
        "outputId": "0face793-d4b9-402b-9ec0-ff4e850c62eb"
      },
      "execution_count": 94,
      "outputs": [
        {
          "output_type": "execute_result",
          "data": {
            "text/plain": [
              "<generator object my_range at 0x7865e00015b0>"
            ]
          },
          "metadata": {},
          "execution_count": 94
        }
      ]
    },
    {
      "cell_type": "code",
      "source": [
        "for x in ranger:\n",
        "  print(x)"
      ],
      "metadata": {
        "colab": {
          "base_uri": "https://localhost:8080/"
        },
        "id": "d_d_ZuY9Ls64",
        "outputId": "803b1e4b-6d76-46bc-aef5-159ad29061e3"
      },
      "execution_count": 95,
      "outputs": [
        {
          "output_type": "stream",
          "name": "stdout",
          "text": [
            "1\n",
            "2\n",
            "3\n",
            "4\n"
          ]
        }
      ]
    },
    {
      "cell_type": "code",
      "source": [
        " # 4.9 데커레이터\n",
        " # 데커레이터: 하나의 함수를 취해서 또 다른 함수를 반환하는 함수.\n",
        "\n",
        "# document_it()함수: 데커레이터를 정의한다.\n",
        "# 함수 이름과 인자값을 출력한다.\n",
        "# 결과를 출력한다.\n",
        "# 수정된 함수를 사용할 수 있도록 반환한다.\n",
        "# 인자로 함수를 실행한다.\n",
        "\n",
        "def document_it(func):\n",
        "  def new_function(*args, **kwargs):\n",
        "    print('running function:',func.__name__)\n",
        "    print('positional arguments:',args)\n",
        "    print('keyword arguments:',kwargs)\n",
        "    result=func(*args,**kwargs)\n",
        "    print('result:',result)\n",
        "    return result\n",
        "  return new_function"
      ],
      "metadata": {
        "id": "6jkjaisx3wnV"
      },
      "execution_count": 104,
      "outputs": []
    },
    {
      "cell_type": "code",
      "source": [
        "def add_insts(a,b):\n",
        "  return a+b\n",
        "\n",
        "cooler_add_ints=document_it(add_insts)\n",
        "cooler_add_ints(3,5)"
      ],
      "metadata": {
        "colab": {
          "base_uri": "https://localhost:8080/"
        },
        "id": "GuQ-jymjSD_c",
        "outputId": "7c4e3968-5d69-4715-dd02-2edf1681ea13"
      },
      "execution_count": 105,
      "outputs": [
        {
          "output_type": "stream",
          "name": "stdout",
          "text": [
            "running function: add_insts\n",
            "positional arguments: (3, 5)\n",
            "keyword arguments: {}\n",
            "result: 8\n"
          ]
        },
        {
          "output_type": "execute_result",
          "data": {
            "text/plain": [
              "8"
            ]
          },
          "metadata": {},
          "execution_count": 105
        }
      ]
    },
    {
      "cell_type": "markdown",
      "source": [
        "**URL: https://www.entity.co.kr/entry/59-%ED%8C%8C%EC%9D%B4%EC%8D%AC-Yield-%ED%95%A8%EC%88%98-Generator-Yield-vs-Return-%EC%98%88%EC%A0%9C#%EC%98%88_:_Yield_%EB%A9%94%EC%84%9C%EB%93%9C**"
      ],
      "metadata": {
        "id": "VdABV_FUTN-9"
      }
    },
    {
      "cell_type": "code",
      "source": [
        "# 파이썬의 yield 키워드: 유일한 반환값처럼 작동\n",
        "# 함수가 호출되고 실행 스레드가 함수에서 yield 키워드를 찾으면 함수 실행은 해당 줄 자체에서\n",
        "# 중지되고 생성자 객체를 호출자에게 다시 반환합니다.\n",
        "\n",
        "# 제너레이터: ex) range - 값을 얻기 위해 반복되어야 하는 특수 함수\n",
        "# yield 키워드: 주어진 표현식을 생성기 객체를 되돌려주는 생성기 함수로 변환합니다.\n",
        "\n",
        "def testyield():\n",
        "  yield \"entity01 python 자습서에 오신 것을 환영합니다.\"\n",
        "output=testyield() # 함수가 호출되면 출력이 인쇄되고 실제 값 대신 제너레이터 객체를 제공.\n",
        "print(output)"
      ],
      "metadata": {
        "colab": {
          "base_uri": "https://localhost:8080/"
        },
        "id": "QDM5w2GCTPyN",
        "outputId": "41ec17af-75b2-4912-a3d2-eba5f5bbd1c5"
      },
      "execution_count": 106,
      "outputs": [
        {
          "output_type": "stream",
          "name": "stdout",
          "text": [
            "<generator object testyield at 0x7865e0001540>\n"
          ]
        }
      ]
    },
    {
      "cell_type": "code",
      "source": [
        "for i in output:\n",
        "  print(i)\n",
        "# 파이썬에서 제너레이터(Generator)는 이터레이터의 일종으로,\n",
        "# 데이터를 순차적으로 한 번에 하나씩 생성할 수 있는 함수입니다.\n",
        "\n",
        "# 제너레이터: 반복가능한 제너레이터 객체를 반환하는 함수.\n",
        "# 제너레이터 객체의 값은 전체 리스트 대신 1번에 하나씩 가져오므로 실제 값을\n",
        "# 얻으려면 next() 또는 list() 메서드를 사용하여 for루프를 사용할 수 있다.\n",
        "\n",
        "# 제너레이터 객체에서 값을 얻으려면 for 루프 내부의 객체를 사용하거나 next() 메서드를\n",
        "# 사용하거나 list()를 사용해야 합니다."
      ],
      "metadata": {
        "id": "e7c8odfqUDM8"
      },
      "execution_count": 108,
      "outputs": []
    },
    {
      "cell_type": "markdown",
      "source": [
        "![스크린샷 2024-07-18 143759.png](data:image/png;base64,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)"
      ],
      "metadata": {
        "id": "qHBbj2HGWPLp"
      }
    },
    {
      "cell_type": "code",
      "source": [
        "# 파이썬의 yield 키워드는 return처럼 작동하지만 유일한 차이점은 값을 반환하는 대신 호출자에게 제너레이터 함수를 반환한다는 것입니다.\n",
        "# 제너레이터는 한 번 사용되면 다시 사용할 수 없는 특수한 유형의 반복기입니다. 값은 메모리에 저장되지 않으며 호출될 때만 사용할 수 있습니다.\n",
        "# 제너레이터의 값은 for-in, list() 및 next() 메서드를 사용하여 읽을 수 있습니다.\n",
        "# yield와 return의 주요 차이점은 yield는 제너레이터 함수를 호출자에게 반환하고 return은 호출자에게 단일 값을 제공한다는 것입니다.\n",
        "# Yield는 어떤 값도 메모리에 저장하지 않으며, 어떤 값도 메모리에 저장되지 않아 데이터 크기가 클 때 유용하다는 장점이 있습니다.\n",
        "# 큰 데이터 크기에 대한 return에 비해 yield 키워드를 사용하면 성능이 더 좋습니다.\n",
        "\n",
        "# -> 데이터를 효율적으로 처리하고 메모리 사용을 줄이려면 제너레이터와 yield를 활용하는 것이 일반적으로 더 좋은 선택입니다."
      ],
      "metadata": {
        "id": "47IcVmh7WeAz"
      },
      "execution_count": null,
      "outputs": []
    }
  ]
}