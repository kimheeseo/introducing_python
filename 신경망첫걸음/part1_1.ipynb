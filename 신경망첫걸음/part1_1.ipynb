{
  "nbformat": 4,
  "nbformat_minor": 0,
  "metadata": {
    "colab": {
      "provenance": [],
      "authorship_tag": "ABX9TyMEdMMPa2k7OJm66bX44fEP",
      "include_colab_link": true
    },
    "kernelspec": {
      "name": "python3",
      "display_name": "Python 3"
    },
    "language_info": {
      "name": "python"
    }
  },
  "cells": [
    {
      "cell_type": "markdown",
      "metadata": {
        "id": "view-in-github",
        "colab_type": "text"
      },
      "source": [
        "<a href=\"https://colab.research.google.com/github/kimheeseo/python/blob/main/part1_1.ipynb\" target=\"_parent\"><img src=\"https://colab.research.google.com/assets/colab-badge.svg\" alt=\"Open In Colab\"/></a>"
      ]
    },
    {
      "cell_type": "code",
      "execution_count": 1,
      "metadata": {
        "id": "5TGlcAhFfbQI"
      },
      "outputs": [],
      "source": [
        "# part1. 인공 신경망의 동작 원리\n",
        "# chater 1. 인간에게는 쉽고 기계에게는 어려운\n",
        "\n",
        "# 빠른 연산: 인공지능의 영역이 아닙니다. 지능을 필요로 하는 작업이 아닙니다.\n",
        "# 빠른 연사을 하기 위해 필요한 능력이란 단지 매우 단순한 명령을 잘 따른다는 것인데, 컴퓨터는 그 내부의 전자라는 존재를 통해 이러한 능력을 갖추고 있는 것 뿐입니다."
      ]
    },
    {
      "cell_type": "code",
      "source": [
        "# chater 2. 간단한 예측자\n",
        "# 컴퓨터는 입력을 받아서 이에 적합한 연산을 수행한 후, 그 결과를 출력해줍니다.\n",
        "# 결과 값이 실제 값에 접근하게 되면(즉, 오차가 작아지게 되면), 변화를 너무 크게 가져가면 안 됩니다.\n",
        "# 이런 식으로 우리는 오버 슈팅을 방지할 수 있는 것입니다.\n",
        "\n",
        "# '학습'이라는 과정을 통해 인공 신경망은 점점 더 정답에 가까운 답을 낼 수 있게 됩니다.\n",
        "\n",
        "# 모델을 \"정교화\"해나가는 좋은 방법은 오차에 기초해 매개변수 값을 조정해 나가는 것입니다."
      ],
      "metadata": {
        "id": "Ti2f4cJmfe7s"
      },
      "execution_count": 2,
      "outputs": []
    },
    {
      "cell_type": "code",
      "source": [
        "# chapter 3. 분류는 예측과 그다지 다르지 않습니다.\n",
        "# 예측자: predictor\n",
        "# 단순한 기계는 입력값에 대해 출력값이 어떻게 나올지를 예측합니다.\n",
        "# 우리는 예측 값과 실제 값을 비교해 오차를 도출했으며, 이 오차를 기준으로 상수 c라는 매개변수 값을 종정함으로써, 예측의 정확도를 높였습니다.\n",
        "# 오차를 기반으로 오차 값을 줄이는 방향으로 매개변수 (parameter) 값을 조정합니다.\n",
        "\n",
        "# 이번에는 애벌린인지 무당벌레인지 알 수 없는 새로운 곤출을 한 마리 발견했다고 합시다.\n",
        "# 이 곤충의 폭과 길이는 이미 측정을 마쳤습니다. 이제 우리는 직선을 그대로 이용해 이 곤충이 애벌레인지 무당벌레인지 분류해 볼 것입니다."
      ],
      "metadata": {
        "id": "fGaS6lOFfe-Q"
      },
      "execution_count": 3,
      "outputs": []
    },
    {
      "cell_type": "code",
      "source": [
        "# 만일 이 곤충은 직선의 위쪽에 위치하르모 애벌레로 분류됨을 알 수 있습니다. 이처럼 분류라는 것은 간단하지만, 매우 강력한 방법임을 확인할 수 있습니다.\n",
        "# 우리는 지금까지 간단한 예측자 안의 선형함수가 미지의 데이터를 어떻게 분류해내는지 살펴봤습니다.\n",
        "\n",
        "# 이 직선의 기울기는 어떻게 구해야 하는 걸까요?? 만약 이 직선이 최선이 아니라면 어떻게 개선할 수 있을까요?\n",
        "# 이 질문에 대한 대답이 신경망이 학습하는 방법을 이해하는 데 가장 중요한 부분입니다."
      ],
      "metadata": {
        "id": "iai9qhn_qelz"
      },
      "execution_count": null,
      "outputs": []
    }
  ]
}
