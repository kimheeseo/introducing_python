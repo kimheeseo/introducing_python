{
  "nbformat": 4,
  "nbformat_minor": 0,
  "metadata": {
    "colab": {
      "provenance": [],
      "authorship_tag": "ABX9TyP/1XgNBaQvP7irfs0KSXP6",
      "include_colab_link": true
    },
    "kernelspec": {
      "name": "python3",
      "display_name": "Python 3"
    },
    "language_info": {
      "name": "python"
    }
  },
  "cells": [
    {
      "cell_type": "markdown",
      "metadata": {
        "id": "view-in-github",
        "colab_type": "text"
      },
      "source": [
        "<a href=\"https://colab.research.google.com/github/kimheeseo/python/blob/main/51_60.ipynb\" target=\"_parent\"><img src=\"https://colab.research.google.com/assets/colab-badge.svg\" alt=\"Open In Colab\"/></a>"
      ]
    },
    {
      "cell_type": "code",
      "execution_count": 2,
      "metadata": {
        "colab": {
          "base_uri": "https://localhost:8080/"
        },
        "id": "WSeJLsUsE-WY",
        "outputId": "d783621b-03b7-4125-8637-c10e3886c9ff"
      },
      "outputs": [
        {
          "output_type": "stream",
          "name": "stdout",
          "text": [
            "안녕하세요\n"
          ]
        }
      ],
      "source": [
        "# 초급 51. 클래스 메소드 이해하기\n",
        "class MyClass:\n",
        "  def sayHello(self):\n",
        "    print('안녕하세요')\n",
        "# MyClass의 클래스 메소드 say Hello()를 정의합니다.\n",
        "\n",
        "  def sayBye(self, name):\n",
        "    print('%s! 다음에 보자!' %name)\n",
        "\n",
        "obj=MyClass()\n",
        "# Myclass의 인스턴스 객체를 생성하고 obj로 지정합니다.\n",
        "\n",
        "obj.sayHello() # '안녕하세요'가 출력됨\n",
        "obj.sayBye('철수') # '철수! 다음에 보자!'가 출력됨\n",
        "\n",
        "# 클래스 내엥서 정의되는 함수인 클래스 메소드(sayHello, sayBye)는 첫 번째 인자가 반드시 self이어야 합니다.\n",
        "# self는 클래스의 인스턴스 객체를 지시하는 참조자입니다.\n",
        "# 클래스 메소드의 인자가 필요하면 두 번째 인자부터 정의하면 됩니다."
      ]
    },
    {
      "cell_type": "code",
      "source": [
        "# 초급 52. 클래스 생성자 이해하기\n",
        "class MyClass:\n",
        "  def __init__(self):\n",
        "# MyClass의 클래스 생성자를 정의합니다.\n",
        "    self.var='안녕하세요!'\n",
        "# MyClass의 클래스 생성자는 인자가 없으며(def __init__(self)), 생성자 내에서 self.var 인스턴스 멤버를 '안녕하세요!'라는 문자열로 초기화\n",
        "    print('MyClass 인스턴스 객체가 생성되었습니다.')\n",
        "# MyClass의 생성자에서 초기화한 self.var의 값을 출력합니다.\n",
        "\n",
        "obj=MyClass()\n",
        "# MyClass의 생성자에 인자가 없으므로, MyClass()와 같이 인스턴스 객체를 생성합니다.\n",
        "# 인스턴스 객체(obj)가 생성될 때, MyClass의 생성자가 자동으로 호출되므로, self.var가 초기화되고 화면에 메시지를 출력합니다.\n",
        "print('obj.var값:',obj.var)\n",
        "\n",
        "# 클래스의 인스턴스 객체(obj)가 생성될 때 자동적으로 호출되는 메소드가 클래스 생성자(__init__)입니다.\n",
        "# 클래스 생성자: def __init__(self, #args)"
      ],
      "metadata": {
        "colab": {
          "base_uri": "https://localhost:8080/"
        },
        "id": "2gh2dWS7FCfO",
        "outputId": "70b04ef5-0d04-4568-9cf9-ecd9975ad48f"
      },
      "execution_count": 6,
      "outputs": [
        {
          "output_type": "stream",
          "name": "stdout",
          "text": [
            "MyClass 인스턴스 객체가 생성되었습니다.\n",
            "obj.var값: 안녕하세요!\n"
          ]
        }
      ]
    },
    {
      "cell_type": "code",
      "source": [
        "# 클래스 생성자는 인자를 가질 수 있는데, 생성자에 인자가 있다면 인스턴스 객체를 만들 때\n",
        "# 인자에 적당한 값을 대입해 주어야 합니다.\n",
        "\n",
        "class MyClass:\n",
        "  def __init__(self,txt):\n",
        "    self.var=txt\n",
        "    print('생성자 인자로 전달받은 값은 <'+self.var+'>입니다')\n",
        "obj=MyClass('철수')\n",
        "# 만일, 인자를 입력하지 않고 인스턴스 객체를 생성하려고 하면 오류가 발생합니다."
      ],
      "metadata": {
        "colab": {
          "base_uri": "https://localhost:8080/"
        },
        "id": "5yY4HlJZFCh3",
        "outputId": "6d689ef6-9bef-4748-82a2-94c4b623f9ef"
      },
      "execution_count": 7,
      "outputs": [
        {
          "output_type": "stream",
          "name": "stdout",
          "text": [
            "생성자 인자로 전달받은 값은 <철수>입니다\n"
          ]
        }
      ]
    },
    {
      "cell_type": "code",
      "source": [
        "# 초급 53. 클래스 소멸자 이해하기\n",
        "class MyClass:\n",
        "  def __init__(self):\n",
        "    self.var='안녕하세요.'\n",
        "\n",
        "  def __del__(self):\n",
        "    print('MyClass 인스턴스 객체가 메모리에서 제거됩니다.')\n",
        "\n",
        "obj=MyClass()\n",
        "print('obj.var값:',obj.var)\n",
        "print('\\n')\n",
        "del obj\n",
        "print('obj.var값:',obj.var)\n",
        "# 클래스 인스턴스 객체가 메모리에서 제거될 때 자동적으로 호출되는 클래스 메소드가 클래스 소멸자입니다.\n",
        "# 인스턴스 객체 제거\n",
        "# del obj -> 생성자 MyClass 인스턴스 객체 obj를 del 키워드로 메모리에서 제거됩니다.\n",
        "# 이때 클래스 소멸자가 자동으로 호출되므로(def __del__(self)), 작성된 메시지가 화면에 출력됩니다."
      ],
      "metadata": {
        "colab": {
          "base_uri": "https://localhost:8080/",
          "height": 294
        },
        "id": "5nwffEsZFCkl",
        "outputId": "81f5d276-7042-462f-f508-248825a0578f"
      },
      "execution_count": 14,
      "outputs": [
        {
          "output_type": "stream",
          "name": "stdout",
          "text": [
            "obj.var값: 안녕하세요.\n",
            "\n",
            "\n",
            "MyClass 인스턴스 객체가 메모리에서 제거됩니다.\n"
          ]
        },
        {
          "output_type": "error",
          "ename": "NameError",
          "evalue": "name 'obj' is not defined",
          "traceback": [
            "\u001b[0;31m---------------------------------------------------------------------------\u001b[0m",
            "\u001b[0;31mNameError\u001b[0m                                 Traceback (most recent call last)",
            "\u001b[0;32m<ipython-input-14-48441d6f0245>\u001b[0m in \u001b[0;36m<cell line: 13>\u001b[0;34m()\u001b[0m\n\u001b[1;32m     11\u001b[0m \u001b[0mprint\u001b[0m\u001b[0;34m(\u001b[0m\u001b[0;34m'\\n'\u001b[0m\u001b[0;34m)\u001b[0m\u001b[0;34m\u001b[0m\u001b[0;34m\u001b[0m\u001b[0m\n\u001b[1;32m     12\u001b[0m \u001b[0;32mdel\u001b[0m \u001b[0mobj\u001b[0m\u001b[0;34m\u001b[0m\u001b[0;34m\u001b[0m\u001b[0m\n\u001b[0;32m---> 13\u001b[0;31m \u001b[0mprint\u001b[0m\u001b[0;34m(\u001b[0m\u001b[0;34m'obj.var값:'\u001b[0m\u001b[0;34m,\u001b[0m\u001b[0mobj\u001b[0m\u001b[0;34m.\u001b[0m\u001b[0mvar\u001b[0m\u001b[0;34m)\u001b[0m\u001b[0;34m\u001b[0m\u001b[0;34m\u001b[0m\u001b[0m\n\u001b[0m\u001b[1;32m     14\u001b[0m \u001b[0;31m# 클래스 인스턴스 객체가 메모리에서 제거될 때 자동적으로 호출되는 클래스 메소드가 클래스 소멸자입니다.\u001b[0m\u001b[0;34m\u001b[0m\u001b[0;34m\u001b[0m\u001b[0m\n\u001b[1;32m     15\u001b[0m \u001b[0;31m# 인스턴스 객체 제거\u001b[0m\u001b[0;34m\u001b[0m\u001b[0;34m\u001b[0m\u001b[0m\n",
            "\u001b[0;31mNameError\u001b[0m: name 'obj' is not defined"
          ]
        }
      ]
    },
    {
      "cell_type": "code",
      "source": [
        "# 초급 54. 클래스 상속 이해하기\n",
        "class Add:\n",
        "  def add(self, n1, n2):\n",
        "    return n1+n2\n",
        "\n",
        "class Calculator(Add):\n",
        "# Calculator 클래스는 Add클래스의 add()메소드를 그대로 물려받습니다.\n",
        "  def sub(self, n1, n2):\n",
        "    return n1-n2\n",
        "\n",
        "obj=Calculator()\n",
        "print('obj.add(1,2)값:',obj.add(1,2)) # 3이 출력됨\n",
        "print('obj.sub(1,3)값:',obj.sub(1,3))\n",
        "# 클래스는 상속이라는 특성을 가지는 이름 공간입니다.\n",
        "# 클래스에서 상속이란 어떤 클래스가 가지고 있는 모든 멤버나 메소드를 상속받는 클래스가 모두 사용할 수 있도록 해주는 것.\n",
        "# 부모클래스: 상속을 해주는 클래스\n",
        "# 자식클래스: 상속을 받는 클래스\n",
        "\n",
        "# 부모클래스로부터 상속을 받아 자식클래스를 정의하는 방법\n",
        "# class 자식클래스(부모클래스)\n",
        "# 예) class Calculator(Add)\n",
        "\n",
        "# 자식클래스는 부모클래스에서 정의된 모든 멤버나 메소드들을 그대로 상속받습니다.\n",
        "# 만약 자식클래스에서 부모클래스로부터 상속받은 멤버나 메소도와 동일한 이름의 멤버나\n",
        "# 메소드가 존재하면 자식 클래스에서 정의된 것이 우선합니다."
      ],
      "metadata": {
        "colab": {
          "base_uri": "https://localhost:8080/"
        },
        "id": "gqMlDU2jFCnW",
        "outputId": "de3d44d0-e346-481e-fb44-de0d7b0baeec"
      },
      "execution_count": 18,
      "outputs": [
        {
          "output_type": "stream",
          "name": "stdout",
          "text": [
            "obj.add(1,2)값: 3\n",
            "obj.sub(1,3)값: -2\n"
          ]
        }
      ]
    },
    {
      "cell_type": "code",
      "source": [
        "# Calculator에서 정의한 sub() 메소드를 호출합니다.\n",
        "# 자식클래스는 여러 개의 부모클래스로부터 상속받을 수 있습니다.(다중상속)\n",
        "# class 자식클래스(부모클래스1, 부모클래스2,...\n",
        "class Add:\n",
        "  def add(self, n1, n2):\n",
        "    return n1+n2\n",
        "\n",
        "class Multiply:\n",
        "  def multiply(self, n1, n2):\n",
        "    return n1*n2\n",
        "\n",
        "class Calculator(Add, Multiply):\n",
        "  def sub(self, n1, n2):\n",
        "    return n1-n2\n",
        "\n",
        "obj=Calculator()\n",
        "print('obj.add(1,2)값:',obj.add(1,2))\n",
        "print('obj.multiply(3,2)값:',obj.multiply(3,2))"
      ],
      "metadata": {
        "colab": {
          "base_uri": "https://localhost:8080/"
        },
        "id": "m0E3HOWpFCsO",
        "outputId": "b439f3fc-c42f-434a-cb5d-56822729d9f3"
      },
      "execution_count": 20,
      "outputs": [
        {
          "output_type": "stream",
          "name": "stdout",
          "text": [
            "obj.add(1,2)값: 3\n",
            "obj.multiply(3,2)값: 6\n"
          ]
        }
      ]
    },
    {
      "cell_type": "code",
      "source": [
        "# 초급 55. 예외처리 이해하기(try~except)\n",
        "try:\n",
        "  print('안녕하세요.')\n",
        "  print(param)\n",
        "# print(param): 정의되지 않은 변수를 호출하여 발생하는 예외 상황에 대한 처리 예시\n",
        "\n",
        "except:\n",
        "  print('예외가 발생했습니다!')\n",
        "\n",
        "# 프로그램을 작성하다보면 뜻하지 않은 오류가 발생하는 코드가 있을 수 있습니다.\n",
        "# 프로그램이 실행되는 동안 오류가 발생하면 프로그램이 더 이상 진행할 수 없는 상태가 되는데, 이를 예외(exception)상황이라고 합니다.\n",
        "\n",
        "# try~except: 프로그램에 예외가 발생하더라도 프로그램을 중단시키지 않고,\n",
        "# 예외에 대한 적절한 처리를 하여 프로그램을 계속 진행시킬 수 있도록 하는 구문\n",
        "# 프로그램의 논리적 오류가 발생할 가능성이 큰 부분을 try~except 사이에 두고 예외가 발생할 경우, except 부분에서 적절한 처리를 해줍니다."
      ],
      "metadata": {
        "colab": {
          "base_uri": "https://localhost:8080/"
        },
        "id": "0GR2kfM2FCu-",
        "outputId": "6cb48f14-4f84-45e4-f62d-6667af5d7f72"
      },
      "execution_count": 21,
      "outputs": [
        {
          "output_type": "stream",
          "name": "stdout",
          "text": [
            "안녕하세요.\n",
            "예외가 발생했습니다!\n"
          ]
        }
      ]
    },
    {
      "cell_type": "code",
      "source": [
        "# 초급 56. 예외처리 이해하기(try~except~else)\n",
        "try:\n",
        "  print('안녕하세요.')\n",
        "  print(param)\n",
        "except:\n",
        "  print('예외가 발생했습니다!')\n",
        "else:\n",
        "  print('예외가 발생하지 않았습니다.')\n",
        "\n",
        "# 어떤 로직을 수행했을 때 오류 상황이 아닐 경우에만 어떤 작업을 수행하는 코드를 작성해야 할 때가 있습니다."
      ],
      "metadata": {
        "colab": {
          "base_uri": "https://localhost:8080/"
        },
        "id": "u-8Vi2wdFCxW",
        "outputId": "d21cd101-6f24-4182-f6b2-28f28fd8567a"
      },
      "execution_count": 22,
      "outputs": [
        {
          "output_type": "stream",
          "name": "stdout",
          "text": [
            "안녕하세요.\n",
            "예외가 발생했습니다!\n"
          ]
        }
      ]
    },
    {
      "cell_type": "code",
      "source": [
        "try:\n",
        "  print('안녕하세요.')\n",
        "  #print(param)\n",
        "except:\n",
        "  print('예외가 발생했습니다!')\n",
        "else:\n",
        "  print('예외가 발생하지 않았습니다.')"
      ],
      "metadata": {
        "colab": {
          "base_uri": "https://localhost:8080/"
        },
        "id": "eaf_9bujFCz-",
        "outputId": "8da80ce9-7de3-492e-add5-ebc96604da95"
      },
      "execution_count": 23,
      "outputs": [
        {
          "output_type": "stream",
          "name": "stdout",
          "text": [
            "안녕하세요.\n",
            "예외가 발생하지 않았습니다.\n"
          ]
        }
      ]
    },
    {
      "cell_type": "code",
      "source": [
        "# 초급 57. 예외처리 이해하기(try~except~finally)\n",
        "try:\n",
        "  print('안녕하세요.')\n",
        "  print(param)\n",
        "except:\n",
        "  print('예외가 발생했습니다!')\n",
        "finally:\n",
        "  print('무조건 실행하는 코드')\n",
        "\n",
        "# 오류 발생 유무와 상관없이 어떤 코드를 무조건 실행시키려면 try~except~finally 구문을 활용합니다.\n",
        "# 무조건 실행시키려는 코드는 finally 부분에 작성하면 됩니다."
      ],
      "metadata": {
        "colab": {
          "base_uri": "https://localhost:8080/"
        },
        "id": "4SuonhVpSYwn",
        "outputId": "ad4e0a4c-6b45-49e1-ab46-6473b423e43a"
      },
      "execution_count": 25,
      "outputs": [
        {
          "output_type": "stream",
          "name": "stdout",
          "text": [
            "안녕하세요.\n",
            "예외가 발생했습니다!\n",
            "무조건 실행하는 코드\n"
          ]
        }
      ]
    },
    {
      "cell_type": "code",
      "source": [
        "try:\n",
        "  print('안녕하세요.')\n",
        "  #print(param)\n",
        "except:\n",
        "  print('예외가 발생했습니다!')\n",
        "finally:\n",
        "  print('무조건 실행하는 코드')"
      ],
      "metadata": {
        "colab": {
          "base_uri": "https://localhost:8080/"
        },
        "id": "GT428zJ5SYy-",
        "outputId": "6f38202f-a1c4-4f88-b77d-d2ceb76f882b"
      },
      "execution_count": 24,
      "outputs": [
        {
          "output_type": "stream",
          "name": "stdout",
          "text": [
            "안녕하세요.\n",
            "무조건 실행하는 코드\n"
          ]
        }
      ]
    },
    {
      "cell_type": "code",
      "source": [
        "# 초급 58. 예외처리 이해하기(try~excetp Exception as e)\n",
        "try:\n",
        "  print(param)\n",
        "except Exception as e:\n",
        "  print(e)\n",
        " # 코드에서 예외가 발생하면 이에 대한 자세한 내용을 파악하는 것이 중요합니다.\n",
        " # 파이썬은 발생 가능한 예외에 대해 exception 객체로 미리 정의해두고 있다.\n",
        "\n",
        " # print(param): NameError 예외를 발생시키고, except Exception as e는 NameError 객체를 e라는\n",
        " # 이름으로 접근할 수 있게 해줍니다."
      ],
      "metadata": {
        "colab": {
          "base_uri": "https://localhost:8080/"
        },
        "id": "FgK1OFx-SY1_",
        "outputId": "7cc8a50b-cc1e-4518-fe72-6aa855d5189a"
      },
      "execution_count": 26,
      "outputs": [
        {
          "output_type": "stream",
          "name": "stdout",
          "text": [
            "name 'param' is not defined\n"
          ]
        }
      ]
    },
    {
      "cell_type": "code",
      "source": [
        "# 초급 59. 예외처리 이해하기(try~except 특정 예외)\n",
        "import time\n",
        "count=1\n",
        "try:\n",
        "  while True:\n",
        "    print(count)\n",
        "    count+=1\n",
        "    time.sleep(0.5)\n",
        "except KeyboardInterrupt: #ctrl+c가 입력되면 발생하는 오류\n",
        "  print('사용자에 의해 프로그램이 중단되었습니다.')\n",
        "\n",
        "  # 코드에서 특정 예외 상황이 발생했을 때만 except에서 처리할 수 있는 방법이 있는데, except 다음에 특정 예외를 명시해주면 됩니다.\n",
        "  # 사용자에 의해 ctrl+c가 입력되면 try 내부에 있는 로직에서 KeyboardInterrupt 예외가 발생하게 되고, except KeyboardInterrupt 부분으로\n",
        "  # 제어가 넘어갑니다. 이 부분은 별다른 처리없이 화면세 '사용자에 의해 프로그램이 중단되었습니다.'를 출력하고 프로그램을 종료합니다."
      ],
      "metadata": {
        "colab": {
          "base_uri": "https://localhost:8080/"
        },
        "id": "4VOEmxSNSY4W",
        "outputId": "82576955-9e32-4e58-c31c-10e658d80c6e"
      },
      "execution_count": 29,
      "outputs": [
        {
          "output_type": "stream",
          "name": "stdout",
          "text": [
            "1\n",
            "2\n",
            "3\n",
            "4\n",
            "5\n",
            "6\n",
            "7\n",
            "8\n",
            "9\n",
            "10\n",
            "11\n",
            "12\n",
            "13\n",
            "14\n",
            "15\n",
            "16\n",
            "17\n",
            "18\n",
            "19\n",
            "20\n",
            "21\n",
            "22\n",
            "23\n",
            "사용자에 의해 프로그램이 중단되었습니다.\n"
          ]
        }
      ]
    },
    {
      "cell_type": "code",
      "source": [
        "# 초급 60. 사용자 입력받기(input)\n",
        "k=input('<값>을 입력하세요:')\n",
        "# 사용자가 키보드로 값을 입력하고 enter를 누르면 input()은 사용자가 입력한 값을 문자열로 리턴하며,\n",
        "# 변수 k에 대입합니다.\n",
        "\n",
        "print('당신이 입력한 값은 <'+k+'>입니다.')"
      ],
      "metadata": {
        "colab": {
          "base_uri": "https://localhost:8080/"
        },
        "id": "8f8VFSh3SY7O",
        "outputId": "94161e20-8b2b-4490-eafc-b52eab96d77d"
      },
      "execution_count": 31,
      "outputs": [
        {
          "output_type": "stream",
          "name": "stdout",
          "text": [
            "<값>을 입력하세요:안녕하세요\n",
            "당신이 입력한 값은 <안녕하세요>입니다.\n"
          ]
        }
      ]
    },
    {
      "cell_type": "code",
      "source": [
        "# 파이썬 내장 함수 input(): 사용자가 키보드로 입력한 값을 문자열로 리턴합니다.\n",
        "# input()의 인자는 사용자 입력을 돕기 위한 안내 문구나 힌트 등을 표시하는 문자열이 됩니다."
      ],
      "metadata": {
        "id": "F-_hivuNSY-B"
      },
      "execution_count": 32,
      "outputs": []
    }
  ]
}
