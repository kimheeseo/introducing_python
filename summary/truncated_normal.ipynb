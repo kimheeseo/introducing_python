{
  "nbformat": 4,
  "nbformat_minor": 0,
  "metadata": {
    "colab": {
      "provenance": [],
      "authorship_tag": "ABX9TyM16Un7MUh+ki81lH5FRBB6",
      "include_colab_link": true
    },
    "kernelspec": {
      "name": "python3",
      "display_name": "Python 3"
    },
    "language_info": {
      "name": "python"
    }
  },
  "cells": [
    {
      "cell_type": "markdown",
      "metadata": {
        "id": "view-in-github",
        "colab_type": "text"
      },
      "source": [
        "<a href=\"https://colab.research.google.com/github/kimheeseo/python_summary/blob/main/truncated_normal.ipynb\" target=\"_parent\"><img src=\"https://colab.research.google.com/assets/colab-badge.svg\" alt=\"Open In Colab\"/></a>"
      ]
    },
    {
      "cell_type": "markdown",
      "source": [
        "# **softplus**"
      ],
      "metadata": {
        "id": "47nslioTn5uq"
      }
    },
    {
      "cell_type": "code",
      "execution_count": 2,
      "metadata": {
        "colab": {
          "base_uri": "https://localhost:8080/"
        },
        "id": "xMzOUHFnmvrI",
        "outputId": "9634f642-308c-4d3a-991b-e2623a3a6022"
      },
      "outputs": [
        {
          "output_type": "stream",
          "name": "stdout",
          "text": [
            "output값 tensor([0.9563, 0.7292])\n"
          ]
        }
      ],
      "source": [
        "import torch\n",
        "import torch.nn as nn\n",
        "\n",
        "m=nn.Softplus()\n",
        "input=torch.randn(2)\n",
        "print('input값',input)\n",
        "output=m(input)\n",
        "print('output값',output)"
      ]
    },
    {
      "cell_type": "code",
      "source": [
        "import tensorflow as tf\n",
        "x=tf.constant([0.4712, 0.0708])\n",
        "y=tf.nn.softplus(x)\n",
        "print('y값',y)"
      ],
      "metadata": {
        "colab": {
          "base_uri": "https://localhost:8080/"
        },
        "id": "wlHsTuN6pE0f",
        "outputId": "094f0af7-8e5a-49c0-a2c1-ea4af5a8ee1a"
      },
      "execution_count": 6,
      "outputs": [
        {
          "output_type": "stream",
          "name": "stdout",
          "text": [
            "y값 tf.Tensor([0.95624787 0.7291736 ], shape=(2,), dtype=float32)\n"
          ]
        }
      ]
    },
    {
      "cell_type": "markdown",
      "source": [
        "# **tf.truncated_normal**"
      ],
      "metadata": {
        "id": "V6iWnIr_qqfw"
      }
    },
    {
      "cell_type": "code",
      "source": [
        "import tensorflow as tf\n",
        "x=tf.Variable(tf.random.truncated_normal((100000,)))#,dtype=tf.float32, stddev=1, seed=1))\n",
        "x"
      ],
      "metadata": {
        "colab": {
          "base_uri": "https://localhost:8080/"
        },
        "id": "RnKlD250quT7",
        "outputId": "66a55cab-1537-471c-9300-20dc60be4f8e"
      },
      "execution_count": 21,
      "outputs": [
        {
          "output_type": "execute_result",
          "data": {
            "text/plain": [
              "<tf.Variable 'Variable:0' shape=(100000,) dtype=float32, numpy=\n",
              "array([ 0.8683421 ,  1.1939509 , -0.2748588 , ...,  1.4177058 ,\n",
              "        0.03919997, -0.7468782 ], dtype=float32)>"
            ]
          },
          "metadata": {},
          "execution_count": 21
        }
      ]
    },
    {
      "cell_type": "code",
      "source": [
        "import matplotlib.pyplot as plt\n",
        "plt.hist(x)"
      ],
      "metadata": {
        "colab": {
          "base_uri": "https://localhost:8080/",
          "height": 374
        },
        "id": "0aOSRVZ1rc-n",
        "outputId": "208e11be-dbdd-40d4-fc4c-c814c0c4d957"
      },
      "execution_count": 22,
      "outputs": [
        {
          "output_type": "execute_result",
          "data": {
            "text/plain": [
              "(array([ 3288.,  6390., 10119., 13893., 16226., 16359., 13961., 10218.,\n",
              "         6227.,  3319.]),\n",
              " array([-1.9998413e+00, -1.5998716e+00, -1.1999021e+00, -7.9993242e-01,\n",
              "        -3.9996278e-01,  6.8545341e-06,  3.9997649e-01,  7.9994613e-01,\n",
              "         1.1999158e+00,  1.5998855e+00,  1.9998550e+00], dtype=float32),\n",
              " <a list of 10 Patch objects>)"
            ]
          },
          "metadata": {},
          "execution_count": 22
        },
        {
          "output_type": "display_data",
          "data": {
            "text/plain": [
              "<Figure size 432x288 with 1 Axes>"
            ],
            "image/png": "[encoded data removed]"
          },
          "metadata": {
            "needs_background": "light"
          }
        }
      ]
    },
    {
      "cell_type": "code",
      "source": [
        "y=tf.compat.v1.truncated_normal([100000,], mean=0.0, stddev=1.0, dtype=tf.float32)\n",
        "plt.hist(y)"
      ],
      "metadata": {
        "colab": {
          "base_uri": "https://localhost:8080/",
          "height": 374
        },
        "id": "1n1h1tp4sDJt",
        "outputId": "661273c7-683a-41c7-d926-270e7e1033f4"
      },
      "execution_count": 33,
      "outputs": [
        {
          "output_type": "execute_result",
          "data": {
            "text/plain": [
              "(array([ 3423.,  6326., 10090., 13925., 16241., 16225., 14088.,  9962.,\n",
              "         6328.,  3392.]),\n",
              " array([-1.9999492e+00, -1.5999665e+00, -1.1999838e+00, -8.0000108e-01,\n",
              "        -4.0001836e-01, -3.5643578e-05,  3.9994708e-01,  7.9992980e-01,\n",
              "         1.1999125e+00,  1.5998952e+00,  1.9998779e+00], dtype=float32),\n",
              " <a list of 10 Patch objects>)"
            ]
          },
          "metadata": {},
          "execution_count": 33
        },
        {
          "output_type": "display_data",
          "data": {
            "text/plain": [
              "<Figure size 432x288 with 1 Axes>"
            ],
            "image/png": "[encoded data removed]"
          },
          "metadata": {
            "needs_background": "light"
          }
        }
      ]
    },
    {
      "cell_type": "code",
      "source": [
        "def truncated_normal(t, mean=0.0, std=0.01):\n",
        "    torch.nn.init.normal_(t, mean=mean, std=std)\n",
        "    while True:\n",
        "      cond = torch.logical_or(t < mean - 2*std, t > mean + 2*std)\n",
        "      if not torch.sum(cond):\n",
        "        break\n",
        "      t = torch.where(cond, torch.nn.init.normal_(torch.ones(t.shape), mean=mean, std=std), t)\n",
        "    return t"
      ],
      "metadata": {
        "id": "EzHondM4spCp"
      },
      "execution_count": 27,
      "outputs": []
    },
    {
      "cell_type": "code",
      "source": [
        "import torch.nn.init as init\n",
        "x = init.uniform_(torch.Tensor(10,1),-2,2)\n",
        "\n",
        "print(x)"
      ],
      "metadata": {
        "colab": {
          "base_uri": "https://localhost:8080/"
        },
        "id": "68aOQW3jspfX",
        "outputId": "bb9c8921-89a9-4ef6-b21c-085939b58078"
      },
      "execution_count": 34,
      "outputs": [
        {
          "output_type": "stream",
          "name": "stdout",
          "text": [
            "tensor([[ 1.3437],\n",
            "        [ 1.7126],\n",
            "        [ 1.7159],\n",
            "        [-1.4502],\n",
            "        [-1.2262],\n",
            "        [-0.4939],\n",
            "        [-1.1580],\n",
            "        [-0.8414],\n",
            "        [ 0.8544],\n",
            "        [-0.6989]])\n"
          ]
        }
      ]
    },
    {
      "cell_type": "code",
      "source": [
        "num_edges=5\n",
        "xx=tf.Variable(tf.random.truncated_normal([num_edges],dtype=tf.float32,stddev=1.0))\n",
        "print(xx)"
      ],
      "metadata": {
        "colab": {
          "base_uri": "https://localhost:8080/"
        },
        "id": "syZb700SvCHw",
        "outputId": "fbd56b22-59e6-4a91-eb51-41c47a495d94"
      },
      "execution_count": 35,
      "outputs": [
        {
          "output_type": "stream",
          "name": "stdout",
          "text": [
            "<tf.Variable 'Variable:0' shape=(5,) dtype=float32, numpy=\n",
            "array([-0.2899443 , -0.7069553 ,  0.19897437,  1.4516197 , -1.3188944 ],\n",
            "      dtype=float32)>\n"
          ]
        }
      ]
    },
    {
      "cell_type": "code",
      "source": [
        "xx2 = init.uniform_(torch.Tensor(5),-2,2)\n",
        "print(xx2)"
      ],
      "metadata": {
        "colab": {
          "base_uri": "https://localhost:8080/"
        },
        "id": "KroirpSzvJj2",
        "outputId": "495a7c48-35ee-4bb9-b0de-35c82cfe729e"
      },
      "execution_count": 36,
      "outputs": [
        {
          "output_type": "stream",
          "name": "stdout",
          "text": [
            "tensor([ 0.7138, -0.5696,  1.2140,  0.0839,  1.6598])\n"
          ]
        }
      ]
    }
  ]
}