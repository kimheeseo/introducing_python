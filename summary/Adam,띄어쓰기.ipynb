{
  "nbformat": 4,
  "nbformat_minor": 0,
  "metadata": {
    "colab": {
      "provenance": [],
      "authorship_tag": "ABX9TyNPo4H3ofX8KG53h2jcrt4l",
      "include_colab_link": true
    },
    "kernelspec": {
      "name": "python3",
      "display_name": "Python 3"
    },
    "language_info": {
      "name": "python"
    }
  },
  "cells": [
    {
      "cell_type": "markdown",
      "metadata": {
        "id": "view-in-github",
        "colab_type": "text"
      },
      "source": [
        "<a href=\"https://colab.research.google.com/github/kimheeseo/python_summary/blob/main/Adam%2C%EB%9D%84%EC%96%B4%EC%93%B0%EA%B8%B0.ipynb\" target=\"_parent\"><img src=\"https://colab.research.google.com/assets/colab-badge.svg\" alt=\"Open In Colab\"/></a>"
      ]
    },
    {
      "cell_type": "code",
      "execution_count": 10,
      "metadata": {
        "colab": {
          "base_uri": "https://localhost:8080/"
        },
        "id": "FBfBl3L1394u",
        "outputId": "b4c3fe49-a93a-4378-8816-cd5b07c14ca9"
      },
      "outputs": [
        {
          "output_type": "stream",
          "name": "stdout",
          "text": [
            "x값 tensor(-0.6386)\n",
            "x값 tensor(1.0308)\n",
            "x값 tensor(0.2337)\n",
            "x값 tensor(-0.2321)\n",
            "x값 tensor(-1.1595)\n",
            "x값 tensor(-0.2003)\n",
            "x값 tensor(1.6701)\n",
            "x값 tensor(0.2110)\n",
            "x값 tensor(-0.5114)\n",
            "x값 tensor(0.7584)\n",
            "\n",
            "\n",
            "t값 tensor(5.8409)\n",
            "t값 tensor(9.8719)\n",
            "t값 tensor(7.9940)\n",
            "t값 tensor(6.6923)\n",
            "t값 tensor(4.3764)\n",
            "t값 tensor(6.8328)\n",
            "t값 tensor(11.4549)\n",
            "t값 tensor(7.6900)\n",
            "t값 tensor(5.9663)\n",
            "t값 tensor(9.1946)\n"
          ]
        }
      ],
      "source": [
        "import torch\n",
        "from torch import nn\n",
        "import torch.optim as optim\n",
        "a = 2.4785694\n",
        "b = 7.3256989\n",
        "error = 0.1\n",
        "n = 100 \n",
        "\n",
        "# Data\n",
        "x = torch.randn(n, 1)\n",
        "for i in range(0,100):\n",
        "  if i%10 == 0 :\n",
        "    print('x값',x[i,0])\n",
        "print('\\n')\n",
        "t = a * x + b + (torch.randn(n, 1) * error)\n",
        "for i in range(0,100):\n",
        "  if i % 100 == 0:\n",
        "    for j in range(0,100):\n",
        "      if j % 10 == 0:\n",
        "        print('t값',t[j,0])"
      ]
    },
    {
      "cell_type": "code",
      "source": [
        "model = nn.Linear(1, 1)\n",
        "print('model값',model)\n",
        "\n",
        "optimizer = optim.Adam(model.parameters(), lr=0.05)\n",
        "print('optimizer',optimizer)\n",
        "print('model.parameters()',model.parameters())\n",
        "loss_fn = nn.MSELoss()"
      ],
      "metadata": {
        "colab": {
          "base_uri": "https://localhost:8080/"
        },
        "id": "N4S1J0f94I-E",
        "outputId": "456c1c55-4d58-4cd4-8da9-9d457065e586"
      },
      "execution_count": 12,
      "outputs": [
        {
          "output_type": "stream",
          "name": "stdout",
          "text": [
            "model값 Linear(in_features=1, out_features=1, bias=True)\n",
            "optimizer Adam (\n",
            "Parameter Group 0\n",
            "    amsgrad: False\n",
            "    betas: (0.9, 0.999)\n",
            "    capturable: False\n",
            "    differentiable: False\n",
            "    eps: 1e-08\n",
            "    foreach: None\n",
            "    fused: False\n",
            "    lr: 0.05\n",
            "    maximize: False\n",
            "    weight_decay: 0\n",
            ")\n",
            "model.parameters() <generator object Module.parameters at 0x7fd6b5039c10>\n"
          ]
        }
      ]
    },
    {
      "cell_type": "code",
      "source": [
        "# Run training\n",
        "niter = 10\n",
        "for _ in range(0, niter):\n",
        "\toptimizer.zero_grad()\n",
        "\tpredictions = model(x)\n",
        "  \n",
        "\tloss = loss_fn(predictions, t)\n",
        "\tloss.backward()\n",
        "\toptimizer.step()\n",
        "  \n",
        "\tprint(\"-\" * 10)\n",
        "\tprint(\"learned a = {}\".format(list(model.parameters())[0].data[0, 0]))\n",
        "\tprint(\"learned b = {}\".format(list(model.parameters())[1].data[0]))"
      ],
      "metadata": {
        "colab": {
          "base_uri": "https://localhost:8080/"
        },
        "id": "5tvnYbqf5Jyf",
        "outputId": "de6c3c3b-bc45-4a0d-da12-f7a2253e1bf0"
      },
      "execution_count": 34,
      "outputs": [
        {
          "output_type": "stream",
          "name": "stdout",
          "text": [
            "----------\n",
            "learned a = 1.274775505065918\n",
            "learned b = 2.0596065521240234\n",
            "----------\n",
            "learned a = 1.3167005777359009\n",
            "learned b = 2.1060330867767334\n",
            "----------\n",
            "learned a = 1.3581358194351196\n",
            "learned b = 2.1522557735443115\n",
            "----------\n",
            "learned a = 1.3990705013275146\n",
            "learned b = 2.1982710361480713\n",
            "----------\n",
            "learned a = 1.439494252204895\n",
            "learned b = 2.2440755367279053\n",
            "----------\n",
            "learned a = 1.4793970584869385\n",
            "learned b = 2.289666175842285\n",
            "----------\n",
            "learned a = 1.518769383430481\n",
            "learned b = 2.3350396156311035\n",
            "----------\n",
            "learned a = 1.5576021671295166\n",
            "learned b = 2.3801932334899902\n",
            "----------\n",
            "learned a = 1.5958868265151978\n",
            "learned b = 2.425124168395996\n",
            "----------\n",
            "learned a = 1.6336151361465454\n",
            "learned b = 2.469829797744751\n"
          ]
        }
      ]
    },
    {
      "cell_type": "markdown",
      "source": [
        "# **띄어쓰기 오류**\n",
        "출처 : https://eat-sleep-code-repeat.tistory.com/1"
      ],
      "metadata": {
        "id": "l0qMMgpT9Gt4"
      }
    },
    {
      "cell_type": "code",
      "source": [
        "def computeMinGong(n1, n2):\n",
        "  small=0\n",
        "  result=0\n",
        "\n",
        "  if n1>n2:\n",
        "    small=n2\n",
        "  else :\n",
        "    small=n1\n",
        "\n",
        "   for i in range(2,small+1):\n",
        "     if (n1%i == 0) and (n2 % i == 0):\n",
        "       result = i\n",
        "    return result"
      ],
      "metadata": {
        "id": "2f_S_hat7nit"
      },
      "execution_count": null,
      "outputs": []
    },
    {
      "cell_type": "code",
      "source": [
        "def computeMinGong(n1, n2):\n",
        "    small=0\n",
        "    result=0\n",
        "\n",
        "    if n1>n2:\n",
        "      small=n2\n",
        "    else :\n",
        "      small=n1\n",
        "      \n",
        "    for i in range(2,small+1):\n",
        "     if (n1%i == 0) and (n2 % i == 0):\n",
        "       result = i\n",
        "    return result\n",
        "\n",
        "num1=int(input(\"첫번째 수를 입력하세요.:\"))\n",
        "num2=int(input(\"두번째 수를 입력하세요.:\"))\n",
        "\n",
        "min_gong=computeMinGong(num1, num2)\n",
        "print('%d와 %d의 최소 공배수 : %d' %(num1, num2,min_gong))\n"
      ],
      "metadata": {
        "colab": {
          "base_uri": "https://localhost:8080/"
        },
        "id": "pj-rD9ZS9eZc",
        "outputId": "89096754-2818-43b4-d28e-076499fd10a0"
      },
      "execution_count": 44,
      "outputs": [
        {
          "output_type": "stream",
          "name": "stdout",
          "text": [
            "첫번째 수를 입력하세요.:50\n",
            "두번째 수를 입력하세요.:20\n",
            "50와 20의 최소 공배수 : 10\n"
          ]
        }
      ]
    }
  ]
}