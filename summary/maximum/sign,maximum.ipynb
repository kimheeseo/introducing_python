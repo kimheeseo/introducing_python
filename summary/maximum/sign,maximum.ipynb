{
  "nbformat": 4,
  "nbformat_minor": 0,
  "metadata": {
    "colab": {
      "provenance": [],
      "authorship_tag": "ABX9TyNTtNWmXr6Fji2iGVu/gyMF",
      "include_colab_link": true
    },
    "kernelspec": {
      "name": "python3",
      "display_name": "Python 3"
    },
    "language_info": {
      "name": "python"
    }
  },
  "cells": [
    {
      "cell_type": "markdown",
      "metadata": {
        "id": "view-in-github",
        "colab_type": "text"
      },
      "source": [
        "<a href=\"https://colab.research.google.com/github/kimheeseo/python_summary/blob/main/sign%2Cmaximum.ipynb\" target=\"_parent\"><img src=\"https://colab.research.google.com/assets/colab-badge.svg\" alt=\"Open In Colab\"/></a>"
      ]
    },
    {
      "cell_type": "code",
      "source": [
        "from google.colab import drive\n",
        "drive.mount('/content/gdrive/')"
      ],
      "metadata": {
        "colab": {
          "base_uri": "https://localhost:8080/"
        },
        "id": "9Tol0WyWT6Sq",
        "outputId": "09fb1cde-a41f-4d50-d23f-75cd405f8462"
      },
      "execution_count": null,
      "outputs": [
        {
          "output_type": "stream",
          "name": "stdout",
          "text": [
            "Mounted at /content/gdrive/\n"
          ]
        }
      ]
    },
    {
      "cell_type": "markdown",
      "source": [
        "# **tensorflow**"
      ],
      "metadata": {
        "id": "EdFWZFD4AKmh"
      }
    },
    {
      "cell_type": "code",
      "source": [
        "import tensorflow as tf\n",
        "x=tf.constant([1, -1, 2, -2.3])\n",
        "y=tf.sign(x)\n",
        "print('y값',y)"
      ],
      "metadata": {
        "id": "uUsDet69Wpqa",
        "outputId": "4132de54-bce4-437d-daa0-436df00ee04a",
        "colab": {
          "base_uri": "https://localhost:8080/"
        }
      },
      "execution_count": 2,
      "outputs": [
        {
          "output_type": "stream",
          "name": "stdout",
          "text": [
            "y값 tf.Tensor([ 1. -1.  1. -1.], shape=(4,), dtype=float32)\n"
          ]
        }
      ]
    },
    {
      "cell_type": "markdown",
      "source": [
        "# **torch**"
      ],
      "metadata": {
        "id": "l1IC-yKAAMsf"
      }
    },
    {
      "cell_type": "code",
      "source": [
        "import torch\n",
        "x=torch.tensor([1,-1,2,-2.3])\n",
        "y=torch.sign(x)\n",
        "print('y값',y)"
      ],
      "metadata": {
        "colab": {
          "base_uri": "https://localhost:8080/"
        },
        "id": "8hNsaXrYAOw-",
        "outputId": "85d032c5-a574-4f63-fbf7-65bb0c8d2701"
      },
      "execution_count": 3,
      "outputs": [
        {
          "output_type": "stream",
          "name": "stdout",
          "text": [
            "y값 tensor([ 1., -1.,  1., -1.])\n"
          ]
        }
      ]
    },
    {
      "cell_type": "markdown",
      "source": [
        "# **maximum : tensorflow**"
      ],
      "metadata": {
        "id": "0ZbKlG_oDlKJ"
      }
    },
    {
      "cell_type": "code",
      "source": [
        "x1=tf.constant([1, -1, 2, -2.3])\n",
        "x2=tf.constant([1.3, -1.2, 4, -5.3])\n",
        "y=tf.maximum(x1,x2)\n",
        "print('y값',y)"
      ],
      "metadata": {
        "colab": {
          "base_uri": "https://localhost:8080/"
        },
        "id": "L508McLkDn6V",
        "outputId": "0a23b93d-aa45-4803-bf67-bd2e1bc203c9"
      },
      "execution_count": 6,
      "outputs": [
        {
          "output_type": "stream",
          "name": "stdout",
          "text": [
            "y값 tf.Tensor([ 1.3 -1.   4.  -2.3], shape=(4,), dtype=float32)\n"
          ]
        }
      ]
    },
    {
      "cell_type": "code",
      "source": [
        "x1=torch.tensor([1, -1, 2, -2.3])\n",
        "x2=torch.tensor([1.3, -1.2, 4, -5.3])\n",
        "y=torch.maximum(x1,x2)\n",
        "print('y값',y)"
      ],
      "metadata": {
        "colab": {
          "base_uri": "https://localhost:8080/"
        },
        "id": "hK_-lWU6D4nu",
        "outputId": "a78763c0-85e8-4670-de97-b08d41ed6ebc"
      },
      "execution_count": 7,
      "outputs": [
        {
          "output_type": "stream",
          "name": "stdout",
          "text": [
            "y값 tensor([ 1.3000, -1.0000,  4.0000, -2.3000])\n"
          ]
        }
      ]
    }
  ]
}
