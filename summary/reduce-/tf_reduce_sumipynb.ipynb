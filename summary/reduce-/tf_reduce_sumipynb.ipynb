{
  "nbformat": 4,
  "nbformat_minor": 0,
  "metadata": {
    "colab": {
      "provenance": [],
      "collapsed_sections": [
        "BCxx1RADUkxA",
        "VWZ9SzNHCBEJ",
        "IlZ5aNawKFlu",
        "IdRd1dROpu8F",
        "U6b7e70CpvBj",
        "bJE3mNhqPfUz",
        "qQ-nAi8ySBxs",
        "J4NAXd0g-d8i",
        "SQk3wvLFVVeb"
      ],
      "include_colab_link": true
    },
    "kernelspec": {
      "name": "python3",
      "display_name": "Python 3"
    },
    "language_info": {
      "name": "python"
    },
    "accelerator": "GPU",
    "gpuClass": "standard"
  },
  "cells": [
    {
      "cell_type": "markdown",
      "metadata": {
        "id": "view-in-github",
        "colab_type": "text"
      },
      "source": [
        "<a href=\"https://colab.research.google.com/github/kimheeseo/python_summary/blob/main/tf_reduce_sumipynb.ipynb\" target=\"_parent\"><img src=\"https://colab.research.google.com/assets/colab-badge.svg\" alt=\"Open In Colab\"/></a>"
      ]
    },
    {
      "cell_type": "code",
      "source": [
        "import numpy as np\n",
        "import torch\n",
        "matrix = torch.range(0,15).reshape(4,4)\n",
        "print('matrix값',matrix)\n",
        "\n",
        "b=torch.sum(matrix)\n",
        "print('b값',b)"
      ],
      "metadata": {
        "colab": {
          "base_uri": "https://localhost:8080/"
        },
        "id": "UbV7mSksdkpp",
        "outputId": "745609ce-345c-4bac-a1f8-2d763c4865c7"
      },
      "execution_count": 9,
      "outputs": [
        {
          "output_type": "stream",
          "name": "stdout",
          "text": [
            "matrix값 tensor([[ 0.,  1.,  2.,  3.],\n",
            "        [ 4.,  5.,  6.,  7.],\n",
            "        [ 8.,  9., 10., 11.],\n",
            "        [12., 13., 14., 15.]])\n",
            "b값 tensor(120.)\n"
          ]
        },
        {
          "output_type": "stream",
          "name": "stderr",
          "text": [
            "<ipython-input-9-30fb05db9216>:3: UserWarning: torch.range is deprecated and will be removed in a future release because its behavior is inconsistent with Python's range builtin. Instead, use torch.arange, which produces values in [start, end).\n",
            "  matrix = torch.range(0,15).reshape(4,4)\n"
          ]
        }
      ]
    },
    {
      "cell_type": "code",
      "source": [
        "matrix2"
      ],
      "metadata": {
        "colab": {
          "base_uri": "https://localhost:8080/"
        },
        "id": "blthbTsPd77y",
        "outputId": "7bd96635-fc03-465b-9bde-0491d5bd2a92"
      },
      "execution_count": 10,
      "outputs": [
        {
          "output_type": "execute_result",
          "data": {
            "text/plain": [
              "array([[0., 0., 0., 0.],\n",
              "       [0., 0., 0., 0.],\n",
              "       [0., 0., 0., 0.],\n",
              "       [0., 0., 0., 0.]])"
            ]
          },
          "metadata": {},
          "execution_count": 10
        }
      ]
    },
    {
      "cell_type": "code",
      "source": [
        "bb=torch.sum(matrix,axis=0)\n",
        "bb"
      ],
      "metadata": {
        "id": "hiKRnG14uzRl",
        "outputId": "4d6a9748-c62e-433c-bac6-617a8dab8214",
        "colab": {
          "base_uri": "https://localhost:8080/"
        }
      },
      "execution_count": 11,
      "outputs": [
        {
          "output_type": "execute_result",
          "data": {
            "text/plain": [
              "tensor([24., 28., 32., 36.])"
            ]
          },
          "metadata": {},
          "execution_count": 11
        }
      ]
    },
    {
      "cell_type": "markdown",
      "source": [
        "# **tensorflow**"
      ],
      "metadata": {
        "id": "6e7-w_mYe0rB"
      }
    },
    {
      "cell_type": "code",
      "source": [
        "import tensorflow as tf\n",
        "import numpy as np\n",
        "matrix = tf.range(0,16,1)\n",
        "matrix=tf.reshape(matrix,[4,4])\n",
        "matrix2=np.zeros([4,4])\n",
        "print('matrix값',matrix)"
      ],
      "metadata": {
        "colab": {
          "base_uri": "https://localhost:8080/"
        },
        "id": "_XI5KQ8qe65f",
        "outputId": "e716c6c9-e03f-4c02-cecf-aa15b64c837c"
      },
      "execution_count": 3,
      "outputs": [
        {
          "output_type": "stream",
          "name": "stdout",
          "text": [
            "matrix값 tf.Tensor(\n",
            "[[ 0  1  2  3]\n",
            " [ 4  5  6  7]\n",
            " [ 8  9 10 11]\n",
            " [12 13 14 15]], shape=(4, 4), dtype=int32)\n"
          ]
        }
      ]
    },
    {
      "cell_type": "code",
      "source": [
        "b=tf.reduce_sum(matrix)\n",
        "print('b값',b)"
      ],
      "metadata": {
        "colab": {
          "base_uri": "https://localhost:8080/"
        },
        "id": "7xaPVVJQfA6K",
        "outputId": "594c3b83-ffeb-47cb-839d-eba8d8e11166"
      },
      "execution_count": 4,
      "outputs": [
        {
          "output_type": "stream",
          "name": "stdout",
          "text": [
            "b값 tf.Tensor(120, shape=(), dtype=int32)\n"
          ]
        }
      ]
    },
    {
      "cell_type": "code",
      "source": [
        "bb=tf.reduce_sum(matrix, axis=0)\n",
        "print('bb값',bb)"
      ],
      "metadata": {
        "id": "847nueb4u0A4",
        "outputId": "c6f321c0-736e-47fc-eb28-58d812e3af01",
        "colab": {
          "base_uri": "https://localhost:8080/"
        }
      },
      "execution_count": 5,
      "outputs": [
        {
          "output_type": "stream",
          "name": "stdout",
          "text": [
            "bb값 tf.Tensor([24 28 32 36], shape=(4,), dtype=int32)\n"
          ]
        }
      ]
    }
  ]
}
