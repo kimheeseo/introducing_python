{
  "nbformat": 4,
  "nbformat_minor": 0,
  "metadata": {
    "colab": {
      "provenance": [],
      "authorship_tag": "ABX9TyPPLF4P4lNnBtAvnYR6PQaH",
      "include_colab_link": true
    },
    "kernelspec": {
      "name": "python3",
      "display_name": "Python 3"
    },
    "language_info": {
      "name": "python"
    },
    "accelerator": "GPU",
    "gpuClass": "standard"
  },
  "cells": [
    {
      "cell_type": "markdown",
      "metadata": {
        "id": "view-in-github",
        "colab_type": "text"
      },
      "source": [
        "<a href=\"https://colab.research.google.com/github/kimheeseo/python_summary/blob/main/reduce_sum.ipynb\" target=\"_parent\"><img src=\"https://colab.research.google.com/assets/colab-badge.svg\" alt=\"Open In Colab\"/></a>"
      ]
    },
    {
      "cell_type": "markdown",
      "source": [
        "# **tensorflow**"
      ],
      "metadata": {
        "id": "4oeAAF7f98Jd"
      }
    },
    {
      "cell_type": "code",
      "source": [
        "#출처 : https://m.blog.naver.com/PostView.naver?isHttpsRedirect=true&blogId=kmkim1222&logNo=220992490164"
      ],
      "metadata": {
        "id": "infM2mjZMFTc"
      },
      "execution_count": 1,
      "outputs": []
    },
    {
      "cell_type": "code",
      "source": [
        "import tensorflow as tf\n",
        "import numpy as np\n",
        "x=np.arange(6).reshape(2,3)\n",
        "print('x값',x)"
      ],
      "metadata": {
        "colab": {
          "base_uri": "https://localhost:8080/"
        },
        "id": "s6h5nTrJ-C7_",
        "outputId": "d7734f77-8eb1-4018-bcf4-12897a4e3d59"
      },
      "execution_count": 12,
      "outputs": [
        {
          "output_type": "stream",
          "name": "stdout",
          "text": [
            "x값 [[0 1 2]\n",
            " [3 4 5]]\n"
          ]
        }
      ]
    },
    {
      "cell_type": "code",
      "source": [
        "sess=tf.compat.v1.Session() #tensorflow 2버전에서 1실행"
      ],
      "metadata": {
        "id": "c-sXsrd03zb1"
      },
      "execution_count": 15,
      "outputs": []
    },
    {
      "cell_type": "code",
      "source": [
        "with tf.compat.v1.Session() as sess:\n",
        "  x=np.arange(6).reshape(2,3)\n",
        "  x=tf.constant(x)\n",
        "  print('x값',x)  \n",
        "  y=sess.run(tf.reduce_sum(x))\n",
        "  y2=sess.run(tf.reduce_sum(x,0))\n",
        "  print('reduce_sum값',y)"
      ],
      "metadata": {
        "colab": {
          "base_uri": "https://localhost:8080/"
        },
        "id": "WvpbF5SkQPi8",
        "outputId": "dabc3856-b966-4c99-ab60-f4233bca36c6"
      },
      "execution_count": 33,
      "outputs": [
        {
          "output_type": "stream",
          "name": "stdout",
          "text": [
            "x값 Tensor(\"Const_7:0\", shape=(2, 3), dtype=int64)\n",
            "reduce_sum값 15\n"
          ]
        }
      ]
    },
    {
      "cell_type": "code",
      "source": [
        "print('axis=0, 열 기준으로 덧셈',y2)\n",
        "print('3 : 0+3')\n",
        "print('5 : 1+4')\n",
        "print('7 : 2+5')"
      ],
      "metadata": {
        "colab": {
          "base_uri": "https://localhost:8080/"
        },
        "id": "pLZIMWkBBRi5",
        "outputId": "49e73d86-aeb5-4f08-ea44-80a1039904f5"
      },
      "execution_count": 36,
      "outputs": [
        {
          "output_type": "stream",
          "name": "stdout",
          "text": [
            "axis=0, 열 기준으로 덧셈 [3 5 7]\n",
            "3 : 0+3\n",
            "5 : 1+4\n",
            "7 : 2+5\n"
          ]
        }
      ]
    },
    {
      "cell_type": "markdown",
      "source": [
        "# **torch**"
      ],
      "metadata": {
        "id": "1V5niAhwAJC0"
      }
    },
    {
      "cell_type": "code",
      "source": [
        "import torch\n",
        "x=torch.tensor([[0,1,2],[3,4,5]])\n",
        "x"
      ],
      "metadata": {
        "id": "9A9Qhxa0X1T3",
        "colab": {
          "base_uri": "https://localhost:8080/"
        },
        "outputId": "488e7358-a755-4195-af08-5f69e2515858"
      },
      "execution_count": 38,
      "outputs": [
        {
          "output_type": "execute_result",
          "data": {
            "text/plain": [
              "tensor([[0, 1, 2],\n",
              "        [3, 4, 5]])"
            ]
          },
          "metadata": {},
          "execution_count": 38
        }
      ]
    },
    {
      "cell_type": "code",
      "source": [
        "y=torch.sum(x)\n",
        "y"
      ],
      "metadata": {
        "colab": {
          "base_uri": "https://localhost:8080/"
        },
        "id": "AtcCuWjzZGId",
        "outputId": "86bbc53e-8e0e-4d0a-95b7-a05bc9449db9"
      },
      "execution_count": 39,
      "outputs": [
        {
          "output_type": "execute_result",
          "data": {
            "text/plain": [
              "tensor(15)"
            ]
          },
          "metadata": {},
          "execution_count": 39
        }
      ]
    },
    {
      "cell_type": "code",
      "source": [
        "y2=torch.sum(x,0)\n",
        "y2"
      ],
      "metadata": {
        "colab": {
          "base_uri": "https://localhost:8080/"
        },
        "id": "edf7e5lpBqQa",
        "outputId": "a878ccc6-7a62-4dbc-e4a8-58a18be9bd48"
      },
      "execution_count": 40,
      "outputs": [
        {
          "output_type": "execute_result",
          "data": {
            "text/plain": [
              "tensor([3, 5, 7])"
            ]
          },
          "metadata": {},
          "execution_count": 40
        }
      ]
    }
  ]
}
