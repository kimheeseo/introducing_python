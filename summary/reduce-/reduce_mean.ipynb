{
  "nbformat": 4,
  "nbformat_minor": 0,
  "metadata": {
    "colab": {
      "provenance": [],
      "collapsed_sections": [
        "zyR8RivAJqgZ",
        "_1Y6NvwGJ1_K",
        "9G4OX7tCJ5zk",
        "GqKj_9D2LUCF",
        "q-4Kc8TZLozU",
        "NK_Hvh1CL4id",
        "0zsVIfCEL8HU",
        "imUw0ukuL8L-",
        "jghEJbgPL8O0",
        "9gkqrOX9M3fp",
        "-0adxc8uzO22",
        "Gnh1SA4TNZLl",
        "GrIGcFUsucJV"
      ],
      "machine_shape": "hm",
      "include_colab_link": true
    },
    "kernelspec": {
      "name": "python3",
      "display_name": "Python 3"
    },
    "language_info": {
      "name": "python"
    },
    "accelerator": "GPU",
    "gpuClass": "standard"
  },
  "cells": [
    {
      "cell_type": "markdown",
      "metadata": {
        "id": "view-in-github",
        "colab_type": "text"
      },
      "source": [
        "<a href=\"https://colab.research.google.com/github/kimheeseo/python_summary/blob/main/reduce_mean.ipynb\" target=\"_parent\"><img src=\"https://colab.research.google.com/assets/colab-badge.svg\" alt=\"Open In Colab\"/></a>"
      ]
    },
    {
      "cell_type": "markdown",
      "source": [
        "# **tensorflow**"
      ],
      "metadata": {
        "id": "CQF4sscKNG_W"
      }
    },
    {
      "cell_type": "code",
      "execution_count": 1,
      "metadata": {
        "id": "wIztlhlhJkEY"
      },
      "outputs": [],
      "source": [
        "import tensorflow as tf"
      ]
    },
    {
      "cell_type": "code",
      "source": [
        "x=tf.constant([[1,1],[2,2]])\n",
        "print('x값',x)"
      ],
      "metadata": {
        "colab": {
          "base_uri": "https://localhost:8080/"
        },
        "id": "woiGHx-6DuC3",
        "outputId": "2d820e70-2401-450e-954e-37bd977db1b7"
      },
      "execution_count": 4,
      "outputs": [
        {
          "output_type": "stream",
          "name": "stdout",
          "text": [
            "x값 tf.Tensor(\n",
            "[[1 1]\n",
            " [2 2]], shape=(2, 2), dtype=int32)\n"
          ]
        }
      ]
    },
    {
      "cell_type": "code",
      "source": [
        "tf.reduce_mean(x)"
      ],
      "metadata": {
        "colab": {
          "base_uri": "https://localhost:8080/"
        },
        "id": "16l7NJDnL84f",
        "outputId": "24a3934e-d05c-475e-a5fd-6f98aab83b38"
      },
      "execution_count": 5,
      "outputs": [
        {
          "output_type": "execute_result",
          "data": {
            "text/plain": [
              "<tf.Tensor: shape=(), dtype=int32, numpy=1>"
            ]
          },
          "metadata": {},
          "execution_count": 5
        }
      ]
    },
    {
      "cell_type": "code",
      "source": [
        "sess=tf.compat.v1.Session() #tensorflow 2버전에서 1실행"
      ],
      "metadata": {
        "id": "pAS3upA3MvRW"
      },
      "execution_count": 6,
      "outputs": []
    },
    {
      "cell_type": "code",
      "source": [
        "import numpy as np\n",
        "with tf.compat.v1.Session() as sess:\n",
        "  x=tf.constant([[1,1],[2,2]])\n",
        "  x2=tf.constant([[2.5,1],[3,2]])\n",
        "  print('x값',x)  \n",
        "  y=sess.run(tf.reduce_mean(x))\n",
        "  print('reduce_mean값',y)\n",
        "\n",
        "  y2=sess.run(tf.reduce_mean(x2))\n",
        "  print('reduce_mean값',y2)"
      ],
      "metadata": {
        "id": "qrA71aZHM4KK",
        "colab": {
          "base_uri": "https://localhost:8080/"
        },
        "outputId": "4bbf1253-c187-456a-b496-4c4468228e89"
      },
      "execution_count": 12,
      "outputs": [
        {
          "output_type": "stream",
          "name": "stdout",
          "text": [
            "x값 Tensor(\"Const_8:0\", shape=(2, 2), dtype=int32)\n",
            "reduce_mean값 1\n",
            "reduce_mean값 2.125\n"
          ]
        }
      ]
    },
    {
      "cell_type": "markdown",
      "source": [
        "# **torch**"
      ],
      "metadata": {
        "id": "-0adxc8uzO22"
      }
    },
    {
      "cell_type": "code",
      "source": [
        "import torch\n",
        "x=torch.tensor([[2.5, 1], [3, 2]])\n",
        "x"
      ],
      "metadata": {
        "id": "YMpWqkKJzO_Q",
        "colab": {
          "base_uri": "https://localhost:8080/"
        },
        "outputId": "978fd3b7-8e5a-4e5f-aa07-e05507005593"
      },
      "execution_count": 16,
      "outputs": [
        {
          "output_type": "execute_result",
          "data": {
            "text/plain": [
              "tensor([[2.5000, 1.0000],\n",
              "        [3.0000, 2.0000]])"
            ]
          },
          "metadata": {},
          "execution_count": 16
        }
      ]
    },
    {
      "cell_type": "code",
      "source": [
        "y=torch.mean(x)\n",
        "print('y값',y)"
      ],
      "metadata": {
        "colab": {
          "base_uri": "https://localhost:8080/"
        },
        "id": "wM081hRCqjPn",
        "outputId": "08e0eeb7-2003-46b4-e1f4-9ad1cac92031"
      },
      "execution_count": 17,
      "outputs": [
        {
          "output_type": "stream",
          "name": "stdout",
          "text": [
            "y값 tensor(2.1250)\n"
          ]
        }
      ]
    }
  ]
}
