{
  "nbformat": 4,
  "nbformat_minor": 0,
  "metadata": {
    "colab": {
      "provenance": [],
      "collapsed_sections": [
        "zyR8RivAJqgZ",
        "_1Y6NvwGJ1_K",
        "9G4OX7tCJ5zk",
        "GqKj_9D2LUCF",
        "q-4Kc8TZLozU",
        "NK_Hvh1CL4id",
        "0zsVIfCEL8HU",
        "imUw0ukuL8L-",
        "jghEJbgPL8O0",
        "9gkqrOX9M3fp",
        "-0adxc8uzO22",
        "Gnh1SA4TNZLl",
        "GrIGcFUsucJV"
      ],
      "machine_shape": "hm",
      "include_colab_link": true
    },
    "kernelspec": {
      "name": "python3",
      "display_name": "Python 3"
    },
    "language_info": {
      "name": "python"
    },
    "accelerator": "GPU",
    "gpuClass": "standard"
  },
  "cells": [
    {
      "cell_type": "markdown",
      "metadata": {
        "id": "view-in-github",
        "colab_type": "text"
      },
      "source": [
        "<a href=\"https://colab.research.google.com/github/kimheeseo/python_summary/blob/main/cast.ipynb\" target=\"_parent\"><img src=\"https://colab.research.google.com/assets/colab-badge.svg\" alt=\"Open In Colab\"/></a>"
      ]
    },
    {
      "cell_type": "markdown",
      "source": [
        "# **tensorflow**"
      ],
      "metadata": {
        "id": "CQF4sscKNG_W"
      }
    },
    {
      "cell_type": "code",
      "execution_count": 6,
      "metadata": {
        "id": "wIztlhlhJkEY",
        "colab": {
          "base_uri": "https://localhost:8080/"
        },
        "outputId": "08f31dee-5d3e-4f4f-ca61-fa3ffe678dea"
      },
      "outputs": [
        {
          "output_type": "stream",
          "name": "stdout",
          "text": [
            "logits값 tf.Tensor(\n",
            "[[1.6513085 9.014812 ]\n",
            " [6.309742  4.345461 ]], shape=(2, 2), dtype=float32)\n"
          ]
        }
      ],
      "source": [
        "import tensorflow as tf\n",
        "tf.random.set_seed(1)\n",
        "logits=tf.random.uniform([2,2],maxval=10,dtype=tf.float32)\n",
        "print('logits값',logits)"
      ]
    },
    {
      "cell_type": "code",
      "source": [
        "print('before cast:',logits)\n",
        "\n",
        "logits=tf.cast(logits, dtype=tf.int32)\n",
        "print('after cast:',logits)\n",
        "#float 32 -> int32"
      ],
      "metadata": {
        "colab": {
          "base_uri": "https://localhost:8080/"
        },
        "id": "16l7NJDnL84f",
        "outputId": "7efc9613-7a95-4354-a037-850cf73068f8"
      },
      "execution_count": 7,
      "outputs": [
        {
          "output_type": "stream",
          "name": "stdout",
          "text": [
            "before cast: tf.Tensor(\n",
            "[[1.6513085 9.014812 ]\n",
            " [6.309742  4.345461 ]], shape=(2, 2), dtype=float32)\n",
            "after cast: tf.Tensor(\n",
            "[[1 9]\n",
            " [6 4]], shape=(2, 2), dtype=int32)\n"
          ]
        }
      ]
    },
    {
      "cell_type": "markdown",
      "source": [
        "# **torch**"
      ],
      "metadata": {
        "id": "yVaU-TxBrwHA"
      }
    },
    {
      "cell_type": "code",
      "source": [
        "a=torch.rand(2,2)\n",
        "print('a값',a)\n",
        "print('a.type값',a.dtype)\n",
        "\n",
        "y=a.to(torch.int32)\n",
        "print('변경된 a.type값',y.dtype)"
      ],
      "metadata": {
        "colab": {
          "base_uri": "https://localhost:8080/"
        },
        "id": "iEyEafZmrxX1",
        "outputId": "7bb3ef6d-a8e9-4a38-f0d5-d9da51474615"
      },
      "execution_count": 17,
      "outputs": [
        {
          "output_type": "stream",
          "name": "stdout",
          "text": [
            "a값 tensor([[0.2167, 0.0914],\n",
            "        [0.7405, 0.5445]])\n",
            "a.type값 torch.float32\n",
            "변경된 a.type값 torch.int32\n"
          ]
        }
      ]
    }
  ]
}
