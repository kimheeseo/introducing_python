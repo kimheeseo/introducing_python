{
  "nbformat": 4,
  "nbformat_minor": 0,
  "metadata": {
    "colab": {
      "provenance": [],
      "authorship_tag": "ABX9TyOEkK0FIWKSpJxcuCbLMKnX",
      "include_colab_link": true
    },
    "kernelspec": {
      "name": "python3",
      "display_name": "Python 3"
    },
    "language_info": {
      "name": "python"
    }
  },
  "cells": [
    {
      "cell_type": "markdown",
      "metadata": {
        "id": "view-in-github",
        "colab_type": "text"
      },
      "source": [
        "<a href=\"https://colab.research.google.com/github/kimheeseo/python_summary/blob/main/reduce_min_prod%2Cabs.ipynb\" target=\"_parent\"><img src=\"https://colab.research.google.com/assets/colab-badge.svg\" alt=\"Open In Colab\"/></a>"
      ]
    },
    {
      "cell_type": "markdown",
      "source": [
        "# **tensorflow**"
      ],
      "metadata": {
        "id": "T4Gi3ulzNyAQ"
      }
    },
    {
      "cell_type": "code",
      "execution_count": null,
      "metadata": {
        "id": "k4mOeMWqNtT_",
        "colab": {
          "base_uri": "https://localhost:8080/"
        },
        "outputId": "3aacab62-600e-4a24-c49d-4e15445750b2"
      },
      "outputs": [
        {
          "output_type": "execute_result",
          "data": {
            "text/plain": [
              "<tf.Tensor: shape=(), dtype=int32, numpy=1>"
            ]
          },
          "metadata": {},
          "execution_count": 7
        }
      ],
      "source": [
        "import tensorflow as tf\n",
        "a = tf.constant([\n",
        "  [[1, 2], [3, 4]],\n",
        "  [[1, 2], [3, 4]]\n",
        "])\n",
        "tf.reduce_min(a)"
      ]
    },
    {
      "cell_type": "code",
      "source": [
        "a"
      ],
      "metadata": {
        "colab": {
          "base_uri": "https://localhost:8080/"
        },
        "id": "GYbPQ8TT4SM-",
        "outputId": "73fd67a6-6bf6-4d76-e8fb-699f6b86ceba"
      },
      "execution_count": null,
      "outputs": [
        {
          "output_type": "execute_result",
          "data": {
            "text/plain": [
              "<tf.Tensor: shape=(2, 2, 2), dtype=int32, numpy=\n",
              "array([[[1, 2],\n",
              "        [3, 4]],\n",
              "\n",
              "       [[1, 2],\n",
              "        [3, 4]]], dtype=int32)>"
            ]
          },
          "metadata": {},
          "execution_count": 9
        }
      ]
    },
    {
      "cell_type": "code",
      "source": [
        "b = tf.constant([[1, 2, 7], [4, 5, 6]])\n",
        "b"
      ],
      "metadata": {
        "colab": {
          "base_uri": "https://localhost:8080/"
        },
        "id": "yhzwgXp-N1D6",
        "outputId": "a91f4351-8343-47c7-9ff7-ab444fe63822"
      },
      "execution_count": null,
      "outputs": [
        {
          "output_type": "execute_result",
          "data": {
            "text/plain": [
              "<tf.Tensor: shape=(2, 3), dtype=int32, numpy=\n",
              "array([[1, 2, 7],\n",
              "       [4, 5, 6]], dtype=int32)>"
            ]
          },
          "metadata": {},
          "execution_count": 12
        }
      ]
    },
    {
      "cell_type": "code",
      "source": [
        "c=tf.reduce_min(b, axis=0)\n",
        "d=tf.reduce_min(b, axis=1)\n",
        "print('b값',b)\n",
        "print('c값',c)\n",
        "print('d값',d)"
      ],
      "metadata": {
        "colab": {
          "base_uri": "https://localhost:8080/"
        },
        "id": "yVLhcTGe4XtP",
        "outputId": "87d26f36-0186-40e0-8c46-27e000695058"
      },
      "execution_count": null,
      "outputs": [
        {
          "output_type": "stream",
          "name": "stdout",
          "text": [
            "b값 tf.Tensor(\n",
            "[[1 2 7]\n",
            " [4 5 6]], shape=(2, 3), dtype=int32)\n",
            "c값 tf.Tensor([1 2 6], shape=(3,), dtype=int32)\n",
            "d값 tf.Tensor([1 4], shape=(2,), dtype=int32)\n"
          ]
        }
      ]
    },
    {
      "cell_type": "markdown",
      "source": [
        "# **torch**"
      ],
      "metadata": {
        "id": "7WCem8tcQkAB"
      }
    },
    {
      "cell_type": "code",
      "source": [
        "import torch\n",
        "import torch.nn as nn\n",
        "a = torch.tensor([[1, 2, 7], [4, 5, 6]])\n",
        "a"
      ],
      "metadata": {
        "id": "LUY3yTjSQk8J",
        "colab": {
          "base_uri": "https://localhost:8080/"
        },
        "outputId": "4fc9db2b-d888-4bfe-f3d6-9526bbe8d799"
      },
      "execution_count": null,
      "outputs": [
        {
          "output_type": "execute_result",
          "data": {
            "text/plain": [
              "tensor([[1, 2, 7],\n",
              "        [4, 5, 6]])"
            ]
          },
          "metadata": {},
          "execution_count": 16
        }
      ]
    },
    {
      "cell_type": "code",
      "source": [
        "b=torch.min(a,1)\n",
        "print('b값',b)"
      ],
      "metadata": {
        "colab": {
          "base_uri": "https://localhost:8080/"
        },
        "id": "XAVZXaSuQwBi",
        "outputId": "0bbee92f-98f2-42b8-aac4-14ab4fb0cb81"
      },
      "execution_count": null,
      "outputs": [
        {
          "output_type": "stream",
          "name": "stdout",
          "text": [
            "b값 torch.return_types.min(\n",
            "values=tensor([1, 4]),\n",
            "indices=tensor([0, 0]))\n"
          ]
        }
      ]
    },
    {
      "cell_type": "code",
      "source": [
        "c=torch.min(a,0)\n",
        "print('c값',c)"
      ],
      "metadata": {
        "id": "DGoK4u5HRB1W",
        "outputId": "c7095d1f-baff-446f-aed3-78c99812865e",
        "colab": {
          "base_uri": "https://localhost:8080/"
        }
      },
      "execution_count": null,
      "outputs": [
        {
          "output_type": "stream",
          "name": "stdout",
          "text": [
            "c값 torch.return_types.min(\n",
            "values=tensor([1, 2, 6]),\n",
            "indices=tensor([0, 0, 1]))\n"
          ]
        }
      ]
    },
    {
      "cell_type": "markdown",
      "source": [
        "# **abs**"
      ],
      "metadata": {
        "id": "qFivgRPN5kcV"
      }
    },
    {
      "cell_type": "code",
      "source": [
        "a=tf.constant([-1,-2,-3,-5])\n",
        "b=tf.abs(a)\n",
        "print('b값',b)"
      ],
      "metadata": {
        "colab": {
          "base_uri": "https://localhost:8080/"
        },
        "id": "0AZ0IO7f5koi",
        "outputId": "098e60cf-8dfc-43e5-f09d-bab1dd16188c"
      },
      "execution_count": null,
      "outputs": [
        {
          "output_type": "stream",
          "name": "stdout",
          "text": [
            "b값 tf.Tensor([1 2 3 5], shape=(4,), dtype=int32)\n"
          ]
        }
      ]
    },
    {
      "cell_type": "code",
      "source": [
        "a=torch.tensor([-1,-2,-3,-5])\n",
        "b=torch.abs(a)\n",
        "print('b값',b)"
      ],
      "metadata": {
        "colab": {
          "base_uri": "https://localhost:8080/"
        },
        "id": "mb_N5xY75xyR",
        "outputId": "5e6bfa17-a581-4213-d3a1-83572d9def21"
      },
      "execution_count": null,
      "outputs": [
        {
          "output_type": "stream",
          "name": "stdout",
          "text": [
            "b값 tensor([1, 2, 3, 5])\n"
          ]
        }
      ]
    },
    {
      "cell_type": "markdown",
      "source": [
        "# **reduce_prod : tensorflow**"
      ],
      "metadata": {
        "id": "9XCGTl206uqR"
      }
    },
    {
      "cell_type": "code",
      "source": [
        "x = tf.constant([[1., 2.], [3., 4.]])\n",
        "tf.math.reduce_prod(x)\n",
        "x"
      ],
      "metadata": {
        "colab": {
          "base_uri": "https://localhost:8080/"
        },
        "id": "c47c5UMn6wjO",
        "outputId": "80a2045c-423a-4c99-bf58-ba6880f67522"
      },
      "execution_count": null,
      "outputs": [
        {
          "output_type": "execute_result",
          "data": {
            "text/plain": [
              "<tf.Tensor: shape=(2, 2), dtype=float32, numpy=\n",
              "array([[1., 2.],\n",
              "       [3., 4.]], dtype=float32)>"
            ]
          },
          "metadata": {},
          "execution_count": 26
        }
      ]
    },
    {
      "cell_type": "code",
      "source": [
        "a=tf.math.reduce_prod(x, 0)\n",
        "b=tf.math.reduce_prod(x, 1)\n",
        "print('a값',a)\n",
        "print('b값',b)"
      ],
      "metadata": {
        "colab": {
          "base_uri": "https://localhost:8080/"
        },
        "id": "5WgW7oXY60lp",
        "outputId": "9f2c6a09-0a61-4b8b-bc18-475690ad5f1f"
      },
      "execution_count": null,
      "outputs": [
        {
          "output_type": "stream",
          "name": "stdout",
          "text": [
            "a값 tf.Tensor([3. 8.], shape=(2,), dtype=float32)\n",
            "b값 tf.Tensor([ 2. 12.], shape=(2,), dtype=float32)\n"
          ]
        }
      ]
    },
    {
      "cell_type": "markdown",
      "source": [
        "# **torch**"
      ],
      "metadata": {
        "id": "9jPjuMR-7Aao"
      }
    },
    {
      "cell_type": "code",
      "source": [
        "x=torch.tensor([[1,2],[3,4]])\n",
        "a=torch.prod(x,0)\n",
        "a"
      ],
      "metadata": {
        "colab": {
          "base_uri": "https://localhost:8080/"
        },
        "id": "DYqzCT767Ebg",
        "outputId": "edac5951-0ac2-4199-da0b-564acbb14484"
      },
      "execution_count": null,
      "outputs": [
        {
          "output_type": "execute_result",
          "data": {
            "text/plain": [
              "tensor([3, 8])"
            ]
          },
          "metadata": {},
          "execution_count": 29
        }
      ]
    },
    {
      "cell_type": "code",
      "source": [
        "b=torch.prod(x,1)\n",
        "b"
      ],
      "metadata": {
        "colab": {
          "base_uri": "https://localhost:8080/"
        },
        "id": "O9mVGMwP7W80",
        "outputId": "3919ed4b-be25-4193-f018-4236fa87829b"
      },
      "execution_count": null,
      "outputs": [
        {
          "output_type": "execute_result",
          "data": {
            "text/plain": [
              "tensor([ 2, 12])"
            ]
          },
          "metadata": {},
          "execution_count": 30
        }
      ]
    }
  ]
}
