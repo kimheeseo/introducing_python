{
  "nbformat": 4,
  "nbformat_minor": 0,
  "metadata": {
    "colab": {
      "provenance": [],
      "authorship_tag": "ABX9TyOXhL1n+sGa6Nh7i6+icV21",
      "include_colab_link": true
    },
    "kernelspec": {
      "name": "python3",
      "display_name": "Python 3"
    },
    "language_info": {
      "name": "python"
    }
  },
  "cells": [
    {
      "cell_type": "markdown",
      "metadata": {
        "id": "view-in-github",
        "colab_type": "text"
      },
      "source": [
        "<a href=\"https://colab.research.google.com/github/kimheeseo/python_summary/blob/main/Softmax_Classification.ipynb\" target=\"_parent\"><img src=\"https://colab.research.google.com/assets/colab-badge.svg\" alt=\"Open In Colab\"/></a>"
      ]
    },
    {
      "cell_type": "markdown",
      "source": [
        "# **Lab-06 Softmax Classification**"
      ],
      "metadata": {
        "id": "1VPIgZDf-CHh"
      }
    },
    {
      "cell_type": "code",
      "source": [
        "#출처 : https://youtu.be/B3gtAi-wlG8"
      ],
      "metadata": {
        "id": "tTvMrryQ-COa"
      },
      "execution_count": null,
      "outputs": []
    },
    {
      "cell_type": "code",
      "execution_count": 1,
      "metadata": {
        "id": "KY8UVlmv7zV7"
      },
      "outputs": [],
      "source": [
        "import torch\n",
        "\n",
        "hypothesis=torch.FloatTensor([[0.2645, 0.1639, 0.1855, 0.2585, 0.1277],[0.243, 0.1624, 0.2322, 0.193, 0.1694],[0.2226, 0.1986, 0.2326, 0.1594, 0.1868]])"
      ]
    },
    {
      "cell_type": "code",
      "source": [
        "print('hypothesis값', hypothesis)"
      ],
      "metadata": {
        "colab": {
          "base_uri": "https://localhost:8080/"
        },
        "id": "jjAe3mB78bde",
        "outputId": "aaacd8a1-21fe-4344-e738-5b0aca962cf8"
      },
      "execution_count": 2,
      "outputs": [
        {
          "output_type": "stream",
          "name": "stdout",
          "text": [
            "hypothesis값 tensor([[0.2645, 0.1639, 0.1855, 0.2585, 0.1277],\n",
            "        [0.2430, 0.1624, 0.2322, 0.1930, 0.1694],\n",
            "        [0.2226, 0.1986, 0.2326, 0.1594, 0.1868]])\n"
          ]
        }
      ]
    },
    {
      "cell_type": "code",
      "source": [
        "y_one_hot=torch.zeros_like(hypothesis)\n",
        "print('y_one_hot값', y_one_hot)\n",
        "\n",
        "y=torch.randint(5, (3,)).long()\n",
        "y=torch.tensor([0,2,1])\n",
        "print('y값',y)"
      ],
      "metadata": {
        "colab": {
          "base_uri": "https://localhost:8080/"
        },
        "id": "i69OA2hu8zHt",
        "outputId": "ff31ad37-1c65-4bee-b8d0-13d2528db8ec"
      },
      "execution_count": 17,
      "outputs": [
        {
          "output_type": "stream",
          "name": "stdout",
          "text": [
            "y_one_hot값 tensor([[0., 0., 0., 0., 0.],\n",
            "        [0., 0., 0., 0., 0.],\n",
            "        [0., 0., 0., 0., 0.]])\n",
            "y값 tensor([0, 2, 1])\n"
          ]
        }
      ]
    },
    {
      "cell_type": "code",
      "source": [
        "y.unsqueeze(1)"
      ],
      "metadata": {
        "colab": {
          "base_uri": "https://localhost:8080/"
        },
        "id": "Rm9JixGw9Td_",
        "outputId": "87f70b43-f560-48ef-8a2e-5849eedfd037"
      },
      "execution_count": 18,
      "outputs": [
        {
          "output_type": "execute_result",
          "data": {
            "text/plain": [
              "tensor([[0],\n",
              "        [2],\n",
              "        [1]])"
            ]
          },
          "metadata": {},
          "execution_count": 18
        }
      ]
    },
    {
      "cell_type": "code",
      "source": [
        "y_one_hot.scatter_(1, y.unsqueeze(1),1)"
      ],
      "metadata": {
        "colab": {
          "base_uri": "https://localhost:8080/"
        },
        "id": "l07wuJvo9Tzt",
        "outputId": "4471ba7a-9e58-4756-ace8-866246a28b98"
      },
      "execution_count": 19,
      "outputs": [
        {
          "output_type": "execute_result",
          "data": {
            "text/plain": [
              "tensor([[1., 0., 0., 0., 0.],\n",
              "        [0., 0., 1., 0., 0.],\n",
              "        [0., 1., 0., 0., 0.]])"
            ]
          },
          "metadata": {},
          "execution_count": 19
        }
      ]
    },
    {
      "cell_type": "code",
      "source": [
        "cost=(y_one_hot*-torch.log(hypothesis)).sum(dim=1)\n",
        "cost1=(y_one_hot*-torch.log(hypothesis)).sum(dim=1).mean()\n",
        "print('cost값',cost)\n",
        "print('cost1값',cost1)"
      ],
      "metadata": {
        "colab": {
          "base_uri": "https://localhost:8080/"
        },
        "id": "nY8e63qJ-NrX",
        "outputId": "75d0f1ca-bbd6-47aa-a8ed-017327e7fcff"
      },
      "execution_count": 20,
      "outputs": [
        {
          "output_type": "stream",
          "name": "stdout",
          "text": [
            "cost값 tensor([1.3299, 1.4602, 1.6165])\n",
            "cost1값 tensor(1.4688)\n"
          ]
        }
      ]
    }
  ]
}
