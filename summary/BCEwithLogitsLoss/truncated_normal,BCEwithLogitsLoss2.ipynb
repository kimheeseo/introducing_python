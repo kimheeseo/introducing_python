{
  "nbformat": 4,
  "nbformat_minor": 0,
  "metadata": {
    "colab": {
      "provenance": [],
      "authorship_tag": "ABX9TyNgiMert8+EZSoKsSAarQQN",
      "include_colab_link": true
    },
    "kernelspec": {
      "name": "python3",
      "display_name": "Python 3"
    },
    "language_info": {
      "name": "python"
    }
  },
  "cells": [
    {
      "cell_type": "markdown",
      "metadata": {
        "id": "view-in-github",
        "colab_type": "text"
      },
      "source": [
        "<a href=\"https://colab.research.google.com/github/kimheeseo/python_summary/blob/main/truncated_normal%2CBCEwithLogitsLoss2.ipynb\" target=\"_parent\"><img src=\"https://colab.research.google.com/assets/colab-badge.svg\" alt=\"Open In Colab\"/></a>"
      ]
    },
    {
      "cell_type": "markdown",
      "source": [
        "# **softplus**"
      ],
      "metadata": {
        "id": "47nslioTn5uq"
      }
    },
    {
      "cell_type": "code",
      "execution_count": 2,
      "metadata": {
        "colab": {
          "base_uri": "https://localhost:8080/"
        },
        "id": "xMzOUHFnmvrI",
        "outputId": "9634f642-308c-4d3a-991b-e2623a3a6022"
      },
      "outputs": [
        {
          "output_type": "stream",
          "name": "stdout",
          "text": [
            "output값 tensor([0.9563, 0.7292])\n"
          ]
        }
      ],
      "source": [
        "import torch\n",
        "import torch.nn as nn\n",
        "\n",
        "m=nn.Softplus()\n",
        "input=torch.randn(2)\n",
        "print('input값',input)\n",
        "output=m(input)\n",
        "print('output값',output)"
      ]
    },
    {
      "cell_type": "code",
      "source": [
        "import tensorflow as tf\n",
        "x=tf.constant([0.4712, 0.0708])\n",
        "y=tf.nn.softplus(x)\n",
        "print('y값',y)"
      ],
      "metadata": {
        "colab": {
          "base_uri": "https://localhost:8080/"
        },
        "id": "wlHsTuN6pE0f",
        "outputId": "094f0af7-8e5a-49c0-a2c1-ea4af5a8ee1a"
      },
      "execution_count": 6,
      "outputs": [
        {
          "output_type": "stream",
          "name": "stdout",
          "text": [
            "y값 tf.Tensor([0.95624787 0.7291736 ], shape=(2,), dtype=float32)\n"
          ]
        }
      ]
    },
    {
      "cell_type": "markdown",
      "source": [
        "# **tf.truncated_normal**"
      ],
      "metadata": {
        "id": "V6iWnIr_qqfw"
      }
    },
    {
      "cell_type": "code",
      "source": [
        "import tensorflow as tf\n",
        "x=tf.Variable(tf.random.truncated_normal((100000,)))#,dtype=tf.float32, stddev=1, seed=1))\n",
        "x"
      ],
      "metadata": {
        "colab": {
          "base_uri": "https://localhost:8080/"
        },
        "id": "RnKlD250quT7",
        "outputId": "66a55cab-1537-471c-9300-20dc60be4f8e"
      },
      "execution_count": 21,
      "outputs": [
        {
          "output_type": "execute_result",
          "data": {
            "text/plain": [
              "<tf.Variable 'Variable:0' shape=(100000,) dtype=float32, numpy=\n",
              "array([ 0.8683421 ,  1.1939509 , -0.2748588 , ...,  1.4177058 ,\n",
              "        0.03919997, -0.7468782 ], dtype=float32)>"
            ]
          },
          "metadata": {},
          "execution_count": 21
        }
      ]
    },
    {
      "cell_type": "code",
      "source": [
        "import matplotlib.pyplot as plt\n",
        "plt.hist(x)"
      ],
      "metadata": {
        "colab": {
          "base_uri": "https://localhost:8080/",
          "height": 374
        },
        "id": "0aOSRVZ1rc-n",
        "outputId": "208e11be-dbdd-40d4-fc4c-c814c0c4d957"
      },
      "execution_count": 22,
      "outputs": [
        {
          "output_type": "execute_result",
          "data": {
            "text/plain": [
              "(array([ 3288.,  6390., 10119., 13893., 16226., 16359., 13961., 10218.,\n",
              "         6227.,  3319.]),\n",
              " array([-1.9998413e+00, -1.5998716e+00, -1.1999021e+00, -7.9993242e-01,\n",
              "        -3.9996278e-01,  6.8545341e-06,  3.9997649e-01,  7.9994613e-01,\n",
              "         1.1999158e+00,  1.5998855e+00,  1.9998550e+00], dtype=float32),\n",
              " <a list of 10 Patch objects>)"
            ]
          },
          "metadata": {},
          "execution_count": 22
        },
        {
          "output_type": "display_data",
          "data": {
            "text/plain": [
              "<Figure size 432x288 with 1 Axes>"
            ],
            "image/png": "[encoded data removed]"
          },
          "metadata": {
            "needs_background": "light"
          }
        }
      ]
    },
    {
      "cell_type": "code",
      "source": [
        "y=tf.compat.v1.truncated_normal([100000,], mean=0.0, stddev=1.0, dtype=tf.float32)\n",
        "plt.hist(y)"
      ],
      "metadata": {
        "colab": {
          "base_uri": "https://localhost:8080/",
          "height": 374
        },
        "id": "1n1h1tp4sDJt",
        "outputId": "661273c7-683a-41c7-d926-270e7e1033f4"
      },
      "execution_count": 33,
      "outputs": [
        {
          "output_type": "execute_result",
          "data": {
            "text/plain": [
              "(array([ 3423.,  6326., 10090., 13925., 16241., 16225., 14088.,  9962.,\n",
              "         6328.,  3392.]),\n",
              " array([-1.9999492e+00, -1.5999665e+00, -1.1999838e+00, -8.0000108e-01,\n",
              "        -4.0001836e-01, -3.5643578e-05,  3.9994708e-01,  7.9992980e-01,\n",
              "         1.1999125e+00,  1.5998952e+00,  1.9998779e+00], dtype=float32),\n",
              " <a list of 10 Patch objects>)"
            ]
          },
          "metadata": {},
          "execution_count": 33
        },
        {
          "output_type": "display_data",
          "data": {
            "text/plain": [
              "<Figure size 432x288 with 1 Axes>"
            ],
            "image/png": "[encoded data removed]"
          },
          "metadata": {
            "needs_background": "light"
          }
        }
      ]
    },
    {
      "cell_type": "code",
      "source": [
        "def truncated_normal(t, mean=0.0, std=0.01):\n",
        "    torch.nn.init.normal_(t, mean=mean, std=std)\n",
        "    while True:\n",
        "      cond = torch.logical_or(t < mean - 2*std, t > mean + 2*std)\n",
        "      if not torch.sum(cond):\n",
        "        break\n",
        "      t = torch.where(cond, torch.nn.init.normal_(torch.ones(t.shape), mean=mean, std=std), t)\n",
        "    return t"
      ],
      "metadata": {
        "id": "EzHondM4spCp"
      },
      "execution_count": 27,
      "outputs": []
    },
    {
      "cell_type": "code",
      "source": [
        "import torch.nn.init as init\n",
        "x = init.uniform_(torch.Tensor(10,1),-2,2)\n",
        "\n",
        "print(x)"
      ],
      "metadata": {
        "colab": {
          "base_uri": "https://localhost:8080/"
        },
        "id": "68aOQW3jspfX",
        "outputId": "feed4730-6671-4dd6-afb0-612a23ef3168"
      },
      "execution_count": 40,
      "outputs": [
        {
          "output_type": "stream",
          "name": "stdout",
          "text": [
            "tensor([[ 0.0142],\n",
            "        [-0.2967],\n",
            "        [ 1.7525],\n",
            "        [-1.5052],\n",
            "        [ 0.3921],\n",
            "        [ 0.9341],\n",
            "        [ 1.7351],\n",
            "        [-1.0575],\n",
            "        [-0.3688],\n",
            "        [-1.4180]])\n"
          ]
        }
      ]
    },
    {
      "cell_type": "code",
      "source": [
        "num_edges=5\n",
        "xx=tf.Variable(tf.random.truncated_normal([num_edges],dtype=tf.float32,stddev=1.0))\n",
        "print(xx)"
      ],
      "metadata": {
        "colab": {
          "base_uri": "https://localhost:8080/"
        },
        "id": "syZb700SvCHw",
        "outputId": "fbd56b22-59e6-4a91-eb51-41c47a495d94"
      },
      "execution_count": 35,
      "outputs": [
        {
          "output_type": "stream",
          "name": "stdout",
          "text": [
            "<tf.Variable 'Variable:0' shape=(5,) dtype=float32, numpy=\n",
            "array([-0.2899443 , -0.7069553 ,  0.19897437,  1.4516197 , -1.3188944 ],\n",
            "      dtype=float32)>\n"
          ]
        }
      ]
    },
    {
      "cell_type": "code",
      "source": [
        "xx2 = init.uniform_(torch.Tensor(5),-2,2)\n",
        "print(xx2)"
      ],
      "metadata": {
        "colab": {
          "base_uri": "https://localhost:8080/"
        },
        "id": "KroirpSzvJj2",
        "outputId": "9a3db3aa-8837-46d5-e41e-3f428c2060a1"
      },
      "execution_count": 41,
      "outputs": [
        {
          "output_type": "stream",
          "name": "stdout",
          "text": [
            "tensor([-1.1652,  1.1253,  1.4852, -1.7409, -1.6314])\n"
          ]
        }
      ]
    },
    {
      "cell_type": "markdown",
      "source": [
        "# **sigmoid_cross_entropy_with_logits**"
      ],
      "metadata": {
        "id": "nIjWMlGD0uyF"
      }
    },
    {
      "cell_type": "code",
      "source": [
        "logits = tf.constant([[ 1.0991,  0.5861, -1.0238, -0.4700,  0.5643],\n",
        "        [ 1.4258,  0.6036, -0.7815, -1.3200,  0.6459],\n",
        "        [-0.0199, -1.5941,  1.9586,  0.0447,  1.2787]])\n",
        "labels = tf.constant([[0.1708, 0.0892, 0.3162, 0.1390, 0.2847],\n",
        "        [0.5198, 0.2283, 0.0566, 0.0981, 0.0973],\n",
        "        [0.0381, 0.6169, 0.1212, 0.0572, 0.1665]])\n",
        "a=tf.nn.sigmoid_cross_entropy_with_logits(\n",
        "    labels=labels, logits=logits).numpy()\n",
        "print('a값',a)    "
      ],
      "metadata": {
        "colab": {
          "base_uri": "https://localhost:8080/"
        },
        "id": "3QzvR00u0xEi",
        "outputId": "faa1126b-87d5-4733-9f3d-bb066bf369c6"
      },
      "execution_count": 62,
      "outputs": [
        {
          "output_type": "stream",
          "name": "stdout",
          "text": [
            "a값 [[1.1989338  0.9762553  0.63064194 0.55083925 0.8539281 ]\n",
            " [0.90003544 0.90201193 0.42110574 0.3662507  1.0045174 ]\n",
            " [0.68400484 1.1682947  1.8531717  0.7131901  1.311405  ]]\n"
          ]
        }
      ]
    },
    {
      "cell_type": "code",
      "source": [
        "tf.reduce_mean(tf.nn.sigmoid_cross_entropy_with_logits(labels=labels, logits=logits))/10"
      ],
      "metadata": {
        "colab": {
          "base_uri": "https://localhost:8080/"
        },
        "id": "89ay3iVqDRBS",
        "outputId": "2531e11e-f147-49c6-eef5-be59a606b6ba"
      },
      "execution_count": 43,
      "outputs": [
        {
          "output_type": "execute_result",
          "data": {
            "text/plain": [
              "<tf.Tensor: shape=(), dtype=float32, numpy=0.07617841>"
            ]
          },
          "metadata": {},
          "execution_count": 43
        }
      ]
    },
    {
      "cell_type": "code",
      "source": [
        "loss = nn.CrossEntropyLoss()\n",
        "input = torch.randn(3, 5, requires_grad=True)\n",
        "print('input',input)\n",
        "target = torch.randn(3, 5).softmax(dim=1)\n",
        "print('target',target)\n",
        "\n",
        "output = loss(input, target)\n",
        "print('output',output)"
      ],
      "metadata": {
        "colab": {
          "base_uri": "https://localhost:8080/"
        },
        "id": "weVER6hzEOH9",
        "outputId": "1ccdc917-7866-469c-f337-615b9409b3d5"
      },
      "execution_count": 60,
      "outputs": [
        {
          "output_type": "stream",
          "name": "stdout",
          "text": [
            "input tensor([[ 1.0991,  0.5861, -1.0238, -0.4700,  0.5643],\n",
            "        [ 1.4258,  0.6036, -0.7815, -1.3200,  0.6459],\n",
            "        [-0.0199, -1.5941,  1.9586,  0.0447,  1.2787]], requires_grad=True)\n",
            "target tensor([[0.1708, 0.0892, 0.3162, 0.1390, 0.2847],\n",
            "        [0.5198, 0.2283, 0.0566, 0.0981, 0.0973],\n",
            "        [0.0381, 0.6169, 0.1212, 0.0572, 0.1665]])\n",
            "output tensor(2.1615, grad_fn=<DivBackward1>)\n"
          ]
        }
      ]
    },
    {
      "cell_type": "markdown",
      "source": [
        "# **+) sigmoid_cross_entropy_with_logits**\n",
        "출처 : https://wikidocs.net/69289"
      ],
      "metadata": {
        "id": "HEIJ4EGWO472"
      }
    },
    {
      "cell_type": "code",
      "source": [
        "import numpy as np\n",
        "from sklearn.model_selection import train_test_split\n",
        "import tensorflow as tf\n",
        "tf.compat.v1.disable_eager_execution() #텐서플로우 v2 에서도 실행 가능하게 하기\n",
        "tf.compat.v1.random.set_random_seed(777) #하이퍼파라미터 튜닝을 위해 실행시 마다 변수가 같은 초기값 가지게 하기\n",
        "\n",
        "##########데이터 로드\n",
        "\n",
        "x_data = np.array([\n",
        "    [2, 1],\n",
        "    [3, 2],\n",
        "    [3, 4],\n",
        "    [5, 5],\n",
        "    [7, 5],\n",
        "    [2, 5],\n",
        "    [8, 9],\n",
        "    [9, 10],\n",
        "    [6, 12],\n",
        "    [9, 2],\n",
        "    [6, 10],\n",
        "    [2, 4]\n",
        "])\n",
        "y_data = np.array([\n",
        "    [0], \n",
        "    [0], \n",
        "    [0], \n",
        "    [1], \n",
        "    [1], \n",
        "    [0], \n",
        "    [1], \n",
        "    [1], \n",
        "    [1], \n",
        "    [1], \n",
        "    [1], \n",
        "    [0]\n",
        "])\n",
        "\n",
        "labels = ['fail', 'pass']\n",
        "\n",
        "##########데이터 분석\n",
        "\n",
        "##########데이터 전처리\n",
        "\n",
        "##########모델 생성\n",
        "\n",
        "X = tf.compat.v1.placeholder(tf.float32, shape=[None, 2])\n",
        "Y = tf.compat.v1.placeholder(tf.float32, shape=[None, 1])\n",
        "print('Y값',Y)\n",
        "W = tf.Variable(tf.random.uniform(shape=[2, 1])) \n",
        "b = tf.Variable(tf.random.uniform(shape=[1]))\n",
        "logits = tf.matmul(X, W) + b\n",
        "\n",
        "predictions = tf.nn.sigmoid(logits)\n",
        "\n",
        "##########모델 학습\n",
        "\n",
        "cross_entropy = tf.nn.sigmoid_cross_entropy_with_logits(logits=logits, labels=Y)\n",
        "print('cross_entropy값',cross_entropy)\n",
        "\n",
        "loss = tf.reduce_mean(cross_entropy)\n",
        "print('loss값',loss)\n",
        "optimizer = tf.compat.v1.train.AdamOptimizer(learning_rate=0.001)\n",
        "train_op = optimizer.minimize(loss)\n",
        "\n",
        "sess = tf.compat.v1.Session()\n",
        "sess.run(tf.compat.v1.global_variables_initializer())\n",
        "\n",
        "epochs = 50\n",
        "for epoch_index in range(epochs):\n",
        "    sess.run(train_op, feed_dict={X: x_data, Y: y_data})\n",
        "    loss_value = sess.run(loss, feed_dict={X: x_data, Y: y_data})\n",
        "\n",
        "    print('epoch: {}/{}, loss: {:.4f}'.format(epoch_index+1, epochs, loss_value))\n",
        "\n",
        "##########모델 검증\n",
        "\n",
        "##########모델 예측\n",
        "\n",
        "x_test = np.array([\n",
        "    [4, 6]\n",
        "])\n",
        "\n",
        "y_predict = sess.run(predictions, feed_dict={X: x_test})\n",
        "\n",
        "print(y_predict) #[[0.67222077]]\n",
        "print(y_predict[0]) #[0.67222077]\n",
        "print(y_predict[0][0]) #0.67222077\n",
        "label = labels[1 if y_predict[0][0] > 0.5 else 0]\n",
        "confidence = y_predict[0][0] if y_predict[0][0] > 0.5 else 1 - y_predict[0][0]\n",
        "print(label, confidence) #"
      ],
      "metadata": {
        "colab": {
          "base_uri": "https://localhost:8080/"
        },
        "id": "qnHH5bmoO4qw",
        "outputId": "72594f31-2f67-4352-c673-21aeebff13b2"
      },
      "execution_count": 99,
      "outputs": [
        {
          "output_type": "stream",
          "name": "stdout",
          "text": [
            "Y값 Tensor(\"Placeholder_11:0\", shape=(None, 1), dtype=float32)\n",
            "cross_entropy값 Tensor(\"logistic_loss_5:0\", shape=(None, 1), dtype=float32)\n",
            "loss값 Tensor(\"Mean_5:0\", shape=(), dtype=float32)\n",
            "epoch: 1/50, loss: 0.8743\n",
            "epoch: 2/50, loss: 0.8720\n",
            "epoch: 3/50, loss: 0.8696\n",
            "epoch: 4/50, loss: 0.8673\n",
            "epoch: 5/50, loss: 0.8650\n",
            "epoch: 6/50, loss: 0.8627\n",
            "epoch: 7/50, loss: 0.8604\n",
            "epoch: 8/50, loss: 0.8581\n",
            "epoch: 9/50, loss: 0.8558\n",
            "epoch: 10/50, loss: 0.8535\n",
            "epoch: 11/50, loss: 0.8512\n",
            "epoch: 12/50, loss: 0.8489\n",
            "epoch: 13/50, loss: 0.8466\n",
            "epoch: 14/50, loss: 0.8443\n",
            "epoch: 15/50, loss: 0.8420\n",
            "epoch: 16/50, loss: 0.8398\n",
            "epoch: 17/50, loss: 0.8375\n",
            "epoch: 18/50, loss: 0.8352\n",
            "epoch: 19/50, loss: 0.8330\n",
            "epoch: 20/50, loss: 0.8307\n",
            "epoch: 21/50, loss: 0.8285\n",
            "epoch: 22/50, loss: 0.8262\n",
            "epoch: 23/50, loss: 0.8240\n",
            "epoch: 24/50, loss: 0.8218\n",
            "epoch: 25/50, loss: 0.8195\n",
            "epoch: 26/50, loss: 0.8173\n",
            "epoch: 27/50, loss: 0.8151\n",
            "epoch: 28/50, loss: 0.8129\n",
            "epoch: 29/50, loss: 0.8107\n",
            "epoch: 30/50, loss: 0.8085\n",
            "epoch: 31/50, loss: 0.8063\n",
            "epoch: 32/50, loss: 0.8041\n",
            "epoch: 33/50, loss: 0.8019\n",
            "epoch: 34/50, loss: 0.7997\n",
            "epoch: 35/50, loss: 0.7975\n",
            "epoch: 36/50, loss: 0.7954\n",
            "epoch: 37/50, loss: 0.7932\n",
            "epoch: 38/50, loss: 0.7910\n",
            "epoch: 39/50, loss: 0.7889\n",
            "epoch: 40/50, loss: 0.7867\n",
            "epoch: 41/50, loss: 0.7846\n",
            "epoch: 42/50, loss: 0.7825\n",
            "epoch: 43/50, loss: 0.7804\n",
            "epoch: 44/50, loss: 0.7782\n",
            "epoch: 45/50, loss: 0.7761\n",
            "epoch: 46/50, loss: 0.7740\n",
            "epoch: 47/50, loss: 0.7719\n",
            "epoch: 48/50, loss: 0.7698\n",
            "epoch: 49/50, loss: 0.7677\n",
            "epoch: 50/50, loss: 0.7657\n",
            "[[0.9309189]]\n",
            "[0.9309189]\n",
            "0.9309189\n",
            "pass 0.9309189\n"
          ]
        }
      ]
    },
    {
      "cell_type": "markdown",
      "source": [
        "# **cross_entropy**"
      ],
      "metadata": {
        "id": "RK-jFsjJVzNi"
      }
    },
    {
      "cell_type": "code",
      "source": [
        "import torch\n",
        "x_data=torch.tensor([[2, 1],\n",
        "    [3, 2],\n",
        "    [3, 4],\n",
        "    [5, 5],\n",
        "    [7, 5],\n",
        "    [2, 5],\n",
        "    [8, 9],\n",
        "    [9, 10],\n",
        "    [6, 12],\n",
        "    [9, 2],\n",
        "    [6, 10],\n",
        "    [2, 4]])\n",
        "\n",
        "y_data=torch.tensor([ [0], \n",
        "    [0], \n",
        "    [0], \n",
        "    [1], \n",
        "    [1], \n",
        "    [0], \n",
        "    [1], \n",
        "    [1], \n",
        "    [1], \n",
        "    [1], \n",
        "    [1], \n",
        "    [0]])\n",
        "labels=['fail','pass']"
      ],
      "metadata": {
        "id": "wAf8WnKOV25m"
      },
      "execution_count": 68,
      "outputs": []
    },
    {
      "cell_type": "code",
      "source": [
        "X=torch.randn([1,2])\n",
        "Y=torch.randn([1,1])\n",
        "print('X값',X)\n",
        "print('Y값',Y)\n",
        "\n",
        "W=torch.randn([2,1])\n",
        "b=torch.randn([1,1])\n",
        "logits=torch.matmul(X,W)+b\n",
        "print('logits값',logits)\n",
        "m=nn.Sigmoid()\n",
        "output=m(logits)\n",
        "print('output값',output)"
      ],
      "metadata": {
        "colab": {
          "base_uri": "https://localhost:8080/"
        },
        "id": "vc4ThaAzWDYe",
        "outputId": "4ecd8129-0d85-4894-f637-fe5a6dc18bec"
      },
      "execution_count": 93,
      "outputs": [
        {
          "output_type": "stream",
          "name": "stdout",
          "text": [
            "X값 tensor([[-1.2137, -1.7251]])\n",
            "Y값 tensor([[-0.9701]])\n",
            "logits값 tensor([[2.1934]])\n",
            "output값 tensor([[0.8997]])\n"
          ]
        }
      ]
    },
    {
      "cell_type": "code",
      "source": [
        "cross_entropy=nn.CrossEntropyLoss()\n",
        "output=cross_entropy(logits, Y)\n",
        "print('output값',output)\n",
        "loss=torch.mean(output)\n",
        "print('loss값',loss)"
      ],
      "metadata": {
        "colab": {
          "base_uri": "https://localhost:8080/"
        },
        "id": "namC1WsuYBi6",
        "outputId": "24116a65-643b-49e5-a0b7-c2f72a07a0e4"
      },
      "execution_count": 95,
      "outputs": [
        {
          "output_type": "stream",
          "name": "stdout",
          "text": [
            "output값 tensor(-0.)\n",
            "loss값 tensor(0.)\n"
          ]
        }
      ]
    },
    {
      "cell_type": "markdown",
      "source": [
        "# **+) 지식인 참고**"
      ],
      "metadata": {
        "id": "jzydDfRYqVlQ"
      }
    },
    {
      "cell_type": "code",
      "source": [
        "import torch\n",
        "import torch.nn as nn\n",
        "\n",
        "# Define the input logits and target labels\n",
        "logits = torch.tensor([[-1.0, 1.0, 0.0]])\n",
        "labels = torch.tensor([[0.0, 1.0, 0.0]])\n",
        "\n",
        "# Create a BCEWithLogitsLoss criterion\n",
        "criterion = nn.BCEWithLogitsLoss()\n",
        "\n",
        "# Compute the loss\n",
        "loss = criterion(logits, labels)\n",
        "print(loss)  # Outputs: tensor(0.4170)"
      ],
      "metadata": {
        "colab": {
          "base_uri": "https://localhost:8080/"
        },
        "id": "8tR3BQM_qRAa",
        "outputId": "08e26d22-767e-4fcc-f159-55ae6ca8fe23"
      },
      "execution_count": 100,
      "outputs": [
        {
          "output_type": "stream",
          "name": "stdout",
          "text": [
            "tensor(0.4399)\n"
          ]
        }
      ]
    },
    {
      "cell_type": "code",
      "source": [
        "import torch\n",
        "import torch.nn as nn\n",
        "\n",
        "# Define the input logits and target labels\n",
        "logits = tf.constant([[-1.0, 1.0, 0.0]])\n",
        "labels = tf.constant([[0.0, 1.0, 0.0]])\n",
        "print('labels값',labels)\n",
        "\n",
        "# Create a BCEWithLogitsLoss criterion\n",
        "criterion = tf.nn.sigmoid_cross_entropy_with_logits\n",
        "\n",
        "# Compute the loss\n",
        "a=criterion(labels=labels,logits=logits)\n",
        "print('a값',a)\n",
        "loss =tf.reduce_mean(criterion(labels=labels,logits=logits))\n",
        "print('loss값',loss)  # Outputs: tensor(0.4170)\n",
        "\n",
        "sess = tf.compat.v1.Session()\n",
        "with sess.as_default():\n",
        "  print('loss값',loss.eval())\n",
        "  print('labels값',labels.eval())\n",
        "  aa=loss.eval()\n",
        "print('aa값',aa)  \n",
        "if aa>0:\n",
        "  print('aa값은 0보다 크다.')"
      ],
      "metadata": {
        "colab": {
          "base_uri": "https://localhost:8080/"
        },
        "id": "aiPlpmb4qTks",
        "outputId": "a7ffed27-20b1-40ca-a366-ecb2f80c874b"
      },
      "execution_count": 121,
      "outputs": [
        {
          "output_type": "stream",
          "name": "stdout",
          "text": [
            "labels값 Tensor(\"Const_39:0\", shape=(1, 3), dtype=float32)\n",
            "a값 Tensor(\"logistic_loss_27:0\", shape=(1, 3), dtype=float32)\n",
            "loss값 Tensor(\"Mean_16:0\", shape=(), dtype=float32)\n",
            "loss값 0.43989018\n",
            "labels값 [[0. 1. 0.]]\n",
            "aa값 0.43989018\n",
            "aa값은 0보다 크다.\n"
          ]
        }
      ]
    }
  ]
}
