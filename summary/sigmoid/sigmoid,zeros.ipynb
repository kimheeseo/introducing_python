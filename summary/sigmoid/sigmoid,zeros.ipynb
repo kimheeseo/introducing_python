{
  "nbformat": 4,
  "nbformat_minor": 0,
  "metadata": {
    "colab": {
      "provenance": [],
      "authorship_tag": "ABX9TyP7iTvpwHWtEeVQ64GUje8k",
      "include_colab_link": true
    },
    "kernelspec": {
      "name": "python3",
      "display_name": "Python 3"
    },
    "language_info": {
      "name": "python"
    }
  },
  "cells": [
    {
      "cell_type": "markdown",
      "metadata": {
        "id": "view-in-github",
        "colab_type": "text"
      },
      "source": [
        "<a href=\"https://colab.research.google.com/github/kimheeseo/python_summary/blob/main/sigmoid%2Czeros.ipynb\" target=\"_parent\"><img src=\"https://colab.research.google.com/assets/colab-badge.svg\" alt=\"Open In Colab\"/></a>"
      ]
    },
    {
      "cell_type": "markdown",
      "source": [
        "# **zeros**"
      ],
      "metadata": {
        "id": "EgvqMC0nO-50"
      }
    },
    {
      "cell_type": "code",
      "execution_count": 8,
      "metadata": {
        "colab": {
          "base_uri": "https://localhost:8080/"
        },
        "id": "3oopkDetNvv7",
        "outputId": "ca9795bd-292a-4170-ced1-37d224fa3f54"
      },
      "outputs": [
        {
          "output_type": "stream",
          "name": "stdout",
          "text": [
            "a값 tf.Tensor([[0. 0. 0.]], shape=(1, 3), dtype=float32)\n",
            "b값 tensor([[0., 0., 0.]])\n",
            "c값 tensor([[0., 0., 0.]])\n"
          ]
        }
      ],
      "source": [
        "import tensorflow as tf\n",
        "a=tf.zeros([1,3])\n",
        "print('a값',a)\n",
        "\n",
        "import torch\n",
        "b=torch.zeros([1,3])\n",
        "print('b값',b)\n",
        "\n",
        "c=torch.zeros([1,3],dtype=torch.float32)\n",
        "print('c값',c)"
      ]
    },
    {
      "cell_type": "markdown",
      "source": [
        "# **tf.Variable**"
      ],
      "metadata": {
        "id": "txP-Vq14SL14"
      }
    },
    {
      "cell_type": "code",
      "source": [
        "global_step = tf.Variable(0, trainable=False)\n",
        "global_step"
      ],
      "metadata": {
        "colab": {
          "base_uri": "https://localhost:8080/"
        },
        "id": "Os2RA2FXSMWC",
        "outputId": "03a87cb4-db20-4503-bde9-2d223fdb1271"
      },
      "execution_count": 10,
      "outputs": [
        {
          "output_type": "execute_result",
          "data": {
            "text/plain": [
              "<tf.Variable 'Variable:0' shape=() dtype=int32, numpy=0>"
            ]
          },
          "metadata": {},
          "execution_count": 10
        }
      ]
    },
    {
      "cell_type": "code",
      "source": [
        "a=torch.tensor(0,dtype=torch.int32)\n",
        "a"
      ],
      "metadata": {
        "colab": {
          "base_uri": "https://localhost:8080/"
        },
        "id": "CmfK91JzS0sh",
        "outputId": "ee58b636-8fb6-4418-b4f7-56658178deb7"
      },
      "execution_count": 15,
      "outputs": [
        {
          "output_type": "execute_result",
          "data": {
            "text/plain": [
              "tensor(0, dtype=torch.int32)"
            ]
          },
          "metadata": {},
          "execution_count": 15
        }
      ]
    },
    {
      "cell_type": "markdown",
      "source": [
        "# **session.run(init) 응용**"
      ],
      "metadata": {
        "id": "XsyPAIFbZE2H"
      }
    },
    {
      "cell_type": "code",
      "source": [
        "import tensorflow as tf\n",
        "matrix1=tf.constant([[3,3]])\n",
        "matrix2=tf.constant([[2],[2]])\n",
        "\n",
        "print('matrix1값',matrix1)"
      ],
      "metadata": {
        "colab": {
          "base_uri": "https://localhost:8080/"
        },
        "id": "9jjGHeCZZIEN",
        "outputId": "9a3fcac7-820b-4a5c-e066-58f45934bce9"
      },
      "execution_count": 23,
      "outputs": [
        {
          "output_type": "stream",
          "name": "stdout",
          "text": [
            "matrix1값 tf.Tensor([[3 3]], shape=(1, 2), dtype=int32)\n"
          ]
        }
      ]
    },
    {
      "cell_type": "code",
      "source": [
        "product=tf.matmul(matrix1, matrix2)\n",
        "print(product)"
      ],
      "metadata": {
        "colab": {
          "base_uri": "https://localhost:8080/"
        },
        "id": "v30Q2rQ-ZS2y",
        "outputId": "a1b77b34-e22c-4b78-c2fb-a4ea5ffb5133"
      },
      "execution_count": 25,
      "outputs": [
        {
          "output_type": "stream",
          "name": "stdout",
          "text": [
            "tf.Tensor([[12]], shape=(1, 1), dtype=int32)\n"
          ]
        }
      ]
    },
    {
      "cell_type": "code",
      "source": [
        "matrix1=tf.constant([[3,3],[2,2]])\n",
        "print('matrix1값',matrix1)\n",
        "matrix2=tf.constant([[2,2],[3,4]])\n",
        "product=tf.matmul(matrix1, matrix2)\n",
        "print(product)"
      ],
      "metadata": {
        "colab": {
          "base_uri": "https://localhost:8080/"
        },
        "id": "gAfvypbnaO4M",
        "outputId": "bd43c9d3-b1b2-49ea-924e-df0760641b1d"
      },
      "execution_count": 34,
      "outputs": [
        {
          "output_type": "stream",
          "name": "stdout",
          "text": [
            "matrix1값 tf.Tensor(\n",
            "[[3 3]\n",
            " [2 2]], shape=(2, 2), dtype=int32)\n",
            "tf.Tensor(\n",
            "[[15 18]\n",
            " [10 12]], shape=(2, 2), dtype=int32)\n"
          ]
        }
      ]
    },
    {
      "cell_type": "code",
      "source": [
        "import torch\n",
        "def mat2(x,y):\n",
        "  z=torch.matmul(x,y)\n",
        "  return z"
      ],
      "metadata": {
        "id": "aHcjqN61aocE"
      },
      "execution_count": 30,
      "outputs": []
    },
    {
      "cell_type": "code",
      "source": [
        "x=torch.tensor([[3,3],[2,2]])\n",
        "y=torch.tensor([[2,2],[3,4]])\n",
        "\n",
        "z=mat2(x,y)\n",
        "print('z값',z)"
      ],
      "metadata": {
        "colab": {
          "base_uri": "https://localhost:8080/"
        },
        "id": "hq6obFjFa01T",
        "outputId": "6333ee54-4a9e-435e-eac4-22c54878ad8e"
      },
      "execution_count": 33,
      "outputs": [
        {
          "output_type": "stream",
          "name": "stdout",
          "text": [
            "z값 tensor([[15, 18],\n",
            "        [10, 12]])\n"
          ]
        }
      ]
    },
    {
      "cell_type": "markdown",
      "source": [
        "# **sigmoid**"
      ],
      "metadata": {
        "id": "SiEWt7xqkbZS"
      }
    },
    {
      "cell_type": "code",
      "source": [
        "import torch.nn as nn\n",
        "\n",
        "m = nn.Sigmoid()\n",
        "input = torch.randn(2)\n",
        "print('input값',input)\n",
        "\n",
        "output = m(input)\n",
        "print('output값',output)"
      ],
      "metadata": {
        "colab": {
          "base_uri": "https://localhost:8080/"
        },
        "id": "68ieOiCbkc-g",
        "outputId": "80871519-d8ed-4c9e-d783-e8601c18a28d"
      },
      "execution_count": 38,
      "outputs": [
        {
          "output_type": "stream",
          "name": "stdout",
          "text": [
            "input값 tensor([1.3437, 0.3150])\n",
            "output값 tensor([0.7931, 0.5781])\n"
          ]
        }
      ]
    },
    {
      "cell_type": "code",
      "source": [
        "input2=tf.constant([1.3437, 0.315])\n",
        "print('input2값',input2)\n",
        "\n",
        "output=tf.sigmoid(input2)\n",
        "print('output값',output)"
      ],
      "metadata": {
        "colab": {
          "base_uri": "https://localhost:8080/"
        },
        "id": "WAwfmRq0klin",
        "outputId": "e4018b0a-2b17-4011-b8fa-cf7c6587aaf3"
      },
      "execution_count": 40,
      "outputs": [
        {
          "output_type": "stream",
          "name": "stdout",
          "text": [
            "input2값 tf.Tensor([1.3437 0.315 ], shape=(2,), dtype=float32)\n",
            "output값 tf.Tensor([0.79309773 0.5781052 ], shape=(2,), dtype=float32)\n"
          ]
        }
      ]
    }
  ]
}
