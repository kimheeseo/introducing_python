{
  "cells": [
    {
      "cell_type": "markdown",
      "metadata": {
        "id": "view-in-github",
        "colab_type": "text"
      },
      "source": [
        "<a href=\"https://colab.research.google.com/github/kimheeseo/python_summary/blob/main/gather.ipynb\" target=\"_parent\"><img src=\"https://colab.research.google.com/assets/colab-badge.svg\" alt=\"Open In Colab\"/></a>"
      ]
    },
    {
      "cell_type": "markdown",
      "source": [
        "# **tensorflow**"
      ],
      "metadata": {
        "id": "MD4W0H6SF23K"
      }
    },
    {
      "cell_type": "code",
      "execution_count": 1,
      "metadata": {
        "colab": {
          "base_uri": "https://localhost:8080/"
        },
        "id": "Wpu6HK9CEL7e",
        "outputId": "6cb9a5fd-dc1a-4a4c-c5b6-6271009abc53"
      },
      "outputs": [
        {
          "output_type": "execute_result",
          "data": {
            "text/plain": [
              "<tf.Tensor: shape=(4, 3), dtype=float32, numpy=\n",
              "array([[ 0.,  1.,  2.],\n",
              "       [10., 11., 12.],\n",
              "       [20., 21., 22.],\n",
              "       [30., 31., 32.]], dtype=float32)>"
            ]
          },
          "metadata": {},
          "execution_count": 1
        }
      ],
      "source": [
        "import tensorflow as tf\n",
        "params = tf.constant([[0, 1.0, 2.0],\n",
        "                      [10.0, 11.0, 12.0],\n",
        "                      [20.0, 21.0, 22.0],\n",
        "                      [30.0, 31.0, 32.0]])\n",
        "params"
      ]
    },
    {
      "cell_type": "code",
      "execution_count": 11,
      "metadata": {
        "colab": {
          "base_uri": "https://localhost:8080/"
        },
        "id": "ZZUjAxFcEOL8",
        "outputId": "48f6a1c8-091e-4464-aa9f-fe560d048bc5"
      },
      "outputs": [
        {
          "output_type": "execute_result",
          "data": {
            "text/plain": [
              "array([[30., 31., 32.],\n",
              "       [10., 11., 12.],\n",
              "       [10., 11., 12.],\n",
              "       [30., 31., 32.]], dtype=float32)"
            ]
          },
          "metadata": {},
          "execution_count": 11
        }
      ],
      "source": [
        "tf.gather(params, indices=[3,1,1,3]).numpy()"
      ]
    },
    {
      "cell_type": "markdown",
      "source": [
        "# **torch**"
      ],
      "metadata": {
        "id": "P_VQD7O_F7oj"
      }
    },
    {
      "cell_type": "code",
      "source": [
        "import torch\n",
        "x=torch.tensor([[0, 1.0, 2.0],\n",
        "                      [10.0, 11.0, 12.0],\n",
        "                      [20.0, 21.0, 22.0],\n",
        "                      [30.0, 31.0, 32.0]])\n",
        "print('x값',x)"
      ],
      "metadata": {
        "id": "-suUhiPQ3eXo",
        "colab": {
          "base_uri": "https://localhost:8080/"
        },
        "outputId": "c139511f-d273-4fac-dc10-a1b7fa4eca8d"
      },
      "execution_count": 5,
      "outputs": [
        {
          "output_type": "stream",
          "name": "stdout",
          "text": [
            "x값 tensor([[ 0.,  1.,  2.],\n",
            "        [10., 11., 12.],\n",
            "        [20., 21., 22.],\n",
            "        [30., 31., 32.]])\n"
          ]
        }
      ]
    },
    {
      "cell_type": "code",
      "source": [
        "import numpy as np\n",
        "y=np.zeros([4,3])\n",
        "print('y값',y)\n",
        "xx=[3,1,1,3]\n",
        "\n",
        "for i in range(0,4):\n",
        "  j=xx[i]\n",
        "  y[i,:]=x[j,:]\n",
        "print('y값',y)    "
      ],
      "metadata": {
        "colab": {
          "base_uri": "https://localhost:8080/"
        },
        "id": "fdPo2HanGHuM",
        "outputId": "f8c66802-2288-4c32-b54b-e0768f64c9e8"
      },
      "execution_count": 20,
      "outputs": [
        {
          "output_type": "stream",
          "name": "stdout",
          "text": [
            "y값 [[0. 0. 0.]\n",
            " [0. 0. 0.]\n",
            " [0. 0. 0.]\n",
            " [0. 0. 0.]]\n",
            "y값 [[30. 31. 32.]\n",
            " [10. 11. 12.]\n",
            " [10. 11. 12.]\n",
            " [30. 31. 32.]]\n"
          ]
        }
      ]
    }
  ],
  "metadata": {
    "accelerator": "GPU",
    "colab": {
      "collapsed_sections": [
        "KIGdZnKrEMQz",
        "AF8llxRnERY9",
        "WjIEZFTgEn5C",
        "2UI_nbAcEt7y",
        "4f7rsiy-E2Dt",
        "-3qpSEbdFAqy",
        "Hp_LJw2eFKqp"
      ],
      "provenance": [],
      "authorship_tag": "ABX9TyNzHkAhddfKwcp+86MbYDAH",
      "include_colab_link": true
    },
    "gpuClass": "premium",
    "kernelspec": {
      "display_name": "Python 3",
      "name": "python3"
    },
    "language_info": {
      "name": "python"
    }
  },
  "nbformat": 4,
  "nbformat_minor": 0
}
