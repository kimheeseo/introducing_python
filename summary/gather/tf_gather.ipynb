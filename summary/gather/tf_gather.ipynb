{
  "nbformat": 4,
  "nbformat_minor": 0,
  "metadata": {
    "colab": {
      "provenance": [],
      "collapsed_sections": [
        "BCxx1RADUkxA",
        "VWZ9SzNHCBEJ",
        "IlZ5aNawKFlu",
        "IdRd1dROpu8F",
        "U6b7e70CpvBj",
        "bJE3mNhqPfUz",
        "qQ-nAi8ySBxs",
        "J4NAXd0g-d8i",
        "SQk3wvLFVVeb"
      ],
      "include_colab_link": true
    },
    "kernelspec": {
      "name": "python3",
      "display_name": "Python 3"
    },
    "language_info": {
      "name": "python"
    },
    "accelerator": "GPU",
    "gpuClass": "standard"
  },
  "cells": [
    {
      "cell_type": "markdown",
      "metadata": {
        "id": "view-in-github",
        "colab_type": "text"
      },
      "source": [
        "<a href=\"https://colab.research.google.com/github/kimheeseo/python_summary/blob/main/tf_gather.ipynb\" target=\"_parent\"><img src=\"https://colab.research.google.com/assets/colab-badge.svg\" alt=\"Open In Colab\"/></a>"
      ]
    },
    {
      "cell_type": "code",
      "source": [
        "import torch\n",
        "\n",
        "matrix = torch.range(0,99).reshape(10,10)\n",
        "indices = [0,1,2,3,4,5,6,7,8,9]\n",
        "indices = torch.tensor(indices).unsqueeze(axis=-1)\n",
        "print(matrix)\n",
        "print(indices)\n",
        "print(torch.gather(matrix, 1, indices ))"
      ],
      "metadata": {
        "colab": {
          "base_uri": "https://localhost:8080/"
        },
        "id": "c4tip7RfXPT8",
        "outputId": "898a87f1-3e13-477b-b14b-d34622383b38"
      },
      "execution_count": 1,
      "outputs": [
        {
          "output_type": "stream",
          "name": "stdout",
          "text": [
            "tensor([[ 0.,  1.,  2.,  3.,  4.,  5.,  6.,  7.,  8.,  9.],\n",
            "        [10., 11., 12., 13., 14., 15., 16., 17., 18., 19.],\n",
            "        [20., 21., 22., 23., 24., 25., 26., 27., 28., 29.],\n",
            "        [30., 31., 32., 33., 34., 35., 36., 37., 38., 39.],\n",
            "        [40., 41., 42., 43., 44., 45., 46., 47., 48., 49.],\n",
            "        [50., 51., 52., 53., 54., 55., 56., 57., 58., 59.],\n",
            "        [60., 61., 62., 63., 64., 65., 66., 67., 68., 69.],\n",
            "        [70., 71., 72., 73., 74., 75., 76., 77., 78., 79.],\n",
            "        [80., 81., 82., 83., 84., 85., 86., 87., 88., 89.],\n",
            "        [90., 91., 92., 93., 94., 95., 96., 97., 98., 99.]])\n",
            "tensor([[0],\n",
            "        [1],\n",
            "        [2],\n",
            "        [3],\n",
            "        [4],\n",
            "        [5],\n",
            "        [6],\n",
            "        [7],\n",
            "        [8],\n",
            "        [9]])\n",
            "tensor([[ 0.],\n",
            "        [11.],\n",
            "        [22.],\n",
            "        [33.],\n",
            "        [44.],\n",
            "        [55.],\n",
            "        [66.],\n",
            "        [77.],\n",
            "        [88.],\n",
            "        [99.]])\n"
          ]
        },
        {
          "output_type": "stream",
          "name": "stderr",
          "text": [
            "<ipython-input-1-87c65a4b2772>:3: UserWarning: torch.range is deprecated and will be removed in a future release because its behavior is inconsistent with Python's range builtin. Instead, use torch.arange, which produces values in [start, end).\n",
            "  matrix = torch.range(0,99).reshape(10,10)\n"
          ]
        }
      ]
    },
    {
      "cell_type": "code",
      "source": [
        "indices = torch.tensor(indices)\n",
        "print('indices',indices)"
      ],
      "metadata": {
        "colab": {
          "base_uri": "https://localhost:8080/"
        },
        "id": "kl_W7SWHXYY-",
        "outputId": "e0ad94d8-bef3-4d61-d758-eaea44501603"
      },
      "execution_count": 5,
      "outputs": [
        {
          "output_type": "stream",
          "name": "stdout",
          "text": [
            "indices tensor([[[[0]]],\n",
            "\n",
            "\n",
            "        [[[1]]],\n",
            "\n",
            "\n",
            "        [[[2]]],\n",
            "\n",
            "\n",
            "        [[[3]]],\n",
            "\n",
            "\n",
            "        [[[4]]],\n",
            "\n",
            "\n",
            "        [[[5]]],\n",
            "\n",
            "\n",
            "        [[[6]]],\n",
            "\n",
            "\n",
            "        [[[7]]],\n",
            "\n",
            "\n",
            "        [[[8]]],\n",
            "\n",
            "\n",
            "        [[[9]]]])\n"
          ]
        },
        {
          "output_type": "stream",
          "name": "stderr",
          "text": [
            "<ipython-input-5-e55859b44559>:1: UserWarning: To copy construct from a tensor, it is recommended to use sourceTensor.clone().detach() or sourceTensor.clone().detach().requires_grad_(True), rather than torch.tensor(sourceTensor).\n",
            "  indices = torch.tensor(indices)\n"
          ]
        }
      ]
    },
    {
      "cell_type": "code",
      "source": [
        "import numpy as np\n",
        "matrix = torch.range(0,99).reshape(10,10)\n",
        "matrix2=np.zeros([10,10])\n",
        "indices = [0,1,1,3,3,5,4,4,4,6]\n",
        "\n",
        "for i in range(0,len(indices)):\n",
        "  matrix2[i,:]=matrix[indices[i],:]"
      ],
      "metadata": {
        "colab": {
          "base_uri": "https://localhost:8080/"
        },
        "id": "UbV7mSksdkpp",
        "outputId": "54558bd5-b0c7-4db3-d309-750594295feb"
      },
      "execution_count": 13,
      "outputs": [
        {
          "output_type": "stream",
          "name": "stderr",
          "text": [
            "<ipython-input-13-3e19ae196f8b>:2: UserWarning: torch.range is deprecated and will be removed in a future release because its behavior is inconsistent with Python's range builtin. Instead, use torch.arange, which produces values in [start, end).\n",
            "  matrix = torch.range(0,99).reshape(10,10)\n"
          ]
        }
      ]
    },
    {
      "cell_type": "code",
      "source": [
        "matrix2"
      ],
      "metadata": {
        "colab": {
          "base_uri": "https://localhost:8080/"
        },
        "id": "blthbTsPd77y",
        "outputId": "430ec973-5d79-44be-faf8-e2dfe102d710"
      },
      "execution_count": 14,
      "outputs": [
        {
          "output_type": "execute_result",
          "data": {
            "text/plain": [
              "array([[ 0.,  1.,  2.,  3.,  4.,  5.,  6.,  7.,  8.,  9.],\n",
              "       [10., 11., 12., 13., 14., 15., 16., 17., 18., 19.],\n",
              "       [10., 11., 12., 13., 14., 15., 16., 17., 18., 19.],\n",
              "       [30., 31., 32., 33., 34., 35., 36., 37., 38., 39.],\n",
              "       [30., 31., 32., 33., 34., 35., 36., 37., 38., 39.],\n",
              "       [50., 51., 52., 53., 54., 55., 56., 57., 58., 59.],\n",
              "       [40., 41., 42., 43., 44., 45., 46., 47., 48., 49.],\n",
              "       [40., 41., 42., 43., 44., 45., 46., 47., 48., 49.],\n",
              "       [40., 41., 42., 43., 44., 45., 46., 47., 48., 49.],\n",
              "       [60., 61., 62., 63., 64., 65., 66., 67., 68., 69.]])"
            ]
          },
          "metadata": {},
          "execution_count": 14
        }
      ]
    },
    {
      "cell_type": "markdown",
      "source": [
        "# **tensorflow**"
      ],
      "metadata": {
        "id": "6e7-w_mYe0rB"
      }
    },
    {
      "cell_type": "code",
      "source": [
        "import tensorflow as tf\n",
        "matrix = torch.range(0,99).reshape(10,10)\n",
        "matrix2=np.zeros([10,10])\n",
        "indices = [0,1,1,3,3,5,4,4,4,6]"
      ],
      "metadata": {
        "colab": {
          "base_uri": "https://localhost:8080/"
        },
        "id": "_XI5KQ8qe65f",
        "outputId": "73648652-19c7-4889-8b15-f770dcd5d533"
      },
      "execution_count": 17,
      "outputs": [
        {
          "output_type": "stream",
          "name": "stderr",
          "text": [
            "<ipython-input-17-b9af6c7c57f5>:2: UserWarning: torch.range is deprecated and will be removed in a future release because its behavior is inconsistent with Python's range builtin. Instead, use torch.arange, which produces values in [start, end).\n",
            "  matrix = torch.range(0,99).reshape(10,10)\n"
          ]
        }
      ]
    },
    {
      "cell_type": "code",
      "source": [
        "matrix2=tf.gather(matrix, indices)\n",
        "matrix2"
      ],
      "metadata": {
        "colab": {
          "base_uri": "https://localhost:8080/"
        },
        "id": "7xaPVVJQfA6K",
        "outputId": "0b636ffc-e1da-4edb-fe20-22be8a5a1aa3"
      },
      "execution_count": 18,
      "outputs": [
        {
          "output_type": "execute_result",
          "data": {
            "text/plain": [
              "<tf.Tensor: shape=(10, 10), dtype=float32, numpy=\n",
              "array([[ 0.,  1.,  2.,  3.,  4.,  5.,  6.,  7.,  8.,  9.],\n",
              "       [10., 11., 12., 13., 14., 15., 16., 17., 18., 19.],\n",
              "       [10., 11., 12., 13., 14., 15., 16., 17., 18., 19.],\n",
              "       [30., 31., 32., 33., 34., 35., 36., 37., 38., 39.],\n",
              "       [30., 31., 32., 33., 34., 35., 36., 37., 38., 39.],\n",
              "       [50., 51., 52., 53., 54., 55., 56., 57., 58., 59.],\n",
              "       [40., 41., 42., 43., 44., 45., 46., 47., 48., 49.],\n",
              "       [40., 41., 42., 43., 44., 45., 46., 47., 48., 49.],\n",
              "       [40., 41., 42., 43., 44., 45., 46., 47., 48., 49.],\n",
              "       [60., 61., 62., 63., 64., 65., 66., 67., 68., 69.]], dtype=float32)>"
            ]
          },
          "metadata": {},
          "execution_count": 18
        }
      ]
    }
  ]
}
