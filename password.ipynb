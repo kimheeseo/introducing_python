{
  "nbformat": 4,
  "nbformat_minor": 0,
  "metadata": {
    "colab": {
      "provenance": [],
      "authorship_tag": "ABX9TyNShJyA3AqBW6UQmtQN5AF6",
      "include_colab_link": true
    },
    "kernelspec": {
      "name": "python3",
      "display_name": "Python 3"
    },
    "language_info": {
      "name": "python"
    }
  },
  "cells": [
    {
      "cell_type": "markdown",
      "metadata": {
        "id": "view-in-github",
        "colab_type": "text"
      },
      "source": [
        "<a href=\"https://colab.research.google.com/github/kimheeseo/python/blob/main/password.ipynb\" target=\"_parent\"><img src=\"https://colab.research.google.com/assets/colab-badge.svg\" alt=\"Open In Colab\"/></a>"
      ]
    },
    {
      "cell_type": "code",
      "execution_count": 128,
      "metadata": {
        "id": "DxTfnSuqLj__"
      },
      "outputs": [],
      "source": [
        "# 사용자가 1번을 선택하면 사용자 ID를 입력하도록 요청한다.\n",
        "# 입력된 ID가 목록에 이미 있는지 확인해야 한다.\n",
        "# 만약 목록에 있는 ID라면, 프로그램은 적절한 메시지를 표시하고 다른 ID를 입력하도록 요청한다.\n",
        "\n",
        "# 적절한 사용자 ID가 입력되면 비밀번호를 입력하라고 요청한다.\n",
        "# 비밀번호는 다음의 각 항목에 대해 1점씩 점수가 주어진다.\n",
        "# 비밀번호 규칙\n",
        "# 1) 8자 이상이어야 한다.\n",
        "# 2) 대문자를 포함해야 한다.\n",
        "# 3) 소문자를 포함해야 한다.\n",
        "# 4) 숫자를 포함해야 한다.\n",
        "# 5) !, $,% 또는 @와 같은 특수 문자를 하나 이상 포함해야 한다.\n",
        "\n",
        "# 비밀번호 점수가 1 또는 2점이면 약한 비밀번호라는 메시지와 함께 거절되어야 한다.\n",
        "# 3 또는 4점이면 'This password could be improved'라는 메시지를 표시하고 다시 입력하고 싶은지 묻는다.\n",
        "# 만약 5점이면 강력한 비밀번호라고 알려준다.\n",
        "\n",
        "# 통과한 사용자 ID와 비밀번호만 csv 파일의 끝에 추가되어야 한다."
      ]
    },
    {
      "cell_type": "code",
      "source": [
        "# 사용자가 메뉴에서 2번을 선택하면 사용자 ID를 입력하라고 요청하고, 입력된 ID가 목록에 있는 지를 확인하여\n",
        "# 존재한다면 비밀번호를 변경하게 하고, 그 내용을 csv파일에 저장한다.\n",
        "\n",
        "# 프로그램은 새로운 레코드를 생성하는 게 아니라, 기존의 비밀번호만 변경하도록 한다.\n",
        "\n",
        "# 메뉴에서 3번을 선택한다면 모든 사용자 ID와 비밀번호를 출력한다.\n",
        "\n",
        "# 4번을 선택하면 프로그램을 종료한다."
      ],
      "metadata": {
        "id": "ueDIm9sbLkUc"
      },
      "execution_count": 129,
      "outputs": []
    },
    {
      "cell_type": "code",
      "source": [
        "# 해결해야 할 문제\n",
        "# csv 파일에 있는 기존의 데이터는 편집할 수 없으며, 오직 읽거나 추가만 할 수 있다.\n",
        "# 파일의 데이터를 파이썬의 임시 리스트로 가져와야 하며, csv파일에 새롭게 데이터를 쓰기 전에 필요한 내용을 변경해야 한다.\n",
        "\n",
        "# 기존의 사용자 ID에 속한 비밀번호만 변경되도록 하자.\n",
        "# 사용자가 시스템을 쉽게 사용할 수 있도록 적절한 메시지를 사용하여 안내하자.\n",
        "# 프로그램이 종료될 때까지 메뉴가 계속 반복되도록 한다."
      ],
      "metadata": {
        "id": "WRYWNqmgLkXk"
      },
      "execution_count": 130,
      "outputs": []
    },
    {
      "cell_type": "markdown",
      "source": [
        "**구글마운트**"
      ],
      "metadata": {
        "id": "csKdk_jpOn8u"
      }
    },
    {
      "cell_type": "code",
      "source": [
        "from google.colab import drive\n",
        "drive.mount('/content/drive')"
      ],
      "metadata": {
        "colab": {
          "base_uri": "https://localhost:8080/"
        },
        "id": "o7FHo7osLkaN",
        "outputId": "ba640aaf-36a6-46d5-df8d-9f026665ba27"
      },
      "execution_count": 131,
      "outputs": [
        {
          "output_type": "stream",
          "name": "stdout",
          "text": [
            "Drive already mounted at /content/drive; to attempt to forcibly remount, call drive.mount(\"/content/drive\", force_remount=True).\n"
          ]
        }
      ]
    },
    {
      "cell_type": "code",
      "source": [
        "import csv\n",
        "def get_data():\n",
        "  file=list(csv.reader(open('/content/passwords.csv')))\n",
        "  tmp=[]\n",
        "  for x in file:\n",
        "    tmp.append(x)\n",
        "  return tmp\n",
        "tmp=get_data()\n",
        "tmp"
      ],
      "metadata": {
        "colab": {
          "base_uri": "https://localhost:8080/"
        },
        "id": "otuO13clLkco",
        "outputId": "a5239ef7-b15f-479b-f450-f33a05f5afe9"
      },
      "execution_count": 132,
      "outputs": [
        {
          "output_type": "execute_result",
          "data": {
            "text/plain": [
              "[['harry', '12344'],\n",
              " ['harry2', '12355'],\n",
              " ['tom', '123q2'],\n",
              " ['tom2', '1244s'],\n",
              " ['qwek', 'QW@!a12'],\n",
              " ['qwedo', '@!we12QW'],\n",
              " ['qwesc', '!@Qwda2']]"
            ]
          },
          "metadata": {},
          "execution_count": 132
        }
      ]
    },
    {
      "cell_type": "code",
      "source": [
        "def create_userID(tmp):\n",
        "  name_again=True\n",
        "  while name_again == True:\n",
        "    userID=input(\"enter a new user ID:\")\n",
        "    userID.lower()\n",
        "    inlist=False\n",
        "\n",
        "    for y in tmp:\n",
        "      if userID in y[0]:\n",
        "        print(userID, \"has already been allocated\")\n",
        "        inlist = True\n",
        "      if inlist == False:\n",
        "        name_again=False\n",
        "  return userID\n",
        "\n",
        "# get_data()로 불러온 csv파일에 새로 만들려는 ID값이 있다면,\n",
        "# if userID in y[0]:\n",
        "# userID has already been allocated를 출력한다."
      ],
      "metadata": {
        "id": "4r0J1cIELkfL"
      },
      "execution_count": 133,
      "outputs": []
    },
    {
      "cell_type": "code",
      "source": [
        "def create_password():\n",
        "  sclist=[\"!\",\"@\",\"#\",\"$\",\"%\",\"^\",\"&\",\"*\",\"(\",\")\",\"?\",\"<\",\">\",\"/\"]\n",
        "  nclist=[\"1\",\"2\",\"3\",\"4\",\"5\",\"6\",\"7\",\"8\",\"9,\",\"0\"]\n",
        "  tryagain=True\n",
        "\n",
        "  while tryagain==True:\n",
        "    score=0\n",
        "    uc=False\n",
        "    lc=False\n",
        "    sc=False\n",
        "    nc=False\n",
        "\n",
        "    password=input(\"enter password:\")\n",
        "    length=len(password)\n",
        "    if length >=8:\n",
        "      score = score + 1\n",
        "# 1) 8자 이상이어야 한다.\n",
        "    for x in password:\n",
        "      if x.islower(): # 소문자?\n",
        "        lc=True\n",
        "      if x.isupper(): # 대문자?\n",
        "        uc=True\n",
        "      if x in sclist: # 특수문자?\n",
        "        sc=True\n",
        "      if x in nclist: # 숫자?\n",
        "        nc=True\n",
        "# 2) 대문자를 포함해야 한다.\n",
        "# 3) 소문자를 포함해야 한다.\n",
        "# 4) 숫자를 포함해야 한다.\n",
        "# 5) !, $,% 또는 @와 같은 특수 문자를 하나 이상 포함해야 한다.\n",
        "    if lc == True:\n",
        "      score = score +1\n",
        "    if uc == True:\n",
        "      score = score +1\n",
        "    if sc == True:\n",
        "      score = score +1\n",
        "    if nc == True:\n",
        "      score = score +1\n",
        "\n",
        "    if score == 1 or score == 2:\n",
        "      print(\"this is a weak password, try again\") # 약한 비밀번호\n",
        "\n",
        "    if score == 3 or score == 4:\n",
        "      print(\"this password could be improved\")\n",
        "      again = input(\"do you want to try for a stronger password? (y/n)\")\n",
        "      again.lower()\n",
        "      if again == \"n\":\n",
        "        tryagain= False\n",
        "    if score ==5:\n",
        "      print(\"This is a strong password\")\n",
        "      tryagain=False\n",
        "    print(\"새로 만든 비밀번호\", password)\n",
        "  return password"
      ],
      "metadata": {
        "id": "q7WwwTBGLkhU"
      },
      "execution_count": 134,
      "outputs": []
    },
    {
      "cell_type": "code",
      "source": [
        "def find_userID(tmp):\n",
        "  ask_name_again = True\n",
        "  userID=\"\"\n",
        "  while ask_name_again == True:\n",
        "    searchID=input(\"enter the user ID you are looking for\")\n",
        "    searchID.lower()\n",
        "    inlist=False\n",
        "\n",
        "    for y in tmp:\n",
        "      if searchID in y[0]:\n",
        "        inlist=True\n",
        "      if inlist == True:\n",
        "        userID=searchID\n",
        "        ask_name_again= False\n",
        "      else:\n",
        "        print(searchID,\"is not in the list\")\n",
        "  return userID\n",
        "# 사용자가 메뉴에서 2번을 선택하면 사용자 ID를 입력하라고 요청하고, 입력된 ID가 목록에 있는 지를 확인하여\n",
        "# 존재한다면 비밀번호를 변경하게 하고, 그 내용을 csv파일에 저장한다."
      ],
      "metadata": {
        "id": "iYVRqgFjXZXG"
      },
      "execution_count": 135,
      "outputs": []
    },
    {
      "cell_type": "code",
      "source": [
        "def change_password(userID, tmp):\n",
        "  if userID !=\"\":\n",
        "# 아이디가 공백이 아니면,\n",
        "    password=create_password()\n",
        "# 비밀번호를 만든다.\n",
        "    ID=userID.index(userID) # ID=tmp.index(userID)\n",
        "# csv파일에서 userID가 몇번째에 존재하는 지 파악.\n",
        "    tmp[ID][1]=password\n",
        "# 찾을 ID의 비밀번호를 새롭게 만든 비밀번호로 대체한다.\n",
        "    file=open(\"/content/passwords.csv\",\"w\")\n",
        "\n",
        "    for row in tmp:\n",
        "      newrecord=row[0]+\",\" + row[1] + \"\\n\"\n",
        "# ID와 비밀번호를 newrecord로 작성한다.\n",
        "# 추가로 입력하는 것이 아니라, 기존의 것을 변경하는 것이다.\n",
        "      file.write(newrecord)\n",
        "      file.close()\n",
        "\n",
        "# 프로그램은 새로운 레코드를 생성하는 게 아니라, 기존의 비밀번호만 변경하도록 한다."
      ],
      "metadata": {
        "id": "k2xO519yU2ga"
      },
      "execution_count": 136,
      "outputs": []
    },
    {
      "cell_type": "code",
      "source": [
        "a=[1,2,3,4,5,6,7,8,9,10]\n",
        "number=a.index(3)\n",
        "print('2는 %d번째에 존재한다.' %(number+1))"
      ],
      "metadata": {
        "colab": {
          "base_uri": "https://localhost:8080/"
        },
        "id": "bApX3WDVU2nh",
        "outputId": "dc5c6d03-add2-436f-df0b-8fb825fbbc79"
      },
      "execution_count": 137,
      "outputs": [
        {
          "output_type": "stream",
          "name": "stdout",
          "text": [
            "2는 3번째에 존재한다.\n"
          ]
        }
      ]
    },
    {
      "cell_type": "code",
      "source": [
        "def display_all_userID():\n",
        "  tmp=get_data()\n",
        "  for row in tmp:\n",
        "    print(\"ID값:\", row[0].rjust(10),\"Password값:\",row[1].rjust(10))\n",
        "# 메뉴에서 3번을 선택한다면 모든 사용자 ID와 비밀번호를 출력한다."
      ],
      "metadata": {
        "id": "YGuyNXKMU2i1"
      },
      "execution_count": 138,
      "outputs": []
    },
    {
      "cell_type": "code",
      "source": [
        "def main():\n",
        "  tmp=get_data()\n",
        "  go_again=True\n",
        "  while go_again == True:\n",
        "    print()\n",
        "    print(\"1) Create a new User ID:\")\n",
        "    print(\"2) Change a password:\")\n",
        "    print(\"3) Display all User IDs:\")\n",
        "    print(\"4) Quit\")\n",
        "    print()\n",
        "    selection = int(input(\"enter selection:\"))\n",
        "\n",
        "    if selection == 1:\n",
        "      userID=create_userID(tmp)\n",
        "      password=create_password()\n",
        "      file=open(\"/content/passwords.csv\",\"a\")\n",
        "# 'a(추가모드)': 파일의 끝에 내용을 추가하기 위한 모드입니다.\n",
        "# 파일이 없으면, 새 파일을 생성합니다.\n",
        "      newrecord=userID+ \",\" + password + \"\\n\"\n",
        "      file.write(str(newrecord))\n",
        "      file.close()\n",
        "      tmp=get_data()\n",
        "\n",
        "    elif selection == 2:\n",
        "      userID = find_userID(tmp)\n",
        "      change_password(userID, tmp)\n",
        "\n",
        "    elif selection == 3:\n",
        "      display_all_userID()\n",
        "\n",
        "    elif selection == 4:\n",
        "      go_again = False\n",
        "      # 4번을 선택하면 프로그램을 종료한다.\n",
        "    else:\n",
        "      print(\"incorrect selection\")"
      ],
      "metadata": {
        "id": "JIPb5mNrdMsC"
      },
      "execution_count": 139,
      "outputs": []
    },
    {
      "cell_type": "code",
      "source": [
        "main()"
      ],
      "metadata": {
        "colab": {
          "base_uri": "https://localhost:8080/"
        },
        "id": "bmJvXT0oU2lI",
        "outputId": "e3f07cc8-782b-4d4e-e732-8df137c65902"
      },
      "execution_count": 141,
      "outputs": [
        {
          "name": "stdout",
          "output_type": "stream",
          "text": [
            "\n",
            "1) Create a new User ID:\n",
            "2) Change a password:\n",
            "3) Display all User IDs:\n",
            "4) Quit\n",
            "\n",
            "enter selection:1\n",
            "enter a new user ID:QASC\n",
            "enter password:QW!@qa123\n",
            "This is a strong password\n",
            "새로 만든 비밀번호 QW!@qa123\n",
            "\n",
            "1) Create a new User ID:\n",
            "2) Change a password:\n",
            "3) Display all User IDs:\n",
            "4) Quit\n",
            "\n",
            "enter selection:3\n",
            "ID값:      harry Password값:      12344\n",
            "ID값:     harry2 Password값:      12355\n",
            "ID값:        tom Password값:      123q2\n",
            "ID값:       tom2 Password값:      1244s\n",
            "ID값:       qwek Password값:    QW@!a12\n",
            "ID값:      qwedo Password값:   @!we12QW\n",
            "ID값:      qwesc Password값:    !@Qwda2\n",
            "ID값:      qwesf Password값:  !@qwe12AS\n",
            "ID값:       QASC Password값:  QW!@qa123\n",
            "\n",
            "1) Create a new User ID:\n",
            "2) Change a password:\n",
            "3) Display all User IDs:\n",
            "4) Quit\n",
            "\n",
            "enter selection:4\n"
          ]
        }
      ]
    }
  ]
}