{
  "nbformat": 4,
  "nbformat_minor": 0,
  "metadata": {
    "colab": {
      "provenance": [],
      "authorship_tag": "ABX9TyPJ1aUUrlDHwsHSJR5tv3pN",
      "include_colab_link": true
    },
    "kernelspec": {
      "name": "python3",
      "display_name": "Python 3"
    },
    "language_info": {
      "name": "python"
    }
  },
  "cells": [
    {
      "cell_type": "markdown",
      "metadata": {
        "id": "view-in-github",
        "colab_type": "text"
      },
      "source": [
        "<a href=\"https://colab.research.google.com/github/kimheeseo/python/blob/main/21_30.ipynb\" target=\"_parent\"><img src=\"https://colab.research.google.com/assets/colab-badge.svg\" alt=\"Open In Colab\"/></a>"
      ]
    },
    {
      "cell_type": "code",
      "execution_count": 2,
      "metadata": {
        "id": "s9uI4K-qWl-b"
      },
      "outputs": [],
      "source": [
        "# 초급 21. 연산자 축약 이해하기\n",
        "a=0\n",
        "a+=1 # a=a+1, a의 값은 1\n",
        "a-=5 # a=a-5=1-5=-4, a의 값은 -4\n",
        "\n",
        "a*=2 # a=a*2, a의 값은 -8\n",
        "a/=4 # a=a/4, a의 값은 -2.0"
      ]
    },
    {
      "cell_type": "code",
      "source": [
        "# 초급 22. True와 False 이해하기\n",
        "a=True\n",
        "b=False\n",
        "\n",
        "print('a==1값:',a==1)\n",
        "# True값이 대입된 a가 1과 같은 값인지 체크합니다. 같은 값이면 True를, 다른 값이면 False를 출력하게 되는데, 결과는 True입니다.\n",
        "print('b!=0값:',b!=0)\n",
        "\n",
        "# 파이썬에서 참과 거짓을 나타내는 상수는 True와 Flase입니다. True는 1, False는 0의 값을 가집니다.\n",
        "# 참과 거짓을 나타낼 때 True와 False로 표현하면, 더 직관적이고 프로그램 코드의 가독성을 높일 수 있습니다."
      ],
      "metadata": {
        "colab": {
          "base_uri": "https://localhost:8080/"
        },
        "id": "MmkRQkBRXAL0",
        "outputId": "991bb8c0-d596-4dc6-b65e-f4a9ae8def68"
      },
      "execution_count": 1,
      "outputs": [
        {
          "output_type": "stream",
          "name": "stdout",
          "text": [
            "a==1값: True\n",
            "b!=0값: False\n"
          ]
        }
      ]
    },
    {
      "cell_type": "code",
      "source": [
        "# 초급 23. 관계 연산자 이해하기\n",
        "x=1; y=2\n",
        "str1='abc'; str2='python'\n",
        "\n",
        "print('x==y값:', x==y) # False가 출력된\n",
        "print('x!=y값:', x!=y) # True가 출력됨\n",
        "print('str1==str2값:', str1==str2) # False가 출력됨\n",
        "# 문자열이 대입된 str1과 str2가 서로 같은지 비교하고, 결과를 출력합니다. 결과는 False입니다."
      ],
      "metadata": {
        "colab": {
          "base_uri": "https://localhost:8080/"
        },
        "id": "wkf78j3xXAOT",
        "outputId": "7007b83f-ab35-43f6-9dad-80d5a22564bc"
      },
      "execution_count": 4,
      "outputs": [
        {
          "output_type": "stream",
          "name": "stdout",
          "text": [
            "x==y값: False\n",
            "x!=y값: True\n",
            "str1==str2값: False\n"
          ]
        }
      ]
    },
    {
      "cell_type": "code",
      "source": [
        "# 초급 24. 논리 연산자 이해하기\n",
        "bool1=True; bool2=False; bool3=True; bool4=False\n",
        "print('bool 1 and bool 2 값:', bool1 and bool2) # false가 출력됨\n",
        "print('bool 1 and bool 3 값:', bool1 and bool3) # True가 출력됨\n",
        "print('bool 2 or bool 3 값:', bool2 or bool3) # True가 출력됨\n",
        "\n",
        "print('not bool 2값:', not bool2) # True가 출력됨\n",
        "# not bool 2는 bool 2의 반대 논리값인 True가 출력됩니다."
      ],
      "metadata": {
        "colab": {
          "base_uri": "https://localhost:8080/"
        },
        "id": "laSCTqo_XATT",
        "outputId": "e67d8a22-1212-4aa2-a388-30b1f64b5f4f"
      },
      "execution_count": 8,
      "outputs": [
        {
          "output_type": "stream",
          "name": "stdout",
          "text": [
            "bool 1 and bool 2 값: False\n",
            "bool 1 and bool 3 값: True\n",
            "bool 2 or bool 3 값: True\n",
            "not bool 2값: True\n"
          ]
        }
      ]
    },
    {
      "cell_type": "code",
      "source": [
        "# 초급 25. 비트 연산자 이해하기\n",
        "bit1=0x61\n",
        "bit2=0x62\n",
        "\n",
        "print('bit 1값:',bit1)\n",
        "print('bit 2값:',bit2)\n",
        "\n",
        "# A&B: A와 B의 비트간 and 연산을 수행함\n",
        "# A^B: A와 B의 비트간 배타적 논리합 xor 연산을 수행함\n",
        "# A>>n: A의 모든 비트를 n만큼 오른쪽으로 시프트 시킴\n",
        "# A<<n: A의 모든 비트를 n만큼 왼쪽으로 시프트 시킴\n",
        "\n",
        "# 1바이트를 이루는 8비트에서 왼쪽 4비트를 상위 4비트라 부르고, 오른쪽 4비트를 하위 4비트라 부릅니다.\n",
        "# 상위 4비트를 하나의 16진수로 대응시키고 하위 4비트를 또 하나의 16진수로 대응시켜 나타냅니다."
      ],
      "metadata": {
        "colab": {
          "base_uri": "https://localhost:8080/"
        },
        "id": "rXbOMcg4XAYb",
        "outputId": "d6ba5056-20bf-4247-f756-b506230f2ed1"
      },
      "execution_count": 9,
      "outputs": [
        {
          "output_type": "stream",
          "name": "stdout",
          "text": [
            "bit 1값: 97\n",
            "bit 2값: 98\n"
          ]
        }
      ]
    },
    {
      "cell_type": "code",
      "source": [
        "print('hex(bit1>>1)값:',hex(bit1>>1))\n",
        "# hex(bit1): 0110 0001 -> hex(bit1>>1): 0011 0000: 0x30"
      ],
      "metadata": {
        "colab": {
          "base_uri": "https://localhost:8080/"
        },
        "id": "A8Ocy5LrXAa7",
        "outputId": "d6e6598f-b7ce-4e8d-c060-6b3170247569"
      },
      "execution_count": 16,
      "outputs": [
        {
          "output_type": "stream",
          "name": "stdout",
          "text": [
            "hex(bit1>>1)값: 0x30\n"
          ]
        }
      ]
    },
    {
      "cell_type": "code",
      "source": [
        "# 초급 26. 시퀀스 자료형 이해하기\n",
        "strdata='abcde'\n",
        "listdata=[1,[2,3],'안녕']\n",
        "tupledata=(100,200,300)\n",
        "\n",
        "# 'abcde': 문자열은 문자나 기호들이 순서대로 나열되어 있는 시퀀스 자료형\n",
        "# strdata: 알파벳 'a', 'b','c', 'd', 'e'가 순서대로 나열되어 있는 문자열을 담고 있는 변수.\n",
        "# 리스트: 임의의 객체가 순서대로 나열되어 있는 시퀀스 자료형\n",
        "# 튜플: 리스트와 마찬가지로 값을 변경할 수 없는 임의의 객체가 나열되어 있는 시퀀스 자료형\n",
        "\n",
        "# 시퀀스 자료형의 특징\n",
        "# 1) 인덱싱: 인덱스를 통해 해당 값에 접근할 수 있습니다. 인덱스는 0부터 시작합니다.\n",
        "# 2) 슬라이싱: 특정 구간의 값을 취할 수 있습니다. 구간은 시작 인덱스와 끝 인덱스로 정의합니다.\n",
        "# 3) 멤버체크; in 키워드를 사용하여 특정 값이 시퀀스 자료의 요소로 속해 있는 지 확인할 수 있습니다.\n",
        "# 4) 크기 정보: len()을 이용해 시퀀스 자료의 크기를 알 수 있습니다.\n",
        "# 시퀀스 자료의 크기는 문자열의 경우 문자의 개수, 리스트와 튜플인 경우 멤버의 개수가 됩니다."
      ],
      "metadata": {
        "id": "xC7v6x66XAdk"
      },
      "execution_count": 18,
      "outputs": []
    },
    {
      "cell_type": "code",
      "source": [
        "# 초급 27. 시퀀스 자료 인덱싱 이해하기\n",
        "strdata=\"time is money!\"\n",
        "listdata=[1,2, [1,2,3]]\n",
        "\n",
        "print('strdata[5]값:', strdata[5])\n",
        "print('strdata[-2]값:', strdata[-2])\n",
        "print('strdata[0]값:', strdata[0])\n",
        "\n",
        "# indexing(인덱싱): 시퀀스 자료형에서 인덱스를 통해 해당하는 값을 얻는 방법.\n",
        "# 파이썬에서 인덱스는 0부터 시작하며, 음수인 인덱스도 사용 가능합니다."
      ],
      "metadata": {
        "colab": {
          "base_uri": "https://localhost:8080/"
        },
        "id": "ATmtXVycXAgD",
        "outputId": "23af8dd7-1b15-47a6-c70c-e90b4a4dc3a4"
      },
      "execution_count": 19,
      "outputs": [
        {
          "output_type": "stream",
          "name": "stdout",
          "text": [
            "strdata[5]값: i\n",
            "strdata[-2]값: y\n",
            "strdata[0]값: t\n"
          ]
        }
      ]
    },
    {
      "cell_type": "code",
      "source": [
        "# 초급 28. 시퀀스 자료 슬라이싱 이해하기\n",
        "strdata=\"Time is money!\"\n",
        "\n",
        "print('strdata[1:5]값:',strdata[1:5])\n",
        "print('strdata[0:2]값:',strdata[0:2])\n",
        "\n",
        "# [시작 인덱스: 끝 인덱스: 스텝]\n",
        "# 시작 인덱스: 슬라이싱 범위의 시작\n",
        "# 끝 인덱스: 슬라이싱 범위의 끝\n",
        "# 스텝: 자료를 취하는 간격\n",
        "# 시작 인덱스 이상부터 끝 인덱스 미만까지 자료를 취하라는 뜻.\n",
        "\n",
        "# 슬라이싱 범위\n",
        "# 1) [m:n] : 시퀀스 자료의 인덱스가 m 이상 n 미만인 요소를 슬라이싱 합니다.\n",
        "# 2) [:n] : 시퀀스 자료의 처음부터 인덱스가 n 미만인 요소까지 슬라이싱합니다.\n",
        "# 3) [:-n] : 시퀀스 자료의 처음부터 끝에서 n번째 미만인 요소까지 슬라이싱합니다."
      ],
      "metadata": {
        "colab": {
          "base_uri": "https://localhost:8080/"
        },
        "id": "12BGAcYGXAir",
        "outputId": "fb138819-9698-488d-ac39-83b8b04a574c"
      },
      "execution_count": 22,
      "outputs": [
        {
          "output_type": "stream",
          "name": "stdout",
          "text": [
            "strdata[1:5]값: ime \n",
            "strdata[0:2]값: Ti\n"
          ]
        }
      ]
    },
    {
      "cell_type": "code",
      "source": [
        "# 초급 29. 시퀀스 자료 연결 이해하기\n",
        "strdata1='I love '; strdata2='python'; strdata3='you'\n",
        "listdata1=[1,2,3]; listdata2=[4,5,6]\n",
        "\n",
        "print('strdata1 + strdata2 값:',strdata1 + strdata2)\n",
        "# 문자열 + 문자열, 리스트 + 리스트, 튜플 + 튜플과 같이 2개의 동일한 시퀀스 자료형에 대해 '+' 연산자로 연결 가능하다는 말."
      ],
      "metadata": {
        "colab": {
          "base_uri": "https://localhost:8080/"
        },
        "id": "RsQgMbNGfngB",
        "outputId": "e1a45cb1-7ae1-4e05-9441-d77c8dcc1899"
      },
      "execution_count": 26,
      "outputs": [
        {
          "output_type": "stream",
          "name": "stdout",
          "text": [
            "strdata1 + strdata2 값: I love python\n"
          ]
        }
      ]
    },
    {
      "cell_type": "code",
      "source": [
        "# 초급 30. 시퀀스 자료 반복 이해하기(*)\n",
        "artist='bts!'\n",
        "fan='army'\n",
        "\n",
        "dispdata=fan+'들이 외칩니다.' + artist*3\n",
        "print('dispdata값:', dispdata)\n",
        "\n",
        "# 동일한 시퀀스 자료를 반복하여 새로운 시퀀스 자료를 만들고자 하면, '*' 연산자를 사용합니다.\n",
        "# 시퀀스 자료 seqdata를 n번 반복하여 새로운 자료로 만들려면 seqdata * n이 됩니다."
      ],
      "metadata": {
        "colab": {
          "base_uri": "https://localhost:8080/"
        },
        "id": "J61PGXanXAlD",
        "outputId": "9babaf2e-73c9-471e-fa46-6ec34b18d374"
      },
      "execution_count": 28,
      "outputs": [
        {
          "output_type": "stream",
          "name": "stdout",
          "text": [
            "dispdata값: army들이 외칩니다.bts!bts!bts!\n"
          ]
        }
      ]
    }
  ]
}