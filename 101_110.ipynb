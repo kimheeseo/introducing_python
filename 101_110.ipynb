{
  "nbformat": 4,
  "nbformat_minor": 0,
  "metadata": {
    "colab": {
      "provenance": [],
      "authorship_tag": "ABX9TyO6Sag2AQDy6O264bBivw8N",
      "include_colab_link": true
    },
    "kernelspec": {
      "name": "python3",
      "display_name": "Python 3"
    },
    "language_info": {
      "name": "python"
    }
  },
  "cells": [
    {
      "cell_type": "markdown",
      "metadata": {
        "id": "view-in-github",
        "colab_type": "text"
      },
      "source": [
        "<a href=\"https://colab.research.google.com/github/kimheeseo/python/blob/main/101_110.ipynb\" target=\"_parent\"><img src=\"https://colab.research.google.com/assets/colab-badge.svg\" alt=\"Open In Colab\"/></a>"
      ]
    },
    {
      "cell_type": "code",
      "execution_count": 3,
      "metadata": {
        "colab": {
          "base_uri": "https://localhost:8080/"
        },
        "id": "6_Aiy6PSMZWz",
        "outputId": "7b162555-e935-43c1-bbd5-7d9b073f9972"
      },
      "outputs": [
        {
          "output_type": "stream",
          "name": "stdout",
          "text": [
            "지구은(는) 태양계에서 3번째에 위치하고 있습니다.\n"
          ]
        }
      ],
      "source": [
        "# 중급 101.\n",
        "solarsys=['태양','수성','금성','지구','화성','목성','토성','천왕성','해왕성','지구']\n",
        "planet='지구'\n",
        "pos=solarsys.index(planet)\n",
        "\n",
        "# 리스트 객체의 index()메소드: 리스트에서 요소의 값을 알고 있을 때, 그 요소가 최초로 나타나는 위치의 인덱스를 리턴합니다.\n",
        "print('%s은(는) 태양계에서 %d번째에 위치하고 있습니다.' %(planet, pos))"
      ]
    },
    {
      "cell_type": "code",
      "source": [
        "# 중급 102. 리스트에서 특정 위치의 요소를 변경하기\n",
        "solarsys=['태양','수성','금성','지구','화성','목성','토성','천왕성','해왕성','지구']\n",
        "planet='화성'\n",
        "pos=solarsys.index(planet)\n",
        "print('pos값:',pos)\n",
        "\n",
        "solarsys[pos]='Mars'\n",
        "print('solarsys값:',solarsys)\n",
        "# 리스트에서 특정 위치에 있는 요소의 값을 변경하는 방법은 매우 간단합니다."
      ],
      "metadata": {
        "colab": {
          "base_uri": "https://localhost:8080/"
        },
        "id": "YltEN21ZMlMe",
        "outputId": "2ea85298-d3cf-40c5-f9a6-d6065c445b81"
      },
      "execution_count": 5,
      "outputs": [
        {
          "output_type": "stream",
          "name": "stdout",
          "text": [
            "pos값: 4\n",
            "solarsys값: ['태양', '수성', '금성', '지구', 'Mars', '목성', '토성', '천왕성', '해왕성', '지구']\n"
          ]
        }
      ]
    },
    {
      "cell_type": "code",
      "source": [
        "# 중급 103. 리스트에서 특정 구간에 있는 요소 추출하기\n",
        "solarsys=['태양','수성','금성','지구','화성','목성','토성','천왕성','해왕성','지구']\n",
        "rock_planets=solarsys[1:4]\n",
        "gas_planets=solarsys[4:]\n",
        "print('태양계의 암석형 행성:',end=''); print(rock_planets)\n",
        "print('태양계의 가스형 행성:',end=''); print(gas_planets)\n",
        "\n",
        "# 리스트의 특정 구간에 있는 요소를 추출하여 새로운 리스트를 만들려면 '슬라이싱'을 이용합니다."
      ],
      "metadata": {
        "colab": {
          "base_uri": "https://localhost:8080/"
        },
        "id": "Xe2XoS-uMlO-",
        "outputId": "f0cc170d-4d04-42ab-aac5-95107ba6108d"
      },
      "execution_count": 6,
      "outputs": [
        {
          "output_type": "stream",
          "name": "stdout",
          "text": [
            "태양계의 암석형 행성:['수성', '금성', '지구']\n",
            "태양계의 가스형 행성:['화성', '목성', '토성', '천왕성', '해왕성', '지구']\n"
          ]
        }
      ]
    },
    {
      "cell_type": "code",
      "source": [
        "# 중급 104. 리스트에서 짝수 번째 요소만 추출하기\n",
        "listdata=list(range(1,21))\n",
        "print('listdata값:',listdata)\n",
        "evenlist=listdata[1::2]\n",
        "\n",
        "print('evenlist값:',evenlist)\n",
        "\n",
        "# 홀수 번째 요소만 추출하여 새로우 리스트를 만들면,\n",
        "oddlist=listdata[::2]\n",
        "print('oddlist값:',oddlist)"
      ],
      "metadata": {
        "colab": {
          "base_uri": "https://localhost:8080/"
        },
        "id": "IiJ0LPw8MlRg",
        "outputId": "ba40f87b-a81b-4d98-8acb-ea1f13a1de91"
      },
      "execution_count": 8,
      "outputs": [
        {
          "output_type": "stream",
          "name": "stdout",
          "text": [
            "listdata값: [1, 2, 3, 4, 5, 6, 7, 8, 9, 10, 11, 12, 13, 14, 15, 16, 17, 18, 19, 20]\n",
            "evenlist값: [2, 4, 6, 8, 10, 12, 14, 16, 18, 20]\n"
          ]
        }
      ]
    },
    {
      "cell_type": "code",
      "source": [
        "# 중급 105. 리스트 요소 순서를 역순으로 만들기\n",
        "listdata=list(range(5))\n",
        "print('listdata값:',listdata)\n",
        "\n",
        "listdata.reverse()\n",
        "print('reverse lisdtdata값:',listdata)\n",
        "# 리스트 객체의 reverse() 메소드는 리스트의 모든 요소 순서를 거꾸로 만듭니다.\n",
        "# reverse()는 원본 리스트 자체가 변경된다는 것에 유의해야 합니다."
      ],
      "metadata": {
        "colab": {
          "base_uri": "https://localhost:8080/"
        },
        "id": "5VwCzsV_MlUO",
        "outputId": "ee1ddcdb-510f-45da-ad9d-2092d7587e91"
      },
      "execution_count": 9,
      "outputs": [
        {
          "output_type": "stream",
          "name": "stdout",
          "text": [
            "listdata값: [0, 1, 2, 3, 4]\n",
            "reverse lisdtdata값: [4, 3, 2, 1, 0]\n"
          ]
        }
      ]
    },
    {
      "cell_type": "code",
      "source": [
        "# 중급 106. 리스트 요소 순서를 역순으로 만들기\n",
        "listdata=list(range(5))\n",
        "ret1=reversed(listdata)\n",
        "\n",
        "print('원본 리스트:',list(listdata))\n",
        "print('역순 리스트:', list(ret1))\n",
        "\n",
        "ret2=listdata[::-1]\n",
        "print('슬라이싱 이용',end='');print('ret2값:',ret2)\n",
        "# reversed()는 원본 데이터를 변경하지 않습니다."
      ],
      "metadata": {
        "colab": {
          "base_uri": "https://localhost:8080/"
        },
        "id": "TxxuLORIMlWu",
        "outputId": "60b7331a-07a0-496b-9130-f3ff6240fe3a"
      },
      "execution_count": 12,
      "outputs": [
        {
          "output_type": "stream",
          "name": "stdout",
          "text": [
            "원본 리스트: [0, 1, 2, 3, 4]\n",
            "역순 리스트: [4, 3, 2, 1, 0]\n",
            "슬라이싱 이용ret2값: [4, 3, 2, 1, 0]\n"
          ]
        }
      ]
    },
    {
      "cell_type": "code",
      "source": [
        "# 중급 107. 리스트 합치기(+)\n",
        "listdata1=['a','b','c','d','e']\n",
        "listdata2=['f','g','h','i','j']\n",
        "\n",
        "listdata3=listdata1+listdata2\n",
        "print('listdata3값:',listdata3)\n",
        "# 두 개의 리스트를 연결하여 새로운 리스트를 만드는 방법은 + 연산자를 이용해 두 개의 리스트를 더하면 됩니다."
      ],
      "metadata": {
        "colab": {
          "base_uri": "https://localhost:8080/"
        },
        "id": "j7Di4xfeMlZI",
        "outputId": "bf924dcf-d0e2-4fd5-d388-c0a5cac62fb7"
      },
      "execution_count": 14,
      "outputs": [
        {
          "output_type": "stream",
          "name": "stdout",
          "text": [
            "listdata3값: ['a', 'b', 'c', 'd', 'e', 'f', 'g', 'h', 'i', 'j']\n"
          ]
        }
      ]
    },
    {
      "cell_type": "code",
      "source": [
        "# 중급 108. 리스트 반복하기\n",
        "listdata=list(range(3))\n",
        "print('listdata값;',listdata)\n",
        "ret=listdata*3\n",
        "print('ret값:listdata 3번 반복',ret)\n",
        "\n",
        "# list*n= 리스트를 n번 반복하여 새로운 리스트를 만듭니다."
      ],
      "metadata": {
        "colab": {
          "base_uri": "https://localhost:8080/"
        },
        "id": "Tg6RyB5bMlbu",
        "outputId": "159aefd1-9960-4e9e-e61e-c4f77171b17a"
      },
      "execution_count": 15,
      "outputs": [
        {
          "output_type": "stream",
          "name": "stdout",
          "text": [
            "listdata값; [0, 1, 2]\n",
            "ret값:listdata 3번 반복 [0, 1, 2, 0, 1, 2, 0, 1, 2]\n"
          ]
        }
      ]
    },
    {
      "cell_type": "code",
      "source": [
        "# 중급 109. 리스트에 요소 추가하기\n",
        "listdata=[]\n",
        "for i in range(3):\n",
        "  txt=input('리스트에 추가할 값을 입력하세요. [%d/3]:' %(i+1))\n",
        "  listdata.append(txt)\n",
        "  print('listdata값:',listdata)\n",
        "\n",
        "# 리스트 객체의 append()메소드는 인자로 입력된 값을 리스트의 맨 마지막 요소로 추가합니다."
      ],
      "metadata": {
        "colab": {
          "base_uri": "https://localhost:8080/"
        },
        "id": "kEYXYKb3R_mz",
        "outputId": "55c38047-092e-481e-d2df-fc4ffc480920"
      },
      "execution_count": 18,
      "outputs": [
        {
          "output_type": "stream",
          "name": "stdout",
          "text": [
            "리스트에 추가할 값을 입력하세요. [1/3]:4\n",
            "listdata값: ['4']\n",
            "리스트에 추가할 값을 입력하세요. [2/3]:5\n",
            "listdata값: ['4', '5']\n",
            "리스트에 추가할 값을 입력하세요. [3/3]:5\n",
            "listdata값: ['4', '5', '5']\n"
          ]
        }
      ]
    },
    {
      "cell_type": "code",
      "source": [
        "# 중급 110. 리스트의 특정 위치에 요소 삽입하기\n",
        "solarsys=['태양','수성','금성','지구','화성','목성','토성','천왕성','해왕성','지구']\n",
        "pos=solarsys.index('목성')\n",
        "print('목성의 위치는?',pos)\n",
        "print('solarsys값:',solarsys)\n",
        "\n",
        "solarsys.insert(pos,'소행성')\n",
        "print('solarsys값:',solarsys)\n",
        "\n",
        "# 리스트 객체의 insert()메소드는 리스트의 특정 위치에 새로운 요소를 삽입합니다."
      ],
      "metadata": {
        "colab": {
          "base_uri": "https://localhost:8080/"
        },
        "id": "Z82PUHNGMleI",
        "outputId": "c8c79421-74de-4f0b-bdb1-c0644b7d4c0c"
      },
      "execution_count": 20,
      "outputs": [
        {
          "output_type": "stream",
          "name": "stdout",
          "text": [
            "목성의 위치는? 5\n",
            "solarsys값: ['태양', '수성', '금성', '지구', '화성', '목성', '토성', '천왕성', '해왕성', '지구']\n",
            "solarsys값: ['태양', '수성', '금성', '지구', '화성', '소행성', '목성', '토성', '천왕성', '해왕성', '지구']\n"
          ]
        }
      ]
    }
  ]
}